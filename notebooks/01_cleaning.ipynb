{
 "cells": [
  {
   "cell_type": "markdown",
   "id": "7b58c6ef",
   "metadata": {},
   "source": [
    "#### Gocery Store Data set cleaning\n",
    "\n",
    "Dataset: \n",
    "\n",
    "- _retail_grocery_dataset.zip_\n",
    "    - _products.csv_\n",
    "    - _suppliers.csv_\n",
    "    - _inventory.csv_\n",
    "    - _transaction.csv_\n",
    "    - _customers.csv_\n",
    "    - _salesforce.csv_\n",
    " \n",
    "Author: Luis Sergio Pastrana Lemus  \n",
    "Date: 2025-07-06"
   ]
  },
  {
   "cell_type": "markdown",
   "id": "ca32144c",
   "metadata": {},
   "source": [
    "# Data Cleaning – Retail Grocery Dataset"
   ]
  },
  {
   "cell_type": "markdown",
   "id": "1b9932f3",
   "metadata": {},
   "source": [
    "## __1. Libraries__."
   ]
  },
  {
   "cell_type": "code",
   "execution_count": null,
   "id": "25981453",
   "metadata": {},
   "outputs": [],
   "source": [
    "from pathlib import Path\n",
    "import sys\n",
    "\n",
    "# Define project root dynamically, gets the current directory from which the notebook belongs and moves one level upper\n",
    "project_root = Path.cwd().parent\n",
    "\n",
    "# Add src to sys.path if it is not already\n",
    "if str(project_root) not in sys.path:\n",
    "\n",
    "    sys.path.append(str(project_root))\n",
    "\n",
    "# Import function directly (more controlled than import *)\n",
    "from src import *\n",
    "\n",
    "\n",
    "from IPython.display import display, HTML\n",
    "import os\n",
    "import pandas as pd"
   ]
  },
  {
   "cell_type": "markdown",
   "id": "80a9b14e",
   "metadata": {},
   "source": [
    "## __2. Path to Data file__."
   ]
  },
  {
   "cell_type": "code",
   "execution_count": null,
   "id": "198282e9",
   "metadata": {},
   "outputs": [],
   "source": [
    "# Build route to data file and upload\n",
    "data_file_path = project_root / \"data\" / \"raw\" / \"retail_grocery_dataset.zip\"\n",
    "df_products = load_dataset_from_zip(data_file_path, \"products.csv\", sep=';', header='infer', decimal=',', keep_default_na=False)\n",
    "df_suppliers = load_dataset_from_zip(data_file_path, \"suppliers.csv\", sep='|', header='infer', decimal=',', keep_default_na=False)\n",
    "df_inventory = load_dataset_from_zip(data_file_path, \"inventory.csv\", header='infer', keep_default_na=False)\n",
    "df_transactions = load_dataset_from_zip(data_file_path, \"transactions.csv\", sep='\\t', header='infer', decimal=',', keep_default_na=False)\n",
    "df_customers = load_dataset_from_zip(data_file_path, \"customers.csv\", sep=';', header='infer', keep_default_na=False)\n",
    "df_salesforce = load_dataset_from_zip(data_file_path, \"salesforce.csv\", sep='|', header='infer', keep_default_na=False)\n"
   ]
  },
  {
   "cell_type": "markdown",
   "id": "c8293e31",
   "metadata": {},
   "source": [
    "##### `LSPL`\n",
    "\n",
    "**Note:** `keep_default_na=False` is used to later convert missing values to `pd.NA`.  \n",
    "This is beneficial because `pd.NA` provides:\n",
    "\n",
    "- Consistency across data types  \n",
    "- Type integrity preservation  \n",
    "- Cleaner logical operations  \n",
    "- Improved control over missing data\n",
    "\n",
    "Since high performance or heavy computation is not required here, using `pd.NA` is appropriate."
   ]
  },
  {
   "cell_type": "code",
   "execution_count": null,
   "id": "3edd5dd5",
   "metadata": {},
   "outputs": [],
   "source": [
    "# Format notebook output\n",
    "format_notebook()"
   ]
  },
  {
   "cell_type": "markdown",
   "id": "76255815",
   "metadata": {},
   "source": [
    "## __3. Data set cleaning__."
   ]
  },
  {
   "cell_type": "code",
   "execution_count": null,
   "id": "dd602d96",
   "metadata": {},
   "outputs": [],
   "source": [
    "df_products.info()"
   ]
  },
  {
   "cell_type": "code",
   "execution_count": null,
   "id": "04f1724e",
   "metadata": {},
   "outputs": [],
   "source": [
    "df_products"
   ]
  },
  {
   "cell_type": "code",
   "execution_count": null,
   "id": "75bdfe1e",
   "metadata": {},
   "outputs": [],
   "source": [
    "df_suppliers.info()"
   ]
  },
  {
   "cell_type": "code",
   "execution_count": null,
   "id": "5a0766ee",
   "metadata": {},
   "outputs": [],
   "source": [
    "df_suppliers"
   ]
  },
  {
   "cell_type": "code",
   "execution_count": null,
   "id": "efd97264",
   "metadata": {},
   "outputs": [],
   "source": [
    "df_inventory.info()"
   ]
  },
  {
   "cell_type": "code",
   "execution_count": null,
   "id": "8df30aa3",
   "metadata": {},
   "outputs": [],
   "source": [
    "df_inventory"
   ]
  },
  {
   "cell_type": "code",
   "execution_count": null,
   "id": "40eb84ec",
   "metadata": {},
   "outputs": [],
   "source": [
    "df_transactions.info()"
   ]
  },
  {
   "cell_type": "code",
   "execution_count": null,
   "id": "60901bd7",
   "metadata": {},
   "outputs": [],
   "source": [
    "df_transactions"
   ]
  },
  {
   "cell_type": "code",
   "execution_count": null,
   "id": "c589f7c7",
   "metadata": {},
   "outputs": [],
   "source": [
    "df_customers.info()"
   ]
  },
  {
   "cell_type": "code",
   "execution_count": null,
   "id": "d2a96f45",
   "metadata": {},
   "outputs": [],
   "source": [
    "df_customers"
   ]
  },
  {
   "cell_type": "code",
   "execution_count": null,
   "id": "ab0070bf",
   "metadata": {},
   "outputs": [],
   "source": [
    "df_salesforce.info()"
   ]
  },
  {
   "cell_type": "code",
   "execution_count": null,
   "id": "3e904e31",
   "metadata": {},
   "outputs": [],
   "source": [
    "df_salesforce"
   ]
  },
  {
   "cell_type": "markdown",
   "id": "9ecc42c7",
   "metadata": {},
   "source": [
    "### 3.1. Standardizing String values using \"snake case\"."
   ]
  },
  {
   "cell_type": "markdown",
   "id": "e009a930",
   "metadata": {},
   "source": [
    "#### 3.1.1 Standardizing Column Labels."
   ]
  },
  {
   "cell_type": "code",
   "execution_count": null,
   "id": "05669bd8",
   "metadata": {},
   "outputs": [],
   "source": [
    "# Standardize column labels with snake_case format\n",
    "df_products = normalize_columns_headers_format(df_products)\n",
    "df_products.columns"
   ]
  },
  {
   "cell_type": "code",
   "execution_count": null,
   "id": "9b5245e4",
   "metadata": {},
   "outputs": [],
   "source": [
    "df_suppliers = normalize_columns_headers_format(df_suppliers)\n",
    "df_suppliers.columns"
   ]
  },
  {
   "cell_type": "code",
   "execution_count": null,
   "id": "64ee2e20",
   "metadata": {},
   "outputs": [],
   "source": [
    "df_inventory = normalize_columns_headers_format(df_inventory)\n",
    "df_inventory.columns"
   ]
  },
  {
   "cell_type": "code",
   "execution_count": null,
   "id": "0a47a9b5",
   "metadata": {},
   "outputs": [],
   "source": [
    "df_transactions = normalize_columns_headers_format(df_transactions)\n",
    "df_transactions.columns"
   ]
  },
  {
   "cell_type": "code",
   "execution_count": null,
   "id": "b3f2c2dd",
   "metadata": {},
   "outputs": [],
   "source": [
    "df_customers = normalize_columns_headers_format(df_customers)\n",
    "df_customers.columns"
   ]
  },
  {
   "cell_type": "code",
   "execution_count": null,
   "id": "cf1cd63d",
   "metadata": {},
   "outputs": [],
   "source": [
    "df_salesforce = normalize_columns_headers_format(df_salesforce)\n",
    "df_salesforce.columns"
   ]
  },
  {
   "cell_type": "markdown",
   "id": "0cc7d74b",
   "metadata": {},
   "source": [
    "#### 3.1.2 Standardizing Dataframe String values."
   ]
  },
  {
   "cell_type": "code",
   "execution_count": null,
   "id": "3482a2aa",
   "metadata": {},
   "outputs": [],
   "source": [
    "# Standardize data frame string values with snake_case format\n",
    "df_products = normalize_string_format(df_products, include=['product_name', 'category', 'status', 'brand'])\n",
    "df_products.sample(5, random_state=333)"
   ]
  },
  {
   "cell_type": "code",
   "execution_count": null,
   "id": "307ef482",
   "metadata": {},
   "outputs": [],
   "source": [
    "df_suppliers = normalize_string_format(df_suppliers, include=['supplier_name'])\n",
    "df_suppliers.sample(5, random_state=333)"
   ]
  },
  {
   "cell_type": "code",
   "execution_count": null,
   "id": "6efdcd4f",
   "metadata": {},
   "outputs": [],
   "source": [
    "df_inventory.sample(5, random_state=333)"
   ]
  },
  {
   "cell_type": "code",
   "execution_count": null,
   "id": "e180d58c",
   "metadata": {},
   "outputs": [],
   "source": [
    "df_transactions.sample(5, random_state=333)"
   ]
  },
  {
   "cell_type": "code",
   "execution_count": null,
   "id": "4bc052a6",
   "metadata": {},
   "outputs": [],
   "source": [
    "df_customers = normalize_string_format(df_customers, include=['customer_name', 'segment'])\n",
    "df_customers.sample(5, random_state=333)"
   ]
  },
  {
   "cell_type": "code",
   "execution_count": null,
   "id": "e25ee813",
   "metadata": {},
   "outputs": [],
   "source": [
    "df_salesforce = normalize_string_format(df_salesforce, include=['employee_name'])\n",
    "df_salesforce.sample(5, random_state=333)"
   ]
  },
  {
   "cell_type": "markdown",
   "id": "0f4c8b22",
   "metadata": {},
   "source": [
    "##### `LSPL`\n",
    "\n",
    "**Note:** \n",
    "\n",
    "The column names and string values did not follow a consistent format; they contained spaces and capital letters, making them difficult to manipulate.\n",
    "\n",
    "__Solution__: Column names and string values were standardized using lowercase letters, removing spaces, and applying the snake_case format.   \n",
    "__Impact__: This facilitated data access and manipulation, improving readability and reducing errors in analysis."
   ]
  },
  {
   "cell_type": "markdown",
   "id": "61835131",
   "metadata": {},
   "source": [
    "### 3.2 Explicit duplicates."
   ]
  },
  {
   "cell_type": "code",
   "execution_count": null,
   "id": "b0c9d50f",
   "metadata": {},
   "outputs": [],
   "source": [
    "# Show explicit duplicates amount for \"df_products\"\n",
    "display(HTML(f\"> Explicit duplicates amount for Dataframe <i>'df_products'</i>: <b>{df_products.duplicated().sum()}</b>\"))\n",
    "display(HTML(f\"> Dataframe <i>'df_products'</i> size (rows, columns): <b>{df_products.shape}</b>\"))"
   ]
  },
  {
   "cell_type": "code",
   "execution_count": null,
   "id": "315cf4ac",
   "metadata": {},
   "outputs": [],
   "source": [
    "df_products = df_products.drop_duplicates()\n",
    "display(HTML(f\"> Dataframe <i>'df_products'</i> size (rows, columns): <b>{df_products.shape}</b>\"))"
   ]
  },
  {
   "cell_type": "code",
   "execution_count": null,
   "id": "522150a1",
   "metadata": {},
   "outputs": [],
   "source": [
    "# Show explicit duplicates amount for \"df_suppliers\"\n",
    "display(HTML(f\"> Explicit duplicates amount for Dataframe <i>'df_suppliers'</i>: <b>{df_suppliers.duplicated().sum()}</b>\"))\n",
    "display(HTML(f\"> Dataframe <i>'df_suppliers'</i> size (rows, columns): <b>{df_suppliers.shape}</b>\"))"
   ]
  },
  {
   "cell_type": "code",
   "execution_count": null,
   "id": "1a61876a",
   "metadata": {},
   "outputs": [],
   "source": [
    "df_suppliers = df_suppliers.drop_duplicates()\n",
    "display(HTML(f\"> Dataframe <i>'df_suppliers'</i> size (rows, columns): <b>{df_suppliers.shape}</b>\"))"
   ]
  },
  {
   "cell_type": "code",
   "execution_count": null,
   "id": "05e29a14",
   "metadata": {},
   "outputs": [],
   "source": [
    "# Show explicit duplicates amount for \"df_inventory\"\n",
    "display(HTML(f\"> Explicit duplicates amount for Dataframe <i>'df_inventory'</i>: <b>{df_inventory.duplicated().sum()}</b>\"))\n",
    "display(HTML(f\"> Dataframe <i>'df_inventory'</i> size (rows, columns): <b>{df_inventory.shape}</b>\"))"
   ]
  },
  {
   "cell_type": "code",
   "execution_count": null,
   "id": "c8fdac15",
   "metadata": {},
   "outputs": [],
   "source": [
    "df_inventory = df_inventory.drop_duplicates()\n",
    "display(HTML(f\"> Dataframe <i>'df_inventory'</i> size (rows, columns): <b>{df_inventory.shape}</b>\"))"
   ]
  },
  {
   "cell_type": "code",
   "execution_count": null,
   "id": "ff76854e",
   "metadata": {},
   "outputs": [],
   "source": [
    "# Show explicit duplicates amount for \"df_transactions\"\n",
    "display(HTML(f\"> Explicit duplicates amount for Dataframe <i>'df_transactions'</i>: <b>{df_transactions.duplicated().sum()}</b>\"))\n",
    "display(HTML(f\"> Dataframe <i>'df_transactions'</i> size (rows, columns): <b>{df_transactions.shape}</b>\"))"
   ]
  },
  {
   "cell_type": "code",
   "execution_count": null,
   "id": "f7f57842",
   "metadata": {},
   "outputs": [],
   "source": [
    "df_transactions = df_transactions.drop_duplicates()\n",
    "display(HTML(f\"> Dataframe <i>'df_transactions'</i> size (rows, columns): <b>{df_transactions.shape}</b>\"))"
   ]
  },
  {
   "cell_type": "code",
   "execution_count": null,
   "id": "f73f1b92",
   "metadata": {},
   "outputs": [],
   "source": [
    "# Show explicit duplicates amount for \"df_customers\"\n",
    "display(HTML(f\"> Explicit duplicates amount for Dataframe <i>'df_customers'</i>: <b>{df_customers.duplicated().sum()}</b>\"))\n",
    "display(HTML(f\"> Dataframe <i>'df_customers'</i> size (rows, columns): <b>{df_customers.shape}</b>\"))"
   ]
  },
  {
   "cell_type": "code",
   "execution_count": null,
   "id": "37a1ffa0",
   "metadata": {},
   "outputs": [],
   "source": [
    "df_customers = df_customers.drop_duplicates()\n",
    "display(HTML(f\"> Dataframe <i>'df_customers'</i> size (rows, columns): <b>{df_customers.shape}</b>\"))"
   ]
  },
  {
   "cell_type": "code",
   "execution_count": null,
   "id": "72f2bf81",
   "metadata": {},
   "outputs": [],
   "source": [
    "# Show explicit duplicates amount for \"df_sales_force\"\n",
    "display(HTML(f\"> Explicit duplicates amount for Dataframe <i>'df_salesforce'</i>: <b>{df_salesforce.duplicated().sum()}</b>\"))\n",
    "display(HTML(f\"> Dataframe <i>'df_salesforce'</i> size (rows, columns): <b>{df_salesforce.shape}</b>\"))"
   ]
  },
  {
   "cell_type": "code",
   "execution_count": null,
   "id": "1ca87f26",
   "metadata": {},
   "outputs": [],
   "source": [
    "df_salesforce = df_salesforce.drop_duplicates()\n",
    "display(HTML(f\"> Dataframe <i>'df_salesforce'</i> size (rows, columns): <b>{df_salesforce.shape}</b>\"))"
   ]
  },
  {
   "cell_type": "markdown",
   "id": "6ad10fbf",
   "metadata": {},
   "source": [
    "##### `LSPL`\n",
    "\n",
    "**Note:** \n",
    "\n",
    "- Explicit duplicates for dataframe 'df_products': 1556, were removed from dataset.   \n",
    "- Explicit duplicates for dataframe 'df_suppliers': 334, were removed from dataset.   \n",
    "- Explicit duplicates for dataframe 'df_inventory': 2610, were removed from dataset.   \n",
    "- Explicit duplicates for dataframe 'df_transactions': 1634, were removed from dataset.   \n",
    "- Explicit duplicates for dataframe 'df_customers': 433, were removed from dataset.   \n",
    "- Explicit duplicates for dataframe 'df_salesforce': 209, were removed from dataset.   "
   ]
  },
  {
   "cell_type": "markdown",
   "id": "9ac34c63",
   "metadata": {},
   "source": [
    "### 3.3 Missing values."
   ]
  },
  {
   "cell_type": "markdown",
   "id": "c4c13b8e",
   "metadata": {},
   "source": [
    "#### 3.3.1 Missing values check."
   ]
  },
  {
   "cell_type": "code",
   "execution_count": null,
   "id": "702c85b7",
   "metadata": {},
   "outputs": [],
   "source": [
    "# Show missing values\n",
    "check_existing_missing_values(df_products)"
   ]
  },
  {
   "cell_type": "code",
   "execution_count": null,
   "id": "762a83f8",
   "metadata": {},
   "outputs": [],
   "source": [
    "check_existing_missing_values(df_suppliers)"
   ]
  },
  {
   "cell_type": "code",
   "execution_count": null,
   "id": "8d796541",
   "metadata": {},
   "outputs": [],
   "source": [
    "check_existing_missing_values(df_inventory)"
   ]
  },
  {
   "cell_type": "code",
   "execution_count": null,
   "id": "e453bc77",
   "metadata": {},
   "outputs": [],
   "source": [
    "check_existing_missing_values(df_transactions)"
   ]
  },
  {
   "cell_type": "code",
   "execution_count": null,
   "id": "d99e0d8e",
   "metadata": {},
   "outputs": [],
   "source": [
    "check_existing_missing_values(df_customers)"
   ]
  },
  {
   "cell_type": "code",
   "execution_count": null,
   "id": "3a01cd9c",
   "metadata": {},
   "outputs": [],
   "source": [
    "check_existing_missing_values(df_salesforce)"
   ]
  },
  {
   "cell_type": "markdown",
   "id": "584ad852",
   "metadata": {},
   "source": [
    "##### `LSPL`\n",
    "\n",
    "**Note:** \n",
    "\n",
    "- Missing values for dataframe 'df_products':  \n",
    "    - 'unit_cost': 500 [''] were detected.   \n",
    "    - 'brand': 500 [''] were detected.\n",
    "\n",
    "- Missing values for dataframe 'df_inventory':\n",
    "    - 'warehouse_location': 400 [''] were detected.\n",
    "\n",
    "- Missing values for dataframe 'df_customers':\n",
    "    - 'total_spent': 150 [''] were detected.\n",
    "    - 'segment': 150 were detected.\n"
   ]
  },
  {
   "cell_type": "markdown",
   "id": "b06e035d",
   "metadata": {},
   "source": [
    "#### 3.3.2 Replacing missing values (pd.NA)."
   ]
  },
  {
   "cell_type": "code",
   "execution_count": null,
   "id": "ac29c2bc",
   "metadata": {},
   "outputs": [],
   "source": [
    "# Replace missing values with pd.NA\n",
    "df_products = replace_missing_values(df_products, include=['unit_cost', 'brand'])\n",
    "df_products"
   ]
  },
  {
   "cell_type": "code",
   "execution_count": null,
   "id": "3ebb783a",
   "metadata": {},
   "outputs": [],
   "source": [
    "df_inventory = replace_missing_values(df_inventory, include=['warehouse_location'])\n",
    "df_inventory"
   ]
  },
  {
   "cell_type": "code",
   "execution_count": null,
   "id": "0d31e089",
   "metadata": {},
   "outputs": [],
   "source": [
    "df_customers = replace_missing_values(df_customers, include=['total_spent', 'segment'])\n",
    "df_customers"
   ]
  },
  {
   "cell_type": "markdown",
   "id": "c916cd64",
   "metadata": {},
   "source": [
    "#### 3.3.3 Preview missing values."
   ]
  },
  {
   "cell_type": "code",
   "execution_count": null,
   "id": "d06fa1d4",
   "metadata": {},
   "outputs": [],
   "source": [
    "# Show missing values heatmap\n",
    "missing_values_heatmap(df_products)"
   ]
  },
  {
   "cell_type": "code",
   "execution_count": null,
   "id": "95b6d804",
   "metadata": {},
   "outputs": [],
   "source": [
    "# Show pd.NA missing values for 'unit_cost', 'brand' columns\n",
    "df_products.loc[(df_products['unit_cost'].isna()) | (df_products['brand'].isna()), :]"
   ]
  },
  {
   "cell_type": "code",
   "execution_count": null,
   "id": "c3290922",
   "metadata": {},
   "outputs": [],
   "source": [
    "# Show percentage of missing values within the dataset\n",
    "missing_values_rate(df_products, include=['unit_cost', 'brand'])"
   ]
  },
  {
   "cell_type": "code",
   "execution_count": null,
   "id": "171dfc87",
   "metadata": {},
   "outputs": [],
   "source": [
    "missing_values_heatmap(df_inventory)"
   ]
  },
  {
   "cell_type": "code",
   "execution_count": null,
   "id": "351117f0",
   "metadata": {},
   "outputs": [],
   "source": [
    "# Show pd.NA missing values for 'warehouse_location' column\n",
    "df_inventory.loc[(df_inventory['warehouse_location'].isna()), :]"
   ]
  },
  {
   "cell_type": "code",
   "execution_count": null,
   "id": "b9ca11ab",
   "metadata": {},
   "outputs": [],
   "source": [
    "# Show percentage of missing values within the dataset\n",
    "missing_values_rate(df_inventory, include=['warehouse_location'])"
   ]
  },
  {
   "cell_type": "code",
   "execution_count": null,
   "id": "5d9d6960",
   "metadata": {},
   "outputs": [],
   "source": [
    "missing_values_heatmap(df_customers)"
   ]
  },
  {
   "cell_type": "code",
   "execution_count": null,
   "id": "0e64494f",
   "metadata": {},
   "outputs": [],
   "source": [
    "# Show pd.NA missing values for 'total_spent', 'segment' columns\n",
    "df_customers.loc[(df_customers['total_spent'].isna()) | (df_customers['segment'].isna()), :]"
   ]
  },
  {
   "cell_type": "code",
   "execution_count": null,
   "id": "e6fcfc64",
   "metadata": {},
   "outputs": [],
   "source": [
    "# Show percentage of missing values within the dataset\n",
    "missing_values_rate(df_customers, include=['total_spent', 'segment'])"
   ]
  },
  {
   "cell_type": "markdown",
   "id": "af8d9979",
   "metadata": {},
   "source": [
    "### 3.4 Casting data types."
   ]
  },
  {
   "cell_type": "markdown",
   "id": "1025029e",
   "metadata": {},
   "source": [
    "#### 3.4.1 Casting to string data type."
   ]
  },
  {
   "cell_type": "code",
   "execution_count": null,
   "id": "bbf6fbf0",
   "metadata": {},
   "outputs": [],
   "source": [
    "# df_products 'product_name', 'brand', to string\n",
    "df_products = cast_datatypes(df_products, 'string', c_include=['product_name', 'brand'])\n",
    "\n",
    "print(df_products['product_name'].dtypes)\n",
    "print(df_products['brand'].dtypes)"
   ]
  },
  {
   "cell_type": "code",
   "execution_count": null,
   "id": "1500ad7d",
   "metadata": {},
   "outputs": [],
   "source": [
    "# df_suppliers 'supplier_name', 'contact_info', to string\n",
    "df_suppliers = cast_datatypes(df_suppliers, 'string', c_include=['supplier_name', 'contact_info'])\n",
    "\n",
    "print(df_suppliers['supplier_name'].dtypes)\n",
    "print(df_suppliers['contact_info'].dtypes)"
   ]
  },
  {
   "cell_type": "code",
   "execution_count": null,
   "id": "991e7126",
   "metadata": {},
   "outputs": [],
   "source": [
    "# df_customers 'customer_name', to string\n",
    "df_customers = cast_datatypes(df_customers, 'string', c_include=['customer_name'])\n",
    "\n",
    "print(df_customers['customer_name'].dtypes)"
   ]
  },
  {
   "cell_type": "code",
   "execution_count": null,
   "id": "646da003",
   "metadata": {},
   "outputs": [],
   "source": [
    "# df_salesforce 'employee_name', to string\n",
    "df_salesforce = cast_datatypes(df_salesforce, 'string', c_include=['employee_name'])\n",
    "\n",
    "print(df_salesforce['employee_name'].dtypes)"
   ]
  },
  {
   "cell_type": "markdown",
   "id": "4b3df167",
   "metadata": {},
   "source": [
    "#### 3.4.2 Casting to numeric data type."
   ]
  },
  {
   "cell_type": "code",
   "execution_count": null,
   "id": "0894d296",
   "metadata": {},
   "outputs": [],
   "source": [
    "# df_products 'unit_cost', to Float64\n",
    "df_products = cast_datatypes(df_products, 'numeric', numeric_type='Float64', c_include=['unit_cost'])\n",
    "\n",
    "print(df_products['unit_cost'].dtypes)\n"
   ]
  },
  {
   "cell_type": "code",
   "execution_count": null,
   "id": "ce17c29b",
   "metadata": {},
   "outputs": [],
   "source": [
    "# df_customers 'total_spent', to Float64\n",
    "df_customers = cast_datatypes(df_customers, 'numeric', numeric_type=\"Float64\", c_include=['total_spent'])\n",
    "\n",
    "print(df_customers['total_spent'].dtypes)"
   ]
  },
  {
   "cell_type": "markdown",
   "id": "a0aded67",
   "metadata": {},
   "source": [
    "#### 3.4.3 Casting to category data type."
   ]
  },
  {
   "cell_type": "code",
   "execution_count": null,
   "id": "79c89555",
   "metadata": {},
   "outputs": [],
   "source": [
    "# df_products 'category', 'status',  to category\n",
    "df_products = cast_datatypes(df_products, 'category', c_include=['category', 'status'])\n",
    "\n",
    "print(df_products['category'].dtypes)\n",
    "print(df_products['status'].dtypes)"
   ]
  },
  {
   "cell_type": "code",
   "execution_count": null,
   "id": "b8c63eb9",
   "metadata": {},
   "outputs": [],
   "source": [
    "# df_inventory 'warehouse_location',  to category\n",
    "df_inventory = cast_datatypes(df_inventory, 'category', c_include=['warehouse_location'])\n",
    "\n",
    "print(df_inventory['warehouse_location'].dtypes)"
   ]
  },
  {
   "cell_type": "code",
   "execution_count": null,
   "id": "fe93b7fd",
   "metadata": {},
   "outputs": [],
   "source": [
    "# df_customers 'segment',  to category\n",
    "df_customers = cast_datatypes(df_customers, 'category', c_include=['segment'])\n",
    "\n",
    "print(df_customers['segment'].dtypes)"
   ]
  },
  {
   "cell_type": "code",
   "execution_count": null,
   "id": "29a8dcf3",
   "metadata": {},
   "outputs": [],
   "source": [
    "# df_salesforce 'region',  to category\n",
    "df_salesforce = cast_datatypes(df_salesforce, 'category', c_include=['region'])\n",
    "\n",
    "print(df_salesforce['region'].dtypes)"
   ]
  },
  {
   "cell_type": "markdown",
   "id": "5b781e11",
   "metadata": {},
   "source": [
    "#### 3.4.4 Casting to boolean data type."
   ]
  },
  {
   "cell_type": "code",
   "execution_count": null,
   "id": "91a69452",
   "metadata": {},
   "outputs": [],
   "source": [
    "# NA"
   ]
  },
  {
   "cell_type": "markdown",
   "id": "8f0225b7",
   "metadata": {},
   "source": [
    "#### 3.4.5 Casting to datetime data type."
   ]
  },
  {
   "cell_type": "code",
   "execution_count": null,
   "id": "9928fb39",
   "metadata": {},
   "outputs": [],
   "source": [
    "# df_inventory 'date' to datetime\n",
    "cast_datatypes(df_inventory, 'datetime', date_format='%Y-%m-%d', c_time_zone='US/Pacific', c_include=['date'])\n",
    "\n",
    "print(df_inventory['date'].dtypes)"
   ]
  },
  {
   "cell_type": "code",
   "execution_count": null,
   "id": "03fde898",
   "metadata": {},
   "outputs": [],
   "source": [
    "# df_customers 'join_date' to datetime\n",
    "cast_datatypes(df_customers, 'datetime', date_format='%Y-%m-%d', c_time_zone='US/Pacific', c_include=['join_date'])\n",
    "\n",
    "print(df_customers['join_date'].dtypes)"
   ]
  },
  {
   "cell_type": "markdown",
   "id": "e959c190",
   "metadata": {},
   "source": [
    "### 3.5  Missing values data imputation."
   ]
  },
  {
   "cell_type": "markdown",
   "id": "e00c7e9f",
   "metadata": {},
   "source": [
    "#### 3.5.1 Missing values data imputation for df_products column 'unit_cost'."
   ]
  },
  {
   "cell_type": "code",
   "execution_count": null,
   "id": "eb3a8620",
   "metadata": {},
   "outputs": [],
   "source": [
    "# Handle df_products pd.NA missing values within 'unit_cost' column\n",
    "# To estimate missing values in the 'unit_cost' column, we leverage the relationship between 'list_price' and 'unit_cost'.\n",
    "# We first calculate the average markup ratio (list_price / unit_cost) using existing data,\n",
    "# stratified by key product characteristics: 'product_name' and 'category', 'category' and 'brand'.\n",
    "# This grouped average represents the typical revenue percentage applied to the unit cost for similar products.\n",
    "# Missing 'unit_cost' values are then imputed by reversing the markup formula:\n",
    "#     unit_cost = list_price / average_markup\n",
    "# This approach ensures more accurate imputation by reflecting pricing patterns specific to each product segment."
   ]
  },
  {
   "cell_type": "code",
   "execution_count": null,
   "id": "3e77cfb4",
   "metadata": {},
   "outputs": [],
   "source": [
    "df_uc_imp = df_products.dropna(subset=['unit_cost', 'list_price']).copy()\n",
    "df_uc_imp['markup_ratio'] = df_uc_imp['list_price'] / df_uc_imp['unit_cost']\n",
    "df_uc_imp"
   ]
  },
  {
   "cell_type": "code",
   "execution_count": null,
   "id": "ee1f2366",
   "metadata": {},
   "outputs": [],
   "source": [
    "# Stratification by key product characteristics: 'product_name' and 'category'.\n",
    "df_markup_by_group = (df_uc_imp.groupby(['product_name', 'category'], observed=True)['markup_ratio'].mean()\n",
    "                      .reset_index(name='avg_markup_ratio'))\n",
    "df_markup_by_group"
   ]
  },
  {
   "cell_type": "code",
   "execution_count": null,
   "id": "878e1507",
   "metadata": {},
   "outputs": [],
   "source": [
    "df_products = df_products.merge(df_markup_by_group, how='left', on=['product_name', 'category'])\n",
    "df_products"
   ]
  },
  {
   "cell_type": "code",
   "execution_count": null,
   "id": "e41fa8f0",
   "metadata": {},
   "outputs": [],
   "source": [
    "df_products['unit_cost'] = df_products.apply(lambda row: row['list_price'] / row['avg_markup_ratio'] if pd.isna(row['unit_cost']) and \n",
    "                                             pd.notna(row['list_price']) and pd.notna(row['avg_markup_ratio']) else row['unit_cost'],\n",
    "                                             axis=1)\n",
    "df_products = df_products.drop(columns='avg_markup_ratio')\n",
    "df_products"
   ]
  },
  {
   "cell_type": "code",
   "execution_count": null,
   "id": "f76fddfd",
   "metadata": {},
   "outputs": [],
   "source": [
    "# Stratification by key product characteristics: 'category' and 'brand'.\n",
    "df_markup_by_group = (df_uc_imp.groupby(['category', 'brand'], observed=True)['markup_ratio'].mean()\n",
    "                      .reset_index(name='avg_markup_ratio'))\n",
    "df_markup_by_group"
   ]
  },
  {
   "cell_type": "code",
   "execution_count": null,
   "id": "cee60a79",
   "metadata": {},
   "outputs": [],
   "source": [
    "df_products = df_products.merge(df_markup_by_group, how='left', on=['category', 'brand'])\n",
    "df_products"
   ]
  },
  {
   "cell_type": "code",
   "execution_count": null,
   "id": "3c80f4cb",
   "metadata": {},
   "outputs": [],
   "source": [
    "df_products['unit_cost'] = df_products.apply(lambda row: row['list_price'] / row['avg_markup_ratio'] if pd.isna(row['unit_cost']) and \n",
    "                                             pd.notna(row['list_price']) and pd.notna(row['avg_markup_ratio']) else row['unit_cost'],\n",
    "                                             axis=1)\n",
    "df_products = df_products.drop(columns='avg_markup_ratio')\n",
    "df_products"
   ]
  },
  {
   "cell_type": "code",
   "execution_count": null,
   "id": "b5a99de1",
   "metadata": {},
   "outputs": [],
   "source": [
    "# Stratification by key product characteristics: 'category'.\n",
    "df_products = cast_datatypes(df_products, 'numeric', numeric_type=\"Float64\", c_include=['unit_cost'])\n",
    "df_products"
   ]
  },
  {
   "cell_type": "code",
   "execution_count": null,
   "id": "7891f7da",
   "metadata": {},
   "outputs": [],
   "source": [
    "df_products['unit_cost'].describe()"
   ]
  },
  {
   "cell_type": "code",
   "execution_count": null,
   "id": "a64b43dd",
   "metadata": {},
   "outputs": [],
   "source": [
    "evaluate_central_trend(df_products, 'unit_cost')"
   ]
  },
  {
   "cell_type": "code",
   "execution_count": null,
   "id": "3c0bb7ed",
   "metadata": {},
   "outputs": [],
   "source": [
    "df_category_median_cost = (df_products.groupby('category', observed=True)['unit_cost'].median().reset_index(name='median_unit_cost'))\n",
    "df_category_median_cost"
   ]
  },
  {
   "cell_type": "code",
   "execution_count": null,
   "id": "942c66a7",
   "metadata": {},
   "outputs": [],
   "source": [
    "df_products = df_products.merge(df_category_median_cost, how='left', on='category')\n",
    "df_products"
   ]
  },
  {
   "cell_type": "code",
   "execution_count": null,
   "id": "452e7024",
   "metadata": {},
   "outputs": [],
   "source": [
    "df_products['unit_cost'] = df_products.apply(lambda row: row['median_unit_cost'] if pd.isna(row['unit_cost']) else row['unit_cost'],\n",
    "                                             axis=1)\n",
    "df_products"
   ]
  },
  {
   "cell_type": "code",
   "execution_count": null,
   "id": "09e4b893",
   "metadata": {},
   "outputs": [],
   "source": [
    "df_product = df_products.drop(columns='median_unit_cost')\n",
    "df_products"
   ]
  },
  {
   "cell_type": "markdown",
   "id": "bfde4511",
   "metadata": {},
   "source": [
    "##### `LSPL`\n",
    "\n",
    "**Note:**\n",
    "\n",
    "- Missing values in __df_products__, _'unit_cost'_ column\n",
    "\n",
    "Missing values in the `unit_cost` column were initially present in approximately **5%** of the products. These gaps can significantly affect financial indicators such as gross margin, inventory valuation, and pricing analysis.\n",
    "\n",
    "__Solution__: All missing values in `unit_cost` were imputed using a **three-level stratified markup ratio strategy**. First, we calculated average markup ratios based on `'product_name'` and `'category'`. Second, the rest of the missing values that couldn't be matched, , it was used a broader grouping based on `'category'` and `'brand'`. Third, any other remaining missing values (~3%) were imputed using the **median unit cost by `category`**, ensuring robust and context-aware estimates.\n",
    "\n",
    "__Impact__: This approach helped ensure **100% completeness** of the `unit_cost` column. It supports accurate profitability analysis, cost modeling, and business decision-making. Using stratified and statistically robust imputation helps preserve business logic and prevents misleading insights due to arbitrary or uniform imputation (e.g., using 0s).\n"
   ]
  },
  {
   "cell_type": "markdown",
   "id": "105cb0a9",
   "metadata": {},
   "source": [
    "#### 3.5.2 Missing values data imputation for df_products column 'brand'."
   ]
  },
  {
   "cell_type": "code",
   "execution_count": null,
   "id": "25ee5e09",
   "metadata": {},
   "outputs": [],
   "source": [
    "# Missing values imputation for 'brand' column with 'unknown' \n",
    "df_products['brand'] = df_products['brand'].fillna(\"unknown\")\n",
    "df_products"
   ]
  },
  {
   "cell_type": "markdown",
   "id": "ebb7ba08",
   "metadata": {},
   "source": [
    "##### `LSPL`\n",
    "\n",
    "**Note:**  \n",
    "\n",
    "1. Missing values in __df_products__, _'brand'_ column\n",
    "\n",
    "Missing values in the `brand` column occur in approximately **5%** of the dataset (500 out of 10,000 rows). Since `brand` is a high-cardinality categorical feature closely tied to `product_name`, and given that `product_name` is not unique across rows (only 8,241 unique values out of 10,000), there's no reliable reference to safely impute this field without risking data distortion.\n",
    "\n",
    "__Solution__: All missing values in `brand` will be imputed as, `\"unknown\"` for visualization purposes but not for modeling or relational joins.\n",
    "\n",
    "__Impact__: Preserving the missing values adn identified as `\"unknown\"` ensures that no incorrect brand associations are introduced. This approach protects the quality of product-vendor analyses, brand-level performance metrics, and any downstream processes that rely on accurate brand identification.\n"
   ]
  },
  {
   "cell_type": "markdown",
   "id": "87a5d192",
   "metadata": {},
   "source": [
    "#### 3.5.3 Missing values data imputation for df_inventory column 'warehouse_location'."
   ]
  },
  {
   "cell_type": "code",
   "execution_count": null,
   "id": "c7a11c33",
   "metadata": {},
   "outputs": [],
   "source": [
    "# Check relations between df_transactions['product_id', 'units_sold', 'employee_id'], df_salesforce['employee_id', 'region'], \n",
    "# df_inventory['product_id', 'warehouse_location']\n",
    "\n",
    "df_salesforce_empid_reg = df_salesforce.loc[:, ['employee_id', 'region']].drop_duplicates()\n",
    "df_salesforce_empid_reg "
   ]
  },
  {
   "cell_type": "code",
   "execution_count": null,
   "id": "97d154e0",
   "metadata": {},
   "outputs": [],
   "source": [
    "df_transactions_prodid_sld_empid = df_transactions.loc[~(df_transactions['units_sold'].isna()) & (df_transactions['units_sold'] > 0), ['product_id', 'employee_id']]\n",
    "df_transactions_prodid_sld_empid"
   ]
  },
  {
   "cell_type": "code",
   "execution_count": null,
   "id": "27f344c9",
   "metadata": {},
   "outputs": [],
   "source": [
    "df_trans_sales = df_transactions_prodid_sld_empid.merge(df_salesforce_empid_reg, on='employee_id', how='left')\n",
    "df_trans_sales"
   ]
  },
  {
   "cell_type": "code",
   "execution_count": null,
   "id": "0f226831",
   "metadata": {},
   "outputs": [],
   "source": [
    "df_inventory_prodid_whloc = df_inventory.loc[(df_inventory['warehouse_location'].isna()), ['product_id', 'warehouse_location']]\n",
    "df_inventory_prodid_whloc"
   ]
  },
  {
   "cell_type": "code",
   "execution_count": null,
   "id": "1f495218",
   "metadata": {},
   "outputs": [],
   "source": [
    "df_inventory_prodid_whloc = df_inventory_prodid_whloc.merge(df_trans_sales, on='product_id', how='left')\n",
    "df_inventory_prodid_whloc"
   ]
  },
  {
   "cell_type": "code",
   "execution_count": null,
   "id": "871a8253",
   "metadata": {},
   "outputs": [],
   "source": [
    "region_counts = (df_inventory_prodid_whloc.groupby('product_id')['region'].nunique().reset_index(name='unique_region_count'))\n",
    "region_counts"
   ]
  },
  {
   "cell_type": "code",
   "execution_count": null,
   "id": "7bc14b2f",
   "metadata": {},
   "outputs": [],
   "source": [
    "region_counts = region_counts.loc[region_counts['unique_region_count'] == 1, 'product_id']\n",
    "region_counts"
   ]
  },
  {
   "cell_type": "code",
   "execution_count": null,
   "id": "5c066e67",
   "metadata": {},
   "outputs": [],
   "source": [
    "region_counts"
   ]
  },
  {
   "cell_type": "code",
   "execution_count": null,
   "id": "5dad5f97",
   "metadata": {},
   "outputs": [],
   "source": [
    "df_inventory_prodid_whloc = df_inventory_prodid_whloc[df_inventory_prodid_whloc['product_id'].isin(region_counts)]\n",
    "df_inventory_prodid_whloc"
   ]
  },
  {
   "cell_type": "code",
   "execution_count": null,
   "id": "b5346dea",
   "metadata": {},
   "outputs": [],
   "source": [
    "df_inventory_prodid_whloc = df_inventory_prodid_whloc[~df_inventory_prodid_whloc.duplicated(subset=['product_id'], keep=False)]\n",
    "df_inventory_prodid_whloc = df_inventory_prodid_whloc.drop(columns=['warehouse_location', 'employee_id'])\n",
    "df_inventory_prodid_whloc"
   ]
  },
  {
   "cell_type": "code",
   "execution_count": null,
   "id": "592a7a63",
   "metadata": {},
   "outputs": [],
   "source": [
    "df_inventory = df_inventory.merge(df_inventory_prodid_whloc, on='prod_id')"
   ]
  },
  {
   "cell_type": "markdown",
   "id": "20e36a3f",
   "metadata": {},
   "source": [
    "##### `LSPL`\n",
    "\n",
    "**Note:** \n",
    "\n",
    "1. Missing values in __df_xxx__, _'column_name'_ column\n",
    "\n",
    "Missing values in the `column_name` column occur ...\n",
    "\n",
    "__Solution__: All missing values in `columns_name` will be ....\n",
    "\n",
    "__Impact__: Identifying users with pd.NA, will help ...\n",
    "\n"
   ]
  },
  {
   "cell_type": "markdown",
   "id": "33af8b36",
   "metadata": {},
   "source": [
    "### 3.6 Implicit duplicates."
   ]
  },
  {
   "cell_type": "markdown",
   "id": "9db00f22",
   "metadata": {},
   "source": [
    "#### 3.6.1 Implicit duplicates check."
   ]
  },
  {
   "cell_type": "code",
   "execution_count": null,
   "id": "a4aa4ca1",
   "metadata": {},
   "outputs": [],
   "source": [
    "# Show implicit duplicates df_aisles\n",
    "detect_implicit_duplicates_fuzzy(df_xxx, 'column_name')"
   ]
  },
  {
   "cell_type": "markdown",
   "id": "a82bd0b0",
   "metadata": {},
   "source": [
    "#### 3.6.2 Implicit duplicates data imputation."
   ]
  },
  {
   "cell_type": "code",
   "execution_count": null,
   "id": "1797a4f8",
   "metadata": {},
   "outputs": [],
   "source": [
    "# Imputation"
   ]
  },
  {
   "cell_type": "markdown",
   "id": "2e05402a",
   "metadata": {},
   "source": [
    "## __4. Final cleaning dataframe review__."
   ]
  },
  {
   "cell_type": "code",
   "execution_count": null,
   "id": "f65c3ff3",
   "metadata": {},
   "outputs": [],
   "source": [
    "df_xxx.info()"
   ]
  },
  {
   "cell_type": "markdown",
   "id": "d1c7b3ee",
   "metadata": {},
   "source": [
    "## __5. Generate a new clean Data set .csv file__."
   ]
  },
  {
   "cell_type": "code",
   "execution_count": null,
   "id": "594c9231",
   "metadata": {},
   "outputs": [],
   "source": [
    "project_root = Path.cwd().parent\n",
    "processed_path = project_root / \"data\" / \"processed\" / \"clean\" / \"_clean.csv\"\n",
    "df_xxx.to_csv(processed_path, index=False)"
   ]
  }
 ],
 "metadata": {
  "kernelspec": {
   "display_name": "base",
   "language": "python",
   "name": "python3"
  },
  "language_info": {
   "codemirror_mode": {
    "name": "ipython",
    "version": 3
   },
   "file_extension": ".py",
   "mimetype": "text/x-python",
   "name": "python",
   "nbconvert_exporter": "python",
   "pygments_lexer": "ipython3",
   "version": "3.12.7"
  }
 },
 "nbformat": 4,
 "nbformat_minor": 5
}
