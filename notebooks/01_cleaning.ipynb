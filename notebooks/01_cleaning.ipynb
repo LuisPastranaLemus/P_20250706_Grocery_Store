{
 "cells": [
  {
   "cell_type": "markdown",
   "id": "7b58c6ef",
   "metadata": {},
   "source": [
    "#### Gocery Store Data set cleaning\n",
    "\n",
    "Dataset: \n",
    "\n",
    "- _retail_grocery_dataset.zip_\n",
    "    - _products.csv_\n",
    "    - _suppliers.csv_\n",
    "    - _inventory.csv_\n",
    "    - _transaction.csv_\n",
    "    - _customers.csv_\n",
    "    - _salesforce.csv_\n",
    " \n",
    "Author: Luis Sergio Pastrana Lemus  \n",
    "Date: 2025-07-06"
   ]
  },
  {
   "cell_type": "markdown",
   "id": "ca32144c",
   "metadata": {},
   "source": [
    "# Data Cleaning – Retail Grocery Dataset"
   ]
  },
  {
   "cell_type": "markdown",
   "id": "1b9932f3",
   "metadata": {},
   "source": [
    "## __1. Libraries__."
   ]
  },
  {
   "cell_type": "code",
   "execution_count": 1,
   "id": "25981453",
   "metadata": {},
   "outputs": [],
   "source": [
    "from pathlib import Path\n",
    "import sys\n",
    "\n",
    "# Define project root dynamically, gets the current directory from which the notebook belongs and moves one level upper\n",
    "project_root = Path.cwd().parent\n",
    "\n",
    "# Add src to sys.path if it is not already\n",
    "if str(project_root) not in sys.path:\n",
    "\n",
    "    sys.path.append(str(project_root))\n",
    "\n",
    "# Import function directly (more controlled than import *)\n",
    "from src import *\n",
    "\n",
    "\n",
    "from IPython.display import display, HTML\n",
    "import os\n",
    "import pandas as pd"
   ]
  },
  {
   "cell_type": "markdown",
   "id": "80a9b14e",
   "metadata": {},
   "source": [
    "## __2. Path to Data file__."
   ]
  },
  {
   "cell_type": "code",
   "execution_count": 2,
   "id": "198282e9",
   "metadata": {},
   "outputs": [],
   "source": [
    "# Build route to data file and upload\n",
    "data_file_path = project_root / \"data\" / \"raw\" / \"retail_grocery_dataset.zip\"\n",
    "df_products = load_dataset_from_zip(data_file_path, \"products.csv\", sep=';', header='infer', decimal=',', keep_default_na=False)\n",
    "df_suppliers = load_dataset_from_zip(data_file_path, \"suppliers.csv\", sep='|', header='infer', decimal=',', keep_default_na=False)\n",
    "df_inventory = load_dataset_from_zip(data_file_path, \"inventory.csv\", header='infer', keep_default_na=False)\n",
    "df_transactions = load_dataset_from_zip(data_file_path, \"transactions.csv\", sep='\\t', header='infer', decimal=',', keep_default_na=False)\n",
    "df_customers = load_dataset_from_zip(data_file_path, \"customers.csv\", sep=';', header='infer', keep_default_na=False)\n",
    "df_salesforce = load_dataset_from_zip(data_file_path, \"salesforce.csv\", sep='|', header='infer', keep_default_na=False)\n"
   ]
  },
  {
   "cell_type": "markdown",
   "id": "c8293e31",
   "metadata": {},
   "source": [
    "##### `LSPL`\n",
    "\n",
    "**Note:** `keep_default_na=False` is used to later convert missing values to `pd.NA`.  \n",
    "This is beneficial because `pd.NA` provides:\n",
    "\n",
    "- Consistency across data types  \n",
    "- Type integrity preservation  \n",
    "- Cleaner logical operations  \n",
    "- Improved control over missing data\n",
    "\n",
    "Since high performance or heavy computation is not required here, using `pd.NA` is appropriate."
   ]
  },
  {
   "cell_type": "code",
   "execution_count": 3,
   "id": "3edd5dd5",
   "metadata": {},
   "outputs": [],
   "source": [
    "# Format notebook output\n",
    "format_notebook()"
   ]
  },
  {
   "cell_type": "markdown",
   "id": "76255815",
   "metadata": {},
   "source": [
    "## __3. Data set cleaning__."
   ]
  },
  {
   "cell_type": "code",
   "execution_count": 4,
   "id": "dd602d96",
   "metadata": {},
   "outputs": [
    {
     "name": "stdout",
     "output_type": "stream",
     "text": [
      "<class 'pandas.core.frame.DataFrame'>\n",
      "RangeIndex: 11556 entries, 0 to 11555\n",
      "Data columns (total 8 columns):\n",
      " #   Column        Non-Null Count  Dtype  \n",
      "---  ------        --------------  -----  \n",
      " 0   product_id    11556 non-null  int64  \n",
      " 1   product_name  11556 non-null  object \n",
      " 2   category      11556 non-null  object \n",
      " 3   supplier_id   11556 non-null  int64  \n",
      " 4   unit_cost     11556 non-null  object \n",
      " 5   status        11556 non-null  object \n",
      " 6   brand         11556 non-null  object \n",
      " 7   list_price    11556 non-null  float64\n",
      "dtypes: float64(1), int64(2), object(5)\n",
      "memory usage: 722.4+ KB\n"
     ]
    }
   ],
   "source": [
    "df_products.info()"
   ]
  },
  {
   "cell_type": "code",
   "execution_count": 5,
   "id": "04f1724e",
   "metadata": {},
   "outputs": [
    {
     "data": {
      "application/vnd.microsoft.datawrangler.viewer.v0+json": {
       "columns": [
        {
         "name": "index",
         "rawType": "int64",
         "type": "integer"
        },
        {
         "name": "product_id",
         "rawType": "int64",
         "type": "integer"
        },
        {
         "name": "product_name",
         "rawType": "object",
         "type": "string"
        },
        {
         "name": "category",
         "rawType": "object",
         "type": "string"
        },
        {
         "name": "supplier_id",
         "rawType": "int64",
         "type": "integer"
        },
        {
         "name": "unit_cost",
         "rawType": "object",
         "type": "string"
        },
        {
         "name": "status",
         "rawType": "object",
         "type": "string"
        },
        {
         "name": "brand",
         "rawType": "object",
         "type": "string"
        },
        {
         "name": "list_price",
         "rawType": "float64",
         "type": "float"
        }
       ],
       "ref": "810b64c5-e976-4276-81d2-53bac2d34e30",
       "rows": [
        [
         "0",
         "1",
         "Use Bakery",
         "Bakery",
         "1664",
         "4,58",
         "Active",
         "Warren-Foster",
         "5.99"
        ],
        [
         "1",
         "2",
         "Thank Frozen Foods",
         "Dairy",
         "1662",
         "5,43",
         "Backordered",
         "Evans and Sons",
         "7.03"
        ],
        [
         "2",
         "3",
         "Customer Produce",
         "Beverages",
         "917",
         "1,83",
         "Backordered",
         "Newman and Sons",
         "2.73"
        ],
        [
         "3",
         "4",
         "Sign Dairy",
         "Produce",
         "268",
         "8,99",
         "Active",
         "Mclaughlin-Little",
         "14.17"
        ],
        [
         "4",
         "5",
         "Place Frozen Foods",
         "Bakery",
         "964",
         "73,3",
         "Backordered",
         "Leblanc, James and Thompson",
         "11.08"
        ],
        [
         "5",
         "6",
         "Voice Produce",
         "Beverages",
         "169",
         "15,16",
         "Backordered",
         "Howard, Jones and Ashley",
         "18.28"
        ],
        [
         "6",
         "7",
         "Home Produce",
         "Bakery",
         "911",
         "",
         "Backordered",
         "",
         "2.98"
        ],
        [
         "7",
         "8",
         "Care Dairy",
         "Beverages",
         "1628",
         "18,64",
         "Active",
         "",
         "26.67"
        ],
        [
         "8",
         "9",
         "Add Bakery",
         "Snacks",
         "1115",
         "14,86",
         "Backordered",
         "Johnston, Gross and Ellis",
         "22.15"
        ],
        [
         "9",
         "10",
         "Tell Snacks",
         "Snacks",
         "938",
         "12,9",
         "Backordered",
         "Edwards, Horne and Soto",
         "21.07"
        ],
        [
         "10",
         "11",
         "Mention Produce",
         "Frozen Foods",
         "1701",
         "14,25",
         "Discontinued",
         "Fowler LLC",
         "20.19"
        ],
        [
         "11",
         "12",
         "Least Produce",
         "Produce",
         "209",
         "7,91",
         "Backordered",
         "Garcia-Williams",
         "12.59"
        ],
        [
         "12",
         "13",
         "Situation Dairy",
         "Frozen Foods",
         "818",
         "6,5",
         "Active",
         "Washington Inc",
         "10.9"
        ],
        [
         "13",
         "14",
         "Parent Snacks",
         "Beverages",
         "441",
         "13,88",
         "Active",
         "Villanueva, Williams and Green",
         "18.7"
        ],
        [
         "14",
         "15",
         "Party Dairy",
         "Snacks",
         "1696",
         "13,16",
         "Active",
         "Ramos Inc",
         "19.24"
        ],
        [
         "15",
         "16",
         "You Bakery",
         "Snacks",
         "261",
         "9,42",
         "Active",
         "King, Lewis and Edwards",
         "12.34"
        ],
        [
         "16",
         "17",
         "Reason Snacks",
         "Frozen Foods",
         "942",
         "16,09",
         "Discontinued",
         "Kidd, Oliver and Williams",
         "22.9"
        ],
        [
         "17",
         "18",
         "Since Beverages",
         "Frozen Foods",
         "396",
         "4,21",
         "Active",
         "Grant-Franklin",
         "6.95"
        ],
        [
         "18",
         "19",
         "Mouth Produce",
         "Beverages",
         "1810",
         "5,77",
         "Discontinued",
         "Garcia, Goodman and Weaver",
         "7.3"
        ],
        [
         "19",
         "20",
         "Movement Snacks",
         "Snacks",
         "1098",
         "",
         "Backordered",
         "West-Christensen",
         "13.46"
        ],
        [
         "20",
         "21",
         "Get Snacks",
         "Beverages",
         "1150",
         "12,16",
         "Backordered",
         "",
         "15.5"
        ],
        [
         "21",
         "22",
         "Break Beverages",
         "Dairy",
         "1204",
         "6,99",
         "Discontinued",
         "Collins, Wells and Christian",
         "8.92"
        ],
        [
         "22",
         "23",
         "Popular Produce",
         "Bakery",
         "762",
         "6,15",
         "Backordered",
         "",
         "10.04"
        ],
        [
         "23",
         "24",
         "Idea Beverages",
         "Dairy",
         "782",
         "7,82",
         "Active",
         "Smith PLC",
         "13.87"
        ],
        [
         "24",
         "25",
         "Add Frozen Foods",
         "Bakery",
         "769",
         "",
         "Discontinued",
         "Cooke, Hayes and Olson",
         "14.68"
        ],
        [
         "25",
         "26",
         "Finish Beverages",
         "Produce",
         "1869",
         "8,69",
         "Discontinued",
         "Hernandez and Sons",
         "10.78"
        ],
        [
         "26",
         "27",
         "School Frozen Foods",
         "Produce",
         "1913",
         "9,68",
         "Backordered",
         "Johnson LLC",
         "14.58"
        ],
        [
         "27",
         "28",
         "Time Frozen Foods",
         "Snacks",
         "59",
         "18,75",
         "Active",
         "",
         "31.21"
        ],
        [
         "28",
         "29",
         "Yourself Beverages",
         "Bakery",
         "163",
         "2,14",
         "Backordered",
         "Ortega Group",
         "3.47"
        ],
        [
         "29",
         "30",
         "Fast Snacks",
         "Bakery",
         "1508",
         "17,15",
         "Discontinued",
         "Perez, Wong and Smith",
         "29.94"
        ],
        [
         "30",
         "31",
         "Maybe Snacks",
         "Frozen Foods",
         "1050",
         "13,25",
         "Backordered",
         "Howell-Mitchell",
         "19.58"
        ],
        [
         "31",
         "32",
         "Music Snacks",
         "Bakery",
         "1141",
         "16,39",
         "Active",
         "Valdez and Sons",
         "26.44"
        ],
        [
         "32",
         "33",
         "Police Bakery",
         "Dairy",
         "1964",
         "17,39",
         "Backordered",
         "Saunders Ltd",
         "26.87"
        ],
        [
         "33",
         "34",
         "Use Beverages",
         "Dairy",
         "1665",
         "12,89",
         "Active",
         "Dominguez, Pena and Osborne",
         "22.03"
        ],
        [
         "34",
         "35",
         "Color Dairy",
         "Dairy",
         "229",
         "3,42",
         "Backordered",
         "Watts-Schroeder",
         "4.13"
        ],
        [
         "35",
         "36",
         "Little Bakery",
         "Bakery",
         "647",
         "15,82",
         "Active",
         "Taylor-Thomas",
         "24.16"
        ],
        [
         "36",
         "37",
         "Minute Frozen Foods",
         "Beverages",
         "630",
         "9,61",
         "Active",
         "Rivera Inc",
         "15.11"
        ],
        [
         "37",
         "38",
         "Certainly Beverages",
         "Bakery",
         "1298",
         "3,43",
         "Active",
         "Garcia PLC",
         "4.33"
        ],
        [
         "38",
         "39",
         "Why Produce",
         "Dairy",
         "1631",
         "7,08",
         "Active",
         "Jackson, Cain and Garcia",
         "9.1"
        ],
        [
         "39",
         "40",
         "Benefit Frozen Foods",
         "Beverages",
         "23",
         "17,46",
         "Active",
         "Joyce, Le and Wallace",
         "31.28"
        ],
        [
         "40",
         "41",
         "Item Dairy",
         "Dairy",
         "10",
         "2,87",
         "Backordered",
         "Carroll, Aguilar and Richardson",
         "4.62"
        ],
        [
         "41",
         "42",
         "Success Produce",
         "Bakery",
         "975",
         "12,44",
         "Backordered",
         "Brown-Duke",
         "16.39"
        ],
        [
         "42",
         "43",
         "Maintain Frozen Foods",
         "Dairy",
         "357",
         "",
         "Backordered",
         "Byrd, Hayden and Cunningham",
         "23.52"
        ],
        [
         "43",
         "44",
         "Top Produce",
         "Bakery",
         "1464",
         "3,92",
         "Backordered",
         "Mills LLC",
         "6.94"
        ],
        [
         "44",
         "45",
         "Public Bakery",
         "Snacks",
         "606",
         "8,35",
         "Discontinued",
         "Stone, Boyd and Wilson",
         "10.46"
        ],
        [
         "45",
         "46",
         "Fact Produce",
         "Produce",
         "1857",
         "4,15",
         "Backordered",
         "Lopez LLC",
         "6.93"
        ],
        [
         "46",
         "47",
         "Into Bakery",
         "Beverages",
         "1775",
         "10,1",
         "Discontinued",
         "Johnson-Heath",
         "16.95"
        ],
        [
         "47",
         "48",
         "Director Snacks",
         "Produce",
         "162",
         "5,2",
         "Backordered",
         "Ray, Brown and Lang",
         "6.29"
        ],
        [
         "48",
         "49",
         "It Produce",
         "Frozen Foods",
         "435",
         "19,18",
         "Discontinued",
         "Shelton-Morales",
         "24.72"
        ],
        [
         "49",
         "50",
         "Away Dairy",
         "Bakery",
         "196",
         "7,7",
         "Active",
         "Valencia-Smith",
         "12.82"
        ]
       ],
       "shape": {
        "columns": 8,
        "rows": 11556
       }
      },
      "text/html": [
       "<div>\n",
       "<style scoped>\n",
       "    .dataframe tbody tr th:only-of-type {\n",
       "        vertical-align: middle;\n",
       "    }\n",
       "\n",
       "    .dataframe tbody tr th {\n",
       "        vertical-align: top;\n",
       "    }\n",
       "\n",
       "    .dataframe thead th {\n",
       "        text-align: right;\n",
       "    }\n",
       "</style>\n",
       "<table border=\"1\" class=\"dataframe\">\n",
       "  <thead>\n",
       "    <tr style=\"text-align: right;\">\n",
       "      <th></th>\n",
       "      <th>product_id</th>\n",
       "      <th>product_name</th>\n",
       "      <th>category</th>\n",
       "      <th>supplier_id</th>\n",
       "      <th>unit_cost</th>\n",
       "      <th>status</th>\n",
       "      <th>brand</th>\n",
       "      <th>list_price</th>\n",
       "    </tr>\n",
       "  </thead>\n",
       "  <tbody>\n",
       "    <tr>\n",
       "      <th>0</th>\n",
       "      <td>1</td>\n",
       "      <td>Use Bakery</td>\n",
       "      <td>Bakery</td>\n",
       "      <td>1664</td>\n",
       "      <td>4,58</td>\n",
       "      <td>Active</td>\n",
       "      <td>Warren-Foster</td>\n",
       "      <td>5.99</td>\n",
       "    </tr>\n",
       "    <tr>\n",
       "      <th>1</th>\n",
       "      <td>2</td>\n",
       "      <td>Thank Frozen Foods</td>\n",
       "      <td>Dairy</td>\n",
       "      <td>1662</td>\n",
       "      <td>5,43</td>\n",
       "      <td>Backordered</td>\n",
       "      <td>Evans and Sons</td>\n",
       "      <td>7.03</td>\n",
       "    </tr>\n",
       "    <tr>\n",
       "      <th>2</th>\n",
       "      <td>3</td>\n",
       "      <td>Customer Produce</td>\n",
       "      <td>Beverages</td>\n",
       "      <td>917</td>\n",
       "      <td>1,83</td>\n",
       "      <td>Backordered</td>\n",
       "      <td>Newman and Sons</td>\n",
       "      <td>2.73</td>\n",
       "    </tr>\n",
       "    <tr>\n",
       "      <th>3</th>\n",
       "      <td>4</td>\n",
       "      <td>Sign Dairy</td>\n",
       "      <td>Produce</td>\n",
       "      <td>268</td>\n",
       "      <td>8,99</td>\n",
       "      <td>Active</td>\n",
       "      <td>Mclaughlin-Little</td>\n",
       "      <td>14.17</td>\n",
       "    </tr>\n",
       "    <tr>\n",
       "      <th>4</th>\n",
       "      <td>5</td>\n",
       "      <td>Place Frozen Foods</td>\n",
       "      <td>Bakery</td>\n",
       "      <td>964</td>\n",
       "      <td>73,3</td>\n",
       "      <td>Backordered</td>\n",
       "      <td>Leblanc, James and Thompson</td>\n",
       "      <td>11.08</td>\n",
       "    </tr>\n",
       "    <tr>\n",
       "      <th>...</th>\n",
       "      <td>...</td>\n",
       "      <td>...</td>\n",
       "      <td>...</td>\n",
       "      <td>...</td>\n",
       "      <td>...</td>\n",
       "      <td>...</td>\n",
       "      <td>...</td>\n",
       "      <td>...</td>\n",
       "    </tr>\n",
       "    <tr>\n",
       "      <th>11551</th>\n",
       "      <td>9169</td>\n",
       "      <td>Set Frozen Foods</td>\n",
       "      <td>Produce</td>\n",
       "      <td>64</td>\n",
       "      <td>1,89</td>\n",
       "      <td>Backordered</td>\n",
       "      <td>Silva-Haynes</td>\n",
       "      <td>2.81</td>\n",
       "    </tr>\n",
       "    <tr>\n",
       "      <th>11552</th>\n",
       "      <td>4857</td>\n",
       "      <td>Green Beverages</td>\n",
       "      <td>Produce</td>\n",
       "      <td>1131</td>\n",
       "      <td>7,49</td>\n",
       "      <td>Discontinued</td>\n",
       "      <td>Garcia Inc</td>\n",
       "      <td>12.98</td>\n",
       "    </tr>\n",
       "    <tr>\n",
       "      <th>11553</th>\n",
       "      <td>470</td>\n",
       "      <td>South Frozen Foods</td>\n",
       "      <td>Dairy</td>\n",
       "      <td>755</td>\n",
       "      <td>3,89</td>\n",
       "      <td>Active</td>\n",
       "      <td>Smith-Baker</td>\n",
       "      <td>5.08</td>\n",
       "    </tr>\n",
       "    <tr>\n",
       "      <th>11554</th>\n",
       "      <td>7711</td>\n",
       "      <td>Cause Beverages</td>\n",
       "      <td>Snacks</td>\n",
       "      <td>447</td>\n",
       "      <td>7,49</td>\n",
       "      <td>Active</td>\n",
       "      <td>Powell PLC</td>\n",
       "      <td>12.69</td>\n",
       "    </tr>\n",
       "    <tr>\n",
       "      <th>11555</th>\n",
       "      <td>8597</td>\n",
       "      <td>Reality Snacks</td>\n",
       "      <td>Beverages</td>\n",
       "      <td>840</td>\n",
       "      <td>9,02</td>\n",
       "      <td>Backordered</td>\n",
       "      <td>Delacruz-Lamb</td>\n",
       "      <td>13.03</td>\n",
       "    </tr>\n",
       "  </tbody>\n",
       "</table>\n",
       "<p>11556 rows × 8 columns</p>\n",
       "</div>"
      ],
      "text/plain": [
       "       product_id        product_name   category  supplier_id unit_cost        status                        brand  list_price\n",
       "0               1          Use Bakery     Bakery         1664      4,58        Active                Warren-Foster        5.99\n",
       "1               2  Thank Frozen Foods      Dairy         1662      5,43   Backordered               Evans and Sons        7.03\n",
       "2               3    Customer Produce  Beverages          917      1,83   Backordered              Newman and Sons        2.73\n",
       "3               4          Sign Dairy    Produce          268      8,99        Active            Mclaughlin-Little       14.17\n",
       "4               5  Place Frozen Foods     Bakery          964      73,3   Backordered  Leblanc, James and Thompson       11.08\n",
       "...           ...                 ...        ...          ...       ...           ...                          ...         ...\n",
       "11551        9169    Set Frozen Foods    Produce           64      1,89   Backordered                 Silva-Haynes        2.81\n",
       "11552        4857     Green Beverages    Produce         1131      7,49  Discontinued                   Garcia Inc       12.98\n",
       "11553         470  South Frozen Foods      Dairy          755      3,89        Active                  Smith-Baker        5.08\n",
       "11554        7711     Cause Beverages     Snacks          447      7,49        Active                   Powell PLC       12.69\n",
       "11555        8597      Reality Snacks  Beverages          840      9,02   Backordered                Delacruz-Lamb       13.03\n",
       "\n",
       "[11556 rows x 8 columns]"
      ]
     },
     "execution_count": 5,
     "metadata": {},
     "output_type": "execute_result"
    }
   ],
   "source": [
    "df_products"
   ]
  },
  {
   "cell_type": "code",
   "execution_count": 6,
   "id": "75bdfe1e",
   "metadata": {},
   "outputs": [
    {
     "name": "stdout",
     "output_type": "stream",
     "text": [
      "<class 'pandas.core.frame.DataFrame'>\n",
      "RangeIndex: 2334 entries, 0 to 2333\n",
      "Data columns (total 5 columns):\n",
      " #   Column          Non-Null Count  Dtype  \n",
      "---  ------          --------------  -----  \n",
      " 0   supplier_id     2334 non-null   int64  \n",
      " 1   supplier_name   2334 non-null   object \n",
      " 2   lead_time_days  2334 non-null   int64  \n",
      " 3   contact_info    2334 non-null   object \n",
      " 4   rating          2334 non-null   float64\n",
      "dtypes: float64(1), int64(2), object(2)\n",
      "memory usage: 91.3+ KB\n"
     ]
    }
   ],
   "source": [
    "df_suppliers.info()"
   ]
  },
  {
   "cell_type": "code",
   "execution_count": 7,
   "id": "5a0766ee",
   "metadata": {},
   "outputs": [
    {
     "data": {
      "application/vnd.microsoft.datawrangler.viewer.v0+json": {
       "columns": [
        {
         "name": "index",
         "rawType": "int64",
         "type": "integer"
        },
        {
         "name": "supplier_id",
         "rawType": "int64",
         "type": "integer"
        },
        {
         "name": "supplier_name",
         "rawType": "object",
         "type": "string"
        },
        {
         "name": "lead_time_days",
         "rawType": "int64",
         "type": "integer"
        },
        {
         "name": "contact_info",
         "rawType": "object",
         "type": "string"
        },
        {
         "name": "rating",
         "rawType": "float64",
         "type": "float"
        }
       ],
       "ref": "1692308c-6fcd-4fd3-a6ae-f07239e4391c",
       "rows": [
        [
         "0",
         "1",
         "Stevens LLC",
         "10",
         "365-261-6825",
         "4.69"
        ],
        [
         "1",
         "2",
         "Simpson-Pugh",
         "8",
         "001-322-445-9942",
         "3.85"
        ],
        [
         "2",
         "3",
         "Harrison Ltd",
         "5",
         "(745)078-2755",
         "3.53"
        ],
        [
         "3",
         "4",
         "Larson-Orozco",
         "4",
         "347.918.3271x629",
         "4.18"
        ],
        [
         "4",
         "5",
         "Gray-Lopez",
         "6",
         "+1-453-092-4991",
         "3.85"
        ],
        [
         "5",
         "6",
         "Reed LLC",
         "7",
         "620.531.2418x6334",
         "4.85"
        ],
        [
         "6",
         "7",
         "Smith PLC",
         "7",
         "487-902-4688",
         "4.84"
        ],
        [
         "7",
         "8",
         "Rivera Group",
         "12",
         "(270)908-8668x139",
         "4.31"
        ],
        [
         "8",
         "9",
         "Pearson LLC",
         "5",
         "001-625-529-3600x53998",
         "3.76"
        ],
        [
         "9",
         "10",
         "Smith-Lewis",
         "9",
         "001-939-201-3906",
         "4.27"
        ],
        [
         "10",
         "11",
         "Rocha-Kelly",
         "12",
         "(631)582-0565",
         "4.91"
        ],
        [
         "11",
         "12",
         "Harvey LLC",
         "8",
         "579-892-0476",
         "4.75"
        ],
        [
         "12",
         "13",
         "Pitts and Sons",
         "7",
         "(990)496-1000",
         "4.58"
        ],
        [
         "13",
         "14",
         "Brown, Stout and Friedman",
         "13",
         "001-422-240-6260x2337",
         "3.24"
        ],
        [
         "14",
         "15",
         "Johnson, Reed and Dunn",
         "8",
         "8499556641",
         "3.51"
        ],
        [
         "15",
         "16",
         "Cobb Inc",
         "10",
         "1301718243",
         "4.4"
        ],
        [
         "16",
         "17",
         "Ward, Hicks and Tucker",
         "2",
         "317-263-4726x7457",
         "3.5"
        ],
        [
         "17",
         "18",
         "Smith-Le",
         "2",
         "390-545-9539x289",
         "4.16"
        ],
        [
         "18",
         "19",
         "Jordan and Sons",
         "8",
         "+1-138-591-9229x81506",
         "3.12"
        ],
        [
         "19",
         "20",
         "Ferguson-Oliver",
         "4",
         "464-195-3318",
         "3.54"
        ],
        [
         "20",
         "21",
         "Boyd and Sons",
         "11",
         "8565180715",
         "3.46"
        ],
        [
         "21",
         "22",
         "Brown-Vang",
         "12",
         "001-461-562-4464x380",
         "4.93"
        ],
        [
         "22",
         "23",
         "Long, Vargas and Marshall",
         "12",
         "866.248.6716",
         "3.31"
        ],
        [
         "23",
         "24",
         "Adams, West and Hanson",
         "4",
         "641.343.4809x64398",
         "4.55"
        ],
        [
         "24",
         "25",
         "Macias, Harrison and Stewart",
         "11",
         "(607)580-6732",
         "4.72"
        ],
        [
         "25",
         "26",
         "Riley Inc",
         "10",
         "181-194-2034x61240",
         "3.28"
        ],
        [
         "26",
         "27",
         "Nunez, Carroll and Davidson",
         "4",
         "(089)124-9473x9418",
         "3.38"
        ],
        [
         "27",
         "28",
         "Bell-Meyer",
         "6",
         "0823499473",
         "3.01"
        ],
        [
         "28",
         "29",
         "Hatfield, Hardin and Hernandez",
         "12",
         "173.641.2751x62059",
         "3.64"
        ],
        [
         "29",
         "30",
         "Rivera, Smith and Murphy",
         "8",
         "2333264322",
         "4.06"
        ],
        [
         "30",
         "31",
         "Hendricks-Buckley",
         "14",
         "634.222.2249x296",
         "4.77"
        ],
        [
         "31",
         "32",
         "Hall, Bailey and Simpson",
         "7",
         "(158)823-6173",
         "3.82"
        ],
        [
         "32",
         "33",
         "Thomas, Hansen and Gilbert",
         "4",
         "089-238-2562x01262",
         "4.51"
        ],
        [
         "33",
         "34",
         "Peterson, Ford and Perez",
         "7",
         "067-652-2120",
         "4.56"
        ],
        [
         "34",
         "35",
         "Sanders-Gonzalez",
         "3",
         "(055)084-9400x830",
         "4.23"
        ],
        [
         "35",
         "36",
         "Newman, Gibson and Miles",
         "9",
         "001-630-693-1291",
         "3.27"
        ],
        [
         "36",
         "37",
         "Thompson-Phillips",
         "4",
         "039-180-7850x3507",
         "4.17"
        ],
        [
         "37",
         "38",
         "Harrell, Davis and Gonzales",
         "13",
         "(283)369-5696x96711",
         "3.92"
        ],
        [
         "38",
         "39",
         "Carter, Hicks and Garcia",
         "8",
         "170.711.4235x7126",
         "3.31"
        ],
        [
         "39",
         "40",
         "Grant Ltd",
         "14",
         "(882)249-0684",
         "4.29"
        ],
        [
         "40",
         "41",
         "Huff-Garrett",
         "14",
         "619.093.7479",
         "4.17"
        ],
        [
         "41",
         "42",
         "Byrd-Roth",
         "10",
         "001-105-837-8386",
         "3.49"
        ],
        [
         "42",
         "43",
         "Meyers Ltd",
         "4",
         "001-571-332-9886x9787",
         "4.82"
        ],
        [
         "43",
         "44",
         "Lopez, Smith and Hunter",
         "6",
         "(817)778-5598x1287",
         "4.03"
        ],
        [
         "44",
         "45",
         "Mccoy Inc",
         "8",
         "8719257056",
         "4.9"
        ],
        [
         "45",
         "46",
         "James-Davenport",
         "11",
         "(140)880-3187x9390",
         "3.27"
        ],
        [
         "46",
         "47",
         "Walsh, Wolfe and Holland",
         "10",
         "(704)811-0098x35143",
         "4.87"
        ],
        [
         "47",
         "48",
         "Brooks PLC",
         "7",
         "001-894-952-4552x88265",
         "3.19"
        ],
        [
         "48",
         "49",
         "Reyes Ltd",
         "2",
         "(425)025-7367x1389",
         "4.36"
        ],
        [
         "49",
         "50",
         "Torres-Giles",
         "14",
         "+1-220-343-8842",
         "3.09"
        ]
       ],
       "shape": {
        "columns": 5,
        "rows": 2334
       }
      },
      "text/html": [
       "<div>\n",
       "<style scoped>\n",
       "    .dataframe tbody tr th:only-of-type {\n",
       "        vertical-align: middle;\n",
       "    }\n",
       "\n",
       "    .dataframe tbody tr th {\n",
       "        vertical-align: top;\n",
       "    }\n",
       "\n",
       "    .dataframe thead th {\n",
       "        text-align: right;\n",
       "    }\n",
       "</style>\n",
       "<table border=\"1\" class=\"dataframe\">\n",
       "  <thead>\n",
       "    <tr style=\"text-align: right;\">\n",
       "      <th></th>\n",
       "      <th>supplier_id</th>\n",
       "      <th>supplier_name</th>\n",
       "      <th>lead_time_days</th>\n",
       "      <th>contact_info</th>\n",
       "      <th>rating</th>\n",
       "    </tr>\n",
       "  </thead>\n",
       "  <tbody>\n",
       "    <tr>\n",
       "      <th>0</th>\n",
       "      <td>1</td>\n",
       "      <td>Stevens LLC</td>\n",
       "      <td>10</td>\n",
       "      <td>365-261-6825</td>\n",
       "      <td>4.69</td>\n",
       "    </tr>\n",
       "    <tr>\n",
       "      <th>1</th>\n",
       "      <td>2</td>\n",
       "      <td>Simpson-Pugh</td>\n",
       "      <td>8</td>\n",
       "      <td>001-322-445-9942</td>\n",
       "      <td>3.85</td>\n",
       "    </tr>\n",
       "    <tr>\n",
       "      <th>2</th>\n",
       "      <td>3</td>\n",
       "      <td>Harrison Ltd</td>\n",
       "      <td>5</td>\n",
       "      <td>(745)078-2755</td>\n",
       "      <td>3.53</td>\n",
       "    </tr>\n",
       "    <tr>\n",
       "      <th>3</th>\n",
       "      <td>4</td>\n",
       "      <td>Larson-Orozco</td>\n",
       "      <td>4</td>\n",
       "      <td>347.918.3271x629</td>\n",
       "      <td>4.18</td>\n",
       "    </tr>\n",
       "    <tr>\n",
       "      <th>4</th>\n",
       "      <td>5</td>\n",
       "      <td>Gray-Lopez</td>\n",
       "      <td>6</td>\n",
       "      <td>+1-453-092-4991</td>\n",
       "      <td>3.85</td>\n",
       "    </tr>\n",
       "    <tr>\n",
       "      <th>...</th>\n",
       "      <td>...</td>\n",
       "      <td>...</td>\n",
       "      <td>...</td>\n",
       "      <td>...</td>\n",
       "      <td>...</td>\n",
       "    </tr>\n",
       "    <tr>\n",
       "      <th>2329</th>\n",
       "      <td>1069</td>\n",
       "      <td>Bradley-Price</td>\n",
       "      <td>9</td>\n",
       "      <td>(785)560-0541x4189</td>\n",
       "      <td>4.74</td>\n",
       "    </tr>\n",
       "    <tr>\n",
       "      <th>2330</th>\n",
       "      <td>1855</td>\n",
       "      <td>Jimenez, Bell and Barrett</td>\n",
       "      <td>11</td>\n",
       "      <td>315-249-0083x58312</td>\n",
       "      <td>3.97</td>\n",
       "    </tr>\n",
       "    <tr>\n",
       "      <th>2331</th>\n",
       "      <td>1630</td>\n",
       "      <td>Norman and Sons</td>\n",
       "      <td>3</td>\n",
       "      <td>984.733.8502</td>\n",
       "      <td>4.34</td>\n",
       "    </tr>\n",
       "    <tr>\n",
       "      <th>2332</th>\n",
       "      <td>1629</td>\n",
       "      <td>Chen, Hughes and Price</td>\n",
       "      <td>12</td>\n",
       "      <td>+1-267-395-1106x17465</td>\n",
       "      <td>4.59</td>\n",
       "    </tr>\n",
       "    <tr>\n",
       "      <th>2333</th>\n",
       "      <td>1241</td>\n",
       "      <td>Bass-Lewis</td>\n",
       "      <td>6</td>\n",
       "      <td>253-830-4528x6846</td>\n",
       "      <td>3.64</td>\n",
       "    </tr>\n",
       "  </tbody>\n",
       "</table>\n",
       "<p>2334 rows × 5 columns</p>\n",
       "</div>"
      ],
      "text/plain": [
       "      supplier_id              supplier_name  lead_time_days           contact_info  rating\n",
       "0               1                Stevens LLC              10           365-261-6825    4.69\n",
       "1               2               Simpson-Pugh               8       001-322-445-9942    3.85\n",
       "2               3               Harrison Ltd               5          (745)078-2755    3.53\n",
       "3               4              Larson-Orozco               4       347.918.3271x629    4.18\n",
       "4               5                 Gray-Lopez               6        +1-453-092-4991    3.85\n",
       "...           ...                        ...             ...                    ...     ...\n",
       "2329         1069              Bradley-Price               9     (785)560-0541x4189    4.74\n",
       "2330         1855  Jimenez, Bell and Barrett              11     315-249-0083x58312    3.97\n",
       "2331         1630            Norman and Sons               3           984.733.8502    4.34\n",
       "2332         1629     Chen, Hughes and Price              12  +1-267-395-1106x17465    4.59\n",
       "2333         1241                 Bass-Lewis               6      253-830-4528x6846    3.64\n",
       "\n",
       "[2334 rows x 5 columns]"
      ]
     },
     "execution_count": 7,
     "metadata": {},
     "output_type": "execute_result"
    }
   ],
   "source": [
    "df_suppliers"
   ]
  },
  {
   "cell_type": "code",
   "execution_count": 8,
   "id": "efd97264",
   "metadata": {},
   "outputs": [
    {
     "name": "stdout",
     "output_type": "stream",
     "text": [
      "<class 'pandas.core.frame.DataFrame'>\n",
      "RangeIndex: 22610 entries, 0 to 22609\n",
      "Data columns (total 8 columns):\n",
      " #   Column              Non-Null Count  Dtype \n",
      "---  ------              --------------  ----- \n",
      " 0   inventory_id        22610 non-null  int64 \n",
      " 1   date                22610 non-null  object\n",
      " 2   product_id          22610 non-null  int64 \n",
      " 3   beginning_stock     22610 non-null  int64 \n",
      " 4   received            22610 non-null  int64 \n",
      " 5   sold                22610 non-null  int64 \n",
      " 6   warehouse_location  22610 non-null  object\n",
      " 7   ending_stock        22610 non-null  int64 \n",
      "dtypes: int64(6), object(2)\n",
      "memory usage: 1.4+ MB\n"
     ]
    }
   ],
   "source": [
    "df_inventory.info()"
   ]
  },
  {
   "cell_type": "code",
   "execution_count": 9,
   "id": "8df30aa3",
   "metadata": {},
   "outputs": [
    {
     "data": {
      "application/vnd.microsoft.datawrangler.viewer.v0+json": {
       "columns": [
        {
         "name": "index",
         "rawType": "int64",
         "type": "integer"
        },
        {
         "name": "inventory_id",
         "rawType": "int64",
         "type": "integer"
        },
        {
         "name": "date",
         "rawType": "object",
         "type": "string"
        },
        {
         "name": "product_id",
         "rawType": "int64",
         "type": "integer"
        },
        {
         "name": "beginning_stock",
         "rawType": "int64",
         "type": "integer"
        },
        {
         "name": "received",
         "rawType": "int64",
         "type": "integer"
        },
        {
         "name": "sold",
         "rawType": "int64",
         "type": "integer"
        },
        {
         "name": "warehouse_location",
         "rawType": "object",
         "type": "string"
        },
        {
         "name": "ending_stock",
         "rawType": "int64",
         "type": "integer"
        }
       ],
       "ref": "b6ab8a70-c8f2-4fe2-a149-93e76d6ccf32",
       "rows": [
        [
         "0",
         "1",
         "2025-06-20",
         "1505",
         "49",
         "12",
         "7",
         "East",
         "54"
        ],
        [
         "1",
         "2",
         "2025-05-13",
         "1611",
         "55",
         "2",
         "6",
         "South",
         "51"
        ],
        [
         "2",
         "3",
         "2025-07-02",
         "1310",
         "82",
         "5",
         "3",
         "North",
         "84"
        ],
        [
         "3",
         "4",
         "2025-05-14",
         "2355",
         "14",
         "11",
         "14",
         "West",
         "11"
        ],
        [
         "4",
         "5",
         "2025-06-13",
         "8382",
         "39",
         "17",
         "11",
         "East",
         "45"
        ],
        [
         "5",
         "6",
         "2025-05-27",
         "2194",
         "82",
         "3",
         "10",
         "South",
         "75"
        ],
        [
         "6",
         "7",
         "2025-06-04",
         "7562",
         "56",
         "10",
         "12",
         "East",
         "54"
        ],
        [
         "7",
         "8",
         "2025-06-16",
         "5646",
         "89",
         "17",
         "2",
         "East",
         "104"
        ],
        [
         "8",
         "9",
         "2025-05-21",
         "9131",
         "86",
         "15",
         "12",
         "East",
         "89"
        ],
        [
         "9",
         "10",
         "2025-06-06",
         "191",
         "31",
         "17",
         "13",
         "North",
         "35"
        ],
        [
         "10",
         "11",
         "2025-06-11",
         "3381",
         "52",
         "16",
         "6",
         "East",
         "62"
        ],
        [
         "11",
         "12",
         "2025-06-29",
         "8579",
         "98",
         "10",
         "4",
         "South",
         "104"
        ],
        [
         "12",
         "13",
         "2025-06-09",
         "9859",
         "13",
         "18",
         "4",
         "North",
         "27"
        ],
        [
         "13",
         "14",
         "2025-06-20",
         "3780",
         "29",
         "13",
         "7",
         "North",
         "35"
        ],
        [
         "14",
         "15",
         "2025-06-14",
         "489",
         "87",
         "9",
         "0",
         "West",
         "96"
        ],
        [
         "15",
         "16",
         "2025-05-08",
         "6319",
         "70",
         "8",
         "3",
         "East",
         "75"
        ],
        [
         "16",
         "17",
         "2025-06-27",
         "5032",
         "60",
         "9",
         "12",
         "South",
         "57"
        ],
        [
         "17",
         "18",
         "2025-06-08",
         "8127",
         "51",
         "10",
         "2",
         "North",
         "59"
        ],
        [
         "18",
         "19",
         "2025-06-30",
         "9870",
         "36",
         "11",
         "3",
         "North",
         "44"
        ],
        [
         "19",
         "20",
         "2025-05-09",
         "4827",
         "43",
         "0",
         "14",
         "East",
         "29"
        ],
        [
         "20",
         "21",
         "2025-06-28",
         "4187",
         "57",
         "3",
         "4",
         "North",
         "56"
        ],
        [
         "21",
         "22",
         "2025-06-15",
         "7359",
         "61",
         "18",
         "0",
         "East",
         "79"
        ],
        [
         "22",
         "23",
         "2025-05-13",
         "3870",
         "72",
         "4",
         "9",
         "West",
         "67"
        ],
        [
         "23",
         "24",
         "2025-06-06",
         "5395",
         "31",
         "6",
         "10",
         "South",
         "27"
        ],
        [
         "24",
         "25",
         "2025-06-12",
         "3344",
         "43",
         "12",
         "0",
         "East",
         "55"
        ],
        [
         "25",
         "26",
         "2025-05-17",
         "8208",
         "26",
         "4",
         "12",
         "South",
         "18"
        ],
        [
         "26",
         "27",
         "2025-06-21",
         "8918",
         "54",
         "3",
         "6",
         "West",
         "51"
        ],
        [
         "27",
         "28",
         "2025-05-19",
         "122",
         "49",
         "16",
         "8",
         "East",
         "57"
        ],
        [
         "28",
         "29",
         "2025-07-03",
         "5625",
         "18",
         "13",
         "3",
         "North",
         "28"
        ],
        [
         "29",
         "30",
         "2025-06-08",
         "7659",
         "62",
         "6",
         "0",
         "South",
         "68"
        ],
        [
         "30",
         "31",
         "2025-05-14",
         "6379",
         "31",
         "16",
         "6",
         "West",
         "41"
        ],
        [
         "31",
         "32",
         "2025-06-04",
         "7553",
         "10",
         "13",
         "14",
         "South",
         "9"
        ],
        [
         "32",
         "33",
         "2025-06-13",
         "1983",
         "89",
         "19",
         "5",
         "North",
         "103"
        ],
        [
         "33",
         "34",
         "2025-06-19",
         "6428",
         "26",
         "19",
         "4",
         "East",
         "41"
        ],
        [
         "34",
         "35",
         "2025-05-28",
         "9901",
         "11",
         "19",
         "14",
         "South",
         "16"
        ],
        [
         "35",
         "36",
         "2025-05-12",
         "4703",
         "22",
         "12",
         "14",
         "",
         "20"
        ],
        [
         "36",
         "37",
         "2025-06-28",
         "6804",
         "19",
         "3",
         "14",
         "West",
         "8"
        ],
        [
         "37",
         "38",
         "2025-06-18",
         "7394",
         "29",
         "1",
         "4",
         "West",
         "26"
        ],
        [
         "38",
         "39",
         "2025-05-26",
         "2796",
         "81",
         "12",
         "0",
         "West",
         "93"
        ],
        [
         "39",
         "40",
         "2025-06-25",
         "4954",
         "6",
         "13",
         "11",
         "North",
         "8"
        ],
        [
         "40",
         "41",
         "2025-05-20",
         "5971",
         "27",
         "13",
         "10",
         "South",
         "30"
        ],
        [
         "41",
         "42",
         "2025-05-27",
         "7247",
         "1",
         "4",
         "11",
         "East",
         "0"
        ],
        [
         "42",
         "43",
         "2025-06-29",
         "22",
         "17",
         "6",
         "12",
         "West",
         "11"
        ],
        [
         "43",
         "44",
         "2025-06-21",
         "2277",
         "1",
         "6",
         "11",
         "East",
         "0"
        ],
        [
         "44",
         "45",
         "2025-05-08",
         "393",
         "62",
         "6",
         "10",
         "East",
         "58"
        ],
        [
         "45",
         "46",
         "2025-06-02",
         "2471",
         "24",
         "4",
         "8",
         "South",
         "20"
        ],
        [
         "46",
         "47",
         "2025-06-01",
         "5250",
         "59",
         "4",
         "6",
         "North",
         "57"
        ],
        [
         "47",
         "48",
         "2025-06-23",
         "4406",
         "55",
         "7",
         "3",
         "West",
         "59"
        ],
        [
         "48",
         "49",
         "2025-06-27",
         "2101",
         "97",
         "7",
         "14",
         "North",
         "90"
        ],
        [
         "49",
         "50",
         "2025-06-03",
         "369",
         "1",
         "12",
         "10",
         "South",
         "3"
        ]
       ],
       "shape": {
        "columns": 8,
        "rows": 22610
       }
      },
      "text/html": [
       "<div>\n",
       "<style scoped>\n",
       "    .dataframe tbody tr th:only-of-type {\n",
       "        vertical-align: middle;\n",
       "    }\n",
       "\n",
       "    .dataframe tbody tr th {\n",
       "        vertical-align: top;\n",
       "    }\n",
       "\n",
       "    .dataframe thead th {\n",
       "        text-align: right;\n",
       "    }\n",
       "</style>\n",
       "<table border=\"1\" class=\"dataframe\">\n",
       "  <thead>\n",
       "    <tr style=\"text-align: right;\">\n",
       "      <th></th>\n",
       "      <th>inventory_id</th>\n",
       "      <th>date</th>\n",
       "      <th>product_id</th>\n",
       "      <th>beginning_stock</th>\n",
       "      <th>received</th>\n",
       "      <th>sold</th>\n",
       "      <th>warehouse_location</th>\n",
       "      <th>ending_stock</th>\n",
       "    </tr>\n",
       "  </thead>\n",
       "  <tbody>\n",
       "    <tr>\n",
       "      <th>0</th>\n",
       "      <td>1</td>\n",
       "      <td>2025-06-20</td>\n",
       "      <td>1505</td>\n",
       "      <td>49</td>\n",
       "      <td>12</td>\n",
       "      <td>7</td>\n",
       "      <td>East</td>\n",
       "      <td>54</td>\n",
       "    </tr>\n",
       "    <tr>\n",
       "      <th>1</th>\n",
       "      <td>2</td>\n",
       "      <td>2025-05-13</td>\n",
       "      <td>1611</td>\n",
       "      <td>55</td>\n",
       "      <td>2</td>\n",
       "      <td>6</td>\n",
       "      <td>South</td>\n",
       "      <td>51</td>\n",
       "    </tr>\n",
       "    <tr>\n",
       "      <th>2</th>\n",
       "      <td>3</td>\n",
       "      <td>2025-07-02</td>\n",
       "      <td>1310</td>\n",
       "      <td>82</td>\n",
       "      <td>5</td>\n",
       "      <td>3</td>\n",
       "      <td>North</td>\n",
       "      <td>84</td>\n",
       "    </tr>\n",
       "    <tr>\n",
       "      <th>3</th>\n",
       "      <td>4</td>\n",
       "      <td>2025-05-14</td>\n",
       "      <td>2355</td>\n",
       "      <td>14</td>\n",
       "      <td>11</td>\n",
       "      <td>14</td>\n",
       "      <td>West</td>\n",
       "      <td>11</td>\n",
       "    </tr>\n",
       "    <tr>\n",
       "      <th>4</th>\n",
       "      <td>5</td>\n",
       "      <td>2025-06-13</td>\n",
       "      <td>8382</td>\n",
       "      <td>39</td>\n",
       "      <td>17</td>\n",
       "      <td>11</td>\n",
       "      <td>East</td>\n",
       "      <td>45</td>\n",
       "    </tr>\n",
       "    <tr>\n",
       "      <th>...</th>\n",
       "      <td>...</td>\n",
       "      <td>...</td>\n",
       "      <td>...</td>\n",
       "      <td>...</td>\n",
       "      <td>...</td>\n",
       "      <td>...</td>\n",
       "      <td>...</td>\n",
       "      <td>...</td>\n",
       "    </tr>\n",
       "    <tr>\n",
       "      <th>22605</th>\n",
       "      <td>1261</td>\n",
       "      <td>2025-06-26</td>\n",
       "      <td>7387</td>\n",
       "      <td>92</td>\n",
       "      <td>12</td>\n",
       "      <td>11</td>\n",
       "      <td>North</td>\n",
       "      <td>93</td>\n",
       "    </tr>\n",
       "    <tr>\n",
       "      <th>22606</th>\n",
       "      <td>1450</td>\n",
       "      <td>2025-06-29</td>\n",
       "      <td>9817</td>\n",
       "      <td>33</td>\n",
       "      <td>0</td>\n",
       "      <td>7</td>\n",
       "      <td>North</td>\n",
       "      <td>26</td>\n",
       "    </tr>\n",
       "    <tr>\n",
       "      <th>22607</th>\n",
       "      <td>8169</td>\n",
       "      <td>2025-05-27</td>\n",
       "      <td>5713</td>\n",
       "      <td>49</td>\n",
       "      <td>9</td>\n",
       "      <td>10</td>\n",
       "      <td>West</td>\n",
       "      <td>48</td>\n",
       "    </tr>\n",
       "    <tr>\n",
       "      <th>22608</th>\n",
       "      <td>4535</td>\n",
       "      <td>2025-05-16</td>\n",
       "      <td>7121</td>\n",
       "      <td>41</td>\n",
       "      <td>16</td>\n",
       "      <td>7</td>\n",
       "      <td>West</td>\n",
       "      <td>50</td>\n",
       "    </tr>\n",
       "    <tr>\n",
       "      <th>22609</th>\n",
       "      <td>4972</td>\n",
       "      <td>2025-06-05</td>\n",
       "      <td>6730</td>\n",
       "      <td>89</td>\n",
       "      <td>15</td>\n",
       "      <td>7</td>\n",
       "      <td>East</td>\n",
       "      <td>97</td>\n",
       "    </tr>\n",
       "  </tbody>\n",
       "</table>\n",
       "<p>22610 rows × 8 columns</p>\n",
       "</div>"
      ],
      "text/plain": [
       "       inventory_id        date  product_id  beginning_stock  received  sold warehouse_location  ending_stock\n",
       "0                 1  2025-06-20        1505               49        12     7               East            54\n",
       "1                 2  2025-05-13        1611               55         2     6              South            51\n",
       "2                 3  2025-07-02        1310               82         5     3              North            84\n",
       "3                 4  2025-05-14        2355               14        11    14               West            11\n",
       "4                 5  2025-06-13        8382               39        17    11               East            45\n",
       "...             ...         ...         ...              ...       ...   ...                ...           ...\n",
       "22605          1261  2025-06-26        7387               92        12    11              North            93\n",
       "22606          1450  2025-06-29        9817               33         0     7              North            26\n",
       "22607          8169  2025-05-27        5713               49         9    10               West            48\n",
       "22608          4535  2025-05-16        7121               41        16     7               West            50\n",
       "22609          4972  2025-06-05        6730               89        15     7               East            97\n",
       "\n",
       "[22610 rows x 8 columns]"
      ]
     },
     "execution_count": 9,
     "metadata": {},
     "output_type": "execute_result"
    }
   ],
   "source": [
    "df_inventory"
   ]
  },
  {
   "cell_type": "code",
   "execution_count": 10,
   "id": "40eb84ec",
   "metadata": {},
   "outputs": [
    {
     "name": "stdout",
     "output_type": "stream",
     "text": [
      "<class 'pandas.core.frame.DataFrame'>\n",
      "RangeIndex: 21634 entries, 0 to 21633\n",
      "Data columns (total 8 columns):\n",
      " #   Column          Non-Null Count  Dtype  \n",
      "---  ------          --------------  -----  \n",
      " 0   transaction_id  21634 non-null  int64  \n",
      " 1   date            21634 non-null  object \n",
      " 2   product_id      21634 non-null  int64  \n",
      " 3   units_sold      21634 non-null  int64  \n",
      " 4   customer_id     21634 non-null  int64  \n",
      " 5   employee_id     21634 non-null  int64  \n",
      " 6   list_price      21634 non-null  float64\n",
      " 7   sales_amount    21634 non-null  float64\n",
      "dtypes: float64(2), int64(5), object(1)\n",
      "memory usage: 1.3+ MB\n"
     ]
    }
   ],
   "source": [
    "df_transactions.info()"
   ]
  },
  {
   "cell_type": "code",
   "execution_count": 11,
   "id": "60901bd7",
   "metadata": {},
   "outputs": [
    {
     "data": {
      "application/vnd.microsoft.datawrangler.viewer.v0+json": {
       "columns": [
        {
         "name": "index",
         "rawType": "int64",
         "type": "integer"
        },
        {
         "name": "transaction_id",
         "rawType": "int64",
         "type": "integer"
        },
        {
         "name": "date",
         "rawType": "object",
         "type": "string"
        },
        {
         "name": "product_id",
         "rawType": "int64",
         "type": "integer"
        },
        {
         "name": "units_sold",
         "rawType": "int64",
         "type": "integer"
        },
        {
         "name": "customer_id",
         "rawType": "int64",
         "type": "integer"
        },
        {
         "name": "employee_id",
         "rawType": "int64",
         "type": "integer"
        },
        {
         "name": "list_price",
         "rawType": "float64",
         "type": "float"
        },
        {
         "name": "sales_amount",
         "rawType": "float64",
         "type": "float"
        }
       ],
       "ref": "15683a35-9b65-4996-a058-7acbec78ef0a",
       "rows": [
        [
         "0",
         "1",
         "2024-05-11",
         "68",
         "3",
         "3240",
         "748",
         "25.0",
         "75.0"
        ],
        [
         "1",
         "2",
         "2024-11-15",
         "5042",
         "6",
         "2246",
         "624",
         "2.45",
         "14.7"
        ],
        [
         "2",
         "3",
         "2024-03-19",
         "7165",
         "6",
         "4387",
         "139",
         "2.68",
         "16.08"
        ],
        [
         "3",
         "4",
         "2024-05-26",
         "8859",
         "7",
         "2163",
         "778",
         "9.15",
         "64.05"
        ],
        [
         "4",
         "5",
         "2024-01-24",
         "4700",
         "5",
         "4297",
         "1429",
         "3.56",
         "17.8"
        ],
        [
         "5",
         "6",
         "2024-09-22",
         "8428",
         "6",
         "2753",
         "1940",
         "0.94",
         "5.64"
        ],
        [
         "6",
         "7",
         "2025-02-27",
         "360",
         "2",
         "776",
         "310",
         "2.82",
         "5.64"
        ],
        [
         "7",
         "8",
         "2025-07-04",
         "9036",
         "9",
         "2794",
         "868",
         "6.05",
         "54.45"
        ],
        [
         "8",
         "9",
         "2024-06-21",
         "5833",
         "7",
         "3753",
         "1875",
         "32.86",
         "230.02"
        ],
        [
         "9",
         "10",
         "2025-06-29",
         "2426",
         "5",
         "2334",
         "1184",
         "15.69",
         "78.45"
        ],
        [
         "10",
         "11",
         "2024-09-30",
         "4752",
         "4",
         "2305",
         "939",
         "17.08",
         "1024.8"
        ],
        [
         "11",
         "12",
         "2024-06-30",
         "3756",
         "3",
         "4787",
         "1014",
         "1.39",
         "4.17"
        ],
        [
         "12",
         "13",
         "2023-11-13",
         "4366",
         "7",
         "433",
         "1775",
         "12.14",
         "84.98"
        ],
        [
         "13",
         "14",
         "2025-05-07",
         "7228",
         "9",
         "2147",
         "136",
         "7.13",
         "64.17"
        ],
        [
         "14",
         "15",
         "2023-08-02",
         "4795",
         "8",
         "190",
         "1454",
         "16.83",
         "134.64"
        ],
        [
         "15",
         "16",
         "2023-11-17",
         "4065",
         "9",
         "3910",
         "1577",
         "7.75",
         "69.75"
        ],
        [
         "16",
         "17",
         "2024-10-13",
         "2841",
         "7",
         "2471",
         "39",
         "33.39",
         "233.73"
        ],
        [
         "17",
         "18",
         "2023-09-15",
         "5737",
         "8",
         "2223",
         "1769",
         "21.77",
         "174.16"
        ],
        [
         "18",
         "19",
         "2024-04-17",
         "982",
         "7",
         "424",
         "724",
         "27.9",
         "195.3"
        ],
        [
         "19",
         "20",
         "2024-08-13",
         "5601",
         "3",
         "1541",
         "1657",
         "22.89",
         "68.67"
        ],
        [
         "20",
         "21",
         "2023-10-20",
         "5623",
         "6",
         "1869",
         "1934",
         "12.16",
         "72.96"
        ],
        [
         "21",
         "22",
         "2024-04-02",
         "682",
         "4",
         "1946",
         "582",
         "23.92",
         "95.68"
        ],
        [
         "22",
         "23",
         "2025-02-05",
         "813",
         "7",
         "4724",
         "1745",
         "15.73",
         "110.11"
        ],
        [
         "23",
         "24",
         "2024-04-11",
         "9461",
         "9",
         "1787",
         "873",
         "23.09",
         "207.81"
        ],
        [
         "24",
         "25",
         "2023-08-22",
         "2202",
         "2",
         "2264",
         "1521",
         "1.31",
         "2.62"
        ],
        [
         "25",
         "26",
         "2025-05-12",
         "9212",
         "1",
         "334",
         "1081",
         "18.56",
         "18.56"
        ],
        [
         "26",
         "27",
         "2024-05-20",
         "3861",
         "2",
         "4565",
         "1602",
         "19.17",
         "38.34"
        ],
        [
         "27",
         "28",
         "2024-10-03",
         "321",
         "5",
         "2088",
         "656",
         "3.72",
         "18.6"
        ],
        [
         "28",
         "29",
         "2024-11-17",
         "784",
         "6",
         "78",
         "714",
         "12.92",
         "77.52"
        ],
        [
         "29",
         "30",
         "2024-09-29",
         "8222",
         "7",
         "3137",
         "793",
         "6.63",
         "46.41"
        ],
        [
         "30",
         "31",
         "2023-07-30",
         "1932",
         "4",
         "3039",
         "1745",
         "4.82",
         "19.28"
        ],
        [
         "31",
         "32",
         "2024-12-13",
         "4569",
         "1",
         "1934",
         "966",
         "3.28",
         "3.28"
        ],
        [
         "32",
         "33",
         "2023-08-03",
         "7262",
         "7",
         "3946",
         "1591",
         "19.65",
         "137.55"
        ],
        [
         "33",
         "34",
         "2024-11-09",
         "6073",
         "9",
         "1270",
         "1083",
         "24.76",
         "222.84"
        ],
        [
         "34",
         "35",
         "2024-05-25",
         "4445",
         "9",
         "3252",
         "447",
         "24.97",
         "224.73"
        ],
        [
         "35",
         "36",
         "2023-12-16",
         "1842",
         "8",
         "883",
         "19",
         "2.11",
         "16.88"
        ],
        [
         "36",
         "37",
         "2024-07-11",
         "7395",
         "9",
         "62",
         "92",
         "22.44",
         "201.96"
        ],
        [
         "37",
         "38",
         "2024-09-30",
         "4539",
         "5",
         "1090",
         "1742",
         "22.23",
         "111.15"
        ],
        [
         "38",
         "39",
         "2024-07-29",
         "3353",
         "6",
         "297",
         "1616",
         "24.46",
         "146.76"
        ],
        [
         "39",
         "40",
         "2024-07-22",
         "6766",
         "1",
         "3361",
         "472",
         "6.64",
         "6.64"
        ],
        [
         "40",
         "41",
         "2024-10-14",
         "7302",
         "3",
         "2179",
         "741",
         "31.34",
         "94.02"
        ],
        [
         "41",
         "42",
         "2023-12-07",
         "3809",
         "4",
         "2501",
         "1531",
         "5.07",
         "20.28"
        ],
        [
         "42",
         "43",
         "2025-04-03",
         "1005",
         "7",
         "502",
         "376",
         "17.3",
         "121.1"
        ],
        [
         "43",
         "44",
         "2025-06-05",
         "7347",
         "8",
         "3771",
         "214",
         "24.18",
         "193.44"
        ],
        [
         "44",
         "45",
         "2024-11-15",
         "2713",
         "5",
         "227",
         "203",
         "10.14",
         "50.7"
        ],
        [
         "45",
         "46",
         "2025-05-12",
         "1462",
         "6",
         "1899",
         "152",
         "3.72",
         "22.32"
        ],
        [
         "46",
         "47",
         "2024-10-06",
         "1099",
         "7",
         "3544",
         "673",
         "6.33",
         "44.31"
        ],
        [
         "47",
         "48",
         "2024-12-26",
         "1472",
         "4",
         "3164",
         "794",
         "19.43",
         "77.72"
        ],
        [
         "48",
         "49",
         "2025-02-13",
         "2910",
         "6",
         "1901",
         "849",
         "24.09",
         "144.54"
        ],
        [
         "49",
         "50",
         "2024-11-09",
         "5917",
         "3",
         "2722",
         "636",
         "7.02",
         "21.06"
        ]
       ],
       "shape": {
        "columns": 8,
        "rows": 21634
       }
      },
      "text/html": [
       "<div>\n",
       "<style scoped>\n",
       "    .dataframe tbody tr th:only-of-type {\n",
       "        vertical-align: middle;\n",
       "    }\n",
       "\n",
       "    .dataframe tbody tr th {\n",
       "        vertical-align: top;\n",
       "    }\n",
       "\n",
       "    .dataframe thead th {\n",
       "        text-align: right;\n",
       "    }\n",
       "</style>\n",
       "<table border=\"1\" class=\"dataframe\">\n",
       "  <thead>\n",
       "    <tr style=\"text-align: right;\">\n",
       "      <th></th>\n",
       "      <th>transaction_id</th>\n",
       "      <th>date</th>\n",
       "      <th>product_id</th>\n",
       "      <th>units_sold</th>\n",
       "      <th>customer_id</th>\n",
       "      <th>employee_id</th>\n",
       "      <th>list_price</th>\n",
       "      <th>sales_amount</th>\n",
       "    </tr>\n",
       "  </thead>\n",
       "  <tbody>\n",
       "    <tr>\n",
       "      <th>0</th>\n",
       "      <td>1</td>\n",
       "      <td>2024-05-11</td>\n",
       "      <td>68</td>\n",
       "      <td>3</td>\n",
       "      <td>3240</td>\n",
       "      <td>748</td>\n",
       "      <td>25.00</td>\n",
       "      <td>75.00</td>\n",
       "    </tr>\n",
       "    <tr>\n",
       "      <th>1</th>\n",
       "      <td>2</td>\n",
       "      <td>2024-11-15</td>\n",
       "      <td>5042</td>\n",
       "      <td>6</td>\n",
       "      <td>2246</td>\n",
       "      <td>624</td>\n",
       "      <td>2.45</td>\n",
       "      <td>14.70</td>\n",
       "    </tr>\n",
       "    <tr>\n",
       "      <th>2</th>\n",
       "      <td>3</td>\n",
       "      <td>2024-03-19</td>\n",
       "      <td>7165</td>\n",
       "      <td>6</td>\n",
       "      <td>4387</td>\n",
       "      <td>139</td>\n",
       "      <td>2.68</td>\n",
       "      <td>16.08</td>\n",
       "    </tr>\n",
       "    <tr>\n",
       "      <th>3</th>\n",
       "      <td>4</td>\n",
       "      <td>2024-05-26</td>\n",
       "      <td>8859</td>\n",
       "      <td>7</td>\n",
       "      <td>2163</td>\n",
       "      <td>778</td>\n",
       "      <td>9.15</td>\n",
       "      <td>64.05</td>\n",
       "    </tr>\n",
       "    <tr>\n",
       "      <th>4</th>\n",
       "      <td>5</td>\n",
       "      <td>2024-01-24</td>\n",
       "      <td>4700</td>\n",
       "      <td>5</td>\n",
       "      <td>4297</td>\n",
       "      <td>1429</td>\n",
       "      <td>3.56</td>\n",
       "      <td>17.80</td>\n",
       "    </tr>\n",
       "    <tr>\n",
       "      <th>...</th>\n",
       "      <td>...</td>\n",
       "      <td>...</td>\n",
       "      <td>...</td>\n",
       "      <td>...</td>\n",
       "      <td>...</td>\n",
       "      <td>...</td>\n",
       "      <td>...</td>\n",
       "      <td>...</td>\n",
       "    </tr>\n",
       "    <tr>\n",
       "      <th>21629</th>\n",
       "      <td>19873</td>\n",
       "      <td>2025-03-30</td>\n",
       "      <td>8349</td>\n",
       "      <td>1</td>\n",
       "      <td>1611</td>\n",
       "      <td>1238</td>\n",
       "      <td>20.61</td>\n",
       "      <td>20.61</td>\n",
       "    </tr>\n",
       "    <tr>\n",
       "      <th>21630</th>\n",
       "      <td>11194</td>\n",
       "      <td>2023-12-24</td>\n",
       "      <td>7061</td>\n",
       "      <td>8</td>\n",
       "      <td>2050</td>\n",
       "      <td>223</td>\n",
       "      <td>18.44</td>\n",
       "      <td>147.52</td>\n",
       "    </tr>\n",
       "    <tr>\n",
       "      <th>21631</th>\n",
       "      <td>8909</td>\n",
       "      <td>2023-09-21</td>\n",
       "      <td>5728</td>\n",
       "      <td>9</td>\n",
       "      <td>771</td>\n",
       "      <td>1763</td>\n",
       "      <td>22.39</td>\n",
       "      <td>201.51</td>\n",
       "    </tr>\n",
       "    <tr>\n",
       "      <th>21632</th>\n",
       "      <td>10211</td>\n",
       "      <td>2024-12-17</td>\n",
       "      <td>3709</td>\n",
       "      <td>8</td>\n",
       "      <td>2444</td>\n",
       "      <td>118</td>\n",
       "      <td>20.25</td>\n",
       "      <td>162.00</td>\n",
       "    </tr>\n",
       "    <tr>\n",
       "      <th>21633</th>\n",
       "      <td>8517</td>\n",
       "      <td>2023-10-13</td>\n",
       "      <td>9987</td>\n",
       "      <td>4</td>\n",
       "      <td>1365</td>\n",
       "      <td>892</td>\n",
       "      <td>33.46</td>\n",
       "      <td>133.84</td>\n",
       "    </tr>\n",
       "  </tbody>\n",
       "</table>\n",
       "<p>21634 rows × 8 columns</p>\n",
       "</div>"
      ],
      "text/plain": [
       "       transaction_id        date  product_id  units_sold  customer_id  employee_id  list_price  sales_amount\n",
       "0                   1  2024-05-11          68           3         3240          748       25.00         75.00\n",
       "1                   2  2024-11-15        5042           6         2246          624        2.45         14.70\n",
       "2                   3  2024-03-19        7165           6         4387          139        2.68         16.08\n",
       "3                   4  2024-05-26        8859           7         2163          778        9.15         64.05\n",
       "4                   5  2024-01-24        4700           5         4297         1429        3.56         17.80\n",
       "...               ...         ...         ...         ...          ...          ...         ...           ...\n",
       "21629           19873  2025-03-30        8349           1         1611         1238       20.61         20.61\n",
       "21630           11194  2023-12-24        7061           8         2050          223       18.44        147.52\n",
       "21631            8909  2023-09-21        5728           9          771         1763       22.39        201.51\n",
       "21632           10211  2024-12-17        3709           8         2444          118       20.25        162.00\n",
       "21633            8517  2023-10-13        9987           4         1365          892       33.46        133.84\n",
       "\n",
       "[21634 rows x 8 columns]"
      ]
     },
     "execution_count": 11,
     "metadata": {},
     "output_type": "execute_result"
    }
   ],
   "source": [
    "df_transactions"
   ]
  },
  {
   "cell_type": "code",
   "execution_count": 12,
   "id": "c589f7c7",
   "metadata": {},
   "outputs": [
    {
     "name": "stdout",
     "output_type": "stream",
     "text": [
      "<class 'pandas.core.frame.DataFrame'>\n",
      "RangeIndex: 5433 entries, 0 to 5432\n",
      "Data columns (total 6 columns):\n",
      " #   Column         Non-Null Count  Dtype \n",
      "---  ------         --------------  ----- \n",
      " 0   customer_id    5433 non-null   int64 \n",
      " 1   customer_name  5433 non-null   object\n",
      " 2   join_date      5433 non-null   object\n",
      " 3   total_spent    5433 non-null   object\n",
      " 4   frequency      5433 non-null   int64 \n",
      " 5   segment        5433 non-null   object\n",
      "dtypes: int64(2), object(4)\n",
      "memory usage: 254.8+ KB\n"
     ]
    }
   ],
   "source": [
    "df_customers.info()"
   ]
  },
  {
   "cell_type": "code",
   "execution_count": 13,
   "id": "d2a96f45",
   "metadata": {},
   "outputs": [
    {
     "data": {
      "application/vnd.microsoft.datawrangler.viewer.v0+json": {
       "columns": [
        {
         "name": "index",
         "rawType": "int64",
         "type": "integer"
        },
        {
         "name": "customer_id",
         "rawType": "int64",
         "type": "integer"
        },
        {
         "name": "customer_name",
         "rawType": "object",
         "type": "string"
        },
        {
         "name": "join_date",
         "rawType": "object",
         "type": "string"
        },
        {
         "name": "total_spent",
         "rawType": "object",
         "type": "string"
        },
        {
         "name": "frequency",
         "rawType": "int64",
         "type": "integer"
        },
        {
         "name": "segment",
         "rawType": "object",
         "type": "string"
        }
       ],
       "ref": "2cbe85ba-172a-4c0f-bc00-96822e30054d",
       "rows": [
        [
         "0",
         "1",
         "Charles Miller",
         "2024-08-13",
         "294.24",
         "12",
         "Occasional"
        ],
        [
         "1",
         "2",
         "Michael Long",
         "2024-09-03",
         "4011.83",
         "7",
         "Frequent"
        ],
        [
         "2",
         "3",
         "Kimberly Green",
         "2024-01-23",
         "",
         "15",
         "High Value"
        ],
        [
         "3",
         "4",
         "Beverly Bowers",
         "2024-11-03",
         "1403.0",
         "13",
         "Occasional"
        ],
        [
         "4",
         "5",
         "Pamela Berg",
         "2024-08-05",
         "1354.18",
         "18",
         "High Value"
        ],
        [
         "5",
         "6",
         "Tiffany Ryan",
         "2024-07-15",
         "1253.15",
         "1",
         "Occasional"
        ],
        [
         "6",
         "7",
         "Elizabeth Johnson",
         "2023-09-12",
         "914.91",
         "42",
         "Occasional"
        ],
        [
         "7",
         "8",
         "Joseph Thomas",
         "2024-10-21",
         "1995.77",
         "29",
         "Frequent"
        ],
        [
         "8",
         "9",
         "Victor Smith",
         "2023-10-12",
         "3802.82",
         "48",
         "Frequent"
        ],
        [
         "9",
         "10",
         "Justin Scott",
         "2024-05-29",
         "3161.12",
         "30",
         "Occasional"
        ],
        [
         "10",
         "11",
         "Heather Munoz",
         "2024-10-19",
         "1904.17",
         "26",
         "Occasional"
        ],
        [
         "11",
         "12",
         "John Snow DVM",
         "2023-08-11",
         "2319.36",
         "43",
         "High Value"
        ],
        [
         "12",
         "13",
         "David Gaines",
         "2024-11-14",
         "1417.41",
         "46",
         "Occasional"
        ],
        [
         "13",
         "14",
         "Angel Cameron",
         "2024-05-08",
         "2555.56",
         "40",
         "Occasional"
        ],
        [
         "14",
         "15",
         "Jonathan Nguyen PhD",
         "2024-08-13",
         "978.83",
         "46",
         "Occasional"
        ],
        [
         "15",
         "16",
         "Angela Smith",
         "2024-12-13",
         "3276.77",
         "4",
         "High Value"
        ],
        [
         "16",
         "17",
         "David Frazier",
         "2024-04-05",
         "4699.68",
         "21",
         "High Value"
        ],
        [
         "17",
         "18",
         "Raymond Dawson",
         "2024-04-14",
         "4725.46",
         "24",
         "Occasional"
        ],
        [
         "18",
         "19",
         "Kristina Blair",
         "2025-04-07",
         "2467.08",
         "46",
         "High Value"
        ],
        [
         "19",
         "20",
         "Alex King",
         "2025-03-02",
         "3996.57",
         "27",
         "Frequent"
        ],
        [
         "20",
         "21",
         "Shane Andersen",
         "2023-09-19",
         "2865.38",
         "46",
         "Frequent"
        ],
        [
         "21",
         "22",
         "Kevin Robbins",
         "2023-09-10",
         "1604.29",
         "6",
         "Frequent"
        ],
        [
         "22",
         "23",
         "Monica Johnson",
         "2024-08-12",
         "1787.39",
         "18",
         "Occasional"
        ],
        [
         "23",
         "24",
         "Cheryl Sanders",
         "2024-06-18",
         "287.98",
         "6",
         "High Value"
        ],
        [
         "24",
         "25",
         "Cody Wallace MD",
         "2023-10-12",
         "3803.58",
         "33",
         "High Value"
        ],
        [
         "25",
         "26",
         "Lisa Sanchez",
         "2023-09-05",
         "4329.15",
         "4",
         "High Value"
        ],
        [
         "26",
         "27",
         "Ralph Li",
         "2024-07-06",
         "945.71",
         "21",
         "Frequent"
        ],
        [
         "27",
         "28",
         "Kevin Wells",
         "2024-11-23",
         "1102.38",
         "37",
         "Occasional"
        ],
        [
         "28",
         "29",
         "Ashley Briggs",
         "2023-07-08",
         "4375.77",
         "3",
         ""
        ],
        [
         "29",
         "30",
         "Adam Gregory",
         "2024-06-29",
         "215.55",
         "47",
         "Occasional"
        ],
        [
         "30",
         "31",
         "Yolanda Bennett",
         "2024-04-30",
         "1468.95",
         "41",
         "High Value"
        ],
        [
         "31",
         "32",
         "Chris Bonilla",
         "2024-07-31",
         "2802.63",
         "49",
         "High Value"
        ],
        [
         "32",
         "33",
         "Bonnie Martin",
         "2024-05-02",
         "4010.03",
         "12",
         "Occasional"
        ],
        [
         "33",
         "34",
         "Alexandra Hernandez",
         "2024-11-11",
         "3843.28",
         "13",
         "High Value"
        ],
        [
         "34",
         "35",
         "Douglas Smith",
         "2024-05-07",
         "3976.83",
         "13",
         "Frequent"
        ],
        [
         "35",
         "36",
         "Caitlin Collins",
         "2025-05-20",
         "3696.33",
         "42",
         "Frequent"
        ],
        [
         "36",
         "37",
         "Christopher Simmons",
         "2024-03-20",
         "3415.21",
         "39",
         "High Value"
        ],
        [
         "37",
         "38",
         "Angela Cook",
         "2024-01-08",
         "2887.93",
         "4",
         "Frequent"
        ],
        [
         "38",
         "39",
         "Krista Peters",
         "2023-10-31",
         "4560.03",
         "8",
         "Frequent"
        ],
        [
         "39",
         "40",
         "Emily Adams",
         "2024-05-12",
         "1151.73",
         "22",
         "High Value"
        ],
        [
         "40",
         "41",
         "David Pierce",
         "2025-04-18",
         "4861.94",
         "8",
         "High Value"
        ],
        [
         "41",
         "42",
         "Christopher Anderson",
         "2024-01-25",
         "1517.52",
         "27",
         "High Value"
        ],
        [
         "42",
         "43",
         "Ernest Palmer",
         "2024-01-18",
         "1784.81",
         "43",
         "Occasional"
        ],
        [
         "43",
         "44",
         "Todd Ruiz",
         "2025-03-26",
         "3548.35",
         "35",
         "High Value"
        ],
        [
         "44",
         "45",
         "Cynthia Morgan",
         "2024-05-03",
         "3601.28",
         "20",
         "Occasional"
        ],
        [
         "45",
         "46",
         "Brandy Rogers",
         "2024-03-18",
         "3976.36",
         "27",
         "Occasional"
        ],
        [
         "46",
         "47",
         "Karen Warren",
         "2023-08-23",
         "4518.97",
         "19",
         "High Value"
        ],
        [
         "47",
         "48",
         "Laura Rhodes",
         "2024-02-22",
         "3776.15",
         "18",
         "High Value"
        ],
        [
         "48",
         "49",
         "Tonya Crawford",
         "2025-04-08",
         "2182.44",
         "15",
         "High Value"
        ],
        [
         "49",
         "50",
         "Cindy Liu",
         "2025-04-02",
         "1226.24",
         "39",
         ""
        ]
       ],
       "shape": {
        "columns": 6,
        "rows": 5433
       }
      },
      "text/html": [
       "<div>\n",
       "<style scoped>\n",
       "    .dataframe tbody tr th:only-of-type {\n",
       "        vertical-align: middle;\n",
       "    }\n",
       "\n",
       "    .dataframe tbody tr th {\n",
       "        vertical-align: top;\n",
       "    }\n",
       "\n",
       "    .dataframe thead th {\n",
       "        text-align: right;\n",
       "    }\n",
       "</style>\n",
       "<table border=\"1\" class=\"dataframe\">\n",
       "  <thead>\n",
       "    <tr style=\"text-align: right;\">\n",
       "      <th></th>\n",
       "      <th>customer_id</th>\n",
       "      <th>customer_name</th>\n",
       "      <th>join_date</th>\n",
       "      <th>total_spent</th>\n",
       "      <th>frequency</th>\n",
       "      <th>segment</th>\n",
       "    </tr>\n",
       "  </thead>\n",
       "  <tbody>\n",
       "    <tr>\n",
       "      <th>0</th>\n",
       "      <td>1</td>\n",
       "      <td>Charles Miller</td>\n",
       "      <td>2024-08-13</td>\n",
       "      <td>294.24</td>\n",
       "      <td>12</td>\n",
       "      <td>Occasional</td>\n",
       "    </tr>\n",
       "    <tr>\n",
       "      <th>1</th>\n",
       "      <td>2</td>\n",
       "      <td>Michael Long</td>\n",
       "      <td>2024-09-03</td>\n",
       "      <td>4011.83</td>\n",
       "      <td>7</td>\n",
       "      <td>Frequent</td>\n",
       "    </tr>\n",
       "    <tr>\n",
       "      <th>2</th>\n",
       "      <td>3</td>\n",
       "      <td>Kimberly Green</td>\n",
       "      <td>2024-01-23</td>\n",
       "      <td></td>\n",
       "      <td>15</td>\n",
       "      <td>High Value</td>\n",
       "    </tr>\n",
       "    <tr>\n",
       "      <th>3</th>\n",
       "      <td>4</td>\n",
       "      <td>Beverly Bowers</td>\n",
       "      <td>2024-11-03</td>\n",
       "      <td>1403.0</td>\n",
       "      <td>13</td>\n",
       "      <td>Occasional</td>\n",
       "    </tr>\n",
       "    <tr>\n",
       "      <th>4</th>\n",
       "      <td>5</td>\n",
       "      <td>Pamela Berg</td>\n",
       "      <td>2024-08-05</td>\n",
       "      <td>1354.18</td>\n",
       "      <td>18</td>\n",
       "      <td>High Value</td>\n",
       "    </tr>\n",
       "    <tr>\n",
       "      <th>...</th>\n",
       "      <td>...</td>\n",
       "      <td>...</td>\n",
       "      <td>...</td>\n",
       "      <td>...</td>\n",
       "      <td>...</td>\n",
       "      <td>...</td>\n",
       "    </tr>\n",
       "    <tr>\n",
       "      <th>5428</th>\n",
       "      <td>4570</td>\n",
       "      <td>Charles Oneal</td>\n",
       "      <td>2023-09-07</td>\n",
       "      <td>550.79</td>\n",
       "      <td>11</td>\n",
       "      <td>Frequent</td>\n",
       "    </tr>\n",
       "    <tr>\n",
       "      <th>5429</th>\n",
       "      <td>3122</td>\n",
       "      <td>Ryan Guzman</td>\n",
       "      <td>2024-07-26</td>\n",
       "      <td>4137.12</td>\n",
       "      <td>24</td>\n",
       "      <td>Occasional</td>\n",
       "    </tr>\n",
       "    <tr>\n",
       "      <th>5430</th>\n",
       "      <td>143</td>\n",
       "      <td>Julia Little</td>\n",
       "      <td>2024-09-25</td>\n",
       "      <td>2568.29</td>\n",
       "      <td>23</td>\n",
       "      <td>High Value</td>\n",
       "    </tr>\n",
       "    <tr>\n",
       "      <th>5431</th>\n",
       "      <td>2554</td>\n",
       "      <td>Julia Shelton</td>\n",
       "      <td>2025-01-23</td>\n",
       "      <td>447.84</td>\n",
       "      <td>28</td>\n",
       "      <td>Occasional</td>\n",
       "    </tr>\n",
       "    <tr>\n",
       "      <th>5432</th>\n",
       "      <td>3936</td>\n",
       "      <td>Teresa Hernandez</td>\n",
       "      <td>2023-09-23</td>\n",
       "      <td>4515.7</td>\n",
       "      <td>8</td>\n",
       "      <td>High Value</td>\n",
       "    </tr>\n",
       "  </tbody>\n",
       "</table>\n",
       "<p>5433 rows × 6 columns</p>\n",
       "</div>"
      ],
      "text/plain": [
       "      customer_id     customer_name   join_date total_spent  frequency     segment\n",
       "0               1    Charles Miller  2024-08-13      294.24         12  Occasional\n",
       "1               2      Michael Long  2024-09-03     4011.83          7    Frequent\n",
       "2               3    Kimberly Green  2024-01-23                     15  High Value\n",
       "3               4    Beverly Bowers  2024-11-03      1403.0         13  Occasional\n",
       "4               5       Pamela Berg  2024-08-05     1354.18         18  High Value\n",
       "...           ...               ...         ...         ...        ...         ...\n",
       "5428         4570     Charles Oneal  2023-09-07      550.79         11    Frequent\n",
       "5429         3122       Ryan Guzman  2024-07-26     4137.12         24  Occasional\n",
       "5430          143      Julia Little  2024-09-25     2568.29         23  High Value\n",
       "5431         2554     Julia Shelton  2025-01-23      447.84         28  Occasional\n",
       "5432         3936  Teresa Hernandez  2023-09-23      4515.7          8  High Value\n",
       "\n",
       "[5433 rows x 6 columns]"
      ]
     },
     "execution_count": 13,
     "metadata": {},
     "output_type": "execute_result"
    }
   ],
   "source": [
    "df_customers"
   ]
  },
  {
   "cell_type": "code",
   "execution_count": 14,
   "id": "ab0070bf",
   "metadata": {},
   "outputs": [
    {
     "name": "stdout",
     "output_type": "stream",
     "text": [
      "<class 'pandas.core.frame.DataFrame'>\n",
      "RangeIndex: 2209 entries, 0 to 2208\n",
      "Data columns (total 5 columns):\n",
      " #   Column         Non-Null Count  Dtype  \n",
      "---  ------         --------------  -----  \n",
      " 0   employee_id    2209 non-null   int64  \n",
      " 1   employee_name  2209 non-null   object \n",
      " 2   region         2209 non-null   object \n",
      " 3   total_sales    2209 non-null   float64\n",
      " 4   effectiveness  2209 non-null   float64\n",
      "dtypes: float64(2), int64(1), object(2)\n",
      "memory usage: 86.4+ KB\n"
     ]
    }
   ],
   "source": [
    "df_salesforce.info()"
   ]
  },
  {
   "cell_type": "code",
   "execution_count": 15,
   "id": "3e904e31",
   "metadata": {},
   "outputs": [
    {
     "data": {
      "application/vnd.microsoft.datawrangler.viewer.v0+json": {
       "columns": [
        {
         "name": "index",
         "rawType": "int64",
         "type": "integer"
        },
        {
         "name": "employee_id",
         "rawType": "int64",
         "type": "integer"
        },
        {
         "name": "employee_name",
         "rawType": "object",
         "type": "string"
        },
        {
         "name": "region",
         "rawType": "object",
         "type": "string"
        },
        {
         "name": "total_sales",
         "rawType": "float64",
         "type": "float"
        },
        {
         "name": "effectiveness",
         "rawType": "float64",
         "type": "float"
        }
       ],
       "ref": "e5b5c137-c504-4413-82f7-80895ab6efaf",
       "rows": [
        [
         "0",
         "1",
         "Angela Marks",
         "North",
         "75912.6",
         "0.73"
        ],
        [
         "1",
         "2",
         "Richard Ayala",
         "South",
         "55019.09",
         "0.88"
        ],
        [
         "2",
         "3",
         "Dr. Mark Bailey",
         "South",
         "37066.43",
         "0.66"
        ],
        [
         "3",
         "4",
         "Mark Miller",
         "South",
         "47485.74",
         "0.74"
        ],
        [
         "4",
         "5",
         "Zachary Bond",
         "West",
         "74696.77",
         "0.65"
        ],
        [
         "5",
         "6",
         "Joanna Roberts",
         "North",
         "28973.34",
         "0.69"
        ],
        [
         "6",
         "7",
         "Jessica Williams",
         "East",
         "10295.13",
         "0.68"
        ],
        [
         "7",
         "8",
         "Mitchell Thomas",
         "East",
         "71050.8",
         "0.9"
        ],
        [
         "8",
         "9",
         "Calvin Nguyen",
         "South",
         "44159.28",
         "0.7"
        ],
        [
         "9",
         "10",
         "Sarah Jones",
         "North",
         "44059.92",
         "0.77"
        ],
        [
         "10",
         "11",
         "Michelle Roberts",
         "North",
         "30947.42",
         "0.92"
        ],
        [
         "11",
         "12",
         "Connie Jenkins",
         "South",
         "40818.4",
         "0.85"
        ],
        [
         "12",
         "13",
         "James Drake",
         "West",
         "90471.63",
         "0.7"
        ],
        [
         "13",
         "14",
         "Edward Cooper",
         "South",
         "65005.4",
         "0.66"
        ],
        [
         "14",
         "15",
         "Grace Smith",
         "North",
         "14682.21",
         "0.82"
        ],
        [
         "15",
         "16",
         "Ashlee Mcdaniel",
         "South",
         "68332.82",
         "0.66"
        ],
        [
         "16",
         "17",
         "Gregory Gutierrez",
         "South",
         "37293.39",
         "0.87"
        ],
        [
         "17",
         "18",
         "Michael Garza",
         "East",
         "70786.83",
         "0.6"
        ],
        [
         "18",
         "19",
         "Mark Bentley",
         "East",
         "18645.14",
         "0.84"
        ],
        [
         "19",
         "20",
         "Lisa Taylor",
         "West",
         "56554.73",
         "0.66"
        ],
        [
         "20",
         "21",
         "Jill Mcdonald",
         "East",
         "19042.52",
         "0.77"
        ],
        [
         "21",
         "22",
         "Samantha Wallace",
         "North",
         "54407.34",
         "0.93"
        ],
        [
         "22",
         "23",
         "Michelle Hernandez",
         "South",
         "70666.37",
         "0.83"
        ],
        [
         "23",
         "24",
         "Bridget Chapman",
         "North",
         "13438.87",
         "0.83"
        ],
        [
         "24",
         "25",
         "Frank Walker",
         "North",
         "37720.77",
         "0.75"
        ],
        [
         "25",
         "26",
         "Thomas Oliver",
         "West",
         "10783.09",
         "0.78"
        ],
        [
         "26",
         "27",
         "Jason Gonzalez",
         "North",
         "22210.78",
         "0.91"
        ],
        [
         "27",
         "28",
         "Jaime Chang",
         "South",
         "49647.12",
         "0.68"
        ],
        [
         "28",
         "29",
         "Gabriel Scott",
         "West",
         "53952.69",
         "0.89"
        ],
        [
         "29",
         "30",
         "Renee Howard",
         "West",
         "63906.86",
         "0.86"
        ],
        [
         "30",
         "31",
         "Derrick Ross",
         "East",
         "81313.45",
         "0.77"
        ],
        [
         "31",
         "32",
         "Lisa Potts",
         "East",
         "72684.68",
         "0.76"
        ],
        [
         "32",
         "33",
         "Dr. Scott Grant",
         "East",
         "24360.67",
         "0.79"
        ],
        [
         "33",
         "34",
         "Thomas Vega",
         "North",
         "61649.49",
         "0.81"
        ],
        [
         "34",
         "35",
         "Melissa Rogers",
         "North",
         "27109.95",
         "0.9"
        ],
        [
         "35",
         "36",
         "James Gibson",
         "North",
         "83111.15",
         "0.82"
        ],
        [
         "36",
         "37",
         "Sonya Donaldson",
         "South",
         "76720.7",
         "0.7"
        ],
        [
         "37",
         "38",
         "Bethany White",
         "West",
         "96073.51",
         "0.62"
        ],
        [
         "38",
         "39",
         "James Johnson",
         "North",
         "56564.59",
         "0.83"
        ],
        [
         "39",
         "40",
         "Robert Lucas",
         "South",
         "34962.55",
         "0.74"
        ],
        [
         "40",
         "41",
         "Richard Cabrera",
         "West",
         "13386.25",
         "0.68"
        ],
        [
         "41",
         "42",
         "Tracy Hutchinson",
         "South",
         "26233.94",
         "0.72"
        ],
        [
         "42",
         "43",
         "Joseph Jennings",
         "East",
         "16822.62",
         "0.67"
        ],
        [
         "43",
         "44",
         "Maria Hernandez",
         "South",
         "29464.58",
         "0.72"
        ],
        [
         "44",
         "45",
         "William Rios",
         "East",
         "30705.67",
         "0.91"
        ],
        [
         "45",
         "46",
         "Sherry Williams",
         "South",
         "24719.14",
         "0.75"
        ],
        [
         "46",
         "47",
         "John Rodriguez",
         "East",
         "30607.63",
         "0.88"
        ],
        [
         "47",
         "48",
         "Joseph Johnson",
         "North",
         "13011.85",
         "0.75"
        ],
        [
         "48",
         "49",
         "Rebecca Evans",
         "South",
         "58340.14",
         "0.6"
        ],
        [
         "49",
         "50",
         "Amy Hebert",
         "East",
         "45286.02",
         "0.71"
        ]
       ],
       "shape": {
        "columns": 5,
        "rows": 2209
       }
      },
      "text/html": [
       "<div>\n",
       "<style scoped>\n",
       "    .dataframe tbody tr th:only-of-type {\n",
       "        vertical-align: middle;\n",
       "    }\n",
       "\n",
       "    .dataframe tbody tr th {\n",
       "        vertical-align: top;\n",
       "    }\n",
       "\n",
       "    .dataframe thead th {\n",
       "        text-align: right;\n",
       "    }\n",
       "</style>\n",
       "<table border=\"1\" class=\"dataframe\">\n",
       "  <thead>\n",
       "    <tr style=\"text-align: right;\">\n",
       "      <th></th>\n",
       "      <th>employee_id</th>\n",
       "      <th>employee_name</th>\n",
       "      <th>region</th>\n",
       "      <th>total_sales</th>\n",
       "      <th>effectiveness</th>\n",
       "    </tr>\n",
       "  </thead>\n",
       "  <tbody>\n",
       "    <tr>\n",
       "      <th>0</th>\n",
       "      <td>1</td>\n",
       "      <td>Angela Marks</td>\n",
       "      <td>North</td>\n",
       "      <td>75912.60</td>\n",
       "      <td>0.73</td>\n",
       "    </tr>\n",
       "    <tr>\n",
       "      <th>1</th>\n",
       "      <td>2</td>\n",
       "      <td>Richard Ayala</td>\n",
       "      <td>South</td>\n",
       "      <td>55019.09</td>\n",
       "      <td>0.88</td>\n",
       "    </tr>\n",
       "    <tr>\n",
       "      <th>2</th>\n",
       "      <td>3</td>\n",
       "      <td>Dr. Mark Bailey</td>\n",
       "      <td>South</td>\n",
       "      <td>37066.43</td>\n",
       "      <td>0.66</td>\n",
       "    </tr>\n",
       "    <tr>\n",
       "      <th>3</th>\n",
       "      <td>4</td>\n",
       "      <td>Mark Miller</td>\n",
       "      <td>South</td>\n",
       "      <td>47485.74</td>\n",
       "      <td>0.74</td>\n",
       "    </tr>\n",
       "    <tr>\n",
       "      <th>4</th>\n",
       "      <td>5</td>\n",
       "      <td>Zachary Bond</td>\n",
       "      <td>West</td>\n",
       "      <td>74696.77</td>\n",
       "      <td>0.65</td>\n",
       "    </tr>\n",
       "    <tr>\n",
       "      <th>...</th>\n",
       "      <td>...</td>\n",
       "      <td>...</td>\n",
       "      <td>...</td>\n",
       "      <td>...</td>\n",
       "      <td>...</td>\n",
       "    </tr>\n",
       "    <tr>\n",
       "      <th>2204</th>\n",
       "      <td>1627</td>\n",
       "      <td>Kelsey Ray</td>\n",
       "      <td>South</td>\n",
       "      <td>91797.62</td>\n",
       "      <td>0.75</td>\n",
       "    </tr>\n",
       "    <tr>\n",
       "      <th>2205</th>\n",
       "      <td>943</td>\n",
       "      <td>David Short</td>\n",
       "      <td>East</td>\n",
       "      <td>51261.00</td>\n",
       "      <td>0.71</td>\n",
       "    </tr>\n",
       "    <tr>\n",
       "      <th>2206</th>\n",
       "      <td>1636</td>\n",
       "      <td>Christy Prince</td>\n",
       "      <td>North</td>\n",
       "      <td>83904.99</td>\n",
       "      <td>0.90</td>\n",
       "    </tr>\n",
       "    <tr>\n",
       "      <th>2207</th>\n",
       "      <td>569</td>\n",
       "      <td>Julie Roberts</td>\n",
       "      <td>South</td>\n",
       "      <td>62354.57</td>\n",
       "      <td>0.62</td>\n",
       "    </tr>\n",
       "    <tr>\n",
       "      <th>2208</th>\n",
       "      <td>570</td>\n",
       "      <td>Steven Gonzalez</td>\n",
       "      <td>South</td>\n",
       "      <td>45142.34</td>\n",
       "      <td>0.70</td>\n",
       "    </tr>\n",
       "  </tbody>\n",
       "</table>\n",
       "<p>2209 rows × 5 columns</p>\n",
       "</div>"
      ],
      "text/plain": [
       "      employee_id    employee_name region  total_sales  effectiveness\n",
       "0               1     Angela Marks  North     75912.60           0.73\n",
       "1               2    Richard Ayala  South     55019.09           0.88\n",
       "2               3  Dr. Mark Bailey  South     37066.43           0.66\n",
       "3               4      Mark Miller  South     47485.74           0.74\n",
       "4               5     Zachary Bond   West     74696.77           0.65\n",
       "...           ...              ...    ...          ...            ...\n",
       "2204         1627       Kelsey Ray  South     91797.62           0.75\n",
       "2205          943      David Short   East     51261.00           0.71\n",
       "2206         1636   Christy Prince  North     83904.99           0.90\n",
       "2207          569    Julie Roberts  South     62354.57           0.62\n",
       "2208          570  Steven Gonzalez  South     45142.34           0.70\n",
       "\n",
       "[2209 rows x 5 columns]"
      ]
     },
     "execution_count": 15,
     "metadata": {},
     "output_type": "execute_result"
    }
   ],
   "source": [
    "df_salesforce"
   ]
  },
  {
   "cell_type": "markdown",
   "id": "9ecc42c7",
   "metadata": {},
   "source": [
    "### 3.1. Standardizing String values using \"snake case\"."
   ]
  },
  {
   "cell_type": "markdown",
   "id": "e009a930",
   "metadata": {},
   "source": [
    "#### 3.1.1 Standardizing Column Labels."
   ]
  },
  {
   "cell_type": "code",
   "execution_count": 16,
   "id": "05669bd8",
   "metadata": {},
   "outputs": [
    {
     "data": {
      "text/plain": [
       "Index(['product_id', 'product_name', 'category', 'supplier_id', 'unit_cost', 'status', 'brand', 'list_price'], dtype='object')"
      ]
     },
     "execution_count": 16,
     "metadata": {},
     "output_type": "execute_result"
    }
   ],
   "source": [
    "# Standardize column labels with snake_case format\n",
    "df_products = normalize_columns_headers_format(df_products)\n",
    "df_products.columns"
   ]
  },
  {
   "cell_type": "code",
   "execution_count": 17,
   "id": "9b5245e4",
   "metadata": {},
   "outputs": [
    {
     "data": {
      "text/plain": [
       "Index(['supplier_id', 'supplier_name', 'lead_time_days', 'contact_info', 'rating'], dtype='object')"
      ]
     },
     "execution_count": 17,
     "metadata": {},
     "output_type": "execute_result"
    }
   ],
   "source": [
    "df_suppliers = normalize_columns_headers_format(df_suppliers)\n",
    "df_suppliers.columns"
   ]
  },
  {
   "cell_type": "code",
   "execution_count": 18,
   "id": "64ee2e20",
   "metadata": {},
   "outputs": [
    {
     "data": {
      "text/plain": [
       "Index(['inventory_id', 'date', 'product_id', 'beginning_stock', 'received', 'sold', 'warehouse_location', 'ending_stock'], dtype='object')"
      ]
     },
     "execution_count": 18,
     "metadata": {},
     "output_type": "execute_result"
    }
   ],
   "source": [
    "df_inventory = normalize_columns_headers_format(df_inventory)\n",
    "df_inventory.columns"
   ]
  },
  {
   "cell_type": "code",
   "execution_count": 19,
   "id": "0a47a9b5",
   "metadata": {},
   "outputs": [
    {
     "data": {
      "text/plain": [
       "Index(['transaction_id', 'date', 'product_id', 'units_sold', 'customer_id', 'employee_id', 'list_price', 'sales_amount'], dtype='object')"
      ]
     },
     "execution_count": 19,
     "metadata": {},
     "output_type": "execute_result"
    }
   ],
   "source": [
    "df_transactions = normalize_columns_headers_format(df_transactions)\n",
    "df_transactions.columns"
   ]
  },
  {
   "cell_type": "code",
   "execution_count": 20,
   "id": "b3f2c2dd",
   "metadata": {},
   "outputs": [
    {
     "data": {
      "text/plain": [
       "Index(['customer_id', 'customer_name', 'join_date', 'total_spent', 'frequency', 'segment'], dtype='object')"
      ]
     },
     "execution_count": 20,
     "metadata": {},
     "output_type": "execute_result"
    }
   ],
   "source": [
    "df_customers = normalize_columns_headers_format(df_customers)\n",
    "df_customers.columns"
   ]
  },
  {
   "cell_type": "code",
   "execution_count": 21,
   "id": "cf1cd63d",
   "metadata": {},
   "outputs": [
    {
     "data": {
      "text/plain": [
       "Index(['employee_id', 'employee_name', 'region', 'total_sales', 'effectiveness'], dtype='object')"
      ]
     },
     "execution_count": 21,
     "metadata": {},
     "output_type": "execute_result"
    }
   ],
   "source": [
    "df_salesforce = normalize_columns_headers_format(df_salesforce)\n",
    "df_salesforce.columns"
   ]
  },
  {
   "cell_type": "markdown",
   "id": "0cc7d74b",
   "metadata": {},
   "source": [
    "#### 3.1.2 Standardizing Dataframe String values."
   ]
  },
  {
   "cell_type": "code",
   "execution_count": 22,
   "id": "3482a2aa",
   "metadata": {},
   "outputs": [
    {
     "data": {
      "application/vnd.microsoft.datawrangler.viewer.v0+json": {
       "columns": [
        {
         "name": "index",
         "rawType": "int64",
         "type": "integer"
        },
        {
         "name": "product_id",
         "rawType": "int64",
         "type": "integer"
        },
        {
         "name": "product_name",
         "rawType": "object",
         "type": "string"
        },
        {
         "name": "category",
         "rawType": "object",
         "type": "string"
        },
        {
         "name": "supplier_id",
         "rawType": "int64",
         "type": "integer"
        },
        {
         "name": "unit_cost",
         "rawType": "object",
         "type": "string"
        },
        {
         "name": "status",
         "rawType": "object",
         "type": "string"
        },
        {
         "name": "brand",
         "rawType": "object",
         "type": "string"
        },
        {
         "name": "list_price",
         "rawType": "float64",
         "type": "float"
        }
       ],
       "ref": "d61c6195-eb0a-4ca0-9e58-8397973b19a3",
       "rows": [
        [
         "7697",
         "7698",
         "yourself_snacks",
         "snacks",
         "529",
         "9,76",
         "discontinued",
         "price_miller_and_hayes",
         "15.26"
        ],
        [
         "103",
         "104",
         "turn_dairy",
         "dairy",
         "624",
         "5,63",
         "active",
         "jones_nguyen",
         "8.67"
        ],
        [
         "356",
         "357",
         "in_produce",
         "bakery",
         "285",
         "16,3",
         "discontinued",
         "osborne_group",
         "26.4"
        ],
        [
         "8567",
         "8568",
         "race_snacks",
         "beverages",
         "270",
         "8,03",
         "discontinued",
         "jones_munoz",
         "10.82"
        ],
        [
         "2585",
         "2586",
         "military_frozen_foods",
         "dairy",
         "550",
         "18,76",
         "discontinued",
         "bowman_johnson",
         "31.49"
        ]
       ],
       "shape": {
        "columns": 8,
        "rows": 5
       }
      },
      "text/html": [
       "<div>\n",
       "<style scoped>\n",
       "    .dataframe tbody tr th:only-of-type {\n",
       "        vertical-align: middle;\n",
       "    }\n",
       "\n",
       "    .dataframe tbody tr th {\n",
       "        vertical-align: top;\n",
       "    }\n",
       "\n",
       "    .dataframe thead th {\n",
       "        text-align: right;\n",
       "    }\n",
       "</style>\n",
       "<table border=\"1\" class=\"dataframe\">\n",
       "  <thead>\n",
       "    <tr style=\"text-align: right;\">\n",
       "      <th></th>\n",
       "      <th>product_id</th>\n",
       "      <th>product_name</th>\n",
       "      <th>category</th>\n",
       "      <th>supplier_id</th>\n",
       "      <th>unit_cost</th>\n",
       "      <th>status</th>\n",
       "      <th>brand</th>\n",
       "      <th>list_price</th>\n",
       "    </tr>\n",
       "  </thead>\n",
       "  <tbody>\n",
       "    <tr>\n",
       "      <th>7697</th>\n",
       "      <td>7698</td>\n",
       "      <td>yourself_snacks</td>\n",
       "      <td>snacks</td>\n",
       "      <td>529</td>\n",
       "      <td>9,76</td>\n",
       "      <td>discontinued</td>\n",
       "      <td>price_miller_and_hayes</td>\n",
       "      <td>15.26</td>\n",
       "    </tr>\n",
       "    <tr>\n",
       "      <th>103</th>\n",
       "      <td>104</td>\n",
       "      <td>turn_dairy</td>\n",
       "      <td>dairy</td>\n",
       "      <td>624</td>\n",
       "      <td>5,63</td>\n",
       "      <td>active</td>\n",
       "      <td>jones_nguyen</td>\n",
       "      <td>8.67</td>\n",
       "    </tr>\n",
       "    <tr>\n",
       "      <th>356</th>\n",
       "      <td>357</td>\n",
       "      <td>in_produce</td>\n",
       "      <td>bakery</td>\n",
       "      <td>285</td>\n",
       "      <td>16,3</td>\n",
       "      <td>discontinued</td>\n",
       "      <td>osborne_group</td>\n",
       "      <td>26.40</td>\n",
       "    </tr>\n",
       "    <tr>\n",
       "      <th>8567</th>\n",
       "      <td>8568</td>\n",
       "      <td>race_snacks</td>\n",
       "      <td>beverages</td>\n",
       "      <td>270</td>\n",
       "      <td>8,03</td>\n",
       "      <td>discontinued</td>\n",
       "      <td>jones_munoz</td>\n",
       "      <td>10.82</td>\n",
       "    </tr>\n",
       "    <tr>\n",
       "      <th>2585</th>\n",
       "      <td>2586</td>\n",
       "      <td>military_frozen_foods</td>\n",
       "      <td>dairy</td>\n",
       "      <td>550</td>\n",
       "      <td>18,76</td>\n",
       "      <td>discontinued</td>\n",
       "      <td>bowman_johnson</td>\n",
       "      <td>31.49</td>\n",
       "    </tr>\n",
       "  </tbody>\n",
       "</table>\n",
       "</div>"
      ],
      "text/plain": [
       "      product_id           product_name   category  supplier_id unit_cost        status                   brand  list_price\n",
       "7697        7698        yourself_snacks     snacks          529      9,76  discontinued  price_miller_and_hayes       15.26\n",
       "103          104             turn_dairy      dairy          624      5,63        active            jones_nguyen        8.67\n",
       "356          357             in_produce     bakery          285      16,3  discontinued           osborne_group       26.40\n",
       "8567        8568            race_snacks  beverages          270      8,03  discontinued             jones_munoz       10.82\n",
       "2585        2586  military_frozen_foods      dairy          550     18,76  discontinued          bowman_johnson       31.49"
      ]
     },
     "execution_count": 22,
     "metadata": {},
     "output_type": "execute_result"
    }
   ],
   "source": [
    "# Standardize data frame string values with snake_case format\n",
    "df_products = normalize_string_format(df_products, include=['product_name', 'category', 'status', 'brand'])\n",
    "df_products.sample(5, random_state=333)"
   ]
  },
  {
   "cell_type": "code",
   "execution_count": 23,
   "id": "307ef482",
   "metadata": {},
   "outputs": [
    {
     "data": {
      "application/vnd.microsoft.datawrangler.viewer.v0+json": {
       "columns": [
        {
         "name": "index",
         "rawType": "int64",
         "type": "integer"
        },
        {
         "name": "supplier_id",
         "rawType": "int64",
         "type": "integer"
        },
        {
         "name": "supplier_name",
         "rawType": "object",
         "type": "string"
        },
        {
         "name": "lead_time_days",
         "rawType": "int64",
         "type": "integer"
        },
        {
         "name": "contact_info",
         "rawType": "object",
         "type": "string"
        },
        {
         "name": "rating",
         "rawType": "float64",
         "type": "float"
        }
       ],
       "ref": "d14658fd-0212-4583-9112-8ce7f31a5883",
       "rows": [
        [
         "777",
         "778",
         "carey_ltd",
         "7",
         "001-048-347-8432",
         "3.44"
        ],
        [
         "1888",
         "1889",
         "young_moore_and_gray",
         "8",
         "693.746.5203x900",
         "3.63"
        ],
        [
         "1747",
         "1748",
         "green_lambert_and_ewing",
         "9",
         "(027)564-4892x093",
         "4.6"
        ],
        [
         "1102",
         "1103",
         "russell_marshall",
         "10",
         "+1-754-817-5744x3688",
         "4.76"
        ],
        [
         "605",
         "606",
         "wagner_farley_and_lawrence",
         "5",
         "+1-701-523-0381",
         "4.92"
        ]
       ],
       "shape": {
        "columns": 5,
        "rows": 5
       }
      },
      "text/html": [
       "<div>\n",
       "<style scoped>\n",
       "    .dataframe tbody tr th:only-of-type {\n",
       "        vertical-align: middle;\n",
       "    }\n",
       "\n",
       "    .dataframe tbody tr th {\n",
       "        vertical-align: top;\n",
       "    }\n",
       "\n",
       "    .dataframe thead th {\n",
       "        text-align: right;\n",
       "    }\n",
       "</style>\n",
       "<table border=\"1\" class=\"dataframe\">\n",
       "  <thead>\n",
       "    <tr style=\"text-align: right;\">\n",
       "      <th></th>\n",
       "      <th>supplier_id</th>\n",
       "      <th>supplier_name</th>\n",
       "      <th>lead_time_days</th>\n",
       "      <th>contact_info</th>\n",
       "      <th>rating</th>\n",
       "    </tr>\n",
       "  </thead>\n",
       "  <tbody>\n",
       "    <tr>\n",
       "      <th>777</th>\n",
       "      <td>778</td>\n",
       "      <td>carey_ltd</td>\n",
       "      <td>7</td>\n",
       "      <td>001-048-347-8432</td>\n",
       "      <td>3.44</td>\n",
       "    </tr>\n",
       "    <tr>\n",
       "      <th>1888</th>\n",
       "      <td>1889</td>\n",
       "      <td>young_moore_and_gray</td>\n",
       "      <td>8</td>\n",
       "      <td>693.746.5203x900</td>\n",
       "      <td>3.63</td>\n",
       "    </tr>\n",
       "    <tr>\n",
       "      <th>1747</th>\n",
       "      <td>1748</td>\n",
       "      <td>green_lambert_and_ewing</td>\n",
       "      <td>9</td>\n",
       "      <td>(027)564-4892x093</td>\n",
       "      <td>4.60</td>\n",
       "    </tr>\n",
       "    <tr>\n",
       "      <th>1102</th>\n",
       "      <td>1103</td>\n",
       "      <td>russell_marshall</td>\n",
       "      <td>10</td>\n",
       "      <td>+1-754-817-5744x3688</td>\n",
       "      <td>4.76</td>\n",
       "    </tr>\n",
       "    <tr>\n",
       "      <th>605</th>\n",
       "      <td>606</td>\n",
       "      <td>wagner_farley_and_lawrence</td>\n",
       "      <td>5</td>\n",
       "      <td>+1-701-523-0381</td>\n",
       "      <td>4.92</td>\n",
       "    </tr>\n",
       "  </tbody>\n",
       "</table>\n",
       "</div>"
      ],
      "text/plain": [
       "      supplier_id               supplier_name  lead_time_days          contact_info  rating\n",
       "777           778                   carey_ltd               7      001-048-347-8432    3.44\n",
       "1888         1889        young_moore_and_gray               8      693.746.5203x900    3.63\n",
       "1747         1748     green_lambert_and_ewing               9     (027)564-4892x093    4.60\n",
       "1102         1103            russell_marshall              10  +1-754-817-5744x3688    4.76\n",
       "605           606  wagner_farley_and_lawrence               5       +1-701-523-0381    4.92"
      ]
     },
     "execution_count": 23,
     "metadata": {},
     "output_type": "execute_result"
    }
   ],
   "source": [
    "df_suppliers = normalize_string_format(df_suppliers, include=['supplier_name'])\n",
    "df_suppliers.sample(5, random_state=333)"
   ]
  },
  {
   "cell_type": "code",
   "execution_count": 24,
   "id": "6efdcd4f",
   "metadata": {},
   "outputs": [
    {
     "data": {
      "application/vnd.microsoft.datawrangler.viewer.v0+json": {
       "columns": [
        {
         "name": "index",
         "rawType": "int64",
         "type": "integer"
        },
        {
         "name": "inventory_id",
         "rawType": "int64",
         "type": "integer"
        },
        {
         "name": "date",
         "rawType": "object",
         "type": "string"
        },
        {
         "name": "product_id",
         "rawType": "int64",
         "type": "integer"
        },
        {
         "name": "beginning_stock",
         "rawType": "int64",
         "type": "integer"
        },
        {
         "name": "received",
         "rawType": "int64",
         "type": "integer"
        },
        {
         "name": "sold",
         "rawType": "int64",
         "type": "integer"
        },
        {
         "name": "warehouse_location",
         "rawType": "object",
         "type": "string"
        },
        {
         "name": "ending_stock",
         "rawType": "int64",
         "type": "integer"
        }
       ],
       "ref": "a604bb4a-780d-4694-8c29-0c515c51cf31",
       "rows": [
        [
         "19416",
         "19417",
         "2025-05-14",
         "2214",
         "88",
         "4",
         "2",
         "South",
         "90"
        ],
        [
         "1945",
         "1946",
         "2025-05-26",
         "5656",
         "93",
         "19",
         "14",
         "West",
         "98"
        ],
        [
         "15453",
         "15454",
         "2025-07-04",
         "6168",
         "32",
         "8",
         "5",
         "South",
         "35"
        ],
        [
         "12447",
         "12448",
         "2025-06-09",
         "2467",
         "33",
         "17",
         "7",
         "East",
         "43"
        ],
        [
         "17582",
         "17583",
         "2025-06-22",
         "6810",
         "18",
         "2",
         "13",
         "North",
         "7"
        ]
       ],
       "shape": {
        "columns": 8,
        "rows": 5
       }
      },
      "text/html": [
       "<div>\n",
       "<style scoped>\n",
       "    .dataframe tbody tr th:only-of-type {\n",
       "        vertical-align: middle;\n",
       "    }\n",
       "\n",
       "    .dataframe tbody tr th {\n",
       "        vertical-align: top;\n",
       "    }\n",
       "\n",
       "    .dataframe thead th {\n",
       "        text-align: right;\n",
       "    }\n",
       "</style>\n",
       "<table border=\"1\" class=\"dataframe\">\n",
       "  <thead>\n",
       "    <tr style=\"text-align: right;\">\n",
       "      <th></th>\n",
       "      <th>inventory_id</th>\n",
       "      <th>date</th>\n",
       "      <th>product_id</th>\n",
       "      <th>beginning_stock</th>\n",
       "      <th>received</th>\n",
       "      <th>sold</th>\n",
       "      <th>warehouse_location</th>\n",
       "      <th>ending_stock</th>\n",
       "    </tr>\n",
       "  </thead>\n",
       "  <tbody>\n",
       "    <tr>\n",
       "      <th>19416</th>\n",
       "      <td>19417</td>\n",
       "      <td>2025-05-14</td>\n",
       "      <td>2214</td>\n",
       "      <td>88</td>\n",
       "      <td>4</td>\n",
       "      <td>2</td>\n",
       "      <td>South</td>\n",
       "      <td>90</td>\n",
       "    </tr>\n",
       "    <tr>\n",
       "      <th>1945</th>\n",
       "      <td>1946</td>\n",
       "      <td>2025-05-26</td>\n",
       "      <td>5656</td>\n",
       "      <td>93</td>\n",
       "      <td>19</td>\n",
       "      <td>14</td>\n",
       "      <td>West</td>\n",
       "      <td>98</td>\n",
       "    </tr>\n",
       "    <tr>\n",
       "      <th>15453</th>\n",
       "      <td>15454</td>\n",
       "      <td>2025-07-04</td>\n",
       "      <td>6168</td>\n",
       "      <td>32</td>\n",
       "      <td>8</td>\n",
       "      <td>5</td>\n",
       "      <td>South</td>\n",
       "      <td>35</td>\n",
       "    </tr>\n",
       "    <tr>\n",
       "      <th>12447</th>\n",
       "      <td>12448</td>\n",
       "      <td>2025-06-09</td>\n",
       "      <td>2467</td>\n",
       "      <td>33</td>\n",
       "      <td>17</td>\n",
       "      <td>7</td>\n",
       "      <td>East</td>\n",
       "      <td>43</td>\n",
       "    </tr>\n",
       "    <tr>\n",
       "      <th>17582</th>\n",
       "      <td>17583</td>\n",
       "      <td>2025-06-22</td>\n",
       "      <td>6810</td>\n",
       "      <td>18</td>\n",
       "      <td>2</td>\n",
       "      <td>13</td>\n",
       "      <td>North</td>\n",
       "      <td>7</td>\n",
       "    </tr>\n",
       "  </tbody>\n",
       "</table>\n",
       "</div>"
      ],
      "text/plain": [
       "       inventory_id        date  product_id  beginning_stock  received  sold warehouse_location  ending_stock\n",
       "19416         19417  2025-05-14        2214               88         4     2              South            90\n",
       "1945           1946  2025-05-26        5656               93        19    14               West            98\n",
       "15453         15454  2025-07-04        6168               32         8     5              South            35\n",
       "12447         12448  2025-06-09        2467               33        17     7               East            43\n",
       "17582         17583  2025-06-22        6810               18         2    13              North             7"
      ]
     },
     "execution_count": 24,
     "metadata": {},
     "output_type": "execute_result"
    }
   ],
   "source": [
    "df_inventory.sample(5, random_state=333)"
   ]
  },
  {
   "cell_type": "code",
   "execution_count": 25,
   "id": "e180d58c",
   "metadata": {},
   "outputs": [
    {
     "data": {
      "application/vnd.microsoft.datawrangler.viewer.v0+json": {
       "columns": [
        {
         "name": "index",
         "rawType": "int64",
         "type": "integer"
        },
        {
         "name": "transaction_id",
         "rawType": "int64",
         "type": "integer"
        },
        {
         "name": "date",
         "rawType": "object",
         "type": "string"
        },
        {
         "name": "product_id",
         "rawType": "int64",
         "type": "integer"
        },
        {
         "name": "units_sold",
         "rawType": "int64",
         "type": "integer"
        },
        {
         "name": "customer_id",
         "rawType": "int64",
         "type": "integer"
        },
        {
         "name": "employee_id",
         "rawType": "int64",
         "type": "integer"
        },
        {
         "name": "list_price",
         "rawType": "float64",
         "type": "float"
        },
        {
         "name": "sales_amount",
         "rawType": "float64",
         "type": "float"
        }
       ],
       "ref": "431296a9-a759-4947-8eaf-bd888fc1d1eb",
       "rows": [
        [
         "1170",
         "1171",
         "2024-06-16",
         "5776",
         "6",
         "4328",
         "1683",
         "14.13",
         "84.78"
        ],
        [
         "19693",
         "19694",
         "2024-11-02",
         "2401",
         "3",
         "3129",
         "1637",
         "27.36",
         "82.08"
        ],
        [
         "20541",
         "13239",
         "2025-02-20",
         "8763",
         "4",
         "4389",
         "842",
         "14.03",
         "56.12"
        ],
        [
         "19423",
         "19424",
         "2024-10-28",
         "5781",
         "8",
         "2388",
         "630",
         "17.88",
         "143.04"
        ],
        [
         "10655",
         "10656",
         "2024-10-14",
         "3715",
         "5",
         "3950",
         "1697",
         "14.51",
         "72.55"
        ]
       ],
       "shape": {
        "columns": 8,
        "rows": 5
       }
      },
      "text/html": [
       "<div>\n",
       "<style scoped>\n",
       "    .dataframe tbody tr th:only-of-type {\n",
       "        vertical-align: middle;\n",
       "    }\n",
       "\n",
       "    .dataframe tbody tr th {\n",
       "        vertical-align: top;\n",
       "    }\n",
       "\n",
       "    .dataframe thead th {\n",
       "        text-align: right;\n",
       "    }\n",
       "</style>\n",
       "<table border=\"1\" class=\"dataframe\">\n",
       "  <thead>\n",
       "    <tr style=\"text-align: right;\">\n",
       "      <th></th>\n",
       "      <th>transaction_id</th>\n",
       "      <th>date</th>\n",
       "      <th>product_id</th>\n",
       "      <th>units_sold</th>\n",
       "      <th>customer_id</th>\n",
       "      <th>employee_id</th>\n",
       "      <th>list_price</th>\n",
       "      <th>sales_amount</th>\n",
       "    </tr>\n",
       "  </thead>\n",
       "  <tbody>\n",
       "    <tr>\n",
       "      <th>1170</th>\n",
       "      <td>1171</td>\n",
       "      <td>2024-06-16</td>\n",
       "      <td>5776</td>\n",
       "      <td>6</td>\n",
       "      <td>4328</td>\n",
       "      <td>1683</td>\n",
       "      <td>14.13</td>\n",
       "      <td>84.78</td>\n",
       "    </tr>\n",
       "    <tr>\n",
       "      <th>19693</th>\n",
       "      <td>19694</td>\n",
       "      <td>2024-11-02</td>\n",
       "      <td>2401</td>\n",
       "      <td>3</td>\n",
       "      <td>3129</td>\n",
       "      <td>1637</td>\n",
       "      <td>27.36</td>\n",
       "      <td>82.08</td>\n",
       "    </tr>\n",
       "    <tr>\n",
       "      <th>20541</th>\n",
       "      <td>13239</td>\n",
       "      <td>2025-02-20</td>\n",
       "      <td>8763</td>\n",
       "      <td>4</td>\n",
       "      <td>4389</td>\n",
       "      <td>842</td>\n",
       "      <td>14.03</td>\n",
       "      <td>56.12</td>\n",
       "    </tr>\n",
       "    <tr>\n",
       "      <th>19423</th>\n",
       "      <td>19424</td>\n",
       "      <td>2024-10-28</td>\n",
       "      <td>5781</td>\n",
       "      <td>8</td>\n",
       "      <td>2388</td>\n",
       "      <td>630</td>\n",
       "      <td>17.88</td>\n",
       "      <td>143.04</td>\n",
       "    </tr>\n",
       "    <tr>\n",
       "      <th>10655</th>\n",
       "      <td>10656</td>\n",
       "      <td>2024-10-14</td>\n",
       "      <td>3715</td>\n",
       "      <td>5</td>\n",
       "      <td>3950</td>\n",
       "      <td>1697</td>\n",
       "      <td>14.51</td>\n",
       "      <td>72.55</td>\n",
       "    </tr>\n",
       "  </tbody>\n",
       "</table>\n",
       "</div>"
      ],
      "text/plain": [
       "       transaction_id        date  product_id  units_sold  customer_id  employee_id  list_price  sales_amount\n",
       "1170             1171  2024-06-16        5776           6         4328         1683       14.13         84.78\n",
       "19693           19694  2024-11-02        2401           3         3129         1637       27.36         82.08\n",
       "20541           13239  2025-02-20        8763           4         4389          842       14.03         56.12\n",
       "19423           19424  2024-10-28        5781           8         2388          630       17.88        143.04\n",
       "10655           10656  2024-10-14        3715           5         3950         1697       14.51         72.55"
      ]
     },
     "execution_count": 25,
     "metadata": {},
     "output_type": "execute_result"
    }
   ],
   "source": [
    "df_transactions.sample(5, random_state=333)"
   ]
  },
  {
   "cell_type": "code",
   "execution_count": 26,
   "id": "4bc052a6",
   "metadata": {},
   "outputs": [
    {
     "data": {
      "application/vnd.microsoft.datawrangler.viewer.v0+json": {
       "columns": [
        {
         "name": "index",
         "rawType": "int64",
         "type": "integer"
        },
        {
         "name": "customer_id",
         "rawType": "int64",
         "type": "integer"
        },
        {
         "name": "customer_name",
         "rawType": "object",
         "type": "string"
        },
        {
         "name": "join_date",
         "rawType": "object",
         "type": "string"
        },
        {
         "name": "total_spent",
         "rawType": "object",
         "type": "string"
        },
        {
         "name": "frequency",
         "rawType": "int64",
         "type": "integer"
        },
        {
         "name": "segment",
         "rawType": "object",
         "type": "string"
        }
       ],
       "ref": "4f839bbd-daf7-4e34-a786-6e247719ea13",
       "rows": [
        [
         "3240",
         "3241",
         "matthew_campbell",
         "2024-02-29",
         "996.08",
         "9",
         "occasional"
        ],
        [
         "378",
         "379",
         "robert_davis",
         "2024-05-05",
         "2565.12",
         "29",
         "frequent"
        ],
        [
         "4057",
         "4058",
         "debra_moran",
         "2024-10-26",
         "1427.04",
         "15",
         "occasional"
        ],
        [
         "3140",
         "3141",
         "terry_allen",
         "2023-12-15",
         "4478.88",
         "36",
         "occasional"
        ],
        [
         "3787",
         "3788",
         "barbara_sanders",
         "2024-01-24",
         "1219.22",
         "14",
         "high_value"
        ]
       ],
       "shape": {
        "columns": 6,
        "rows": 5
       }
      },
      "text/html": [
       "<div>\n",
       "<style scoped>\n",
       "    .dataframe tbody tr th:only-of-type {\n",
       "        vertical-align: middle;\n",
       "    }\n",
       "\n",
       "    .dataframe tbody tr th {\n",
       "        vertical-align: top;\n",
       "    }\n",
       "\n",
       "    .dataframe thead th {\n",
       "        text-align: right;\n",
       "    }\n",
       "</style>\n",
       "<table border=\"1\" class=\"dataframe\">\n",
       "  <thead>\n",
       "    <tr style=\"text-align: right;\">\n",
       "      <th></th>\n",
       "      <th>customer_id</th>\n",
       "      <th>customer_name</th>\n",
       "      <th>join_date</th>\n",
       "      <th>total_spent</th>\n",
       "      <th>frequency</th>\n",
       "      <th>segment</th>\n",
       "    </tr>\n",
       "  </thead>\n",
       "  <tbody>\n",
       "    <tr>\n",
       "      <th>3240</th>\n",
       "      <td>3241</td>\n",
       "      <td>matthew_campbell</td>\n",
       "      <td>2024-02-29</td>\n",
       "      <td>996.08</td>\n",
       "      <td>9</td>\n",
       "      <td>occasional</td>\n",
       "    </tr>\n",
       "    <tr>\n",
       "      <th>378</th>\n",
       "      <td>379</td>\n",
       "      <td>robert_davis</td>\n",
       "      <td>2024-05-05</td>\n",
       "      <td>2565.12</td>\n",
       "      <td>29</td>\n",
       "      <td>frequent</td>\n",
       "    </tr>\n",
       "    <tr>\n",
       "      <th>4057</th>\n",
       "      <td>4058</td>\n",
       "      <td>debra_moran</td>\n",
       "      <td>2024-10-26</td>\n",
       "      <td>1427.04</td>\n",
       "      <td>15</td>\n",
       "      <td>occasional</td>\n",
       "    </tr>\n",
       "    <tr>\n",
       "      <th>3140</th>\n",
       "      <td>3141</td>\n",
       "      <td>terry_allen</td>\n",
       "      <td>2023-12-15</td>\n",
       "      <td>4478.88</td>\n",
       "      <td>36</td>\n",
       "      <td>occasional</td>\n",
       "    </tr>\n",
       "    <tr>\n",
       "      <th>3787</th>\n",
       "      <td>3788</td>\n",
       "      <td>barbara_sanders</td>\n",
       "      <td>2024-01-24</td>\n",
       "      <td>1219.22</td>\n",
       "      <td>14</td>\n",
       "      <td>high_value</td>\n",
       "    </tr>\n",
       "  </tbody>\n",
       "</table>\n",
       "</div>"
      ],
      "text/plain": [
       "      customer_id     customer_name   join_date total_spent  frequency     segment\n",
       "3240         3241  matthew_campbell  2024-02-29      996.08          9  occasional\n",
       "378           379      robert_davis  2024-05-05     2565.12         29    frequent\n",
       "4057         4058       debra_moran  2024-10-26     1427.04         15  occasional\n",
       "3140         3141       terry_allen  2023-12-15     4478.88         36  occasional\n",
       "3787         3788   barbara_sanders  2024-01-24     1219.22         14  high_value"
      ]
     },
     "execution_count": 26,
     "metadata": {},
     "output_type": "execute_result"
    }
   ],
   "source": [
    "df_customers = normalize_string_format(df_customers, include=['customer_name', 'segment'])\n",
    "df_customers.sample(5, random_state=333)"
   ]
  },
  {
   "cell_type": "code",
   "execution_count": 27,
   "id": "e25ee813",
   "metadata": {},
   "outputs": [
    {
     "data": {
      "application/vnd.microsoft.datawrangler.viewer.v0+json": {
       "columns": [
        {
         "name": "index",
         "rawType": "int64",
         "type": "integer"
        },
        {
         "name": "employee_id",
         "rawType": "int64",
         "type": "integer"
        },
        {
         "name": "employee_name",
         "rawType": "object",
         "type": "string"
        },
        {
         "name": "region",
         "rawType": "object",
         "type": "string"
        },
        {
         "name": "total_sales",
         "rawType": "float64",
         "type": "float"
        },
        {
         "name": "effectiveness",
         "rawType": "float64",
         "type": "float"
        }
       ],
       "ref": "87df97e1-278f-429e-8a9a-b2d419c818fb",
       "rows": [
        [
         "1818",
         "1819",
         "ashley_campos",
         "East",
         "69091.4",
         "0.61"
        ],
        [
         "2202",
         "732",
         "mrs_jessica_bennett",
         "West",
         "68210.42",
         "0.74"
        ],
        [
         "1681",
         "1682",
         "john_lee",
         "South",
         "63715.24",
         "0.93"
        ],
        [
         "416",
         "417",
         "beverly_chen",
         "West",
         "45698.22",
         "0.87"
        ],
        [
         "990",
         "991",
         "david_klein_dds",
         "South",
         "98697.66",
         "0.77"
        ]
       ],
       "shape": {
        "columns": 5,
        "rows": 5
       }
      },
      "text/html": [
       "<div>\n",
       "<style scoped>\n",
       "    .dataframe tbody tr th:only-of-type {\n",
       "        vertical-align: middle;\n",
       "    }\n",
       "\n",
       "    .dataframe tbody tr th {\n",
       "        vertical-align: top;\n",
       "    }\n",
       "\n",
       "    .dataframe thead th {\n",
       "        text-align: right;\n",
       "    }\n",
       "</style>\n",
       "<table border=\"1\" class=\"dataframe\">\n",
       "  <thead>\n",
       "    <tr style=\"text-align: right;\">\n",
       "      <th></th>\n",
       "      <th>employee_id</th>\n",
       "      <th>employee_name</th>\n",
       "      <th>region</th>\n",
       "      <th>total_sales</th>\n",
       "      <th>effectiveness</th>\n",
       "    </tr>\n",
       "  </thead>\n",
       "  <tbody>\n",
       "    <tr>\n",
       "      <th>1818</th>\n",
       "      <td>1819</td>\n",
       "      <td>ashley_campos</td>\n",
       "      <td>East</td>\n",
       "      <td>69091.40</td>\n",
       "      <td>0.61</td>\n",
       "    </tr>\n",
       "    <tr>\n",
       "      <th>2202</th>\n",
       "      <td>732</td>\n",
       "      <td>mrs_jessica_bennett</td>\n",
       "      <td>West</td>\n",
       "      <td>68210.42</td>\n",
       "      <td>0.74</td>\n",
       "    </tr>\n",
       "    <tr>\n",
       "      <th>1681</th>\n",
       "      <td>1682</td>\n",
       "      <td>john_lee</td>\n",
       "      <td>South</td>\n",
       "      <td>63715.24</td>\n",
       "      <td>0.93</td>\n",
       "    </tr>\n",
       "    <tr>\n",
       "      <th>416</th>\n",
       "      <td>417</td>\n",
       "      <td>beverly_chen</td>\n",
       "      <td>West</td>\n",
       "      <td>45698.22</td>\n",
       "      <td>0.87</td>\n",
       "    </tr>\n",
       "    <tr>\n",
       "      <th>990</th>\n",
       "      <td>991</td>\n",
       "      <td>david_klein_dds</td>\n",
       "      <td>South</td>\n",
       "      <td>98697.66</td>\n",
       "      <td>0.77</td>\n",
       "    </tr>\n",
       "  </tbody>\n",
       "</table>\n",
       "</div>"
      ],
      "text/plain": [
       "      employee_id        employee_name region  total_sales  effectiveness\n",
       "1818         1819        ashley_campos   East     69091.40           0.61\n",
       "2202          732  mrs_jessica_bennett   West     68210.42           0.74\n",
       "1681         1682             john_lee  South     63715.24           0.93\n",
       "416           417         beverly_chen   West     45698.22           0.87\n",
       "990           991      david_klein_dds  South     98697.66           0.77"
      ]
     },
     "execution_count": 27,
     "metadata": {},
     "output_type": "execute_result"
    }
   ],
   "source": [
    "df_salesforce = normalize_string_format(df_salesforce, include=['employee_name'])\n",
    "df_salesforce.sample(5, random_state=333)"
   ]
  },
  {
   "cell_type": "markdown",
   "id": "0f4c8b22",
   "metadata": {},
   "source": [
    "##### `LSPL`\n",
    "\n",
    "**Note:** \n",
    "\n",
    "The column names and string values did not follow a consistent format; they contained spaces and capital letters, making them difficult to manipulate.\n",
    "\n",
    "__Solution__: Column names and string values were standardized using lowercase letters, removing spaces, and applying the snake_case format.   \n",
    "__Impact__: This facilitated data access and manipulation, improving readability and reducing errors in analysis."
   ]
  },
  {
   "cell_type": "markdown",
   "id": "61835131",
   "metadata": {},
   "source": [
    "### 3.2 Explicit duplicates."
   ]
  },
  {
   "cell_type": "code",
   "execution_count": 28,
   "id": "b0c9d50f",
   "metadata": {},
   "outputs": [
    {
     "data": {
      "text/html": [
       "> Explicit duplicates amount for Dataframe <i>'df_products'</i>: <b>1556</b>"
      ],
      "text/plain": [
       "<IPython.core.display.HTML object>"
      ]
     },
     "metadata": {},
     "output_type": "display_data"
    },
    {
     "data": {
      "text/html": [
       "> Dataframe <i>'df_products'</i> size (rows, columns): <b>(11556, 8)</b>"
      ],
      "text/plain": [
       "<IPython.core.display.HTML object>"
      ]
     },
     "metadata": {},
     "output_type": "display_data"
    }
   ],
   "source": [
    "# Show explicit duplicates amount for \"df_products\"\n",
    "display(HTML(f\"> Explicit duplicates amount for Dataframe <i>'df_products'</i>: <b>{df_products.duplicated().sum()}</b>\"))\n",
    "display(HTML(f\"> Dataframe <i>'df_products'</i> size (rows, columns): <b>{df_products.shape}</b>\"))"
   ]
  },
  {
   "cell_type": "code",
   "execution_count": 29,
   "id": "315cf4ac",
   "metadata": {},
   "outputs": [
    {
     "data": {
      "text/html": [
       "> Dataframe <i>'df_products'</i> size (rows, columns): <b>(10000, 8)</b>"
      ],
      "text/plain": [
       "<IPython.core.display.HTML object>"
      ]
     },
     "metadata": {},
     "output_type": "display_data"
    }
   ],
   "source": [
    "df_products = df_products.drop_duplicates()\n",
    "display(HTML(f\"> Dataframe <i>'df_products'</i> size (rows, columns): <b>{df_products.shape}</b>\"))"
   ]
  },
  {
   "cell_type": "code",
   "execution_count": 30,
   "id": "522150a1",
   "metadata": {},
   "outputs": [
    {
     "data": {
      "text/html": [
       "> Explicit duplicates amount for Dataframe <i>'df_suppliers'</i>: <b>334</b>"
      ],
      "text/plain": [
       "<IPython.core.display.HTML object>"
      ]
     },
     "metadata": {},
     "output_type": "display_data"
    },
    {
     "data": {
      "text/html": [
       "> Dataframe <i>'df_suppliers'</i> size (rows, columns): <b>(2334, 5)</b>"
      ],
      "text/plain": [
       "<IPython.core.display.HTML object>"
      ]
     },
     "metadata": {},
     "output_type": "display_data"
    }
   ],
   "source": [
    "# Show explicit duplicates amount for \"df_suppliers\"\n",
    "display(HTML(f\"> Explicit duplicates amount for Dataframe <i>'df_suppliers'</i>: <b>{df_suppliers.duplicated().sum()}</b>\"))\n",
    "display(HTML(f\"> Dataframe <i>'df_suppliers'</i> size (rows, columns): <b>{df_suppliers.shape}</b>\"))"
   ]
  },
  {
   "cell_type": "code",
   "execution_count": 31,
   "id": "1a61876a",
   "metadata": {},
   "outputs": [
    {
     "data": {
      "text/html": [
       "> Dataframe <i>'df_suppliers'</i> size (rows, columns): <b>(2000, 5)</b>"
      ],
      "text/plain": [
       "<IPython.core.display.HTML object>"
      ]
     },
     "metadata": {},
     "output_type": "display_data"
    }
   ],
   "source": [
    "df_suppliers = df_suppliers.drop_duplicates()\n",
    "display(HTML(f\"> Dataframe <i>'df_suppliers'</i> size (rows, columns): <b>{df_suppliers.shape}</b>\"))"
   ]
  },
  {
   "cell_type": "code",
   "execution_count": 32,
   "id": "05e29a14",
   "metadata": {},
   "outputs": [
    {
     "data": {
      "text/html": [
       "> Explicit duplicates amount for Dataframe <i>'df_inventory'</i>: <b>2610</b>"
      ],
      "text/plain": [
       "<IPython.core.display.HTML object>"
      ]
     },
     "metadata": {},
     "output_type": "display_data"
    },
    {
     "data": {
      "text/html": [
       "> Dataframe <i>'df_inventory'</i> size (rows, columns): <b>(22610, 8)</b>"
      ],
      "text/plain": [
       "<IPython.core.display.HTML object>"
      ]
     },
     "metadata": {},
     "output_type": "display_data"
    }
   ],
   "source": [
    "# Show explicit duplicates amount for \"df_inventory\"\n",
    "display(HTML(f\"> Explicit duplicates amount for Dataframe <i>'df_inventory'</i>: <b>{df_inventory.duplicated().sum()}</b>\"))\n",
    "display(HTML(f\"> Dataframe <i>'df_inventory'</i> size (rows, columns): <b>{df_inventory.shape}</b>\"))"
   ]
  },
  {
   "cell_type": "code",
   "execution_count": 33,
   "id": "c8fdac15",
   "metadata": {},
   "outputs": [
    {
     "data": {
      "text/html": [
       "> Dataframe <i>'df_inventory'</i> size (rows, columns): <b>(20000, 8)</b>"
      ],
      "text/plain": [
       "<IPython.core.display.HTML object>"
      ]
     },
     "metadata": {},
     "output_type": "display_data"
    }
   ],
   "source": [
    "df_inventory = df_inventory.drop_duplicates()\n",
    "display(HTML(f\"> Dataframe <i>'df_inventory'</i> size (rows, columns): <b>{df_inventory.shape}</b>\"))"
   ]
  },
  {
   "cell_type": "code",
   "execution_count": 34,
   "id": "ff76854e",
   "metadata": {},
   "outputs": [
    {
     "data": {
      "text/html": [
       "> Explicit duplicates amount for Dataframe <i>'df_transactions'</i>: <b>1634</b>"
      ],
      "text/plain": [
       "<IPython.core.display.HTML object>"
      ]
     },
     "metadata": {},
     "output_type": "display_data"
    },
    {
     "data": {
      "text/html": [
       "> Dataframe <i>'df_transactions'</i> size (rows, columns): <b>(21634, 8)</b>"
      ],
      "text/plain": [
       "<IPython.core.display.HTML object>"
      ]
     },
     "metadata": {},
     "output_type": "display_data"
    }
   ],
   "source": [
    "# Show explicit duplicates amount for \"df_transactions\"\n",
    "display(HTML(f\"> Explicit duplicates amount for Dataframe <i>'df_transactions'</i>: <b>{df_transactions.duplicated().sum()}</b>\"))\n",
    "display(HTML(f\"> Dataframe <i>'df_transactions'</i> size (rows, columns): <b>{df_transactions.shape}</b>\"))"
   ]
  },
  {
   "cell_type": "code",
   "execution_count": 35,
   "id": "f7f57842",
   "metadata": {},
   "outputs": [
    {
     "data": {
      "text/html": [
       "> Dataframe <i>'df_transactions'</i> size (rows, columns): <b>(20000, 8)</b>"
      ],
      "text/plain": [
       "<IPython.core.display.HTML object>"
      ]
     },
     "metadata": {},
     "output_type": "display_data"
    }
   ],
   "source": [
    "df_transactions = df_transactions.drop_duplicates()\n",
    "display(HTML(f\"> Dataframe <i>'df_transactions'</i> size (rows, columns): <b>{df_transactions.shape}</b>\"))"
   ]
  },
  {
   "cell_type": "code",
   "execution_count": 36,
   "id": "f73f1b92",
   "metadata": {},
   "outputs": [
    {
     "data": {
      "text/html": [
       "> Explicit duplicates amount for Dataframe <i>'df_customers'</i>: <b>433</b>"
      ],
      "text/plain": [
       "<IPython.core.display.HTML object>"
      ]
     },
     "metadata": {},
     "output_type": "display_data"
    },
    {
     "data": {
      "text/html": [
       "> Dataframe <i>'df_customers'</i> size (rows, columns): <b>(5433, 6)</b>"
      ],
      "text/plain": [
       "<IPython.core.display.HTML object>"
      ]
     },
     "metadata": {},
     "output_type": "display_data"
    }
   ],
   "source": [
    "# Show explicit duplicates amount for \"df_customers\"\n",
    "display(HTML(f\"> Explicit duplicates amount for Dataframe <i>'df_customers'</i>: <b>{df_customers.duplicated().sum()}</b>\"))\n",
    "display(HTML(f\"> Dataframe <i>'df_customers'</i> size (rows, columns): <b>{df_customers.shape}</b>\"))"
   ]
  },
  {
   "cell_type": "code",
   "execution_count": 37,
   "id": "37a1ffa0",
   "metadata": {},
   "outputs": [
    {
     "data": {
      "text/html": [
       "> Dataframe <i>'df_customers'</i> size (rows, columns): <b>(5000, 6)</b>"
      ],
      "text/plain": [
       "<IPython.core.display.HTML object>"
      ]
     },
     "metadata": {},
     "output_type": "display_data"
    }
   ],
   "source": [
    "df_customers = df_customers.drop_duplicates()\n",
    "display(HTML(f\"> Dataframe <i>'df_customers'</i> size (rows, columns): <b>{df_customers.shape}</b>\"))"
   ]
  },
  {
   "cell_type": "code",
   "execution_count": 38,
   "id": "72f2bf81",
   "metadata": {},
   "outputs": [
    {
     "data": {
      "text/html": [
       "> Explicit duplicates amount for Dataframe <i>'df_salesforce'</i>: <b>209</b>"
      ],
      "text/plain": [
       "<IPython.core.display.HTML object>"
      ]
     },
     "metadata": {},
     "output_type": "display_data"
    },
    {
     "data": {
      "text/html": [
       "> Dataframe <i>'df_salesforce'</i> size (rows, columns): <b>(2209, 5)</b>"
      ],
      "text/plain": [
       "<IPython.core.display.HTML object>"
      ]
     },
     "metadata": {},
     "output_type": "display_data"
    }
   ],
   "source": [
    "# Show explicit duplicates amount for \"df_sales_force\"\n",
    "display(HTML(f\"> Explicit duplicates amount for Dataframe <i>'df_salesforce'</i>: <b>{df_salesforce.duplicated().sum()}</b>\"))\n",
    "display(HTML(f\"> Dataframe <i>'df_salesforce'</i> size (rows, columns): <b>{df_salesforce.shape}</b>\"))"
   ]
  },
  {
   "cell_type": "code",
   "execution_count": 39,
   "id": "1ca87f26",
   "metadata": {},
   "outputs": [
    {
     "data": {
      "text/html": [
       "> Dataframe <i>'df_salesforce'</i> size (rows, columns): <b>(2000, 5)</b>"
      ],
      "text/plain": [
       "<IPython.core.display.HTML object>"
      ]
     },
     "metadata": {},
     "output_type": "display_data"
    }
   ],
   "source": [
    "df_salesforce = df_salesforce.drop_duplicates()\n",
    "display(HTML(f\"> Dataframe <i>'df_salesforce'</i> size (rows, columns): <b>{df_salesforce.shape}</b>\"))"
   ]
  },
  {
   "cell_type": "markdown",
   "id": "6ad10fbf",
   "metadata": {},
   "source": [
    "##### `LSPL`\n",
    "\n",
    "**Note:** \n",
    "\n",
    "- Explicit duplicates for dataframe 'df_products': 1556, were removed from dataset.   \n",
    "- Explicit duplicates for dataframe 'df_suppliers': 334, were removed from dataset.   \n",
    "- Explicit duplicates for dataframe 'df_inventory': 2610, were removed from dataset.   \n",
    "- Explicit duplicates for dataframe 'df_transactions': 1634, were removed from dataset.   \n",
    "- Explicit duplicates for dataframe 'df_customers': 433, were removed from dataset.   \n",
    "- Explicit duplicates for dataframe 'df_salesforce': 209, were removed from dataset.   "
   ]
  },
  {
   "cell_type": "markdown",
   "id": "9ac34c63",
   "metadata": {},
   "source": [
    "### 3.3 Missing values."
   ]
  },
  {
   "cell_type": "markdown",
   "id": "c4c13b8e",
   "metadata": {},
   "source": [
    "#### 3.3.1 Missing values check."
   ]
  },
  {
   "cell_type": "code",
   "execution_count": 40,
   "id": "702c85b7",
   "metadata": {},
   "outputs": [
    {
     "data": {
      "text/html": [
       "<h4>Scanning for Non-Standard Missing Values</h4>"
      ],
      "text/plain": [
       "<IPython.core.display.HTML object>"
      ]
     },
     "metadata": {},
     "output_type": "display_data"
    },
    {
     "data": {
      "text/html": [
       "> Missing values in column <i>'product_id'</i>: None"
      ],
      "text/plain": [
       "<IPython.core.display.HTML object>"
      ]
     },
     "metadata": {},
     "output_type": "display_data"
    },
    {
     "data": {
      "text/html": [
       "> Missing values in column <i>'product_name'</i>: None"
      ],
      "text/plain": [
       "<IPython.core.display.HTML object>"
      ]
     },
     "metadata": {},
     "output_type": "display_data"
    },
    {
     "data": {
      "text/html": [
       "> Missing values in column <i>'category'</i>: None"
      ],
      "text/plain": [
       "<IPython.core.display.HTML object>"
      ]
     },
     "metadata": {},
     "output_type": "display_data"
    },
    {
     "data": {
      "text/html": [
       "> Missing values in column <i>'supplier_id'</i>: None"
      ],
      "text/plain": [
       "<IPython.core.display.HTML object>"
      ]
     },
     "metadata": {},
     "output_type": "display_data"
    },
    {
     "data": {
      "text/html": [
       "> Missing values in column <i>'unit_cost'</i>: <b>500</b>"
      ],
      "text/plain": [
       "<IPython.core.display.HTML object>"
      ]
     },
     "metadata": {},
     "output_type": "display_data"
    },
    {
     "data": {
      "text/html": [
       "&emsp;Matched non-standard values: ['']"
      ],
      "text/plain": [
       "<IPython.core.display.HTML object>"
      ]
     },
     "metadata": {},
     "output_type": "display_data"
    },
    {
     "data": {
      "text/html": [
       "> Missing values in column <i>'status'</i>: None"
      ],
      "text/plain": [
       "<IPython.core.display.HTML object>"
      ]
     },
     "metadata": {},
     "output_type": "display_data"
    },
    {
     "data": {
      "text/html": [
       "> Missing values in column <i>'brand'</i>: <b>500</b>"
      ],
      "text/plain": [
       "<IPython.core.display.HTML object>"
      ]
     },
     "metadata": {},
     "output_type": "display_data"
    },
    {
     "data": {
      "text/html": [
       "&emsp;Matched non-standard values: ['']"
      ],
      "text/plain": [
       "<IPython.core.display.HTML object>"
      ]
     },
     "metadata": {},
     "output_type": "display_data"
    },
    {
     "data": {
      "text/html": [
       "> Missing values in column <i>'list_price'</i>: None"
      ],
      "text/plain": [
       "<IPython.core.display.HTML object>"
      ]
     },
     "metadata": {},
     "output_type": "display_data"
    },
    {
     "name": "stdout",
     "output_type": "stream",
     "text": [
      "\n"
     ]
    }
   ],
   "source": [
    "# Show missing values\n",
    "check_existing_missing_values(df_products)"
   ]
  },
  {
   "cell_type": "code",
   "execution_count": 41,
   "id": "762a83f8",
   "metadata": {},
   "outputs": [
    {
     "data": {
      "text/html": [
       "<h4>Scanning for Non-Standard Missing Values</h4>"
      ],
      "text/plain": [
       "<IPython.core.display.HTML object>"
      ]
     },
     "metadata": {},
     "output_type": "display_data"
    },
    {
     "data": {
      "text/html": [
       "> Missing values in column <i>'supplier_id'</i>: None"
      ],
      "text/plain": [
       "<IPython.core.display.HTML object>"
      ]
     },
     "metadata": {},
     "output_type": "display_data"
    },
    {
     "data": {
      "text/html": [
       "> Missing values in column <i>'supplier_name'</i>: None"
      ],
      "text/plain": [
       "<IPython.core.display.HTML object>"
      ]
     },
     "metadata": {},
     "output_type": "display_data"
    },
    {
     "data": {
      "text/html": [
       "> Missing values in column <i>'lead_time_days'</i>: None"
      ],
      "text/plain": [
       "<IPython.core.display.HTML object>"
      ]
     },
     "metadata": {},
     "output_type": "display_data"
    },
    {
     "data": {
      "text/html": [
       "> Missing values in column <i>'contact_info'</i>: None"
      ],
      "text/plain": [
       "<IPython.core.display.HTML object>"
      ]
     },
     "metadata": {},
     "output_type": "display_data"
    },
    {
     "data": {
      "text/html": [
       "> Missing values in column <i>'rating'</i>: None"
      ],
      "text/plain": [
       "<IPython.core.display.HTML object>"
      ]
     },
     "metadata": {},
     "output_type": "display_data"
    },
    {
     "name": "stdout",
     "output_type": "stream",
     "text": [
      "\n"
     ]
    }
   ],
   "source": [
    "check_existing_missing_values(df_suppliers)"
   ]
  },
  {
   "cell_type": "code",
   "execution_count": 42,
   "id": "8d796541",
   "metadata": {},
   "outputs": [
    {
     "data": {
      "text/html": [
       "<h4>Scanning for Non-Standard Missing Values</h4>"
      ],
      "text/plain": [
       "<IPython.core.display.HTML object>"
      ]
     },
     "metadata": {},
     "output_type": "display_data"
    },
    {
     "data": {
      "text/html": [
       "> Missing values in column <i>'inventory_id'</i>: None"
      ],
      "text/plain": [
       "<IPython.core.display.HTML object>"
      ]
     },
     "metadata": {},
     "output_type": "display_data"
    },
    {
     "data": {
      "text/html": [
       "> Missing values in column <i>'date'</i>: None"
      ],
      "text/plain": [
       "<IPython.core.display.HTML object>"
      ]
     },
     "metadata": {},
     "output_type": "display_data"
    },
    {
     "data": {
      "text/html": [
       "> Missing values in column <i>'product_id'</i>: None"
      ],
      "text/plain": [
       "<IPython.core.display.HTML object>"
      ]
     },
     "metadata": {},
     "output_type": "display_data"
    },
    {
     "data": {
      "text/html": [
       "> Missing values in column <i>'beginning_stock'</i>: None"
      ],
      "text/plain": [
       "<IPython.core.display.HTML object>"
      ]
     },
     "metadata": {},
     "output_type": "display_data"
    },
    {
     "data": {
      "text/html": [
       "> Missing values in column <i>'received'</i>: None"
      ],
      "text/plain": [
       "<IPython.core.display.HTML object>"
      ]
     },
     "metadata": {},
     "output_type": "display_data"
    },
    {
     "data": {
      "text/html": [
       "> Missing values in column <i>'sold'</i>: None"
      ],
      "text/plain": [
       "<IPython.core.display.HTML object>"
      ]
     },
     "metadata": {},
     "output_type": "display_data"
    },
    {
     "data": {
      "text/html": [
       "> Missing values in column <i>'warehouse_location'</i>: <b>400</b>"
      ],
      "text/plain": [
       "<IPython.core.display.HTML object>"
      ]
     },
     "metadata": {},
     "output_type": "display_data"
    },
    {
     "data": {
      "text/html": [
       "&emsp;Matched non-standard values: ['']"
      ],
      "text/plain": [
       "<IPython.core.display.HTML object>"
      ]
     },
     "metadata": {},
     "output_type": "display_data"
    },
    {
     "data": {
      "text/html": [
       "> Missing values in column <i>'ending_stock'</i>: None"
      ],
      "text/plain": [
       "<IPython.core.display.HTML object>"
      ]
     },
     "metadata": {},
     "output_type": "display_data"
    },
    {
     "name": "stdout",
     "output_type": "stream",
     "text": [
      "\n"
     ]
    }
   ],
   "source": [
    "check_existing_missing_values(df_inventory)"
   ]
  },
  {
   "cell_type": "code",
   "execution_count": 43,
   "id": "e453bc77",
   "metadata": {},
   "outputs": [
    {
     "data": {
      "text/html": [
       "<h4>Scanning for Non-Standard Missing Values</h4>"
      ],
      "text/plain": [
       "<IPython.core.display.HTML object>"
      ]
     },
     "metadata": {},
     "output_type": "display_data"
    },
    {
     "data": {
      "text/html": [
       "> Missing values in column <i>'transaction_id'</i>: None"
      ],
      "text/plain": [
       "<IPython.core.display.HTML object>"
      ]
     },
     "metadata": {},
     "output_type": "display_data"
    },
    {
     "data": {
      "text/html": [
       "> Missing values in column <i>'date'</i>: None"
      ],
      "text/plain": [
       "<IPython.core.display.HTML object>"
      ]
     },
     "metadata": {},
     "output_type": "display_data"
    },
    {
     "data": {
      "text/html": [
       "> Missing values in column <i>'product_id'</i>: None"
      ],
      "text/plain": [
       "<IPython.core.display.HTML object>"
      ]
     },
     "metadata": {},
     "output_type": "display_data"
    },
    {
     "data": {
      "text/html": [
       "> Missing values in column <i>'units_sold'</i>: None"
      ],
      "text/plain": [
       "<IPython.core.display.HTML object>"
      ]
     },
     "metadata": {},
     "output_type": "display_data"
    },
    {
     "data": {
      "text/html": [
       "> Missing values in column <i>'customer_id'</i>: None"
      ],
      "text/plain": [
       "<IPython.core.display.HTML object>"
      ]
     },
     "metadata": {},
     "output_type": "display_data"
    },
    {
     "data": {
      "text/html": [
       "> Missing values in column <i>'employee_id'</i>: None"
      ],
      "text/plain": [
       "<IPython.core.display.HTML object>"
      ]
     },
     "metadata": {},
     "output_type": "display_data"
    },
    {
     "data": {
      "text/html": [
       "> Missing values in column <i>'list_price'</i>: None"
      ],
      "text/plain": [
       "<IPython.core.display.HTML object>"
      ]
     },
     "metadata": {},
     "output_type": "display_data"
    },
    {
     "data": {
      "text/html": [
       "> Missing values in column <i>'sales_amount'</i>: None"
      ],
      "text/plain": [
       "<IPython.core.display.HTML object>"
      ]
     },
     "metadata": {},
     "output_type": "display_data"
    },
    {
     "name": "stdout",
     "output_type": "stream",
     "text": [
      "\n"
     ]
    }
   ],
   "source": [
    "check_existing_missing_values(df_transactions)"
   ]
  },
  {
   "cell_type": "code",
   "execution_count": 44,
   "id": "d99e0d8e",
   "metadata": {},
   "outputs": [
    {
     "data": {
      "text/html": [
       "<h4>Scanning for Non-Standard Missing Values</h4>"
      ],
      "text/plain": [
       "<IPython.core.display.HTML object>"
      ]
     },
     "metadata": {},
     "output_type": "display_data"
    },
    {
     "data": {
      "text/html": [
       "> Missing values in column <i>'customer_id'</i>: None"
      ],
      "text/plain": [
       "<IPython.core.display.HTML object>"
      ]
     },
     "metadata": {},
     "output_type": "display_data"
    },
    {
     "data": {
      "text/html": [
       "> Missing values in column <i>'customer_name'</i>: None"
      ],
      "text/plain": [
       "<IPython.core.display.HTML object>"
      ]
     },
     "metadata": {},
     "output_type": "display_data"
    },
    {
     "data": {
      "text/html": [
       "> Missing values in column <i>'join_date'</i>: None"
      ],
      "text/plain": [
       "<IPython.core.display.HTML object>"
      ]
     },
     "metadata": {},
     "output_type": "display_data"
    },
    {
     "data": {
      "text/html": [
       "> Missing values in column <i>'total_spent'</i>: <b>150</b>"
      ],
      "text/plain": [
       "<IPython.core.display.HTML object>"
      ]
     },
     "metadata": {},
     "output_type": "display_data"
    },
    {
     "data": {
      "text/html": [
       "&emsp;Matched non-standard values: ['']"
      ],
      "text/plain": [
       "<IPython.core.display.HTML object>"
      ]
     },
     "metadata": {},
     "output_type": "display_data"
    },
    {
     "data": {
      "text/html": [
       "> Missing values in column <i>'frequency'</i>: None"
      ],
      "text/plain": [
       "<IPython.core.display.HTML object>"
      ]
     },
     "metadata": {},
     "output_type": "display_data"
    },
    {
     "data": {
      "text/html": [
       "> Missing values in column <i>'segment'</i>: <b>150</b>"
      ],
      "text/plain": [
       "<IPython.core.display.HTML object>"
      ]
     },
     "metadata": {},
     "output_type": "display_data"
    },
    {
     "data": {
      "text/html": [
       "&emsp;Matched non-standard values: ['']"
      ],
      "text/plain": [
       "<IPython.core.display.HTML object>"
      ]
     },
     "metadata": {},
     "output_type": "display_data"
    },
    {
     "name": "stdout",
     "output_type": "stream",
     "text": [
      "\n"
     ]
    }
   ],
   "source": [
    "check_existing_missing_values(df_customers)"
   ]
  },
  {
   "cell_type": "code",
   "execution_count": 45,
   "id": "3a01cd9c",
   "metadata": {},
   "outputs": [
    {
     "data": {
      "text/html": [
       "<h4>Scanning for Non-Standard Missing Values</h4>"
      ],
      "text/plain": [
       "<IPython.core.display.HTML object>"
      ]
     },
     "metadata": {},
     "output_type": "display_data"
    },
    {
     "data": {
      "text/html": [
       "> Missing values in column <i>'employee_id'</i>: None"
      ],
      "text/plain": [
       "<IPython.core.display.HTML object>"
      ]
     },
     "metadata": {},
     "output_type": "display_data"
    },
    {
     "data": {
      "text/html": [
       "> Missing values in column <i>'employee_name'</i>: None"
      ],
      "text/plain": [
       "<IPython.core.display.HTML object>"
      ]
     },
     "metadata": {},
     "output_type": "display_data"
    },
    {
     "data": {
      "text/html": [
       "> Missing values in column <i>'region'</i>: None"
      ],
      "text/plain": [
       "<IPython.core.display.HTML object>"
      ]
     },
     "metadata": {},
     "output_type": "display_data"
    },
    {
     "data": {
      "text/html": [
       "> Missing values in column <i>'total_sales'</i>: None"
      ],
      "text/plain": [
       "<IPython.core.display.HTML object>"
      ]
     },
     "metadata": {},
     "output_type": "display_data"
    },
    {
     "data": {
      "text/html": [
       "> Missing values in column <i>'effectiveness'</i>: None"
      ],
      "text/plain": [
       "<IPython.core.display.HTML object>"
      ]
     },
     "metadata": {},
     "output_type": "display_data"
    },
    {
     "name": "stdout",
     "output_type": "stream",
     "text": [
      "\n"
     ]
    }
   ],
   "source": [
    "check_existing_missing_values(df_salesforce)"
   ]
  },
  {
   "cell_type": "markdown",
   "id": "584ad852",
   "metadata": {},
   "source": [
    "##### `LSPL`\n",
    "\n",
    "**Note:** \n",
    "\n",
    "- Missing values for dataframe 'df_products':  \n",
    "    - 'unit_cost': 500 [''] were detected.   \n",
    "    - 'brand': 500 [''] were detected.\n",
    "\n",
    "- Missing values for dataframe 'df_inventory':\n",
    "    - 'warehouse_location': 400 [''] were detected.\n",
    "\n",
    "- Missing values for dataframe 'df_customers':\n",
    "    - 'total_spent': 150 [''] were detected.\n",
    "    - 'segment': 150 were detected.\n"
   ]
  },
  {
   "cell_type": "markdown",
   "id": "b06e035d",
   "metadata": {},
   "source": [
    "#### 3.3.2 Replacing missing values (pd.NA)."
   ]
  },
  {
   "cell_type": "code",
   "execution_count": 46,
   "id": "ac29c2bc",
   "metadata": {},
   "outputs": [
    {
     "data": {
      "application/vnd.microsoft.datawrangler.viewer.v0+json": {
       "columns": [
        {
         "name": "index",
         "rawType": "int64",
         "type": "integer"
        },
        {
         "name": "product_id",
         "rawType": "int64",
         "type": "integer"
        },
        {
         "name": "product_name",
         "rawType": "object",
         "type": "string"
        },
        {
         "name": "category",
         "rawType": "object",
         "type": "string"
        },
        {
         "name": "supplier_id",
         "rawType": "int64",
         "type": "integer"
        },
        {
         "name": "unit_cost",
         "rawType": "object",
         "type": "unknown"
        },
        {
         "name": "status",
         "rawType": "object",
         "type": "string"
        },
        {
         "name": "brand",
         "rawType": "object",
         "type": "unknown"
        },
        {
         "name": "list_price",
         "rawType": "float64",
         "type": "float"
        }
       ],
       "ref": "80156a5c-9d2e-40e0-bfa0-0b14dee14539",
       "rows": [
        [
         "0",
         "1",
         "use_bakery",
         "bakery",
         "1664",
         "4,58",
         "active",
         "warren_foster",
         "5.99"
        ],
        [
         "1",
         "2",
         "thank_frozen_foods",
         "dairy",
         "1662",
         "5,43",
         "backordered",
         "evans_and_sons",
         "7.03"
        ],
        [
         "2",
         "3",
         "customer_produce",
         "beverages",
         "917",
         "1,83",
         "backordered",
         "newman_and_sons",
         "2.73"
        ],
        [
         "3",
         "4",
         "sign_dairy",
         "produce",
         "268",
         "8,99",
         "active",
         "mclaughlin_little",
         "14.17"
        ],
        [
         "4",
         "5",
         "place_frozen_foods",
         "bakery",
         "964",
         "73,3",
         "backordered",
         "leblanc_james_and_thompson",
         "11.08"
        ],
        [
         "5",
         "6",
         "voice_produce",
         "beverages",
         "169",
         "15,16",
         "backordered",
         "howard_jones_and_ashley",
         "18.28"
        ],
        [
         "6",
         "7",
         "home_produce",
         "bakery",
         "911",
         null,
         "backordered",
         null,
         "2.98"
        ],
        [
         "7",
         "8",
         "care_dairy",
         "beverages",
         "1628",
         "18,64",
         "active",
         null,
         "26.67"
        ],
        [
         "8",
         "9",
         "add_bakery",
         "snacks",
         "1115",
         "14,86",
         "backordered",
         "johnston_gross_and_ellis",
         "22.15"
        ],
        [
         "9",
         "10",
         "tell_snacks",
         "snacks",
         "938",
         "12,9",
         "backordered",
         "edwards_horne_and_soto",
         "21.07"
        ],
        [
         "10",
         "11",
         "mention_produce",
         "frozen_foods",
         "1701",
         "14,25",
         "discontinued",
         "fowler_llc",
         "20.19"
        ],
        [
         "11",
         "12",
         "least_produce",
         "produce",
         "209",
         "7,91",
         "backordered",
         "garcia_williams",
         "12.59"
        ],
        [
         "12",
         "13",
         "situation_dairy",
         "frozen_foods",
         "818",
         "6,5",
         "active",
         "washington_inc",
         "10.9"
        ],
        [
         "13",
         "14",
         "parent_snacks",
         "beverages",
         "441",
         "13,88",
         "active",
         "villanueva_williams_and_green",
         "18.7"
        ],
        [
         "14",
         "15",
         "party_dairy",
         "snacks",
         "1696",
         "13,16",
         "active",
         "ramos_inc",
         "19.24"
        ],
        [
         "15",
         "16",
         "you_bakery",
         "snacks",
         "261",
         "9,42",
         "active",
         "king_lewis_and_edwards",
         "12.34"
        ],
        [
         "16",
         "17",
         "reason_snacks",
         "frozen_foods",
         "942",
         "16,09",
         "discontinued",
         "kidd_oliver_and_williams",
         "22.9"
        ],
        [
         "17",
         "18",
         "since_beverages",
         "frozen_foods",
         "396",
         "4,21",
         "active",
         "grant_franklin",
         "6.95"
        ],
        [
         "18",
         "19",
         "mouth_produce",
         "beverages",
         "1810",
         "5,77",
         "discontinued",
         "garcia_goodman_and_weaver",
         "7.3"
        ],
        [
         "19",
         "20",
         "movement_snacks",
         "snacks",
         "1098",
         null,
         "backordered",
         "west_christensen",
         "13.46"
        ],
        [
         "20",
         "21",
         "get_snacks",
         "beverages",
         "1150",
         "12,16",
         "backordered",
         null,
         "15.5"
        ],
        [
         "21",
         "22",
         "break_beverages",
         "dairy",
         "1204",
         "6,99",
         "discontinued",
         "collins_wells_and_christian",
         "8.92"
        ],
        [
         "22",
         "23",
         "popular_produce",
         "bakery",
         "762",
         "6,15",
         "backordered",
         null,
         "10.04"
        ],
        [
         "23",
         "24",
         "idea_beverages",
         "dairy",
         "782",
         "7,82",
         "active",
         "smith_plc",
         "13.87"
        ],
        [
         "24",
         "25",
         "add_frozen_foods",
         "bakery",
         "769",
         null,
         "discontinued",
         "cooke_hayes_and_olson",
         "14.68"
        ],
        [
         "25",
         "26",
         "finish_beverages",
         "produce",
         "1869",
         "8,69",
         "discontinued",
         "hernandez_and_sons",
         "10.78"
        ],
        [
         "26",
         "27",
         "school_frozen_foods",
         "produce",
         "1913",
         "9,68",
         "backordered",
         "johnson_llc",
         "14.58"
        ],
        [
         "27",
         "28",
         "time_frozen_foods",
         "snacks",
         "59",
         "18,75",
         "active",
         null,
         "31.21"
        ],
        [
         "28",
         "29",
         "yourself_beverages",
         "bakery",
         "163",
         "2,14",
         "backordered",
         "ortega_group",
         "3.47"
        ],
        [
         "29",
         "30",
         "fast_snacks",
         "bakery",
         "1508",
         "17,15",
         "discontinued",
         "perez_wong_and_smith",
         "29.94"
        ],
        [
         "30",
         "31",
         "maybe_snacks",
         "frozen_foods",
         "1050",
         "13,25",
         "backordered",
         "howell_mitchell",
         "19.58"
        ],
        [
         "31",
         "32",
         "music_snacks",
         "bakery",
         "1141",
         "16,39",
         "active",
         "valdez_and_sons",
         "26.44"
        ],
        [
         "32",
         "33",
         "police_bakery",
         "dairy",
         "1964",
         "17,39",
         "backordered",
         "saunders_ltd",
         "26.87"
        ],
        [
         "33",
         "34",
         "use_beverages",
         "dairy",
         "1665",
         "12,89",
         "active",
         "dominguez_pena_and_osborne",
         "22.03"
        ],
        [
         "34",
         "35",
         "color_dairy",
         "dairy",
         "229",
         "3,42",
         "backordered",
         "watts_schroeder",
         "4.13"
        ],
        [
         "35",
         "36",
         "little_bakery",
         "bakery",
         "647",
         "15,82",
         "active",
         "taylor_thomas",
         "24.16"
        ],
        [
         "36",
         "37",
         "minute_frozen_foods",
         "beverages",
         "630",
         "9,61",
         "active",
         "rivera_inc",
         "15.11"
        ],
        [
         "37",
         "38",
         "certainly_beverages",
         "bakery",
         "1298",
         "3,43",
         "active",
         "garcia_plc",
         "4.33"
        ],
        [
         "38",
         "39",
         "why_produce",
         "dairy",
         "1631",
         "7,08",
         "active",
         "jackson_cain_and_garcia",
         "9.1"
        ],
        [
         "39",
         "40",
         "benefit_frozen_foods",
         "beverages",
         "23",
         "17,46",
         "active",
         "joyce_le_and_wallace",
         "31.28"
        ],
        [
         "40",
         "41",
         "item_dairy",
         "dairy",
         "10",
         "2,87",
         "backordered",
         "carroll_aguilar_and_richardson",
         "4.62"
        ],
        [
         "41",
         "42",
         "success_produce",
         "bakery",
         "975",
         "12,44",
         "backordered",
         "brown_duke",
         "16.39"
        ],
        [
         "42",
         "43",
         "maintain_frozen_foods",
         "dairy",
         "357",
         null,
         "backordered",
         "byrd_hayden_and_cunningham",
         "23.52"
        ],
        [
         "43",
         "44",
         "top_produce",
         "bakery",
         "1464",
         "3,92",
         "backordered",
         "mills_llc",
         "6.94"
        ],
        [
         "44",
         "45",
         "public_bakery",
         "snacks",
         "606",
         "8,35",
         "discontinued",
         "stone_boyd_and_wilson",
         "10.46"
        ],
        [
         "45",
         "46",
         "fact_produce",
         "produce",
         "1857",
         "4,15",
         "backordered",
         "lopez_llc",
         "6.93"
        ],
        [
         "46",
         "47",
         "into_bakery",
         "beverages",
         "1775",
         "10,1",
         "discontinued",
         "johnson_heath",
         "16.95"
        ],
        [
         "47",
         "48",
         "director_snacks",
         "produce",
         "162",
         "5,2",
         "backordered",
         "ray_brown_and_lang",
         "6.29"
        ],
        [
         "48",
         "49",
         "it_produce",
         "frozen_foods",
         "435",
         "19,18",
         "discontinued",
         "shelton_morales",
         "24.72"
        ],
        [
         "49",
         "50",
         "away_dairy",
         "bakery",
         "196",
         "7,7",
         "active",
         "valencia_smith",
         "12.82"
        ]
       ],
       "shape": {
        "columns": 8,
        "rows": 10000
       }
      },
      "text/html": [
       "<div>\n",
       "<style scoped>\n",
       "    .dataframe tbody tr th:only-of-type {\n",
       "        vertical-align: middle;\n",
       "    }\n",
       "\n",
       "    .dataframe tbody tr th {\n",
       "        vertical-align: top;\n",
       "    }\n",
       "\n",
       "    .dataframe thead th {\n",
       "        text-align: right;\n",
       "    }\n",
       "</style>\n",
       "<table border=\"1\" class=\"dataframe\">\n",
       "  <thead>\n",
       "    <tr style=\"text-align: right;\">\n",
       "      <th></th>\n",
       "      <th>product_id</th>\n",
       "      <th>product_name</th>\n",
       "      <th>category</th>\n",
       "      <th>supplier_id</th>\n",
       "      <th>unit_cost</th>\n",
       "      <th>status</th>\n",
       "      <th>brand</th>\n",
       "      <th>list_price</th>\n",
       "    </tr>\n",
       "  </thead>\n",
       "  <tbody>\n",
       "    <tr>\n",
       "      <th>0</th>\n",
       "      <td>1</td>\n",
       "      <td>use_bakery</td>\n",
       "      <td>bakery</td>\n",
       "      <td>1664</td>\n",
       "      <td>4,58</td>\n",
       "      <td>active</td>\n",
       "      <td>warren_foster</td>\n",
       "      <td>5.99</td>\n",
       "    </tr>\n",
       "    <tr>\n",
       "      <th>1</th>\n",
       "      <td>2</td>\n",
       "      <td>thank_frozen_foods</td>\n",
       "      <td>dairy</td>\n",
       "      <td>1662</td>\n",
       "      <td>5,43</td>\n",
       "      <td>backordered</td>\n",
       "      <td>evans_and_sons</td>\n",
       "      <td>7.03</td>\n",
       "    </tr>\n",
       "    <tr>\n",
       "      <th>2</th>\n",
       "      <td>3</td>\n",
       "      <td>customer_produce</td>\n",
       "      <td>beverages</td>\n",
       "      <td>917</td>\n",
       "      <td>1,83</td>\n",
       "      <td>backordered</td>\n",
       "      <td>newman_and_sons</td>\n",
       "      <td>2.73</td>\n",
       "    </tr>\n",
       "    <tr>\n",
       "      <th>3</th>\n",
       "      <td>4</td>\n",
       "      <td>sign_dairy</td>\n",
       "      <td>produce</td>\n",
       "      <td>268</td>\n",
       "      <td>8,99</td>\n",
       "      <td>active</td>\n",
       "      <td>mclaughlin_little</td>\n",
       "      <td>14.17</td>\n",
       "    </tr>\n",
       "    <tr>\n",
       "      <th>4</th>\n",
       "      <td>5</td>\n",
       "      <td>place_frozen_foods</td>\n",
       "      <td>bakery</td>\n",
       "      <td>964</td>\n",
       "      <td>73,3</td>\n",
       "      <td>backordered</td>\n",
       "      <td>leblanc_james_and_thompson</td>\n",
       "      <td>11.08</td>\n",
       "    </tr>\n",
       "    <tr>\n",
       "      <th>...</th>\n",
       "      <td>...</td>\n",
       "      <td>...</td>\n",
       "      <td>...</td>\n",
       "      <td>...</td>\n",
       "      <td>...</td>\n",
       "      <td>...</td>\n",
       "      <td>...</td>\n",
       "      <td>...</td>\n",
       "    </tr>\n",
       "    <tr>\n",
       "      <th>9995</th>\n",
       "      <td>9996</td>\n",
       "      <td>financial_bakery</td>\n",
       "      <td>snacks</td>\n",
       "      <td>1581</td>\n",
       "      <td>5,93</td>\n",
       "      <td>backordered</td>\n",
       "      <td>sparks_llc</td>\n",
       "      <td>7.40</td>\n",
       "    </tr>\n",
       "    <tr>\n",
       "      <th>9996</th>\n",
       "      <td>9997</td>\n",
       "      <td>hospital_bakery</td>\n",
       "      <td>produce</td>\n",
       "      <td>1426</td>\n",
       "      <td>15,42</td>\n",
       "      <td>discontinued</td>\n",
       "      <td>butler_inc</td>\n",
       "      <td>18.92</td>\n",
       "    </tr>\n",
       "    <tr>\n",
       "      <th>9997</th>\n",
       "      <td>9998</td>\n",
       "      <td>travel_bakery</td>\n",
       "      <td>produce</td>\n",
       "      <td>31</td>\n",
       "      <td>13,28</td>\n",
       "      <td>backordered</td>\n",
       "      <td>carr_larson</td>\n",
       "      <td>23.15</td>\n",
       "    </tr>\n",
       "    <tr>\n",
       "      <th>9998</th>\n",
       "      <td>9999</td>\n",
       "      <td>learn_bakery</td>\n",
       "      <td>bakery</td>\n",
       "      <td>987</td>\n",
       "      <td>18,32</td>\n",
       "      <td>active</td>\n",
       "      <td>turner_rodriguez</td>\n",
       "      <td>22.50</td>\n",
       "    </tr>\n",
       "    <tr>\n",
       "      <th>9999</th>\n",
       "      <td>10000</td>\n",
       "      <td>everything_bakery</td>\n",
       "      <td>snacks</td>\n",
       "      <td>1127</td>\n",
       "      <td>18,24</td>\n",
       "      <td>active</td>\n",
       "      <td>zimmerman_hoffman_and_burns</td>\n",
       "      <td>31.50</td>\n",
       "    </tr>\n",
       "  </tbody>\n",
       "</table>\n",
       "<p>10000 rows × 8 columns</p>\n",
       "</div>"
      ],
      "text/plain": [
       "      product_id        product_name   category  supplier_id unit_cost        status                        brand  list_price\n",
       "0              1          use_bakery     bakery         1664      4,58        active                warren_foster        5.99\n",
       "1              2  thank_frozen_foods      dairy         1662      5,43   backordered               evans_and_sons        7.03\n",
       "2              3    customer_produce  beverages          917      1,83   backordered              newman_and_sons        2.73\n",
       "3              4          sign_dairy    produce          268      8,99        active            mclaughlin_little       14.17\n",
       "4              5  place_frozen_foods     bakery          964      73,3   backordered   leblanc_james_and_thompson       11.08\n",
       "...          ...                 ...        ...          ...       ...           ...                          ...         ...\n",
       "9995        9996    financial_bakery     snacks         1581      5,93   backordered                   sparks_llc        7.40\n",
       "9996        9997     hospital_bakery    produce         1426     15,42  discontinued                   butler_inc       18.92\n",
       "9997        9998       travel_bakery    produce           31     13,28   backordered                  carr_larson       23.15\n",
       "9998        9999        learn_bakery     bakery          987     18,32        active             turner_rodriguez       22.50\n",
       "9999       10000   everything_bakery     snacks         1127     18,24        active  zimmerman_hoffman_and_burns       31.50\n",
       "\n",
       "[10000 rows x 8 columns]"
      ]
     },
     "execution_count": 46,
     "metadata": {},
     "output_type": "execute_result"
    }
   ],
   "source": [
    "# Replace missing values with pd.NA\n",
    "df_products = replace_missing_values(df_products, include=['unit_cost', 'brand'])\n",
    "df_products"
   ]
  },
  {
   "cell_type": "code",
   "execution_count": 47,
   "id": "3ebb783a",
   "metadata": {},
   "outputs": [
    {
     "data": {
      "application/vnd.microsoft.datawrangler.viewer.v0+json": {
       "columns": [
        {
         "name": "index",
         "rawType": "int64",
         "type": "integer"
        },
        {
         "name": "inventory_id",
         "rawType": "int64",
         "type": "integer"
        },
        {
         "name": "date",
         "rawType": "object",
         "type": "string"
        },
        {
         "name": "product_id",
         "rawType": "int64",
         "type": "integer"
        },
        {
         "name": "beginning_stock",
         "rawType": "int64",
         "type": "integer"
        },
        {
         "name": "received",
         "rawType": "int64",
         "type": "integer"
        },
        {
         "name": "sold",
         "rawType": "int64",
         "type": "integer"
        },
        {
         "name": "warehouse_location",
         "rawType": "object",
         "type": "unknown"
        },
        {
         "name": "ending_stock",
         "rawType": "int64",
         "type": "integer"
        }
       ],
       "ref": "e5976e4a-6765-4b0b-900b-ac86526daa3b",
       "rows": [
        [
         "0",
         "1",
         "2025-06-20",
         "1505",
         "49",
         "12",
         "7",
         "East",
         "54"
        ],
        [
         "1",
         "2",
         "2025-05-13",
         "1611",
         "55",
         "2",
         "6",
         "South",
         "51"
        ],
        [
         "2",
         "3",
         "2025-07-02",
         "1310",
         "82",
         "5",
         "3",
         "North",
         "84"
        ],
        [
         "3",
         "4",
         "2025-05-14",
         "2355",
         "14",
         "11",
         "14",
         "West",
         "11"
        ],
        [
         "4",
         "5",
         "2025-06-13",
         "8382",
         "39",
         "17",
         "11",
         "East",
         "45"
        ],
        [
         "5",
         "6",
         "2025-05-27",
         "2194",
         "82",
         "3",
         "10",
         "South",
         "75"
        ],
        [
         "6",
         "7",
         "2025-06-04",
         "7562",
         "56",
         "10",
         "12",
         "East",
         "54"
        ],
        [
         "7",
         "8",
         "2025-06-16",
         "5646",
         "89",
         "17",
         "2",
         "East",
         "104"
        ],
        [
         "8",
         "9",
         "2025-05-21",
         "9131",
         "86",
         "15",
         "12",
         "East",
         "89"
        ],
        [
         "9",
         "10",
         "2025-06-06",
         "191",
         "31",
         "17",
         "13",
         "North",
         "35"
        ],
        [
         "10",
         "11",
         "2025-06-11",
         "3381",
         "52",
         "16",
         "6",
         "East",
         "62"
        ],
        [
         "11",
         "12",
         "2025-06-29",
         "8579",
         "98",
         "10",
         "4",
         "South",
         "104"
        ],
        [
         "12",
         "13",
         "2025-06-09",
         "9859",
         "13",
         "18",
         "4",
         "North",
         "27"
        ],
        [
         "13",
         "14",
         "2025-06-20",
         "3780",
         "29",
         "13",
         "7",
         "North",
         "35"
        ],
        [
         "14",
         "15",
         "2025-06-14",
         "489",
         "87",
         "9",
         "0",
         "West",
         "96"
        ],
        [
         "15",
         "16",
         "2025-05-08",
         "6319",
         "70",
         "8",
         "3",
         "East",
         "75"
        ],
        [
         "16",
         "17",
         "2025-06-27",
         "5032",
         "60",
         "9",
         "12",
         "South",
         "57"
        ],
        [
         "17",
         "18",
         "2025-06-08",
         "8127",
         "51",
         "10",
         "2",
         "North",
         "59"
        ],
        [
         "18",
         "19",
         "2025-06-30",
         "9870",
         "36",
         "11",
         "3",
         "North",
         "44"
        ],
        [
         "19",
         "20",
         "2025-05-09",
         "4827",
         "43",
         "0",
         "14",
         "East",
         "29"
        ],
        [
         "20",
         "21",
         "2025-06-28",
         "4187",
         "57",
         "3",
         "4",
         "North",
         "56"
        ],
        [
         "21",
         "22",
         "2025-06-15",
         "7359",
         "61",
         "18",
         "0",
         "East",
         "79"
        ],
        [
         "22",
         "23",
         "2025-05-13",
         "3870",
         "72",
         "4",
         "9",
         "West",
         "67"
        ],
        [
         "23",
         "24",
         "2025-06-06",
         "5395",
         "31",
         "6",
         "10",
         "South",
         "27"
        ],
        [
         "24",
         "25",
         "2025-06-12",
         "3344",
         "43",
         "12",
         "0",
         "East",
         "55"
        ],
        [
         "25",
         "26",
         "2025-05-17",
         "8208",
         "26",
         "4",
         "12",
         "South",
         "18"
        ],
        [
         "26",
         "27",
         "2025-06-21",
         "8918",
         "54",
         "3",
         "6",
         "West",
         "51"
        ],
        [
         "27",
         "28",
         "2025-05-19",
         "122",
         "49",
         "16",
         "8",
         "East",
         "57"
        ],
        [
         "28",
         "29",
         "2025-07-03",
         "5625",
         "18",
         "13",
         "3",
         "North",
         "28"
        ],
        [
         "29",
         "30",
         "2025-06-08",
         "7659",
         "62",
         "6",
         "0",
         "South",
         "68"
        ],
        [
         "30",
         "31",
         "2025-05-14",
         "6379",
         "31",
         "16",
         "6",
         "West",
         "41"
        ],
        [
         "31",
         "32",
         "2025-06-04",
         "7553",
         "10",
         "13",
         "14",
         "South",
         "9"
        ],
        [
         "32",
         "33",
         "2025-06-13",
         "1983",
         "89",
         "19",
         "5",
         "North",
         "103"
        ],
        [
         "33",
         "34",
         "2025-06-19",
         "6428",
         "26",
         "19",
         "4",
         "East",
         "41"
        ],
        [
         "34",
         "35",
         "2025-05-28",
         "9901",
         "11",
         "19",
         "14",
         "South",
         "16"
        ],
        [
         "35",
         "36",
         "2025-05-12",
         "4703",
         "22",
         "12",
         "14",
         null,
         "20"
        ],
        [
         "36",
         "37",
         "2025-06-28",
         "6804",
         "19",
         "3",
         "14",
         "West",
         "8"
        ],
        [
         "37",
         "38",
         "2025-06-18",
         "7394",
         "29",
         "1",
         "4",
         "West",
         "26"
        ],
        [
         "38",
         "39",
         "2025-05-26",
         "2796",
         "81",
         "12",
         "0",
         "West",
         "93"
        ],
        [
         "39",
         "40",
         "2025-06-25",
         "4954",
         "6",
         "13",
         "11",
         "North",
         "8"
        ],
        [
         "40",
         "41",
         "2025-05-20",
         "5971",
         "27",
         "13",
         "10",
         "South",
         "30"
        ],
        [
         "41",
         "42",
         "2025-05-27",
         "7247",
         "1",
         "4",
         "11",
         "East",
         "0"
        ],
        [
         "42",
         "43",
         "2025-06-29",
         "22",
         "17",
         "6",
         "12",
         "West",
         "11"
        ],
        [
         "43",
         "44",
         "2025-06-21",
         "2277",
         "1",
         "6",
         "11",
         "East",
         "0"
        ],
        [
         "44",
         "45",
         "2025-05-08",
         "393",
         "62",
         "6",
         "10",
         "East",
         "58"
        ],
        [
         "45",
         "46",
         "2025-06-02",
         "2471",
         "24",
         "4",
         "8",
         "South",
         "20"
        ],
        [
         "46",
         "47",
         "2025-06-01",
         "5250",
         "59",
         "4",
         "6",
         "North",
         "57"
        ],
        [
         "47",
         "48",
         "2025-06-23",
         "4406",
         "55",
         "7",
         "3",
         "West",
         "59"
        ],
        [
         "48",
         "49",
         "2025-06-27",
         "2101",
         "97",
         "7",
         "14",
         "North",
         "90"
        ],
        [
         "49",
         "50",
         "2025-06-03",
         "369",
         "1",
         "12",
         "10",
         "South",
         "3"
        ]
       ],
       "shape": {
        "columns": 8,
        "rows": 20000
       }
      },
      "text/html": [
       "<div>\n",
       "<style scoped>\n",
       "    .dataframe tbody tr th:only-of-type {\n",
       "        vertical-align: middle;\n",
       "    }\n",
       "\n",
       "    .dataframe tbody tr th {\n",
       "        vertical-align: top;\n",
       "    }\n",
       "\n",
       "    .dataframe thead th {\n",
       "        text-align: right;\n",
       "    }\n",
       "</style>\n",
       "<table border=\"1\" class=\"dataframe\">\n",
       "  <thead>\n",
       "    <tr style=\"text-align: right;\">\n",
       "      <th></th>\n",
       "      <th>inventory_id</th>\n",
       "      <th>date</th>\n",
       "      <th>product_id</th>\n",
       "      <th>beginning_stock</th>\n",
       "      <th>received</th>\n",
       "      <th>sold</th>\n",
       "      <th>warehouse_location</th>\n",
       "      <th>ending_stock</th>\n",
       "    </tr>\n",
       "  </thead>\n",
       "  <tbody>\n",
       "    <tr>\n",
       "      <th>0</th>\n",
       "      <td>1</td>\n",
       "      <td>2025-06-20</td>\n",
       "      <td>1505</td>\n",
       "      <td>49</td>\n",
       "      <td>12</td>\n",
       "      <td>7</td>\n",
       "      <td>East</td>\n",
       "      <td>54</td>\n",
       "    </tr>\n",
       "    <tr>\n",
       "      <th>1</th>\n",
       "      <td>2</td>\n",
       "      <td>2025-05-13</td>\n",
       "      <td>1611</td>\n",
       "      <td>55</td>\n",
       "      <td>2</td>\n",
       "      <td>6</td>\n",
       "      <td>South</td>\n",
       "      <td>51</td>\n",
       "    </tr>\n",
       "    <tr>\n",
       "      <th>2</th>\n",
       "      <td>3</td>\n",
       "      <td>2025-07-02</td>\n",
       "      <td>1310</td>\n",
       "      <td>82</td>\n",
       "      <td>5</td>\n",
       "      <td>3</td>\n",
       "      <td>North</td>\n",
       "      <td>84</td>\n",
       "    </tr>\n",
       "    <tr>\n",
       "      <th>3</th>\n",
       "      <td>4</td>\n",
       "      <td>2025-05-14</td>\n",
       "      <td>2355</td>\n",
       "      <td>14</td>\n",
       "      <td>11</td>\n",
       "      <td>14</td>\n",
       "      <td>West</td>\n",
       "      <td>11</td>\n",
       "    </tr>\n",
       "    <tr>\n",
       "      <th>4</th>\n",
       "      <td>5</td>\n",
       "      <td>2025-06-13</td>\n",
       "      <td>8382</td>\n",
       "      <td>39</td>\n",
       "      <td>17</td>\n",
       "      <td>11</td>\n",
       "      <td>East</td>\n",
       "      <td>45</td>\n",
       "    </tr>\n",
       "    <tr>\n",
       "      <th>...</th>\n",
       "      <td>...</td>\n",
       "      <td>...</td>\n",
       "      <td>...</td>\n",
       "      <td>...</td>\n",
       "      <td>...</td>\n",
       "      <td>...</td>\n",
       "      <td>...</td>\n",
       "      <td>...</td>\n",
       "    </tr>\n",
       "    <tr>\n",
       "      <th>19995</th>\n",
       "      <td>19996</td>\n",
       "      <td>2025-05-25</td>\n",
       "      <td>7842</td>\n",
       "      <td>71</td>\n",
       "      <td>4</td>\n",
       "      <td>2</td>\n",
       "      <td>South</td>\n",
       "      <td>73</td>\n",
       "    </tr>\n",
       "    <tr>\n",
       "      <th>19996</th>\n",
       "      <td>19997</td>\n",
       "      <td>2025-05-22</td>\n",
       "      <td>4965</td>\n",
       "      <td>84</td>\n",
       "      <td>12</td>\n",
       "      <td>2</td>\n",
       "      <td>East</td>\n",
       "      <td>94</td>\n",
       "    </tr>\n",
       "    <tr>\n",
       "      <th>19997</th>\n",
       "      <td>19998</td>\n",
       "      <td>2025-05-19</td>\n",
       "      <td>6455</td>\n",
       "      <td>24</td>\n",
       "      <td>4</td>\n",
       "      <td>5</td>\n",
       "      <td>East</td>\n",
       "      <td>23</td>\n",
       "    </tr>\n",
       "    <tr>\n",
       "      <th>19998</th>\n",
       "      <td>19999</td>\n",
       "      <td>2025-06-21</td>\n",
       "      <td>2555</td>\n",
       "      <td>97</td>\n",
       "      <td>0</td>\n",
       "      <td>6</td>\n",
       "      <td>West</td>\n",
       "      <td>91</td>\n",
       "    </tr>\n",
       "    <tr>\n",
       "      <th>19999</th>\n",
       "      <td>20000</td>\n",
       "      <td>2025-06-19</td>\n",
       "      <td>7179</td>\n",
       "      <td>40</td>\n",
       "      <td>0</td>\n",
       "      <td>7</td>\n",
       "      <td>East</td>\n",
       "      <td>33</td>\n",
       "    </tr>\n",
       "  </tbody>\n",
       "</table>\n",
       "<p>20000 rows × 8 columns</p>\n",
       "</div>"
      ],
      "text/plain": [
       "       inventory_id        date  product_id  beginning_stock  received  sold warehouse_location  ending_stock\n",
       "0                 1  2025-06-20        1505               49        12     7               East            54\n",
       "1                 2  2025-05-13        1611               55         2     6              South            51\n",
       "2                 3  2025-07-02        1310               82         5     3              North            84\n",
       "3                 4  2025-05-14        2355               14        11    14               West            11\n",
       "4                 5  2025-06-13        8382               39        17    11               East            45\n",
       "...             ...         ...         ...              ...       ...   ...                ...           ...\n",
       "19995         19996  2025-05-25        7842               71         4     2              South            73\n",
       "19996         19997  2025-05-22        4965               84        12     2               East            94\n",
       "19997         19998  2025-05-19        6455               24         4     5               East            23\n",
       "19998         19999  2025-06-21        2555               97         0     6               West            91\n",
       "19999         20000  2025-06-19        7179               40         0     7               East            33\n",
       "\n",
       "[20000 rows x 8 columns]"
      ]
     },
     "execution_count": 47,
     "metadata": {},
     "output_type": "execute_result"
    }
   ],
   "source": [
    "df_inventory = replace_missing_values(df_inventory, include=['warehouse_location'])\n",
    "df_inventory"
   ]
  },
  {
   "cell_type": "code",
   "execution_count": 48,
   "id": "0d31e089",
   "metadata": {},
   "outputs": [
    {
     "data": {
      "application/vnd.microsoft.datawrangler.viewer.v0+json": {
       "columns": [
        {
         "name": "index",
         "rawType": "int64",
         "type": "integer"
        },
        {
         "name": "customer_id",
         "rawType": "int64",
         "type": "integer"
        },
        {
         "name": "customer_name",
         "rawType": "object",
         "type": "string"
        },
        {
         "name": "join_date",
         "rawType": "object",
         "type": "string"
        },
        {
         "name": "total_spent",
         "rawType": "object",
         "type": "unknown"
        },
        {
         "name": "frequency",
         "rawType": "int64",
         "type": "integer"
        },
        {
         "name": "segment",
         "rawType": "object",
         "type": "unknown"
        }
       ],
       "ref": "c5fcf6b2-6492-4c71-9e1b-3a1417b9e513",
       "rows": [
        [
         "0",
         "1",
         "charles_miller",
         "2024-08-13",
         "294.24",
         "12",
         "occasional"
        ],
        [
         "1",
         "2",
         "michael_long",
         "2024-09-03",
         "4011.83",
         "7",
         "frequent"
        ],
        [
         "2",
         "3",
         "kimberly_green",
         "2024-01-23",
         null,
         "15",
         "high_value"
        ],
        [
         "3",
         "4",
         "beverly_bowers",
         "2024-11-03",
         "1403.0",
         "13",
         "occasional"
        ],
        [
         "4",
         "5",
         "pamela_berg",
         "2024-08-05",
         "1354.18",
         "18",
         "high_value"
        ],
        [
         "5",
         "6",
         "tiffany_ryan",
         "2024-07-15",
         "1253.15",
         "1",
         "occasional"
        ],
        [
         "6",
         "7",
         "elizabeth_johnson",
         "2023-09-12",
         "914.91",
         "42",
         "occasional"
        ],
        [
         "7",
         "8",
         "joseph_thomas",
         "2024-10-21",
         "1995.77",
         "29",
         "frequent"
        ],
        [
         "8",
         "9",
         "victor_smith",
         "2023-10-12",
         "3802.82",
         "48",
         "frequent"
        ],
        [
         "9",
         "10",
         "justin_scott",
         "2024-05-29",
         "3161.12",
         "30",
         "occasional"
        ],
        [
         "10",
         "11",
         "heather_munoz",
         "2024-10-19",
         "1904.17",
         "26",
         "occasional"
        ],
        [
         "11",
         "12",
         "john_snow_dvm",
         "2023-08-11",
         "2319.36",
         "43",
         "high_value"
        ],
        [
         "12",
         "13",
         "david_gaines",
         "2024-11-14",
         "1417.41",
         "46",
         "occasional"
        ],
        [
         "13",
         "14",
         "angel_cameron",
         "2024-05-08",
         "2555.56",
         "40",
         "occasional"
        ],
        [
         "14",
         "15",
         "jonathan_nguyen_phd",
         "2024-08-13",
         "978.83",
         "46",
         "occasional"
        ],
        [
         "15",
         "16",
         "angela_smith",
         "2024-12-13",
         "3276.77",
         "4",
         "high_value"
        ],
        [
         "16",
         "17",
         "david_frazier",
         "2024-04-05",
         "4699.68",
         "21",
         "high_value"
        ],
        [
         "17",
         "18",
         "raymond_dawson",
         "2024-04-14",
         "4725.46",
         "24",
         "occasional"
        ],
        [
         "18",
         "19",
         "kristina_blair",
         "2025-04-07",
         "2467.08",
         "46",
         "high_value"
        ],
        [
         "19",
         "20",
         "alex_king",
         "2025-03-02",
         "3996.57",
         "27",
         "frequent"
        ],
        [
         "20",
         "21",
         "shane_andersen",
         "2023-09-19",
         "2865.38",
         "46",
         "frequent"
        ],
        [
         "21",
         "22",
         "kevin_robbins",
         "2023-09-10",
         "1604.29",
         "6",
         "frequent"
        ],
        [
         "22",
         "23",
         "monica_johnson",
         "2024-08-12",
         "1787.39",
         "18",
         "occasional"
        ],
        [
         "23",
         "24",
         "cheryl_sanders",
         "2024-06-18",
         "287.98",
         "6",
         "high_value"
        ],
        [
         "24",
         "25",
         "cody_wallace_md",
         "2023-10-12",
         "3803.58",
         "33",
         "high_value"
        ],
        [
         "25",
         "26",
         "lisa_sanchez",
         "2023-09-05",
         "4329.15",
         "4",
         "high_value"
        ],
        [
         "26",
         "27",
         "ralph_li",
         "2024-07-06",
         "945.71",
         "21",
         "frequent"
        ],
        [
         "27",
         "28",
         "kevin_wells",
         "2024-11-23",
         "1102.38",
         "37",
         "occasional"
        ],
        [
         "28",
         "29",
         "ashley_briggs",
         "2023-07-08",
         "4375.77",
         "3",
         null
        ],
        [
         "29",
         "30",
         "adam_gregory",
         "2024-06-29",
         "215.55",
         "47",
         "occasional"
        ],
        [
         "30",
         "31",
         "yolanda_bennett",
         "2024-04-30",
         "1468.95",
         "41",
         "high_value"
        ],
        [
         "31",
         "32",
         "chris_bonilla",
         "2024-07-31",
         "2802.63",
         "49",
         "high_value"
        ],
        [
         "32",
         "33",
         "bonnie_martin",
         "2024-05-02",
         "4010.03",
         "12",
         "occasional"
        ],
        [
         "33",
         "34",
         "alexandra_hernandez",
         "2024-11-11",
         "3843.28",
         "13",
         "high_value"
        ],
        [
         "34",
         "35",
         "douglas_smith",
         "2024-05-07",
         "3976.83",
         "13",
         "frequent"
        ],
        [
         "35",
         "36",
         "caitlin_collins",
         "2025-05-20",
         "3696.33",
         "42",
         "frequent"
        ],
        [
         "36",
         "37",
         "christopher_simmons",
         "2024-03-20",
         "3415.21",
         "39",
         "high_value"
        ],
        [
         "37",
         "38",
         "angela_cook",
         "2024-01-08",
         "2887.93",
         "4",
         "frequent"
        ],
        [
         "38",
         "39",
         "krista_peters",
         "2023-10-31",
         "4560.03",
         "8",
         "frequent"
        ],
        [
         "39",
         "40",
         "emily_adams",
         "2024-05-12",
         "1151.73",
         "22",
         "high_value"
        ],
        [
         "40",
         "41",
         "david_pierce",
         "2025-04-18",
         "4861.94",
         "8",
         "high_value"
        ],
        [
         "41",
         "42",
         "christopher_anderson",
         "2024-01-25",
         "1517.52",
         "27",
         "high_value"
        ],
        [
         "42",
         "43",
         "ernest_palmer",
         "2024-01-18",
         "1784.81",
         "43",
         "occasional"
        ],
        [
         "43",
         "44",
         "todd_ruiz",
         "2025-03-26",
         "3548.35",
         "35",
         "high_value"
        ],
        [
         "44",
         "45",
         "cynthia_morgan",
         "2024-05-03",
         "3601.28",
         "20",
         "occasional"
        ],
        [
         "45",
         "46",
         "brandy_rogers",
         "2024-03-18",
         "3976.36",
         "27",
         "occasional"
        ],
        [
         "46",
         "47",
         "karen_warren",
         "2023-08-23",
         "4518.97",
         "19",
         "high_value"
        ],
        [
         "47",
         "48",
         "laura_rhodes",
         "2024-02-22",
         "3776.15",
         "18",
         "high_value"
        ],
        [
         "48",
         "49",
         "tonya_crawford",
         "2025-04-08",
         "2182.44",
         "15",
         "high_value"
        ],
        [
         "49",
         "50",
         "cindy_liu",
         "2025-04-02",
         "1226.24",
         "39",
         null
        ]
       ],
       "shape": {
        "columns": 6,
        "rows": 5000
       }
      },
      "text/html": [
       "<div>\n",
       "<style scoped>\n",
       "    .dataframe tbody tr th:only-of-type {\n",
       "        vertical-align: middle;\n",
       "    }\n",
       "\n",
       "    .dataframe tbody tr th {\n",
       "        vertical-align: top;\n",
       "    }\n",
       "\n",
       "    .dataframe thead th {\n",
       "        text-align: right;\n",
       "    }\n",
       "</style>\n",
       "<table border=\"1\" class=\"dataframe\">\n",
       "  <thead>\n",
       "    <tr style=\"text-align: right;\">\n",
       "      <th></th>\n",
       "      <th>customer_id</th>\n",
       "      <th>customer_name</th>\n",
       "      <th>join_date</th>\n",
       "      <th>total_spent</th>\n",
       "      <th>frequency</th>\n",
       "      <th>segment</th>\n",
       "    </tr>\n",
       "  </thead>\n",
       "  <tbody>\n",
       "    <tr>\n",
       "      <th>0</th>\n",
       "      <td>1</td>\n",
       "      <td>charles_miller</td>\n",
       "      <td>2024-08-13</td>\n",
       "      <td>294.24</td>\n",
       "      <td>12</td>\n",
       "      <td>occasional</td>\n",
       "    </tr>\n",
       "    <tr>\n",
       "      <th>1</th>\n",
       "      <td>2</td>\n",
       "      <td>michael_long</td>\n",
       "      <td>2024-09-03</td>\n",
       "      <td>4011.83</td>\n",
       "      <td>7</td>\n",
       "      <td>frequent</td>\n",
       "    </tr>\n",
       "    <tr>\n",
       "      <th>2</th>\n",
       "      <td>3</td>\n",
       "      <td>kimberly_green</td>\n",
       "      <td>2024-01-23</td>\n",
       "      <td>&lt;NA&gt;</td>\n",
       "      <td>15</td>\n",
       "      <td>high_value</td>\n",
       "    </tr>\n",
       "    <tr>\n",
       "      <th>3</th>\n",
       "      <td>4</td>\n",
       "      <td>beverly_bowers</td>\n",
       "      <td>2024-11-03</td>\n",
       "      <td>1403.0</td>\n",
       "      <td>13</td>\n",
       "      <td>occasional</td>\n",
       "    </tr>\n",
       "    <tr>\n",
       "      <th>4</th>\n",
       "      <td>5</td>\n",
       "      <td>pamela_berg</td>\n",
       "      <td>2024-08-05</td>\n",
       "      <td>1354.18</td>\n",
       "      <td>18</td>\n",
       "      <td>high_value</td>\n",
       "    </tr>\n",
       "    <tr>\n",
       "      <th>...</th>\n",
       "      <td>...</td>\n",
       "      <td>...</td>\n",
       "      <td>...</td>\n",
       "      <td>...</td>\n",
       "      <td>...</td>\n",
       "      <td>...</td>\n",
       "    </tr>\n",
       "    <tr>\n",
       "      <th>4995</th>\n",
       "      <td>4996</td>\n",
       "      <td>bryan_jones</td>\n",
       "      <td>2024-08-06</td>\n",
       "      <td>3112.13</td>\n",
       "      <td>43</td>\n",
       "      <td>frequent</td>\n",
       "    </tr>\n",
       "    <tr>\n",
       "      <th>4996</th>\n",
       "      <td>4997</td>\n",
       "      <td>sharon_lee</td>\n",
       "      <td>2025-02-14</td>\n",
       "      <td>608.13</td>\n",
       "      <td>5</td>\n",
       "      <td>occasional</td>\n",
       "    </tr>\n",
       "    <tr>\n",
       "      <th>4997</th>\n",
       "      <td>4998</td>\n",
       "      <td>gabrielle_kelly</td>\n",
       "      <td>2025-01-16</td>\n",
       "      <td>1766.59</td>\n",
       "      <td>38</td>\n",
       "      <td>frequent</td>\n",
       "    </tr>\n",
       "    <tr>\n",
       "      <th>4998</th>\n",
       "      <td>4999</td>\n",
       "      <td>christina_larson</td>\n",
       "      <td>2023-12-17</td>\n",
       "      <td>1370.75</td>\n",
       "      <td>37</td>\n",
       "      <td>high_value</td>\n",
       "    </tr>\n",
       "    <tr>\n",
       "      <th>4999</th>\n",
       "      <td>5000</td>\n",
       "      <td>john_aguirre</td>\n",
       "      <td>2024-07-04</td>\n",
       "      <td>4573.7</td>\n",
       "      <td>43</td>\n",
       "      <td>high_value</td>\n",
       "    </tr>\n",
       "  </tbody>\n",
       "</table>\n",
       "<p>5000 rows × 6 columns</p>\n",
       "</div>"
      ],
      "text/plain": [
       "      customer_id     customer_name   join_date total_spent  frequency     segment\n",
       "0               1    charles_miller  2024-08-13      294.24         12  occasional\n",
       "1               2      michael_long  2024-09-03     4011.83          7    frequent\n",
       "2               3    kimberly_green  2024-01-23        <NA>         15  high_value\n",
       "3               4    beverly_bowers  2024-11-03      1403.0         13  occasional\n",
       "4               5       pamela_berg  2024-08-05     1354.18         18  high_value\n",
       "...           ...               ...         ...         ...        ...         ...\n",
       "4995         4996       bryan_jones  2024-08-06     3112.13         43    frequent\n",
       "4996         4997        sharon_lee  2025-02-14      608.13          5  occasional\n",
       "4997         4998   gabrielle_kelly  2025-01-16     1766.59         38    frequent\n",
       "4998         4999  christina_larson  2023-12-17     1370.75         37  high_value\n",
       "4999         5000      john_aguirre  2024-07-04      4573.7         43  high_value\n",
       "\n",
       "[5000 rows x 6 columns]"
      ]
     },
     "execution_count": 48,
     "metadata": {},
     "output_type": "execute_result"
    }
   ],
   "source": [
    "df_customers = replace_missing_values(df_customers, include=['total_spent', 'segment'])\n",
    "df_customers"
   ]
  },
  {
   "cell_type": "markdown",
   "id": "c916cd64",
   "metadata": {},
   "source": [
    "#### 3.3.3 Preview missing values."
   ]
  },
  {
   "cell_type": "code",
   "execution_count": 49,
   "id": "d06fa1d4",
   "metadata": {},
   "outputs": [
    {
     "data": {
      "image/png": "[encoded data removed]",
      "text/plain": [
       "<Figure size 1500x700 with 1 Axes>"
      ]
     },
     "metadata": {},
     "output_type": "display_data"
    }
   ],
   "source": [
    "# Show missing values heatmap\n",
    "missing_values_heatmap(df_products)"
   ]
  },
  {
   "cell_type": "code",
   "execution_count": 50,
   "id": "95b6d804",
   "metadata": {},
   "outputs": [
    {
     "data": {
      "application/vnd.microsoft.datawrangler.viewer.v0+json": {
       "columns": [
        {
         "name": "index",
         "rawType": "int64",
         "type": "integer"
        },
        {
         "name": "product_id",
         "rawType": "int64",
         "type": "integer"
        },
        {
         "name": "product_name",
         "rawType": "object",
         "type": "string"
        },
        {
         "name": "category",
         "rawType": "object",
         "type": "string"
        },
        {
         "name": "supplier_id",
         "rawType": "int64",
         "type": "integer"
        },
        {
         "name": "unit_cost",
         "rawType": "object",
         "type": "unknown"
        },
        {
         "name": "status",
         "rawType": "object",
         "type": "string"
        },
        {
         "name": "brand",
         "rawType": "object",
         "type": "unknown"
        },
        {
         "name": "list_price",
         "rawType": "float64",
         "type": "float"
        }
       ],
       "ref": "eb5ca794-795e-4cb6-b92c-da21c6dad238",
       "rows": [
        [
         "6",
         "7",
         "home_produce",
         "bakery",
         "911",
         null,
         "backordered",
         null,
         "2.98"
        ],
        [
         "7",
         "8",
         "care_dairy",
         "beverages",
         "1628",
         "18,64",
         "active",
         null,
         "26.67"
        ],
        [
         "19",
         "20",
         "movement_snacks",
         "snacks",
         "1098",
         null,
         "backordered",
         "west_christensen",
         "13.46"
        ],
        [
         "20",
         "21",
         "get_snacks",
         "beverages",
         "1150",
         "12,16",
         "backordered",
         null,
         "15.5"
        ],
        [
         "22",
         "23",
         "popular_produce",
         "bakery",
         "762",
         "6,15",
         "backordered",
         null,
         "10.04"
        ],
        [
         "24",
         "25",
         "add_frozen_foods",
         "bakery",
         "769",
         null,
         "discontinued",
         "cooke_hayes_and_olson",
         "14.68"
        ],
        [
         "27",
         "28",
         "time_frozen_foods",
         "snacks",
         "59",
         "18,75",
         "active",
         null,
         "31.21"
        ],
        [
         "42",
         "43",
         "maintain_frozen_foods",
         "dairy",
         "357",
         null,
         "backordered",
         "byrd_hayden_and_cunningham",
         "23.52"
        ],
        [
         "50",
         "51",
         "trouble_produce",
         "dairy",
         "618",
         "0,69",
         "discontinued",
         null,
         "1.17"
        ],
        [
         "53",
         "54",
         "claim_bakery",
         "snacks",
         "1942",
         "8,12",
         "backordered",
         null,
         "11.54"
        ],
        [
         "82",
         "83",
         "would_bakery",
         "frozen_foods",
         "920",
         "7,29",
         "discontinued",
         null,
         "13.01"
        ],
        [
         "110",
         "111",
         "plan_produce",
         "produce",
         "500",
         null,
         "active",
         "nelson_rogers_and_ruiz",
         "24.27"
        ],
        [
         "118",
         "119",
         "standard_bakery",
         "beverages",
         "61",
         "16,64",
         "discontinued",
         null,
         "20.45"
        ],
        [
         "125",
         "126",
         "each_produce",
         "beverages",
         "214",
         null,
         "active",
         "harmon_inc",
         "10.45"
        ],
        [
         "132",
         "133",
         "expect_frozen_foods",
         "produce",
         "1645",
         "15,42",
         "backordered",
         null,
         "21.91"
        ],
        [
         "146",
         "147",
         "building_frozen_foods",
         "beverages",
         "894",
         "1,55",
         "active",
         null,
         "2.4"
        ],
        [
         "174",
         "175",
         "audience_dairy",
         "dairy",
         "706",
         "19,63",
         "discontinued",
         null,
         "29.69"
        ],
        [
         "175",
         "176",
         "past_bakery",
         "beverages",
         "303",
         "4,55",
         "backordered",
         null,
         "5.62"
        ],
        [
         "208",
         "209",
         "energy_bakery",
         "beverages",
         "26",
         "11,93",
         "active",
         null,
         "21.1"
        ],
        [
         "210",
         "211",
         "those_snacks",
         "bakery",
         "1598",
         "13,56",
         "discontinued",
         null,
         "21.65"
        ],
        [
         "213",
         "214",
         "natural_dairy",
         "produce",
         "39",
         "6,18",
         "active",
         null,
         "8.91"
        ],
        [
         "230",
         "231",
         "thousand_bakery",
         "frozen_foods",
         "1542",
         null,
         "discontinued",
         "white_olson_and_george",
         "9.38"
        ],
        [
         "231",
         "232",
         "candidate_snacks",
         "bakery",
         "1640",
         null,
         "active",
         "smith_ltd",
         "18.43"
        ],
        [
         "249",
         "250",
         "since_snacks",
         "snacks",
         "1776",
         "4,11",
         "backordered",
         null,
         "6.82"
        ],
        [
         "258",
         "259",
         "commercial_snacks",
         "produce",
         "1024",
         null,
         "active",
         "summers_parsons",
         "24.61"
        ],
        [
         "261",
         "262",
         "development_beverages",
         "frozen_foods",
         "1170",
         "6,34",
         "active",
         null,
         "9.86"
        ],
        [
         "262",
         "263",
         "bad_dairy",
         "beverages",
         "76",
         "12,79",
         "backordered",
         null,
         "19.41"
        ],
        [
         "292",
         "293",
         "very_produce",
         "beverages",
         "1753",
         "11,68",
         "active",
         null,
         "18.57"
        ],
        [
         "293",
         "294",
         "create_produce",
         "frozen_foods",
         "1556",
         "4,36",
         "active",
         null,
         "6.96"
        ],
        [
         "299",
         "300",
         "building_produce",
         "snacks",
         "1779",
         "4,61",
         "discontinued",
         null,
         "6.71"
        ],
        [
         "323",
         "324",
         "church_frozen_foods",
         "snacks",
         "1418",
         "12,47",
         "backordered",
         null,
         "15.78"
        ],
        [
         "338",
         "339",
         "reality_beverages",
         "frozen_foods",
         "1440",
         null,
         "active",
         "patterson_llc",
         "20.75"
        ],
        [
         "354",
         "355",
         "of_beverages",
         "frozen_foods",
         "109",
         null,
         "discontinued",
         "kelley_and_sons",
         "11.27"
        ],
        [
         "360",
         "361",
         "clearly_dairy",
         "bakery",
         "530",
         null,
         "discontinued",
         "harris_plc",
         "16.41"
        ],
        [
         "362",
         "363",
         "partner_bakery",
         "snacks",
         "144",
         null,
         "discontinued",
         "ibarra_graves_and_ortiz",
         "21.02"
        ],
        [
         "403",
         "404",
         "laugh_beverages",
         "produce",
         "352",
         "8,39",
         "discontinued",
         null,
         "11.31"
        ],
        [
         "407",
         "408",
         "model_produce",
         "beverages",
         "1709",
         null,
         "active",
         "marquez_ruiz",
         "14.76"
        ],
        [
         "432",
         "433",
         "call_beverages",
         "bakery",
         "2000",
         "2,09",
         "active",
         null,
         "3.01"
        ],
        [
         "440",
         "441",
         "particular_bakery",
         "snacks",
         "1507",
         "18,48",
         "backordered",
         null,
         "23.07"
        ],
        [
         "457",
         "458",
         "them_beverages",
         "snacks",
         "1728",
         null,
         "backordered",
         "shaw_cole_and_pena",
         "30.32"
        ],
        [
         "458",
         "459",
         "bank_snacks",
         "bakery",
         "795",
         null,
         "backordered",
         "vazquez_perez_and_murphy",
         "11.62"
        ],
        [
         "460",
         "461",
         "specific_frozen_foods",
         "snacks",
         "161",
         "9,25",
         "active",
         null,
         "16.31"
        ],
        [
         "475",
         "476",
         "manage_bakery",
         "bakery",
         "1839",
         null,
         "active",
         "guzman_cochran",
         "25.88"
        ],
        [
         "479",
         "480",
         "edge_snacks",
         "bakery",
         "221",
         "1,15",
         "active",
         null,
         "1.57"
        ],
        [
         "482",
         "483",
         "artist_dairy",
         "bakery",
         "1462",
         null,
         "active",
         "ferguson_greene_and_daugherty",
         "2.65"
        ],
        [
         "484",
         "485",
         "cold_frozen_foods",
         "snacks",
         "85",
         null,
         "active",
         "morris_burke",
         "24.23"
        ],
        [
         "489",
         "490",
         "share_snacks",
         "dairy",
         "462",
         null,
         "backordered",
         "guerrero_turner",
         "5.18"
        ],
        [
         "522",
         "523",
         "more_snacks",
         "snacks",
         "533",
         null,
         "discontinued",
         "peters_gutierrez_and_taylor",
         "17.46"
        ],
        [
         "528",
         "529",
         "husband_snacks",
         "dairy",
         "669",
         null,
         "discontinued",
         "powell_thomas",
         "12.21"
        ],
        [
         "532",
         "533",
         "adult_bakery",
         "bakery",
         "911",
         null,
         "discontinued",
         null,
         "23.23"
        ]
       ],
       "shape": {
        "columns": 8,
        "rows": 980
       }
      },
      "text/html": [
       "<div>\n",
       "<style scoped>\n",
       "    .dataframe tbody tr th:only-of-type {\n",
       "        vertical-align: middle;\n",
       "    }\n",
       "\n",
       "    .dataframe tbody tr th {\n",
       "        vertical-align: top;\n",
       "    }\n",
       "\n",
       "    .dataframe thead th {\n",
       "        text-align: right;\n",
       "    }\n",
       "</style>\n",
       "<table border=\"1\" class=\"dataframe\">\n",
       "  <thead>\n",
       "    <tr style=\"text-align: right;\">\n",
       "      <th></th>\n",
       "      <th>product_id</th>\n",
       "      <th>product_name</th>\n",
       "      <th>category</th>\n",
       "      <th>supplier_id</th>\n",
       "      <th>unit_cost</th>\n",
       "      <th>status</th>\n",
       "      <th>brand</th>\n",
       "      <th>list_price</th>\n",
       "    </tr>\n",
       "  </thead>\n",
       "  <tbody>\n",
       "    <tr>\n",
       "      <th>6</th>\n",
       "      <td>7</td>\n",
       "      <td>home_produce</td>\n",
       "      <td>bakery</td>\n",
       "      <td>911</td>\n",
       "      <td>&lt;NA&gt;</td>\n",
       "      <td>backordered</td>\n",
       "      <td>&lt;NA&gt;</td>\n",
       "      <td>2.98</td>\n",
       "    </tr>\n",
       "    <tr>\n",
       "      <th>7</th>\n",
       "      <td>8</td>\n",
       "      <td>care_dairy</td>\n",
       "      <td>beverages</td>\n",
       "      <td>1628</td>\n",
       "      <td>18,64</td>\n",
       "      <td>active</td>\n",
       "      <td>&lt;NA&gt;</td>\n",
       "      <td>26.67</td>\n",
       "    </tr>\n",
       "    <tr>\n",
       "      <th>19</th>\n",
       "      <td>20</td>\n",
       "      <td>movement_snacks</td>\n",
       "      <td>snacks</td>\n",
       "      <td>1098</td>\n",
       "      <td>&lt;NA&gt;</td>\n",
       "      <td>backordered</td>\n",
       "      <td>west_christensen</td>\n",
       "      <td>13.46</td>\n",
       "    </tr>\n",
       "    <tr>\n",
       "      <th>20</th>\n",
       "      <td>21</td>\n",
       "      <td>get_snacks</td>\n",
       "      <td>beverages</td>\n",
       "      <td>1150</td>\n",
       "      <td>12,16</td>\n",
       "      <td>backordered</td>\n",
       "      <td>&lt;NA&gt;</td>\n",
       "      <td>15.50</td>\n",
       "    </tr>\n",
       "    <tr>\n",
       "      <th>22</th>\n",
       "      <td>23</td>\n",
       "      <td>popular_produce</td>\n",
       "      <td>bakery</td>\n",
       "      <td>762</td>\n",
       "      <td>6,15</td>\n",
       "      <td>backordered</td>\n",
       "      <td>&lt;NA&gt;</td>\n",
       "      <td>10.04</td>\n",
       "    </tr>\n",
       "    <tr>\n",
       "      <th>...</th>\n",
       "      <td>...</td>\n",
       "      <td>...</td>\n",
       "      <td>...</td>\n",
       "      <td>...</td>\n",
       "      <td>...</td>\n",
       "      <td>...</td>\n",
       "      <td>...</td>\n",
       "      <td>...</td>\n",
       "    </tr>\n",
       "    <tr>\n",
       "      <th>9952</th>\n",
       "      <td>9953</td>\n",
       "      <td>coach_frozen_foods</td>\n",
       "      <td>snacks</td>\n",
       "      <td>1455</td>\n",
       "      <td>&lt;NA&gt;</td>\n",
       "      <td>active</td>\n",
       "      <td>smith_thomas_and_flores</td>\n",
       "      <td>17.53</td>\n",
       "    </tr>\n",
       "    <tr>\n",
       "      <th>9965</th>\n",
       "      <td>9966</td>\n",
       "      <td>continue_dairy</td>\n",
       "      <td>snacks</td>\n",
       "      <td>1624</td>\n",
       "      <td>&lt;NA&gt;</td>\n",
       "      <td>discontinued</td>\n",
       "      <td>evans_martinez</td>\n",
       "      <td>6.49</td>\n",
       "    </tr>\n",
       "    <tr>\n",
       "      <th>9971</th>\n",
       "      <td>9972</td>\n",
       "      <td>stock_produce</td>\n",
       "      <td>produce</td>\n",
       "      <td>1681</td>\n",
       "      <td>&lt;NA&gt;</td>\n",
       "      <td>backordered</td>\n",
       "      <td>chapman_group</td>\n",
       "      <td>9.48</td>\n",
       "    </tr>\n",
       "    <tr>\n",
       "      <th>9979</th>\n",
       "      <td>9980</td>\n",
       "      <td>water_produce</td>\n",
       "      <td>dairy</td>\n",
       "      <td>37</td>\n",
       "      <td>&lt;NA&gt;</td>\n",
       "      <td>backordered</td>\n",
       "      <td>williams_miller_and_jones</td>\n",
       "      <td>24.14</td>\n",
       "    </tr>\n",
       "    <tr>\n",
       "      <th>9990</th>\n",
       "      <td>9991</td>\n",
       "      <td>yes_beverages</td>\n",
       "      <td>dairy</td>\n",
       "      <td>933</td>\n",
       "      <td>16,07</td>\n",
       "      <td>active</td>\n",
       "      <td>&lt;NA&gt;</td>\n",
       "      <td>19.62</td>\n",
       "    </tr>\n",
       "  </tbody>\n",
       "</table>\n",
       "<p>980 rows × 8 columns</p>\n",
       "</div>"
      ],
      "text/plain": [
       "      product_id        product_name   category  supplier_id unit_cost        status                      brand  list_price\n",
       "6              7        home_produce     bakery          911      <NA>   backordered                       <NA>        2.98\n",
       "7              8          care_dairy  beverages         1628     18,64        active                       <NA>       26.67\n",
       "19            20     movement_snacks     snacks         1098      <NA>   backordered           west_christensen       13.46\n",
       "20            21          get_snacks  beverages         1150     12,16   backordered                       <NA>       15.50\n",
       "22            23     popular_produce     bakery          762      6,15   backordered                       <NA>       10.04\n",
       "...          ...                 ...        ...          ...       ...           ...                        ...         ...\n",
       "9952        9953  coach_frozen_foods     snacks         1455      <NA>        active    smith_thomas_and_flores       17.53\n",
       "9965        9966      continue_dairy     snacks         1624      <NA>  discontinued             evans_martinez        6.49\n",
       "9971        9972       stock_produce    produce         1681      <NA>   backordered              chapman_group        9.48\n",
       "9979        9980       water_produce      dairy           37      <NA>   backordered  williams_miller_and_jones       24.14\n",
       "9990        9991       yes_beverages      dairy          933     16,07        active                       <NA>       19.62\n",
       "\n",
       "[980 rows x 8 columns]"
      ]
     },
     "execution_count": 50,
     "metadata": {},
     "output_type": "execute_result"
    }
   ],
   "source": [
    "# Show pd.NA missing values for 'unit_cost', 'brand' columns\n",
    "df_products.loc[(df_products['unit_cost'].isna()) | (df_products['brand'].isna()), :]"
   ]
  },
  {
   "cell_type": "code",
   "execution_count": 51,
   "id": "c3290922",
   "metadata": {},
   "outputs": [
    {
     "data": {
      "text/html": [
       "> Percentage of missing values for column <i>'unit_cost'</i>: <b>5.00</b> %<br>"
      ],
      "text/plain": [
       "<IPython.core.display.HTML object>"
      ]
     },
     "metadata": {},
     "output_type": "display_data"
    },
    {
     "data": {
      "text/html": [
       ">    Total values: 10000<br>   > Missing values: 500<br><br>"
      ],
      "text/plain": [
       "<IPython.core.display.HTML object>"
      ]
     },
     "metadata": {},
     "output_type": "display_data"
    },
    {
     "data": {
      "text/html": [
       "> Percentage of missing values for column <i>'brand'</i>: <b>5.00</b> %<br>"
      ],
      "text/plain": [
       "<IPython.core.display.HTML object>"
      ]
     },
     "metadata": {},
     "output_type": "display_data"
    },
    {
     "data": {
      "text/html": [
       ">    Total values: 10000<br>   > Missing values: 500<br><br>"
      ],
      "text/plain": [
       "<IPython.core.display.HTML object>"
      ]
     },
     "metadata": {},
     "output_type": "display_data"
    }
   ],
   "source": [
    "# Show percentage of missing values within the dataset\n",
    "missing_values_rate(df_products, include=['unit_cost', 'brand'])"
   ]
  },
  {
   "cell_type": "code",
   "execution_count": 52,
   "id": "171dfc87",
   "metadata": {},
   "outputs": [
    {
     "data": {
      "image/png": "[encoded data removed]",
      "text/plain": [
       "<Figure size 1500x700 with 1 Axes>"
      ]
     },
     "metadata": {},
     "output_type": "display_data"
    }
   ],
   "source": [
    "missing_values_heatmap(df_inventory)"
   ]
  },
  {
   "cell_type": "code",
   "execution_count": 53,
   "id": "351117f0",
   "metadata": {},
   "outputs": [
    {
     "data": {
      "application/vnd.microsoft.datawrangler.viewer.v0+json": {
       "columns": [
        {
         "name": "index",
         "rawType": "int64",
         "type": "integer"
        },
        {
         "name": "inventory_id",
         "rawType": "int64",
         "type": "integer"
        },
        {
         "name": "date",
         "rawType": "object",
         "type": "string"
        },
        {
         "name": "product_id",
         "rawType": "int64",
         "type": "integer"
        },
        {
         "name": "beginning_stock",
         "rawType": "int64",
         "type": "integer"
        },
        {
         "name": "received",
         "rawType": "int64",
         "type": "integer"
        },
        {
         "name": "sold",
         "rawType": "int64",
         "type": "integer"
        },
        {
         "name": "warehouse_location",
         "rawType": "object",
         "type": "unknown"
        },
        {
         "name": "ending_stock",
         "rawType": "int64",
         "type": "integer"
        }
       ],
       "ref": "1a456d0c-8e81-4747-9473-9597ee421df1",
       "rows": [
        [
         "35",
         "36",
         "2025-05-12",
         "4703",
         "22",
         "12",
         "14",
         null,
         "20"
        ],
        [
         "115",
         "116",
         "2025-06-14",
         "3495",
         "0",
         "7",
         "4",
         null,
         "3"
        ],
        [
         "132",
         "133",
         "2025-07-06",
         "7841",
         "57",
         "12",
         "6",
         null,
         "63"
        ],
        [
         "168",
         "169",
         "2025-06-27",
         "5150",
         "59",
         "1",
         "9",
         null,
         "51"
        ],
        [
         "175",
         "176",
         "2025-06-27",
         "293",
         "87",
         "13",
         "14",
         null,
         "86"
        ],
        [
         "302",
         "303",
         "2025-06-25",
         "3333",
         "91",
         "5",
         "4",
         null,
         "92"
        ],
        [
         "312",
         "313",
         "2025-06-16",
         "5909",
         "72",
         "4",
         "8",
         null,
         "68"
        ],
        [
         "313",
         "314",
         "2025-06-25",
         "8825",
         "51",
         "12",
         "2",
         null,
         "61"
        ],
        [
         "341",
         "342",
         "2025-05-19",
         "3870",
         "72",
         "14",
         "11",
         null,
         "75"
        ],
        [
         "344",
         "345",
         "2025-05-26",
         "4409",
         "48",
         "11",
         "4",
         null,
         "55"
        ],
        [
         "345",
         "346",
         "2025-06-26",
         "3695",
         "53",
         "13",
         "1",
         null,
         "65"
        ],
        [
         "354",
         "355",
         "2025-06-11",
         "2337",
         "40",
         "11",
         "0",
         null,
         "51"
        ],
        [
         "392",
         "393",
         "2025-05-09",
         "5211",
         "66",
         "7",
         "13",
         null,
         "60"
        ],
        [
         "416",
         "417",
         "2025-05-21",
         "986",
         "84",
         "10",
         "4",
         null,
         "90"
        ],
        [
         "479",
         "480",
         "2025-06-19",
         "7017",
         "34",
         "17",
         "13",
         null,
         "38"
        ],
        [
         "569",
         "570",
         "2025-05-10",
         "2288",
         "56",
         "10",
         "13",
         null,
         "53"
        ],
        [
         "623",
         "624",
         "2025-06-25",
         "6294",
         "88",
         "10",
         "4",
         null,
         "94"
        ],
        [
         "696",
         "697",
         "2025-05-17",
         "457",
         "15",
         "11",
         "12",
         null,
         "14"
        ],
        [
         "704",
         "705",
         "2025-06-07",
         "5919",
         "67",
         "2",
         "9",
         null,
         "60"
        ],
        [
         "706",
         "707",
         "2025-07-02",
         "723",
         "63",
         "12",
         "12",
         null,
         "63"
        ],
        [
         "782",
         "783",
         "2025-06-21",
         "9958",
         "82",
         "18",
         "1",
         null,
         "99"
        ],
        [
         "809",
         "810",
         "2025-05-30",
         "8755",
         "96",
         "0",
         "4",
         null,
         "92"
        ],
        [
         "842",
         "843",
         "2025-06-10",
         "4258",
         "82",
         "5",
         "8",
         null,
         "79"
        ],
        [
         "1063",
         "1064",
         "2025-05-24",
         "1799",
         "64",
         "3",
         "2",
         null,
         "65"
        ],
        [
         "1077",
         "1078",
         "2025-06-09",
         "6389",
         "42",
         "5",
         "13",
         null,
         "34"
        ],
        [
         "1093",
         "1094",
         "2025-05-12",
         "3608",
         "52",
         "19",
         "2",
         null,
         "69"
        ],
        [
         "1104",
         "1105",
         "2025-05-25",
         "5282",
         "34",
         "13",
         "0",
         null,
         "47"
        ],
        [
         "1182",
         "1183",
         "2025-07-05",
         "8826",
         "37",
         "15",
         "3",
         null,
         "49"
        ],
        [
         "1231",
         "1232",
         "2025-06-10",
         "5055",
         "19",
         "12",
         "11",
         null,
         "20"
        ],
        [
         "1345",
         "1346",
         "2025-05-15",
         "51",
         "43",
         "3",
         "10",
         null,
         "36"
        ],
        [
         "1353",
         "1354",
         "2025-06-01",
         "5956",
         "60",
         "19",
         "12",
         null,
         "67"
        ],
        [
         "1372",
         "1373",
         "2025-06-16",
         "5819",
         "72",
         "12",
         "7",
         null,
         "77"
        ],
        [
         "1377",
         "1378",
         "2025-06-24",
         "6946",
         "38",
         "16",
         "7",
         null,
         "47"
        ],
        [
         "1408",
         "1409",
         "2025-05-13",
         "560",
         "42",
         "8",
         "7",
         null,
         "43"
        ],
        [
         "1454",
         "1455",
         "2025-06-26",
         "7632",
         "18",
         "3",
         "2",
         null,
         "19"
        ],
        [
         "1474",
         "1475",
         "2025-05-13",
         "8172",
         "62",
         "19",
         "4",
         null,
         "77"
        ],
        [
         "1553",
         "1554",
         "2025-06-26",
         "8660",
         "32",
         "17",
         "8",
         null,
         "41"
        ],
        [
         "1637",
         "1638",
         "2025-06-30",
         "7573",
         "81",
         "16",
         "10",
         null,
         "87"
        ],
        [
         "1683",
         "1684",
         "2025-06-17",
         "984",
         "12",
         "4",
         "5",
         null,
         "11"
        ],
        [
         "1900",
         "1901",
         "2025-06-17",
         "83",
         "79",
         "0",
         "0",
         null,
         "79"
        ],
        [
         "1951",
         "1952",
         "2025-05-09",
         "5588",
         "67",
         "8",
         "10",
         null,
         "65"
        ],
        [
         "1981",
         "1982",
         "2025-06-23",
         "9099",
         "62",
         "8",
         "3",
         null,
         "67"
        ],
        [
         "1991",
         "1992",
         "2025-05-24",
         "6611",
         "38",
         "14",
         "14",
         null,
         "38"
        ],
        [
         "2102",
         "2103",
         "2025-06-02",
         "1078",
         "51",
         "9",
         "0",
         null,
         "60"
        ],
        [
         "2128",
         "2129",
         "2025-05-20",
         "885",
         "15",
         "12",
         "10",
         null,
         "17"
        ],
        [
         "2146",
         "2147",
         "2025-06-26",
         "8542",
         "57",
         "5",
         "4",
         null,
         "58"
        ],
        [
         "2162",
         "2163",
         "2025-06-02",
         "2150",
         "95",
         "4",
         "5",
         null,
         "94"
        ],
        [
         "2180",
         "2181",
         "2025-05-24",
         "8639",
         "23",
         "12",
         "12",
         null,
         "23"
        ],
        [
         "2272",
         "2273",
         "2025-05-27",
         "7168",
         "29",
         "5",
         "14",
         null,
         "20"
        ],
        [
         "2497",
         "2498",
         "2025-06-10",
         "9332",
         "41",
         "0",
         "7",
         null,
         "34"
        ]
       ],
       "shape": {
        "columns": 8,
        "rows": 400
       }
      },
      "text/html": [
       "<div>\n",
       "<style scoped>\n",
       "    .dataframe tbody tr th:only-of-type {\n",
       "        vertical-align: middle;\n",
       "    }\n",
       "\n",
       "    .dataframe tbody tr th {\n",
       "        vertical-align: top;\n",
       "    }\n",
       "\n",
       "    .dataframe thead th {\n",
       "        text-align: right;\n",
       "    }\n",
       "</style>\n",
       "<table border=\"1\" class=\"dataframe\">\n",
       "  <thead>\n",
       "    <tr style=\"text-align: right;\">\n",
       "      <th></th>\n",
       "      <th>inventory_id</th>\n",
       "      <th>date</th>\n",
       "      <th>product_id</th>\n",
       "      <th>beginning_stock</th>\n",
       "      <th>received</th>\n",
       "      <th>sold</th>\n",
       "      <th>warehouse_location</th>\n",
       "      <th>ending_stock</th>\n",
       "    </tr>\n",
       "  </thead>\n",
       "  <tbody>\n",
       "    <tr>\n",
       "      <th>35</th>\n",
       "      <td>36</td>\n",
       "      <td>2025-05-12</td>\n",
       "      <td>4703</td>\n",
       "      <td>22</td>\n",
       "      <td>12</td>\n",
       "      <td>14</td>\n",
       "      <td>&lt;NA&gt;</td>\n",
       "      <td>20</td>\n",
       "    </tr>\n",
       "    <tr>\n",
       "      <th>115</th>\n",
       "      <td>116</td>\n",
       "      <td>2025-06-14</td>\n",
       "      <td>3495</td>\n",
       "      <td>0</td>\n",
       "      <td>7</td>\n",
       "      <td>4</td>\n",
       "      <td>&lt;NA&gt;</td>\n",
       "      <td>3</td>\n",
       "    </tr>\n",
       "    <tr>\n",
       "      <th>132</th>\n",
       "      <td>133</td>\n",
       "      <td>2025-07-06</td>\n",
       "      <td>7841</td>\n",
       "      <td>57</td>\n",
       "      <td>12</td>\n",
       "      <td>6</td>\n",
       "      <td>&lt;NA&gt;</td>\n",
       "      <td>63</td>\n",
       "    </tr>\n",
       "    <tr>\n",
       "      <th>168</th>\n",
       "      <td>169</td>\n",
       "      <td>2025-06-27</td>\n",
       "      <td>5150</td>\n",
       "      <td>59</td>\n",
       "      <td>1</td>\n",
       "      <td>9</td>\n",
       "      <td>&lt;NA&gt;</td>\n",
       "      <td>51</td>\n",
       "    </tr>\n",
       "    <tr>\n",
       "      <th>175</th>\n",
       "      <td>176</td>\n",
       "      <td>2025-06-27</td>\n",
       "      <td>293</td>\n",
       "      <td>87</td>\n",
       "      <td>13</td>\n",
       "      <td>14</td>\n",
       "      <td>&lt;NA&gt;</td>\n",
       "      <td>86</td>\n",
       "    </tr>\n",
       "    <tr>\n",
       "      <th>...</th>\n",
       "      <td>...</td>\n",
       "      <td>...</td>\n",
       "      <td>...</td>\n",
       "      <td>...</td>\n",
       "      <td>...</td>\n",
       "      <td>...</td>\n",
       "      <td>...</td>\n",
       "      <td>...</td>\n",
       "    </tr>\n",
       "    <tr>\n",
       "      <th>19721</th>\n",
       "      <td>19722</td>\n",
       "      <td>2025-06-29</td>\n",
       "      <td>4567</td>\n",
       "      <td>31</td>\n",
       "      <td>17</td>\n",
       "      <td>9</td>\n",
       "      <td>&lt;NA&gt;</td>\n",
       "      <td>39</td>\n",
       "    </tr>\n",
       "    <tr>\n",
       "      <th>19734</th>\n",
       "      <td>19735</td>\n",
       "      <td>2025-06-10</td>\n",
       "      <td>8335</td>\n",
       "      <td>24</td>\n",
       "      <td>12</td>\n",
       "      <td>3</td>\n",
       "      <td>&lt;NA&gt;</td>\n",
       "      <td>33</td>\n",
       "    </tr>\n",
       "    <tr>\n",
       "      <th>19877</th>\n",
       "      <td>19878</td>\n",
       "      <td>2025-05-23</td>\n",
       "      <td>284</td>\n",
       "      <td>91</td>\n",
       "      <td>2</td>\n",
       "      <td>10</td>\n",
       "      <td>&lt;NA&gt;</td>\n",
       "      <td>83</td>\n",
       "    </tr>\n",
       "    <tr>\n",
       "      <th>19885</th>\n",
       "      <td>19886</td>\n",
       "      <td>2025-05-27</td>\n",
       "      <td>1135</td>\n",
       "      <td>39</td>\n",
       "      <td>16</td>\n",
       "      <td>1</td>\n",
       "      <td>&lt;NA&gt;</td>\n",
       "      <td>54</td>\n",
       "    </tr>\n",
       "    <tr>\n",
       "      <th>19894</th>\n",
       "      <td>19895</td>\n",
       "      <td>2025-07-05</td>\n",
       "      <td>8436</td>\n",
       "      <td>92</td>\n",
       "      <td>17</td>\n",
       "      <td>12</td>\n",
       "      <td>&lt;NA&gt;</td>\n",
       "      <td>97</td>\n",
       "    </tr>\n",
       "  </tbody>\n",
       "</table>\n",
       "<p>400 rows × 8 columns</p>\n",
       "</div>"
      ],
      "text/plain": [
       "       inventory_id        date  product_id  beginning_stock  received  sold warehouse_location  ending_stock\n",
       "35               36  2025-05-12        4703               22        12    14               <NA>            20\n",
       "115             116  2025-06-14        3495                0         7     4               <NA>             3\n",
       "132             133  2025-07-06        7841               57        12     6               <NA>            63\n",
       "168             169  2025-06-27        5150               59         1     9               <NA>            51\n",
       "175             176  2025-06-27         293               87        13    14               <NA>            86\n",
       "...             ...         ...         ...              ...       ...   ...                ...           ...\n",
       "19721         19722  2025-06-29        4567               31        17     9               <NA>            39\n",
       "19734         19735  2025-06-10        8335               24        12     3               <NA>            33\n",
       "19877         19878  2025-05-23         284               91         2    10               <NA>            83\n",
       "19885         19886  2025-05-27        1135               39        16     1               <NA>            54\n",
       "19894         19895  2025-07-05        8436               92        17    12               <NA>            97\n",
       "\n",
       "[400 rows x 8 columns]"
      ]
     },
     "execution_count": 53,
     "metadata": {},
     "output_type": "execute_result"
    }
   ],
   "source": [
    "# Show pd.NA missing values for 'warehouse_location' column\n",
    "df_inventory.loc[(df_inventory['warehouse_location'].isna()), :]"
   ]
  },
  {
   "cell_type": "code",
   "execution_count": 54,
   "id": "b9ca11ab",
   "metadata": {},
   "outputs": [
    {
     "data": {
      "text/html": [
       "> Percentage of missing values for column <i>'warehouse_location'</i>: <b>2.00</b> %<br>"
      ],
      "text/plain": [
       "<IPython.core.display.HTML object>"
      ]
     },
     "metadata": {},
     "output_type": "display_data"
    },
    {
     "data": {
      "text/html": [
       ">    Total values: 20000<br>   > Missing values: 400<br><br>"
      ],
      "text/plain": [
       "<IPython.core.display.HTML object>"
      ]
     },
     "metadata": {},
     "output_type": "display_data"
    }
   ],
   "source": [
    "# Show percentage of missing values within the dataset\n",
    "missing_values_rate(df_inventory, include=['warehouse_location'])"
   ]
  },
  {
   "cell_type": "code",
   "execution_count": 55,
   "id": "5d9d6960",
   "metadata": {},
   "outputs": [
    {
     "data": {
      "image/png": "[encoded data removed]",
      "text/plain": [
       "<Figure size 1500x700 with 1 Axes>"
      ]
     },
     "metadata": {},
     "output_type": "display_data"
    }
   ],
   "source": [
    "missing_values_heatmap(df_customers)"
   ]
  },
  {
   "cell_type": "code",
   "execution_count": 56,
   "id": "0e64494f",
   "metadata": {},
   "outputs": [
    {
     "data": {
      "application/vnd.microsoft.datawrangler.viewer.v0+json": {
       "columns": [
        {
         "name": "index",
         "rawType": "int64",
         "type": "integer"
        },
        {
         "name": "customer_id",
         "rawType": "int64",
         "type": "integer"
        },
        {
         "name": "customer_name",
         "rawType": "object",
         "type": "string"
        },
        {
         "name": "join_date",
         "rawType": "object",
         "type": "string"
        },
        {
         "name": "total_spent",
         "rawType": "object",
         "type": "unknown"
        },
        {
         "name": "frequency",
         "rawType": "int64",
         "type": "integer"
        },
        {
         "name": "segment",
         "rawType": "object",
         "type": "unknown"
        }
       ],
       "ref": "b8cf9a3f-0a7c-46a4-89a5-412eff031d2e",
       "rows": [
        [
         "2",
         "3",
         "kimberly_green",
         "2024-01-23",
         null,
         "15",
         "high_value"
        ],
        [
         "28",
         "29",
         "ashley_briggs",
         "2023-07-08",
         "4375.77",
         "3",
         null
        ],
        [
         "49",
         "50",
         "cindy_liu",
         "2025-04-02",
         "1226.24",
         "39",
         null
        ],
        [
         "82",
         "83",
         "brent_mcfarland",
         "2025-01-22",
         null,
         "16",
         "occasional"
        ],
        [
         "110",
         "111",
         "charlene_cole",
         "2024-05-17",
         "2066.27",
         "11",
         null
        ],
        [
         "118",
         "119",
         "john_banks",
         "2025-02-18",
         "2786.0",
         "10",
         null
        ],
        [
         "125",
         "126",
         "taylor_garcia",
         "2023-09-14",
         null,
         "17",
         "frequent"
        ],
        [
         "129",
         "130",
         "courtney_reese",
         "2025-05-18",
         null,
         "15",
         "frequent"
        ],
        [
         "134",
         "135",
         "tracey_montoya",
         "2024-11-27",
         "2675.35",
         "49",
         null
        ],
        [
         "139",
         "140",
         "mackenzie_travis",
         "2023-10-15",
         "243.75",
         "39",
         null
        ],
        [
         "145",
         "146",
         "tina_west",
         "2023-09-09",
         null,
         "9",
         "high_value"
        ],
        [
         "166",
         "167",
         "connie_sullivan",
         "2024-09-19",
         "2006.2",
         "18",
         null
        ],
        [
         "209",
         "210",
         "james_perkins",
         "2024-11-11",
         null,
         "27",
         "frequent"
        ],
        [
         "285",
         "286",
         "rebecca_schwartz",
         "2023-10-17",
         "226.6",
         "38",
         null
        ],
        [
         "291",
         "292",
         "april_bowman",
         "2025-04-19",
         null,
         "9",
         "high_value"
        ],
        [
         "334",
         "335",
         "anthony_davis",
         "2023-08-02",
         null,
         "40",
         "occasional"
        ],
        [
         "336",
         "337",
         "shannon_thomas",
         "2024-06-07",
         "454.29",
         "6",
         null
        ],
        [
         "376",
         "377",
         "paul_curtis",
         "2025-03-06",
         null,
         "26",
         "occasional"
        ],
        [
         "384",
         "385",
         "daniel_scott",
         "2023-10-27",
         "108.07",
         "8",
         null
        ],
        [
         "405",
         "406",
         "cassandra_obrien",
         "2025-06-22",
         null,
         "47",
         "occasional"
        ],
        [
         "416",
         "417",
         "angela_thomas",
         "2025-03-28",
         "1733.32",
         "31",
         null
        ],
        [
         "431",
         "432",
         "stephanie_lopez",
         "2024-06-09",
         null,
         "41",
         "occasional"
        ],
        [
         "432",
         "433",
         "gordon_pineda",
         "2025-06-12",
         null,
         "14",
         "occasional"
        ],
        [
         "442",
         "443",
         "ashley_dean",
         "2024-03-19",
         "1566.43",
         "32",
         null
        ],
        [
         "449",
         "450",
         "melissa_mitchell",
         "2023-08-13",
         "4576.27",
         "49",
         null
        ],
        [
         "453",
         "454",
         "john_maxwell",
         "2023-12-07",
         null,
         "7",
         null
        ],
        [
         "516",
         "517",
         "melissa_cruz",
         "2024-01-06",
         "1907.84",
         "24",
         null
        ],
        [
         "519",
         "520",
         "mark_fletcher",
         "2025-07-06",
         "4563.46",
         "11",
         null
        ],
        [
         "542",
         "543",
         "eric_massey",
         "2024-08-31",
         null,
         "43",
         "high_value"
        ],
        [
         "556",
         "557",
         "tina_bailey",
         "2025-03-09",
         null,
         "34",
         "frequent"
        ],
        [
         "562",
         "563",
         "richard_booth",
         "2024-07-06",
         null,
         "30",
         "high_value"
        ],
        [
         "597",
         "598",
         "bradley_smith",
         "2024-03-10",
         null,
         "42",
         "occasional"
        ],
        [
         "655",
         "656",
         "michael_hawkins",
         "2024-01-03",
         null,
         "36",
         "frequent"
        ],
        [
         "687",
         "688",
         "joshua_garcia",
         "2024-10-31",
         "4127.86",
         "2",
         null
        ],
        [
         "718",
         "719",
         "leonard_hogan",
         "2025-04-08",
         "3857.85",
         "49",
         null
        ],
        [
         "732",
         "733",
         "mr_eric_stevenson_dvm",
         "2023-07-18",
         "1328.87",
         "16",
         null
        ],
        [
         "746",
         "747",
         "jacqueline_hill",
         "2024-12-10",
         "1324.65",
         "29",
         null
        ],
        [
         "759",
         "760",
         "robert_davis_md",
         "2023-09-21",
         "2864.25",
         "5",
         null
        ],
        [
         "766",
         "767",
         "peter_hodge",
         "2025-03-22",
         "4650.56",
         "7",
         null
        ],
        [
         "774",
         "775",
         "jennifer_brown",
         "2024-07-15",
         "1172.49",
         "16",
         null
        ],
        [
         "793",
         "794",
         "michael_delacruz",
         "2025-02-13",
         "4446.26",
         "5",
         null
        ],
        [
         "805",
         "806",
         "cynthia_simon",
         "2023-08-02",
         null,
         "26",
         "frequent"
        ],
        [
         "836",
         "837",
         "jacob_ballard",
         "2024-07-23",
         null,
         "12",
         "high_value"
        ],
        [
         "884",
         "885",
         "morgan_gay",
         "2025-04-13",
         null,
         "7",
         "occasional"
        ],
        [
         "887",
         "888",
         "paul_wu",
         "2023-08-25",
         null,
         "36",
         "occasional"
        ],
        [
         "896",
         "897",
         "vicki_poole",
         "2024-01-15",
         "3958.73",
         "32",
         null
        ],
        [
         "938",
         "939",
         "thomas_porter",
         "2024-03-13",
         "1428.42",
         "20",
         null
        ],
        [
         "968",
         "969",
         "james_ball",
         "2024-03-30",
         null,
         "37",
         "occasional"
        ],
        [
         "971",
         "972",
         "joshua_thomas",
         "2024-11-18",
         null,
         "48",
         "frequent"
        ],
        [
         "995",
         "996",
         "ernest_thomas",
         "2024-03-02",
         "4306.54",
         "26",
         null
        ]
       ],
       "shape": {
        "columns": 6,
        "rows": 295
       }
      },
      "text/html": [
       "<div>\n",
       "<style scoped>\n",
       "    .dataframe tbody tr th:only-of-type {\n",
       "        vertical-align: middle;\n",
       "    }\n",
       "\n",
       "    .dataframe tbody tr th {\n",
       "        vertical-align: top;\n",
       "    }\n",
       "\n",
       "    .dataframe thead th {\n",
       "        text-align: right;\n",
       "    }\n",
       "</style>\n",
       "<table border=\"1\" class=\"dataframe\">\n",
       "  <thead>\n",
       "    <tr style=\"text-align: right;\">\n",
       "      <th></th>\n",
       "      <th>customer_id</th>\n",
       "      <th>customer_name</th>\n",
       "      <th>join_date</th>\n",
       "      <th>total_spent</th>\n",
       "      <th>frequency</th>\n",
       "      <th>segment</th>\n",
       "    </tr>\n",
       "  </thead>\n",
       "  <tbody>\n",
       "    <tr>\n",
       "      <th>2</th>\n",
       "      <td>3</td>\n",
       "      <td>kimberly_green</td>\n",
       "      <td>2024-01-23</td>\n",
       "      <td>&lt;NA&gt;</td>\n",
       "      <td>15</td>\n",
       "      <td>high_value</td>\n",
       "    </tr>\n",
       "    <tr>\n",
       "      <th>28</th>\n",
       "      <td>29</td>\n",
       "      <td>ashley_briggs</td>\n",
       "      <td>2023-07-08</td>\n",
       "      <td>4375.77</td>\n",
       "      <td>3</td>\n",
       "      <td>&lt;NA&gt;</td>\n",
       "    </tr>\n",
       "    <tr>\n",
       "      <th>49</th>\n",
       "      <td>50</td>\n",
       "      <td>cindy_liu</td>\n",
       "      <td>2025-04-02</td>\n",
       "      <td>1226.24</td>\n",
       "      <td>39</td>\n",
       "      <td>&lt;NA&gt;</td>\n",
       "    </tr>\n",
       "    <tr>\n",
       "      <th>82</th>\n",
       "      <td>83</td>\n",
       "      <td>brent_mcfarland</td>\n",
       "      <td>2025-01-22</td>\n",
       "      <td>&lt;NA&gt;</td>\n",
       "      <td>16</td>\n",
       "      <td>occasional</td>\n",
       "    </tr>\n",
       "    <tr>\n",
       "      <th>110</th>\n",
       "      <td>111</td>\n",
       "      <td>charlene_cole</td>\n",
       "      <td>2024-05-17</td>\n",
       "      <td>2066.27</td>\n",
       "      <td>11</td>\n",
       "      <td>&lt;NA&gt;</td>\n",
       "    </tr>\n",
       "    <tr>\n",
       "      <th>...</th>\n",
       "      <td>...</td>\n",
       "      <td>...</td>\n",
       "      <td>...</td>\n",
       "      <td>...</td>\n",
       "      <td>...</td>\n",
       "      <td>...</td>\n",
       "    </tr>\n",
       "    <tr>\n",
       "      <th>4860</th>\n",
       "      <td>4861</td>\n",
       "      <td>susan_coleman</td>\n",
       "      <td>2025-01-23</td>\n",
       "      <td>&lt;NA&gt;</td>\n",
       "      <td>39</td>\n",
       "      <td>high_value</td>\n",
       "    </tr>\n",
       "    <tr>\n",
       "      <th>4874</th>\n",
       "      <td>4875</td>\n",
       "      <td>leslie_estrada</td>\n",
       "      <td>2025-03-07</td>\n",
       "      <td>1778.53</td>\n",
       "      <td>49</td>\n",
       "      <td>&lt;NA&gt;</td>\n",
       "    </tr>\n",
       "    <tr>\n",
       "      <th>4883</th>\n",
       "      <td>4884</td>\n",
       "      <td>mrs_rebecca_hines</td>\n",
       "      <td>2024-01-27</td>\n",
       "      <td>&lt;NA&gt;</td>\n",
       "      <td>31</td>\n",
       "      <td>high_value</td>\n",
       "    </tr>\n",
       "    <tr>\n",
       "      <th>4930</th>\n",
       "      <td>4931</td>\n",
       "      <td>martha_garcia</td>\n",
       "      <td>2025-04-24</td>\n",
       "      <td>&lt;NA&gt;</td>\n",
       "      <td>21</td>\n",
       "      <td>high_value</td>\n",
       "    </tr>\n",
       "    <tr>\n",
       "      <th>4944</th>\n",
       "      <td>4945</td>\n",
       "      <td>alyssa_brown</td>\n",
       "      <td>2023-08-10</td>\n",
       "      <td>4719.12</td>\n",
       "      <td>3</td>\n",
       "      <td>&lt;NA&gt;</td>\n",
       "    </tr>\n",
       "  </tbody>\n",
       "</table>\n",
       "<p>295 rows × 6 columns</p>\n",
       "</div>"
      ],
      "text/plain": [
       "      customer_id      customer_name   join_date total_spent  frequency     segment\n",
       "2               3     kimberly_green  2024-01-23        <NA>         15  high_value\n",
       "28             29      ashley_briggs  2023-07-08     4375.77          3        <NA>\n",
       "49             50          cindy_liu  2025-04-02     1226.24         39        <NA>\n",
       "82             83    brent_mcfarland  2025-01-22        <NA>         16  occasional\n",
       "110           111      charlene_cole  2024-05-17     2066.27         11        <NA>\n",
       "...           ...                ...         ...         ...        ...         ...\n",
       "4860         4861      susan_coleman  2025-01-23        <NA>         39  high_value\n",
       "4874         4875     leslie_estrada  2025-03-07     1778.53         49        <NA>\n",
       "4883         4884  mrs_rebecca_hines  2024-01-27        <NA>         31  high_value\n",
       "4930         4931      martha_garcia  2025-04-24        <NA>         21  high_value\n",
       "4944         4945       alyssa_brown  2023-08-10     4719.12          3        <NA>\n",
       "\n",
       "[295 rows x 6 columns]"
      ]
     },
     "execution_count": 56,
     "metadata": {},
     "output_type": "execute_result"
    }
   ],
   "source": [
    "# Show pd.NA missing values for 'total_spent', 'segment' columns\n",
    "df_customers.loc[(df_customers['total_spent'].isna()) | (df_customers['segment'].isna()), :]"
   ]
  },
  {
   "cell_type": "code",
   "execution_count": 57,
   "id": "e6fcfc64",
   "metadata": {},
   "outputs": [
    {
     "data": {
      "text/html": [
       "> Percentage of missing values for column <i>'total_spent'</i>: <b>3.00</b> %<br>"
      ],
      "text/plain": [
       "<IPython.core.display.HTML object>"
      ]
     },
     "metadata": {},
     "output_type": "display_data"
    },
    {
     "data": {
      "text/html": [
       ">    Total values: 5000<br>   > Missing values: 150<br><br>"
      ],
      "text/plain": [
       "<IPython.core.display.HTML object>"
      ]
     },
     "metadata": {},
     "output_type": "display_data"
    },
    {
     "data": {
      "text/html": [
       "> Percentage of missing values for column <i>'segment'</i>: <b>3.00</b> %<br>"
      ],
      "text/plain": [
       "<IPython.core.display.HTML object>"
      ]
     },
     "metadata": {},
     "output_type": "display_data"
    },
    {
     "data": {
      "text/html": [
       ">    Total values: 5000<br>   > Missing values: 150<br><br>"
      ],
      "text/plain": [
       "<IPython.core.display.HTML object>"
      ]
     },
     "metadata": {},
     "output_type": "display_data"
    }
   ],
   "source": [
    "# Show percentage of missing values within the dataset\n",
    "missing_values_rate(df_customers, include=['total_spent', 'segment'])"
   ]
  },
  {
   "cell_type": "markdown",
   "id": "af8d9979",
   "metadata": {},
   "source": [
    "### 3.4 Casting data types."
   ]
  },
  {
   "cell_type": "markdown",
   "id": "1025029e",
   "metadata": {},
   "source": [
    "#### 3.4.1 Casting to string data type."
   ]
  },
  {
   "cell_type": "code",
   "execution_count": 58,
   "id": "bbf6fbf0",
   "metadata": {},
   "outputs": [
    {
     "name": "stdout",
     "output_type": "stream",
     "text": [
      "string\n",
      "string\n"
     ]
    }
   ],
   "source": [
    "# df_products 'product_name', 'brand', to string\n",
    "df_products = cast_datatypes(df_products, 'string', c_include=['product_name', 'brand'])\n",
    "\n",
    "print(df_products['product_name'].dtypes)\n",
    "print(df_products['brand'].dtypes)"
   ]
  },
  {
   "cell_type": "code",
   "execution_count": 59,
   "id": "1500ad7d",
   "metadata": {},
   "outputs": [
    {
     "name": "stdout",
     "output_type": "stream",
     "text": [
      "string\n",
      "string\n"
     ]
    }
   ],
   "source": [
    "# df_suppliers 'supplier_name', 'contact_info', to string\n",
    "df_suppliers = cast_datatypes(df_suppliers, 'string', c_include=['supplier_name', 'contact_info'])\n",
    "\n",
    "print(df_suppliers['supplier_name'].dtypes)\n",
    "print(df_suppliers['contact_info'].dtypes)"
   ]
  },
  {
   "cell_type": "code",
   "execution_count": 60,
   "id": "991e7126",
   "metadata": {},
   "outputs": [
    {
     "name": "stdout",
     "output_type": "stream",
     "text": [
      "string\n"
     ]
    }
   ],
   "source": [
    "# df_customers 'customer_name', to string\n",
    "df_customers = cast_datatypes(df_customers, 'string', c_include=['customer_name'])\n",
    "\n",
    "print(df_customers['customer_name'].dtypes)"
   ]
  },
  {
   "cell_type": "code",
   "execution_count": 61,
   "id": "646da003",
   "metadata": {},
   "outputs": [
    {
     "name": "stdout",
     "output_type": "stream",
     "text": [
      "string\n"
     ]
    }
   ],
   "source": [
    "# df_salesforce 'employee_name', to string\n",
    "df_salesforce = cast_datatypes(df_salesforce, 'string', c_include=['employee_name'])\n",
    "\n",
    "print(df_salesforce['employee_name'].dtypes)"
   ]
  },
  {
   "cell_type": "markdown",
   "id": "4b3df167",
   "metadata": {},
   "source": [
    "#### 3.4.2 Casting to numeric data type."
   ]
  },
  {
   "cell_type": "code",
   "execution_count": 62,
   "id": "0894d296",
   "metadata": {},
   "outputs": [
    {
     "name": "stdout",
     "output_type": "stream",
     "text": [
      "Float64\n"
     ]
    }
   ],
   "source": [
    "# df_products 'unit_cost', to Float64\n",
    "df_products = cast_datatypes(df_products, 'numeric', numeric_type='Float64', c_include=['unit_cost'])\n",
    "\n",
    "print(df_products['unit_cost'].dtypes)\n"
   ]
  },
  {
   "cell_type": "code",
   "execution_count": 63,
   "id": "ce17c29b",
   "metadata": {},
   "outputs": [
    {
     "name": "stdout",
     "output_type": "stream",
     "text": [
      "Float64\n"
     ]
    }
   ],
   "source": [
    "# df_customers 'total_spent', to Float64\n",
    "df_customers = cast_datatypes(df_customers, 'numeric', numeric_type=\"Float64\", c_include=['total_spent'])\n",
    "\n",
    "print(df_customers['total_spent'].dtypes)"
   ]
  },
  {
   "cell_type": "markdown",
   "id": "a0aded67",
   "metadata": {},
   "source": [
    "#### 3.4.3 Casting to category data type."
   ]
  },
  {
   "cell_type": "code",
   "execution_count": 64,
   "id": "79c89555",
   "metadata": {},
   "outputs": [
    {
     "name": "stdout",
     "output_type": "stream",
     "text": [
      "category\n",
      "category\n"
     ]
    }
   ],
   "source": [
    "# df_products 'category', 'status',  to category\n",
    "df_products = cast_datatypes(df_products, 'category', c_include=['category', 'status'])\n",
    "\n",
    "print(df_products['category'].dtypes)\n",
    "print(df_products['status'].dtypes)"
   ]
  },
  {
   "cell_type": "code",
   "execution_count": 65,
   "id": "b8c63eb9",
   "metadata": {},
   "outputs": [
    {
     "name": "stdout",
     "output_type": "stream",
     "text": [
      "category\n"
     ]
    }
   ],
   "source": [
    "# df_inventory 'warehouse_location',  to category\n",
    "df_inventory = cast_datatypes(df_inventory, 'category', c_include=['warehouse_location'])\n",
    "\n",
    "print(df_inventory['warehouse_location'].dtypes)"
   ]
  },
  {
   "cell_type": "code",
   "execution_count": 66,
   "id": "fe93b7fd",
   "metadata": {},
   "outputs": [
    {
     "name": "stdout",
     "output_type": "stream",
     "text": [
      "category\n"
     ]
    }
   ],
   "source": [
    "# df_customers 'segment',  to category\n",
    "df_customers = cast_datatypes(df_customers, 'category', c_include=['segment'])\n",
    "\n",
    "print(df_customers['segment'].dtypes)"
   ]
  },
  {
   "cell_type": "code",
   "execution_count": 67,
   "id": "29a8dcf3",
   "metadata": {},
   "outputs": [
    {
     "name": "stdout",
     "output_type": "stream",
     "text": [
      "category\n"
     ]
    }
   ],
   "source": [
    "# df_salesforce 'region',  to category\n",
    "df_salesforce = cast_datatypes(df_salesforce, 'category', c_include=['region'])\n",
    "\n",
    "print(df_salesforce['region'].dtypes)"
   ]
  },
  {
   "cell_type": "markdown",
   "id": "5b781e11",
   "metadata": {},
   "source": [
    "#### 3.4.4 Casting to boolean data type."
   ]
  },
  {
   "cell_type": "code",
   "execution_count": 68,
   "id": "91a69452",
   "metadata": {},
   "outputs": [],
   "source": [
    "# NA"
   ]
  },
  {
   "cell_type": "markdown",
   "id": "8f0225b7",
   "metadata": {},
   "source": [
    "#### 3.4.5 Casting to datetime data type."
   ]
  },
  {
   "cell_type": "code",
   "execution_count": 69,
   "id": "9928fb39",
   "metadata": {},
   "outputs": [
    {
     "name": "stdout",
     "output_type": "stream",
     "text": [
      "datetime64[ns, US/Pacific]\n"
     ]
    }
   ],
   "source": [
    "# df_inventory 'date' to datetime\n",
    "df_inventory = cast_datatypes(df_inventory, 'datetime', date_format='%Y-%m-%d', c_time_zone='US/Pacific', c_include=['date'])\n",
    "\n",
    "print(df_inventory['date'].dtypes)"
   ]
  },
  {
   "cell_type": "code",
   "execution_count": 70,
   "id": "03fde898",
   "metadata": {},
   "outputs": [
    {
     "name": "stdout",
     "output_type": "stream",
     "text": [
      "datetime64[ns, US/Pacific]\n"
     ]
    }
   ],
   "source": [
    "# df_customers 'join_date' to datetime\n",
    "df_customers = cast_datatypes(df_customers, 'datetime', date_format='%Y-%m-%d', c_time_zone='US/Pacific', c_include=['join_date'])\n",
    "\n",
    "print(df_customers['join_date'].dtypes)"
   ]
  },
  {
   "cell_type": "code",
   "execution_count": 71,
   "id": "e92c600e",
   "metadata": {},
   "outputs": [
    {
     "name": "stdout",
     "output_type": "stream",
     "text": [
      "datetime64[ns, US/Pacific]\n"
     ]
    }
   ],
   "source": [
    "# df_transactions 'date' to datetime\n",
    "df_transactions = cast_datatypes(df_transactions, 'datetime', date_format='%Y-%m-%d', c_time_zone='US/Pacific', c_include=['date'])\n",
    "\n",
    "print(df_transactions['date'].dtypes)"
   ]
  },
  {
   "cell_type": "markdown",
   "id": "e959c190",
   "metadata": {},
   "source": [
    "### 3.5  Missing values data imputation."
   ]
  },
  {
   "cell_type": "markdown",
   "id": "e00c7e9f",
   "metadata": {},
   "source": [
    "#### 3.5.1 Missing values data imputation for df_products column 'unit_cost'."
   ]
  },
  {
   "cell_type": "code",
   "execution_count": 72,
   "id": "eb3a8620",
   "metadata": {},
   "outputs": [],
   "source": [
    "# Handle df_products pd.NA missing values within 'unit_cost' column\n",
    "# To estimate missing values in the 'unit_cost' column, we leverage the relationship between 'list_price' and 'unit_cost'.\n",
    "# We first calculate the average markup ratio (list_price / unit_cost) using existing data,\n",
    "# stratified by key product characteristics: 'product_name' and 'category', 'category' and 'brand'.\n",
    "# This grouped average represents the typical revenue percentage applied to the unit cost for similar products.\n",
    "# Missing 'unit_cost' values are then imputed by reversing the markup formula:\n",
    "#     unit_cost = list_price / average_markup\n",
    "# This approach ensures more accurate imputation by reflecting pricing patterns specific to each product segment."
   ]
  },
  {
   "cell_type": "code",
   "execution_count": 73,
   "id": "3e77cfb4",
   "metadata": {},
   "outputs": [
    {
     "data": {
      "application/vnd.microsoft.datawrangler.viewer.v0+json": {
       "columns": [
        {
         "name": "index",
         "rawType": "int64",
         "type": "integer"
        },
        {
         "name": "product_id",
         "rawType": "int64",
         "type": "integer"
        },
        {
         "name": "product_name",
         "rawType": "string",
         "type": "string"
        },
        {
         "name": "category",
         "rawType": "category",
         "type": "unknown"
        },
        {
         "name": "supplier_id",
         "rawType": "int64",
         "type": "integer"
        },
        {
         "name": "unit_cost",
         "rawType": "Float64",
         "type": "float"
        },
        {
         "name": "status",
         "rawType": "category",
         "type": "unknown"
        },
        {
         "name": "brand",
         "rawType": "string",
         "type": "string"
        },
        {
         "name": "list_price",
         "rawType": "float64",
         "type": "float"
        },
        {
         "name": "markup_ratio",
         "rawType": "Float64",
         "type": "float"
        }
       ],
       "ref": "54b4bfbb-0ef8-4088-8302-4853707120b5",
       "rows": [
        [
         "0",
         "1",
         "use_bakery",
         "bakery",
         "1664",
         "4.58",
         "active",
         "warren_foster",
         "5.99",
         "1.3078602620087336"
        ],
        [
         "1",
         "2",
         "thank_frozen_foods",
         "dairy",
         "1662",
         "5.43",
         "backordered",
         "evans_and_sons",
         "7.03",
         "1.2946593001841622"
        ],
        [
         "2",
         "3",
         "customer_produce",
         "beverages",
         "917",
         "1.83",
         "backordered",
         "newman_and_sons",
         "2.73",
         "1.4918032786885245"
        ],
        [
         "3",
         "4",
         "sign_dairy",
         "produce",
         "268",
         "8.99",
         "active",
         "mclaughlin_little",
         "14.17",
         "1.5761957730812013"
        ],
        [
         "4",
         "5",
         "place_frozen_foods",
         "bakery",
         "964",
         "73.3",
         "backordered",
         "leblanc_james_and_thompson",
         "11.08",
         "0.15115961800818556"
        ],
        [
         "5",
         "6",
         "voice_produce",
         "beverages",
         "169",
         "15.16",
         "backordered",
         "howard_jones_and_ashley",
         "18.28",
         "1.2058047493403694"
        ],
        [
         "7",
         "8",
         "care_dairy",
         "beverages",
         "1628",
         "18.64",
         "active",
         null,
         "26.67",
         "1.430793991416309"
        ],
        [
         "8",
         "9",
         "add_bakery",
         "snacks",
         "1115",
         "14.86",
         "backordered",
         "johnston_gross_and_ellis",
         "22.15",
         "1.490578734858681"
        ],
        [
         "9",
         "10",
         "tell_snacks",
         "snacks",
         "938",
         "12.9",
         "backordered",
         "edwards_horne_and_soto",
         "21.07",
         "1.6333333333333333"
        ],
        [
         "10",
         "11",
         "mention_produce",
         "frozen_foods",
         "1701",
         "14.25",
         "discontinued",
         "fowler_llc",
         "20.19",
         "1.416842105263158"
        ],
        [
         "11",
         "12",
         "least_produce",
         "produce",
         "209",
         "7.91",
         "backordered",
         "garcia_williams",
         "12.59",
         "1.5916561314791402"
        ],
        [
         "12",
         "13",
         "situation_dairy",
         "frozen_foods",
         "818",
         "6.5",
         "active",
         "washington_inc",
         "10.9",
         "1.676923076923077"
        ],
        [
         "13",
         "14",
         "parent_snacks",
         "beverages",
         "441",
         "13.88",
         "active",
         "villanueva_williams_and_green",
         "18.7",
         "1.3472622478386165"
        ],
        [
         "14",
         "15",
         "party_dairy",
         "snacks",
         "1696",
         "13.16",
         "active",
         "ramos_inc",
         "19.24",
         "1.4620060790273555"
        ],
        [
         "15",
         "16",
         "you_bakery",
         "snacks",
         "261",
         "9.42",
         "active",
         "king_lewis_and_edwards",
         "12.34",
         "1.3099787685774946"
        ],
        [
         "16",
         "17",
         "reason_snacks",
         "frozen_foods",
         "942",
         "16.09",
         "discontinued",
         "kidd_oliver_and_williams",
         "22.9",
         "1.423244251087632"
        ],
        [
         "17",
         "18",
         "since_beverages",
         "frozen_foods",
         "396",
         "4.21",
         "active",
         "grant_franklin",
         "6.95",
         "1.6508313539192399"
        ],
        [
         "18",
         "19",
         "mouth_produce",
         "beverages",
         "1810",
         "5.77",
         "discontinued",
         "garcia_goodman_and_weaver",
         "7.3",
         "1.2651646447140381"
        ],
        [
         "20",
         "21",
         "get_snacks",
         "beverages",
         "1150",
         "12.16",
         "backordered",
         null,
         "15.5",
         "1.274671052631579"
        ],
        [
         "21",
         "22",
         "break_beverages",
         "dairy",
         "1204",
         "6.99",
         "discontinued",
         "collins_wells_and_christian",
         "8.92",
         "1.2761087267525035"
        ],
        [
         "22",
         "23",
         "popular_produce",
         "bakery",
         "762",
         "6.15",
         "backordered",
         null,
         "10.04",
         "1.6325203252032519"
        ],
        [
         "23",
         "24",
         "idea_beverages",
         "dairy",
         "782",
         "7.82",
         "active",
         "smith_plc",
         "13.87",
         "1.7736572890025575"
        ],
        [
         "25",
         "26",
         "finish_beverages",
         "produce",
         "1869",
         "8.69",
         "discontinued",
         "hernandez_and_sons",
         "10.78",
         "1.240506329113924"
        ],
        [
         "26",
         "27",
         "school_frozen_foods",
         "produce",
         "1913",
         "9.68",
         "backordered",
         "johnson_llc",
         "14.58",
         "1.506198347107438"
        ],
        [
         "27",
         "28",
         "time_frozen_foods",
         "snacks",
         "59",
         "18.75",
         "active",
         null,
         "31.21",
         "1.6645333333333334"
        ],
        [
         "28",
         "29",
         "yourself_beverages",
         "bakery",
         "163",
         "2.14",
         "backordered",
         "ortega_group",
         "3.47",
         "1.6214953271028036"
        ],
        [
         "29",
         "30",
         "fast_snacks",
         "bakery",
         "1508",
         "17.15",
         "discontinued",
         "perez_wong_and_smith",
         "29.94",
         "1.7457725947521867"
        ],
        [
         "30",
         "31",
         "maybe_snacks",
         "frozen_foods",
         "1050",
         "13.25",
         "backordered",
         "howell_mitchell",
         "19.58",
         "1.4777358490566037"
        ],
        [
         "31",
         "32",
         "music_snacks",
         "bakery",
         "1141",
         "16.39",
         "active",
         "valdez_and_sons",
         "26.44",
         "1.6131787675411837"
        ],
        [
         "32",
         "33",
         "police_bakery",
         "dairy",
         "1964",
         "17.39",
         "backordered",
         "saunders_ltd",
         "26.87",
         "1.5451408855664175"
        ],
        [
         "33",
         "34",
         "use_beverages",
         "dairy",
         "1665",
         "12.89",
         "active",
         "dominguez_pena_and_osborne",
         "22.03",
         "1.7090768037238169"
        ],
        [
         "34",
         "35",
         "color_dairy",
         "dairy",
         "229",
         "3.42",
         "backordered",
         "watts_schroeder",
         "4.13",
         "1.2076023391812865"
        ],
        [
         "35",
         "36",
         "little_bakery",
         "bakery",
         "647",
         "15.82",
         "active",
         "taylor_thomas",
         "24.16",
         "1.5271807838179519"
        ],
        [
         "36",
         "37",
         "minute_frozen_foods",
         "beverages",
         "630",
         "9.61",
         "active",
         "rivera_inc",
         "15.11",
         "1.5723204994797086"
        ],
        [
         "37",
         "38",
         "certainly_beverages",
         "bakery",
         "1298",
         "3.43",
         "active",
         "garcia_plc",
         "4.33",
         "1.2623906705539358"
        ],
        [
         "38",
         "39",
         "why_produce",
         "dairy",
         "1631",
         "7.08",
         "active",
         "jackson_cain_and_garcia",
         "9.1",
         "1.2853107344632768"
        ],
        [
         "39",
         "40",
         "benefit_frozen_foods",
         "beverages",
         "23",
         "17.46",
         "active",
         "joyce_le_and_wallace",
         "31.28",
         "1.7915234822451318"
        ],
        [
         "40",
         "41",
         "item_dairy",
         "dairy",
         "10",
         "2.87",
         "backordered",
         "carroll_aguilar_and_richardson",
         "4.62",
         "1.6097560975609755"
        ],
        [
         "41",
         "42",
         "success_produce",
         "bakery",
         "975",
         "12.44",
         "backordered",
         "brown_duke",
         "16.39",
         "1.317524115755627"
        ],
        [
         "43",
         "44",
         "top_produce",
         "bakery",
         "1464",
         "3.92",
         "backordered",
         "mills_llc",
         "6.94",
         "1.7704081632653061"
        ],
        [
         "44",
         "45",
         "public_bakery",
         "snacks",
         "606",
         "8.35",
         "discontinued",
         "stone_boyd_and_wilson",
         "10.46",
         "1.2526946107784434"
        ],
        [
         "45",
         "46",
         "fact_produce",
         "produce",
         "1857",
         "4.15",
         "backordered",
         "lopez_llc",
         "6.93",
         "1.669879518072289"
        ],
        [
         "46",
         "47",
         "into_bakery",
         "beverages",
         "1775",
         "10.1",
         "discontinued",
         "johnson_heath",
         "16.95",
         "1.6782178217821782"
        ],
        [
         "47",
         "48",
         "director_snacks",
         "produce",
         "162",
         "5.2",
         "backordered",
         "ray_brown_and_lang",
         "6.29",
         "1.2096153846153845"
        ],
        [
         "48",
         "49",
         "it_produce",
         "frozen_foods",
         "435",
         "19.18",
         "discontinued",
         "shelton_morales",
         "24.72",
         "1.2888425443169969"
        ],
        [
         "49",
         "50",
         "away_dairy",
         "bakery",
         "196",
         "7.7",
         "active",
         "valencia_smith",
         "12.82",
         "1.664935064935065"
        ],
        [
         "50",
         "51",
         "trouble_produce",
         "dairy",
         "618",
         "0.69",
         "discontinued",
         null,
         "1.17",
         "1.6956521739130435"
        ],
        [
         "51",
         "52",
         "organization_frozen_foods",
         "snacks",
         "1083",
         "15.62",
         "backordered",
         "diaz_group",
         "19.81",
         "1.268245838668374"
        ],
        [
         "52",
         "53",
         "right_frozen_foods",
         "snacks",
         "46",
         "2.06",
         "backordered",
         "thornton_and_sons",
         "2.8",
         "1.3592233009708736"
        ],
        [
         "53",
         "54",
         "claim_bakery",
         "snacks",
         "1942",
         "8.12",
         "backordered",
         null,
         "11.54",
         "1.4211822660098523"
        ]
       ],
       "shape": {
        "columns": 9,
        "rows": 9500
       }
      },
      "text/html": [
       "<div>\n",
       "<style scoped>\n",
       "    .dataframe tbody tr th:only-of-type {\n",
       "        vertical-align: middle;\n",
       "    }\n",
       "\n",
       "    .dataframe tbody tr th {\n",
       "        vertical-align: top;\n",
       "    }\n",
       "\n",
       "    .dataframe thead th {\n",
       "        text-align: right;\n",
       "    }\n",
       "</style>\n",
       "<table border=\"1\" class=\"dataframe\">\n",
       "  <thead>\n",
       "    <tr style=\"text-align: right;\">\n",
       "      <th></th>\n",
       "      <th>product_id</th>\n",
       "      <th>product_name</th>\n",
       "      <th>category</th>\n",
       "      <th>supplier_id</th>\n",
       "      <th>unit_cost</th>\n",
       "      <th>status</th>\n",
       "      <th>brand</th>\n",
       "      <th>list_price</th>\n",
       "      <th>markup_ratio</th>\n",
       "    </tr>\n",
       "  </thead>\n",
       "  <tbody>\n",
       "    <tr>\n",
       "      <th>0</th>\n",
       "      <td>1</td>\n",
       "      <td>use_bakery</td>\n",
       "      <td>bakery</td>\n",
       "      <td>1664</td>\n",
       "      <td>4.58</td>\n",
       "      <td>active</td>\n",
       "      <td>warren_foster</td>\n",
       "      <td>5.99</td>\n",
       "      <td>1.30786</td>\n",
       "    </tr>\n",
       "    <tr>\n",
       "      <th>1</th>\n",
       "      <td>2</td>\n",
       "      <td>thank_frozen_foods</td>\n",
       "      <td>dairy</td>\n",
       "      <td>1662</td>\n",
       "      <td>5.43</td>\n",
       "      <td>backordered</td>\n",
       "      <td>evans_and_sons</td>\n",
       "      <td>7.03</td>\n",
       "      <td>1.294659</td>\n",
       "    </tr>\n",
       "    <tr>\n",
       "      <th>2</th>\n",
       "      <td>3</td>\n",
       "      <td>customer_produce</td>\n",
       "      <td>beverages</td>\n",
       "      <td>917</td>\n",
       "      <td>1.83</td>\n",
       "      <td>backordered</td>\n",
       "      <td>newman_and_sons</td>\n",
       "      <td>2.73</td>\n",
       "      <td>1.491803</td>\n",
       "    </tr>\n",
       "    <tr>\n",
       "      <th>3</th>\n",
       "      <td>4</td>\n",
       "      <td>sign_dairy</td>\n",
       "      <td>produce</td>\n",
       "      <td>268</td>\n",
       "      <td>8.99</td>\n",
       "      <td>active</td>\n",
       "      <td>mclaughlin_little</td>\n",
       "      <td>14.17</td>\n",
       "      <td>1.576196</td>\n",
       "    </tr>\n",
       "    <tr>\n",
       "      <th>4</th>\n",
       "      <td>5</td>\n",
       "      <td>place_frozen_foods</td>\n",
       "      <td>bakery</td>\n",
       "      <td>964</td>\n",
       "      <td>73.3</td>\n",
       "      <td>backordered</td>\n",
       "      <td>leblanc_james_and_thompson</td>\n",
       "      <td>11.08</td>\n",
       "      <td>0.15116</td>\n",
       "    </tr>\n",
       "    <tr>\n",
       "      <th>...</th>\n",
       "      <td>...</td>\n",
       "      <td>...</td>\n",
       "      <td>...</td>\n",
       "      <td>...</td>\n",
       "      <td>...</td>\n",
       "      <td>...</td>\n",
       "      <td>...</td>\n",
       "      <td>...</td>\n",
       "      <td>...</td>\n",
       "    </tr>\n",
       "    <tr>\n",
       "      <th>9995</th>\n",
       "      <td>9996</td>\n",
       "      <td>financial_bakery</td>\n",
       "      <td>snacks</td>\n",
       "      <td>1581</td>\n",
       "      <td>5.93</td>\n",
       "      <td>backordered</td>\n",
       "      <td>sparks_llc</td>\n",
       "      <td>7.40</td>\n",
       "      <td>1.247892</td>\n",
       "    </tr>\n",
       "    <tr>\n",
       "      <th>9996</th>\n",
       "      <td>9997</td>\n",
       "      <td>hospital_bakery</td>\n",
       "      <td>produce</td>\n",
       "      <td>1426</td>\n",
       "      <td>15.42</td>\n",
       "      <td>discontinued</td>\n",
       "      <td>butler_inc</td>\n",
       "      <td>18.92</td>\n",
       "      <td>1.226978</td>\n",
       "    </tr>\n",
       "    <tr>\n",
       "      <th>9997</th>\n",
       "      <td>9998</td>\n",
       "      <td>travel_bakery</td>\n",
       "      <td>produce</td>\n",
       "      <td>31</td>\n",
       "      <td>13.28</td>\n",
       "      <td>backordered</td>\n",
       "      <td>carr_larson</td>\n",
       "      <td>23.15</td>\n",
       "      <td>1.743223</td>\n",
       "    </tr>\n",
       "    <tr>\n",
       "      <th>9998</th>\n",
       "      <td>9999</td>\n",
       "      <td>learn_bakery</td>\n",
       "      <td>bakery</td>\n",
       "      <td>987</td>\n",
       "      <td>18.32</td>\n",
       "      <td>active</td>\n",
       "      <td>turner_rodriguez</td>\n",
       "      <td>22.50</td>\n",
       "      <td>1.228166</td>\n",
       "    </tr>\n",
       "    <tr>\n",
       "      <th>9999</th>\n",
       "      <td>10000</td>\n",
       "      <td>everything_bakery</td>\n",
       "      <td>snacks</td>\n",
       "      <td>1127</td>\n",
       "      <td>18.24</td>\n",
       "      <td>active</td>\n",
       "      <td>zimmerman_hoffman_and_burns</td>\n",
       "      <td>31.50</td>\n",
       "      <td>1.726974</td>\n",
       "    </tr>\n",
       "  </tbody>\n",
       "</table>\n",
       "<p>9500 rows × 9 columns</p>\n",
       "</div>"
      ],
      "text/plain": [
       "      product_id        product_name   category  supplier_id  unit_cost        status                        brand  list_price  markup_ratio\n",
       "0              1          use_bakery     bakery         1664       4.58        active                warren_foster        5.99       1.30786\n",
       "1              2  thank_frozen_foods      dairy         1662       5.43   backordered               evans_and_sons        7.03      1.294659\n",
       "2              3    customer_produce  beverages          917       1.83   backordered              newman_and_sons        2.73      1.491803\n",
       "3              4          sign_dairy    produce          268       8.99        active            mclaughlin_little       14.17      1.576196\n",
       "4              5  place_frozen_foods     bakery          964       73.3   backordered   leblanc_james_and_thompson       11.08       0.15116\n",
       "...          ...                 ...        ...          ...        ...           ...                          ...         ...           ...\n",
       "9995        9996    financial_bakery     snacks         1581       5.93   backordered                   sparks_llc        7.40      1.247892\n",
       "9996        9997     hospital_bakery    produce         1426      15.42  discontinued                   butler_inc       18.92      1.226978\n",
       "9997        9998       travel_bakery    produce           31      13.28   backordered                  carr_larson       23.15      1.743223\n",
       "9998        9999        learn_bakery     bakery          987      18.32        active             turner_rodriguez       22.50      1.228166\n",
       "9999       10000   everything_bakery     snacks         1127      18.24        active  zimmerman_hoffman_and_burns       31.50      1.726974\n",
       "\n",
       "[9500 rows x 9 columns]"
      ]
     },
     "execution_count": 73,
     "metadata": {},
     "output_type": "execute_result"
    }
   ],
   "source": [
    "df_uc_imp = df_products.dropna(subset=['unit_cost', 'list_price']).copy()\n",
    "df_uc_imp['markup_ratio'] = df_uc_imp['list_price'] / df_uc_imp['unit_cost']\n",
    "df_uc_imp"
   ]
  },
  {
   "cell_type": "code",
   "execution_count": 74,
   "id": "ee1f2366",
   "metadata": {},
   "outputs": [
    {
     "data": {
      "application/vnd.microsoft.datawrangler.viewer.v0+json": {
       "columns": [
        {
         "name": "index",
         "rawType": "int64",
         "type": "integer"
        },
        {
         "name": "product_name",
         "rawType": "string",
         "type": "string"
        },
        {
         "name": "category",
         "rawType": "category",
         "type": "unknown"
        },
        {
         "name": "avg_markup_ratio",
         "rawType": "Float64",
         "type": "float"
        }
       ],
       "ref": "d5446bed-1e03-4b07-9944-8d2cae9324d4",
       "rows": [
        [
         "0",
         "a_beverages",
         "bakery",
         "1.502008032128514"
        ],
        [
         "1",
         "a_beverages",
         "snacks",
         "1.4329787234042553"
        ],
        [
         "2",
         "a_frozen_foods",
         "bakery",
         "1.6916363636363638"
        ],
        [
         "3",
         "a_produce",
         "frozen_foods",
         "1.43601108033241"
        ],
        [
         "4",
         "a_produce",
         "produce",
         "1.3660220994475138"
        ],
        [
         "5",
         "a_snacks",
         "beverages",
         "1.44043321299639"
        ],
        [
         "6",
         "ability_bakery",
         "snacks",
         "1.7845659163987138"
        ],
        [
         "7",
         "ability_beverages",
         "dairy",
         "1.5487965672824828"
        ],
        [
         "8",
         "ability_beverages",
         "frozen_foods",
         "1.3878504672897196"
        ],
        [
         "9",
         "ability_dairy",
         "beverages",
         "1.6996996996996998"
        ],
        [
         "10",
         "ability_dairy",
         "snacks",
         "1.3711191335740072"
        ],
        [
         "11",
         "ability_frozen_foods",
         "frozen_foods",
         "1.624277456647399"
        ],
        [
         "12",
         "ability_frozen_foods",
         "produce",
         "1.2850241545893721"
        ],
        [
         "13",
         "ability_produce",
         "frozen_foods",
         "1.719777440566515"
        ],
        [
         "14",
         "ability_produce",
         "snacks",
         "1.6673913043478261"
        ],
        [
         "15",
         "ability_snacks",
         "produce",
         "1.300235017626322"
        ],
        [
         "16",
         "ability_snacks",
         "snacks",
         "1.3007128969539858"
        ],
        [
         "17",
         "able_bakery",
         "frozen_foods",
         "1.47670639219935"
        ],
        [
         "18",
         "able_bakery",
         "produce",
         "1.2550740537575424"
        ],
        [
         "19",
         "able_beverages",
         "bakery",
         "1.553177691309987"
        ],
        [
         "20",
         "able_beverages",
         "frozen_foods",
         "1.2903607332939089"
        ],
        [
         "21",
         "able_beverages",
         "produce",
         "1.7594611930724824"
        ],
        [
         "22",
         "able_dairy",
         "beverages",
         "1.3056603773584905"
        ],
        [
         "23",
         "able_dairy",
         "produce",
         "1.2046678635547576"
        ],
        [
         "24",
         "able_frozen_foods",
         "produce",
         "1.3761418592154755"
        ],
        [
         "25",
         "able_snacks",
         "dairy",
         "1.220618556701031"
        ],
        [
         "26",
         "able_snacks",
         "snacks",
         "1.570957095709571"
        ],
        [
         "27",
         "about_bakery",
         "bakery",
         "1.788011695906433"
        ],
        [
         "28",
         "about_bakery",
         "snacks",
         "1.5147645650438948"
        ],
        [
         "29",
         "about_beverages",
         "frozen_foods",
         "1.5245901639344261"
        ],
        [
         "30",
         "about_beverages",
         "produce",
         "1.4887839433293977"
        ],
        [
         "31",
         "about_dairy",
         "bakery",
         "1.2743362831858407"
        ],
        [
         "32",
         "about_snacks",
         "dairy",
         "1.3993077595427477"
        ],
        [
         "33",
         "about_snacks",
         "frozen_foods",
         "1.521951219512195"
        ],
        [
         "34",
         "above_bakery",
         "bakery",
         "1.7064676616915426"
        ],
        [
         "35",
         "above_beverages",
         "bakery",
         "1.5320776927604476"
        ],
        [
         "36",
         "above_dairy",
         "frozen_foods",
         "1.226158038147139"
        ],
        [
         "37",
         "above_snacks",
         "beverages",
         "1.7949101796407188"
        ],
        [
         "38",
         "above_snacks",
         "produce",
         "1.4158163265306123"
        ],
        [
         "39",
         "accept_bakery",
         "beverages",
         "1.2759856630824373"
        ],
        [
         "40",
         "accept_beverages",
         "bakery",
         "1.7424242424242424"
        ],
        [
         "41",
         "accept_beverages",
         "dairy",
         "1.6614583333333335"
        ],
        [
         "42",
         "accept_beverages",
         "produce",
         "1.572471263664296"
        ],
        [
         "43",
         "accept_dairy",
         "beverages",
         "1.5808383233532937"
        ],
        [
         "44",
         "accept_dairy",
         "dairy",
         "1.541570438799076"
        ],
        [
         "45",
         "accept_frozen_foods",
         "bakery",
         "1.5858585858585859"
        ],
        [
         "46",
         "accept_frozen_foods",
         "frozen_foods",
         "1.3558406482106684"
        ],
        [
         "47",
         "accept_frozen_foods",
         "produce",
         "1.2445229681978798"
        ],
        [
         "48",
         "accept_produce",
         "produce",
         "1.5578964995150812"
        ],
        [
         "49",
         "accept_produce",
         "snacks",
         "1.3524185587364264"
        ]
       ],
       "shape": {
        "columns": 3,
        "rows": 8280
       }
      },
      "text/html": [
       "<div>\n",
       "<style scoped>\n",
       "    .dataframe tbody tr th:only-of-type {\n",
       "        vertical-align: middle;\n",
       "    }\n",
       "\n",
       "    .dataframe tbody tr th {\n",
       "        vertical-align: top;\n",
       "    }\n",
       "\n",
       "    .dataframe thead th {\n",
       "        text-align: right;\n",
       "    }\n",
       "</style>\n",
       "<table border=\"1\" class=\"dataframe\">\n",
       "  <thead>\n",
       "    <tr style=\"text-align: right;\">\n",
       "      <th></th>\n",
       "      <th>product_name</th>\n",
       "      <th>category</th>\n",
       "      <th>avg_markup_ratio</th>\n",
       "    </tr>\n",
       "  </thead>\n",
       "  <tbody>\n",
       "    <tr>\n",
       "      <th>0</th>\n",
       "      <td>a_beverages</td>\n",
       "      <td>bakery</td>\n",
       "      <td>1.502008</td>\n",
       "    </tr>\n",
       "    <tr>\n",
       "      <th>1</th>\n",
       "      <td>a_beverages</td>\n",
       "      <td>snacks</td>\n",
       "      <td>1.432979</td>\n",
       "    </tr>\n",
       "    <tr>\n",
       "      <th>2</th>\n",
       "      <td>a_frozen_foods</td>\n",
       "      <td>bakery</td>\n",
       "      <td>1.691636</td>\n",
       "    </tr>\n",
       "    <tr>\n",
       "      <th>3</th>\n",
       "      <td>a_produce</td>\n",
       "      <td>frozen_foods</td>\n",
       "      <td>1.436011</td>\n",
       "    </tr>\n",
       "    <tr>\n",
       "      <th>4</th>\n",
       "      <td>a_produce</td>\n",
       "      <td>produce</td>\n",
       "      <td>1.366022</td>\n",
       "    </tr>\n",
       "    <tr>\n",
       "      <th>...</th>\n",
       "      <td>...</td>\n",
       "      <td>...</td>\n",
       "      <td>...</td>\n",
       "    </tr>\n",
       "    <tr>\n",
       "      <th>8275</th>\n",
       "      <td>yourself_dairy</td>\n",
       "      <td>dairy</td>\n",
       "      <td>1.80102</td>\n",
       "    </tr>\n",
       "    <tr>\n",
       "      <th>8276</th>\n",
       "      <td>yourself_produce</td>\n",
       "      <td>beverages</td>\n",
       "      <td>1.576678</td>\n",
       "    </tr>\n",
       "    <tr>\n",
       "      <th>8277</th>\n",
       "      <td>yourself_produce</td>\n",
       "      <td>dairy</td>\n",
       "      <td>1.304238</td>\n",
       "    </tr>\n",
       "    <tr>\n",
       "      <th>8278</th>\n",
       "      <td>yourself_produce</td>\n",
       "      <td>snacks</td>\n",
       "      <td>1.246212</td>\n",
       "    </tr>\n",
       "    <tr>\n",
       "      <th>8279</th>\n",
       "      <td>yourself_snacks</td>\n",
       "      <td>snacks</td>\n",
       "      <td>1.563525</td>\n",
       "    </tr>\n",
       "  </tbody>\n",
       "</table>\n",
       "<p>8280 rows × 3 columns</p>\n",
       "</div>"
      ],
      "text/plain": [
       "          product_name      category  avg_markup_ratio\n",
       "0          a_beverages        bakery          1.502008\n",
       "1          a_beverages        snacks          1.432979\n",
       "2       a_frozen_foods        bakery          1.691636\n",
       "3            a_produce  frozen_foods          1.436011\n",
       "4            a_produce       produce          1.366022\n",
       "...                ...           ...               ...\n",
       "8275    yourself_dairy         dairy           1.80102\n",
       "8276  yourself_produce     beverages          1.576678\n",
       "8277  yourself_produce         dairy          1.304238\n",
       "8278  yourself_produce        snacks          1.246212\n",
       "8279   yourself_snacks        snacks          1.563525\n",
       "\n",
       "[8280 rows x 3 columns]"
      ]
     },
     "execution_count": 74,
     "metadata": {},
     "output_type": "execute_result"
    }
   ],
   "source": [
    "# Stratification by key product characteristics: 'product_name' and 'category'.\n",
    "df_markup_by_group = (df_uc_imp.groupby(['product_name', 'category'], observed=True)['markup_ratio'].mean()\n",
    "                      .reset_index(name='avg_markup_ratio'))\n",
    "df_markup_by_group"
   ]
  },
  {
   "cell_type": "code",
   "execution_count": 75,
   "id": "878e1507",
   "metadata": {},
   "outputs": [
    {
     "data": {
      "application/vnd.microsoft.datawrangler.viewer.v0+json": {
       "columns": [
        {
         "name": "index",
         "rawType": "int64",
         "type": "integer"
        },
        {
         "name": "product_id",
         "rawType": "int64",
         "type": "integer"
        },
        {
         "name": "product_name",
         "rawType": "string",
         "type": "string"
        },
        {
         "name": "category",
         "rawType": "category",
         "type": "unknown"
        },
        {
         "name": "supplier_id",
         "rawType": "int64",
         "type": "integer"
        },
        {
         "name": "unit_cost",
         "rawType": "Float64",
         "type": "float"
        },
        {
         "name": "status",
         "rawType": "category",
         "type": "unknown"
        },
        {
         "name": "brand",
         "rawType": "string",
         "type": "string"
        },
        {
         "name": "list_price",
         "rawType": "float64",
         "type": "float"
        },
        {
         "name": "avg_markup_ratio",
         "rawType": "Float64",
         "type": "float"
        }
       ],
       "ref": "6f5322c3-f584-429a-8c60-8bae45068bfc",
       "rows": [
        [
         "0",
         "1",
         "use_bakery",
         "bakery",
         "1664",
         "4.58",
         "active",
         "warren_foster",
         "5.99",
         "1.3078602620087336"
        ],
        [
         "1",
         "2",
         "thank_frozen_foods",
         "dairy",
         "1662",
         "5.43",
         "backordered",
         "evans_and_sons",
         "7.03",
         "1.4550650663747835"
        ],
        [
         "2",
         "3",
         "customer_produce",
         "beverages",
         "917",
         "1.83",
         "backordered",
         "newman_and_sons",
         "2.73",
         "1.4918032786885245"
        ],
        [
         "3",
         "4",
         "sign_dairy",
         "produce",
         "268",
         "8.99",
         "active",
         "mclaughlin_little",
         "14.17",
         "1.5761957730812013"
        ],
        [
         "4",
         "5",
         "place_frozen_foods",
         "bakery",
         "964",
         "73.3",
         "backordered",
         "leblanc_james_and_thompson",
         "11.08",
         "0.15115961800818556"
        ],
        [
         "5",
         "6",
         "voice_produce",
         "beverages",
         "169",
         "15.16",
         "backordered",
         "howard_jones_and_ashley",
         "18.28",
         "1.4803388779188558"
        ],
        [
         "6",
         "7",
         "home_produce",
         "bakery",
         "911",
         null,
         "backordered",
         null,
         "2.98",
         null
        ],
        [
         "7",
         "8",
         "care_dairy",
         "beverages",
         "1628",
         "18.64",
         "active",
         null,
         "26.67",
         "1.430793991416309"
        ],
        [
         "8",
         "9",
         "add_bakery",
         "snacks",
         "1115",
         "14.86",
         "backordered",
         "johnston_gross_and_ellis",
         "22.15",
         "1.490578734858681"
        ],
        [
         "9",
         "10",
         "tell_snacks",
         "snacks",
         "938",
         "12.9",
         "backordered",
         "edwards_horne_and_soto",
         "21.07",
         "1.6333333333333333"
        ],
        [
         "10",
         "11",
         "mention_produce",
         "frozen_foods",
         "1701",
         "14.25",
         "discontinued",
         "fowler_llc",
         "20.19",
         "1.416842105263158"
        ],
        [
         "11",
         "12",
         "least_produce",
         "produce",
         "209",
         "7.91",
         "backordered",
         "garcia_williams",
         "12.59",
         "1.5916561314791402"
        ],
        [
         "12",
         "13",
         "situation_dairy",
         "frozen_foods",
         "818",
         "6.5",
         "active",
         "washington_inc",
         "10.9",
         "1.676923076923077"
        ],
        [
         "13",
         "14",
         "parent_snacks",
         "beverages",
         "441",
         "13.88",
         "active",
         "villanueva_williams_and_green",
         "18.7",
         "1.3472622478386165"
        ],
        [
         "14",
         "15",
         "party_dairy",
         "snacks",
         "1696",
         "13.16",
         "active",
         "ramos_inc",
         "19.24",
         "1.4620060790273555"
        ],
        [
         "15",
         "16",
         "you_bakery",
         "snacks",
         "261",
         "9.42",
         "active",
         "king_lewis_and_edwards",
         "12.34",
         "1.3099787685774946"
        ],
        [
         "16",
         "17",
         "reason_snacks",
         "frozen_foods",
         "942",
         "16.09",
         "discontinued",
         "kidd_oliver_and_williams",
         "22.9",
         "1.3986969554757889"
        ],
        [
         "17",
         "18",
         "since_beverages",
         "frozen_foods",
         "396",
         "4.21",
         "active",
         "grant_franklin",
         "6.95",
         "1.6508313539192399"
        ],
        [
         "18",
         "19",
         "mouth_produce",
         "beverages",
         "1810",
         "5.77",
         "discontinued",
         "garcia_goodman_and_weaver",
         "7.3",
         "1.2651646447140381"
        ],
        [
         "19",
         "20",
         "movement_snacks",
         "snacks",
         "1098",
         null,
         "backordered",
         "west_christensen",
         "13.46",
         null
        ],
        [
         "20",
         "21",
         "get_snacks",
         "beverages",
         "1150",
         "12.16",
         "backordered",
         null,
         "15.5",
         "1.274671052631579"
        ],
        [
         "21",
         "22",
         "break_beverages",
         "dairy",
         "1204",
         "6.99",
         "discontinued",
         "collins_wells_and_christian",
         "8.92",
         "1.2761087267525035"
        ],
        [
         "22",
         "23",
         "popular_produce",
         "bakery",
         "762",
         "6.15",
         "backordered",
         null,
         "10.04",
         "1.6325203252032519"
        ],
        [
         "23",
         "24",
         "idea_beverages",
         "dairy",
         "782",
         "7.82",
         "active",
         "smith_plc",
         "13.87",
         "1.7102787792721683"
        ],
        [
         "24",
         "25",
         "add_frozen_foods",
         "bakery",
         "769",
         null,
         "discontinued",
         "cooke_hayes_and_olson",
         "14.68",
         null
        ],
        [
         "25",
         "26",
         "finish_beverages",
         "produce",
         "1869",
         "8.69",
         "discontinued",
         "hernandez_and_sons",
         "10.78",
         "1.240506329113924"
        ],
        [
         "26",
         "27",
         "school_frozen_foods",
         "produce",
         "1913",
         "9.68",
         "backordered",
         "johnson_llc",
         "14.58",
         "1.3860471504323317"
        ],
        [
         "27",
         "28",
         "time_frozen_foods",
         "snacks",
         "59",
         "18.75",
         "active",
         null,
         "31.21",
         "1.6645333333333334"
        ],
        [
         "28",
         "29",
         "yourself_beverages",
         "bakery",
         "163",
         "2.14",
         "backordered",
         "ortega_group",
         "3.47",
         "1.6214953271028036"
        ],
        [
         "29",
         "30",
         "fast_snacks",
         "bakery",
         "1508",
         "17.15",
         "discontinued",
         "perez_wong_and_smith",
         "29.94",
         "1.630993221127189"
        ],
        [
         "30",
         "31",
         "maybe_snacks",
         "frozen_foods",
         "1050",
         "13.25",
         "backordered",
         "howell_mitchell",
         "19.58",
         "1.4777358490566037"
        ],
        [
         "31",
         "32",
         "music_snacks",
         "bakery",
         "1141",
         "16.39",
         "active",
         "valdez_and_sons",
         "26.44",
         "1.6131787675411837"
        ],
        [
         "32",
         "33",
         "police_bakery",
         "dairy",
         "1964",
         "17.39",
         "backordered",
         "saunders_ltd",
         "26.87",
         "1.5451408855664175"
        ],
        [
         "33",
         "34",
         "use_beverages",
         "dairy",
         "1665",
         "12.89",
         "active",
         "dominguez_pena_and_osborne",
         "22.03",
         "1.7090768037238169"
        ],
        [
         "34",
         "35",
         "color_dairy",
         "dairy",
         "229",
         "3.42",
         "backordered",
         "watts_schroeder",
         "4.13",
         "1.301603367392841"
        ],
        [
         "35",
         "36",
         "little_bakery",
         "bakery",
         "647",
         "15.82",
         "active",
         "taylor_thomas",
         "24.16",
         "1.5271807838179519"
        ],
        [
         "36",
         "37",
         "minute_frozen_foods",
         "beverages",
         "630",
         "9.61",
         "active",
         "rivera_inc",
         "15.11",
         "1.6061980406836363"
        ],
        [
         "37",
         "38",
         "certainly_beverages",
         "bakery",
         "1298",
         "3.43",
         "active",
         "garcia_plc",
         "4.33",
         "1.3369426165731222"
        ],
        [
         "38",
         "39",
         "why_produce",
         "dairy",
         "1631",
         "7.08",
         "active",
         "jackson_cain_and_garcia",
         "9.1",
         "1.3152793767726623"
        ],
        [
         "39",
         "40",
         "benefit_frozen_foods",
         "beverages",
         "23",
         "17.46",
         "active",
         "joyce_le_and_wallace",
         "31.28",
         "1.7915234822451318"
        ],
        [
         "40",
         "41",
         "item_dairy",
         "dairy",
         "10",
         "2.87",
         "backordered",
         "carroll_aguilar_and_richardson",
         "4.62",
         "1.6097560975609755"
        ],
        [
         "41",
         "42",
         "success_produce",
         "bakery",
         "975",
         "12.44",
         "backordered",
         "brown_duke",
         "16.39",
         "1.317524115755627"
        ],
        [
         "42",
         "43",
         "maintain_frozen_foods",
         "dairy",
         "357",
         null,
         "backordered",
         "byrd_hayden_and_cunningham",
         "23.52",
         null
        ],
        [
         "43",
         "44",
         "top_produce",
         "bakery",
         "1464",
         "3.92",
         "backordered",
         "mills_llc",
         "6.94",
         "1.7704081632653061"
        ],
        [
         "44",
         "45",
         "public_bakery",
         "snacks",
         "606",
         "8.35",
         "discontinued",
         "stone_boyd_and_wilson",
         "10.46",
         "1.2526946107784434"
        ],
        [
         "45",
         "46",
         "fact_produce",
         "produce",
         "1857",
         "4.15",
         "backordered",
         "lopez_llc",
         "6.93",
         "1.669879518072289"
        ],
        [
         "46",
         "47",
         "into_bakery",
         "beverages",
         "1775",
         "10.1",
         "discontinued",
         "johnson_heath",
         "16.95",
         "1.5288268362778044"
        ],
        [
         "47",
         "48",
         "director_snacks",
         "produce",
         "162",
         "5.2",
         "backordered",
         "ray_brown_and_lang",
         "6.29",
         "1.2096153846153845"
        ],
        [
         "48",
         "49",
         "it_produce",
         "frozen_foods",
         "435",
         "19.18",
         "discontinued",
         "shelton_morales",
         "24.72",
         "1.2888425443169969"
        ],
        [
         "49",
         "50",
         "away_dairy",
         "bakery",
         "196",
         "7.7",
         "active",
         "valencia_smith",
         "12.82",
         "1.6948913129553373"
        ]
       ],
       "shape": {
        "columns": 9,
        "rows": 10000
       }
      },
      "text/html": [
       "<div>\n",
       "<style scoped>\n",
       "    .dataframe tbody tr th:only-of-type {\n",
       "        vertical-align: middle;\n",
       "    }\n",
       "\n",
       "    .dataframe tbody tr th {\n",
       "        vertical-align: top;\n",
       "    }\n",
       "\n",
       "    .dataframe thead th {\n",
       "        text-align: right;\n",
       "    }\n",
       "</style>\n",
       "<table border=\"1\" class=\"dataframe\">\n",
       "  <thead>\n",
       "    <tr style=\"text-align: right;\">\n",
       "      <th></th>\n",
       "      <th>product_id</th>\n",
       "      <th>product_name</th>\n",
       "      <th>category</th>\n",
       "      <th>supplier_id</th>\n",
       "      <th>unit_cost</th>\n",
       "      <th>status</th>\n",
       "      <th>brand</th>\n",
       "      <th>list_price</th>\n",
       "      <th>avg_markup_ratio</th>\n",
       "    </tr>\n",
       "  </thead>\n",
       "  <tbody>\n",
       "    <tr>\n",
       "      <th>0</th>\n",
       "      <td>1</td>\n",
       "      <td>use_bakery</td>\n",
       "      <td>bakery</td>\n",
       "      <td>1664</td>\n",
       "      <td>4.58</td>\n",
       "      <td>active</td>\n",
       "      <td>warren_foster</td>\n",
       "      <td>5.99</td>\n",
       "      <td>1.30786</td>\n",
       "    </tr>\n",
       "    <tr>\n",
       "      <th>1</th>\n",
       "      <td>2</td>\n",
       "      <td>thank_frozen_foods</td>\n",
       "      <td>dairy</td>\n",
       "      <td>1662</td>\n",
       "      <td>5.43</td>\n",
       "      <td>backordered</td>\n",
       "      <td>evans_and_sons</td>\n",
       "      <td>7.03</td>\n",
       "      <td>1.455065</td>\n",
       "    </tr>\n",
       "    <tr>\n",
       "      <th>2</th>\n",
       "      <td>3</td>\n",
       "      <td>customer_produce</td>\n",
       "      <td>beverages</td>\n",
       "      <td>917</td>\n",
       "      <td>1.83</td>\n",
       "      <td>backordered</td>\n",
       "      <td>newman_and_sons</td>\n",
       "      <td>2.73</td>\n",
       "      <td>1.491803</td>\n",
       "    </tr>\n",
       "    <tr>\n",
       "      <th>3</th>\n",
       "      <td>4</td>\n",
       "      <td>sign_dairy</td>\n",
       "      <td>produce</td>\n",
       "      <td>268</td>\n",
       "      <td>8.99</td>\n",
       "      <td>active</td>\n",
       "      <td>mclaughlin_little</td>\n",
       "      <td>14.17</td>\n",
       "      <td>1.576196</td>\n",
       "    </tr>\n",
       "    <tr>\n",
       "      <th>4</th>\n",
       "      <td>5</td>\n",
       "      <td>place_frozen_foods</td>\n",
       "      <td>bakery</td>\n",
       "      <td>964</td>\n",
       "      <td>73.3</td>\n",
       "      <td>backordered</td>\n",
       "      <td>leblanc_james_and_thompson</td>\n",
       "      <td>11.08</td>\n",
       "      <td>0.15116</td>\n",
       "    </tr>\n",
       "    <tr>\n",
       "      <th>...</th>\n",
       "      <td>...</td>\n",
       "      <td>...</td>\n",
       "      <td>...</td>\n",
       "      <td>...</td>\n",
       "      <td>...</td>\n",
       "      <td>...</td>\n",
       "      <td>...</td>\n",
       "      <td>...</td>\n",
       "      <td>...</td>\n",
       "    </tr>\n",
       "    <tr>\n",
       "      <th>9995</th>\n",
       "      <td>9996</td>\n",
       "      <td>financial_bakery</td>\n",
       "      <td>snacks</td>\n",
       "      <td>1581</td>\n",
       "      <td>5.93</td>\n",
       "      <td>backordered</td>\n",
       "      <td>sparks_llc</td>\n",
       "      <td>7.40</td>\n",
       "      <td>1.247892</td>\n",
       "    </tr>\n",
       "    <tr>\n",
       "      <th>9996</th>\n",
       "      <td>9997</td>\n",
       "      <td>hospital_bakery</td>\n",
       "      <td>produce</td>\n",
       "      <td>1426</td>\n",
       "      <td>15.42</td>\n",
       "      <td>discontinued</td>\n",
       "      <td>butler_inc</td>\n",
       "      <td>18.92</td>\n",
       "      <td>1.226978</td>\n",
       "    </tr>\n",
       "    <tr>\n",
       "      <th>9997</th>\n",
       "      <td>9998</td>\n",
       "      <td>travel_bakery</td>\n",
       "      <td>produce</td>\n",
       "      <td>31</td>\n",
       "      <td>13.28</td>\n",
       "      <td>backordered</td>\n",
       "      <td>carr_larson</td>\n",
       "      <td>23.15</td>\n",
       "      <td>1.581158</td>\n",
       "    </tr>\n",
       "    <tr>\n",
       "      <th>9998</th>\n",
       "      <td>9999</td>\n",
       "      <td>learn_bakery</td>\n",
       "      <td>bakery</td>\n",
       "      <td>987</td>\n",
       "      <td>18.32</td>\n",
       "      <td>active</td>\n",
       "      <td>turner_rodriguez</td>\n",
       "      <td>22.50</td>\n",
       "      <td>1.228166</td>\n",
       "    </tr>\n",
       "    <tr>\n",
       "      <th>9999</th>\n",
       "      <td>10000</td>\n",
       "      <td>everything_bakery</td>\n",
       "      <td>snacks</td>\n",
       "      <td>1127</td>\n",
       "      <td>18.24</td>\n",
       "      <td>active</td>\n",
       "      <td>zimmerman_hoffman_and_burns</td>\n",
       "      <td>31.50</td>\n",
       "      <td>1.726974</td>\n",
       "    </tr>\n",
       "  </tbody>\n",
       "</table>\n",
       "<p>10000 rows × 9 columns</p>\n",
       "</div>"
      ],
      "text/plain": [
       "      product_id        product_name   category  supplier_id  unit_cost        status                        brand  list_price  avg_markup_ratio\n",
       "0              1          use_bakery     bakery         1664       4.58        active                warren_foster        5.99           1.30786\n",
       "1              2  thank_frozen_foods      dairy         1662       5.43   backordered               evans_and_sons        7.03          1.455065\n",
       "2              3    customer_produce  beverages          917       1.83   backordered              newman_and_sons        2.73          1.491803\n",
       "3              4          sign_dairy    produce          268       8.99        active            mclaughlin_little       14.17          1.576196\n",
       "4              5  place_frozen_foods     bakery          964       73.3   backordered   leblanc_james_and_thompson       11.08           0.15116\n",
       "...          ...                 ...        ...          ...        ...           ...                          ...         ...               ...\n",
       "9995        9996    financial_bakery     snacks         1581       5.93   backordered                   sparks_llc        7.40          1.247892\n",
       "9996        9997     hospital_bakery    produce         1426      15.42  discontinued                   butler_inc       18.92          1.226978\n",
       "9997        9998       travel_bakery    produce           31      13.28   backordered                  carr_larson       23.15          1.581158\n",
       "9998        9999        learn_bakery     bakery          987      18.32        active             turner_rodriguez       22.50          1.228166\n",
       "9999       10000   everything_bakery     snacks         1127      18.24        active  zimmerman_hoffman_and_burns       31.50          1.726974\n",
       "\n",
       "[10000 rows x 9 columns]"
      ]
     },
     "execution_count": 75,
     "metadata": {},
     "output_type": "execute_result"
    }
   ],
   "source": [
    "df_products = df_products.merge(df_markup_by_group, how='left', on=['product_name', 'category'])\n",
    "df_products"
   ]
  },
  {
   "cell_type": "code",
   "execution_count": 76,
   "id": "e41fa8f0",
   "metadata": {},
   "outputs": [
    {
     "data": {
      "application/vnd.microsoft.datawrangler.viewer.v0+json": {
       "columns": [
        {
         "name": "index",
         "rawType": "int64",
         "type": "integer"
        },
        {
         "name": "product_id",
         "rawType": "int64",
         "type": "integer"
        },
        {
         "name": "product_name",
         "rawType": "string",
         "type": "string"
        },
        {
         "name": "category",
         "rawType": "category",
         "type": "unknown"
        },
        {
         "name": "supplier_id",
         "rawType": "int64",
         "type": "integer"
        },
        {
         "name": "unit_cost",
         "rawType": "object",
         "type": "unknown"
        },
        {
         "name": "status",
         "rawType": "category",
         "type": "unknown"
        },
        {
         "name": "brand",
         "rawType": "string",
         "type": "string"
        },
        {
         "name": "list_price",
         "rawType": "float64",
         "type": "float"
        }
       ],
       "ref": "e9a8ea31-0b8b-45b8-8909-0d6a3a3da7a9",
       "rows": [
        [
         "0",
         "1",
         "use_bakery",
         "bakery",
         "1664",
         "4.58",
         "active",
         "warren_foster",
         "5.99"
        ],
        [
         "1",
         "2",
         "thank_frozen_foods",
         "dairy",
         "1662",
         "5.43",
         "backordered",
         "evans_and_sons",
         "7.03"
        ],
        [
         "2",
         "3",
         "customer_produce",
         "beverages",
         "917",
         "1.83",
         "backordered",
         "newman_and_sons",
         "2.73"
        ],
        [
         "3",
         "4",
         "sign_dairy",
         "produce",
         "268",
         "8.99",
         "active",
         "mclaughlin_little",
         "14.17"
        ],
        [
         "4",
         "5",
         "place_frozen_foods",
         "bakery",
         "964",
         "73.3",
         "backordered",
         "leblanc_james_and_thompson",
         "11.08"
        ],
        [
         "5",
         "6",
         "voice_produce",
         "beverages",
         "169",
         "15.16",
         "backordered",
         "howard_jones_and_ashley",
         "18.28"
        ],
        [
         "6",
         "7",
         "home_produce",
         "bakery",
         "911",
         null,
         "backordered",
         null,
         "2.98"
        ],
        [
         "7",
         "8",
         "care_dairy",
         "beverages",
         "1628",
         "18.64",
         "active",
         null,
         "26.67"
        ],
        [
         "8",
         "9",
         "add_bakery",
         "snacks",
         "1115",
         "14.86",
         "backordered",
         "johnston_gross_and_ellis",
         "22.15"
        ],
        [
         "9",
         "10",
         "tell_snacks",
         "snacks",
         "938",
         "12.9",
         "backordered",
         "edwards_horne_and_soto",
         "21.07"
        ],
        [
         "10",
         "11",
         "mention_produce",
         "frozen_foods",
         "1701",
         "14.25",
         "discontinued",
         "fowler_llc",
         "20.19"
        ],
        [
         "11",
         "12",
         "least_produce",
         "produce",
         "209",
         "7.91",
         "backordered",
         "garcia_williams",
         "12.59"
        ],
        [
         "12",
         "13",
         "situation_dairy",
         "frozen_foods",
         "818",
         "6.5",
         "active",
         "washington_inc",
         "10.9"
        ],
        [
         "13",
         "14",
         "parent_snacks",
         "beverages",
         "441",
         "13.88",
         "active",
         "villanueva_williams_and_green",
         "18.7"
        ],
        [
         "14",
         "15",
         "party_dairy",
         "snacks",
         "1696",
         "13.16",
         "active",
         "ramos_inc",
         "19.24"
        ],
        [
         "15",
         "16",
         "you_bakery",
         "snacks",
         "261",
         "9.42",
         "active",
         "king_lewis_and_edwards",
         "12.34"
        ],
        [
         "16",
         "17",
         "reason_snacks",
         "frozen_foods",
         "942",
         "16.09",
         "discontinued",
         "kidd_oliver_and_williams",
         "22.9"
        ],
        [
         "17",
         "18",
         "since_beverages",
         "frozen_foods",
         "396",
         "4.21",
         "active",
         "grant_franklin",
         "6.95"
        ],
        [
         "18",
         "19",
         "mouth_produce",
         "beverages",
         "1810",
         "5.77",
         "discontinued",
         "garcia_goodman_and_weaver",
         "7.3"
        ],
        [
         "19",
         "20",
         "movement_snacks",
         "snacks",
         "1098",
         null,
         "backordered",
         "west_christensen",
         "13.46"
        ],
        [
         "20",
         "21",
         "get_snacks",
         "beverages",
         "1150",
         "12.16",
         "backordered",
         null,
         "15.5"
        ],
        [
         "21",
         "22",
         "break_beverages",
         "dairy",
         "1204",
         "6.99",
         "discontinued",
         "collins_wells_and_christian",
         "8.92"
        ],
        [
         "22",
         "23",
         "popular_produce",
         "bakery",
         "762",
         "6.15",
         "backordered",
         null,
         "10.04"
        ],
        [
         "23",
         "24",
         "idea_beverages",
         "dairy",
         "782",
         "7.82",
         "active",
         "smith_plc",
         "13.87"
        ],
        [
         "24",
         "25",
         "add_frozen_foods",
         "bakery",
         "769",
         null,
         "discontinued",
         "cooke_hayes_and_olson",
         "14.68"
        ],
        [
         "25",
         "26",
         "finish_beverages",
         "produce",
         "1869",
         "8.69",
         "discontinued",
         "hernandez_and_sons",
         "10.78"
        ],
        [
         "26",
         "27",
         "school_frozen_foods",
         "produce",
         "1913",
         "9.68",
         "backordered",
         "johnson_llc",
         "14.58"
        ],
        [
         "27",
         "28",
         "time_frozen_foods",
         "snacks",
         "59",
         "18.75",
         "active",
         null,
         "31.21"
        ],
        [
         "28",
         "29",
         "yourself_beverages",
         "bakery",
         "163",
         "2.14",
         "backordered",
         "ortega_group",
         "3.47"
        ],
        [
         "29",
         "30",
         "fast_snacks",
         "bakery",
         "1508",
         "17.15",
         "discontinued",
         "perez_wong_and_smith",
         "29.94"
        ],
        [
         "30",
         "31",
         "maybe_snacks",
         "frozen_foods",
         "1050",
         "13.25",
         "backordered",
         "howell_mitchell",
         "19.58"
        ],
        [
         "31",
         "32",
         "music_snacks",
         "bakery",
         "1141",
         "16.39",
         "active",
         "valdez_and_sons",
         "26.44"
        ],
        [
         "32",
         "33",
         "police_bakery",
         "dairy",
         "1964",
         "17.39",
         "backordered",
         "saunders_ltd",
         "26.87"
        ],
        [
         "33",
         "34",
         "use_beverages",
         "dairy",
         "1665",
         "12.89",
         "active",
         "dominguez_pena_and_osborne",
         "22.03"
        ],
        [
         "34",
         "35",
         "color_dairy",
         "dairy",
         "229",
         "3.42",
         "backordered",
         "watts_schroeder",
         "4.13"
        ],
        [
         "35",
         "36",
         "little_bakery",
         "bakery",
         "647",
         "15.82",
         "active",
         "taylor_thomas",
         "24.16"
        ],
        [
         "36",
         "37",
         "minute_frozen_foods",
         "beverages",
         "630",
         "9.61",
         "active",
         "rivera_inc",
         "15.11"
        ],
        [
         "37",
         "38",
         "certainly_beverages",
         "bakery",
         "1298",
         "3.43",
         "active",
         "garcia_plc",
         "4.33"
        ],
        [
         "38",
         "39",
         "why_produce",
         "dairy",
         "1631",
         "7.08",
         "active",
         "jackson_cain_and_garcia",
         "9.1"
        ],
        [
         "39",
         "40",
         "benefit_frozen_foods",
         "beverages",
         "23",
         "17.46",
         "active",
         "joyce_le_and_wallace",
         "31.28"
        ],
        [
         "40",
         "41",
         "item_dairy",
         "dairy",
         "10",
         "2.87",
         "backordered",
         "carroll_aguilar_and_richardson",
         "4.62"
        ],
        [
         "41",
         "42",
         "success_produce",
         "bakery",
         "975",
         "12.44",
         "backordered",
         "brown_duke",
         "16.39"
        ],
        [
         "42",
         "43",
         "maintain_frozen_foods",
         "dairy",
         "357",
         null,
         "backordered",
         "byrd_hayden_and_cunningham",
         "23.52"
        ],
        [
         "43",
         "44",
         "top_produce",
         "bakery",
         "1464",
         "3.92",
         "backordered",
         "mills_llc",
         "6.94"
        ],
        [
         "44",
         "45",
         "public_bakery",
         "snacks",
         "606",
         "8.35",
         "discontinued",
         "stone_boyd_and_wilson",
         "10.46"
        ],
        [
         "45",
         "46",
         "fact_produce",
         "produce",
         "1857",
         "4.15",
         "backordered",
         "lopez_llc",
         "6.93"
        ],
        [
         "46",
         "47",
         "into_bakery",
         "beverages",
         "1775",
         "10.1",
         "discontinued",
         "johnson_heath",
         "16.95"
        ],
        [
         "47",
         "48",
         "director_snacks",
         "produce",
         "162",
         "5.2",
         "backordered",
         "ray_brown_and_lang",
         "6.29"
        ],
        [
         "48",
         "49",
         "it_produce",
         "frozen_foods",
         "435",
         "19.18",
         "discontinued",
         "shelton_morales",
         "24.72"
        ],
        [
         "49",
         "50",
         "away_dairy",
         "bakery",
         "196",
         "7.7",
         "active",
         "valencia_smith",
         "12.82"
        ]
       ],
       "shape": {
        "columns": 8,
        "rows": 10000
       }
      },
      "text/html": [
       "<div>\n",
       "<style scoped>\n",
       "    .dataframe tbody tr th:only-of-type {\n",
       "        vertical-align: middle;\n",
       "    }\n",
       "\n",
       "    .dataframe tbody tr th {\n",
       "        vertical-align: top;\n",
       "    }\n",
       "\n",
       "    .dataframe thead th {\n",
       "        text-align: right;\n",
       "    }\n",
       "</style>\n",
       "<table border=\"1\" class=\"dataframe\">\n",
       "  <thead>\n",
       "    <tr style=\"text-align: right;\">\n",
       "      <th></th>\n",
       "      <th>product_id</th>\n",
       "      <th>product_name</th>\n",
       "      <th>category</th>\n",
       "      <th>supplier_id</th>\n",
       "      <th>unit_cost</th>\n",
       "      <th>status</th>\n",
       "      <th>brand</th>\n",
       "      <th>list_price</th>\n",
       "    </tr>\n",
       "  </thead>\n",
       "  <tbody>\n",
       "    <tr>\n",
       "      <th>0</th>\n",
       "      <td>1</td>\n",
       "      <td>use_bakery</td>\n",
       "      <td>bakery</td>\n",
       "      <td>1664</td>\n",
       "      <td>4.58</td>\n",
       "      <td>active</td>\n",
       "      <td>warren_foster</td>\n",
       "      <td>5.99</td>\n",
       "    </tr>\n",
       "    <tr>\n",
       "      <th>1</th>\n",
       "      <td>2</td>\n",
       "      <td>thank_frozen_foods</td>\n",
       "      <td>dairy</td>\n",
       "      <td>1662</td>\n",
       "      <td>5.43</td>\n",
       "      <td>backordered</td>\n",
       "      <td>evans_and_sons</td>\n",
       "      <td>7.03</td>\n",
       "    </tr>\n",
       "    <tr>\n",
       "      <th>2</th>\n",
       "      <td>3</td>\n",
       "      <td>customer_produce</td>\n",
       "      <td>beverages</td>\n",
       "      <td>917</td>\n",
       "      <td>1.83</td>\n",
       "      <td>backordered</td>\n",
       "      <td>newman_and_sons</td>\n",
       "      <td>2.73</td>\n",
       "    </tr>\n",
       "    <tr>\n",
       "      <th>3</th>\n",
       "      <td>4</td>\n",
       "      <td>sign_dairy</td>\n",
       "      <td>produce</td>\n",
       "      <td>268</td>\n",
       "      <td>8.99</td>\n",
       "      <td>active</td>\n",
       "      <td>mclaughlin_little</td>\n",
       "      <td>14.17</td>\n",
       "    </tr>\n",
       "    <tr>\n",
       "      <th>4</th>\n",
       "      <td>5</td>\n",
       "      <td>place_frozen_foods</td>\n",
       "      <td>bakery</td>\n",
       "      <td>964</td>\n",
       "      <td>73.3</td>\n",
       "      <td>backordered</td>\n",
       "      <td>leblanc_james_and_thompson</td>\n",
       "      <td>11.08</td>\n",
       "    </tr>\n",
       "    <tr>\n",
       "      <th>...</th>\n",
       "      <td>...</td>\n",
       "      <td>...</td>\n",
       "      <td>...</td>\n",
       "      <td>...</td>\n",
       "      <td>...</td>\n",
       "      <td>...</td>\n",
       "      <td>...</td>\n",
       "      <td>...</td>\n",
       "    </tr>\n",
       "    <tr>\n",
       "      <th>9995</th>\n",
       "      <td>9996</td>\n",
       "      <td>financial_bakery</td>\n",
       "      <td>snacks</td>\n",
       "      <td>1581</td>\n",
       "      <td>5.93</td>\n",
       "      <td>backordered</td>\n",
       "      <td>sparks_llc</td>\n",
       "      <td>7.40</td>\n",
       "    </tr>\n",
       "    <tr>\n",
       "      <th>9996</th>\n",
       "      <td>9997</td>\n",
       "      <td>hospital_bakery</td>\n",
       "      <td>produce</td>\n",
       "      <td>1426</td>\n",
       "      <td>15.42</td>\n",
       "      <td>discontinued</td>\n",
       "      <td>butler_inc</td>\n",
       "      <td>18.92</td>\n",
       "    </tr>\n",
       "    <tr>\n",
       "      <th>9997</th>\n",
       "      <td>9998</td>\n",
       "      <td>travel_bakery</td>\n",
       "      <td>produce</td>\n",
       "      <td>31</td>\n",
       "      <td>13.28</td>\n",
       "      <td>backordered</td>\n",
       "      <td>carr_larson</td>\n",
       "      <td>23.15</td>\n",
       "    </tr>\n",
       "    <tr>\n",
       "      <th>9998</th>\n",
       "      <td>9999</td>\n",
       "      <td>learn_bakery</td>\n",
       "      <td>bakery</td>\n",
       "      <td>987</td>\n",
       "      <td>18.32</td>\n",
       "      <td>active</td>\n",
       "      <td>turner_rodriguez</td>\n",
       "      <td>22.50</td>\n",
       "    </tr>\n",
       "    <tr>\n",
       "      <th>9999</th>\n",
       "      <td>10000</td>\n",
       "      <td>everything_bakery</td>\n",
       "      <td>snacks</td>\n",
       "      <td>1127</td>\n",
       "      <td>18.24</td>\n",
       "      <td>active</td>\n",
       "      <td>zimmerman_hoffman_and_burns</td>\n",
       "      <td>31.50</td>\n",
       "    </tr>\n",
       "  </tbody>\n",
       "</table>\n",
       "<p>10000 rows × 8 columns</p>\n",
       "</div>"
      ],
      "text/plain": [
       "      product_id        product_name   category  supplier_id unit_cost        status                        brand  list_price\n",
       "0              1          use_bakery     bakery         1664      4.58        active                warren_foster        5.99\n",
       "1              2  thank_frozen_foods      dairy         1662      5.43   backordered               evans_and_sons        7.03\n",
       "2              3    customer_produce  beverages          917      1.83   backordered              newman_and_sons        2.73\n",
       "3              4          sign_dairy    produce          268      8.99        active            mclaughlin_little       14.17\n",
       "4              5  place_frozen_foods     bakery          964      73.3   backordered   leblanc_james_and_thompson       11.08\n",
       "...          ...                 ...        ...          ...       ...           ...                          ...         ...\n",
       "9995        9996    financial_bakery     snacks         1581      5.93   backordered                   sparks_llc        7.40\n",
       "9996        9997     hospital_bakery    produce         1426     15.42  discontinued                   butler_inc       18.92\n",
       "9997        9998       travel_bakery    produce           31     13.28   backordered                  carr_larson       23.15\n",
       "9998        9999        learn_bakery     bakery          987     18.32        active             turner_rodriguez       22.50\n",
       "9999       10000   everything_bakery     snacks         1127     18.24        active  zimmerman_hoffman_and_burns       31.50\n",
       "\n",
       "[10000 rows x 8 columns]"
      ]
     },
     "execution_count": 76,
     "metadata": {},
     "output_type": "execute_result"
    }
   ],
   "source": [
    "df_products['unit_cost'] = df_products.apply(lambda row: row['list_price'] / row['avg_markup_ratio'] if pd.isna(row['unit_cost']) and \n",
    "                                             pd.notna(row['list_price']) and pd.notna(row['avg_markup_ratio']) else row['unit_cost'],\n",
    "                                             axis=1)\n",
    "df_products = df_products.drop(columns='avg_markup_ratio')\n",
    "df_products"
   ]
  },
  {
   "cell_type": "code",
   "execution_count": 77,
   "id": "f76fddfd",
   "metadata": {},
   "outputs": [
    {
     "data": {
      "application/vnd.microsoft.datawrangler.viewer.v0+json": {
       "columns": [
        {
         "name": "index",
         "rawType": "int64",
         "type": "integer"
        },
        {
         "name": "category",
         "rawType": "category",
         "type": "unknown"
        },
        {
         "name": "brand",
         "rawType": "string",
         "type": "string"
        },
        {
         "name": "avg_markup_ratio",
         "rawType": "Float64",
         "type": "float"
        }
       ],
       "ref": "0932b708-ded7-433f-baa8-f997902d657b",
       "rows": [
        [
         "0",
         "bakery",
         "abbott_ltd",
         "1.6224242424242423"
        ],
        [
         "1",
         "bakery",
         "abbott_martin_and_mcgee",
         "1.6926253687315636"
        ],
        [
         "2",
         "bakery",
         "adams_gonzalez",
         "1.4440534834623504"
        ],
        [
         "3",
         "bakery",
         "adams_jackson",
         "1.2732510288065844"
        ],
        [
         "4",
         "bakery",
         "adams_llc",
         "1.7"
        ],
        [
         "5",
         "bakery",
         "aguilar_gill_and_schwartz",
         "1.6469945355191256"
        ],
        [
         "6",
         "bakery",
         "aguirre_group",
         "1.6582278481012658"
        ],
        [
         "7",
         "bakery",
         "aguirre_miller",
         "1.225108225108225"
        ],
        [
         "8",
         "bakery",
         "alexander_ltd",
         "1.3821989528795813"
        ],
        [
         "9",
         "bakery",
         "alexander_mueller_and_gutierrez",
         "1.5466666666666666"
        ],
        [
         "10",
         "bakery",
         "alexander_richardson",
         "1.3917748917748918"
        ],
        [
         "11",
         "bakery",
         "ali_hanna_and_davis",
         "1.6129032258064517"
        ],
        [
         "12",
         "bakery",
         "allen_brown",
         "1.7920792079207923"
        ],
        [
         "13",
         "bakery",
         "allen_fitzgerald_and_webster",
         "1.6221079691516709"
        ],
        [
         "14",
         "bakery",
         "allen_jackson",
         "1.5448521916411824"
        ],
        [
         "15",
         "bakery",
         "allen_ltd",
         "1.7300916138125442"
        ],
        [
         "16",
         "bakery",
         "allison_blackwell",
         "1.3800223214285714"
        ],
        [
         "17",
         "bakery",
         "allison_ortega",
         "1.229251012145749"
        ],
        [
         "18",
         "bakery",
         "anderson_davis",
         "1.5461847389558232"
        ],
        [
         "19",
         "bakery",
         "anderson_flores_and_stuart",
         "1.7259158751696067"
        ],
        [
         "20",
         "bakery",
         "anderson_group",
         "1.3752591568762955"
        ],
        [
         "21",
         "bakery",
         "anderson_hardy",
         "1.2446633825944171"
        ],
        [
         "22",
         "bakery",
         "anderson_hayes_and_potter",
         "1.3553065260382333"
        ],
        [
         "23",
         "bakery",
         "anderson_kelley_and_woods",
         "1.5776699029126213"
        ],
        [
         "24",
         "bakery",
         "anderson_wood_and_lawrence",
         "1.4186046511627908"
        ],
        [
         "25",
         "bakery",
         "andrews_and_sons",
         "1.318407960199005"
        ],
        [
         "26",
         "bakery",
         "andrews_boone",
         "1.5333333333333334"
        ],
        [
         "27",
         "bakery",
         "anthony_rodriguez_and_hunter",
         "1.5392156862745099"
        ],
        [
         "28",
         "bakery",
         "archer_inc",
         "1.2891566265060241"
        ],
        [
         "29",
         "bakery",
         "arias_group",
         "1.5067650676506763"
        ],
        [
         "30",
         "bakery",
         "arias_plc",
         "1.6929460580912863"
        ],
        [
         "31",
         "bakery",
         "armstrong_gordon",
         "1.6662428480610298"
        ],
        [
         "32",
         "bakery",
         "arnold_llc",
         "1.3781138790035588"
        ],
        [
         "33",
         "bakery",
         "arnold_porter_and_acosta",
         "1.4588628762541807"
        ],
        [
         "34",
         "bakery",
         "arnold_reynolds_and_farmer",
         "1.5476923076923077"
        ],
        [
         "35",
         "bakery",
         "arnold_rollins",
         "1.518305439330544"
        ],
        [
         "36",
         "bakery",
         "arroyo_klein_and_kerr",
         "1.602958579881657"
        ],
        [
         "37",
         "bakery",
         "avila_johnson",
         "1.4333333333333333"
        ],
        [
         "38",
         "bakery",
         "ayala_maldonado",
         "1.6144890038809832"
        ],
        [
         "39",
         "bakery",
         "bailey_plc",
         "1.2893685051958432"
        ],
        [
         "40",
         "bakery",
         "bailey_rivera_and_cruz",
         "1.2888888888888888"
        ],
        [
         "41",
         "bakery",
         "bailey_simpson",
         "1.3388773388773392"
        ],
        [
         "42",
         "bakery",
         "baker_llc",
         "1.5125173852573017"
        ],
        [
         "43",
         "bakery",
         "baker_taylor_and_miranda",
         "1.3557483731019522"
        ],
        [
         "44",
         "bakery",
         "barber_plc",
         "1.4115755627009645"
        ],
        [
         "45",
         "bakery",
         "barnes_baker_and_vaughan",
         "1.3901639344262298"
        ],
        [
         "46",
         "bakery",
         "barnes_campos",
         "1.6512365250475587"
        ],
        [
         "47",
         "bakery",
         "barnett_and_sons",
         "1.4096385542168675"
        ],
        [
         "48",
         "bakery",
         "barnett_group",
         "1.6156558533145275"
        ],
        [
         "49",
         "bakery",
         "barnett_robertson",
         "1.5238406270411493"
        ]
       ],
       "shape": {
        "columns": 3,
        "rows": 8679
       }
      },
      "text/html": [
       "<div>\n",
       "<style scoped>\n",
       "    .dataframe tbody tr th:only-of-type {\n",
       "        vertical-align: middle;\n",
       "    }\n",
       "\n",
       "    .dataframe tbody tr th {\n",
       "        vertical-align: top;\n",
       "    }\n",
       "\n",
       "    .dataframe thead th {\n",
       "        text-align: right;\n",
       "    }\n",
       "</style>\n",
       "<table border=\"1\" class=\"dataframe\">\n",
       "  <thead>\n",
       "    <tr style=\"text-align: right;\">\n",
       "      <th></th>\n",
       "      <th>category</th>\n",
       "      <th>brand</th>\n",
       "      <th>avg_markup_ratio</th>\n",
       "    </tr>\n",
       "  </thead>\n",
       "  <tbody>\n",
       "    <tr>\n",
       "      <th>0</th>\n",
       "      <td>bakery</td>\n",
       "      <td>abbott_ltd</td>\n",
       "      <td>1.622424</td>\n",
       "    </tr>\n",
       "    <tr>\n",
       "      <th>1</th>\n",
       "      <td>bakery</td>\n",
       "      <td>abbott_martin_and_mcgee</td>\n",
       "      <td>1.692625</td>\n",
       "    </tr>\n",
       "    <tr>\n",
       "      <th>2</th>\n",
       "      <td>bakery</td>\n",
       "      <td>adams_gonzalez</td>\n",
       "      <td>1.444053</td>\n",
       "    </tr>\n",
       "    <tr>\n",
       "      <th>3</th>\n",
       "      <td>bakery</td>\n",
       "      <td>adams_jackson</td>\n",
       "      <td>1.273251</td>\n",
       "    </tr>\n",
       "    <tr>\n",
       "      <th>4</th>\n",
       "      <td>bakery</td>\n",
       "      <td>adams_llc</td>\n",
       "      <td>1.7</td>\n",
       "    </tr>\n",
       "    <tr>\n",
       "      <th>...</th>\n",
       "      <td>...</td>\n",
       "      <td>...</td>\n",
       "      <td>...</td>\n",
       "    </tr>\n",
       "    <tr>\n",
       "      <th>8674</th>\n",
       "      <td>snacks</td>\n",
       "      <td>young_schneider</td>\n",
       "      <td>1.775814</td>\n",
       "    </tr>\n",
       "    <tr>\n",
       "      <th>8675</th>\n",
       "      <td>snacks</td>\n",
       "      <td>young_wheeler</td>\n",
       "      <td>1.378731</td>\n",
       "    </tr>\n",
       "    <tr>\n",
       "      <th>8676</th>\n",
       "      <td>snacks</td>\n",
       "      <td>zavala_brewer_and_watkins</td>\n",
       "      <td>1.639012</td>\n",
       "    </tr>\n",
       "    <tr>\n",
       "      <th>8677</th>\n",
       "      <td>snacks</td>\n",
       "      <td>zavala_kidd_and_berg</td>\n",
       "      <td>1.456583</td>\n",
       "    </tr>\n",
       "    <tr>\n",
       "      <th>8678</th>\n",
       "      <td>snacks</td>\n",
       "      <td>zimmerman_hoffman_and_burns</td>\n",
       "      <td>1.726974</td>\n",
       "    </tr>\n",
       "  </tbody>\n",
       "</table>\n",
       "<p>8679 rows × 3 columns</p>\n",
       "</div>"
      ],
      "text/plain": [
       "     category                        brand  avg_markup_ratio\n",
       "0      bakery                   abbott_ltd          1.622424\n",
       "1      bakery      abbott_martin_and_mcgee          1.692625\n",
       "2      bakery               adams_gonzalez          1.444053\n",
       "3      bakery                adams_jackson          1.273251\n",
       "4      bakery                    adams_llc               1.7\n",
       "...       ...                          ...               ...\n",
       "8674   snacks              young_schneider          1.775814\n",
       "8675   snacks                young_wheeler          1.378731\n",
       "8676   snacks    zavala_brewer_and_watkins          1.639012\n",
       "8677   snacks         zavala_kidd_and_berg          1.456583\n",
       "8678   snacks  zimmerman_hoffman_and_burns          1.726974\n",
       "\n",
       "[8679 rows x 3 columns]"
      ]
     },
     "execution_count": 77,
     "metadata": {},
     "output_type": "execute_result"
    }
   ],
   "source": [
    "# Stratification by key product characteristics: 'category' and 'brand'.\n",
    "df_markup_by_group = (df_uc_imp.groupby(['category', 'brand'], observed=True)['markup_ratio'].mean()\n",
    "                      .reset_index(name='avg_markup_ratio'))\n",
    "df_markup_by_group"
   ]
  },
  {
   "cell_type": "code",
   "execution_count": 78,
   "id": "cee60a79",
   "metadata": {},
   "outputs": [
    {
     "data": {
      "application/vnd.microsoft.datawrangler.viewer.v0+json": {
       "columns": [
        {
         "name": "index",
         "rawType": "int64",
         "type": "integer"
        },
        {
         "name": "product_id",
         "rawType": "int64",
         "type": "integer"
        },
        {
         "name": "product_name",
         "rawType": "string",
         "type": "string"
        },
        {
         "name": "category",
         "rawType": "category",
         "type": "unknown"
        },
        {
         "name": "supplier_id",
         "rawType": "int64",
         "type": "integer"
        },
        {
         "name": "unit_cost",
         "rawType": "object",
         "type": "unknown"
        },
        {
         "name": "status",
         "rawType": "category",
         "type": "unknown"
        },
        {
         "name": "brand",
         "rawType": "string",
         "type": "string"
        },
        {
         "name": "list_price",
         "rawType": "float64",
         "type": "float"
        },
        {
         "name": "avg_markup_ratio",
         "rawType": "Float64",
         "type": "float"
        }
       ],
       "ref": "d5f3efcf-f4e6-487e-b949-f44b12580ed5",
       "rows": [
        [
         "0",
         "1",
         "use_bakery",
         "bakery",
         "1664",
         "4.58",
         "active",
         "warren_foster",
         "5.99",
         "1.3078602620087336"
        ],
        [
         "1",
         "2",
         "thank_frozen_foods",
         "dairy",
         "1662",
         "5.43",
         "backordered",
         "evans_and_sons",
         "7.03",
         "1.2946593001841622"
        ],
        [
         "2",
         "3",
         "customer_produce",
         "beverages",
         "917",
         "1.83",
         "backordered",
         "newman_and_sons",
         "2.73",
         "1.4918032786885245"
        ],
        [
         "3",
         "4",
         "sign_dairy",
         "produce",
         "268",
         "8.99",
         "active",
         "mclaughlin_little",
         "14.17",
         "1.5761957730812013"
        ],
        [
         "4",
         "5",
         "place_frozen_foods",
         "bakery",
         "964",
         "73.3",
         "backordered",
         "leblanc_james_and_thompson",
         "11.08",
         "0.15115961800818556"
        ],
        [
         "5",
         "6",
         "voice_produce",
         "beverages",
         "169",
         "15.16",
         "backordered",
         "howard_jones_and_ashley",
         "18.28",
         "1.2058047493403694"
        ],
        [
         "6",
         "7",
         "home_produce",
         "bakery",
         "911",
         null,
         "backordered",
         null,
         "2.98",
         null
        ],
        [
         "7",
         "8",
         "care_dairy",
         "beverages",
         "1628",
         "18.64",
         "active",
         null,
         "26.67",
         null
        ],
        [
         "8",
         "9",
         "add_bakery",
         "snacks",
         "1115",
         "14.86",
         "backordered",
         "johnston_gross_and_ellis",
         "22.15",
         "1.490578734858681"
        ],
        [
         "9",
         "10",
         "tell_snacks",
         "snacks",
         "938",
         "12.9",
         "backordered",
         "edwards_horne_and_soto",
         "21.07",
         "1.6333333333333333"
        ],
        [
         "10",
         "11",
         "mention_produce",
         "frozen_foods",
         "1701",
         "14.25",
         "discontinued",
         "fowler_llc",
         "20.19",
         "1.416842105263158"
        ],
        [
         "11",
         "12",
         "least_produce",
         "produce",
         "209",
         "7.91",
         "backordered",
         "garcia_williams",
         "12.59",
         "1.5916561314791402"
        ],
        [
         "12",
         "13",
         "situation_dairy",
         "frozen_foods",
         "818",
         "6.5",
         "active",
         "washington_inc",
         "10.9",
         "1.676923076923077"
        ],
        [
         "13",
         "14",
         "parent_snacks",
         "beverages",
         "441",
         "13.88",
         "active",
         "villanueva_williams_and_green",
         "18.7",
         "1.3472622478386165"
        ],
        [
         "14",
         "15",
         "party_dairy",
         "snacks",
         "1696",
         "13.16",
         "active",
         "ramos_inc",
         "19.24",
         "1.4620060790273555"
        ],
        [
         "15",
         "16",
         "you_bakery",
         "snacks",
         "261",
         "9.42",
         "active",
         "king_lewis_and_edwards",
         "12.34",
         "1.3099787685774946"
        ],
        [
         "16",
         "17",
         "reason_snacks",
         "frozen_foods",
         "942",
         "16.09",
         "discontinued",
         "kidd_oliver_and_williams",
         "22.9",
         "1.423244251087632"
        ],
        [
         "17",
         "18",
         "since_beverages",
         "frozen_foods",
         "396",
         "4.21",
         "active",
         "grant_franklin",
         "6.95",
         "1.6508313539192399"
        ],
        [
         "18",
         "19",
         "mouth_produce",
         "beverages",
         "1810",
         "5.77",
         "discontinued",
         "garcia_goodman_and_weaver",
         "7.3",
         "1.2651646447140381"
        ],
        [
         "19",
         "20",
         "movement_snacks",
         "snacks",
         "1098",
         null,
         "backordered",
         "west_christensen",
         "13.46",
         null
        ],
        [
         "20",
         "21",
         "get_snacks",
         "beverages",
         "1150",
         "12.16",
         "backordered",
         null,
         "15.5",
         null
        ],
        [
         "21",
         "22",
         "break_beverages",
         "dairy",
         "1204",
         "6.99",
         "discontinued",
         "collins_wells_and_christian",
         "8.92",
         "1.2761087267525035"
        ],
        [
         "22",
         "23",
         "popular_produce",
         "bakery",
         "762",
         "6.15",
         "backordered",
         null,
         "10.04",
         null
        ],
        [
         "23",
         "24",
         "idea_beverages",
         "dairy",
         "782",
         "7.82",
         "active",
         "smith_plc",
         "13.87",
         "1.6767769789223637"
        ],
        [
         "24",
         "25",
         "add_frozen_foods",
         "bakery",
         "769",
         null,
         "discontinued",
         "cooke_hayes_and_olson",
         "14.68",
         null
        ],
        [
         "25",
         "26",
         "finish_beverages",
         "produce",
         "1869",
         "8.69",
         "discontinued",
         "hernandez_and_sons",
         "10.78",
         "1.240506329113924"
        ],
        [
         "26",
         "27",
         "school_frozen_foods",
         "produce",
         "1913",
         "9.68",
         "backordered",
         "johnson_llc",
         "14.58",
         "1.6323398843776284"
        ],
        [
         "27",
         "28",
         "time_frozen_foods",
         "snacks",
         "59",
         "18.75",
         "active",
         null,
         "31.21",
         null
        ],
        [
         "28",
         "29",
         "yourself_beverages",
         "bakery",
         "163",
         "2.14",
         "backordered",
         "ortega_group",
         "3.47",
         "1.6214953271028036"
        ],
        [
         "29",
         "30",
         "fast_snacks",
         "bakery",
         "1508",
         "17.15",
         "discontinued",
         "perez_wong_and_smith",
         "29.94",
         "1.7457725947521867"
        ],
        [
         "30",
         "31",
         "maybe_snacks",
         "frozen_foods",
         "1050",
         "13.25",
         "backordered",
         "howell_mitchell",
         "19.58",
         "1.4777358490566037"
        ],
        [
         "31",
         "32",
         "music_snacks",
         "bakery",
         "1141",
         "16.39",
         "active",
         "valdez_and_sons",
         "26.44",
         "1.6131787675411837"
        ],
        [
         "32",
         "33",
         "police_bakery",
         "dairy",
         "1964",
         "17.39",
         "backordered",
         "saunders_ltd",
         "26.87",
         "1.5451408855664175"
        ],
        [
         "33",
         "34",
         "use_beverages",
         "dairy",
         "1665",
         "12.89",
         "active",
         "dominguez_pena_and_osborne",
         "22.03",
         "1.7090768037238169"
        ],
        [
         "34",
         "35",
         "color_dairy",
         "dairy",
         "229",
         "3.42",
         "backordered",
         "watts_schroeder",
         "4.13",
         "1.2076023391812865"
        ],
        [
         "35",
         "36",
         "little_bakery",
         "bakery",
         "647",
         "15.82",
         "active",
         "taylor_thomas",
         "24.16",
         "1.5271807838179519"
        ],
        [
         "36",
         "37",
         "minute_frozen_foods",
         "beverages",
         "630",
         "9.61",
         "active",
         "rivera_inc",
         "15.11",
         "1.5723204994797086"
        ],
        [
         "37",
         "38",
         "certainly_beverages",
         "bakery",
         "1298",
         "3.43",
         "active",
         "garcia_plc",
         "4.33",
         "1.2623906705539358"
        ],
        [
         "38",
         "39",
         "why_produce",
         "dairy",
         "1631",
         "7.08",
         "active",
         "jackson_cain_and_garcia",
         "9.1",
         "1.2853107344632768"
        ],
        [
         "39",
         "40",
         "benefit_frozen_foods",
         "beverages",
         "23",
         "17.46",
         "active",
         "joyce_le_and_wallace",
         "31.28",
         "1.7915234822451318"
        ],
        [
         "40",
         "41",
         "item_dairy",
         "dairy",
         "10",
         "2.87",
         "backordered",
         "carroll_aguilar_and_richardson",
         "4.62",
         "1.6097560975609755"
        ],
        [
         "41",
         "42",
         "success_produce",
         "bakery",
         "975",
         "12.44",
         "backordered",
         "brown_duke",
         "16.39",
         "1.317524115755627"
        ],
        [
         "42",
         "43",
         "maintain_frozen_foods",
         "dairy",
         "357",
         null,
         "backordered",
         "byrd_hayden_and_cunningham",
         "23.52",
         null
        ],
        [
         "43",
         "44",
         "top_produce",
         "bakery",
         "1464",
         "3.92",
         "backordered",
         "mills_llc",
         "6.94",
         "1.7704081632653061"
        ],
        [
         "44",
         "45",
         "public_bakery",
         "snacks",
         "606",
         "8.35",
         "discontinued",
         "stone_boyd_and_wilson",
         "10.46",
         "1.2526946107784434"
        ],
        [
         "45",
         "46",
         "fact_produce",
         "produce",
         "1857",
         "4.15",
         "backordered",
         "lopez_llc",
         "6.93",
         "1.4663123080557523"
        ],
        [
         "46",
         "47",
         "into_bakery",
         "beverages",
         "1775",
         "10.1",
         "discontinued",
         "johnson_heath",
         "16.95",
         "1.6782178217821782"
        ],
        [
         "47",
         "48",
         "director_snacks",
         "produce",
         "162",
         "5.2",
         "backordered",
         "ray_brown_and_lang",
         "6.29",
         "1.2096153846153845"
        ],
        [
         "48",
         "49",
         "it_produce",
         "frozen_foods",
         "435",
         "19.18",
         "discontinued",
         "shelton_morales",
         "24.72",
         "1.2888425443169969"
        ],
        [
         "49",
         "50",
         "away_dairy",
         "bakery",
         "196",
         "7.7",
         "active",
         "valencia_smith",
         "12.82",
         "1.664935064935065"
        ]
       ],
       "shape": {
        "columns": 9,
        "rows": 10000
       }
      },
      "text/html": [
       "<div>\n",
       "<style scoped>\n",
       "    .dataframe tbody tr th:only-of-type {\n",
       "        vertical-align: middle;\n",
       "    }\n",
       "\n",
       "    .dataframe tbody tr th {\n",
       "        vertical-align: top;\n",
       "    }\n",
       "\n",
       "    .dataframe thead th {\n",
       "        text-align: right;\n",
       "    }\n",
       "</style>\n",
       "<table border=\"1\" class=\"dataframe\">\n",
       "  <thead>\n",
       "    <tr style=\"text-align: right;\">\n",
       "      <th></th>\n",
       "      <th>product_id</th>\n",
       "      <th>product_name</th>\n",
       "      <th>category</th>\n",
       "      <th>supplier_id</th>\n",
       "      <th>unit_cost</th>\n",
       "      <th>status</th>\n",
       "      <th>brand</th>\n",
       "      <th>list_price</th>\n",
       "      <th>avg_markup_ratio</th>\n",
       "    </tr>\n",
       "  </thead>\n",
       "  <tbody>\n",
       "    <tr>\n",
       "      <th>0</th>\n",
       "      <td>1</td>\n",
       "      <td>use_bakery</td>\n",
       "      <td>bakery</td>\n",
       "      <td>1664</td>\n",
       "      <td>4.58</td>\n",
       "      <td>active</td>\n",
       "      <td>warren_foster</td>\n",
       "      <td>5.99</td>\n",
       "      <td>1.30786</td>\n",
       "    </tr>\n",
       "    <tr>\n",
       "      <th>1</th>\n",
       "      <td>2</td>\n",
       "      <td>thank_frozen_foods</td>\n",
       "      <td>dairy</td>\n",
       "      <td>1662</td>\n",
       "      <td>5.43</td>\n",
       "      <td>backordered</td>\n",
       "      <td>evans_and_sons</td>\n",
       "      <td>7.03</td>\n",
       "      <td>1.294659</td>\n",
       "    </tr>\n",
       "    <tr>\n",
       "      <th>2</th>\n",
       "      <td>3</td>\n",
       "      <td>customer_produce</td>\n",
       "      <td>beverages</td>\n",
       "      <td>917</td>\n",
       "      <td>1.83</td>\n",
       "      <td>backordered</td>\n",
       "      <td>newman_and_sons</td>\n",
       "      <td>2.73</td>\n",
       "      <td>1.491803</td>\n",
       "    </tr>\n",
       "    <tr>\n",
       "      <th>3</th>\n",
       "      <td>4</td>\n",
       "      <td>sign_dairy</td>\n",
       "      <td>produce</td>\n",
       "      <td>268</td>\n",
       "      <td>8.99</td>\n",
       "      <td>active</td>\n",
       "      <td>mclaughlin_little</td>\n",
       "      <td>14.17</td>\n",
       "      <td>1.576196</td>\n",
       "    </tr>\n",
       "    <tr>\n",
       "      <th>4</th>\n",
       "      <td>5</td>\n",
       "      <td>place_frozen_foods</td>\n",
       "      <td>bakery</td>\n",
       "      <td>964</td>\n",
       "      <td>73.3</td>\n",
       "      <td>backordered</td>\n",
       "      <td>leblanc_james_and_thompson</td>\n",
       "      <td>11.08</td>\n",
       "      <td>0.15116</td>\n",
       "    </tr>\n",
       "    <tr>\n",
       "      <th>...</th>\n",
       "      <td>...</td>\n",
       "      <td>...</td>\n",
       "      <td>...</td>\n",
       "      <td>...</td>\n",
       "      <td>...</td>\n",
       "      <td>...</td>\n",
       "      <td>...</td>\n",
       "      <td>...</td>\n",
       "      <td>...</td>\n",
       "    </tr>\n",
       "    <tr>\n",
       "      <th>9995</th>\n",
       "      <td>9996</td>\n",
       "      <td>financial_bakery</td>\n",
       "      <td>snacks</td>\n",
       "      <td>1581</td>\n",
       "      <td>5.93</td>\n",
       "      <td>backordered</td>\n",
       "      <td>sparks_llc</td>\n",
       "      <td>7.40</td>\n",
       "      <td>1.247892</td>\n",
       "    </tr>\n",
       "    <tr>\n",
       "      <th>9996</th>\n",
       "      <td>9997</td>\n",
       "      <td>hospital_bakery</td>\n",
       "      <td>produce</td>\n",
       "      <td>1426</td>\n",
       "      <td>15.42</td>\n",
       "      <td>discontinued</td>\n",
       "      <td>butler_inc</td>\n",
       "      <td>18.92</td>\n",
       "      <td>1.226978</td>\n",
       "    </tr>\n",
       "    <tr>\n",
       "      <th>9997</th>\n",
       "      <td>9998</td>\n",
       "      <td>travel_bakery</td>\n",
       "      <td>produce</td>\n",
       "      <td>31</td>\n",
       "      <td>13.28</td>\n",
       "      <td>backordered</td>\n",
       "      <td>carr_larson</td>\n",
       "      <td>23.15</td>\n",
       "      <td>1.743223</td>\n",
       "    </tr>\n",
       "    <tr>\n",
       "      <th>9998</th>\n",
       "      <td>9999</td>\n",
       "      <td>learn_bakery</td>\n",
       "      <td>bakery</td>\n",
       "      <td>987</td>\n",
       "      <td>18.32</td>\n",
       "      <td>active</td>\n",
       "      <td>turner_rodriguez</td>\n",
       "      <td>22.50</td>\n",
       "      <td>1.228166</td>\n",
       "    </tr>\n",
       "    <tr>\n",
       "      <th>9999</th>\n",
       "      <td>10000</td>\n",
       "      <td>everything_bakery</td>\n",
       "      <td>snacks</td>\n",
       "      <td>1127</td>\n",
       "      <td>18.24</td>\n",
       "      <td>active</td>\n",
       "      <td>zimmerman_hoffman_and_burns</td>\n",
       "      <td>31.50</td>\n",
       "      <td>1.726974</td>\n",
       "    </tr>\n",
       "  </tbody>\n",
       "</table>\n",
       "<p>10000 rows × 9 columns</p>\n",
       "</div>"
      ],
      "text/plain": [
       "      product_id        product_name   category  supplier_id unit_cost        status                        brand  list_price  avg_markup_ratio\n",
       "0              1          use_bakery     bakery         1664      4.58        active                warren_foster        5.99           1.30786\n",
       "1              2  thank_frozen_foods      dairy         1662      5.43   backordered               evans_and_sons        7.03          1.294659\n",
       "2              3    customer_produce  beverages          917      1.83   backordered              newman_and_sons        2.73          1.491803\n",
       "3              4          sign_dairy    produce          268      8.99        active            mclaughlin_little       14.17          1.576196\n",
       "4              5  place_frozen_foods     bakery          964      73.3   backordered   leblanc_james_and_thompson       11.08           0.15116\n",
       "...          ...                 ...        ...          ...       ...           ...                          ...         ...               ...\n",
       "9995        9996    financial_bakery     snacks         1581      5.93   backordered                   sparks_llc        7.40          1.247892\n",
       "9996        9997     hospital_bakery    produce         1426     15.42  discontinued                   butler_inc       18.92          1.226978\n",
       "9997        9998       travel_bakery    produce           31     13.28   backordered                  carr_larson       23.15          1.743223\n",
       "9998        9999        learn_bakery     bakery          987     18.32        active             turner_rodriguez       22.50          1.228166\n",
       "9999       10000   everything_bakery     snacks         1127     18.24        active  zimmerman_hoffman_and_burns       31.50          1.726974\n",
       "\n",
       "[10000 rows x 9 columns]"
      ]
     },
     "execution_count": 78,
     "metadata": {},
     "output_type": "execute_result"
    }
   ],
   "source": [
    "df_products = df_products.merge(df_markup_by_group, how='left', on=['category', 'brand'])\n",
    "df_products"
   ]
  },
  {
   "cell_type": "code",
   "execution_count": 79,
   "id": "3c80f4cb",
   "metadata": {},
   "outputs": [
    {
     "data": {
      "application/vnd.microsoft.datawrangler.viewer.v0+json": {
       "columns": [
        {
         "name": "index",
         "rawType": "int64",
         "type": "integer"
        },
        {
         "name": "product_id",
         "rawType": "int64",
         "type": "integer"
        },
        {
         "name": "product_name",
         "rawType": "string",
         "type": "string"
        },
        {
         "name": "category",
         "rawType": "category",
         "type": "unknown"
        },
        {
         "name": "supplier_id",
         "rawType": "int64",
         "type": "integer"
        },
        {
         "name": "unit_cost",
         "rawType": "object",
         "type": "unknown"
        },
        {
         "name": "status",
         "rawType": "category",
         "type": "unknown"
        },
        {
         "name": "brand",
         "rawType": "string",
         "type": "string"
        },
        {
         "name": "list_price",
         "rawType": "float64",
         "type": "float"
        }
       ],
       "ref": "f2c1f151-c0c9-4708-b918-7c009e73abf5",
       "rows": [
        [
         "0",
         "1",
         "use_bakery",
         "bakery",
         "1664",
         "4.58",
         "active",
         "warren_foster",
         "5.99"
        ],
        [
         "1",
         "2",
         "thank_frozen_foods",
         "dairy",
         "1662",
         "5.43",
         "backordered",
         "evans_and_sons",
         "7.03"
        ],
        [
         "2",
         "3",
         "customer_produce",
         "beverages",
         "917",
         "1.83",
         "backordered",
         "newman_and_sons",
         "2.73"
        ],
        [
         "3",
         "4",
         "sign_dairy",
         "produce",
         "268",
         "8.99",
         "active",
         "mclaughlin_little",
         "14.17"
        ],
        [
         "4",
         "5",
         "place_frozen_foods",
         "bakery",
         "964",
         "73.3",
         "backordered",
         "leblanc_james_and_thompson",
         "11.08"
        ],
        [
         "5",
         "6",
         "voice_produce",
         "beverages",
         "169",
         "15.16",
         "backordered",
         "howard_jones_and_ashley",
         "18.28"
        ],
        [
         "6",
         "7",
         "home_produce",
         "bakery",
         "911",
         null,
         "backordered",
         null,
         "2.98"
        ],
        [
         "7",
         "8",
         "care_dairy",
         "beverages",
         "1628",
         "18.64",
         "active",
         null,
         "26.67"
        ],
        [
         "8",
         "9",
         "add_bakery",
         "snacks",
         "1115",
         "14.86",
         "backordered",
         "johnston_gross_and_ellis",
         "22.15"
        ],
        [
         "9",
         "10",
         "tell_snacks",
         "snacks",
         "938",
         "12.9",
         "backordered",
         "edwards_horne_and_soto",
         "21.07"
        ],
        [
         "10",
         "11",
         "mention_produce",
         "frozen_foods",
         "1701",
         "14.25",
         "discontinued",
         "fowler_llc",
         "20.19"
        ],
        [
         "11",
         "12",
         "least_produce",
         "produce",
         "209",
         "7.91",
         "backordered",
         "garcia_williams",
         "12.59"
        ],
        [
         "12",
         "13",
         "situation_dairy",
         "frozen_foods",
         "818",
         "6.5",
         "active",
         "washington_inc",
         "10.9"
        ],
        [
         "13",
         "14",
         "parent_snacks",
         "beverages",
         "441",
         "13.88",
         "active",
         "villanueva_williams_and_green",
         "18.7"
        ],
        [
         "14",
         "15",
         "party_dairy",
         "snacks",
         "1696",
         "13.16",
         "active",
         "ramos_inc",
         "19.24"
        ],
        [
         "15",
         "16",
         "you_bakery",
         "snacks",
         "261",
         "9.42",
         "active",
         "king_lewis_and_edwards",
         "12.34"
        ],
        [
         "16",
         "17",
         "reason_snacks",
         "frozen_foods",
         "942",
         "16.09",
         "discontinued",
         "kidd_oliver_and_williams",
         "22.9"
        ],
        [
         "17",
         "18",
         "since_beverages",
         "frozen_foods",
         "396",
         "4.21",
         "active",
         "grant_franklin",
         "6.95"
        ],
        [
         "18",
         "19",
         "mouth_produce",
         "beverages",
         "1810",
         "5.77",
         "discontinued",
         "garcia_goodman_and_weaver",
         "7.3"
        ],
        [
         "19",
         "20",
         "movement_snacks",
         "snacks",
         "1098",
         null,
         "backordered",
         "west_christensen",
         "13.46"
        ],
        [
         "20",
         "21",
         "get_snacks",
         "beverages",
         "1150",
         "12.16",
         "backordered",
         null,
         "15.5"
        ],
        [
         "21",
         "22",
         "break_beverages",
         "dairy",
         "1204",
         "6.99",
         "discontinued",
         "collins_wells_and_christian",
         "8.92"
        ],
        [
         "22",
         "23",
         "popular_produce",
         "bakery",
         "762",
         "6.15",
         "backordered",
         null,
         "10.04"
        ],
        [
         "23",
         "24",
         "idea_beverages",
         "dairy",
         "782",
         "7.82",
         "active",
         "smith_plc",
         "13.87"
        ],
        [
         "24",
         "25",
         "add_frozen_foods",
         "bakery",
         "769",
         null,
         "discontinued",
         "cooke_hayes_and_olson",
         "14.68"
        ],
        [
         "25",
         "26",
         "finish_beverages",
         "produce",
         "1869",
         "8.69",
         "discontinued",
         "hernandez_and_sons",
         "10.78"
        ],
        [
         "26",
         "27",
         "school_frozen_foods",
         "produce",
         "1913",
         "9.68",
         "backordered",
         "johnson_llc",
         "14.58"
        ],
        [
         "27",
         "28",
         "time_frozen_foods",
         "snacks",
         "59",
         "18.75",
         "active",
         null,
         "31.21"
        ],
        [
         "28",
         "29",
         "yourself_beverages",
         "bakery",
         "163",
         "2.14",
         "backordered",
         "ortega_group",
         "3.47"
        ],
        [
         "29",
         "30",
         "fast_snacks",
         "bakery",
         "1508",
         "17.15",
         "discontinued",
         "perez_wong_and_smith",
         "29.94"
        ],
        [
         "30",
         "31",
         "maybe_snacks",
         "frozen_foods",
         "1050",
         "13.25",
         "backordered",
         "howell_mitchell",
         "19.58"
        ],
        [
         "31",
         "32",
         "music_snacks",
         "bakery",
         "1141",
         "16.39",
         "active",
         "valdez_and_sons",
         "26.44"
        ],
        [
         "32",
         "33",
         "police_bakery",
         "dairy",
         "1964",
         "17.39",
         "backordered",
         "saunders_ltd",
         "26.87"
        ],
        [
         "33",
         "34",
         "use_beverages",
         "dairy",
         "1665",
         "12.89",
         "active",
         "dominguez_pena_and_osborne",
         "22.03"
        ],
        [
         "34",
         "35",
         "color_dairy",
         "dairy",
         "229",
         "3.42",
         "backordered",
         "watts_schroeder",
         "4.13"
        ],
        [
         "35",
         "36",
         "little_bakery",
         "bakery",
         "647",
         "15.82",
         "active",
         "taylor_thomas",
         "24.16"
        ],
        [
         "36",
         "37",
         "minute_frozen_foods",
         "beverages",
         "630",
         "9.61",
         "active",
         "rivera_inc",
         "15.11"
        ],
        [
         "37",
         "38",
         "certainly_beverages",
         "bakery",
         "1298",
         "3.43",
         "active",
         "garcia_plc",
         "4.33"
        ],
        [
         "38",
         "39",
         "why_produce",
         "dairy",
         "1631",
         "7.08",
         "active",
         "jackson_cain_and_garcia",
         "9.1"
        ],
        [
         "39",
         "40",
         "benefit_frozen_foods",
         "beverages",
         "23",
         "17.46",
         "active",
         "joyce_le_and_wallace",
         "31.28"
        ],
        [
         "40",
         "41",
         "item_dairy",
         "dairy",
         "10",
         "2.87",
         "backordered",
         "carroll_aguilar_and_richardson",
         "4.62"
        ],
        [
         "41",
         "42",
         "success_produce",
         "bakery",
         "975",
         "12.44",
         "backordered",
         "brown_duke",
         "16.39"
        ],
        [
         "42",
         "43",
         "maintain_frozen_foods",
         "dairy",
         "357",
         null,
         "backordered",
         "byrd_hayden_and_cunningham",
         "23.52"
        ],
        [
         "43",
         "44",
         "top_produce",
         "bakery",
         "1464",
         "3.92",
         "backordered",
         "mills_llc",
         "6.94"
        ],
        [
         "44",
         "45",
         "public_bakery",
         "snacks",
         "606",
         "8.35",
         "discontinued",
         "stone_boyd_and_wilson",
         "10.46"
        ],
        [
         "45",
         "46",
         "fact_produce",
         "produce",
         "1857",
         "4.15",
         "backordered",
         "lopez_llc",
         "6.93"
        ],
        [
         "46",
         "47",
         "into_bakery",
         "beverages",
         "1775",
         "10.1",
         "discontinued",
         "johnson_heath",
         "16.95"
        ],
        [
         "47",
         "48",
         "director_snacks",
         "produce",
         "162",
         "5.2",
         "backordered",
         "ray_brown_and_lang",
         "6.29"
        ],
        [
         "48",
         "49",
         "it_produce",
         "frozen_foods",
         "435",
         "19.18",
         "discontinued",
         "shelton_morales",
         "24.72"
        ],
        [
         "49",
         "50",
         "away_dairy",
         "bakery",
         "196",
         "7.7",
         "active",
         "valencia_smith",
         "12.82"
        ]
       ],
       "shape": {
        "columns": 8,
        "rows": 10000
       }
      },
      "text/html": [
       "<div>\n",
       "<style scoped>\n",
       "    .dataframe tbody tr th:only-of-type {\n",
       "        vertical-align: middle;\n",
       "    }\n",
       "\n",
       "    .dataframe tbody tr th {\n",
       "        vertical-align: top;\n",
       "    }\n",
       "\n",
       "    .dataframe thead th {\n",
       "        text-align: right;\n",
       "    }\n",
       "</style>\n",
       "<table border=\"1\" class=\"dataframe\">\n",
       "  <thead>\n",
       "    <tr style=\"text-align: right;\">\n",
       "      <th></th>\n",
       "      <th>product_id</th>\n",
       "      <th>product_name</th>\n",
       "      <th>category</th>\n",
       "      <th>supplier_id</th>\n",
       "      <th>unit_cost</th>\n",
       "      <th>status</th>\n",
       "      <th>brand</th>\n",
       "      <th>list_price</th>\n",
       "    </tr>\n",
       "  </thead>\n",
       "  <tbody>\n",
       "    <tr>\n",
       "      <th>0</th>\n",
       "      <td>1</td>\n",
       "      <td>use_bakery</td>\n",
       "      <td>bakery</td>\n",
       "      <td>1664</td>\n",
       "      <td>4.58</td>\n",
       "      <td>active</td>\n",
       "      <td>warren_foster</td>\n",
       "      <td>5.99</td>\n",
       "    </tr>\n",
       "    <tr>\n",
       "      <th>1</th>\n",
       "      <td>2</td>\n",
       "      <td>thank_frozen_foods</td>\n",
       "      <td>dairy</td>\n",
       "      <td>1662</td>\n",
       "      <td>5.43</td>\n",
       "      <td>backordered</td>\n",
       "      <td>evans_and_sons</td>\n",
       "      <td>7.03</td>\n",
       "    </tr>\n",
       "    <tr>\n",
       "      <th>2</th>\n",
       "      <td>3</td>\n",
       "      <td>customer_produce</td>\n",
       "      <td>beverages</td>\n",
       "      <td>917</td>\n",
       "      <td>1.83</td>\n",
       "      <td>backordered</td>\n",
       "      <td>newman_and_sons</td>\n",
       "      <td>2.73</td>\n",
       "    </tr>\n",
       "    <tr>\n",
       "      <th>3</th>\n",
       "      <td>4</td>\n",
       "      <td>sign_dairy</td>\n",
       "      <td>produce</td>\n",
       "      <td>268</td>\n",
       "      <td>8.99</td>\n",
       "      <td>active</td>\n",
       "      <td>mclaughlin_little</td>\n",
       "      <td>14.17</td>\n",
       "    </tr>\n",
       "    <tr>\n",
       "      <th>4</th>\n",
       "      <td>5</td>\n",
       "      <td>place_frozen_foods</td>\n",
       "      <td>bakery</td>\n",
       "      <td>964</td>\n",
       "      <td>73.3</td>\n",
       "      <td>backordered</td>\n",
       "      <td>leblanc_james_and_thompson</td>\n",
       "      <td>11.08</td>\n",
       "    </tr>\n",
       "    <tr>\n",
       "      <th>...</th>\n",
       "      <td>...</td>\n",
       "      <td>...</td>\n",
       "      <td>...</td>\n",
       "      <td>...</td>\n",
       "      <td>...</td>\n",
       "      <td>...</td>\n",
       "      <td>...</td>\n",
       "      <td>...</td>\n",
       "    </tr>\n",
       "    <tr>\n",
       "      <th>9995</th>\n",
       "      <td>9996</td>\n",
       "      <td>financial_bakery</td>\n",
       "      <td>snacks</td>\n",
       "      <td>1581</td>\n",
       "      <td>5.93</td>\n",
       "      <td>backordered</td>\n",
       "      <td>sparks_llc</td>\n",
       "      <td>7.40</td>\n",
       "    </tr>\n",
       "    <tr>\n",
       "      <th>9996</th>\n",
       "      <td>9997</td>\n",
       "      <td>hospital_bakery</td>\n",
       "      <td>produce</td>\n",
       "      <td>1426</td>\n",
       "      <td>15.42</td>\n",
       "      <td>discontinued</td>\n",
       "      <td>butler_inc</td>\n",
       "      <td>18.92</td>\n",
       "    </tr>\n",
       "    <tr>\n",
       "      <th>9997</th>\n",
       "      <td>9998</td>\n",
       "      <td>travel_bakery</td>\n",
       "      <td>produce</td>\n",
       "      <td>31</td>\n",
       "      <td>13.28</td>\n",
       "      <td>backordered</td>\n",
       "      <td>carr_larson</td>\n",
       "      <td>23.15</td>\n",
       "    </tr>\n",
       "    <tr>\n",
       "      <th>9998</th>\n",
       "      <td>9999</td>\n",
       "      <td>learn_bakery</td>\n",
       "      <td>bakery</td>\n",
       "      <td>987</td>\n",
       "      <td>18.32</td>\n",
       "      <td>active</td>\n",
       "      <td>turner_rodriguez</td>\n",
       "      <td>22.50</td>\n",
       "    </tr>\n",
       "    <tr>\n",
       "      <th>9999</th>\n",
       "      <td>10000</td>\n",
       "      <td>everything_bakery</td>\n",
       "      <td>snacks</td>\n",
       "      <td>1127</td>\n",
       "      <td>18.24</td>\n",
       "      <td>active</td>\n",
       "      <td>zimmerman_hoffman_and_burns</td>\n",
       "      <td>31.50</td>\n",
       "    </tr>\n",
       "  </tbody>\n",
       "</table>\n",
       "<p>10000 rows × 8 columns</p>\n",
       "</div>"
      ],
      "text/plain": [
       "      product_id        product_name   category  supplier_id unit_cost        status                        brand  list_price\n",
       "0              1          use_bakery     bakery         1664      4.58        active                warren_foster        5.99\n",
       "1              2  thank_frozen_foods      dairy         1662      5.43   backordered               evans_and_sons        7.03\n",
       "2              3    customer_produce  beverages          917      1.83   backordered              newman_and_sons        2.73\n",
       "3              4          sign_dairy    produce          268      8.99        active            mclaughlin_little       14.17\n",
       "4              5  place_frozen_foods     bakery          964      73.3   backordered   leblanc_james_and_thompson       11.08\n",
       "...          ...                 ...        ...          ...       ...           ...                          ...         ...\n",
       "9995        9996    financial_bakery     snacks         1581      5.93   backordered                   sparks_llc        7.40\n",
       "9996        9997     hospital_bakery    produce         1426     15.42  discontinued                   butler_inc       18.92\n",
       "9997        9998       travel_bakery    produce           31     13.28   backordered                  carr_larson       23.15\n",
       "9998        9999        learn_bakery     bakery          987     18.32        active             turner_rodriguez       22.50\n",
       "9999       10000   everything_bakery     snacks         1127     18.24        active  zimmerman_hoffman_and_burns       31.50\n",
       "\n",
       "[10000 rows x 8 columns]"
      ]
     },
     "execution_count": 79,
     "metadata": {},
     "output_type": "execute_result"
    }
   ],
   "source": [
    "df_products['unit_cost'] = df_products.apply(lambda row: row['list_price'] / row['avg_markup_ratio'] if pd.isna(row['unit_cost']) and \n",
    "                                             pd.notna(row['list_price']) and pd.notna(row['avg_markup_ratio']) else row['unit_cost'],\n",
    "                                             axis=1)\n",
    "df_products = df_products.drop(columns='avg_markup_ratio')\n",
    "df_products"
   ]
  },
  {
   "cell_type": "code",
   "execution_count": 80,
   "id": "b5a99de1",
   "metadata": {},
   "outputs": [
    {
     "data": {
      "application/vnd.microsoft.datawrangler.viewer.v0+json": {
       "columns": [
        {
         "name": "index",
         "rawType": "int64",
         "type": "integer"
        },
        {
         "name": "product_id",
         "rawType": "int64",
         "type": "integer"
        },
        {
         "name": "product_name",
         "rawType": "string",
         "type": "string"
        },
        {
         "name": "category",
         "rawType": "category",
         "type": "unknown"
        },
        {
         "name": "supplier_id",
         "rawType": "int64",
         "type": "integer"
        },
        {
         "name": "unit_cost",
         "rawType": "Float64",
         "type": "float"
        },
        {
         "name": "status",
         "rawType": "category",
         "type": "unknown"
        },
        {
         "name": "brand",
         "rawType": "string",
         "type": "string"
        },
        {
         "name": "list_price",
         "rawType": "float64",
         "type": "float"
        }
       ],
       "ref": "addd02f6-c8c1-488c-89ae-84e818db9297",
       "rows": [
        [
         "0",
         "1",
         "use_bakery",
         "bakery",
         "1664",
         "4.58",
         "active",
         "warren_foster",
         "5.99"
        ],
        [
         "1",
         "2",
         "thank_frozen_foods",
         "dairy",
         "1662",
         "5.43",
         "backordered",
         "evans_and_sons",
         "7.03"
        ],
        [
         "2",
         "3",
         "customer_produce",
         "beverages",
         "917",
         "1.83",
         "backordered",
         "newman_and_sons",
         "2.73"
        ],
        [
         "3",
         "4",
         "sign_dairy",
         "produce",
         "268",
         "8.99",
         "active",
         "mclaughlin_little",
         "14.17"
        ],
        [
         "4",
         "5",
         "place_frozen_foods",
         "bakery",
         "964",
         "73.3",
         "backordered",
         "leblanc_james_and_thompson",
         "11.08"
        ],
        [
         "5",
         "6",
         "voice_produce",
         "beverages",
         "169",
         "15.16",
         "backordered",
         "howard_jones_and_ashley",
         "18.28"
        ],
        [
         "6",
         "7",
         "home_produce",
         "bakery",
         "911",
         null,
         "backordered",
         null,
         "2.98"
        ],
        [
         "7",
         "8",
         "care_dairy",
         "beverages",
         "1628",
         "18.64",
         "active",
         null,
         "26.67"
        ],
        [
         "8",
         "9",
         "add_bakery",
         "snacks",
         "1115",
         "14.86",
         "backordered",
         "johnston_gross_and_ellis",
         "22.15"
        ],
        [
         "9",
         "10",
         "tell_snacks",
         "snacks",
         "938",
         "12.9",
         "backordered",
         "edwards_horne_and_soto",
         "21.07"
        ],
        [
         "10",
         "11",
         "mention_produce",
         "frozen_foods",
         "1701",
         "14.25",
         "discontinued",
         "fowler_llc",
         "20.19"
        ],
        [
         "11",
         "12",
         "least_produce",
         "produce",
         "209",
         "7.91",
         "backordered",
         "garcia_williams",
         "12.59"
        ],
        [
         "12",
         "13",
         "situation_dairy",
         "frozen_foods",
         "818",
         "6.5",
         "active",
         "washington_inc",
         "10.9"
        ],
        [
         "13",
         "14",
         "parent_snacks",
         "beverages",
         "441",
         "13.88",
         "active",
         "villanueva_williams_and_green",
         "18.7"
        ],
        [
         "14",
         "15",
         "party_dairy",
         "snacks",
         "1696",
         "13.16",
         "active",
         "ramos_inc",
         "19.24"
        ],
        [
         "15",
         "16",
         "you_bakery",
         "snacks",
         "261",
         "9.42",
         "active",
         "king_lewis_and_edwards",
         "12.34"
        ],
        [
         "16",
         "17",
         "reason_snacks",
         "frozen_foods",
         "942",
         "16.09",
         "discontinued",
         "kidd_oliver_and_williams",
         "22.9"
        ],
        [
         "17",
         "18",
         "since_beverages",
         "frozen_foods",
         "396",
         "4.21",
         "active",
         "grant_franklin",
         "6.95"
        ],
        [
         "18",
         "19",
         "mouth_produce",
         "beverages",
         "1810",
         "5.77",
         "discontinued",
         "garcia_goodman_and_weaver",
         "7.3"
        ],
        [
         "19",
         "20",
         "movement_snacks",
         "snacks",
         "1098",
         null,
         "backordered",
         "west_christensen",
         "13.46"
        ],
        [
         "20",
         "21",
         "get_snacks",
         "beverages",
         "1150",
         "12.16",
         "backordered",
         null,
         "15.5"
        ],
        [
         "21",
         "22",
         "break_beverages",
         "dairy",
         "1204",
         "6.99",
         "discontinued",
         "collins_wells_and_christian",
         "8.92"
        ],
        [
         "22",
         "23",
         "popular_produce",
         "bakery",
         "762",
         "6.15",
         "backordered",
         null,
         "10.04"
        ],
        [
         "23",
         "24",
         "idea_beverages",
         "dairy",
         "782",
         "7.82",
         "active",
         "smith_plc",
         "13.87"
        ],
        [
         "24",
         "25",
         "add_frozen_foods",
         "bakery",
         "769",
         null,
         "discontinued",
         "cooke_hayes_and_olson",
         "14.68"
        ],
        [
         "25",
         "26",
         "finish_beverages",
         "produce",
         "1869",
         "8.69",
         "discontinued",
         "hernandez_and_sons",
         "10.78"
        ],
        [
         "26",
         "27",
         "school_frozen_foods",
         "produce",
         "1913",
         "9.68",
         "backordered",
         "johnson_llc",
         "14.58"
        ],
        [
         "27",
         "28",
         "time_frozen_foods",
         "snacks",
         "59",
         "18.75",
         "active",
         null,
         "31.21"
        ],
        [
         "28",
         "29",
         "yourself_beverages",
         "bakery",
         "163",
         "2.14",
         "backordered",
         "ortega_group",
         "3.47"
        ],
        [
         "29",
         "30",
         "fast_snacks",
         "bakery",
         "1508",
         "17.15",
         "discontinued",
         "perez_wong_and_smith",
         "29.94"
        ],
        [
         "30",
         "31",
         "maybe_snacks",
         "frozen_foods",
         "1050",
         "13.25",
         "backordered",
         "howell_mitchell",
         "19.58"
        ],
        [
         "31",
         "32",
         "music_snacks",
         "bakery",
         "1141",
         "16.39",
         "active",
         "valdez_and_sons",
         "26.44"
        ],
        [
         "32",
         "33",
         "police_bakery",
         "dairy",
         "1964",
         "17.39",
         "backordered",
         "saunders_ltd",
         "26.87"
        ],
        [
         "33",
         "34",
         "use_beverages",
         "dairy",
         "1665",
         "12.89",
         "active",
         "dominguez_pena_and_osborne",
         "22.03"
        ],
        [
         "34",
         "35",
         "color_dairy",
         "dairy",
         "229",
         "3.42",
         "backordered",
         "watts_schroeder",
         "4.13"
        ],
        [
         "35",
         "36",
         "little_bakery",
         "bakery",
         "647",
         "15.82",
         "active",
         "taylor_thomas",
         "24.16"
        ],
        [
         "36",
         "37",
         "minute_frozen_foods",
         "beverages",
         "630",
         "9.61",
         "active",
         "rivera_inc",
         "15.11"
        ],
        [
         "37",
         "38",
         "certainly_beverages",
         "bakery",
         "1298",
         "3.43",
         "active",
         "garcia_plc",
         "4.33"
        ],
        [
         "38",
         "39",
         "why_produce",
         "dairy",
         "1631",
         "7.08",
         "active",
         "jackson_cain_and_garcia",
         "9.1"
        ],
        [
         "39",
         "40",
         "benefit_frozen_foods",
         "beverages",
         "23",
         "17.46",
         "active",
         "joyce_le_and_wallace",
         "31.28"
        ],
        [
         "40",
         "41",
         "item_dairy",
         "dairy",
         "10",
         "2.87",
         "backordered",
         "carroll_aguilar_and_richardson",
         "4.62"
        ],
        [
         "41",
         "42",
         "success_produce",
         "bakery",
         "975",
         "12.44",
         "backordered",
         "brown_duke",
         "16.39"
        ],
        [
         "42",
         "43",
         "maintain_frozen_foods",
         "dairy",
         "357",
         null,
         "backordered",
         "byrd_hayden_and_cunningham",
         "23.52"
        ],
        [
         "43",
         "44",
         "top_produce",
         "bakery",
         "1464",
         "3.92",
         "backordered",
         "mills_llc",
         "6.94"
        ],
        [
         "44",
         "45",
         "public_bakery",
         "snacks",
         "606",
         "8.35",
         "discontinued",
         "stone_boyd_and_wilson",
         "10.46"
        ],
        [
         "45",
         "46",
         "fact_produce",
         "produce",
         "1857",
         "4.15",
         "backordered",
         "lopez_llc",
         "6.93"
        ],
        [
         "46",
         "47",
         "into_bakery",
         "beverages",
         "1775",
         "10.1",
         "discontinued",
         "johnson_heath",
         "16.95"
        ],
        [
         "47",
         "48",
         "director_snacks",
         "produce",
         "162",
         "5.2",
         "backordered",
         "ray_brown_and_lang",
         "6.29"
        ],
        [
         "48",
         "49",
         "it_produce",
         "frozen_foods",
         "435",
         "19.18",
         "discontinued",
         "shelton_morales",
         "24.72"
        ],
        [
         "49",
         "50",
         "away_dairy",
         "bakery",
         "196",
         "7.7",
         "active",
         "valencia_smith",
         "12.82"
        ]
       ],
       "shape": {
        "columns": 8,
        "rows": 10000
       }
      },
      "text/html": [
       "<div>\n",
       "<style scoped>\n",
       "    .dataframe tbody tr th:only-of-type {\n",
       "        vertical-align: middle;\n",
       "    }\n",
       "\n",
       "    .dataframe tbody tr th {\n",
       "        vertical-align: top;\n",
       "    }\n",
       "\n",
       "    .dataframe thead th {\n",
       "        text-align: right;\n",
       "    }\n",
       "</style>\n",
       "<table border=\"1\" class=\"dataframe\">\n",
       "  <thead>\n",
       "    <tr style=\"text-align: right;\">\n",
       "      <th></th>\n",
       "      <th>product_id</th>\n",
       "      <th>product_name</th>\n",
       "      <th>category</th>\n",
       "      <th>supplier_id</th>\n",
       "      <th>unit_cost</th>\n",
       "      <th>status</th>\n",
       "      <th>brand</th>\n",
       "      <th>list_price</th>\n",
       "    </tr>\n",
       "  </thead>\n",
       "  <tbody>\n",
       "    <tr>\n",
       "      <th>0</th>\n",
       "      <td>1</td>\n",
       "      <td>use_bakery</td>\n",
       "      <td>bakery</td>\n",
       "      <td>1664</td>\n",
       "      <td>4.58</td>\n",
       "      <td>active</td>\n",
       "      <td>warren_foster</td>\n",
       "      <td>5.99</td>\n",
       "    </tr>\n",
       "    <tr>\n",
       "      <th>1</th>\n",
       "      <td>2</td>\n",
       "      <td>thank_frozen_foods</td>\n",
       "      <td>dairy</td>\n",
       "      <td>1662</td>\n",
       "      <td>5.43</td>\n",
       "      <td>backordered</td>\n",
       "      <td>evans_and_sons</td>\n",
       "      <td>7.03</td>\n",
       "    </tr>\n",
       "    <tr>\n",
       "      <th>2</th>\n",
       "      <td>3</td>\n",
       "      <td>customer_produce</td>\n",
       "      <td>beverages</td>\n",
       "      <td>917</td>\n",
       "      <td>1.83</td>\n",
       "      <td>backordered</td>\n",
       "      <td>newman_and_sons</td>\n",
       "      <td>2.73</td>\n",
       "    </tr>\n",
       "    <tr>\n",
       "      <th>3</th>\n",
       "      <td>4</td>\n",
       "      <td>sign_dairy</td>\n",
       "      <td>produce</td>\n",
       "      <td>268</td>\n",
       "      <td>8.99</td>\n",
       "      <td>active</td>\n",
       "      <td>mclaughlin_little</td>\n",
       "      <td>14.17</td>\n",
       "    </tr>\n",
       "    <tr>\n",
       "      <th>4</th>\n",
       "      <td>5</td>\n",
       "      <td>place_frozen_foods</td>\n",
       "      <td>bakery</td>\n",
       "      <td>964</td>\n",
       "      <td>73.3</td>\n",
       "      <td>backordered</td>\n",
       "      <td>leblanc_james_and_thompson</td>\n",
       "      <td>11.08</td>\n",
       "    </tr>\n",
       "    <tr>\n",
       "      <th>...</th>\n",
       "      <td>...</td>\n",
       "      <td>...</td>\n",
       "      <td>...</td>\n",
       "      <td>...</td>\n",
       "      <td>...</td>\n",
       "      <td>...</td>\n",
       "      <td>...</td>\n",
       "      <td>...</td>\n",
       "    </tr>\n",
       "    <tr>\n",
       "      <th>9995</th>\n",
       "      <td>9996</td>\n",
       "      <td>financial_bakery</td>\n",
       "      <td>snacks</td>\n",
       "      <td>1581</td>\n",
       "      <td>5.93</td>\n",
       "      <td>backordered</td>\n",
       "      <td>sparks_llc</td>\n",
       "      <td>7.40</td>\n",
       "    </tr>\n",
       "    <tr>\n",
       "      <th>9996</th>\n",
       "      <td>9997</td>\n",
       "      <td>hospital_bakery</td>\n",
       "      <td>produce</td>\n",
       "      <td>1426</td>\n",
       "      <td>15.42</td>\n",
       "      <td>discontinued</td>\n",
       "      <td>butler_inc</td>\n",
       "      <td>18.92</td>\n",
       "    </tr>\n",
       "    <tr>\n",
       "      <th>9997</th>\n",
       "      <td>9998</td>\n",
       "      <td>travel_bakery</td>\n",
       "      <td>produce</td>\n",
       "      <td>31</td>\n",
       "      <td>13.28</td>\n",
       "      <td>backordered</td>\n",
       "      <td>carr_larson</td>\n",
       "      <td>23.15</td>\n",
       "    </tr>\n",
       "    <tr>\n",
       "      <th>9998</th>\n",
       "      <td>9999</td>\n",
       "      <td>learn_bakery</td>\n",
       "      <td>bakery</td>\n",
       "      <td>987</td>\n",
       "      <td>18.32</td>\n",
       "      <td>active</td>\n",
       "      <td>turner_rodriguez</td>\n",
       "      <td>22.50</td>\n",
       "    </tr>\n",
       "    <tr>\n",
       "      <th>9999</th>\n",
       "      <td>10000</td>\n",
       "      <td>everything_bakery</td>\n",
       "      <td>snacks</td>\n",
       "      <td>1127</td>\n",
       "      <td>18.24</td>\n",
       "      <td>active</td>\n",
       "      <td>zimmerman_hoffman_and_burns</td>\n",
       "      <td>31.50</td>\n",
       "    </tr>\n",
       "  </tbody>\n",
       "</table>\n",
       "<p>10000 rows × 8 columns</p>\n",
       "</div>"
      ],
      "text/plain": [
       "      product_id        product_name   category  supplier_id  unit_cost        status                        brand  list_price\n",
       "0              1          use_bakery     bakery         1664       4.58        active                warren_foster        5.99\n",
       "1              2  thank_frozen_foods      dairy         1662       5.43   backordered               evans_and_sons        7.03\n",
       "2              3    customer_produce  beverages          917       1.83   backordered              newman_and_sons        2.73\n",
       "3              4          sign_dairy    produce          268       8.99        active            mclaughlin_little       14.17\n",
       "4              5  place_frozen_foods     bakery          964       73.3   backordered   leblanc_james_and_thompson       11.08\n",
       "...          ...                 ...        ...          ...        ...           ...                          ...         ...\n",
       "9995        9996    financial_bakery     snacks         1581       5.93   backordered                   sparks_llc        7.40\n",
       "9996        9997     hospital_bakery    produce         1426      15.42  discontinued                   butler_inc       18.92\n",
       "9997        9998       travel_bakery    produce           31      13.28   backordered                  carr_larson       23.15\n",
       "9998        9999        learn_bakery     bakery          987      18.32        active             turner_rodriguez       22.50\n",
       "9999       10000   everything_bakery     snacks         1127      18.24        active  zimmerman_hoffman_and_burns       31.50\n",
       "\n",
       "[10000 rows x 8 columns]"
      ]
     },
     "execution_count": 80,
     "metadata": {},
     "output_type": "execute_result"
    }
   ],
   "source": [
    "# Stratification by key product characteristics: 'category'.\n",
    "df_products = cast_datatypes(df_products, 'numeric', numeric_type=\"Float64\", c_include=['unit_cost'])\n",
    "df_products"
   ]
  },
  {
   "cell_type": "code",
   "execution_count": 81,
   "id": "7891f7da",
   "metadata": {},
   "outputs": [
    {
     "data": {
      "application/vnd.microsoft.datawrangler.viewer.v0+json": {
       "columns": [
        {
         "name": "index",
         "rawType": "object",
         "type": "string"
        },
        {
         "name": "unit_cost",
         "rawType": "Float64",
         "type": "float"
        }
       ],
       "ref": "64a75abe-e84b-4585-bc15-9b749f9385b1",
       "rows": [
        [
         "count",
         "9656.0"
        ],
        [
         "mean",
         "11.149196078282285"
        ],
        [
         "std",
         "12.17340336407286"
        ],
        [
         "min",
         "0.5"
        ],
        [
         "25%",
         "5.25"
        ],
        [
         "50%",
         "10.33"
        ],
        [
         "75%",
         "15.19"
        ],
        [
         "max",
         "199.6"
        ]
       ],
       "shape": {
        "columns": 1,
        "rows": 8
       }
      },
      "text/plain": [
       "count       9656.0\n",
       "mean     11.149196\n",
       "std      12.173403\n",
       "min            0.5\n",
       "25%           5.25\n",
       "50%          10.33\n",
       "75%          15.19\n",
       "max          199.6\n",
       "Name: unit_cost, dtype: Float64"
      ]
     },
     "execution_count": 81,
     "metadata": {},
     "output_type": "execute_result"
    }
   ],
   "source": [
    "df_products['unit_cost'].describe()"
   ]
  },
  {
   "cell_type": "code",
   "execution_count": 82,
   "id": "a64b43dd",
   "metadata": {},
   "outputs": [
    {
     "data": {
      "text/html": [
       "> Coefficient of variation for column <i>'unit_cost'</i>: <b>109.19 %</b>"
      ],
      "text/plain": [
       "<IPython.core.display.HTML object>"
      ]
     },
     "metadata": {},
     "output_type": "display_data"
    },
    {
     "data": {
      "text/html": [
       "> High variability: <i>mean may be misleading</i>. Recommended central measure: <b>median</b>."
      ],
      "text/plain": [
       "<IPython.core.display.HTML object>"
      ]
     },
     "metadata": {},
     "output_type": "display_data"
    },
    {
     "name": "stdout",
     "output_type": "stream",
     "text": [
      "\n"
     ]
    }
   ],
   "source": [
    "evaluate_central_trend(df_products, 'unit_cost')"
   ]
  },
  {
   "cell_type": "code",
   "execution_count": 83,
   "id": "3c0bb7ed",
   "metadata": {},
   "outputs": [
    {
     "data": {
      "application/vnd.microsoft.datawrangler.viewer.v0+json": {
       "columns": [
        {
         "name": "index",
         "rawType": "int64",
         "type": "integer"
        },
        {
         "name": "category",
         "rawType": "category",
         "type": "unknown"
        },
        {
         "name": "median_unit_cost",
         "rawType": "Float64",
         "type": "float"
        }
       ],
       "ref": "bc60d99e-8941-4f72-adbe-317b39994e28",
       "rows": [
        [
         "0",
         "bakery",
         "10.3"
        ],
        [
         "1",
         "beverages",
         "10.405000000000001"
        ],
        [
         "2",
         "dairy",
         "10.28"
        ],
        [
         "3",
         "frozen_foods",
         "10.58"
        ],
        [
         "4",
         "produce",
         "9.855"
        ],
        [
         "5",
         "snacks",
         "10.47"
        ]
       ],
       "shape": {
        "columns": 2,
        "rows": 6
       }
      },
      "text/html": [
       "<div>\n",
       "<style scoped>\n",
       "    .dataframe tbody tr th:only-of-type {\n",
       "        vertical-align: middle;\n",
       "    }\n",
       "\n",
       "    .dataframe tbody tr th {\n",
       "        vertical-align: top;\n",
       "    }\n",
       "\n",
       "    .dataframe thead th {\n",
       "        text-align: right;\n",
       "    }\n",
       "</style>\n",
       "<table border=\"1\" class=\"dataframe\">\n",
       "  <thead>\n",
       "    <tr style=\"text-align: right;\">\n",
       "      <th></th>\n",
       "      <th>category</th>\n",
       "      <th>median_unit_cost</th>\n",
       "    </tr>\n",
       "  </thead>\n",
       "  <tbody>\n",
       "    <tr>\n",
       "      <th>0</th>\n",
       "      <td>bakery</td>\n",
       "      <td>10.3</td>\n",
       "    </tr>\n",
       "    <tr>\n",
       "      <th>1</th>\n",
       "      <td>beverages</td>\n",
       "      <td>10.405</td>\n",
       "    </tr>\n",
       "    <tr>\n",
       "      <th>2</th>\n",
       "      <td>dairy</td>\n",
       "      <td>10.28</td>\n",
       "    </tr>\n",
       "    <tr>\n",
       "      <th>3</th>\n",
       "      <td>frozen_foods</td>\n",
       "      <td>10.58</td>\n",
       "    </tr>\n",
       "    <tr>\n",
       "      <th>4</th>\n",
       "      <td>produce</td>\n",
       "      <td>9.855</td>\n",
       "    </tr>\n",
       "    <tr>\n",
       "      <th>5</th>\n",
       "      <td>snacks</td>\n",
       "      <td>10.47</td>\n",
       "    </tr>\n",
       "  </tbody>\n",
       "</table>\n",
       "</div>"
      ],
      "text/plain": [
       "       category  median_unit_cost\n",
       "0        bakery              10.3\n",
       "1     beverages            10.405\n",
       "2         dairy             10.28\n",
       "3  frozen_foods             10.58\n",
       "4       produce             9.855\n",
       "5        snacks             10.47"
      ]
     },
     "execution_count": 83,
     "metadata": {},
     "output_type": "execute_result"
    }
   ],
   "source": [
    "df_category_median_cost = (df_products.groupby('category', observed=True)['unit_cost'].median().reset_index(name='median_unit_cost'))\n",
    "df_category_median_cost"
   ]
  },
  {
   "cell_type": "code",
   "execution_count": 84,
   "id": "942c66a7",
   "metadata": {},
   "outputs": [
    {
     "data": {
      "application/vnd.microsoft.datawrangler.viewer.v0+json": {
       "columns": [
        {
         "name": "index",
         "rawType": "int64",
         "type": "integer"
        },
        {
         "name": "product_id",
         "rawType": "int64",
         "type": "integer"
        },
        {
         "name": "product_name",
         "rawType": "string",
         "type": "string"
        },
        {
         "name": "category",
         "rawType": "category",
         "type": "unknown"
        },
        {
         "name": "supplier_id",
         "rawType": "int64",
         "type": "integer"
        },
        {
         "name": "unit_cost",
         "rawType": "Float64",
         "type": "float"
        },
        {
         "name": "status",
         "rawType": "category",
         "type": "unknown"
        },
        {
         "name": "brand",
         "rawType": "string",
         "type": "string"
        },
        {
         "name": "list_price",
         "rawType": "float64",
         "type": "float"
        },
        {
         "name": "median_unit_cost",
         "rawType": "Float64",
         "type": "float"
        }
       ],
       "ref": "a7552792-009d-4b54-b5e0-d8025f41b245",
       "rows": [
        [
         "0",
         "1",
         "use_bakery",
         "bakery",
         "1664",
         "4.58",
         "active",
         "warren_foster",
         "5.99",
         "10.3"
        ],
        [
         "1",
         "2",
         "thank_frozen_foods",
         "dairy",
         "1662",
         "5.43",
         "backordered",
         "evans_and_sons",
         "7.03",
         "10.28"
        ],
        [
         "2",
         "3",
         "customer_produce",
         "beverages",
         "917",
         "1.83",
         "backordered",
         "newman_and_sons",
         "2.73",
         "10.405000000000001"
        ],
        [
         "3",
         "4",
         "sign_dairy",
         "produce",
         "268",
         "8.99",
         "active",
         "mclaughlin_little",
         "14.17",
         "9.855"
        ],
        [
         "4",
         "5",
         "place_frozen_foods",
         "bakery",
         "964",
         "73.3",
         "backordered",
         "leblanc_james_and_thompson",
         "11.08",
         "10.3"
        ],
        [
         "5",
         "6",
         "voice_produce",
         "beverages",
         "169",
         "15.16",
         "backordered",
         "howard_jones_and_ashley",
         "18.28",
         "10.405000000000001"
        ],
        [
         "6",
         "7",
         "home_produce",
         "bakery",
         "911",
         null,
         "backordered",
         null,
         "2.98",
         "10.3"
        ],
        [
         "7",
         "8",
         "care_dairy",
         "beverages",
         "1628",
         "18.64",
         "active",
         null,
         "26.67",
         "10.405000000000001"
        ],
        [
         "8",
         "9",
         "add_bakery",
         "snacks",
         "1115",
         "14.86",
         "backordered",
         "johnston_gross_and_ellis",
         "22.15",
         "10.47"
        ],
        [
         "9",
         "10",
         "tell_snacks",
         "snacks",
         "938",
         "12.9",
         "backordered",
         "edwards_horne_and_soto",
         "21.07",
         "10.47"
        ],
        [
         "10",
         "11",
         "mention_produce",
         "frozen_foods",
         "1701",
         "14.25",
         "discontinued",
         "fowler_llc",
         "20.19",
         "10.58"
        ],
        [
         "11",
         "12",
         "least_produce",
         "produce",
         "209",
         "7.91",
         "backordered",
         "garcia_williams",
         "12.59",
         "9.855"
        ],
        [
         "12",
         "13",
         "situation_dairy",
         "frozen_foods",
         "818",
         "6.5",
         "active",
         "washington_inc",
         "10.9",
         "10.58"
        ],
        [
         "13",
         "14",
         "parent_snacks",
         "beverages",
         "441",
         "13.88",
         "active",
         "villanueva_williams_and_green",
         "18.7",
         "10.405000000000001"
        ],
        [
         "14",
         "15",
         "party_dairy",
         "snacks",
         "1696",
         "13.16",
         "active",
         "ramos_inc",
         "19.24",
         "10.47"
        ],
        [
         "15",
         "16",
         "you_bakery",
         "snacks",
         "261",
         "9.42",
         "active",
         "king_lewis_and_edwards",
         "12.34",
         "10.47"
        ],
        [
         "16",
         "17",
         "reason_snacks",
         "frozen_foods",
         "942",
         "16.09",
         "discontinued",
         "kidd_oliver_and_williams",
         "22.9",
         "10.58"
        ],
        [
         "17",
         "18",
         "since_beverages",
         "frozen_foods",
         "396",
         "4.21",
         "active",
         "grant_franklin",
         "6.95",
         "10.58"
        ],
        [
         "18",
         "19",
         "mouth_produce",
         "beverages",
         "1810",
         "5.77",
         "discontinued",
         "garcia_goodman_and_weaver",
         "7.3",
         "10.405000000000001"
        ],
        [
         "19",
         "20",
         "movement_snacks",
         "snacks",
         "1098",
         null,
         "backordered",
         "west_christensen",
         "13.46",
         "10.47"
        ],
        [
         "20",
         "21",
         "get_snacks",
         "beverages",
         "1150",
         "12.16",
         "backordered",
         null,
         "15.5",
         "10.405000000000001"
        ],
        [
         "21",
         "22",
         "break_beverages",
         "dairy",
         "1204",
         "6.99",
         "discontinued",
         "collins_wells_and_christian",
         "8.92",
         "10.28"
        ],
        [
         "22",
         "23",
         "popular_produce",
         "bakery",
         "762",
         "6.15",
         "backordered",
         null,
         "10.04",
         "10.3"
        ],
        [
         "23",
         "24",
         "idea_beverages",
         "dairy",
         "782",
         "7.82",
         "active",
         "smith_plc",
         "13.87",
         "10.28"
        ],
        [
         "24",
         "25",
         "add_frozen_foods",
         "bakery",
         "769",
         null,
         "discontinued",
         "cooke_hayes_and_olson",
         "14.68",
         "10.3"
        ],
        [
         "25",
         "26",
         "finish_beverages",
         "produce",
         "1869",
         "8.69",
         "discontinued",
         "hernandez_and_sons",
         "10.78",
         "9.855"
        ],
        [
         "26",
         "27",
         "school_frozen_foods",
         "produce",
         "1913",
         "9.68",
         "backordered",
         "johnson_llc",
         "14.58",
         "9.855"
        ],
        [
         "27",
         "28",
         "time_frozen_foods",
         "snacks",
         "59",
         "18.75",
         "active",
         null,
         "31.21",
         "10.47"
        ],
        [
         "28",
         "29",
         "yourself_beverages",
         "bakery",
         "163",
         "2.14",
         "backordered",
         "ortega_group",
         "3.47",
         "10.3"
        ],
        [
         "29",
         "30",
         "fast_snacks",
         "bakery",
         "1508",
         "17.15",
         "discontinued",
         "perez_wong_and_smith",
         "29.94",
         "10.3"
        ],
        [
         "30",
         "31",
         "maybe_snacks",
         "frozen_foods",
         "1050",
         "13.25",
         "backordered",
         "howell_mitchell",
         "19.58",
         "10.58"
        ],
        [
         "31",
         "32",
         "music_snacks",
         "bakery",
         "1141",
         "16.39",
         "active",
         "valdez_and_sons",
         "26.44",
         "10.3"
        ],
        [
         "32",
         "33",
         "police_bakery",
         "dairy",
         "1964",
         "17.39",
         "backordered",
         "saunders_ltd",
         "26.87",
         "10.28"
        ],
        [
         "33",
         "34",
         "use_beverages",
         "dairy",
         "1665",
         "12.89",
         "active",
         "dominguez_pena_and_osborne",
         "22.03",
         "10.28"
        ],
        [
         "34",
         "35",
         "color_dairy",
         "dairy",
         "229",
         "3.42",
         "backordered",
         "watts_schroeder",
         "4.13",
         "10.28"
        ],
        [
         "35",
         "36",
         "little_bakery",
         "bakery",
         "647",
         "15.82",
         "active",
         "taylor_thomas",
         "24.16",
         "10.3"
        ],
        [
         "36",
         "37",
         "minute_frozen_foods",
         "beverages",
         "630",
         "9.61",
         "active",
         "rivera_inc",
         "15.11",
         "10.405000000000001"
        ],
        [
         "37",
         "38",
         "certainly_beverages",
         "bakery",
         "1298",
         "3.43",
         "active",
         "garcia_plc",
         "4.33",
         "10.3"
        ],
        [
         "38",
         "39",
         "why_produce",
         "dairy",
         "1631",
         "7.08",
         "active",
         "jackson_cain_and_garcia",
         "9.1",
         "10.28"
        ],
        [
         "39",
         "40",
         "benefit_frozen_foods",
         "beverages",
         "23",
         "17.46",
         "active",
         "joyce_le_and_wallace",
         "31.28",
         "10.405000000000001"
        ],
        [
         "40",
         "41",
         "item_dairy",
         "dairy",
         "10",
         "2.87",
         "backordered",
         "carroll_aguilar_and_richardson",
         "4.62",
         "10.28"
        ],
        [
         "41",
         "42",
         "success_produce",
         "bakery",
         "975",
         "12.44",
         "backordered",
         "brown_duke",
         "16.39",
         "10.3"
        ],
        [
         "42",
         "43",
         "maintain_frozen_foods",
         "dairy",
         "357",
         null,
         "backordered",
         "byrd_hayden_and_cunningham",
         "23.52",
         "10.28"
        ],
        [
         "43",
         "44",
         "top_produce",
         "bakery",
         "1464",
         "3.92",
         "backordered",
         "mills_llc",
         "6.94",
         "10.3"
        ],
        [
         "44",
         "45",
         "public_bakery",
         "snacks",
         "606",
         "8.35",
         "discontinued",
         "stone_boyd_and_wilson",
         "10.46",
         "10.47"
        ],
        [
         "45",
         "46",
         "fact_produce",
         "produce",
         "1857",
         "4.15",
         "backordered",
         "lopez_llc",
         "6.93",
         "9.855"
        ],
        [
         "46",
         "47",
         "into_bakery",
         "beverages",
         "1775",
         "10.1",
         "discontinued",
         "johnson_heath",
         "16.95",
         "10.405000000000001"
        ],
        [
         "47",
         "48",
         "director_snacks",
         "produce",
         "162",
         "5.2",
         "backordered",
         "ray_brown_and_lang",
         "6.29",
         "9.855"
        ],
        [
         "48",
         "49",
         "it_produce",
         "frozen_foods",
         "435",
         "19.18",
         "discontinued",
         "shelton_morales",
         "24.72",
         "10.58"
        ],
        [
         "49",
         "50",
         "away_dairy",
         "bakery",
         "196",
         "7.7",
         "active",
         "valencia_smith",
         "12.82",
         "10.3"
        ]
       ],
       "shape": {
        "columns": 9,
        "rows": 10000
       }
      },
      "text/html": [
       "<div>\n",
       "<style scoped>\n",
       "    .dataframe tbody tr th:only-of-type {\n",
       "        vertical-align: middle;\n",
       "    }\n",
       "\n",
       "    .dataframe tbody tr th {\n",
       "        vertical-align: top;\n",
       "    }\n",
       "\n",
       "    .dataframe thead th {\n",
       "        text-align: right;\n",
       "    }\n",
       "</style>\n",
       "<table border=\"1\" class=\"dataframe\">\n",
       "  <thead>\n",
       "    <tr style=\"text-align: right;\">\n",
       "      <th></th>\n",
       "      <th>product_id</th>\n",
       "      <th>product_name</th>\n",
       "      <th>category</th>\n",
       "      <th>supplier_id</th>\n",
       "      <th>unit_cost</th>\n",
       "      <th>status</th>\n",
       "      <th>brand</th>\n",
       "      <th>list_price</th>\n",
       "      <th>median_unit_cost</th>\n",
       "    </tr>\n",
       "  </thead>\n",
       "  <tbody>\n",
       "    <tr>\n",
       "      <th>0</th>\n",
       "      <td>1</td>\n",
       "      <td>use_bakery</td>\n",
       "      <td>bakery</td>\n",
       "      <td>1664</td>\n",
       "      <td>4.58</td>\n",
       "      <td>active</td>\n",
       "      <td>warren_foster</td>\n",
       "      <td>5.99</td>\n",
       "      <td>10.3</td>\n",
       "    </tr>\n",
       "    <tr>\n",
       "      <th>1</th>\n",
       "      <td>2</td>\n",
       "      <td>thank_frozen_foods</td>\n",
       "      <td>dairy</td>\n",
       "      <td>1662</td>\n",
       "      <td>5.43</td>\n",
       "      <td>backordered</td>\n",
       "      <td>evans_and_sons</td>\n",
       "      <td>7.03</td>\n",
       "      <td>10.28</td>\n",
       "    </tr>\n",
       "    <tr>\n",
       "      <th>2</th>\n",
       "      <td>3</td>\n",
       "      <td>customer_produce</td>\n",
       "      <td>beverages</td>\n",
       "      <td>917</td>\n",
       "      <td>1.83</td>\n",
       "      <td>backordered</td>\n",
       "      <td>newman_and_sons</td>\n",
       "      <td>2.73</td>\n",
       "      <td>10.405</td>\n",
       "    </tr>\n",
       "    <tr>\n",
       "      <th>3</th>\n",
       "      <td>4</td>\n",
       "      <td>sign_dairy</td>\n",
       "      <td>produce</td>\n",
       "      <td>268</td>\n",
       "      <td>8.99</td>\n",
       "      <td>active</td>\n",
       "      <td>mclaughlin_little</td>\n",
       "      <td>14.17</td>\n",
       "      <td>9.855</td>\n",
       "    </tr>\n",
       "    <tr>\n",
       "      <th>4</th>\n",
       "      <td>5</td>\n",
       "      <td>place_frozen_foods</td>\n",
       "      <td>bakery</td>\n",
       "      <td>964</td>\n",
       "      <td>73.3</td>\n",
       "      <td>backordered</td>\n",
       "      <td>leblanc_james_and_thompson</td>\n",
       "      <td>11.08</td>\n",
       "      <td>10.3</td>\n",
       "    </tr>\n",
       "    <tr>\n",
       "      <th>...</th>\n",
       "      <td>...</td>\n",
       "      <td>...</td>\n",
       "      <td>...</td>\n",
       "      <td>...</td>\n",
       "      <td>...</td>\n",
       "      <td>...</td>\n",
       "      <td>...</td>\n",
       "      <td>...</td>\n",
       "      <td>...</td>\n",
       "    </tr>\n",
       "    <tr>\n",
       "      <th>9995</th>\n",
       "      <td>9996</td>\n",
       "      <td>financial_bakery</td>\n",
       "      <td>snacks</td>\n",
       "      <td>1581</td>\n",
       "      <td>5.93</td>\n",
       "      <td>backordered</td>\n",
       "      <td>sparks_llc</td>\n",
       "      <td>7.40</td>\n",
       "      <td>10.47</td>\n",
       "    </tr>\n",
       "    <tr>\n",
       "      <th>9996</th>\n",
       "      <td>9997</td>\n",
       "      <td>hospital_bakery</td>\n",
       "      <td>produce</td>\n",
       "      <td>1426</td>\n",
       "      <td>15.42</td>\n",
       "      <td>discontinued</td>\n",
       "      <td>butler_inc</td>\n",
       "      <td>18.92</td>\n",
       "      <td>9.855</td>\n",
       "    </tr>\n",
       "    <tr>\n",
       "      <th>9997</th>\n",
       "      <td>9998</td>\n",
       "      <td>travel_bakery</td>\n",
       "      <td>produce</td>\n",
       "      <td>31</td>\n",
       "      <td>13.28</td>\n",
       "      <td>backordered</td>\n",
       "      <td>carr_larson</td>\n",
       "      <td>23.15</td>\n",
       "      <td>9.855</td>\n",
       "    </tr>\n",
       "    <tr>\n",
       "      <th>9998</th>\n",
       "      <td>9999</td>\n",
       "      <td>learn_bakery</td>\n",
       "      <td>bakery</td>\n",
       "      <td>987</td>\n",
       "      <td>18.32</td>\n",
       "      <td>active</td>\n",
       "      <td>turner_rodriguez</td>\n",
       "      <td>22.50</td>\n",
       "      <td>10.3</td>\n",
       "    </tr>\n",
       "    <tr>\n",
       "      <th>9999</th>\n",
       "      <td>10000</td>\n",
       "      <td>everything_bakery</td>\n",
       "      <td>snacks</td>\n",
       "      <td>1127</td>\n",
       "      <td>18.24</td>\n",
       "      <td>active</td>\n",
       "      <td>zimmerman_hoffman_and_burns</td>\n",
       "      <td>31.50</td>\n",
       "      <td>10.47</td>\n",
       "    </tr>\n",
       "  </tbody>\n",
       "</table>\n",
       "<p>10000 rows × 9 columns</p>\n",
       "</div>"
      ],
      "text/plain": [
       "      product_id        product_name   category  supplier_id  unit_cost        status                        brand  list_price  median_unit_cost\n",
       "0              1          use_bakery     bakery         1664       4.58        active                warren_foster        5.99              10.3\n",
       "1              2  thank_frozen_foods      dairy         1662       5.43   backordered               evans_and_sons        7.03             10.28\n",
       "2              3    customer_produce  beverages          917       1.83   backordered              newman_and_sons        2.73            10.405\n",
       "3              4          sign_dairy    produce          268       8.99        active            mclaughlin_little       14.17             9.855\n",
       "4              5  place_frozen_foods     bakery          964       73.3   backordered   leblanc_james_and_thompson       11.08              10.3\n",
       "...          ...                 ...        ...          ...        ...           ...                          ...         ...               ...\n",
       "9995        9996    financial_bakery     snacks         1581       5.93   backordered                   sparks_llc        7.40             10.47\n",
       "9996        9997     hospital_bakery    produce         1426      15.42  discontinued                   butler_inc       18.92             9.855\n",
       "9997        9998       travel_bakery    produce           31      13.28   backordered                  carr_larson       23.15             9.855\n",
       "9998        9999        learn_bakery     bakery          987      18.32        active             turner_rodriguez       22.50              10.3\n",
       "9999       10000   everything_bakery     snacks         1127      18.24        active  zimmerman_hoffman_and_burns       31.50             10.47\n",
       "\n",
       "[10000 rows x 9 columns]"
      ]
     },
     "execution_count": 84,
     "metadata": {},
     "output_type": "execute_result"
    }
   ],
   "source": [
    "df_products = df_products.merge(df_category_median_cost, how='left', on='category')\n",
    "df_products"
   ]
  },
  {
   "cell_type": "code",
   "execution_count": 85,
   "id": "452e7024",
   "metadata": {},
   "outputs": [
    {
     "data": {
      "application/vnd.microsoft.datawrangler.viewer.v0+json": {
       "columns": [
        {
         "name": "index",
         "rawType": "int64",
         "type": "integer"
        },
        {
         "name": "product_id",
         "rawType": "int64",
         "type": "integer"
        },
        {
         "name": "product_name",
         "rawType": "string",
         "type": "string"
        },
        {
         "name": "category",
         "rawType": "category",
         "type": "unknown"
        },
        {
         "name": "supplier_id",
         "rawType": "int64",
         "type": "integer"
        },
        {
         "name": "unit_cost",
         "rawType": "float64",
         "type": "float"
        },
        {
         "name": "status",
         "rawType": "category",
         "type": "unknown"
        },
        {
         "name": "brand",
         "rawType": "string",
         "type": "string"
        },
        {
         "name": "list_price",
         "rawType": "float64",
         "type": "float"
        },
        {
         "name": "median_unit_cost",
         "rawType": "Float64",
         "type": "float"
        }
       ],
       "ref": "ccbee35f-4776-4e69-b57e-0ad3e707b4cf",
       "rows": [
        [
         "0",
         "1",
         "use_bakery",
         "bakery",
         "1664",
         "4.58",
         "active",
         "warren_foster",
         "5.99",
         "10.3"
        ],
        [
         "1",
         "2",
         "thank_frozen_foods",
         "dairy",
         "1662",
         "5.43",
         "backordered",
         "evans_and_sons",
         "7.03",
         "10.28"
        ],
        [
         "2",
         "3",
         "customer_produce",
         "beverages",
         "917",
         "1.83",
         "backordered",
         "newman_and_sons",
         "2.73",
         "10.405000000000001"
        ],
        [
         "3",
         "4",
         "sign_dairy",
         "produce",
         "268",
         "8.99",
         "active",
         "mclaughlin_little",
         "14.17",
         "9.855"
        ],
        [
         "4",
         "5",
         "place_frozen_foods",
         "bakery",
         "964",
         "73.3",
         "backordered",
         "leblanc_james_and_thompson",
         "11.08",
         "10.3"
        ],
        [
         "5",
         "6",
         "voice_produce",
         "beverages",
         "169",
         "15.16",
         "backordered",
         "howard_jones_and_ashley",
         "18.28",
         "10.405000000000001"
        ],
        [
         "6",
         "7",
         "home_produce",
         "bakery",
         "911",
         "10.3",
         "backordered",
         null,
         "2.98",
         "10.3"
        ],
        [
         "7",
         "8",
         "care_dairy",
         "beverages",
         "1628",
         "18.64",
         "active",
         null,
         "26.67",
         "10.405000000000001"
        ],
        [
         "8",
         "9",
         "add_bakery",
         "snacks",
         "1115",
         "14.86",
         "backordered",
         "johnston_gross_and_ellis",
         "22.15",
         "10.47"
        ],
        [
         "9",
         "10",
         "tell_snacks",
         "snacks",
         "938",
         "12.9",
         "backordered",
         "edwards_horne_and_soto",
         "21.07",
         "10.47"
        ],
        [
         "10",
         "11",
         "mention_produce",
         "frozen_foods",
         "1701",
         "14.25",
         "discontinued",
         "fowler_llc",
         "20.19",
         "10.58"
        ],
        [
         "11",
         "12",
         "least_produce",
         "produce",
         "209",
         "7.91",
         "backordered",
         "garcia_williams",
         "12.59",
         "9.855"
        ],
        [
         "12",
         "13",
         "situation_dairy",
         "frozen_foods",
         "818",
         "6.5",
         "active",
         "washington_inc",
         "10.9",
         "10.58"
        ],
        [
         "13",
         "14",
         "parent_snacks",
         "beverages",
         "441",
         "13.88",
         "active",
         "villanueva_williams_and_green",
         "18.7",
         "10.405000000000001"
        ],
        [
         "14",
         "15",
         "party_dairy",
         "snacks",
         "1696",
         "13.16",
         "active",
         "ramos_inc",
         "19.24",
         "10.47"
        ],
        [
         "15",
         "16",
         "you_bakery",
         "snacks",
         "261",
         "9.42",
         "active",
         "king_lewis_and_edwards",
         "12.34",
         "10.47"
        ],
        [
         "16",
         "17",
         "reason_snacks",
         "frozen_foods",
         "942",
         "16.09",
         "discontinued",
         "kidd_oliver_and_williams",
         "22.9",
         "10.58"
        ],
        [
         "17",
         "18",
         "since_beverages",
         "frozen_foods",
         "396",
         "4.21",
         "active",
         "grant_franklin",
         "6.95",
         "10.58"
        ],
        [
         "18",
         "19",
         "mouth_produce",
         "beverages",
         "1810",
         "5.77",
         "discontinued",
         "garcia_goodman_and_weaver",
         "7.3",
         "10.405000000000001"
        ],
        [
         "19",
         "20",
         "movement_snacks",
         "snacks",
         "1098",
         "10.47",
         "backordered",
         "west_christensen",
         "13.46",
         "10.47"
        ],
        [
         "20",
         "21",
         "get_snacks",
         "beverages",
         "1150",
         "12.16",
         "backordered",
         null,
         "15.5",
         "10.405000000000001"
        ],
        [
         "21",
         "22",
         "break_beverages",
         "dairy",
         "1204",
         "6.99",
         "discontinued",
         "collins_wells_and_christian",
         "8.92",
         "10.28"
        ],
        [
         "22",
         "23",
         "popular_produce",
         "bakery",
         "762",
         "6.15",
         "backordered",
         null,
         "10.04",
         "10.3"
        ],
        [
         "23",
         "24",
         "idea_beverages",
         "dairy",
         "782",
         "7.82",
         "active",
         "smith_plc",
         "13.87",
         "10.28"
        ],
        [
         "24",
         "25",
         "add_frozen_foods",
         "bakery",
         "769",
         "10.3",
         "discontinued",
         "cooke_hayes_and_olson",
         "14.68",
         "10.3"
        ],
        [
         "25",
         "26",
         "finish_beverages",
         "produce",
         "1869",
         "8.69",
         "discontinued",
         "hernandez_and_sons",
         "10.78",
         "9.855"
        ],
        [
         "26",
         "27",
         "school_frozen_foods",
         "produce",
         "1913",
         "9.68",
         "backordered",
         "johnson_llc",
         "14.58",
         "9.855"
        ],
        [
         "27",
         "28",
         "time_frozen_foods",
         "snacks",
         "59",
         "18.75",
         "active",
         null,
         "31.21",
         "10.47"
        ],
        [
         "28",
         "29",
         "yourself_beverages",
         "bakery",
         "163",
         "2.14",
         "backordered",
         "ortega_group",
         "3.47",
         "10.3"
        ],
        [
         "29",
         "30",
         "fast_snacks",
         "bakery",
         "1508",
         "17.15",
         "discontinued",
         "perez_wong_and_smith",
         "29.94",
         "10.3"
        ],
        [
         "30",
         "31",
         "maybe_snacks",
         "frozen_foods",
         "1050",
         "13.25",
         "backordered",
         "howell_mitchell",
         "19.58",
         "10.58"
        ],
        [
         "31",
         "32",
         "music_snacks",
         "bakery",
         "1141",
         "16.39",
         "active",
         "valdez_and_sons",
         "26.44",
         "10.3"
        ],
        [
         "32",
         "33",
         "police_bakery",
         "dairy",
         "1964",
         "17.39",
         "backordered",
         "saunders_ltd",
         "26.87",
         "10.28"
        ],
        [
         "33",
         "34",
         "use_beverages",
         "dairy",
         "1665",
         "12.89",
         "active",
         "dominguez_pena_and_osborne",
         "22.03",
         "10.28"
        ],
        [
         "34",
         "35",
         "color_dairy",
         "dairy",
         "229",
         "3.42",
         "backordered",
         "watts_schroeder",
         "4.13",
         "10.28"
        ],
        [
         "35",
         "36",
         "little_bakery",
         "bakery",
         "647",
         "15.82",
         "active",
         "taylor_thomas",
         "24.16",
         "10.3"
        ],
        [
         "36",
         "37",
         "minute_frozen_foods",
         "beverages",
         "630",
         "9.61",
         "active",
         "rivera_inc",
         "15.11",
         "10.405000000000001"
        ],
        [
         "37",
         "38",
         "certainly_beverages",
         "bakery",
         "1298",
         "3.43",
         "active",
         "garcia_plc",
         "4.33",
         "10.3"
        ],
        [
         "38",
         "39",
         "why_produce",
         "dairy",
         "1631",
         "7.08",
         "active",
         "jackson_cain_and_garcia",
         "9.1",
         "10.28"
        ],
        [
         "39",
         "40",
         "benefit_frozen_foods",
         "beverages",
         "23",
         "17.46",
         "active",
         "joyce_le_and_wallace",
         "31.28",
         "10.405000000000001"
        ],
        [
         "40",
         "41",
         "item_dairy",
         "dairy",
         "10",
         "2.87",
         "backordered",
         "carroll_aguilar_and_richardson",
         "4.62",
         "10.28"
        ],
        [
         "41",
         "42",
         "success_produce",
         "bakery",
         "975",
         "12.44",
         "backordered",
         "brown_duke",
         "16.39",
         "10.3"
        ],
        [
         "42",
         "43",
         "maintain_frozen_foods",
         "dairy",
         "357",
         "10.28",
         "backordered",
         "byrd_hayden_and_cunningham",
         "23.52",
         "10.28"
        ],
        [
         "43",
         "44",
         "top_produce",
         "bakery",
         "1464",
         "3.92",
         "backordered",
         "mills_llc",
         "6.94",
         "10.3"
        ],
        [
         "44",
         "45",
         "public_bakery",
         "snacks",
         "606",
         "8.35",
         "discontinued",
         "stone_boyd_and_wilson",
         "10.46",
         "10.47"
        ],
        [
         "45",
         "46",
         "fact_produce",
         "produce",
         "1857",
         "4.15",
         "backordered",
         "lopez_llc",
         "6.93",
         "9.855"
        ],
        [
         "46",
         "47",
         "into_bakery",
         "beverages",
         "1775",
         "10.1",
         "discontinued",
         "johnson_heath",
         "16.95",
         "10.405000000000001"
        ],
        [
         "47",
         "48",
         "director_snacks",
         "produce",
         "162",
         "5.2",
         "backordered",
         "ray_brown_and_lang",
         "6.29",
         "9.855"
        ],
        [
         "48",
         "49",
         "it_produce",
         "frozen_foods",
         "435",
         "19.18",
         "discontinued",
         "shelton_morales",
         "24.72",
         "10.58"
        ],
        [
         "49",
         "50",
         "away_dairy",
         "bakery",
         "196",
         "7.7",
         "active",
         "valencia_smith",
         "12.82",
         "10.3"
        ]
       ],
       "shape": {
        "columns": 9,
        "rows": 10000
       }
      },
      "text/html": [
       "<div>\n",
       "<style scoped>\n",
       "    .dataframe tbody tr th:only-of-type {\n",
       "        vertical-align: middle;\n",
       "    }\n",
       "\n",
       "    .dataframe tbody tr th {\n",
       "        vertical-align: top;\n",
       "    }\n",
       "\n",
       "    .dataframe thead th {\n",
       "        text-align: right;\n",
       "    }\n",
       "</style>\n",
       "<table border=\"1\" class=\"dataframe\">\n",
       "  <thead>\n",
       "    <tr style=\"text-align: right;\">\n",
       "      <th></th>\n",
       "      <th>product_id</th>\n",
       "      <th>product_name</th>\n",
       "      <th>category</th>\n",
       "      <th>supplier_id</th>\n",
       "      <th>unit_cost</th>\n",
       "      <th>status</th>\n",
       "      <th>brand</th>\n",
       "      <th>list_price</th>\n",
       "      <th>median_unit_cost</th>\n",
       "    </tr>\n",
       "  </thead>\n",
       "  <tbody>\n",
       "    <tr>\n",
       "      <th>0</th>\n",
       "      <td>1</td>\n",
       "      <td>use_bakery</td>\n",
       "      <td>bakery</td>\n",
       "      <td>1664</td>\n",
       "      <td>4.58</td>\n",
       "      <td>active</td>\n",
       "      <td>warren_foster</td>\n",
       "      <td>5.99</td>\n",
       "      <td>10.3</td>\n",
       "    </tr>\n",
       "    <tr>\n",
       "      <th>1</th>\n",
       "      <td>2</td>\n",
       "      <td>thank_frozen_foods</td>\n",
       "      <td>dairy</td>\n",
       "      <td>1662</td>\n",
       "      <td>5.43</td>\n",
       "      <td>backordered</td>\n",
       "      <td>evans_and_sons</td>\n",
       "      <td>7.03</td>\n",
       "      <td>10.28</td>\n",
       "    </tr>\n",
       "    <tr>\n",
       "      <th>2</th>\n",
       "      <td>3</td>\n",
       "      <td>customer_produce</td>\n",
       "      <td>beverages</td>\n",
       "      <td>917</td>\n",
       "      <td>1.83</td>\n",
       "      <td>backordered</td>\n",
       "      <td>newman_and_sons</td>\n",
       "      <td>2.73</td>\n",
       "      <td>10.405</td>\n",
       "    </tr>\n",
       "    <tr>\n",
       "      <th>3</th>\n",
       "      <td>4</td>\n",
       "      <td>sign_dairy</td>\n",
       "      <td>produce</td>\n",
       "      <td>268</td>\n",
       "      <td>8.99</td>\n",
       "      <td>active</td>\n",
       "      <td>mclaughlin_little</td>\n",
       "      <td>14.17</td>\n",
       "      <td>9.855</td>\n",
       "    </tr>\n",
       "    <tr>\n",
       "      <th>4</th>\n",
       "      <td>5</td>\n",
       "      <td>place_frozen_foods</td>\n",
       "      <td>bakery</td>\n",
       "      <td>964</td>\n",
       "      <td>73.30</td>\n",
       "      <td>backordered</td>\n",
       "      <td>leblanc_james_and_thompson</td>\n",
       "      <td>11.08</td>\n",
       "      <td>10.3</td>\n",
       "    </tr>\n",
       "    <tr>\n",
       "      <th>...</th>\n",
       "      <td>...</td>\n",
       "      <td>...</td>\n",
       "      <td>...</td>\n",
       "      <td>...</td>\n",
       "      <td>...</td>\n",
       "      <td>...</td>\n",
       "      <td>...</td>\n",
       "      <td>...</td>\n",
       "      <td>...</td>\n",
       "    </tr>\n",
       "    <tr>\n",
       "      <th>9995</th>\n",
       "      <td>9996</td>\n",
       "      <td>financial_bakery</td>\n",
       "      <td>snacks</td>\n",
       "      <td>1581</td>\n",
       "      <td>5.93</td>\n",
       "      <td>backordered</td>\n",
       "      <td>sparks_llc</td>\n",
       "      <td>7.40</td>\n",
       "      <td>10.47</td>\n",
       "    </tr>\n",
       "    <tr>\n",
       "      <th>9996</th>\n",
       "      <td>9997</td>\n",
       "      <td>hospital_bakery</td>\n",
       "      <td>produce</td>\n",
       "      <td>1426</td>\n",
       "      <td>15.42</td>\n",
       "      <td>discontinued</td>\n",
       "      <td>butler_inc</td>\n",
       "      <td>18.92</td>\n",
       "      <td>9.855</td>\n",
       "    </tr>\n",
       "    <tr>\n",
       "      <th>9997</th>\n",
       "      <td>9998</td>\n",
       "      <td>travel_bakery</td>\n",
       "      <td>produce</td>\n",
       "      <td>31</td>\n",
       "      <td>13.28</td>\n",
       "      <td>backordered</td>\n",
       "      <td>carr_larson</td>\n",
       "      <td>23.15</td>\n",
       "      <td>9.855</td>\n",
       "    </tr>\n",
       "    <tr>\n",
       "      <th>9998</th>\n",
       "      <td>9999</td>\n",
       "      <td>learn_bakery</td>\n",
       "      <td>bakery</td>\n",
       "      <td>987</td>\n",
       "      <td>18.32</td>\n",
       "      <td>active</td>\n",
       "      <td>turner_rodriguez</td>\n",
       "      <td>22.50</td>\n",
       "      <td>10.3</td>\n",
       "    </tr>\n",
       "    <tr>\n",
       "      <th>9999</th>\n",
       "      <td>10000</td>\n",
       "      <td>everything_bakery</td>\n",
       "      <td>snacks</td>\n",
       "      <td>1127</td>\n",
       "      <td>18.24</td>\n",
       "      <td>active</td>\n",
       "      <td>zimmerman_hoffman_and_burns</td>\n",
       "      <td>31.50</td>\n",
       "      <td>10.47</td>\n",
       "    </tr>\n",
       "  </tbody>\n",
       "</table>\n",
       "<p>10000 rows × 9 columns</p>\n",
       "</div>"
      ],
      "text/plain": [
       "      product_id        product_name   category  supplier_id  unit_cost        status                        brand  list_price  median_unit_cost\n",
       "0              1          use_bakery     bakery         1664       4.58        active                warren_foster        5.99              10.3\n",
       "1              2  thank_frozen_foods      dairy         1662       5.43   backordered               evans_and_sons        7.03             10.28\n",
       "2              3    customer_produce  beverages          917       1.83   backordered              newman_and_sons        2.73            10.405\n",
       "3              4          sign_dairy    produce          268       8.99        active            mclaughlin_little       14.17             9.855\n",
       "4              5  place_frozen_foods     bakery          964      73.30   backordered   leblanc_james_and_thompson       11.08              10.3\n",
       "...          ...                 ...        ...          ...        ...           ...                          ...         ...               ...\n",
       "9995        9996    financial_bakery     snacks         1581       5.93   backordered                   sparks_llc        7.40             10.47\n",
       "9996        9997     hospital_bakery    produce         1426      15.42  discontinued                   butler_inc       18.92             9.855\n",
       "9997        9998       travel_bakery    produce           31      13.28   backordered                  carr_larson       23.15             9.855\n",
       "9998        9999        learn_bakery     bakery          987      18.32        active             turner_rodriguez       22.50              10.3\n",
       "9999       10000   everything_bakery     snacks         1127      18.24        active  zimmerman_hoffman_and_burns       31.50             10.47\n",
       "\n",
       "[10000 rows x 9 columns]"
      ]
     },
     "execution_count": 85,
     "metadata": {},
     "output_type": "execute_result"
    }
   ],
   "source": [
    "df_products['unit_cost'] = df_products.apply(lambda row: row['median_unit_cost'] if pd.isna(row['unit_cost']) else row['unit_cost'],\n",
    "                                             axis=1)\n",
    "df_products"
   ]
  },
  {
   "cell_type": "code",
   "execution_count": 86,
   "id": "09e4b893",
   "metadata": {},
   "outputs": [
    {
     "data": {
      "application/vnd.microsoft.datawrangler.viewer.v0+json": {
       "columns": [
        {
         "name": "index",
         "rawType": "int64",
         "type": "integer"
        },
        {
         "name": "product_id",
         "rawType": "int64",
         "type": "integer"
        },
        {
         "name": "product_name",
         "rawType": "string",
         "type": "string"
        },
        {
         "name": "category",
         "rawType": "category",
         "type": "unknown"
        },
        {
         "name": "supplier_id",
         "rawType": "int64",
         "type": "integer"
        },
        {
         "name": "unit_cost",
         "rawType": "float64",
         "type": "float"
        },
        {
         "name": "status",
         "rawType": "category",
         "type": "unknown"
        },
        {
         "name": "brand",
         "rawType": "string",
         "type": "string"
        },
        {
         "name": "list_price",
         "rawType": "float64",
         "type": "float"
        },
        {
         "name": "median_unit_cost",
         "rawType": "Float64",
         "type": "float"
        }
       ],
       "ref": "15ce7eff-b74d-460a-a621-d8720d7ed83c",
       "rows": [
        [
         "0",
         "1",
         "use_bakery",
         "bakery",
         "1664",
         "4.58",
         "active",
         "warren_foster",
         "5.99",
         "10.3"
        ],
        [
         "1",
         "2",
         "thank_frozen_foods",
         "dairy",
         "1662",
         "5.43",
         "backordered",
         "evans_and_sons",
         "7.03",
         "10.28"
        ],
        [
         "2",
         "3",
         "customer_produce",
         "beverages",
         "917",
         "1.83",
         "backordered",
         "newman_and_sons",
         "2.73",
         "10.405000000000001"
        ],
        [
         "3",
         "4",
         "sign_dairy",
         "produce",
         "268",
         "8.99",
         "active",
         "mclaughlin_little",
         "14.17",
         "9.855"
        ],
        [
         "4",
         "5",
         "place_frozen_foods",
         "bakery",
         "964",
         "73.3",
         "backordered",
         "leblanc_james_and_thompson",
         "11.08",
         "10.3"
        ],
        [
         "5",
         "6",
         "voice_produce",
         "beverages",
         "169",
         "15.16",
         "backordered",
         "howard_jones_and_ashley",
         "18.28",
         "10.405000000000001"
        ],
        [
         "6",
         "7",
         "home_produce",
         "bakery",
         "911",
         "10.3",
         "backordered",
         null,
         "2.98",
         "10.3"
        ],
        [
         "7",
         "8",
         "care_dairy",
         "beverages",
         "1628",
         "18.64",
         "active",
         null,
         "26.67",
         "10.405000000000001"
        ],
        [
         "8",
         "9",
         "add_bakery",
         "snacks",
         "1115",
         "14.86",
         "backordered",
         "johnston_gross_and_ellis",
         "22.15",
         "10.47"
        ],
        [
         "9",
         "10",
         "tell_snacks",
         "snacks",
         "938",
         "12.9",
         "backordered",
         "edwards_horne_and_soto",
         "21.07",
         "10.47"
        ],
        [
         "10",
         "11",
         "mention_produce",
         "frozen_foods",
         "1701",
         "14.25",
         "discontinued",
         "fowler_llc",
         "20.19",
         "10.58"
        ],
        [
         "11",
         "12",
         "least_produce",
         "produce",
         "209",
         "7.91",
         "backordered",
         "garcia_williams",
         "12.59",
         "9.855"
        ],
        [
         "12",
         "13",
         "situation_dairy",
         "frozen_foods",
         "818",
         "6.5",
         "active",
         "washington_inc",
         "10.9",
         "10.58"
        ],
        [
         "13",
         "14",
         "parent_snacks",
         "beverages",
         "441",
         "13.88",
         "active",
         "villanueva_williams_and_green",
         "18.7",
         "10.405000000000001"
        ],
        [
         "14",
         "15",
         "party_dairy",
         "snacks",
         "1696",
         "13.16",
         "active",
         "ramos_inc",
         "19.24",
         "10.47"
        ],
        [
         "15",
         "16",
         "you_bakery",
         "snacks",
         "261",
         "9.42",
         "active",
         "king_lewis_and_edwards",
         "12.34",
         "10.47"
        ],
        [
         "16",
         "17",
         "reason_snacks",
         "frozen_foods",
         "942",
         "16.09",
         "discontinued",
         "kidd_oliver_and_williams",
         "22.9",
         "10.58"
        ],
        [
         "17",
         "18",
         "since_beverages",
         "frozen_foods",
         "396",
         "4.21",
         "active",
         "grant_franklin",
         "6.95",
         "10.58"
        ],
        [
         "18",
         "19",
         "mouth_produce",
         "beverages",
         "1810",
         "5.77",
         "discontinued",
         "garcia_goodman_and_weaver",
         "7.3",
         "10.405000000000001"
        ],
        [
         "19",
         "20",
         "movement_snacks",
         "snacks",
         "1098",
         "10.47",
         "backordered",
         "west_christensen",
         "13.46",
         "10.47"
        ],
        [
         "20",
         "21",
         "get_snacks",
         "beverages",
         "1150",
         "12.16",
         "backordered",
         null,
         "15.5",
         "10.405000000000001"
        ],
        [
         "21",
         "22",
         "break_beverages",
         "dairy",
         "1204",
         "6.99",
         "discontinued",
         "collins_wells_and_christian",
         "8.92",
         "10.28"
        ],
        [
         "22",
         "23",
         "popular_produce",
         "bakery",
         "762",
         "6.15",
         "backordered",
         null,
         "10.04",
         "10.3"
        ],
        [
         "23",
         "24",
         "idea_beverages",
         "dairy",
         "782",
         "7.82",
         "active",
         "smith_plc",
         "13.87",
         "10.28"
        ],
        [
         "24",
         "25",
         "add_frozen_foods",
         "bakery",
         "769",
         "10.3",
         "discontinued",
         "cooke_hayes_and_olson",
         "14.68",
         "10.3"
        ],
        [
         "25",
         "26",
         "finish_beverages",
         "produce",
         "1869",
         "8.69",
         "discontinued",
         "hernandez_and_sons",
         "10.78",
         "9.855"
        ],
        [
         "26",
         "27",
         "school_frozen_foods",
         "produce",
         "1913",
         "9.68",
         "backordered",
         "johnson_llc",
         "14.58",
         "9.855"
        ],
        [
         "27",
         "28",
         "time_frozen_foods",
         "snacks",
         "59",
         "18.75",
         "active",
         null,
         "31.21",
         "10.47"
        ],
        [
         "28",
         "29",
         "yourself_beverages",
         "bakery",
         "163",
         "2.14",
         "backordered",
         "ortega_group",
         "3.47",
         "10.3"
        ],
        [
         "29",
         "30",
         "fast_snacks",
         "bakery",
         "1508",
         "17.15",
         "discontinued",
         "perez_wong_and_smith",
         "29.94",
         "10.3"
        ],
        [
         "30",
         "31",
         "maybe_snacks",
         "frozen_foods",
         "1050",
         "13.25",
         "backordered",
         "howell_mitchell",
         "19.58",
         "10.58"
        ],
        [
         "31",
         "32",
         "music_snacks",
         "bakery",
         "1141",
         "16.39",
         "active",
         "valdez_and_sons",
         "26.44",
         "10.3"
        ],
        [
         "32",
         "33",
         "police_bakery",
         "dairy",
         "1964",
         "17.39",
         "backordered",
         "saunders_ltd",
         "26.87",
         "10.28"
        ],
        [
         "33",
         "34",
         "use_beverages",
         "dairy",
         "1665",
         "12.89",
         "active",
         "dominguez_pena_and_osborne",
         "22.03",
         "10.28"
        ],
        [
         "34",
         "35",
         "color_dairy",
         "dairy",
         "229",
         "3.42",
         "backordered",
         "watts_schroeder",
         "4.13",
         "10.28"
        ],
        [
         "35",
         "36",
         "little_bakery",
         "bakery",
         "647",
         "15.82",
         "active",
         "taylor_thomas",
         "24.16",
         "10.3"
        ],
        [
         "36",
         "37",
         "minute_frozen_foods",
         "beverages",
         "630",
         "9.61",
         "active",
         "rivera_inc",
         "15.11",
         "10.405000000000001"
        ],
        [
         "37",
         "38",
         "certainly_beverages",
         "bakery",
         "1298",
         "3.43",
         "active",
         "garcia_plc",
         "4.33",
         "10.3"
        ],
        [
         "38",
         "39",
         "why_produce",
         "dairy",
         "1631",
         "7.08",
         "active",
         "jackson_cain_and_garcia",
         "9.1",
         "10.28"
        ],
        [
         "39",
         "40",
         "benefit_frozen_foods",
         "beverages",
         "23",
         "17.46",
         "active",
         "joyce_le_and_wallace",
         "31.28",
         "10.405000000000001"
        ],
        [
         "40",
         "41",
         "item_dairy",
         "dairy",
         "10",
         "2.87",
         "backordered",
         "carroll_aguilar_and_richardson",
         "4.62",
         "10.28"
        ],
        [
         "41",
         "42",
         "success_produce",
         "bakery",
         "975",
         "12.44",
         "backordered",
         "brown_duke",
         "16.39",
         "10.3"
        ],
        [
         "42",
         "43",
         "maintain_frozen_foods",
         "dairy",
         "357",
         "10.28",
         "backordered",
         "byrd_hayden_and_cunningham",
         "23.52",
         "10.28"
        ],
        [
         "43",
         "44",
         "top_produce",
         "bakery",
         "1464",
         "3.92",
         "backordered",
         "mills_llc",
         "6.94",
         "10.3"
        ],
        [
         "44",
         "45",
         "public_bakery",
         "snacks",
         "606",
         "8.35",
         "discontinued",
         "stone_boyd_and_wilson",
         "10.46",
         "10.47"
        ],
        [
         "45",
         "46",
         "fact_produce",
         "produce",
         "1857",
         "4.15",
         "backordered",
         "lopez_llc",
         "6.93",
         "9.855"
        ],
        [
         "46",
         "47",
         "into_bakery",
         "beverages",
         "1775",
         "10.1",
         "discontinued",
         "johnson_heath",
         "16.95",
         "10.405000000000001"
        ],
        [
         "47",
         "48",
         "director_snacks",
         "produce",
         "162",
         "5.2",
         "backordered",
         "ray_brown_and_lang",
         "6.29",
         "9.855"
        ],
        [
         "48",
         "49",
         "it_produce",
         "frozen_foods",
         "435",
         "19.18",
         "discontinued",
         "shelton_morales",
         "24.72",
         "10.58"
        ],
        [
         "49",
         "50",
         "away_dairy",
         "bakery",
         "196",
         "7.7",
         "active",
         "valencia_smith",
         "12.82",
         "10.3"
        ]
       ],
       "shape": {
        "columns": 9,
        "rows": 10000
       }
      },
      "text/html": [
       "<div>\n",
       "<style scoped>\n",
       "    .dataframe tbody tr th:only-of-type {\n",
       "        vertical-align: middle;\n",
       "    }\n",
       "\n",
       "    .dataframe tbody tr th {\n",
       "        vertical-align: top;\n",
       "    }\n",
       "\n",
       "    .dataframe thead th {\n",
       "        text-align: right;\n",
       "    }\n",
       "</style>\n",
       "<table border=\"1\" class=\"dataframe\">\n",
       "  <thead>\n",
       "    <tr style=\"text-align: right;\">\n",
       "      <th></th>\n",
       "      <th>product_id</th>\n",
       "      <th>product_name</th>\n",
       "      <th>category</th>\n",
       "      <th>supplier_id</th>\n",
       "      <th>unit_cost</th>\n",
       "      <th>status</th>\n",
       "      <th>brand</th>\n",
       "      <th>list_price</th>\n",
       "      <th>median_unit_cost</th>\n",
       "    </tr>\n",
       "  </thead>\n",
       "  <tbody>\n",
       "    <tr>\n",
       "      <th>0</th>\n",
       "      <td>1</td>\n",
       "      <td>use_bakery</td>\n",
       "      <td>bakery</td>\n",
       "      <td>1664</td>\n",
       "      <td>4.58</td>\n",
       "      <td>active</td>\n",
       "      <td>warren_foster</td>\n",
       "      <td>5.99</td>\n",
       "      <td>10.3</td>\n",
       "    </tr>\n",
       "    <tr>\n",
       "      <th>1</th>\n",
       "      <td>2</td>\n",
       "      <td>thank_frozen_foods</td>\n",
       "      <td>dairy</td>\n",
       "      <td>1662</td>\n",
       "      <td>5.43</td>\n",
       "      <td>backordered</td>\n",
       "      <td>evans_and_sons</td>\n",
       "      <td>7.03</td>\n",
       "      <td>10.28</td>\n",
       "    </tr>\n",
       "    <tr>\n",
       "      <th>2</th>\n",
       "      <td>3</td>\n",
       "      <td>customer_produce</td>\n",
       "      <td>beverages</td>\n",
       "      <td>917</td>\n",
       "      <td>1.83</td>\n",
       "      <td>backordered</td>\n",
       "      <td>newman_and_sons</td>\n",
       "      <td>2.73</td>\n",
       "      <td>10.405</td>\n",
       "    </tr>\n",
       "    <tr>\n",
       "      <th>3</th>\n",
       "      <td>4</td>\n",
       "      <td>sign_dairy</td>\n",
       "      <td>produce</td>\n",
       "      <td>268</td>\n",
       "      <td>8.99</td>\n",
       "      <td>active</td>\n",
       "      <td>mclaughlin_little</td>\n",
       "      <td>14.17</td>\n",
       "      <td>9.855</td>\n",
       "    </tr>\n",
       "    <tr>\n",
       "      <th>4</th>\n",
       "      <td>5</td>\n",
       "      <td>place_frozen_foods</td>\n",
       "      <td>bakery</td>\n",
       "      <td>964</td>\n",
       "      <td>73.30</td>\n",
       "      <td>backordered</td>\n",
       "      <td>leblanc_james_and_thompson</td>\n",
       "      <td>11.08</td>\n",
       "      <td>10.3</td>\n",
       "    </tr>\n",
       "    <tr>\n",
       "      <th>...</th>\n",
       "      <td>...</td>\n",
       "      <td>...</td>\n",
       "      <td>...</td>\n",
       "      <td>...</td>\n",
       "      <td>...</td>\n",
       "      <td>...</td>\n",
       "      <td>...</td>\n",
       "      <td>...</td>\n",
       "      <td>...</td>\n",
       "    </tr>\n",
       "    <tr>\n",
       "      <th>9995</th>\n",
       "      <td>9996</td>\n",
       "      <td>financial_bakery</td>\n",
       "      <td>snacks</td>\n",
       "      <td>1581</td>\n",
       "      <td>5.93</td>\n",
       "      <td>backordered</td>\n",
       "      <td>sparks_llc</td>\n",
       "      <td>7.40</td>\n",
       "      <td>10.47</td>\n",
       "    </tr>\n",
       "    <tr>\n",
       "      <th>9996</th>\n",
       "      <td>9997</td>\n",
       "      <td>hospital_bakery</td>\n",
       "      <td>produce</td>\n",
       "      <td>1426</td>\n",
       "      <td>15.42</td>\n",
       "      <td>discontinued</td>\n",
       "      <td>butler_inc</td>\n",
       "      <td>18.92</td>\n",
       "      <td>9.855</td>\n",
       "    </tr>\n",
       "    <tr>\n",
       "      <th>9997</th>\n",
       "      <td>9998</td>\n",
       "      <td>travel_bakery</td>\n",
       "      <td>produce</td>\n",
       "      <td>31</td>\n",
       "      <td>13.28</td>\n",
       "      <td>backordered</td>\n",
       "      <td>carr_larson</td>\n",
       "      <td>23.15</td>\n",
       "      <td>9.855</td>\n",
       "    </tr>\n",
       "    <tr>\n",
       "      <th>9998</th>\n",
       "      <td>9999</td>\n",
       "      <td>learn_bakery</td>\n",
       "      <td>bakery</td>\n",
       "      <td>987</td>\n",
       "      <td>18.32</td>\n",
       "      <td>active</td>\n",
       "      <td>turner_rodriguez</td>\n",
       "      <td>22.50</td>\n",
       "      <td>10.3</td>\n",
       "    </tr>\n",
       "    <tr>\n",
       "      <th>9999</th>\n",
       "      <td>10000</td>\n",
       "      <td>everything_bakery</td>\n",
       "      <td>snacks</td>\n",
       "      <td>1127</td>\n",
       "      <td>18.24</td>\n",
       "      <td>active</td>\n",
       "      <td>zimmerman_hoffman_and_burns</td>\n",
       "      <td>31.50</td>\n",
       "      <td>10.47</td>\n",
       "    </tr>\n",
       "  </tbody>\n",
       "</table>\n",
       "<p>10000 rows × 9 columns</p>\n",
       "</div>"
      ],
      "text/plain": [
       "      product_id        product_name   category  supplier_id  unit_cost        status                        brand  list_price  median_unit_cost\n",
       "0              1          use_bakery     bakery         1664       4.58        active                warren_foster        5.99              10.3\n",
       "1              2  thank_frozen_foods      dairy         1662       5.43   backordered               evans_and_sons        7.03             10.28\n",
       "2              3    customer_produce  beverages          917       1.83   backordered              newman_and_sons        2.73            10.405\n",
       "3              4          sign_dairy    produce          268       8.99        active            mclaughlin_little       14.17             9.855\n",
       "4              5  place_frozen_foods     bakery          964      73.30   backordered   leblanc_james_and_thompson       11.08              10.3\n",
       "...          ...                 ...        ...          ...        ...           ...                          ...         ...               ...\n",
       "9995        9996    financial_bakery     snacks         1581       5.93   backordered                   sparks_llc        7.40             10.47\n",
       "9996        9997     hospital_bakery    produce         1426      15.42  discontinued                   butler_inc       18.92             9.855\n",
       "9997        9998       travel_bakery    produce           31      13.28   backordered                  carr_larson       23.15             9.855\n",
       "9998        9999        learn_bakery     bakery          987      18.32        active             turner_rodriguez       22.50              10.3\n",
       "9999       10000   everything_bakery     snacks         1127      18.24        active  zimmerman_hoffman_and_burns       31.50             10.47\n",
       "\n",
       "[10000 rows x 9 columns]"
      ]
     },
     "execution_count": 86,
     "metadata": {},
     "output_type": "execute_result"
    }
   ],
   "source": [
    "df_product = df_products.drop(columns='median_unit_cost')\n",
    "df_products"
   ]
  },
  {
   "cell_type": "markdown",
   "id": "bfde4511",
   "metadata": {},
   "source": [
    "##### `LSPL`\n",
    "\n",
    "**Note:**\n",
    "\n",
    "- Missing values in __df_products__, _'unit_cost'_ column\n",
    "\n",
    "Missing values in the `unit_cost` column were initially present in approximately **5%** of the products. These gaps can significantly affect financial indicators such as gross margin, inventory valuation, and pricing analysis.\n",
    "\n",
    "__Solution__: All missing values in `unit_cost` were imputed using a **three-level stratified markup ratio strategy**. First, we calculated average markup ratios based on `'product_name'` and `'category'`. Second, the rest of the missing values that couldn't be matched, , it was used a broader grouping based on `'category'` and `'brand'`. Third, any other remaining missing values (~3%) were imputed using the **median unit cost by `category`**, ensuring robust and context-aware estimates.\n",
    "\n",
    "__Impact__: This approach helped ensure **100% completeness** of the `unit_cost` column. It supports accurate profitability analysis, cost modeling, and business decision-making. Using stratified and statistically robust imputation helps preserve business logic and prevents misleading insights due to arbitrary or uniform imputation (e.g., using 0s).\n"
   ]
  },
  {
   "cell_type": "markdown",
   "id": "105cb0a9",
   "metadata": {},
   "source": [
    "#### 3.5.2 Missing values data imputation for df_products column 'brand'."
   ]
  },
  {
   "cell_type": "code",
   "execution_count": 87,
   "id": "25ee5e09",
   "metadata": {},
   "outputs": [
    {
     "data": {
      "application/vnd.microsoft.datawrangler.viewer.v0+json": {
       "columns": [
        {
         "name": "index",
         "rawType": "int64",
         "type": "integer"
        },
        {
         "name": "product_id",
         "rawType": "int64",
         "type": "integer"
        },
        {
         "name": "product_name",
         "rawType": "string",
         "type": "string"
        },
        {
         "name": "category",
         "rawType": "category",
         "type": "unknown"
        },
        {
         "name": "supplier_id",
         "rawType": "int64",
         "type": "integer"
        },
        {
         "name": "unit_cost",
         "rawType": "float64",
         "type": "float"
        },
        {
         "name": "status",
         "rawType": "category",
         "type": "unknown"
        },
        {
         "name": "brand",
         "rawType": "string",
         "type": "string"
        },
        {
         "name": "list_price",
         "rawType": "float64",
         "type": "float"
        },
        {
         "name": "median_unit_cost",
         "rawType": "Float64",
         "type": "float"
        }
       ],
       "ref": "c6fad5b0-da73-44c1-b3f3-eb22fee4e0c7",
       "rows": [
        [
         "0",
         "1",
         "use_bakery",
         "bakery",
         "1664",
         "4.58",
         "active",
         "warren_foster",
         "5.99",
         "10.3"
        ],
        [
         "1",
         "2",
         "thank_frozen_foods",
         "dairy",
         "1662",
         "5.43",
         "backordered",
         "evans_and_sons",
         "7.03",
         "10.28"
        ],
        [
         "2",
         "3",
         "customer_produce",
         "beverages",
         "917",
         "1.83",
         "backordered",
         "newman_and_sons",
         "2.73",
         "10.405000000000001"
        ],
        [
         "3",
         "4",
         "sign_dairy",
         "produce",
         "268",
         "8.99",
         "active",
         "mclaughlin_little",
         "14.17",
         "9.855"
        ],
        [
         "4",
         "5",
         "place_frozen_foods",
         "bakery",
         "964",
         "73.3",
         "backordered",
         "leblanc_james_and_thompson",
         "11.08",
         "10.3"
        ],
        [
         "5",
         "6",
         "voice_produce",
         "beverages",
         "169",
         "15.16",
         "backordered",
         "howard_jones_and_ashley",
         "18.28",
         "10.405000000000001"
        ],
        [
         "6",
         "7",
         "home_produce",
         "bakery",
         "911",
         "10.3",
         "backordered",
         "unknown",
         "2.98",
         "10.3"
        ],
        [
         "7",
         "8",
         "care_dairy",
         "beverages",
         "1628",
         "18.64",
         "active",
         "unknown",
         "26.67",
         "10.405000000000001"
        ],
        [
         "8",
         "9",
         "add_bakery",
         "snacks",
         "1115",
         "14.86",
         "backordered",
         "johnston_gross_and_ellis",
         "22.15",
         "10.47"
        ],
        [
         "9",
         "10",
         "tell_snacks",
         "snacks",
         "938",
         "12.9",
         "backordered",
         "edwards_horne_and_soto",
         "21.07",
         "10.47"
        ],
        [
         "10",
         "11",
         "mention_produce",
         "frozen_foods",
         "1701",
         "14.25",
         "discontinued",
         "fowler_llc",
         "20.19",
         "10.58"
        ],
        [
         "11",
         "12",
         "least_produce",
         "produce",
         "209",
         "7.91",
         "backordered",
         "garcia_williams",
         "12.59",
         "9.855"
        ],
        [
         "12",
         "13",
         "situation_dairy",
         "frozen_foods",
         "818",
         "6.5",
         "active",
         "washington_inc",
         "10.9",
         "10.58"
        ],
        [
         "13",
         "14",
         "parent_snacks",
         "beverages",
         "441",
         "13.88",
         "active",
         "villanueva_williams_and_green",
         "18.7",
         "10.405000000000001"
        ],
        [
         "14",
         "15",
         "party_dairy",
         "snacks",
         "1696",
         "13.16",
         "active",
         "ramos_inc",
         "19.24",
         "10.47"
        ],
        [
         "15",
         "16",
         "you_bakery",
         "snacks",
         "261",
         "9.42",
         "active",
         "king_lewis_and_edwards",
         "12.34",
         "10.47"
        ],
        [
         "16",
         "17",
         "reason_snacks",
         "frozen_foods",
         "942",
         "16.09",
         "discontinued",
         "kidd_oliver_and_williams",
         "22.9",
         "10.58"
        ],
        [
         "17",
         "18",
         "since_beverages",
         "frozen_foods",
         "396",
         "4.21",
         "active",
         "grant_franklin",
         "6.95",
         "10.58"
        ],
        [
         "18",
         "19",
         "mouth_produce",
         "beverages",
         "1810",
         "5.77",
         "discontinued",
         "garcia_goodman_and_weaver",
         "7.3",
         "10.405000000000001"
        ],
        [
         "19",
         "20",
         "movement_snacks",
         "snacks",
         "1098",
         "10.47",
         "backordered",
         "west_christensen",
         "13.46",
         "10.47"
        ],
        [
         "20",
         "21",
         "get_snacks",
         "beverages",
         "1150",
         "12.16",
         "backordered",
         "unknown",
         "15.5",
         "10.405000000000001"
        ],
        [
         "21",
         "22",
         "break_beverages",
         "dairy",
         "1204",
         "6.99",
         "discontinued",
         "collins_wells_and_christian",
         "8.92",
         "10.28"
        ],
        [
         "22",
         "23",
         "popular_produce",
         "bakery",
         "762",
         "6.15",
         "backordered",
         "unknown",
         "10.04",
         "10.3"
        ],
        [
         "23",
         "24",
         "idea_beverages",
         "dairy",
         "782",
         "7.82",
         "active",
         "smith_plc",
         "13.87",
         "10.28"
        ],
        [
         "24",
         "25",
         "add_frozen_foods",
         "bakery",
         "769",
         "10.3",
         "discontinued",
         "cooke_hayes_and_olson",
         "14.68",
         "10.3"
        ],
        [
         "25",
         "26",
         "finish_beverages",
         "produce",
         "1869",
         "8.69",
         "discontinued",
         "hernandez_and_sons",
         "10.78",
         "9.855"
        ],
        [
         "26",
         "27",
         "school_frozen_foods",
         "produce",
         "1913",
         "9.68",
         "backordered",
         "johnson_llc",
         "14.58",
         "9.855"
        ],
        [
         "27",
         "28",
         "time_frozen_foods",
         "snacks",
         "59",
         "18.75",
         "active",
         "unknown",
         "31.21",
         "10.47"
        ],
        [
         "28",
         "29",
         "yourself_beverages",
         "bakery",
         "163",
         "2.14",
         "backordered",
         "ortega_group",
         "3.47",
         "10.3"
        ],
        [
         "29",
         "30",
         "fast_snacks",
         "bakery",
         "1508",
         "17.15",
         "discontinued",
         "perez_wong_and_smith",
         "29.94",
         "10.3"
        ],
        [
         "30",
         "31",
         "maybe_snacks",
         "frozen_foods",
         "1050",
         "13.25",
         "backordered",
         "howell_mitchell",
         "19.58",
         "10.58"
        ],
        [
         "31",
         "32",
         "music_snacks",
         "bakery",
         "1141",
         "16.39",
         "active",
         "valdez_and_sons",
         "26.44",
         "10.3"
        ],
        [
         "32",
         "33",
         "police_bakery",
         "dairy",
         "1964",
         "17.39",
         "backordered",
         "saunders_ltd",
         "26.87",
         "10.28"
        ],
        [
         "33",
         "34",
         "use_beverages",
         "dairy",
         "1665",
         "12.89",
         "active",
         "dominguez_pena_and_osborne",
         "22.03",
         "10.28"
        ],
        [
         "34",
         "35",
         "color_dairy",
         "dairy",
         "229",
         "3.42",
         "backordered",
         "watts_schroeder",
         "4.13",
         "10.28"
        ],
        [
         "35",
         "36",
         "little_bakery",
         "bakery",
         "647",
         "15.82",
         "active",
         "taylor_thomas",
         "24.16",
         "10.3"
        ],
        [
         "36",
         "37",
         "minute_frozen_foods",
         "beverages",
         "630",
         "9.61",
         "active",
         "rivera_inc",
         "15.11",
         "10.405000000000001"
        ],
        [
         "37",
         "38",
         "certainly_beverages",
         "bakery",
         "1298",
         "3.43",
         "active",
         "garcia_plc",
         "4.33",
         "10.3"
        ],
        [
         "38",
         "39",
         "why_produce",
         "dairy",
         "1631",
         "7.08",
         "active",
         "jackson_cain_and_garcia",
         "9.1",
         "10.28"
        ],
        [
         "39",
         "40",
         "benefit_frozen_foods",
         "beverages",
         "23",
         "17.46",
         "active",
         "joyce_le_and_wallace",
         "31.28",
         "10.405000000000001"
        ],
        [
         "40",
         "41",
         "item_dairy",
         "dairy",
         "10",
         "2.87",
         "backordered",
         "carroll_aguilar_and_richardson",
         "4.62",
         "10.28"
        ],
        [
         "41",
         "42",
         "success_produce",
         "bakery",
         "975",
         "12.44",
         "backordered",
         "brown_duke",
         "16.39",
         "10.3"
        ],
        [
         "42",
         "43",
         "maintain_frozen_foods",
         "dairy",
         "357",
         "10.28",
         "backordered",
         "byrd_hayden_and_cunningham",
         "23.52",
         "10.28"
        ],
        [
         "43",
         "44",
         "top_produce",
         "bakery",
         "1464",
         "3.92",
         "backordered",
         "mills_llc",
         "6.94",
         "10.3"
        ],
        [
         "44",
         "45",
         "public_bakery",
         "snacks",
         "606",
         "8.35",
         "discontinued",
         "stone_boyd_and_wilson",
         "10.46",
         "10.47"
        ],
        [
         "45",
         "46",
         "fact_produce",
         "produce",
         "1857",
         "4.15",
         "backordered",
         "lopez_llc",
         "6.93",
         "9.855"
        ],
        [
         "46",
         "47",
         "into_bakery",
         "beverages",
         "1775",
         "10.1",
         "discontinued",
         "johnson_heath",
         "16.95",
         "10.405000000000001"
        ],
        [
         "47",
         "48",
         "director_snacks",
         "produce",
         "162",
         "5.2",
         "backordered",
         "ray_brown_and_lang",
         "6.29",
         "9.855"
        ],
        [
         "48",
         "49",
         "it_produce",
         "frozen_foods",
         "435",
         "19.18",
         "discontinued",
         "shelton_morales",
         "24.72",
         "10.58"
        ],
        [
         "49",
         "50",
         "away_dairy",
         "bakery",
         "196",
         "7.7",
         "active",
         "valencia_smith",
         "12.82",
         "10.3"
        ]
       ],
       "shape": {
        "columns": 9,
        "rows": 10000
       }
      },
      "text/html": [
       "<div>\n",
       "<style scoped>\n",
       "    .dataframe tbody tr th:only-of-type {\n",
       "        vertical-align: middle;\n",
       "    }\n",
       "\n",
       "    .dataframe tbody tr th {\n",
       "        vertical-align: top;\n",
       "    }\n",
       "\n",
       "    .dataframe thead th {\n",
       "        text-align: right;\n",
       "    }\n",
       "</style>\n",
       "<table border=\"1\" class=\"dataframe\">\n",
       "  <thead>\n",
       "    <tr style=\"text-align: right;\">\n",
       "      <th></th>\n",
       "      <th>product_id</th>\n",
       "      <th>product_name</th>\n",
       "      <th>category</th>\n",
       "      <th>supplier_id</th>\n",
       "      <th>unit_cost</th>\n",
       "      <th>status</th>\n",
       "      <th>brand</th>\n",
       "      <th>list_price</th>\n",
       "      <th>median_unit_cost</th>\n",
       "    </tr>\n",
       "  </thead>\n",
       "  <tbody>\n",
       "    <tr>\n",
       "      <th>0</th>\n",
       "      <td>1</td>\n",
       "      <td>use_bakery</td>\n",
       "      <td>bakery</td>\n",
       "      <td>1664</td>\n",
       "      <td>4.58</td>\n",
       "      <td>active</td>\n",
       "      <td>warren_foster</td>\n",
       "      <td>5.99</td>\n",
       "      <td>10.3</td>\n",
       "    </tr>\n",
       "    <tr>\n",
       "      <th>1</th>\n",
       "      <td>2</td>\n",
       "      <td>thank_frozen_foods</td>\n",
       "      <td>dairy</td>\n",
       "      <td>1662</td>\n",
       "      <td>5.43</td>\n",
       "      <td>backordered</td>\n",
       "      <td>evans_and_sons</td>\n",
       "      <td>7.03</td>\n",
       "      <td>10.28</td>\n",
       "    </tr>\n",
       "    <tr>\n",
       "      <th>2</th>\n",
       "      <td>3</td>\n",
       "      <td>customer_produce</td>\n",
       "      <td>beverages</td>\n",
       "      <td>917</td>\n",
       "      <td>1.83</td>\n",
       "      <td>backordered</td>\n",
       "      <td>newman_and_sons</td>\n",
       "      <td>2.73</td>\n",
       "      <td>10.405</td>\n",
       "    </tr>\n",
       "    <tr>\n",
       "      <th>3</th>\n",
       "      <td>4</td>\n",
       "      <td>sign_dairy</td>\n",
       "      <td>produce</td>\n",
       "      <td>268</td>\n",
       "      <td>8.99</td>\n",
       "      <td>active</td>\n",
       "      <td>mclaughlin_little</td>\n",
       "      <td>14.17</td>\n",
       "      <td>9.855</td>\n",
       "    </tr>\n",
       "    <tr>\n",
       "      <th>4</th>\n",
       "      <td>5</td>\n",
       "      <td>place_frozen_foods</td>\n",
       "      <td>bakery</td>\n",
       "      <td>964</td>\n",
       "      <td>73.30</td>\n",
       "      <td>backordered</td>\n",
       "      <td>leblanc_james_and_thompson</td>\n",
       "      <td>11.08</td>\n",
       "      <td>10.3</td>\n",
       "    </tr>\n",
       "    <tr>\n",
       "      <th>...</th>\n",
       "      <td>...</td>\n",
       "      <td>...</td>\n",
       "      <td>...</td>\n",
       "      <td>...</td>\n",
       "      <td>...</td>\n",
       "      <td>...</td>\n",
       "      <td>...</td>\n",
       "      <td>...</td>\n",
       "      <td>...</td>\n",
       "    </tr>\n",
       "    <tr>\n",
       "      <th>9995</th>\n",
       "      <td>9996</td>\n",
       "      <td>financial_bakery</td>\n",
       "      <td>snacks</td>\n",
       "      <td>1581</td>\n",
       "      <td>5.93</td>\n",
       "      <td>backordered</td>\n",
       "      <td>sparks_llc</td>\n",
       "      <td>7.40</td>\n",
       "      <td>10.47</td>\n",
       "    </tr>\n",
       "    <tr>\n",
       "      <th>9996</th>\n",
       "      <td>9997</td>\n",
       "      <td>hospital_bakery</td>\n",
       "      <td>produce</td>\n",
       "      <td>1426</td>\n",
       "      <td>15.42</td>\n",
       "      <td>discontinued</td>\n",
       "      <td>butler_inc</td>\n",
       "      <td>18.92</td>\n",
       "      <td>9.855</td>\n",
       "    </tr>\n",
       "    <tr>\n",
       "      <th>9997</th>\n",
       "      <td>9998</td>\n",
       "      <td>travel_bakery</td>\n",
       "      <td>produce</td>\n",
       "      <td>31</td>\n",
       "      <td>13.28</td>\n",
       "      <td>backordered</td>\n",
       "      <td>carr_larson</td>\n",
       "      <td>23.15</td>\n",
       "      <td>9.855</td>\n",
       "    </tr>\n",
       "    <tr>\n",
       "      <th>9998</th>\n",
       "      <td>9999</td>\n",
       "      <td>learn_bakery</td>\n",
       "      <td>bakery</td>\n",
       "      <td>987</td>\n",
       "      <td>18.32</td>\n",
       "      <td>active</td>\n",
       "      <td>turner_rodriguez</td>\n",
       "      <td>22.50</td>\n",
       "      <td>10.3</td>\n",
       "    </tr>\n",
       "    <tr>\n",
       "      <th>9999</th>\n",
       "      <td>10000</td>\n",
       "      <td>everything_bakery</td>\n",
       "      <td>snacks</td>\n",
       "      <td>1127</td>\n",
       "      <td>18.24</td>\n",
       "      <td>active</td>\n",
       "      <td>zimmerman_hoffman_and_burns</td>\n",
       "      <td>31.50</td>\n",
       "      <td>10.47</td>\n",
       "    </tr>\n",
       "  </tbody>\n",
       "</table>\n",
       "<p>10000 rows × 9 columns</p>\n",
       "</div>"
      ],
      "text/plain": [
       "      product_id        product_name   category  supplier_id  unit_cost        status                        brand  list_price  median_unit_cost\n",
       "0              1          use_bakery     bakery         1664       4.58        active                warren_foster        5.99              10.3\n",
       "1              2  thank_frozen_foods      dairy         1662       5.43   backordered               evans_and_sons        7.03             10.28\n",
       "2              3    customer_produce  beverages          917       1.83   backordered              newman_and_sons        2.73            10.405\n",
       "3              4          sign_dairy    produce          268       8.99        active            mclaughlin_little       14.17             9.855\n",
       "4              5  place_frozen_foods     bakery          964      73.30   backordered   leblanc_james_and_thompson       11.08              10.3\n",
       "...          ...                 ...        ...          ...        ...           ...                          ...         ...               ...\n",
       "9995        9996    financial_bakery     snacks         1581       5.93   backordered                   sparks_llc        7.40             10.47\n",
       "9996        9997     hospital_bakery    produce         1426      15.42  discontinued                   butler_inc       18.92             9.855\n",
       "9997        9998       travel_bakery    produce           31      13.28   backordered                  carr_larson       23.15             9.855\n",
       "9998        9999        learn_bakery     bakery          987      18.32        active             turner_rodriguez       22.50              10.3\n",
       "9999       10000   everything_bakery     snacks         1127      18.24        active  zimmerman_hoffman_and_burns       31.50             10.47\n",
       "\n",
       "[10000 rows x 9 columns]"
      ]
     },
     "execution_count": 87,
     "metadata": {},
     "output_type": "execute_result"
    }
   ],
   "source": [
    "# Missing values imputation for 'brand' column with 'unknown' \n",
    "df_products['brand'] = df_products['brand'].fillna(\"unknown\")\n",
    "df_products"
   ]
  },
  {
   "cell_type": "markdown",
   "id": "ebb7ba08",
   "metadata": {},
   "source": [
    "##### `LSPL`\n",
    "\n",
    "**Note:**  \n",
    "\n",
    "1. Missing values in __df_products__, _'brand'_ column\n",
    "\n",
    "Missing values in the `brand` column occur in approximately **5%** of the dataset (500 out of 10,000 rows). Since `brand` is a high-cardinality categorical feature closely tied to `product_name`, and given that `product_name` is not unique across rows (only 8,241 unique values out of 10,000), there's no reliable reference to safely impute this field without risking data distortion.\n",
    "\n",
    "__Solution__: All missing values in `brand` will be imputed as, `\"unknown\"` for visualization purposes but not for modeling or relational joins.\n",
    "\n",
    "__Impact__: Preserving the missing values adn identified as `\"unknown\"` ensures that no incorrect brand associations are introduced. This approach protects the quality of product-vendor analyses, brand-level performance metrics, and any downstream processes that rely on accurate brand identification.\n"
   ]
  },
  {
   "cell_type": "markdown",
   "id": "87a5d192",
   "metadata": {},
   "source": [
    "#### 3.5.3 Missing values data imputation for df_inventory column 'warehouse_location'."
   ]
  },
  {
   "cell_type": "code",
   "execution_count": 88,
   "id": "c7a11c33",
   "metadata": {},
   "outputs": [
    {
     "data": {
      "application/vnd.microsoft.datawrangler.viewer.v0+json": {
       "columns": [
        {
         "name": "index",
         "rawType": "int64",
         "type": "integer"
        },
        {
         "name": "employee_id",
         "rawType": "int64",
         "type": "integer"
        },
        {
         "name": "region",
         "rawType": "category",
         "type": "unknown"
        }
       ],
       "ref": "ef800ec4-13cc-458e-9ad4-796e315f324f",
       "rows": [
        [
         "0",
         "1",
         "North"
        ],
        [
         "1",
         "2",
         "South"
        ],
        [
         "2",
         "3",
         "South"
        ],
        [
         "3",
         "4",
         "South"
        ],
        [
         "4",
         "5",
         "West"
        ],
        [
         "5",
         "6",
         "North"
        ],
        [
         "6",
         "7",
         "East"
        ],
        [
         "7",
         "8",
         "East"
        ],
        [
         "8",
         "9",
         "South"
        ],
        [
         "9",
         "10",
         "North"
        ],
        [
         "10",
         "11",
         "North"
        ],
        [
         "11",
         "12",
         "South"
        ],
        [
         "12",
         "13",
         "West"
        ],
        [
         "13",
         "14",
         "South"
        ],
        [
         "14",
         "15",
         "North"
        ],
        [
         "15",
         "16",
         "South"
        ],
        [
         "16",
         "17",
         "South"
        ],
        [
         "17",
         "18",
         "East"
        ],
        [
         "18",
         "19",
         "East"
        ],
        [
         "19",
         "20",
         "West"
        ],
        [
         "20",
         "21",
         "East"
        ],
        [
         "21",
         "22",
         "North"
        ],
        [
         "22",
         "23",
         "South"
        ],
        [
         "23",
         "24",
         "North"
        ],
        [
         "24",
         "25",
         "North"
        ],
        [
         "25",
         "26",
         "West"
        ],
        [
         "26",
         "27",
         "North"
        ],
        [
         "27",
         "28",
         "South"
        ],
        [
         "28",
         "29",
         "West"
        ],
        [
         "29",
         "30",
         "West"
        ],
        [
         "30",
         "31",
         "East"
        ],
        [
         "31",
         "32",
         "East"
        ],
        [
         "32",
         "33",
         "East"
        ],
        [
         "33",
         "34",
         "North"
        ],
        [
         "34",
         "35",
         "North"
        ],
        [
         "35",
         "36",
         "North"
        ],
        [
         "36",
         "37",
         "South"
        ],
        [
         "37",
         "38",
         "West"
        ],
        [
         "38",
         "39",
         "North"
        ],
        [
         "39",
         "40",
         "South"
        ],
        [
         "40",
         "41",
         "West"
        ],
        [
         "41",
         "42",
         "South"
        ],
        [
         "42",
         "43",
         "East"
        ],
        [
         "43",
         "44",
         "South"
        ],
        [
         "44",
         "45",
         "East"
        ],
        [
         "45",
         "46",
         "South"
        ],
        [
         "46",
         "47",
         "East"
        ],
        [
         "47",
         "48",
         "North"
        ],
        [
         "48",
         "49",
         "South"
        ],
        [
         "49",
         "50",
         "East"
        ]
       ],
       "shape": {
        "columns": 2,
        "rows": 2000
       }
      },
      "text/html": [
       "<div>\n",
       "<style scoped>\n",
       "    .dataframe tbody tr th:only-of-type {\n",
       "        vertical-align: middle;\n",
       "    }\n",
       "\n",
       "    .dataframe tbody tr th {\n",
       "        vertical-align: top;\n",
       "    }\n",
       "\n",
       "    .dataframe thead th {\n",
       "        text-align: right;\n",
       "    }\n",
       "</style>\n",
       "<table border=\"1\" class=\"dataframe\">\n",
       "  <thead>\n",
       "    <tr style=\"text-align: right;\">\n",
       "      <th></th>\n",
       "      <th>employee_id</th>\n",
       "      <th>region</th>\n",
       "    </tr>\n",
       "  </thead>\n",
       "  <tbody>\n",
       "    <tr>\n",
       "      <th>0</th>\n",
       "      <td>1</td>\n",
       "      <td>North</td>\n",
       "    </tr>\n",
       "    <tr>\n",
       "      <th>1</th>\n",
       "      <td>2</td>\n",
       "      <td>South</td>\n",
       "    </tr>\n",
       "    <tr>\n",
       "      <th>2</th>\n",
       "      <td>3</td>\n",
       "      <td>South</td>\n",
       "    </tr>\n",
       "    <tr>\n",
       "      <th>3</th>\n",
       "      <td>4</td>\n",
       "      <td>South</td>\n",
       "    </tr>\n",
       "    <tr>\n",
       "      <th>4</th>\n",
       "      <td>5</td>\n",
       "      <td>West</td>\n",
       "    </tr>\n",
       "    <tr>\n",
       "      <th>...</th>\n",
       "      <td>...</td>\n",
       "      <td>...</td>\n",
       "    </tr>\n",
       "    <tr>\n",
       "      <th>1995</th>\n",
       "      <td>1996</td>\n",
       "      <td>North</td>\n",
       "    </tr>\n",
       "    <tr>\n",
       "      <th>1996</th>\n",
       "      <td>1997</td>\n",
       "      <td>North</td>\n",
       "    </tr>\n",
       "    <tr>\n",
       "      <th>1997</th>\n",
       "      <td>1998</td>\n",
       "      <td>East</td>\n",
       "    </tr>\n",
       "    <tr>\n",
       "      <th>1998</th>\n",
       "      <td>1999</td>\n",
       "      <td>East</td>\n",
       "    </tr>\n",
       "    <tr>\n",
       "      <th>1999</th>\n",
       "      <td>2000</td>\n",
       "      <td>North</td>\n",
       "    </tr>\n",
       "  </tbody>\n",
       "</table>\n",
       "<p>2000 rows × 2 columns</p>\n",
       "</div>"
      ],
      "text/plain": [
       "      employee_id region\n",
       "0               1  North\n",
       "1               2  South\n",
       "2               3  South\n",
       "3               4  South\n",
       "4               5   West\n",
       "...           ...    ...\n",
       "1995         1996  North\n",
       "1996         1997  North\n",
       "1997         1998   East\n",
       "1998         1999   East\n",
       "1999         2000  North\n",
       "\n",
       "[2000 rows x 2 columns]"
      ]
     },
     "execution_count": 88,
     "metadata": {},
     "output_type": "execute_result"
    }
   ],
   "source": [
    "# Check relations between df_transactions['product_id', 'units_sold', 'employee_id'], df_salesforce['employee_id', 'region'], \n",
    "# df_inventory['product_id', 'warehouse_location']\n",
    "\n",
    "df_salesforce_empid_reg = df_salesforce.loc[:, ['employee_id', 'region']].drop_duplicates()\n",
    "df_salesforce_empid_reg "
   ]
  },
  {
   "cell_type": "code",
   "execution_count": 89,
   "id": "97d154e0",
   "metadata": {},
   "outputs": [
    {
     "data": {
      "application/vnd.microsoft.datawrangler.viewer.v0+json": {
       "columns": [
        {
         "name": "index",
         "rawType": "int64",
         "type": "integer"
        },
        {
         "name": "product_id",
         "rawType": "int64",
         "type": "integer"
        },
        {
         "name": "employee_id",
         "rawType": "int64",
         "type": "integer"
        }
       ],
       "ref": "8deaef10-ad57-4ea7-9f9d-71d335a3e65a",
       "rows": [
        [
         "0",
         "68",
         "748"
        ],
        [
         "1",
         "5042",
         "624"
        ],
        [
         "2",
         "7165",
         "139"
        ],
        [
         "3",
         "8859",
         "778"
        ],
        [
         "4",
         "4700",
         "1429"
        ],
        [
         "5",
         "8428",
         "1940"
        ],
        [
         "6",
         "360",
         "310"
        ],
        [
         "7",
         "9036",
         "868"
        ],
        [
         "8",
         "5833",
         "1875"
        ],
        [
         "9",
         "2426",
         "1184"
        ],
        [
         "10",
         "4752",
         "939"
        ],
        [
         "11",
         "3756",
         "1014"
        ],
        [
         "12",
         "4366",
         "1775"
        ],
        [
         "13",
         "7228",
         "136"
        ],
        [
         "14",
         "4795",
         "1454"
        ],
        [
         "15",
         "4065",
         "1577"
        ],
        [
         "16",
         "2841",
         "39"
        ],
        [
         "17",
         "5737",
         "1769"
        ],
        [
         "18",
         "982",
         "724"
        ],
        [
         "19",
         "5601",
         "1657"
        ],
        [
         "20",
         "5623",
         "1934"
        ],
        [
         "21",
         "682",
         "582"
        ],
        [
         "22",
         "813",
         "1745"
        ],
        [
         "23",
         "9461",
         "873"
        ],
        [
         "24",
         "2202",
         "1521"
        ],
        [
         "25",
         "9212",
         "1081"
        ],
        [
         "26",
         "3861",
         "1602"
        ],
        [
         "27",
         "321",
         "656"
        ],
        [
         "28",
         "784",
         "714"
        ],
        [
         "29",
         "8222",
         "793"
        ],
        [
         "30",
         "1932",
         "1745"
        ],
        [
         "31",
         "4569",
         "966"
        ],
        [
         "32",
         "7262",
         "1591"
        ],
        [
         "33",
         "6073",
         "1083"
        ],
        [
         "34",
         "4445",
         "447"
        ],
        [
         "35",
         "1842",
         "19"
        ],
        [
         "36",
         "7395",
         "92"
        ],
        [
         "37",
         "4539",
         "1742"
        ],
        [
         "38",
         "3353",
         "1616"
        ],
        [
         "39",
         "6766",
         "472"
        ],
        [
         "40",
         "7302",
         "741"
        ],
        [
         "41",
         "3809",
         "1531"
        ],
        [
         "42",
         "1005",
         "376"
        ],
        [
         "43",
         "7347",
         "214"
        ],
        [
         "44",
         "2713",
         "203"
        ],
        [
         "45",
         "1462",
         "152"
        ],
        [
         "46",
         "1099",
         "673"
        ],
        [
         "47",
         "1472",
         "794"
        ],
        [
         "48",
         "2910",
         "849"
        ],
        [
         "49",
         "5917",
         "636"
        ]
       ],
       "shape": {
        "columns": 2,
        "rows": 20000
       }
      },
      "text/html": [
       "<div>\n",
       "<style scoped>\n",
       "    .dataframe tbody tr th:only-of-type {\n",
       "        vertical-align: middle;\n",
       "    }\n",
       "\n",
       "    .dataframe tbody tr th {\n",
       "        vertical-align: top;\n",
       "    }\n",
       "\n",
       "    .dataframe thead th {\n",
       "        text-align: right;\n",
       "    }\n",
       "</style>\n",
       "<table border=\"1\" class=\"dataframe\">\n",
       "  <thead>\n",
       "    <tr style=\"text-align: right;\">\n",
       "      <th></th>\n",
       "      <th>product_id</th>\n",
       "      <th>employee_id</th>\n",
       "    </tr>\n",
       "  </thead>\n",
       "  <tbody>\n",
       "    <tr>\n",
       "      <th>0</th>\n",
       "      <td>68</td>\n",
       "      <td>748</td>\n",
       "    </tr>\n",
       "    <tr>\n",
       "      <th>1</th>\n",
       "      <td>5042</td>\n",
       "      <td>624</td>\n",
       "    </tr>\n",
       "    <tr>\n",
       "      <th>2</th>\n",
       "      <td>7165</td>\n",
       "      <td>139</td>\n",
       "    </tr>\n",
       "    <tr>\n",
       "      <th>3</th>\n",
       "      <td>8859</td>\n",
       "      <td>778</td>\n",
       "    </tr>\n",
       "    <tr>\n",
       "      <th>4</th>\n",
       "      <td>4700</td>\n",
       "      <td>1429</td>\n",
       "    </tr>\n",
       "    <tr>\n",
       "      <th>...</th>\n",
       "      <td>...</td>\n",
       "      <td>...</td>\n",
       "    </tr>\n",
       "    <tr>\n",
       "      <th>19995</th>\n",
       "      <td>4112</td>\n",
       "      <td>1724</td>\n",
       "    </tr>\n",
       "    <tr>\n",
       "      <th>19996</th>\n",
       "      <td>4011</td>\n",
       "      <td>717</td>\n",
       "    </tr>\n",
       "    <tr>\n",
       "      <th>19997</th>\n",
       "      <td>3824</td>\n",
       "      <td>146</td>\n",
       "    </tr>\n",
       "    <tr>\n",
       "      <th>19998</th>\n",
       "      <td>7109</td>\n",
       "      <td>8</td>\n",
       "    </tr>\n",
       "    <tr>\n",
       "      <th>19999</th>\n",
       "      <td>665</td>\n",
       "      <td>613</td>\n",
       "    </tr>\n",
       "  </tbody>\n",
       "</table>\n",
       "<p>20000 rows × 2 columns</p>\n",
       "</div>"
      ],
      "text/plain": [
       "       product_id  employee_id\n",
       "0              68          748\n",
       "1            5042          624\n",
       "2            7165          139\n",
       "3            8859          778\n",
       "4            4700         1429\n",
       "...           ...          ...\n",
       "19995        4112         1724\n",
       "19996        4011          717\n",
       "19997        3824          146\n",
       "19998        7109            8\n",
       "19999         665          613\n",
       "\n",
       "[20000 rows x 2 columns]"
      ]
     },
     "execution_count": 89,
     "metadata": {},
     "output_type": "execute_result"
    }
   ],
   "source": [
    "df_transactions_prodid_sld_empid = df_transactions.loc[~(df_transactions['units_sold'].isna()) & (df_transactions['units_sold'] > 0), ['product_id', 'employee_id']]\n",
    "df_transactions_prodid_sld_empid"
   ]
  },
  {
   "cell_type": "code",
   "execution_count": 90,
   "id": "27f344c9",
   "metadata": {},
   "outputs": [
    {
     "data": {
      "application/vnd.microsoft.datawrangler.viewer.v0+json": {
       "columns": [
        {
         "name": "index",
         "rawType": "int64",
         "type": "integer"
        },
        {
         "name": "product_id",
         "rawType": "int64",
         "type": "integer"
        },
        {
         "name": "employee_id",
         "rawType": "int64",
         "type": "integer"
        },
        {
         "name": "region",
         "rawType": "category",
         "type": "unknown"
        }
       ],
       "ref": "98d461a9-4539-467c-b257-841ea2fef477",
       "rows": [
        [
         "0",
         "68",
         "748",
         "South"
        ],
        [
         "1",
         "5042",
         "624",
         "North"
        ],
        [
         "2",
         "7165",
         "139",
         "North"
        ],
        [
         "3",
         "8859",
         "778",
         "North"
        ],
        [
         "4",
         "4700",
         "1429",
         "West"
        ],
        [
         "5",
         "8428",
         "1940",
         "South"
        ],
        [
         "6",
         "360",
         "310",
         "North"
        ],
        [
         "7",
         "9036",
         "868",
         "East"
        ],
        [
         "8",
         "5833",
         "1875",
         "West"
        ],
        [
         "9",
         "2426",
         "1184",
         "West"
        ],
        [
         "10",
         "4752",
         "939",
         "West"
        ],
        [
         "11",
         "3756",
         "1014",
         "North"
        ],
        [
         "12",
         "4366",
         "1775",
         "West"
        ],
        [
         "13",
         "7228",
         "136",
         "South"
        ],
        [
         "14",
         "4795",
         "1454",
         "North"
        ],
        [
         "15",
         "4065",
         "1577",
         "East"
        ],
        [
         "16",
         "2841",
         "39",
         "North"
        ],
        [
         "17",
         "5737",
         "1769",
         "West"
        ],
        [
         "18",
         "982",
         "724",
         "East"
        ],
        [
         "19",
         "5601",
         "1657",
         "East"
        ],
        [
         "20",
         "5623",
         "1934",
         "North"
        ],
        [
         "21",
         "682",
         "582",
         "East"
        ],
        [
         "22",
         "813",
         "1745",
         "West"
        ],
        [
         "23",
         "9461",
         "873",
         "West"
        ],
        [
         "24",
         "2202",
         "1521",
         "East"
        ],
        [
         "25",
         "9212",
         "1081",
         "West"
        ],
        [
         "26",
         "3861",
         "1602",
         "South"
        ],
        [
         "27",
         "321",
         "656",
         "South"
        ],
        [
         "28",
         "784",
         "714",
         "North"
        ],
        [
         "29",
         "8222",
         "793",
         "East"
        ],
        [
         "30",
         "1932",
         "1745",
         "West"
        ],
        [
         "31",
         "4569",
         "966",
         "West"
        ],
        [
         "32",
         "7262",
         "1591",
         "South"
        ],
        [
         "33",
         "6073",
         "1083",
         "East"
        ],
        [
         "34",
         "4445",
         "447",
         "South"
        ],
        [
         "35",
         "1842",
         "19",
         "East"
        ],
        [
         "36",
         "7395",
         "92",
         "North"
        ],
        [
         "37",
         "4539",
         "1742",
         "South"
        ],
        [
         "38",
         "3353",
         "1616",
         "North"
        ],
        [
         "39",
         "6766",
         "472",
         "North"
        ],
        [
         "40",
         "7302",
         "741",
         "East"
        ],
        [
         "41",
         "3809",
         "1531",
         "North"
        ],
        [
         "42",
         "1005",
         "376",
         "South"
        ],
        [
         "43",
         "7347",
         "214",
         "North"
        ],
        [
         "44",
         "2713",
         "203",
         "West"
        ],
        [
         "45",
         "1462",
         "152",
         "West"
        ],
        [
         "46",
         "1099",
         "673",
         "West"
        ],
        [
         "47",
         "1472",
         "794",
         "East"
        ],
        [
         "48",
         "2910",
         "849",
         "South"
        ],
        [
         "49",
         "5917",
         "636",
         "East"
        ]
       ],
       "shape": {
        "columns": 3,
        "rows": 20000
       }
      },
      "text/html": [
       "<div>\n",
       "<style scoped>\n",
       "    .dataframe tbody tr th:only-of-type {\n",
       "        vertical-align: middle;\n",
       "    }\n",
       "\n",
       "    .dataframe tbody tr th {\n",
       "        vertical-align: top;\n",
       "    }\n",
       "\n",
       "    .dataframe thead th {\n",
       "        text-align: right;\n",
       "    }\n",
       "</style>\n",
       "<table border=\"1\" class=\"dataframe\">\n",
       "  <thead>\n",
       "    <tr style=\"text-align: right;\">\n",
       "      <th></th>\n",
       "      <th>product_id</th>\n",
       "      <th>employee_id</th>\n",
       "      <th>region</th>\n",
       "    </tr>\n",
       "  </thead>\n",
       "  <tbody>\n",
       "    <tr>\n",
       "      <th>0</th>\n",
       "      <td>68</td>\n",
       "      <td>748</td>\n",
       "      <td>South</td>\n",
       "    </tr>\n",
       "    <tr>\n",
       "      <th>1</th>\n",
       "      <td>5042</td>\n",
       "      <td>624</td>\n",
       "      <td>North</td>\n",
       "    </tr>\n",
       "    <tr>\n",
       "      <th>2</th>\n",
       "      <td>7165</td>\n",
       "      <td>139</td>\n",
       "      <td>North</td>\n",
       "    </tr>\n",
       "    <tr>\n",
       "      <th>3</th>\n",
       "      <td>8859</td>\n",
       "      <td>778</td>\n",
       "      <td>North</td>\n",
       "    </tr>\n",
       "    <tr>\n",
       "      <th>4</th>\n",
       "      <td>4700</td>\n",
       "      <td>1429</td>\n",
       "      <td>West</td>\n",
       "    </tr>\n",
       "    <tr>\n",
       "      <th>...</th>\n",
       "      <td>...</td>\n",
       "      <td>...</td>\n",
       "      <td>...</td>\n",
       "    </tr>\n",
       "    <tr>\n",
       "      <th>19995</th>\n",
       "      <td>4112</td>\n",
       "      <td>1724</td>\n",
       "      <td>East</td>\n",
       "    </tr>\n",
       "    <tr>\n",
       "      <th>19996</th>\n",
       "      <td>4011</td>\n",
       "      <td>717</td>\n",
       "      <td>West</td>\n",
       "    </tr>\n",
       "    <tr>\n",
       "      <th>19997</th>\n",
       "      <td>3824</td>\n",
       "      <td>146</td>\n",
       "      <td>South</td>\n",
       "    </tr>\n",
       "    <tr>\n",
       "      <th>19998</th>\n",
       "      <td>7109</td>\n",
       "      <td>8</td>\n",
       "      <td>East</td>\n",
       "    </tr>\n",
       "    <tr>\n",
       "      <th>19999</th>\n",
       "      <td>665</td>\n",
       "      <td>613</td>\n",
       "      <td>North</td>\n",
       "    </tr>\n",
       "  </tbody>\n",
       "</table>\n",
       "<p>20000 rows × 3 columns</p>\n",
       "</div>"
      ],
      "text/plain": [
       "       product_id  employee_id region\n",
       "0              68          748  South\n",
       "1            5042          624  North\n",
       "2            7165          139  North\n",
       "3            8859          778  North\n",
       "4            4700         1429   West\n",
       "...           ...          ...    ...\n",
       "19995        4112         1724   East\n",
       "19996        4011          717   West\n",
       "19997        3824          146  South\n",
       "19998        7109            8   East\n",
       "19999         665          613  North\n",
       "\n",
       "[20000 rows x 3 columns]"
      ]
     },
     "execution_count": 90,
     "metadata": {},
     "output_type": "execute_result"
    }
   ],
   "source": [
    "df_trans_sales = df_transactions_prodid_sld_empid.merge(df_salesforce_empid_reg, on='employee_id', how='left')\n",
    "df_trans_sales"
   ]
  },
  {
   "cell_type": "code",
   "execution_count": 91,
   "id": "0f226831",
   "metadata": {},
   "outputs": [
    {
     "data": {
      "application/vnd.microsoft.datawrangler.viewer.v0+json": {
       "columns": [
        {
         "name": "index",
         "rawType": "int64",
         "type": "integer"
        },
        {
         "name": "product_id",
         "rawType": "int64",
         "type": "integer"
        },
        {
         "name": "warehouse_location",
         "rawType": "category",
         "type": "unknown"
        }
       ],
       "ref": "0371b445-ee0c-429b-9086-51e855438ac9",
       "rows": [
        [
         "35",
         "4703",
         null
        ],
        [
         "115",
         "3495",
         null
        ],
        [
         "132",
         "7841",
         null
        ],
        [
         "168",
         "5150",
         null
        ],
        [
         "175",
         "293",
         null
        ],
        [
         "302",
         "3333",
         null
        ],
        [
         "312",
         "5909",
         null
        ],
        [
         "313",
         "8825",
         null
        ],
        [
         "341",
         "3870",
         null
        ],
        [
         "344",
         "4409",
         null
        ],
        [
         "345",
         "3695",
         null
        ],
        [
         "354",
         "2337",
         null
        ],
        [
         "392",
         "5211",
         null
        ],
        [
         "416",
         "986",
         null
        ],
        [
         "479",
         "7017",
         null
        ],
        [
         "569",
         "2288",
         null
        ],
        [
         "623",
         "6294",
         null
        ],
        [
         "696",
         "457",
         null
        ],
        [
         "704",
         "5919",
         null
        ],
        [
         "706",
         "723",
         null
        ],
        [
         "782",
         "9958",
         null
        ],
        [
         "809",
         "8755",
         null
        ],
        [
         "842",
         "4258",
         null
        ],
        [
         "1063",
         "1799",
         null
        ],
        [
         "1077",
         "6389",
         null
        ],
        [
         "1093",
         "3608",
         null
        ],
        [
         "1104",
         "5282",
         null
        ],
        [
         "1182",
         "8826",
         null
        ],
        [
         "1231",
         "5055",
         null
        ],
        [
         "1345",
         "51",
         null
        ],
        [
         "1353",
         "5956",
         null
        ],
        [
         "1372",
         "5819",
         null
        ],
        [
         "1377",
         "6946",
         null
        ],
        [
         "1408",
         "560",
         null
        ],
        [
         "1454",
         "7632",
         null
        ],
        [
         "1474",
         "8172",
         null
        ],
        [
         "1553",
         "8660",
         null
        ],
        [
         "1637",
         "7573",
         null
        ],
        [
         "1683",
         "984",
         null
        ],
        [
         "1900",
         "83",
         null
        ],
        [
         "1951",
         "5588",
         null
        ],
        [
         "1981",
         "9099",
         null
        ],
        [
         "1991",
         "6611",
         null
        ],
        [
         "2102",
         "1078",
         null
        ],
        [
         "2128",
         "885",
         null
        ],
        [
         "2146",
         "8542",
         null
        ],
        [
         "2162",
         "2150",
         null
        ],
        [
         "2180",
         "8639",
         null
        ],
        [
         "2272",
         "7168",
         null
        ],
        [
         "2497",
         "9332",
         null
        ]
       ],
       "shape": {
        "columns": 2,
        "rows": 400
       }
      },
      "text/html": [
       "<div>\n",
       "<style scoped>\n",
       "    .dataframe tbody tr th:only-of-type {\n",
       "        vertical-align: middle;\n",
       "    }\n",
       "\n",
       "    .dataframe tbody tr th {\n",
       "        vertical-align: top;\n",
       "    }\n",
       "\n",
       "    .dataframe thead th {\n",
       "        text-align: right;\n",
       "    }\n",
       "</style>\n",
       "<table border=\"1\" class=\"dataframe\">\n",
       "  <thead>\n",
       "    <tr style=\"text-align: right;\">\n",
       "      <th></th>\n",
       "      <th>product_id</th>\n",
       "      <th>warehouse_location</th>\n",
       "    </tr>\n",
       "  </thead>\n",
       "  <tbody>\n",
       "    <tr>\n",
       "      <th>35</th>\n",
       "      <td>4703</td>\n",
       "      <td>NaN</td>\n",
       "    </tr>\n",
       "    <tr>\n",
       "      <th>115</th>\n",
       "      <td>3495</td>\n",
       "      <td>NaN</td>\n",
       "    </tr>\n",
       "    <tr>\n",
       "      <th>132</th>\n",
       "      <td>7841</td>\n",
       "      <td>NaN</td>\n",
       "    </tr>\n",
       "    <tr>\n",
       "      <th>168</th>\n",
       "      <td>5150</td>\n",
       "      <td>NaN</td>\n",
       "    </tr>\n",
       "    <tr>\n",
       "      <th>175</th>\n",
       "      <td>293</td>\n",
       "      <td>NaN</td>\n",
       "    </tr>\n",
       "    <tr>\n",
       "      <th>...</th>\n",
       "      <td>...</td>\n",
       "      <td>...</td>\n",
       "    </tr>\n",
       "    <tr>\n",
       "      <th>19721</th>\n",
       "      <td>4567</td>\n",
       "      <td>NaN</td>\n",
       "    </tr>\n",
       "    <tr>\n",
       "      <th>19734</th>\n",
       "      <td>8335</td>\n",
       "      <td>NaN</td>\n",
       "    </tr>\n",
       "    <tr>\n",
       "      <th>19877</th>\n",
       "      <td>284</td>\n",
       "      <td>NaN</td>\n",
       "    </tr>\n",
       "    <tr>\n",
       "      <th>19885</th>\n",
       "      <td>1135</td>\n",
       "      <td>NaN</td>\n",
       "    </tr>\n",
       "    <tr>\n",
       "      <th>19894</th>\n",
       "      <td>8436</td>\n",
       "      <td>NaN</td>\n",
       "    </tr>\n",
       "  </tbody>\n",
       "</table>\n",
       "<p>400 rows × 2 columns</p>\n",
       "</div>"
      ],
      "text/plain": [
       "       product_id warehouse_location\n",
       "35           4703                NaN\n",
       "115          3495                NaN\n",
       "132          7841                NaN\n",
       "168          5150                NaN\n",
       "175           293                NaN\n",
       "...           ...                ...\n",
       "19721        4567                NaN\n",
       "19734        8335                NaN\n",
       "19877         284                NaN\n",
       "19885        1135                NaN\n",
       "19894        8436                NaN\n",
       "\n",
       "[400 rows x 2 columns]"
      ]
     },
     "execution_count": 91,
     "metadata": {},
     "output_type": "execute_result"
    }
   ],
   "source": [
    "df_inventory_prodid_whloc = df_inventory.loc[(df_inventory['warehouse_location'].isna()), ['product_id', 'warehouse_location']]\n",
    "df_inventory_prodid_whloc"
   ]
  },
  {
   "cell_type": "code",
   "execution_count": 92,
   "id": "1f495218",
   "metadata": {},
   "outputs": [
    {
     "data": {
      "application/vnd.microsoft.datawrangler.viewer.v0+json": {
       "columns": [
        {
         "name": "index",
         "rawType": "int64",
         "type": "integer"
        },
        {
         "name": "product_id",
         "rawType": "int64",
         "type": "integer"
        },
        {
         "name": "warehouse_location",
         "rawType": "category",
         "type": "unknown"
        },
        {
         "name": "employee_id",
         "rawType": "float64",
         "type": "float"
        },
        {
         "name": "region",
         "rawType": "category",
         "type": "unknown"
        }
       ],
       "ref": "5597e3e8-82f6-43e9-9307-4f86b174ec41",
       "rows": [
        [
         "0",
         "4703",
         null,
         "1143.0",
         "West"
        ],
        [
         "1",
         "4703",
         null,
         "1441.0",
         "West"
        ],
        [
         "2",
         "3495",
         null,
         "1700.0",
         "North"
        ],
        [
         "3",
         "3495",
         null,
         "58.0",
         "South"
        ],
        [
         "4",
         "7841",
         null,
         "1004.0",
         "East"
        ],
        [
         "5",
         "7841",
         null,
         "269.0",
         "East"
        ],
        [
         "6",
         "7841",
         null,
         "920.0",
         "West"
        ],
        [
         "7",
         "5150",
         null,
         "440.0",
         "South"
        ],
        [
         "8",
         "5150",
         null,
         "1160.0",
         "North"
        ],
        [
         "9",
         "293",
         null,
         "1334.0",
         "South"
        ],
        [
         "10",
         "293",
         null,
         "1317.0",
         "East"
        ],
        [
         "11",
         "293",
         null,
         "268.0",
         "South"
        ],
        [
         "12",
         "293",
         null,
         "1821.0",
         "East"
        ],
        [
         "13",
         "293",
         null,
         "1638.0",
         "South"
        ],
        [
         "14",
         "3333",
         null,
         "441.0",
         "East"
        ],
        [
         "15",
         "5909",
         null,
         "1037.0",
         "East"
        ],
        [
         "16",
         "5909",
         null,
         "542.0",
         "South"
        ],
        [
         "17",
         "8825",
         null,
         "1563.0",
         "West"
        ],
        [
         "18",
         "8825",
         null,
         "1149.0",
         "South"
        ],
        [
         "19",
         "3870",
         null,
         "20.0",
         "West"
        ],
        [
         "20",
         "3870",
         null,
         "1865.0",
         "East"
        ],
        [
         "21",
         "3870",
         null,
         "1151.0",
         "West"
        ],
        [
         "22",
         "4409",
         null,
         "931.0",
         "South"
        ],
        [
         "23",
         "4409",
         null,
         "1062.0",
         "South"
        ],
        [
         "24",
         "4409",
         null,
         "110.0",
         "South"
        ],
        [
         "25",
         "4409",
         null,
         "603.0",
         "North"
        ],
        [
         "26",
         "3695",
         null,
         "119.0",
         "East"
        ],
        [
         "27",
         "3695",
         null,
         "1876.0",
         "East"
        ],
        [
         "28",
         "2337",
         null,
         "1497.0",
         "East"
        ],
        [
         "29",
         "2337",
         null,
         "847.0",
         "North"
        ],
        [
         "30",
         "5211",
         null,
         "484.0",
         "South"
        ],
        [
         "31",
         "5211",
         null,
         "887.0",
         "South"
        ],
        [
         "32",
         "5211",
         null,
         "1426.0",
         "East"
        ],
        [
         "33",
         "986",
         null,
         "1757.0",
         "South"
        ],
        [
         "34",
         "7017",
         null,
         "629.0",
         "East"
        ],
        [
         "35",
         "7017",
         null,
         "1100.0",
         "West"
        ],
        [
         "36",
         "7017",
         null,
         "13.0",
         "West"
        ],
        [
         "37",
         "2288",
         null,
         "1045.0",
         "East"
        ],
        [
         "38",
         "2288",
         null,
         "1953.0",
         "East"
        ],
        [
         "39",
         "2288",
         null,
         "1940.0",
         "South"
        ],
        [
         "40",
         "2288",
         null,
         "819.0",
         "North"
        ],
        [
         "41",
         "6294",
         null,
         "7.0",
         "East"
        ],
        [
         "42",
         "457",
         null,
         "1625.0",
         "North"
        ],
        [
         "43",
         "5919",
         null,
         "725.0",
         "South"
        ],
        [
         "44",
         "5919",
         null,
         "798.0",
         "West"
        ],
        [
         "45",
         "723",
         null,
         "72.0",
         "East"
        ],
        [
         "46",
         "9958",
         null,
         "1465.0",
         "East"
        ],
        [
         "47",
         "9958",
         null,
         "678.0",
         "North"
        ],
        [
         "48",
         "8755",
         null,
         "1009.0",
         "North"
        ],
        [
         "49",
         "8755",
         null,
         "899.0",
         "East"
        ]
       ],
       "shape": {
        "columns": 4,
        "rows": 887
       }
      },
      "text/html": [
       "<div>\n",
       "<style scoped>\n",
       "    .dataframe tbody tr th:only-of-type {\n",
       "        vertical-align: middle;\n",
       "    }\n",
       "\n",
       "    .dataframe tbody tr th {\n",
       "        vertical-align: top;\n",
       "    }\n",
       "\n",
       "    .dataframe thead th {\n",
       "        text-align: right;\n",
       "    }\n",
       "</style>\n",
       "<table border=\"1\" class=\"dataframe\">\n",
       "  <thead>\n",
       "    <tr style=\"text-align: right;\">\n",
       "      <th></th>\n",
       "      <th>product_id</th>\n",
       "      <th>warehouse_location</th>\n",
       "      <th>employee_id</th>\n",
       "      <th>region</th>\n",
       "    </tr>\n",
       "  </thead>\n",
       "  <tbody>\n",
       "    <tr>\n",
       "      <th>0</th>\n",
       "      <td>4703</td>\n",
       "      <td>NaN</td>\n",
       "      <td>1143.0</td>\n",
       "      <td>West</td>\n",
       "    </tr>\n",
       "    <tr>\n",
       "      <th>1</th>\n",
       "      <td>4703</td>\n",
       "      <td>NaN</td>\n",
       "      <td>1441.0</td>\n",
       "      <td>West</td>\n",
       "    </tr>\n",
       "    <tr>\n",
       "      <th>2</th>\n",
       "      <td>3495</td>\n",
       "      <td>NaN</td>\n",
       "      <td>1700.0</td>\n",
       "      <td>North</td>\n",
       "    </tr>\n",
       "    <tr>\n",
       "      <th>3</th>\n",
       "      <td>3495</td>\n",
       "      <td>NaN</td>\n",
       "      <td>58.0</td>\n",
       "      <td>South</td>\n",
       "    </tr>\n",
       "    <tr>\n",
       "      <th>4</th>\n",
       "      <td>7841</td>\n",
       "      <td>NaN</td>\n",
       "      <td>1004.0</td>\n",
       "      <td>East</td>\n",
       "    </tr>\n",
       "    <tr>\n",
       "      <th>...</th>\n",
       "      <td>...</td>\n",
       "      <td>...</td>\n",
       "      <td>...</td>\n",
       "      <td>...</td>\n",
       "    </tr>\n",
       "    <tr>\n",
       "      <th>882</th>\n",
       "      <td>284</td>\n",
       "      <td>NaN</td>\n",
       "      <td>612.0</td>\n",
       "      <td>West</td>\n",
       "    </tr>\n",
       "    <tr>\n",
       "      <th>883</th>\n",
       "      <td>284</td>\n",
       "      <td>NaN</td>\n",
       "      <td>1872.0</td>\n",
       "      <td>West</td>\n",
       "    </tr>\n",
       "    <tr>\n",
       "      <th>884</th>\n",
       "      <td>1135</td>\n",
       "      <td>NaN</td>\n",
       "      <td>635.0</td>\n",
       "      <td>South</td>\n",
       "    </tr>\n",
       "    <tr>\n",
       "      <th>885</th>\n",
       "      <td>1135</td>\n",
       "      <td>NaN</td>\n",
       "      <td>780.0</td>\n",
       "      <td>East</td>\n",
       "    </tr>\n",
       "    <tr>\n",
       "      <th>886</th>\n",
       "      <td>8436</td>\n",
       "      <td>NaN</td>\n",
       "      <td>1803.0</td>\n",
       "      <td>East</td>\n",
       "    </tr>\n",
       "  </tbody>\n",
       "</table>\n",
       "<p>887 rows × 4 columns</p>\n",
       "</div>"
      ],
      "text/plain": [
       "     product_id warehouse_location  employee_id region\n",
       "0          4703                NaN       1143.0   West\n",
       "1          4703                NaN       1441.0   West\n",
       "2          3495                NaN       1700.0  North\n",
       "3          3495                NaN         58.0  South\n",
       "4          7841                NaN       1004.0   East\n",
       "..          ...                ...          ...    ...\n",
       "882         284                NaN        612.0   West\n",
       "883         284                NaN       1872.0   West\n",
       "884        1135                NaN        635.0  South\n",
       "885        1135                NaN        780.0   East\n",
       "886        8436                NaN       1803.0   East\n",
       "\n",
       "[887 rows x 4 columns]"
      ]
     },
     "execution_count": 92,
     "metadata": {},
     "output_type": "execute_result"
    }
   ],
   "source": [
    "df_inventory_prodid_whloc = df_inventory_prodid_whloc.merge(df_trans_sales, on='product_id', how='left')\n",
    "df_inventory_prodid_whloc"
   ]
  },
  {
   "cell_type": "code",
   "execution_count": 93,
   "id": "871a8253",
   "metadata": {},
   "outputs": [
    {
     "data": {
      "application/vnd.microsoft.datawrangler.viewer.v0+json": {
       "columns": [
        {
         "name": "index",
         "rawType": "int64",
         "type": "integer"
        },
        {
         "name": "product_id",
         "rawType": "int64",
         "type": "integer"
        },
        {
         "name": "unique_region_count",
         "rawType": "int64",
         "type": "integer"
        }
       ],
       "ref": "7cede99c-0b49-451d-8221-0e4ffc064ef3",
       "rows": [
        [
         "0",
         "15",
         "2"
        ],
        [
         "1",
         "19",
         "1"
        ],
        [
         "2",
         "26",
         "3"
        ],
        [
         "3",
         "45",
         "3"
        ],
        [
         "4",
         "51",
         "2"
        ],
        [
         "5",
         "72",
         "0"
        ],
        [
         "6",
         "83",
         "0"
        ],
        [
         "7",
         "110",
         "2"
        ],
        [
         "8",
         "132",
         "3"
        ],
        [
         "9",
         "200",
         "1"
        ],
        [
         "10",
         "218",
         "1"
        ],
        [
         "11",
         "265",
         "0"
        ],
        [
         "12",
         "284",
         "2"
        ],
        [
         "13",
         "285",
         "2"
        ],
        [
         "14",
         "293",
         "2"
        ],
        [
         "15",
         "306",
         "2"
        ],
        [
         "16",
         "315",
         "3"
        ],
        [
         "17",
         "323",
         "2"
        ],
        [
         "18",
         "338",
         "2"
        ],
        [
         "19",
         "368",
         "1"
        ],
        [
         "20",
         "390",
         "3"
        ],
        [
         "21",
         "422",
         "1"
        ],
        [
         "22",
         "457",
         "1"
        ],
        [
         "23",
         "520",
         "2"
        ],
        [
         "24",
         "532",
         "0"
        ],
        [
         "25",
         "555",
         "0"
        ],
        [
         "26",
         "560",
         "2"
        ],
        [
         "27",
         "570",
         "2"
        ],
        [
         "28",
         "624",
         "2"
        ],
        [
         "29",
         "642",
         "1"
        ],
        [
         "30",
         "668",
         "2"
        ],
        [
         "31",
         "723",
         "1"
        ],
        [
         "32",
         "748",
         "1"
        ],
        [
         "33",
         "765",
         "2"
        ],
        [
         "34",
         "779",
         "2"
        ],
        [
         "35",
         "847",
         "1"
        ],
        [
         "36",
         "885",
         "2"
        ],
        [
         "37",
         "950",
         "1"
        ],
        [
         "38",
         "984",
         "0"
        ],
        [
         "39",
         "986",
         "1"
        ],
        [
         "40",
         "1000",
         "0"
        ],
        [
         "41",
         "1002",
         "1"
        ],
        [
         "42",
         "1011",
         "1"
        ],
        [
         "43",
         "1015",
         "3"
        ],
        [
         "44",
         "1027",
         "1"
        ],
        [
         "45",
         "1049",
         "1"
        ],
        [
         "46",
         "1078",
         "2"
        ],
        [
         "47",
         "1092",
         "1"
        ],
        [
         "48",
         "1123",
         "0"
        ],
        [
         "49",
         "1135",
         "2"
        ]
       ],
       "shape": {
        "columns": 2,
        "rows": 389
       }
      },
      "text/html": [
       "<div>\n",
       "<style scoped>\n",
       "    .dataframe tbody tr th:only-of-type {\n",
       "        vertical-align: middle;\n",
       "    }\n",
       "\n",
       "    .dataframe tbody tr th {\n",
       "        vertical-align: top;\n",
       "    }\n",
       "\n",
       "    .dataframe thead th {\n",
       "        text-align: right;\n",
       "    }\n",
       "</style>\n",
       "<table border=\"1\" class=\"dataframe\">\n",
       "  <thead>\n",
       "    <tr style=\"text-align: right;\">\n",
       "      <th></th>\n",
       "      <th>product_id</th>\n",
       "      <th>unique_region_count</th>\n",
       "    </tr>\n",
       "  </thead>\n",
       "  <tbody>\n",
       "    <tr>\n",
       "      <th>0</th>\n",
       "      <td>15</td>\n",
       "      <td>2</td>\n",
       "    </tr>\n",
       "    <tr>\n",
       "      <th>1</th>\n",
       "      <td>19</td>\n",
       "      <td>1</td>\n",
       "    </tr>\n",
       "    <tr>\n",
       "      <th>2</th>\n",
       "      <td>26</td>\n",
       "      <td>3</td>\n",
       "    </tr>\n",
       "    <tr>\n",
       "      <th>3</th>\n",
       "      <td>45</td>\n",
       "      <td>3</td>\n",
       "    </tr>\n",
       "    <tr>\n",
       "      <th>4</th>\n",
       "      <td>51</td>\n",
       "      <td>2</td>\n",
       "    </tr>\n",
       "    <tr>\n",
       "      <th>...</th>\n",
       "      <td>...</td>\n",
       "      <td>...</td>\n",
       "    </tr>\n",
       "    <tr>\n",
       "      <th>384</th>\n",
       "      <td>9670</td>\n",
       "      <td>3</td>\n",
       "    </tr>\n",
       "    <tr>\n",
       "      <th>385</th>\n",
       "      <td>9744</td>\n",
       "      <td>3</td>\n",
       "    </tr>\n",
       "    <tr>\n",
       "      <th>386</th>\n",
       "      <td>9823</td>\n",
       "      <td>1</td>\n",
       "    </tr>\n",
       "    <tr>\n",
       "      <th>387</th>\n",
       "      <td>9875</td>\n",
       "      <td>1</td>\n",
       "    </tr>\n",
       "    <tr>\n",
       "      <th>388</th>\n",
       "      <td>9958</td>\n",
       "      <td>2</td>\n",
       "    </tr>\n",
       "  </tbody>\n",
       "</table>\n",
       "<p>389 rows × 2 columns</p>\n",
       "</div>"
      ],
      "text/plain": [
       "     product_id  unique_region_count\n",
       "0            15                    2\n",
       "1            19                    1\n",
       "2            26                    3\n",
       "3            45                    3\n",
       "4            51                    2\n",
       "..          ...                  ...\n",
       "384        9670                    3\n",
       "385        9744                    3\n",
       "386        9823                    1\n",
       "387        9875                    1\n",
       "388        9958                    2\n",
       "\n",
       "[389 rows x 2 columns]"
      ]
     },
     "execution_count": 93,
     "metadata": {},
     "output_type": "execute_result"
    }
   ],
   "source": [
    "region_counts = (df_inventory_prodid_whloc.groupby('product_id')['region'].nunique().reset_index(name='unique_region_count'))\n",
    "region_counts"
   ]
  },
  {
   "cell_type": "code",
   "execution_count": 94,
   "id": "7bc14b2f",
   "metadata": {},
   "outputs": [
    {
     "data": {
      "application/vnd.microsoft.datawrangler.viewer.v0+json": {
       "columns": [
        {
         "name": "index",
         "rawType": "int64",
         "type": "integer"
        },
        {
         "name": "product_id",
         "rawType": "int64",
         "type": "integer"
        }
       ],
       "ref": "750f9dd0-9701-4699-ad78-b83e3b343cff",
       "rows": [
        [
         "1",
         "19"
        ],
        [
         "9",
         "200"
        ],
        [
         "10",
         "218"
        ],
        [
         "19",
         "368"
        ],
        [
         "21",
         "422"
        ],
        [
         "22",
         "457"
        ],
        [
         "29",
         "642"
        ],
        [
         "31",
         "723"
        ],
        [
         "32",
         "748"
        ],
        [
         "35",
         "847"
        ],
        [
         "37",
         "950"
        ],
        [
         "39",
         "986"
        ],
        [
         "41",
         "1002"
        ],
        [
         "42",
         "1011"
        ],
        [
         "44",
         "1027"
        ],
        [
         "45",
         "1049"
        ],
        [
         "47",
         "1092"
        ],
        [
         "50",
         "1138"
        ],
        [
         "51",
         "1154"
        ],
        [
         "52",
         "1179"
        ],
        [
         "54",
         "1256"
        ],
        [
         "55",
         "1270"
        ],
        [
         "59",
         "1519"
        ],
        [
         "63",
         "1657"
        ],
        [
         "64",
         "1670"
        ],
        [
         "68",
         "1796"
        ],
        [
         "69",
         "1799"
        ],
        [
         "70",
         "1803"
        ],
        [
         "71",
         "1898"
        ],
        [
         "73",
         "1914"
        ],
        [
         "79",
         "2049"
        ],
        [
         "80",
         "2057"
        ],
        [
         "82",
         "2092"
        ],
        [
         "84",
         "2130"
        ],
        [
         "86",
         "2209"
        ],
        [
         "88",
         "2270"
        ],
        [
         "90",
         "2306"
        ],
        [
         "94",
         "2473"
        ],
        [
         "98",
         "2591"
        ],
        [
         "108",
         "2922"
        ],
        [
         "110",
         "2972"
        ],
        [
         "111",
         "2974"
        ],
        [
         "112",
         "2985"
        ],
        [
         "120",
         "3179"
        ],
        [
         "125",
         "3333"
        ],
        [
         "128",
         "3360"
        ],
        [
         "130",
         "3423"
        ],
        [
         "131",
         "3463"
        ],
        [
         "133",
         "3487"
        ],
        [
         "135",
         "3499"
        ]
       ],
       "shape": {
        "columns": 1,
        "rows": 144
       }
      },
      "text/plain": [
       "1        19\n",
       "9       200\n",
       "10      218\n",
       "19      368\n",
       "21      422\n",
       "       ... \n",
       "376    9415\n",
       "381    9523\n",
       "383    9664\n",
       "386    9823\n",
       "387    9875\n",
       "Name: product_id, Length: 144, dtype: int64"
      ]
     },
     "execution_count": 94,
     "metadata": {},
     "output_type": "execute_result"
    }
   ],
   "source": [
    "region_counts = region_counts.loc[region_counts['unique_region_count'] == 1, 'product_id']\n",
    "region_counts"
   ]
  },
  {
   "cell_type": "code",
   "execution_count": 95,
   "id": "5c066e67",
   "metadata": {},
   "outputs": [
    {
     "data": {
      "application/vnd.microsoft.datawrangler.viewer.v0+json": {
       "columns": [
        {
         "name": "index",
         "rawType": "int64",
         "type": "integer"
        },
        {
         "name": "product_id",
         "rawType": "int64",
         "type": "integer"
        }
       ],
       "ref": "ef901927-3e5b-4a92-a853-468efcc92dc3",
       "rows": [
        [
         "1",
         "19"
        ],
        [
         "9",
         "200"
        ],
        [
         "10",
         "218"
        ],
        [
         "19",
         "368"
        ],
        [
         "21",
         "422"
        ],
        [
         "22",
         "457"
        ],
        [
         "29",
         "642"
        ],
        [
         "31",
         "723"
        ],
        [
         "32",
         "748"
        ],
        [
         "35",
         "847"
        ],
        [
         "37",
         "950"
        ],
        [
         "39",
         "986"
        ],
        [
         "41",
         "1002"
        ],
        [
         "42",
         "1011"
        ],
        [
         "44",
         "1027"
        ],
        [
         "45",
         "1049"
        ],
        [
         "47",
         "1092"
        ],
        [
         "50",
         "1138"
        ],
        [
         "51",
         "1154"
        ],
        [
         "52",
         "1179"
        ],
        [
         "54",
         "1256"
        ],
        [
         "55",
         "1270"
        ],
        [
         "59",
         "1519"
        ],
        [
         "63",
         "1657"
        ],
        [
         "64",
         "1670"
        ],
        [
         "68",
         "1796"
        ],
        [
         "69",
         "1799"
        ],
        [
         "70",
         "1803"
        ],
        [
         "71",
         "1898"
        ],
        [
         "73",
         "1914"
        ],
        [
         "79",
         "2049"
        ],
        [
         "80",
         "2057"
        ],
        [
         "82",
         "2092"
        ],
        [
         "84",
         "2130"
        ],
        [
         "86",
         "2209"
        ],
        [
         "88",
         "2270"
        ],
        [
         "90",
         "2306"
        ],
        [
         "94",
         "2473"
        ],
        [
         "98",
         "2591"
        ],
        [
         "108",
         "2922"
        ],
        [
         "110",
         "2972"
        ],
        [
         "111",
         "2974"
        ],
        [
         "112",
         "2985"
        ],
        [
         "120",
         "3179"
        ],
        [
         "125",
         "3333"
        ],
        [
         "128",
         "3360"
        ],
        [
         "130",
         "3423"
        ],
        [
         "131",
         "3463"
        ],
        [
         "133",
         "3487"
        ],
        [
         "135",
         "3499"
        ]
       ],
       "shape": {
        "columns": 1,
        "rows": 144
       }
      },
      "text/plain": [
       "1        19\n",
       "9       200\n",
       "10      218\n",
       "19      368\n",
       "21      422\n",
       "       ... \n",
       "376    9415\n",
       "381    9523\n",
       "383    9664\n",
       "386    9823\n",
       "387    9875\n",
       "Name: product_id, Length: 144, dtype: int64"
      ]
     },
     "execution_count": 95,
     "metadata": {},
     "output_type": "execute_result"
    }
   ],
   "source": [
    "region_counts"
   ]
  },
  {
   "cell_type": "code",
   "execution_count": 96,
   "id": "5dad5f97",
   "metadata": {},
   "outputs": [
    {
     "data": {
      "application/vnd.microsoft.datawrangler.viewer.v0+json": {
       "columns": [
        {
         "name": "index",
         "rawType": "int64",
         "type": "integer"
        },
        {
         "name": "product_id",
         "rawType": "int64",
         "type": "integer"
        },
        {
         "name": "warehouse_location",
         "rawType": "category",
         "type": "unknown"
        },
        {
         "name": "employee_id",
         "rawType": "float64",
         "type": "float"
        },
        {
         "name": "region",
         "rawType": "category",
         "type": "unknown"
        }
       ],
       "ref": "1dafdef3-103f-4d8d-b2a5-aa7299bf83bd",
       "rows": [
        [
         "0",
         "4703",
         null,
         "1143.0",
         "West"
        ],
        [
         "1",
         "4703",
         null,
         "1441.0",
         "West"
        ],
        [
         "14",
         "3333",
         null,
         "441.0",
         "East"
        ],
        [
         "26",
         "3695",
         null,
         "119.0",
         "East"
        ],
        [
         "27",
         "3695",
         null,
         "1876.0",
         "East"
        ],
        [
         "33",
         "986",
         null,
         "1757.0",
         "South"
        ],
        [
         "41",
         "6294",
         null,
         "7.0",
         "East"
        ],
        [
         "42",
         "457",
         null,
         "1625.0",
         "North"
        ],
        [
         "45",
         "723",
         null,
         "72.0",
         "East"
        ],
        [
         "50",
         "4258",
         null,
         "996.0",
         "East"
        ],
        [
         "51",
         "1799",
         null,
         "1056.0",
         "East"
        ],
        [
         "52",
         "1799",
         null,
         "1070.0",
         "East"
        ],
        [
         "53",
         "6389",
         null,
         "1677.0",
         "South"
        ],
        [
         "57",
         "5282",
         null,
         "854.0",
         "South"
        ],
        [
         "69",
         "5819",
         null,
         "534.0",
         "South"
        ],
        [
         "70",
         "6946",
         null,
         "1342.0",
         "East"
        ],
        [
         "71",
         "6946",
         null,
         "1306.0",
         "East"
        ],
        [
         "74",
         "7632",
         null,
         "371.0",
         "East"
        ],
        [
         "75",
         "7632",
         null,
         "1635.0",
         "East"
        ],
        [
         "144",
         "6473",
         null,
         "587.0",
         "East"
        ],
        [
         "146",
         "8928",
         null,
         "809.0",
         "West"
        ],
        [
         "153",
         "6610",
         null,
         "339.0",
         "East"
        ],
        [
         "154",
         "6610",
         null,
         "1617.0",
         "East"
        ],
        [
         "156",
         "7450",
         null,
         "986.0",
         "North"
        ],
        [
         "161",
         "7558",
         null,
         "1068.0",
         "West"
        ],
        [
         "162",
         "7558",
         null,
         "1249.0",
         "West"
        ],
        [
         "163",
         "7558",
         null,
         "1301.0",
         "West"
        ],
        [
         "164",
         "7558",
         null,
         "289.0",
         "West"
        ],
        [
         "169",
         "8541",
         null,
         "1807.0",
         "West"
        ],
        [
         "170",
         "1898",
         null,
         "220.0",
         "East"
        ],
        [
         "175",
         "2306",
         null,
         "429.0",
         "South"
        ],
        [
         "176",
         "4860",
         null,
         "573.0",
         "South"
        ],
        [
         "177",
         "4860",
         null,
         "155.0",
         "South"
        ],
        [
         "184",
         "2974",
         null,
         "710.0",
         "North"
        ],
        [
         "185",
         "2974",
         null,
         "782.0",
         "North"
        ],
        [
         "186",
         "2209",
         null,
         "431.0",
         "West"
        ],
        [
         "195",
         "6096",
         null,
         "303.0",
         "East"
        ],
        [
         "196",
         "6096",
         null,
         "886.0",
         "East"
        ],
        [
         "207",
         "3499",
         null,
         "1693.0",
         "East"
        ],
        [
         "211",
         "8339",
         null,
         "1641.0",
         "South"
        ],
        [
         "215",
         "6722",
         null,
         "271.0",
         "West"
        ],
        [
         "216",
         "6381",
         null,
         "1908.0",
         "South"
        ],
        [
         "217",
         "6381",
         null,
         "340.0",
         "South"
        ],
        [
         "222",
         "6491",
         null,
         "447.0",
         "South"
        ],
        [
         "223",
         "6491",
         null,
         "306.0",
         "South"
        ],
        [
         "224",
         "2049",
         null,
         "1231.0",
         "West"
        ],
        [
         "231",
         "9105",
         null,
         "687.0",
         "North"
        ],
        [
         "241",
         "1092",
         null,
         "481.0",
         "North"
        ],
        [
         "242",
         "1092",
         null,
         "910.0",
         "North"
        ],
        [
         "245",
         "7406",
         null,
         "609.0",
         "North"
        ]
       ],
       "shape": {
        "columns": 4,
        "rows": 191
       }
      },
      "text/html": [
       "<div>\n",
       "<style scoped>\n",
       "    .dataframe tbody tr th:only-of-type {\n",
       "        vertical-align: middle;\n",
       "    }\n",
       "\n",
       "    .dataframe tbody tr th {\n",
       "        vertical-align: top;\n",
       "    }\n",
       "\n",
       "    .dataframe thead th {\n",
       "        text-align: right;\n",
       "    }\n",
       "</style>\n",
       "<table border=\"1\" class=\"dataframe\">\n",
       "  <thead>\n",
       "    <tr style=\"text-align: right;\">\n",
       "      <th></th>\n",
       "      <th>product_id</th>\n",
       "      <th>warehouse_location</th>\n",
       "      <th>employee_id</th>\n",
       "      <th>region</th>\n",
       "    </tr>\n",
       "  </thead>\n",
       "  <tbody>\n",
       "    <tr>\n",
       "      <th>0</th>\n",
       "      <td>4703</td>\n",
       "      <td>NaN</td>\n",
       "      <td>1143.0</td>\n",
       "      <td>West</td>\n",
       "    </tr>\n",
       "    <tr>\n",
       "      <th>1</th>\n",
       "      <td>4703</td>\n",
       "      <td>NaN</td>\n",
       "      <td>1441.0</td>\n",
       "      <td>West</td>\n",
       "    </tr>\n",
       "    <tr>\n",
       "      <th>14</th>\n",
       "      <td>3333</td>\n",
       "      <td>NaN</td>\n",
       "      <td>441.0</td>\n",
       "      <td>East</td>\n",
       "    </tr>\n",
       "    <tr>\n",
       "      <th>26</th>\n",
       "      <td>3695</td>\n",
       "      <td>NaN</td>\n",
       "      <td>119.0</td>\n",
       "      <td>East</td>\n",
       "    </tr>\n",
       "    <tr>\n",
       "      <th>27</th>\n",
       "      <td>3695</td>\n",
       "      <td>NaN</td>\n",
       "      <td>1876.0</td>\n",
       "      <td>East</td>\n",
       "    </tr>\n",
       "    <tr>\n",
       "      <th>...</th>\n",
       "      <td>...</td>\n",
       "      <td>...</td>\n",
       "      <td>...</td>\n",
       "      <td>...</td>\n",
       "    </tr>\n",
       "    <tr>\n",
       "      <th>868</th>\n",
       "      <td>3423</td>\n",
       "      <td>NaN</td>\n",
       "      <td>358.0</td>\n",
       "      <td>East</td>\n",
       "    </tr>\n",
       "    <tr>\n",
       "      <th>869</th>\n",
       "      <td>4106</td>\n",
       "      <td>NaN</td>\n",
       "      <td>449.0</td>\n",
       "      <td>North</td>\n",
       "    </tr>\n",
       "    <tr>\n",
       "      <th>870</th>\n",
       "      <td>4106</td>\n",
       "      <td>NaN</td>\n",
       "      <td>975.0</td>\n",
       "      <td>North</td>\n",
       "    </tr>\n",
       "    <tr>\n",
       "      <th>878</th>\n",
       "      <td>8335</td>\n",
       "      <td>NaN</td>\n",
       "      <td>185.0</td>\n",
       "      <td>East</td>\n",
       "    </tr>\n",
       "    <tr>\n",
       "      <th>886</th>\n",
       "      <td>8436</td>\n",
       "      <td>NaN</td>\n",
       "      <td>1803.0</td>\n",
       "      <td>East</td>\n",
       "    </tr>\n",
       "  </tbody>\n",
       "</table>\n",
       "<p>191 rows × 4 columns</p>\n",
       "</div>"
      ],
      "text/plain": [
       "     product_id warehouse_location  employee_id region\n",
       "0          4703                NaN       1143.0   West\n",
       "1          4703                NaN       1441.0   West\n",
       "14         3333                NaN        441.0   East\n",
       "26         3695                NaN        119.0   East\n",
       "27         3695                NaN       1876.0   East\n",
       "..          ...                ...          ...    ...\n",
       "868        3423                NaN        358.0   East\n",
       "869        4106                NaN        449.0  North\n",
       "870        4106                NaN        975.0  North\n",
       "878        8335                NaN        185.0   East\n",
       "886        8436                NaN       1803.0   East\n",
       "\n",
       "[191 rows x 4 columns]"
      ]
     },
     "execution_count": 96,
     "metadata": {},
     "output_type": "execute_result"
    }
   ],
   "source": [
    "df_inventory_prodid_whloc = df_inventory_prodid_whloc[df_inventory_prodid_whloc['product_id'].isin(region_counts)]\n",
    "df_inventory_prodid_whloc"
   ]
  },
  {
   "cell_type": "code",
   "execution_count": 97,
   "id": "b5346dea",
   "metadata": {},
   "outputs": [
    {
     "data": {
      "application/vnd.microsoft.datawrangler.viewer.v0+json": {
       "columns": [
        {
         "name": "index",
         "rawType": "int64",
         "type": "integer"
        },
        {
         "name": "product_id",
         "rawType": "int64",
         "type": "integer"
        },
        {
         "name": "region",
         "rawType": "category",
         "type": "unknown"
        }
       ],
       "ref": "6a9a7522-94e6-4157-b1b7-169755761398",
       "rows": [
        [
         "14",
         "3333",
         "East"
        ],
        [
         "33",
         "986",
         "South"
        ],
        [
         "41",
         "6294",
         "East"
        ],
        [
         "42",
         "457",
         "North"
        ],
        [
         "45",
         "723",
         "East"
        ],
        [
         "53",
         "6389",
         "South"
        ],
        [
         "57",
         "5282",
         "South"
        ],
        [
         "69",
         "5819",
         "South"
        ],
        [
         "144",
         "6473",
         "East"
        ],
        [
         "146",
         "8928",
         "West"
        ],
        [
         "156",
         "7450",
         "North"
        ],
        [
         "169",
         "8541",
         "West"
        ],
        [
         "170",
         "1898",
         "East"
        ],
        [
         "175",
         "2306",
         "South"
        ],
        [
         "186",
         "2209",
         "West"
        ],
        [
         "207",
         "3499",
         "East"
        ],
        [
         "211",
         "8339",
         "South"
        ],
        [
         "215",
         "6722",
         "West"
        ],
        [
         "224",
         "2049",
         "West"
        ],
        [
         "231",
         "9105",
         "North"
        ],
        [
         "249",
         "1154",
         "North"
        ],
        [
         "259",
         "9875",
         "South"
        ],
        [
         "285",
         "1796",
         "West"
        ],
        [
         "286",
         "4542",
         "North"
        ],
        [
         "297",
         "4938",
         "North"
        ],
        [
         "298",
         "7873",
         "East"
        ],
        [
         "299",
         "5333",
         "West"
        ],
        [
         "300",
         "9664",
         "North"
        ],
        [
         "301",
         "5867",
         "South"
        ],
        [
         "307",
         "6030",
         "East"
        ],
        [
         "324",
         "6904",
         "East"
        ],
        [
         "330",
         "7103",
         "South"
        ],
        [
         "340",
         "4013",
         "West"
        ],
        [
         "342",
         "4456",
         "South"
        ],
        [
         "347",
         "6646",
         "East"
        ],
        [
         "348",
         "1270",
         "South"
        ],
        [
         "357",
         "1519",
         "East"
        ],
        [
         "362",
         "7340",
         "East"
        ],
        [
         "382",
         "2922",
         "North"
        ],
        [
         "386",
         "3594",
         "West"
        ],
        [
         "393",
         "4016",
         "North"
        ],
        [
         "408",
         "5862",
         "West"
        ],
        [
         "409",
         "3639",
         "North"
        ],
        [
         "410",
         "8528",
         "West"
        ],
        [
         "413",
         "3360",
         "South"
        ],
        [
         "421",
         "1670",
         "North"
        ],
        [
         "444",
         "8063",
         "East"
        ],
        [
         "445",
         "2092",
         "West"
        ],
        [
         "454",
         "4307",
         "West"
        ],
        [
         "460",
         "7708",
         "East"
        ]
       ],
       "shape": {
        "columns": 2,
        "rows": 103
       }
      },
      "text/html": [
       "<div>\n",
       "<style scoped>\n",
       "    .dataframe tbody tr th:only-of-type {\n",
       "        vertical-align: middle;\n",
       "    }\n",
       "\n",
       "    .dataframe tbody tr th {\n",
       "        vertical-align: top;\n",
       "    }\n",
       "\n",
       "    .dataframe thead th {\n",
       "        text-align: right;\n",
       "    }\n",
       "</style>\n",
       "<table border=\"1\" class=\"dataframe\">\n",
       "  <thead>\n",
       "    <tr style=\"text-align: right;\">\n",
       "      <th></th>\n",
       "      <th>product_id</th>\n",
       "      <th>region</th>\n",
       "    </tr>\n",
       "  </thead>\n",
       "  <tbody>\n",
       "    <tr>\n",
       "      <th>14</th>\n",
       "      <td>3333</td>\n",
       "      <td>East</td>\n",
       "    </tr>\n",
       "    <tr>\n",
       "      <th>33</th>\n",
       "      <td>986</td>\n",
       "      <td>South</td>\n",
       "    </tr>\n",
       "    <tr>\n",
       "      <th>41</th>\n",
       "      <td>6294</td>\n",
       "      <td>East</td>\n",
       "    </tr>\n",
       "    <tr>\n",
       "      <th>42</th>\n",
       "      <td>457</td>\n",
       "      <td>North</td>\n",
       "    </tr>\n",
       "    <tr>\n",
       "      <th>45</th>\n",
       "      <td>723</td>\n",
       "      <td>East</td>\n",
       "    </tr>\n",
       "    <tr>\n",
       "      <th>...</th>\n",
       "      <td>...</td>\n",
       "      <td>...</td>\n",
       "    </tr>\n",
       "    <tr>\n",
       "      <th>844</th>\n",
       "      <td>2130</td>\n",
       "      <td>North</td>\n",
       "    </tr>\n",
       "    <tr>\n",
       "      <th>863</th>\n",
       "      <td>368</td>\n",
       "      <td>West</td>\n",
       "    </tr>\n",
       "    <tr>\n",
       "      <th>866</th>\n",
       "      <td>2270</td>\n",
       "      <td>South</td>\n",
       "    </tr>\n",
       "    <tr>\n",
       "      <th>878</th>\n",
       "      <td>8335</td>\n",
       "      <td>East</td>\n",
       "    </tr>\n",
       "    <tr>\n",
       "      <th>886</th>\n",
       "      <td>8436</td>\n",
       "      <td>East</td>\n",
       "    </tr>\n",
       "  </tbody>\n",
       "</table>\n",
       "<p>103 rows × 2 columns</p>\n",
       "</div>"
      ],
      "text/plain": [
       "     product_id region\n",
       "14         3333   East\n",
       "33          986  South\n",
       "41         6294   East\n",
       "42          457  North\n",
       "45          723   East\n",
       "..          ...    ...\n",
       "844        2130  North\n",
       "863         368   West\n",
       "866        2270  South\n",
       "878        8335   East\n",
       "886        8436   East\n",
       "\n",
       "[103 rows x 2 columns]"
      ]
     },
     "execution_count": 97,
     "metadata": {},
     "output_type": "execute_result"
    }
   ],
   "source": [
    "df_inventory_prodid_whloc = df_inventory_prodid_whloc[~df_inventory_prodid_whloc.duplicated(subset=['product_id'], keep=False)]\n",
    "df_inventory_prodid_whloc = df_inventory_prodid_whloc.drop(columns=['warehouse_location', 'employee_id'])\n",
    "df_inventory_prodid_whloc"
   ]
  },
  {
   "cell_type": "code",
   "execution_count": 98,
   "id": "592a7a63",
   "metadata": {},
   "outputs": [
    {
     "data": {
      "application/vnd.microsoft.datawrangler.viewer.v0+json": {
       "columns": [
        {
         "name": "index",
         "rawType": "int64",
         "type": "integer"
        },
        {
         "name": "inventory_id",
         "rawType": "int64",
         "type": "integer"
        },
        {
         "name": "date",
         "rawType": "datetime64[ns, US/Pacific]",
         "type": "unknown"
        },
        {
         "name": "product_id",
         "rawType": "int64",
         "type": "integer"
        },
        {
         "name": "beginning_stock",
         "rawType": "int64",
         "type": "integer"
        },
        {
         "name": "received",
         "rawType": "int64",
         "type": "integer"
        },
        {
         "name": "sold",
         "rawType": "int64",
         "type": "integer"
        },
        {
         "name": "warehouse_location",
         "rawType": "category",
         "type": "unknown"
        },
        {
         "name": "ending_stock",
         "rawType": "int64",
         "type": "integer"
        },
        {
         "name": "region",
         "rawType": "category",
         "type": "unknown"
        }
       ],
       "ref": "8a0c7291-a57d-4c44-9b79-2b09fd8eeb6f",
       "rows": [
        [
         "0",
         "1",
         "2025-06-20 00:00:00-07:00",
         "1505",
         "49",
         "12",
         "7",
         "East",
         "54",
         null
        ],
        [
         "1",
         "2",
         "2025-05-13 00:00:00-07:00",
         "1611",
         "55",
         "2",
         "6",
         "South",
         "51",
         null
        ],
        [
         "2",
         "3",
         "2025-07-02 00:00:00-07:00",
         "1310",
         "82",
         "5",
         "3",
         "North",
         "84",
         null
        ],
        [
         "3",
         "4",
         "2025-05-14 00:00:00-07:00",
         "2355",
         "14",
         "11",
         "14",
         "West",
         "11",
         null
        ],
        [
         "4",
         "5",
         "2025-06-13 00:00:00-07:00",
         "8382",
         "39",
         "17",
         "11",
         "East",
         "45",
         null
        ],
        [
         "5",
         "6",
         "2025-05-27 00:00:00-07:00",
         "2194",
         "82",
         "3",
         "10",
         "South",
         "75",
         null
        ],
        [
         "6",
         "7",
         "2025-06-04 00:00:00-07:00",
         "7562",
         "56",
         "10",
         "12",
         "East",
         "54",
         null
        ],
        [
         "7",
         "8",
         "2025-06-16 00:00:00-07:00",
         "5646",
         "89",
         "17",
         "2",
         "East",
         "104",
         null
        ],
        [
         "8",
         "9",
         "2025-05-21 00:00:00-07:00",
         "9131",
         "86",
         "15",
         "12",
         "East",
         "89",
         null
        ],
        [
         "9",
         "10",
         "2025-06-06 00:00:00-07:00",
         "191",
         "31",
         "17",
         "13",
         "North",
         "35",
         null
        ],
        [
         "10",
         "11",
         "2025-06-11 00:00:00-07:00",
         "3381",
         "52",
         "16",
         "6",
         "East",
         "62",
         null
        ],
        [
         "11",
         "12",
         "2025-06-29 00:00:00-07:00",
         "8579",
         "98",
         "10",
         "4",
         "South",
         "104",
         null
        ],
        [
         "12",
         "13",
         "2025-06-09 00:00:00-07:00",
         "9859",
         "13",
         "18",
         "4",
         "North",
         "27",
         null
        ],
        [
         "13",
         "14",
         "2025-06-20 00:00:00-07:00",
         "3780",
         "29",
         "13",
         "7",
         "North",
         "35",
         null
        ],
        [
         "14",
         "15",
         "2025-06-14 00:00:00-07:00",
         "489",
         "87",
         "9",
         "0",
         "West",
         "96",
         null
        ],
        [
         "15",
         "16",
         "2025-05-08 00:00:00-07:00",
         "6319",
         "70",
         "8",
         "3",
         "East",
         "75",
         null
        ],
        [
         "16",
         "17",
         "2025-06-27 00:00:00-07:00",
         "5032",
         "60",
         "9",
         "12",
         "South",
         "57",
         null
        ],
        [
         "17",
         "18",
         "2025-06-08 00:00:00-07:00",
         "8127",
         "51",
         "10",
         "2",
         "North",
         "59",
         null
        ],
        [
         "18",
         "19",
         "2025-06-30 00:00:00-07:00",
         "9870",
         "36",
         "11",
         "3",
         "North",
         "44",
         null
        ],
        [
         "19",
         "20",
         "2025-05-09 00:00:00-07:00",
         "4827",
         "43",
         "0",
         "14",
         "East",
         "29",
         null
        ],
        [
         "20",
         "21",
         "2025-06-28 00:00:00-07:00",
         "4187",
         "57",
         "3",
         "4",
         "North",
         "56",
         null
        ],
        [
         "21",
         "22",
         "2025-06-15 00:00:00-07:00",
         "7359",
         "61",
         "18",
         "0",
         "East",
         "79",
         null
        ],
        [
         "22",
         "23",
         "2025-05-13 00:00:00-07:00",
         "3870",
         "72",
         "4",
         "9",
         "West",
         "67",
         null
        ],
        [
         "23",
         "24",
         "2025-06-06 00:00:00-07:00",
         "5395",
         "31",
         "6",
         "10",
         "South",
         "27",
         null
        ],
        [
         "24",
         "25",
         "2025-06-12 00:00:00-07:00",
         "3344",
         "43",
         "12",
         "0",
         "East",
         "55",
         null
        ],
        [
         "25",
         "26",
         "2025-05-17 00:00:00-07:00",
         "8208",
         "26",
         "4",
         "12",
         "South",
         "18",
         null
        ],
        [
         "26",
         "27",
         "2025-06-21 00:00:00-07:00",
         "8918",
         "54",
         "3",
         "6",
         "West",
         "51",
         null
        ],
        [
         "27",
         "28",
         "2025-05-19 00:00:00-07:00",
         "122",
         "49",
         "16",
         "8",
         "East",
         "57",
         null
        ],
        [
         "28",
         "29",
         "2025-07-03 00:00:00-07:00",
         "5625",
         "18",
         "13",
         "3",
         "North",
         "28",
         null
        ],
        [
         "29",
         "30",
         "2025-06-08 00:00:00-07:00",
         "7659",
         "62",
         "6",
         "0",
         "South",
         "68",
         null
        ],
        [
         "30",
         "31",
         "2025-05-14 00:00:00-07:00",
         "6379",
         "31",
         "16",
         "6",
         "West",
         "41",
         null
        ],
        [
         "31",
         "32",
         "2025-06-04 00:00:00-07:00",
         "7553",
         "10",
         "13",
         "14",
         "South",
         "9",
         null
        ],
        [
         "32",
         "33",
         "2025-06-13 00:00:00-07:00",
         "1983",
         "89",
         "19",
         "5",
         "North",
         "103",
         null
        ],
        [
         "33",
         "34",
         "2025-06-19 00:00:00-07:00",
         "6428",
         "26",
         "19",
         "4",
         "East",
         "41",
         null
        ],
        [
         "34",
         "35",
         "2025-05-28 00:00:00-07:00",
         "9901",
         "11",
         "19",
         "14",
         "South",
         "16",
         null
        ],
        [
         "35",
         "36",
         "2025-05-12 00:00:00-07:00",
         "4703",
         "22",
         "12",
         "14",
         null,
         "20",
         null
        ],
        [
         "36",
         "37",
         "2025-06-28 00:00:00-07:00",
         "6804",
         "19",
         "3",
         "14",
         "West",
         "8",
         null
        ],
        [
         "37",
         "38",
         "2025-06-18 00:00:00-07:00",
         "7394",
         "29",
         "1",
         "4",
         "West",
         "26",
         null
        ],
        [
         "38",
         "39",
         "2025-05-26 00:00:00-07:00",
         "2796",
         "81",
         "12",
         "0",
         "West",
         "93",
         null
        ],
        [
         "39",
         "40",
         "2025-06-25 00:00:00-07:00",
         "4954",
         "6",
         "13",
         "11",
         "North",
         "8",
         null
        ],
        [
         "40",
         "41",
         "2025-05-20 00:00:00-07:00",
         "5971",
         "27",
         "13",
         "10",
         "South",
         "30",
         null
        ],
        [
         "41",
         "42",
         "2025-05-27 00:00:00-07:00",
         "7247",
         "1",
         "4",
         "11",
         "East",
         "0",
         null
        ],
        [
         "42",
         "43",
         "2025-06-29 00:00:00-07:00",
         "22",
         "17",
         "6",
         "12",
         "West",
         "11",
         null
        ],
        [
         "43",
         "44",
         "2025-06-21 00:00:00-07:00",
         "2277",
         "1",
         "6",
         "11",
         "East",
         "0",
         null
        ],
        [
         "44",
         "45",
         "2025-05-08 00:00:00-07:00",
         "393",
         "62",
         "6",
         "10",
         "East",
         "58",
         null
        ],
        [
         "45",
         "46",
         "2025-06-02 00:00:00-07:00",
         "2471",
         "24",
         "4",
         "8",
         "South",
         "20",
         null
        ],
        [
         "46",
         "47",
         "2025-06-01 00:00:00-07:00",
         "5250",
         "59",
         "4",
         "6",
         "North",
         "57",
         null
        ],
        [
         "47",
         "48",
         "2025-06-23 00:00:00-07:00",
         "4406",
         "55",
         "7",
         "3",
         "West",
         "59",
         null
        ],
        [
         "48",
         "49",
         "2025-06-27 00:00:00-07:00",
         "2101",
         "97",
         "7",
         "14",
         "North",
         "90",
         null
        ],
        [
         "49",
         "50",
         "2025-06-03 00:00:00-07:00",
         "369",
         "1",
         "12",
         "10",
         "South",
         "3",
         null
        ]
       ],
       "shape": {
        "columns": 9,
        "rows": 20000
       }
      },
      "text/html": [
       "<div>\n",
       "<style scoped>\n",
       "    .dataframe tbody tr th:only-of-type {\n",
       "        vertical-align: middle;\n",
       "    }\n",
       "\n",
       "    .dataframe tbody tr th {\n",
       "        vertical-align: top;\n",
       "    }\n",
       "\n",
       "    .dataframe thead th {\n",
       "        text-align: right;\n",
       "    }\n",
       "</style>\n",
       "<table border=\"1\" class=\"dataframe\">\n",
       "  <thead>\n",
       "    <tr style=\"text-align: right;\">\n",
       "      <th></th>\n",
       "      <th>inventory_id</th>\n",
       "      <th>date</th>\n",
       "      <th>product_id</th>\n",
       "      <th>beginning_stock</th>\n",
       "      <th>received</th>\n",
       "      <th>sold</th>\n",
       "      <th>warehouse_location</th>\n",
       "      <th>ending_stock</th>\n",
       "      <th>region</th>\n",
       "    </tr>\n",
       "  </thead>\n",
       "  <tbody>\n",
       "    <tr>\n",
       "      <th>0</th>\n",
       "      <td>1</td>\n",
       "      <td>2025-06-20 00:00:00-07:00</td>\n",
       "      <td>1505</td>\n",
       "      <td>49</td>\n",
       "      <td>12</td>\n",
       "      <td>7</td>\n",
       "      <td>East</td>\n",
       "      <td>54</td>\n",
       "      <td>NaN</td>\n",
       "    </tr>\n",
       "    <tr>\n",
       "      <th>1</th>\n",
       "      <td>2</td>\n",
       "      <td>2025-05-13 00:00:00-07:00</td>\n",
       "      <td>1611</td>\n",
       "      <td>55</td>\n",
       "      <td>2</td>\n",
       "      <td>6</td>\n",
       "      <td>South</td>\n",
       "      <td>51</td>\n",
       "      <td>NaN</td>\n",
       "    </tr>\n",
       "    <tr>\n",
       "      <th>2</th>\n",
       "      <td>3</td>\n",
       "      <td>2025-07-02 00:00:00-07:00</td>\n",
       "      <td>1310</td>\n",
       "      <td>82</td>\n",
       "      <td>5</td>\n",
       "      <td>3</td>\n",
       "      <td>North</td>\n",
       "      <td>84</td>\n",
       "      <td>NaN</td>\n",
       "    </tr>\n",
       "    <tr>\n",
       "      <th>3</th>\n",
       "      <td>4</td>\n",
       "      <td>2025-05-14 00:00:00-07:00</td>\n",
       "      <td>2355</td>\n",
       "      <td>14</td>\n",
       "      <td>11</td>\n",
       "      <td>14</td>\n",
       "      <td>West</td>\n",
       "      <td>11</td>\n",
       "      <td>NaN</td>\n",
       "    </tr>\n",
       "    <tr>\n",
       "      <th>4</th>\n",
       "      <td>5</td>\n",
       "      <td>2025-06-13 00:00:00-07:00</td>\n",
       "      <td>8382</td>\n",
       "      <td>39</td>\n",
       "      <td>17</td>\n",
       "      <td>11</td>\n",
       "      <td>East</td>\n",
       "      <td>45</td>\n",
       "      <td>NaN</td>\n",
       "    </tr>\n",
       "    <tr>\n",
       "      <th>...</th>\n",
       "      <td>...</td>\n",
       "      <td>...</td>\n",
       "      <td>...</td>\n",
       "      <td>...</td>\n",
       "      <td>...</td>\n",
       "      <td>...</td>\n",
       "      <td>...</td>\n",
       "      <td>...</td>\n",
       "      <td>...</td>\n",
       "    </tr>\n",
       "    <tr>\n",
       "      <th>19995</th>\n",
       "      <td>19996</td>\n",
       "      <td>2025-05-25 00:00:00-07:00</td>\n",
       "      <td>7842</td>\n",
       "      <td>71</td>\n",
       "      <td>4</td>\n",
       "      <td>2</td>\n",
       "      <td>South</td>\n",
       "      <td>73</td>\n",
       "      <td>NaN</td>\n",
       "    </tr>\n",
       "    <tr>\n",
       "      <th>19996</th>\n",
       "      <td>19997</td>\n",
       "      <td>2025-05-22 00:00:00-07:00</td>\n",
       "      <td>4965</td>\n",
       "      <td>84</td>\n",
       "      <td>12</td>\n",
       "      <td>2</td>\n",
       "      <td>East</td>\n",
       "      <td>94</td>\n",
       "      <td>NaN</td>\n",
       "    </tr>\n",
       "    <tr>\n",
       "      <th>19997</th>\n",
       "      <td>19998</td>\n",
       "      <td>2025-05-19 00:00:00-07:00</td>\n",
       "      <td>6455</td>\n",
       "      <td>24</td>\n",
       "      <td>4</td>\n",
       "      <td>5</td>\n",
       "      <td>East</td>\n",
       "      <td>23</td>\n",
       "      <td>NaN</td>\n",
       "    </tr>\n",
       "    <tr>\n",
       "      <th>19998</th>\n",
       "      <td>19999</td>\n",
       "      <td>2025-06-21 00:00:00-07:00</td>\n",
       "      <td>2555</td>\n",
       "      <td>97</td>\n",
       "      <td>0</td>\n",
       "      <td>6</td>\n",
       "      <td>West</td>\n",
       "      <td>91</td>\n",
       "      <td>NaN</td>\n",
       "    </tr>\n",
       "    <tr>\n",
       "      <th>19999</th>\n",
       "      <td>20000</td>\n",
       "      <td>2025-06-19 00:00:00-07:00</td>\n",
       "      <td>7179</td>\n",
       "      <td>40</td>\n",
       "      <td>0</td>\n",
       "      <td>7</td>\n",
       "      <td>East</td>\n",
       "      <td>33</td>\n",
       "      <td>NaN</td>\n",
       "    </tr>\n",
       "  </tbody>\n",
       "</table>\n",
       "<p>20000 rows × 9 columns</p>\n",
       "</div>"
      ],
      "text/plain": [
       "       inventory_id                      date  product_id  beginning_stock  received  sold warehouse_location  ending_stock region\n",
       "0                 1 2025-06-20 00:00:00-07:00        1505               49        12     7               East            54    NaN\n",
       "1                 2 2025-05-13 00:00:00-07:00        1611               55         2     6              South            51    NaN\n",
       "2                 3 2025-07-02 00:00:00-07:00        1310               82         5     3              North            84    NaN\n",
       "3                 4 2025-05-14 00:00:00-07:00        2355               14        11    14               West            11    NaN\n",
       "4                 5 2025-06-13 00:00:00-07:00        8382               39        17    11               East            45    NaN\n",
       "...             ...                       ...         ...              ...       ...   ...                ...           ...    ...\n",
       "19995         19996 2025-05-25 00:00:00-07:00        7842               71         4     2              South            73    NaN\n",
       "19996         19997 2025-05-22 00:00:00-07:00        4965               84        12     2               East            94    NaN\n",
       "19997         19998 2025-05-19 00:00:00-07:00        6455               24         4     5               East            23    NaN\n",
       "19998         19999 2025-06-21 00:00:00-07:00        2555               97         0     6               West            91    NaN\n",
       "19999         20000 2025-06-19 00:00:00-07:00        7179               40         0     7               East            33    NaN\n",
       "\n",
       "[20000 rows x 9 columns]"
      ]
     },
     "execution_count": 98,
     "metadata": {},
     "output_type": "execute_result"
    }
   ],
   "source": [
    "df_inventory = df_inventory.merge(df_inventory_prodid_whloc, on='product_id', how='left')\n",
    "df_inventory"
   ]
  },
  {
   "cell_type": "code",
   "execution_count": 99,
   "id": "1c0757b3",
   "metadata": {},
   "outputs": [
    {
     "data": {
      "application/vnd.microsoft.datawrangler.viewer.v0+json": {
       "columns": [
        {
         "name": "index",
         "rawType": "int64",
         "type": "integer"
        },
        {
         "name": "inventory_id",
         "rawType": "int64",
         "type": "integer"
        },
        {
         "name": "date",
         "rawType": "datetime64[ns, US/Pacific]",
         "type": "unknown"
        },
        {
         "name": "product_id",
         "rawType": "int64",
         "type": "integer"
        },
        {
         "name": "beginning_stock",
         "rawType": "int64",
         "type": "integer"
        },
        {
         "name": "received",
         "rawType": "int64",
         "type": "integer"
        },
        {
         "name": "sold",
         "rawType": "int64",
         "type": "integer"
        },
        {
         "name": "warehouse_location",
         "rawType": "object",
         "type": "unknown"
        },
        {
         "name": "ending_stock",
         "rawType": "int64",
         "type": "integer"
        },
        {
         "name": "region",
         "rawType": "category",
         "type": "unknown"
        }
       ],
       "ref": "f53c2d11-aa3c-41cb-aea6-4471446e1088",
       "rows": [
        [
         "0",
         "1",
         "2025-06-20 00:00:00-07:00",
         "1505",
         "49",
         "12",
         "7",
         "East",
         "54",
         null
        ],
        [
         "1",
         "2",
         "2025-05-13 00:00:00-07:00",
         "1611",
         "55",
         "2",
         "6",
         "South",
         "51",
         null
        ],
        [
         "2",
         "3",
         "2025-07-02 00:00:00-07:00",
         "1310",
         "82",
         "5",
         "3",
         "North",
         "84",
         null
        ],
        [
         "3",
         "4",
         "2025-05-14 00:00:00-07:00",
         "2355",
         "14",
         "11",
         "14",
         "West",
         "11",
         null
        ],
        [
         "4",
         "5",
         "2025-06-13 00:00:00-07:00",
         "8382",
         "39",
         "17",
         "11",
         "East",
         "45",
         null
        ],
        [
         "5",
         "6",
         "2025-05-27 00:00:00-07:00",
         "2194",
         "82",
         "3",
         "10",
         "South",
         "75",
         null
        ],
        [
         "6",
         "7",
         "2025-06-04 00:00:00-07:00",
         "7562",
         "56",
         "10",
         "12",
         "East",
         "54",
         null
        ],
        [
         "7",
         "8",
         "2025-06-16 00:00:00-07:00",
         "5646",
         "89",
         "17",
         "2",
         "East",
         "104",
         null
        ],
        [
         "8",
         "9",
         "2025-05-21 00:00:00-07:00",
         "9131",
         "86",
         "15",
         "12",
         "East",
         "89",
         null
        ],
        [
         "9",
         "10",
         "2025-06-06 00:00:00-07:00",
         "191",
         "31",
         "17",
         "13",
         "North",
         "35",
         null
        ],
        [
         "10",
         "11",
         "2025-06-11 00:00:00-07:00",
         "3381",
         "52",
         "16",
         "6",
         "East",
         "62",
         null
        ],
        [
         "11",
         "12",
         "2025-06-29 00:00:00-07:00",
         "8579",
         "98",
         "10",
         "4",
         "South",
         "104",
         null
        ],
        [
         "12",
         "13",
         "2025-06-09 00:00:00-07:00",
         "9859",
         "13",
         "18",
         "4",
         "North",
         "27",
         null
        ],
        [
         "13",
         "14",
         "2025-06-20 00:00:00-07:00",
         "3780",
         "29",
         "13",
         "7",
         "North",
         "35",
         null
        ],
        [
         "14",
         "15",
         "2025-06-14 00:00:00-07:00",
         "489",
         "87",
         "9",
         "0",
         "West",
         "96",
         null
        ],
        [
         "15",
         "16",
         "2025-05-08 00:00:00-07:00",
         "6319",
         "70",
         "8",
         "3",
         "East",
         "75",
         null
        ],
        [
         "16",
         "17",
         "2025-06-27 00:00:00-07:00",
         "5032",
         "60",
         "9",
         "12",
         "South",
         "57",
         null
        ],
        [
         "17",
         "18",
         "2025-06-08 00:00:00-07:00",
         "8127",
         "51",
         "10",
         "2",
         "North",
         "59",
         null
        ],
        [
         "18",
         "19",
         "2025-06-30 00:00:00-07:00",
         "9870",
         "36",
         "11",
         "3",
         "North",
         "44",
         null
        ],
        [
         "19",
         "20",
         "2025-05-09 00:00:00-07:00",
         "4827",
         "43",
         "0",
         "14",
         "East",
         "29",
         null
        ],
        [
         "20",
         "21",
         "2025-06-28 00:00:00-07:00",
         "4187",
         "57",
         "3",
         "4",
         "North",
         "56",
         null
        ],
        [
         "21",
         "22",
         "2025-06-15 00:00:00-07:00",
         "7359",
         "61",
         "18",
         "0",
         "East",
         "79",
         null
        ],
        [
         "22",
         "23",
         "2025-05-13 00:00:00-07:00",
         "3870",
         "72",
         "4",
         "9",
         "West",
         "67",
         null
        ],
        [
         "23",
         "24",
         "2025-06-06 00:00:00-07:00",
         "5395",
         "31",
         "6",
         "10",
         "South",
         "27",
         null
        ],
        [
         "24",
         "25",
         "2025-06-12 00:00:00-07:00",
         "3344",
         "43",
         "12",
         "0",
         "East",
         "55",
         null
        ],
        [
         "25",
         "26",
         "2025-05-17 00:00:00-07:00",
         "8208",
         "26",
         "4",
         "12",
         "South",
         "18",
         null
        ],
        [
         "26",
         "27",
         "2025-06-21 00:00:00-07:00",
         "8918",
         "54",
         "3",
         "6",
         "West",
         "51",
         null
        ],
        [
         "27",
         "28",
         "2025-05-19 00:00:00-07:00",
         "122",
         "49",
         "16",
         "8",
         "East",
         "57",
         null
        ],
        [
         "28",
         "29",
         "2025-07-03 00:00:00-07:00",
         "5625",
         "18",
         "13",
         "3",
         "North",
         "28",
         null
        ],
        [
         "29",
         "30",
         "2025-06-08 00:00:00-07:00",
         "7659",
         "62",
         "6",
         "0",
         "South",
         "68",
         null
        ],
        [
         "30",
         "31",
         "2025-05-14 00:00:00-07:00",
         "6379",
         "31",
         "16",
         "6",
         "West",
         "41",
         null
        ],
        [
         "31",
         "32",
         "2025-06-04 00:00:00-07:00",
         "7553",
         "10",
         "13",
         "14",
         "South",
         "9",
         null
        ],
        [
         "32",
         "33",
         "2025-06-13 00:00:00-07:00",
         "1983",
         "89",
         "19",
         "5",
         "North",
         "103",
         null
        ],
        [
         "33",
         "34",
         "2025-06-19 00:00:00-07:00",
         "6428",
         "26",
         "19",
         "4",
         "East",
         "41",
         null
        ],
        [
         "34",
         "35",
         "2025-05-28 00:00:00-07:00",
         "9901",
         "11",
         "19",
         "14",
         "South",
         "16",
         null
        ],
        [
         "35",
         "36",
         "2025-05-12 00:00:00-07:00",
         "4703",
         "22",
         "12",
         "14",
         null,
         "20",
         null
        ],
        [
         "36",
         "37",
         "2025-06-28 00:00:00-07:00",
         "6804",
         "19",
         "3",
         "14",
         "West",
         "8",
         null
        ],
        [
         "37",
         "38",
         "2025-06-18 00:00:00-07:00",
         "7394",
         "29",
         "1",
         "4",
         "West",
         "26",
         null
        ],
        [
         "38",
         "39",
         "2025-05-26 00:00:00-07:00",
         "2796",
         "81",
         "12",
         "0",
         "West",
         "93",
         null
        ],
        [
         "39",
         "40",
         "2025-06-25 00:00:00-07:00",
         "4954",
         "6",
         "13",
         "11",
         "North",
         "8",
         null
        ],
        [
         "40",
         "41",
         "2025-05-20 00:00:00-07:00",
         "5971",
         "27",
         "13",
         "10",
         "South",
         "30",
         null
        ],
        [
         "41",
         "42",
         "2025-05-27 00:00:00-07:00",
         "7247",
         "1",
         "4",
         "11",
         "East",
         "0",
         null
        ],
        [
         "42",
         "43",
         "2025-06-29 00:00:00-07:00",
         "22",
         "17",
         "6",
         "12",
         "West",
         "11",
         null
        ],
        [
         "43",
         "44",
         "2025-06-21 00:00:00-07:00",
         "2277",
         "1",
         "6",
         "11",
         "East",
         "0",
         null
        ],
        [
         "44",
         "45",
         "2025-05-08 00:00:00-07:00",
         "393",
         "62",
         "6",
         "10",
         "East",
         "58",
         null
        ],
        [
         "45",
         "46",
         "2025-06-02 00:00:00-07:00",
         "2471",
         "24",
         "4",
         "8",
         "South",
         "20",
         null
        ],
        [
         "46",
         "47",
         "2025-06-01 00:00:00-07:00",
         "5250",
         "59",
         "4",
         "6",
         "North",
         "57",
         null
        ],
        [
         "47",
         "48",
         "2025-06-23 00:00:00-07:00",
         "4406",
         "55",
         "7",
         "3",
         "West",
         "59",
         null
        ],
        [
         "48",
         "49",
         "2025-06-27 00:00:00-07:00",
         "2101",
         "97",
         "7",
         "14",
         "North",
         "90",
         null
        ],
        [
         "49",
         "50",
         "2025-06-03 00:00:00-07:00",
         "369",
         "1",
         "12",
         "10",
         "South",
         "3",
         null
        ]
       ],
       "shape": {
        "columns": 9,
        "rows": 20000
       }
      },
      "text/html": [
       "<div>\n",
       "<style scoped>\n",
       "    .dataframe tbody tr th:only-of-type {\n",
       "        vertical-align: middle;\n",
       "    }\n",
       "\n",
       "    .dataframe tbody tr th {\n",
       "        vertical-align: top;\n",
       "    }\n",
       "\n",
       "    .dataframe thead th {\n",
       "        text-align: right;\n",
       "    }\n",
       "</style>\n",
       "<table border=\"1\" class=\"dataframe\">\n",
       "  <thead>\n",
       "    <tr style=\"text-align: right;\">\n",
       "      <th></th>\n",
       "      <th>inventory_id</th>\n",
       "      <th>date</th>\n",
       "      <th>product_id</th>\n",
       "      <th>beginning_stock</th>\n",
       "      <th>received</th>\n",
       "      <th>sold</th>\n",
       "      <th>warehouse_location</th>\n",
       "      <th>ending_stock</th>\n",
       "      <th>region</th>\n",
       "    </tr>\n",
       "  </thead>\n",
       "  <tbody>\n",
       "    <tr>\n",
       "      <th>0</th>\n",
       "      <td>1</td>\n",
       "      <td>2025-06-20 00:00:00-07:00</td>\n",
       "      <td>1505</td>\n",
       "      <td>49</td>\n",
       "      <td>12</td>\n",
       "      <td>7</td>\n",
       "      <td>East</td>\n",
       "      <td>54</td>\n",
       "      <td>NaN</td>\n",
       "    </tr>\n",
       "    <tr>\n",
       "      <th>1</th>\n",
       "      <td>2</td>\n",
       "      <td>2025-05-13 00:00:00-07:00</td>\n",
       "      <td>1611</td>\n",
       "      <td>55</td>\n",
       "      <td>2</td>\n",
       "      <td>6</td>\n",
       "      <td>South</td>\n",
       "      <td>51</td>\n",
       "      <td>NaN</td>\n",
       "    </tr>\n",
       "    <tr>\n",
       "      <th>2</th>\n",
       "      <td>3</td>\n",
       "      <td>2025-07-02 00:00:00-07:00</td>\n",
       "      <td>1310</td>\n",
       "      <td>82</td>\n",
       "      <td>5</td>\n",
       "      <td>3</td>\n",
       "      <td>North</td>\n",
       "      <td>84</td>\n",
       "      <td>NaN</td>\n",
       "    </tr>\n",
       "    <tr>\n",
       "      <th>3</th>\n",
       "      <td>4</td>\n",
       "      <td>2025-05-14 00:00:00-07:00</td>\n",
       "      <td>2355</td>\n",
       "      <td>14</td>\n",
       "      <td>11</td>\n",
       "      <td>14</td>\n",
       "      <td>West</td>\n",
       "      <td>11</td>\n",
       "      <td>NaN</td>\n",
       "    </tr>\n",
       "    <tr>\n",
       "      <th>4</th>\n",
       "      <td>5</td>\n",
       "      <td>2025-06-13 00:00:00-07:00</td>\n",
       "      <td>8382</td>\n",
       "      <td>39</td>\n",
       "      <td>17</td>\n",
       "      <td>11</td>\n",
       "      <td>East</td>\n",
       "      <td>45</td>\n",
       "      <td>NaN</td>\n",
       "    </tr>\n",
       "    <tr>\n",
       "      <th>...</th>\n",
       "      <td>...</td>\n",
       "      <td>...</td>\n",
       "      <td>...</td>\n",
       "      <td>...</td>\n",
       "      <td>...</td>\n",
       "      <td>...</td>\n",
       "      <td>...</td>\n",
       "      <td>...</td>\n",
       "      <td>...</td>\n",
       "    </tr>\n",
       "    <tr>\n",
       "      <th>19995</th>\n",
       "      <td>19996</td>\n",
       "      <td>2025-05-25 00:00:00-07:00</td>\n",
       "      <td>7842</td>\n",
       "      <td>71</td>\n",
       "      <td>4</td>\n",
       "      <td>2</td>\n",
       "      <td>South</td>\n",
       "      <td>73</td>\n",
       "      <td>NaN</td>\n",
       "    </tr>\n",
       "    <tr>\n",
       "      <th>19996</th>\n",
       "      <td>19997</td>\n",
       "      <td>2025-05-22 00:00:00-07:00</td>\n",
       "      <td>4965</td>\n",
       "      <td>84</td>\n",
       "      <td>12</td>\n",
       "      <td>2</td>\n",
       "      <td>East</td>\n",
       "      <td>94</td>\n",
       "      <td>NaN</td>\n",
       "    </tr>\n",
       "    <tr>\n",
       "      <th>19997</th>\n",
       "      <td>19998</td>\n",
       "      <td>2025-05-19 00:00:00-07:00</td>\n",
       "      <td>6455</td>\n",
       "      <td>24</td>\n",
       "      <td>4</td>\n",
       "      <td>5</td>\n",
       "      <td>East</td>\n",
       "      <td>23</td>\n",
       "      <td>NaN</td>\n",
       "    </tr>\n",
       "    <tr>\n",
       "      <th>19998</th>\n",
       "      <td>19999</td>\n",
       "      <td>2025-06-21 00:00:00-07:00</td>\n",
       "      <td>2555</td>\n",
       "      <td>97</td>\n",
       "      <td>0</td>\n",
       "      <td>6</td>\n",
       "      <td>West</td>\n",
       "      <td>91</td>\n",
       "      <td>NaN</td>\n",
       "    </tr>\n",
       "    <tr>\n",
       "      <th>19999</th>\n",
       "      <td>20000</td>\n",
       "      <td>2025-06-19 00:00:00-07:00</td>\n",
       "      <td>7179</td>\n",
       "      <td>40</td>\n",
       "      <td>0</td>\n",
       "      <td>7</td>\n",
       "      <td>East</td>\n",
       "      <td>33</td>\n",
       "      <td>NaN</td>\n",
       "    </tr>\n",
       "  </tbody>\n",
       "</table>\n",
       "<p>20000 rows × 9 columns</p>\n",
       "</div>"
      ],
      "text/plain": [
       "       inventory_id                      date  product_id  beginning_stock  received  sold warehouse_location  ending_stock region\n",
       "0                 1 2025-06-20 00:00:00-07:00        1505               49        12     7               East            54    NaN\n",
       "1                 2 2025-05-13 00:00:00-07:00        1611               55         2     6              South            51    NaN\n",
       "2                 3 2025-07-02 00:00:00-07:00        1310               82         5     3              North            84    NaN\n",
       "3                 4 2025-05-14 00:00:00-07:00        2355               14        11    14               West            11    NaN\n",
       "4                 5 2025-06-13 00:00:00-07:00        8382               39        17    11               East            45    NaN\n",
       "...             ...                       ...         ...              ...       ...   ...                ...           ...    ...\n",
       "19995         19996 2025-05-25 00:00:00-07:00        7842               71         4     2              South            73    NaN\n",
       "19996         19997 2025-05-22 00:00:00-07:00        4965               84        12     2               East            94    NaN\n",
       "19997         19998 2025-05-19 00:00:00-07:00        6455               24         4     5               East            23    NaN\n",
       "19998         19999 2025-06-21 00:00:00-07:00        2555               97         0     6               West            91    NaN\n",
       "19999         20000 2025-06-19 00:00:00-07:00        7179               40         0     7               East            33    NaN\n",
       "\n",
       "[20000 rows x 9 columns]"
      ]
     },
     "execution_count": 99,
     "metadata": {},
     "output_type": "execute_result"
    }
   ],
   "source": [
    "df_inventory['warehouse_location'] = df_inventory.apply(lambda row: row['region'] if pd.isna(row['warehouse_location']) else row['warehouse_location'],\n",
    "                                                        axis=1)\n",
    "df_inventory"
   ]
  },
  {
   "cell_type": "code",
   "execution_count": 100,
   "id": "6ab26fca",
   "metadata": {},
   "outputs": [],
   "source": [
    "df_inventory = df_inventory.drop(columns='region')"
   ]
  },
  {
   "cell_type": "code",
   "execution_count": 101,
   "id": "19fb53c6",
   "metadata": {},
   "outputs": [],
   "source": [
    "df_inventory = cast_datatypes(df_inventory, 'category', c_include=['warehouse_location'])"
   ]
  },
  {
   "cell_type": "markdown",
   "id": "7a69cbb8",
   "metadata": {},
   "source": [
    "##### `LSPL`\n",
    "\n",
    "**Note:**\n",
    "\n",
    "1. Missing values in __df_inventory__, _'warehouse_location'_ column\n",
    "\n",
    "Missing values in the `warehouse_location` column were initially present in **approximately 400 rows**. Since there is no direct warehouse mapping in the dataset, imputing based on internal columns was not feasible.\n",
    "\n",
    "__Solution__: A cross-table imputation was performed using a custom reference DataFrame (`df_inventory_prodid_whloc`) that associated each `product_id` with a unique `region`, derived from historical sales data (`employee_id` → `region`). Products with consistent regional assignment were used to infer warehouse location — that is, product_id entries sold exclusively through employees from a single region — were used to infer warehouse_location. This condition was strictly enforced to prevent incorrect inferences, as products linked to multiple regions could introduce significant distortion to the data. After merging and imputing, the missing values were reduced from 400 to **297**.\n",
    "\n",
    "For the remaining missing values: A warehouse location is a required field in any well-established retail business. If it's missing, it's a critical data gap—not a valid category like \"Unknown\". Keeping the value as pd.NA allows:\n",
    "\n",
    "- Easy identification of records requiring manual review or investigation.\n",
    "- Cleaner visualizations and statistical summaries, avoiding distortion from artificial placeholders like \"Unknown\".\n",
    "\n",
    "Preserving missing values helps communicate clearly to clients or stakeholders that this is an actual data deficiency, not an assumed or acceptable default.\n",
    "\n",
    "__Impact__: This strategy improves the geographic completeness of inventory records while maintaining logical consistency. It allows for more accurate analysis of inventory distribution, product coverage, and potential stock allocation by region, without introducing arbitrary assumptions."
   ]
  },
  {
   "cell_type": "markdown",
   "id": "ae12d89d",
   "metadata": {},
   "source": [
    "#### 3.5.4 Missing values data imputation for df_customers column 'total_spent'."
   ]
  },
  {
   "cell_type": "code",
   "execution_count": 102,
   "id": "39b5b1f0",
   "metadata": {},
   "outputs": [
    {
     "data": {
      "application/vnd.microsoft.datawrangler.viewer.v0+json": {
       "columns": [
        {
         "name": "index",
         "rawType": "int64",
         "type": "integer"
        },
        {
         "name": "customer_id",
         "rawType": "int64",
         "type": "integer"
        },
        {
         "name": "total_spent",
         "rawType": "Float64",
         "type": "float"
        }
       ],
       "ref": "4383d5b7-3945-488f-a055-3b18027db1f3",
       "rows": [
        [
         "2",
         "3",
         null
        ],
        [
         "82",
         "83",
         null
        ],
        [
         "125",
         "126",
         null
        ],
        [
         "129",
         "130",
         null
        ],
        [
         "145",
         "146",
         null
        ],
        [
         "209",
         "210",
         null
        ],
        [
         "291",
         "292",
         null
        ],
        [
         "334",
         "335",
         null
        ],
        [
         "376",
         "377",
         null
        ],
        [
         "405",
         "406",
         null
        ],
        [
         "431",
         "432",
         null
        ],
        [
         "432",
         "433",
         null
        ],
        [
         "453",
         "454",
         null
        ],
        [
         "542",
         "543",
         null
        ],
        [
         "556",
         "557",
         null
        ],
        [
         "562",
         "563",
         null
        ],
        [
         "597",
         "598",
         null
        ],
        [
         "655",
         "656",
         null
        ],
        [
         "805",
         "806",
         null
        ],
        [
         "836",
         "837",
         null
        ],
        [
         "884",
         "885",
         null
        ],
        [
         "887",
         "888",
         null
        ],
        [
         "968",
         "969",
         null
        ],
        [
         "971",
         "972",
         null
        ],
        [
         "1054",
         "1055",
         null
        ],
        [
         "1060",
         "1061",
         null
        ],
        [
         "1062",
         "1063",
         null
        ],
        [
         "1094",
         "1095",
         null
        ],
        [
         "1126",
         "1127",
         null
        ],
        [
         "1145",
         "1146",
         null
        ],
        [
         "1191",
         "1192",
         null
        ],
        [
         "1203",
         "1204",
         null
        ],
        [
         "1222",
         "1223",
         null
        ],
        [
         "1243",
         "1244",
         null
        ],
        [
         "1291",
         "1292",
         null
        ],
        [
         "1338",
         "1339",
         null
        ],
        [
         "1383",
         "1384",
         null
        ],
        [
         "1490",
         "1491",
         null
        ],
        [
         "1491",
         "1492",
         null
        ],
        [
         "1513",
         "1514",
         null
        ],
        [
         "1517",
         "1518",
         null
        ],
        [
         "1523",
         "1524",
         null
        ],
        [
         "1545",
         "1546",
         null
        ],
        [
         "1592",
         "1593",
         null
        ],
        [
         "1671",
         "1672",
         null
        ],
        [
         "1724",
         "1725",
         null
        ],
        [
         "1821",
         "1822",
         null
        ],
        [
         "1866",
         "1867",
         null
        ],
        [
         "1954",
         "1955",
         null
        ],
        [
         "1968",
         "1969",
         null
        ]
       ],
       "shape": {
        "columns": 2,
        "rows": 150
       }
      },
      "text/html": [
       "<div>\n",
       "<style scoped>\n",
       "    .dataframe tbody tr th:only-of-type {\n",
       "        vertical-align: middle;\n",
       "    }\n",
       "\n",
       "    .dataframe tbody tr th {\n",
       "        vertical-align: top;\n",
       "    }\n",
       "\n",
       "    .dataframe thead th {\n",
       "        text-align: right;\n",
       "    }\n",
       "</style>\n",
       "<table border=\"1\" class=\"dataframe\">\n",
       "  <thead>\n",
       "    <tr style=\"text-align: right;\">\n",
       "      <th></th>\n",
       "      <th>customer_id</th>\n",
       "      <th>total_spent</th>\n",
       "    </tr>\n",
       "  </thead>\n",
       "  <tbody>\n",
       "    <tr>\n",
       "      <th>2</th>\n",
       "      <td>3</td>\n",
       "      <td>&lt;NA&gt;</td>\n",
       "    </tr>\n",
       "    <tr>\n",
       "      <th>82</th>\n",
       "      <td>83</td>\n",
       "      <td>&lt;NA&gt;</td>\n",
       "    </tr>\n",
       "    <tr>\n",
       "      <th>125</th>\n",
       "      <td>126</td>\n",
       "      <td>&lt;NA&gt;</td>\n",
       "    </tr>\n",
       "    <tr>\n",
       "      <th>129</th>\n",
       "      <td>130</td>\n",
       "      <td>&lt;NA&gt;</td>\n",
       "    </tr>\n",
       "    <tr>\n",
       "      <th>145</th>\n",
       "      <td>146</td>\n",
       "      <td>&lt;NA&gt;</td>\n",
       "    </tr>\n",
       "    <tr>\n",
       "      <th>...</th>\n",
       "      <td>...</td>\n",
       "      <td>...</td>\n",
       "    </tr>\n",
       "    <tr>\n",
       "      <th>4810</th>\n",
       "      <td>4811</td>\n",
       "      <td>&lt;NA&gt;</td>\n",
       "    </tr>\n",
       "    <tr>\n",
       "      <th>4836</th>\n",
       "      <td>4837</td>\n",
       "      <td>&lt;NA&gt;</td>\n",
       "    </tr>\n",
       "    <tr>\n",
       "      <th>4860</th>\n",
       "      <td>4861</td>\n",
       "      <td>&lt;NA&gt;</td>\n",
       "    </tr>\n",
       "    <tr>\n",
       "      <th>4883</th>\n",
       "      <td>4884</td>\n",
       "      <td>&lt;NA&gt;</td>\n",
       "    </tr>\n",
       "    <tr>\n",
       "      <th>4930</th>\n",
       "      <td>4931</td>\n",
       "      <td>&lt;NA&gt;</td>\n",
       "    </tr>\n",
       "  </tbody>\n",
       "</table>\n",
       "<p>150 rows × 2 columns</p>\n",
       "</div>"
      ],
      "text/plain": [
       "      customer_id  total_spent\n",
       "2               3         <NA>\n",
       "82             83         <NA>\n",
       "125           126         <NA>\n",
       "129           130         <NA>\n",
       "145           146         <NA>\n",
       "...           ...          ...\n",
       "4810         4811         <NA>\n",
       "4836         4837         <NA>\n",
       "4860         4861         <NA>\n",
       "4883         4884         <NA>\n",
       "4930         4931         <NA>\n",
       "\n",
       "[150 rows x 2 columns]"
      ]
     },
     "execution_count": 102,
     "metadata": {},
     "output_type": "execute_result"
    }
   ],
   "source": [
    "# Missing values in the 'total_spent' column of df_customers will be imputed by calculating the sum of all 'sales_amount' values from \n",
    "# df_transactions, grouped by 'customer_id'. The resulting aggregated values will be joined back to df_customers using 'customer_id',\n",
    "# allowing for the imputation of missing 'total_spent' entries.\n",
    "\n",
    "df_customers_na_totalspent = df_customers.loc[(df_customers['total_spent'].isna()), ['customer_id', 'total_spent']]\n",
    "df_customers_na_totalspent"
   ]
  },
  {
   "cell_type": "code",
   "execution_count": 103,
   "id": "b0e40840",
   "metadata": {},
   "outputs": [
    {
     "data": {
      "application/vnd.microsoft.datawrangler.viewer.v0+json": {
       "columns": [
        {
         "name": "index",
         "rawType": "int64",
         "type": "integer"
        },
        {
         "name": "transaction_id",
         "rawType": "int64",
         "type": "integer"
        },
        {
         "name": "date",
         "rawType": "datetime64[ns, US/Pacific]",
         "type": "unknown"
        },
        {
         "name": "product_id",
         "rawType": "int64",
         "type": "integer"
        },
        {
         "name": "units_sold",
         "rawType": "int64",
         "type": "integer"
        },
        {
         "name": "customer_id",
         "rawType": "int64",
         "type": "integer"
        },
        {
         "name": "employee_id",
         "rawType": "int64",
         "type": "integer"
        },
        {
         "name": "list_price",
         "rawType": "float64",
         "type": "float"
        },
        {
         "name": "sales_amount",
         "rawType": "float64",
         "type": "float"
        }
       ],
       "ref": "0cad28be-84df-46c9-a1d6-6c2d06871155",
       "rows": [
        [
         "12",
         "13",
         "2023-11-13 00:00:00-08:00",
         "4366",
         "7",
         "433",
         "1775",
         "12.14",
         "84.98"
        ],
        [
         "15",
         "16",
         "2023-11-17 00:00:00-08:00",
         "4065",
         "9",
         "3910",
         "1577",
         "7.75",
         "69.75"
        ],
        [
         "47",
         "48",
         "2024-12-26 00:00:00-08:00",
         "1472",
         "4",
         "3164",
         "794",
         "19.43",
         "77.72"
        ],
        [
         "95",
         "96",
         "2025-02-10 00:00:00-08:00",
         "2698",
         "8",
         "969",
         "220",
         "24.25",
         "194.0"
        ],
        [
         "109",
         "110",
         "2025-02-19 00:00:00-08:00",
         "1785",
         "3",
         "563",
         "496",
         "5.05",
         "15.15"
        ],
        [
         "143",
         "144",
         "2025-01-24 00:00:00-08:00",
         "8520",
         "5",
         "3329",
         "191",
         "7.7",
         "38.5"
        ],
        [
         "148",
         "149",
         "2023-08-13 00:00:00-07:00",
         "2403",
         "2",
         "4005",
         "326",
         "9.99",
         "19.98"
        ],
        [
         "150",
         "151",
         "2025-04-04 00:00:00-07:00",
         "6049",
         "1",
         "292",
         "1257",
         "0.77",
         "0.77"
        ],
        [
         "170",
         "171",
         "2023-12-11 00:00:00-08:00",
         "5846",
         "5",
         "1518",
         "899",
         "21.84",
         "109.2"
        ],
        [
         "219",
         "220",
         "2023-09-02 00:00:00-07:00",
         "1739",
         "2",
         "1822",
         "1173",
         "29.29",
         "58.58"
        ],
        [
         "223",
         "224",
         "2024-11-10 00:00:00-08:00",
         "1682",
         "6",
         "1095",
         "852",
         "12.03",
         "72.18"
        ],
        [
         "278",
         "279",
         "2024-01-26 00:00:00-08:00",
         "9792",
         "7",
         "3709",
         "858",
         "22.9",
         "160.3"
        ],
        [
         "294",
         "295",
         "2025-03-28 00:00:00-07:00",
         "3182",
         "6",
         "543",
         "33",
         "2.85",
         "17.1"
        ],
        [
         "298",
         "299",
         "2023-09-20 00:00:00-07:00",
         "4266",
         "4",
         "4280",
         "375",
         "26.42",
         "105.68"
        ],
        [
         "326",
         "327",
         "2023-08-06 00:00:00-07:00",
         "9670",
         "2",
         "1955",
         "1665",
         "20.44",
         "40.88"
        ],
        [
         "360",
         "361",
         "2024-03-19 00:00:00-07:00",
         "3410",
         "4",
         "2544",
         "455",
         "1.43",
         "5.72"
        ],
        [
         "515",
         "516",
         "2025-04-15 00:00:00-07:00",
         "8057",
         "8",
         "2629",
         "840",
         "20.12",
         "160.96"
        ],
        [
         "541",
         "542",
         "2023-09-09 00:00:00-07:00",
         "4232",
         "7",
         "4758",
         "49",
         "2.36",
         "16.52"
        ],
        [
         "547",
         "548",
         "2025-05-01 00:00:00-07:00",
         "6613",
         "8",
         "2445",
         "844",
         "17.12",
         "136.96"
        ],
        [
         "553",
         "554",
         "2023-09-13 00:00:00-07:00",
         "5223",
         "2",
         "2219",
         "235",
         "12.36",
         "24.72"
        ],
        [
         "581",
         "582",
         "2025-03-18 00:00:00-07:00",
         "2082",
         "3",
         "3078",
         "749",
         "30.33",
         "90.99"
        ],
        [
         "696",
         "697",
         "2024-05-16 00:00:00-07:00",
         "474",
         "5",
         "3608",
         "724",
         "18.0",
         "90.0"
        ],
        [
         "737",
         "738",
         "2024-09-22 00:00:00-07:00",
         "2739",
         "5",
         "1969",
         "348",
         "12.25",
         "61.25"
        ],
        [
         "740",
         "741",
         "2023-12-06 00:00:00-08:00",
         "4840",
         "1",
         "656",
         "870",
         "17.84",
         "17.84"
        ],
        [
         "861",
         "862",
         "2025-07-03 00:00:00-07:00",
         "1111",
         "9",
         "4603",
         "102",
         "31.11",
         "279.99"
        ],
        [
         "904",
         "905",
         "2023-08-27 00:00:00-07:00",
         "1664",
         "7",
         "2470",
         "471",
         "18.11",
         "126.77"
        ],
        [
         "976",
         "977",
         "2024-08-01 00:00:00-07:00",
         "5969",
         "6",
         "4594",
         "623",
         "30.6",
         "183.6"
        ],
        [
         "1047",
         "1048",
         "2023-11-14 00:00:00-08:00",
         "6814",
         "7",
         "3164",
         "684",
         "28.91",
         "202.37"
        ],
        [
         "1051",
         "1052",
         "2023-10-24 00:00:00-07:00",
         "9121",
         "2",
         "656",
         "1652",
         "24.99",
         "49.98"
        ],
        [
         "1087",
         "1088",
         "2024-08-24 00:00:00-07:00",
         "5433",
         "5",
         "4594",
         "1565",
         "25.04",
         "125.2"
        ],
        [
         "1116",
         "1117",
         "2025-05-20 00:00:00-07:00",
         "2972",
         "1",
         "2785",
         "34",
         "3.47",
         "3.47"
        ],
        [
         "1129",
         "1130",
         "2025-04-16 00:00:00-07:00",
         "1028",
         "8",
         "3640",
         "359",
         "5.16",
         "41.28"
        ],
        [
         "1147",
         "1148",
         "2025-04-10 00:00:00-07:00",
         "8521",
         "5",
         "1339",
         "1189",
         "5.23",
         "26.15"
        ],
        [
         "1149",
         "1150",
         "2025-02-12 00:00:00-08:00",
         "9001",
         "1",
         "4598",
         "1095",
         "8.91",
         "8.91"
        ],
        [
         "1206",
         "1207",
         "2024-01-15 00:00:00-08:00",
         "6108",
         "5",
         "1524",
         "982",
         "31.58",
         "2368.5"
        ],
        [
         "1212",
         "1213",
         "2025-03-14 00:00:00-07:00",
         "2846",
         "5",
         "1593",
         "1780",
         "20.1",
         "100.5"
        ],
        [
         "1265",
         "1266",
         "2024-04-13 00:00:00-07:00",
         "4341",
         "5",
         "3857",
         "1575",
         "5.63",
         "28.15"
        ],
        [
         "1276",
         "1277",
         "2025-03-02 00:00:00-08:00",
         "7771",
         "9",
         "969",
         "21",
         "14.37",
         "129.33"
        ],
        [
         "1329",
         "1330",
         "2024-03-10 00:00:00-08:00",
         "1607",
         "5",
         "3884",
         "131",
         "33.32",
         "166.6"
        ],
        [
         "1346",
         "1347",
         "2023-09-30 00:00:00-07:00",
         "9209",
         "8",
         "557",
         "303",
         "24.51",
         "196.08"
        ],
        [
         "1379",
         "1380",
         "2024-05-26 00:00:00-07:00",
         "3575",
         "2",
         "433",
         "1180",
         "16.39",
         "32.78"
        ],
        [
         "1381",
         "1382",
         "2024-05-25 00:00:00-07:00",
         "6155",
         "7",
         "3680",
         "1715",
         "26.0",
         "182.0"
        ],
        [
         "1414",
         "1415",
         "2024-08-12 00:00:00-07:00",
         "978",
         "3",
         "2153",
         "906",
         "1.21",
         "3.63"
        ],
        [
         "1424",
         "1425",
         "2024-02-25 00:00:00-08:00",
         "9827",
         "3",
         "2187",
         "1453",
         "12.96",
         "38.88"
        ],
        [
         "1516",
         "1517",
         "2023-10-08 00:00:00-07:00",
         "1118",
         "7",
         "4005",
         "947",
         "15.25",
         "106.75"
        ],
        [
         "1531",
         "1532",
         "2024-03-12 00:00:00-07:00",
         "8780",
         "9",
         "2422",
         "1581",
         "18.98",
         "170.82"
        ],
        [
         "1553",
         "1554",
         "2023-10-19 00:00:00-07:00",
         "1810",
         "2",
         "4758",
         "127",
         "8.85",
         "17.7"
        ],
        [
         "1607",
         "1608",
         "2023-07-09 00:00:00-07:00",
         "1419",
         "7",
         "406",
         "445",
         "7.28",
         "50.96"
        ],
        [
         "1676",
         "1677",
         "2023-08-06 00:00:00-07:00",
         "4418",
         "3",
         "1969",
         "857",
         "3.83",
         "11.49"
        ],
        [
         "1694",
         "1695",
         "2025-05-21 00:00:00-07:00",
         "9250",
         "1",
         "972",
         "54",
         "1.91",
         "1.91"
        ]
       ],
       "shape": {
        "columns": 8,
        "rows": 604
       }
      },
      "text/html": [
       "<div>\n",
       "<style scoped>\n",
       "    .dataframe tbody tr th:only-of-type {\n",
       "        vertical-align: middle;\n",
       "    }\n",
       "\n",
       "    .dataframe tbody tr th {\n",
       "        vertical-align: top;\n",
       "    }\n",
       "\n",
       "    .dataframe thead th {\n",
       "        text-align: right;\n",
       "    }\n",
       "</style>\n",
       "<table border=\"1\" class=\"dataframe\">\n",
       "  <thead>\n",
       "    <tr style=\"text-align: right;\">\n",
       "      <th></th>\n",
       "      <th>transaction_id</th>\n",
       "      <th>date</th>\n",
       "      <th>product_id</th>\n",
       "      <th>units_sold</th>\n",
       "      <th>customer_id</th>\n",
       "      <th>employee_id</th>\n",
       "      <th>list_price</th>\n",
       "      <th>sales_amount</th>\n",
       "    </tr>\n",
       "  </thead>\n",
       "  <tbody>\n",
       "    <tr>\n",
       "      <th>12</th>\n",
       "      <td>13</td>\n",
       "      <td>2023-11-13 00:00:00-08:00</td>\n",
       "      <td>4366</td>\n",
       "      <td>7</td>\n",
       "      <td>433</td>\n",
       "      <td>1775</td>\n",
       "      <td>12.14</td>\n",
       "      <td>84.98</td>\n",
       "    </tr>\n",
       "    <tr>\n",
       "      <th>15</th>\n",
       "      <td>16</td>\n",
       "      <td>2023-11-17 00:00:00-08:00</td>\n",
       "      <td>4065</td>\n",
       "      <td>9</td>\n",
       "      <td>3910</td>\n",
       "      <td>1577</td>\n",
       "      <td>7.75</td>\n",
       "      <td>69.75</td>\n",
       "    </tr>\n",
       "    <tr>\n",
       "      <th>47</th>\n",
       "      <td>48</td>\n",
       "      <td>2024-12-26 00:00:00-08:00</td>\n",
       "      <td>1472</td>\n",
       "      <td>4</td>\n",
       "      <td>3164</td>\n",
       "      <td>794</td>\n",
       "      <td>19.43</td>\n",
       "      <td>77.72</td>\n",
       "    </tr>\n",
       "    <tr>\n",
       "      <th>95</th>\n",
       "      <td>96</td>\n",
       "      <td>2025-02-10 00:00:00-08:00</td>\n",
       "      <td>2698</td>\n",
       "      <td>8</td>\n",
       "      <td>969</td>\n",
       "      <td>220</td>\n",
       "      <td>24.25</td>\n",
       "      <td>194.00</td>\n",
       "    </tr>\n",
       "    <tr>\n",
       "      <th>109</th>\n",
       "      <td>110</td>\n",
       "      <td>2025-02-19 00:00:00-08:00</td>\n",
       "      <td>1785</td>\n",
       "      <td>3</td>\n",
       "      <td>563</td>\n",
       "      <td>496</td>\n",
       "      <td>5.05</td>\n",
       "      <td>15.15</td>\n",
       "    </tr>\n",
       "    <tr>\n",
       "      <th>...</th>\n",
       "      <td>...</td>\n",
       "      <td>...</td>\n",
       "      <td>...</td>\n",
       "      <td>...</td>\n",
       "      <td>...</td>\n",
       "      <td>...</td>\n",
       "      <td>...</td>\n",
       "      <td>...</td>\n",
       "    </tr>\n",
       "    <tr>\n",
       "      <th>19884</th>\n",
       "      <td>19885</td>\n",
       "      <td>2024-08-30 00:00:00-07:00</td>\n",
       "      <td>6733</td>\n",
       "      <td>2</td>\n",
       "      <td>3557</td>\n",
       "      <td>1937</td>\n",
       "      <td>14.92</td>\n",
       "      <td>29.84</td>\n",
       "    </tr>\n",
       "    <tr>\n",
       "      <th>19887</th>\n",
       "      <td>19888</td>\n",
       "      <td>2024-02-23 00:00:00-08:00</td>\n",
       "      <td>7230</td>\n",
       "      <td>4</td>\n",
       "      <td>3640</td>\n",
       "      <td>945</td>\n",
       "      <td>3.90</td>\n",
       "      <td>15.60</td>\n",
       "    </tr>\n",
       "    <tr>\n",
       "      <th>19901</th>\n",
       "      <td>19902</td>\n",
       "      <td>2023-10-05 00:00:00-07:00</td>\n",
       "      <td>294</td>\n",
       "      <td>9</td>\n",
       "      <td>1127</td>\n",
       "      <td>1758</td>\n",
       "      <td>6.96</td>\n",
       "      <td>62.64</td>\n",
       "    </tr>\n",
       "    <tr>\n",
       "      <th>19953</th>\n",
       "      <td>19954</td>\n",
       "      <td>2024-12-30 00:00:00-08:00</td>\n",
       "      <td>9456</td>\n",
       "      <td>7</td>\n",
       "      <td>4619</td>\n",
       "      <td>1760</td>\n",
       "      <td>24.63</td>\n",
       "      <td>172.41</td>\n",
       "    </tr>\n",
       "    <tr>\n",
       "      <th>19989</th>\n",
       "      <td>19990</td>\n",
       "      <td>2023-08-27 00:00:00-07:00</td>\n",
       "      <td>549</td>\n",
       "      <td>1</td>\n",
       "      <td>1955</td>\n",
       "      <td>1121</td>\n",
       "      <td>24.80</td>\n",
       "      <td>24.80</td>\n",
       "    </tr>\n",
       "  </tbody>\n",
       "</table>\n",
       "<p>604 rows × 8 columns</p>\n",
       "</div>"
      ],
      "text/plain": [
       "       transaction_id                      date  product_id  units_sold  customer_id  employee_id  list_price  sales_amount\n",
       "12                 13 2023-11-13 00:00:00-08:00        4366           7          433         1775       12.14         84.98\n",
       "15                 16 2023-11-17 00:00:00-08:00        4065           9         3910         1577        7.75         69.75\n",
       "47                 48 2024-12-26 00:00:00-08:00        1472           4         3164          794       19.43         77.72\n",
       "95                 96 2025-02-10 00:00:00-08:00        2698           8          969          220       24.25        194.00\n",
       "109               110 2025-02-19 00:00:00-08:00        1785           3          563          496        5.05         15.15\n",
       "...               ...                       ...         ...         ...          ...          ...         ...           ...\n",
       "19884           19885 2024-08-30 00:00:00-07:00        6733           2         3557         1937       14.92         29.84\n",
       "19887           19888 2024-02-23 00:00:00-08:00        7230           4         3640          945        3.90         15.60\n",
       "19901           19902 2023-10-05 00:00:00-07:00         294           9         1127         1758        6.96         62.64\n",
       "19953           19954 2024-12-30 00:00:00-08:00        9456           7         4619         1760       24.63        172.41\n",
       "19989           19990 2023-08-27 00:00:00-07:00         549           1         1955         1121       24.80         24.80\n",
       "\n",
       "[604 rows x 8 columns]"
      ]
     },
     "execution_count": 103,
     "metadata": {},
     "output_type": "execute_result"
    }
   ],
   "source": [
    "df_customers_transactions_salesamount = df_transactions.loc[(df_transactions['customer_id'].isin(df_customers_na_totalspent['customer_id'])), :]\n",
    "df_customers_transactions_salesamount"
   ]
  },
  {
   "cell_type": "code",
   "execution_count": 104,
   "id": "d8723027",
   "metadata": {},
   "outputs": [
    {
     "data": {
      "application/vnd.microsoft.datawrangler.viewer.v0+json": {
       "columns": [
        {
         "name": "index",
         "rawType": "int64",
         "type": "integer"
        },
        {
         "name": "customer_id",
         "rawType": "int64",
         "type": "integer"
        },
        {
         "name": "sales_amount",
         "rawType": "float64",
         "type": "float"
        }
       ],
       "ref": "23555856-9650-4668-9a9b-0e28b164b948",
       "rows": [
        [
         "0",
         "3",
         "789.85"
        ],
        [
         "1",
         "83",
         "20.45"
        ],
        [
         "2",
         "126",
         "343.23"
        ],
        [
         "3",
         "130",
         "73.28"
        ],
        [
         "4",
         "146",
         "285.76"
        ],
        [
         "5",
         "210",
         "429.17"
        ],
        [
         "6",
         "292",
         "12.26"
        ],
        [
         "7",
         "335",
         "422.34000000000003"
        ],
        [
         "8",
         "377",
         "349.25"
        ],
        [
         "9",
         "406",
         "417.25"
        ],
        [
         "10",
         "432",
         "323.68"
        ],
        [
         "11",
         "433",
         "692.4"
        ],
        [
         "12",
         "454",
         "387.71"
        ],
        [
         "13",
         "543",
         "103.06"
        ],
        [
         "14",
         "557",
         "403.18"
        ],
        [
         "15",
         "563",
         "306.65"
        ],
        [
         "16",
         "598",
         "117.05"
        ],
        [
         "17",
         "656",
         "151.42000000000002"
        ],
        [
         "18",
         "806",
         "142.6"
        ],
        [
         "19",
         "837",
         "499.61"
        ],
        [
         "20",
         "885",
         "398.42"
        ],
        [
         "21",
         "888",
         "345.87"
        ],
        [
         "22",
         "969",
         "770.3000000000001"
        ],
        [
         "23",
         "972",
         "548.4000000000001"
        ],
        [
         "24",
         "1061",
         "333.53999999999996"
        ],
        [
         "25",
         "1063",
         "106.44"
        ],
        [
         "26",
         "1095",
         "392.74"
        ],
        [
         "27",
         "1127",
         "163.72"
        ],
        [
         "28",
         "1146",
         "146.93"
        ],
        [
         "29",
         "1204",
         "486.92"
        ],
        [
         "30",
         "1223",
         "98.27000000000001"
        ],
        [
         "31",
         "1244",
         "260.39"
        ],
        [
         "32",
         "1292",
         "182.62"
        ],
        [
         "33",
         "1339",
         "188.18"
        ],
        [
         "34",
         "1384",
         "309.21"
        ],
        [
         "35",
         "1491",
         "154.04"
        ],
        [
         "36",
         "1492",
         "191.88"
        ],
        [
         "37",
         "1514",
         "223.69"
        ],
        [
         "38",
         "1518",
         "486.84999999999997"
        ],
        [
         "39",
         "1524",
         "2637.86"
        ],
        [
         "40",
         "1546",
         "596.5500000000001"
        ],
        [
         "41",
         "1593",
         "390.32"
        ],
        [
         "42",
         "1672",
         "1097.21"
        ],
        [
         "43",
         "1725",
         "5.68"
        ],
        [
         "44",
         "1822",
         "328.07"
        ],
        [
         "45",
         "1867",
         "160.29"
        ],
        [
         "46",
         "1955",
         "879.23"
        ],
        [
         "47",
         "1969",
         "538.94"
        ],
        [
         "48",
         "2044",
         "197.13"
        ],
        [
         "49",
         "2073",
         "164.48999999999998"
        ]
       ],
       "shape": {
        "columns": 2,
        "rows": 148
       }
      },
      "text/html": [
       "<div>\n",
       "<style scoped>\n",
       "    .dataframe tbody tr th:only-of-type {\n",
       "        vertical-align: middle;\n",
       "    }\n",
       "\n",
       "    .dataframe tbody tr th {\n",
       "        vertical-align: top;\n",
       "    }\n",
       "\n",
       "    .dataframe thead th {\n",
       "        text-align: right;\n",
       "    }\n",
       "</style>\n",
       "<table border=\"1\" class=\"dataframe\">\n",
       "  <thead>\n",
       "    <tr style=\"text-align: right;\">\n",
       "      <th></th>\n",
       "      <th>customer_id</th>\n",
       "      <th>sales_amount</th>\n",
       "    </tr>\n",
       "  </thead>\n",
       "  <tbody>\n",
       "    <tr>\n",
       "      <th>0</th>\n",
       "      <td>3</td>\n",
       "      <td>789.85</td>\n",
       "    </tr>\n",
       "    <tr>\n",
       "      <th>1</th>\n",
       "      <td>83</td>\n",
       "      <td>20.45</td>\n",
       "    </tr>\n",
       "    <tr>\n",
       "      <th>2</th>\n",
       "      <td>126</td>\n",
       "      <td>343.23</td>\n",
       "    </tr>\n",
       "    <tr>\n",
       "      <th>3</th>\n",
       "      <td>130</td>\n",
       "      <td>73.28</td>\n",
       "    </tr>\n",
       "    <tr>\n",
       "      <th>4</th>\n",
       "      <td>146</td>\n",
       "      <td>285.76</td>\n",
       "    </tr>\n",
       "    <tr>\n",
       "      <th>...</th>\n",
       "      <td>...</td>\n",
       "      <td>...</td>\n",
       "    </tr>\n",
       "    <tr>\n",
       "      <th>143</th>\n",
       "      <td>4811</td>\n",
       "      <td>331.11</td>\n",
       "    </tr>\n",
       "    <tr>\n",
       "      <th>144</th>\n",
       "      <td>4837</td>\n",
       "      <td>40.92</td>\n",
       "    </tr>\n",
       "    <tr>\n",
       "      <th>145</th>\n",
       "      <td>4861</td>\n",
       "      <td>186.10</td>\n",
       "    </tr>\n",
       "    <tr>\n",
       "      <th>146</th>\n",
       "      <td>4884</td>\n",
       "      <td>100.07</td>\n",
       "    </tr>\n",
       "    <tr>\n",
       "      <th>147</th>\n",
       "      <td>4931</td>\n",
       "      <td>282.05</td>\n",
       "    </tr>\n",
       "  </tbody>\n",
       "</table>\n",
       "<p>148 rows × 2 columns</p>\n",
       "</div>"
      ],
      "text/plain": [
       "     customer_id  sales_amount\n",
       "0              3        789.85\n",
       "1             83         20.45\n",
       "2            126        343.23\n",
       "3            130         73.28\n",
       "4            146        285.76\n",
       "..           ...           ...\n",
       "143         4811        331.11\n",
       "144         4837         40.92\n",
       "145         4861        186.10\n",
       "146         4884        100.07\n",
       "147         4931        282.05\n",
       "\n",
       "[148 rows x 2 columns]"
      ]
     },
     "execution_count": 104,
     "metadata": {},
     "output_type": "execute_result"
    }
   ],
   "source": [
    "df_customers_transactions_salesamount = df_customers_transactions_salesamount.groupby('customer_id')['sales_amount'].sum().reset_index()\n",
    "df_customers_transactions_salesamount"
   ]
  },
  {
   "cell_type": "code",
   "execution_count": 105,
   "id": "50403a78",
   "metadata": {},
   "outputs": [
    {
     "data": {
      "application/vnd.microsoft.datawrangler.viewer.v0+json": {
       "columns": [
        {
         "name": "index",
         "rawType": "int64",
         "type": "integer"
        },
        {
         "name": "customer_id",
         "rawType": "int64",
         "type": "integer"
        },
        {
         "name": "customer_name",
         "rawType": "string",
         "type": "string"
        },
        {
         "name": "join_date",
         "rawType": "datetime64[ns, US/Pacific]",
         "type": "unknown"
        },
        {
         "name": "total_spent",
         "rawType": "Float64",
         "type": "float"
        },
        {
         "name": "frequency",
         "rawType": "int64",
         "type": "integer"
        },
        {
         "name": "segment",
         "rawType": "category",
         "type": "unknown"
        },
        {
         "name": "sales_amount",
         "rawType": "float64",
         "type": "float"
        }
       ],
       "ref": "90cc06b8-a618-4259-b295-f07b747dfed5",
       "rows": [
        [
         "0",
         "1",
         "charles_miller",
         "2024-08-13 00:00:00-07:00",
         "294.24",
         "12",
         "occasional",
         null
        ],
        [
         "1",
         "2",
         "michael_long",
         "2024-09-03 00:00:00-07:00",
         "4011.83",
         "7",
         "frequent",
         null
        ],
        [
         "2",
         "3",
         "kimberly_green",
         "2024-01-23 00:00:00-08:00",
         null,
         "15",
         "high_value",
         "789.85"
        ],
        [
         "3",
         "4",
         "beverly_bowers",
         "2024-11-03 00:00:00-07:00",
         "1403.0",
         "13",
         "occasional",
         null
        ],
        [
         "4",
         "5",
         "pamela_berg",
         "2024-08-05 00:00:00-07:00",
         "1354.18",
         "18",
         "high_value",
         null
        ],
        [
         "5",
         "6",
         "tiffany_ryan",
         "2024-07-15 00:00:00-07:00",
         "1253.15",
         "1",
         "occasional",
         null
        ],
        [
         "6",
         "7",
         "elizabeth_johnson",
         "2023-09-12 00:00:00-07:00",
         "914.91",
         "42",
         "occasional",
         null
        ],
        [
         "7",
         "8",
         "joseph_thomas",
         "2024-10-21 00:00:00-07:00",
         "1995.77",
         "29",
         "frequent",
         null
        ],
        [
         "8",
         "9",
         "victor_smith",
         "2023-10-12 00:00:00-07:00",
         "3802.82",
         "48",
         "frequent",
         null
        ],
        [
         "9",
         "10",
         "justin_scott",
         "2024-05-29 00:00:00-07:00",
         "3161.12",
         "30",
         "occasional",
         null
        ],
        [
         "10",
         "11",
         "heather_munoz",
         "2024-10-19 00:00:00-07:00",
         "1904.17",
         "26",
         "occasional",
         null
        ],
        [
         "11",
         "12",
         "john_snow_dvm",
         "2023-08-11 00:00:00-07:00",
         "2319.36",
         "43",
         "high_value",
         null
        ],
        [
         "12",
         "13",
         "david_gaines",
         "2024-11-14 00:00:00-08:00",
         "1417.41",
         "46",
         "occasional",
         null
        ],
        [
         "13",
         "14",
         "angel_cameron",
         "2024-05-08 00:00:00-07:00",
         "2555.56",
         "40",
         "occasional",
         null
        ],
        [
         "14",
         "15",
         "jonathan_nguyen_phd",
         "2024-08-13 00:00:00-07:00",
         "978.83",
         "46",
         "occasional",
         null
        ],
        [
         "15",
         "16",
         "angela_smith",
         "2024-12-13 00:00:00-08:00",
         "3276.77",
         "4",
         "high_value",
         null
        ],
        [
         "16",
         "17",
         "david_frazier",
         "2024-04-05 00:00:00-07:00",
         "4699.68",
         "21",
         "high_value",
         null
        ],
        [
         "17",
         "18",
         "raymond_dawson",
         "2024-04-14 00:00:00-07:00",
         "4725.46",
         "24",
         "occasional",
         null
        ],
        [
         "18",
         "19",
         "kristina_blair",
         "2025-04-07 00:00:00-07:00",
         "2467.08",
         "46",
         "high_value",
         null
        ],
        [
         "19",
         "20",
         "alex_king",
         "2025-03-02 00:00:00-08:00",
         "3996.57",
         "27",
         "frequent",
         null
        ],
        [
         "20",
         "21",
         "shane_andersen",
         "2023-09-19 00:00:00-07:00",
         "2865.38",
         "46",
         "frequent",
         null
        ],
        [
         "21",
         "22",
         "kevin_robbins",
         "2023-09-10 00:00:00-07:00",
         "1604.29",
         "6",
         "frequent",
         null
        ],
        [
         "22",
         "23",
         "monica_johnson",
         "2024-08-12 00:00:00-07:00",
         "1787.39",
         "18",
         "occasional",
         null
        ],
        [
         "23",
         "24",
         "cheryl_sanders",
         "2024-06-18 00:00:00-07:00",
         "287.98",
         "6",
         "high_value",
         null
        ],
        [
         "24",
         "25",
         "cody_wallace_md",
         "2023-10-12 00:00:00-07:00",
         "3803.58",
         "33",
         "high_value",
         null
        ],
        [
         "25",
         "26",
         "lisa_sanchez",
         "2023-09-05 00:00:00-07:00",
         "4329.15",
         "4",
         "high_value",
         null
        ],
        [
         "26",
         "27",
         "ralph_li",
         "2024-07-06 00:00:00-07:00",
         "945.71",
         "21",
         "frequent",
         null
        ],
        [
         "27",
         "28",
         "kevin_wells",
         "2024-11-23 00:00:00-08:00",
         "1102.38",
         "37",
         "occasional",
         null
        ],
        [
         "28",
         "29",
         "ashley_briggs",
         "2023-07-08 00:00:00-07:00",
         "4375.77",
         "3",
         null,
         null
        ],
        [
         "29",
         "30",
         "adam_gregory",
         "2024-06-29 00:00:00-07:00",
         "215.55",
         "47",
         "occasional",
         null
        ],
        [
         "30",
         "31",
         "yolanda_bennett",
         "2024-04-30 00:00:00-07:00",
         "1468.95",
         "41",
         "high_value",
         null
        ],
        [
         "31",
         "32",
         "chris_bonilla",
         "2024-07-31 00:00:00-07:00",
         "2802.63",
         "49",
         "high_value",
         null
        ],
        [
         "32",
         "33",
         "bonnie_martin",
         "2024-05-02 00:00:00-07:00",
         "4010.03",
         "12",
         "occasional",
         null
        ],
        [
         "33",
         "34",
         "alexandra_hernandez",
         "2024-11-11 00:00:00-08:00",
         "3843.28",
         "13",
         "high_value",
         null
        ],
        [
         "34",
         "35",
         "douglas_smith",
         "2024-05-07 00:00:00-07:00",
         "3976.83",
         "13",
         "frequent",
         null
        ],
        [
         "35",
         "36",
         "caitlin_collins",
         "2025-05-20 00:00:00-07:00",
         "3696.33",
         "42",
         "frequent",
         null
        ],
        [
         "36",
         "37",
         "christopher_simmons",
         "2024-03-20 00:00:00-07:00",
         "3415.21",
         "39",
         "high_value",
         null
        ],
        [
         "37",
         "38",
         "angela_cook",
         "2024-01-08 00:00:00-08:00",
         "2887.93",
         "4",
         "frequent",
         null
        ],
        [
         "38",
         "39",
         "krista_peters",
         "2023-10-31 00:00:00-07:00",
         "4560.03",
         "8",
         "frequent",
         null
        ],
        [
         "39",
         "40",
         "emily_adams",
         "2024-05-12 00:00:00-07:00",
         "1151.73",
         "22",
         "high_value",
         null
        ],
        [
         "40",
         "41",
         "david_pierce",
         "2025-04-18 00:00:00-07:00",
         "4861.94",
         "8",
         "high_value",
         null
        ],
        [
         "41",
         "42",
         "christopher_anderson",
         "2024-01-25 00:00:00-08:00",
         "1517.52",
         "27",
         "high_value",
         null
        ],
        [
         "42",
         "43",
         "ernest_palmer",
         "2024-01-18 00:00:00-08:00",
         "1784.81",
         "43",
         "occasional",
         null
        ],
        [
         "43",
         "44",
         "todd_ruiz",
         "2025-03-26 00:00:00-07:00",
         "3548.35",
         "35",
         "high_value",
         null
        ],
        [
         "44",
         "45",
         "cynthia_morgan",
         "2024-05-03 00:00:00-07:00",
         "3601.28",
         "20",
         "occasional",
         null
        ],
        [
         "45",
         "46",
         "brandy_rogers",
         "2024-03-18 00:00:00-07:00",
         "3976.36",
         "27",
         "occasional",
         null
        ],
        [
         "46",
         "47",
         "karen_warren",
         "2023-08-23 00:00:00-07:00",
         "4518.97",
         "19",
         "high_value",
         null
        ],
        [
         "47",
         "48",
         "laura_rhodes",
         "2024-02-22 00:00:00-08:00",
         "3776.15",
         "18",
         "high_value",
         null
        ],
        [
         "48",
         "49",
         "tonya_crawford",
         "2025-04-08 00:00:00-07:00",
         "2182.44",
         "15",
         "high_value",
         null
        ],
        [
         "49",
         "50",
         "cindy_liu",
         "2025-04-02 00:00:00-07:00",
         "1226.24",
         "39",
         null,
         null
        ]
       ],
       "shape": {
        "columns": 7,
        "rows": 5000
       }
      },
      "text/html": [
       "<div>\n",
       "<style scoped>\n",
       "    .dataframe tbody tr th:only-of-type {\n",
       "        vertical-align: middle;\n",
       "    }\n",
       "\n",
       "    .dataframe tbody tr th {\n",
       "        vertical-align: top;\n",
       "    }\n",
       "\n",
       "    .dataframe thead th {\n",
       "        text-align: right;\n",
       "    }\n",
       "</style>\n",
       "<table border=\"1\" class=\"dataframe\">\n",
       "  <thead>\n",
       "    <tr style=\"text-align: right;\">\n",
       "      <th></th>\n",
       "      <th>customer_id</th>\n",
       "      <th>customer_name</th>\n",
       "      <th>join_date</th>\n",
       "      <th>total_spent</th>\n",
       "      <th>frequency</th>\n",
       "      <th>segment</th>\n",
       "      <th>sales_amount</th>\n",
       "    </tr>\n",
       "  </thead>\n",
       "  <tbody>\n",
       "    <tr>\n",
       "      <th>0</th>\n",
       "      <td>1</td>\n",
       "      <td>charles_miller</td>\n",
       "      <td>2024-08-13 00:00:00-07:00</td>\n",
       "      <td>294.24</td>\n",
       "      <td>12</td>\n",
       "      <td>occasional</td>\n",
       "      <td>NaN</td>\n",
       "    </tr>\n",
       "    <tr>\n",
       "      <th>1</th>\n",
       "      <td>2</td>\n",
       "      <td>michael_long</td>\n",
       "      <td>2024-09-03 00:00:00-07:00</td>\n",
       "      <td>4011.83</td>\n",
       "      <td>7</td>\n",
       "      <td>frequent</td>\n",
       "      <td>NaN</td>\n",
       "    </tr>\n",
       "    <tr>\n",
       "      <th>2</th>\n",
       "      <td>3</td>\n",
       "      <td>kimberly_green</td>\n",
       "      <td>2024-01-23 00:00:00-08:00</td>\n",
       "      <td>&lt;NA&gt;</td>\n",
       "      <td>15</td>\n",
       "      <td>high_value</td>\n",
       "      <td>789.85</td>\n",
       "    </tr>\n",
       "    <tr>\n",
       "      <th>3</th>\n",
       "      <td>4</td>\n",
       "      <td>beverly_bowers</td>\n",
       "      <td>2024-11-03 00:00:00-07:00</td>\n",
       "      <td>1403.0</td>\n",
       "      <td>13</td>\n",
       "      <td>occasional</td>\n",
       "      <td>NaN</td>\n",
       "    </tr>\n",
       "    <tr>\n",
       "      <th>4</th>\n",
       "      <td>5</td>\n",
       "      <td>pamela_berg</td>\n",
       "      <td>2024-08-05 00:00:00-07:00</td>\n",
       "      <td>1354.18</td>\n",
       "      <td>18</td>\n",
       "      <td>high_value</td>\n",
       "      <td>NaN</td>\n",
       "    </tr>\n",
       "    <tr>\n",
       "      <th>...</th>\n",
       "      <td>...</td>\n",
       "      <td>...</td>\n",
       "      <td>...</td>\n",
       "      <td>...</td>\n",
       "      <td>...</td>\n",
       "      <td>...</td>\n",
       "      <td>...</td>\n",
       "    </tr>\n",
       "    <tr>\n",
       "      <th>4995</th>\n",
       "      <td>4996</td>\n",
       "      <td>bryan_jones</td>\n",
       "      <td>2024-08-06 00:00:00-07:00</td>\n",
       "      <td>3112.13</td>\n",
       "      <td>43</td>\n",
       "      <td>frequent</td>\n",
       "      <td>NaN</td>\n",
       "    </tr>\n",
       "    <tr>\n",
       "      <th>4996</th>\n",
       "      <td>4997</td>\n",
       "      <td>sharon_lee</td>\n",
       "      <td>2025-02-14 00:00:00-08:00</td>\n",
       "      <td>608.13</td>\n",
       "      <td>5</td>\n",
       "      <td>occasional</td>\n",
       "      <td>NaN</td>\n",
       "    </tr>\n",
       "    <tr>\n",
       "      <th>4997</th>\n",
       "      <td>4998</td>\n",
       "      <td>gabrielle_kelly</td>\n",
       "      <td>2025-01-16 00:00:00-08:00</td>\n",
       "      <td>1766.59</td>\n",
       "      <td>38</td>\n",
       "      <td>frequent</td>\n",
       "      <td>NaN</td>\n",
       "    </tr>\n",
       "    <tr>\n",
       "      <th>4998</th>\n",
       "      <td>4999</td>\n",
       "      <td>christina_larson</td>\n",
       "      <td>2023-12-17 00:00:00-08:00</td>\n",
       "      <td>1370.75</td>\n",
       "      <td>37</td>\n",
       "      <td>high_value</td>\n",
       "      <td>NaN</td>\n",
       "    </tr>\n",
       "    <tr>\n",
       "      <th>4999</th>\n",
       "      <td>5000</td>\n",
       "      <td>john_aguirre</td>\n",
       "      <td>2024-07-04 00:00:00-07:00</td>\n",
       "      <td>4573.7</td>\n",
       "      <td>43</td>\n",
       "      <td>high_value</td>\n",
       "      <td>NaN</td>\n",
       "    </tr>\n",
       "  </tbody>\n",
       "</table>\n",
       "<p>5000 rows × 7 columns</p>\n",
       "</div>"
      ],
      "text/plain": [
       "      customer_id     customer_name                 join_date  total_spent  frequency     segment  sales_amount\n",
       "0               1    charles_miller 2024-08-13 00:00:00-07:00       294.24         12  occasional           NaN\n",
       "1               2      michael_long 2024-09-03 00:00:00-07:00      4011.83          7    frequent           NaN\n",
       "2               3    kimberly_green 2024-01-23 00:00:00-08:00         <NA>         15  high_value        789.85\n",
       "3               4    beverly_bowers 2024-11-03 00:00:00-07:00       1403.0         13  occasional           NaN\n",
       "4               5       pamela_berg 2024-08-05 00:00:00-07:00      1354.18         18  high_value           NaN\n",
       "...           ...               ...                       ...          ...        ...         ...           ...\n",
       "4995         4996       bryan_jones 2024-08-06 00:00:00-07:00      3112.13         43    frequent           NaN\n",
       "4996         4997        sharon_lee 2025-02-14 00:00:00-08:00       608.13          5  occasional           NaN\n",
       "4997         4998   gabrielle_kelly 2025-01-16 00:00:00-08:00      1766.59         38    frequent           NaN\n",
       "4998         4999  christina_larson 2023-12-17 00:00:00-08:00      1370.75         37  high_value           NaN\n",
       "4999         5000      john_aguirre 2024-07-04 00:00:00-07:00       4573.7         43  high_value           NaN\n",
       "\n",
       "[5000 rows x 7 columns]"
      ]
     },
     "execution_count": 105,
     "metadata": {},
     "output_type": "execute_result"
    }
   ],
   "source": [
    "df_customers = df_customers.merge(df_customers_transactions_salesamount, on='customer_id', how='left')\n",
    "df_customers"
   ]
  },
  {
   "cell_type": "code",
   "execution_count": 106,
   "id": "733d0e4b",
   "metadata": {},
   "outputs": [
    {
     "data": {
      "application/vnd.microsoft.datawrangler.viewer.v0+json": {
       "columns": [
        {
         "name": "index",
         "rawType": "int64",
         "type": "integer"
        },
        {
         "name": "customer_id",
         "rawType": "int64",
         "type": "integer"
        },
        {
         "name": "customer_name",
         "rawType": "string",
         "type": "string"
        },
        {
         "name": "join_date",
         "rawType": "datetime64[ns, US/Pacific]",
         "type": "unknown"
        },
        {
         "name": "total_spent",
         "rawType": "float64",
         "type": "float"
        },
        {
         "name": "frequency",
         "rawType": "int64",
         "type": "integer"
        },
        {
         "name": "segment",
         "rawType": "category",
         "type": "unknown"
        }
       ],
       "ref": "8ef84f39-8299-4566-a5df-0d74dc3bb26f",
       "rows": [
        [
         "0",
         "1",
         "charles_miller",
         "2024-08-13 00:00:00-07:00",
         "294.24",
         "12",
         "occasional"
        ],
        [
         "1",
         "2",
         "michael_long",
         "2024-09-03 00:00:00-07:00",
         "4011.83",
         "7",
         "frequent"
        ],
        [
         "2",
         "3",
         "kimberly_green",
         "2024-01-23 00:00:00-08:00",
         "789.85",
         "15",
         "high_value"
        ],
        [
         "3",
         "4",
         "beverly_bowers",
         "2024-11-03 00:00:00-07:00",
         "1403.0",
         "13",
         "occasional"
        ],
        [
         "4",
         "5",
         "pamela_berg",
         "2024-08-05 00:00:00-07:00",
         "1354.18",
         "18",
         "high_value"
        ],
        [
         "5",
         "6",
         "tiffany_ryan",
         "2024-07-15 00:00:00-07:00",
         "1253.15",
         "1",
         "occasional"
        ],
        [
         "6",
         "7",
         "elizabeth_johnson",
         "2023-09-12 00:00:00-07:00",
         "914.91",
         "42",
         "occasional"
        ],
        [
         "7",
         "8",
         "joseph_thomas",
         "2024-10-21 00:00:00-07:00",
         "1995.77",
         "29",
         "frequent"
        ],
        [
         "8",
         "9",
         "victor_smith",
         "2023-10-12 00:00:00-07:00",
         "3802.82",
         "48",
         "frequent"
        ],
        [
         "9",
         "10",
         "justin_scott",
         "2024-05-29 00:00:00-07:00",
         "3161.12",
         "30",
         "occasional"
        ],
        [
         "10",
         "11",
         "heather_munoz",
         "2024-10-19 00:00:00-07:00",
         "1904.17",
         "26",
         "occasional"
        ],
        [
         "11",
         "12",
         "john_snow_dvm",
         "2023-08-11 00:00:00-07:00",
         "2319.36",
         "43",
         "high_value"
        ],
        [
         "12",
         "13",
         "david_gaines",
         "2024-11-14 00:00:00-08:00",
         "1417.41",
         "46",
         "occasional"
        ],
        [
         "13",
         "14",
         "angel_cameron",
         "2024-05-08 00:00:00-07:00",
         "2555.56",
         "40",
         "occasional"
        ],
        [
         "14",
         "15",
         "jonathan_nguyen_phd",
         "2024-08-13 00:00:00-07:00",
         "978.83",
         "46",
         "occasional"
        ],
        [
         "15",
         "16",
         "angela_smith",
         "2024-12-13 00:00:00-08:00",
         "3276.77",
         "4",
         "high_value"
        ],
        [
         "16",
         "17",
         "david_frazier",
         "2024-04-05 00:00:00-07:00",
         "4699.68",
         "21",
         "high_value"
        ],
        [
         "17",
         "18",
         "raymond_dawson",
         "2024-04-14 00:00:00-07:00",
         "4725.46",
         "24",
         "occasional"
        ],
        [
         "18",
         "19",
         "kristina_blair",
         "2025-04-07 00:00:00-07:00",
         "2467.08",
         "46",
         "high_value"
        ],
        [
         "19",
         "20",
         "alex_king",
         "2025-03-02 00:00:00-08:00",
         "3996.57",
         "27",
         "frequent"
        ],
        [
         "20",
         "21",
         "shane_andersen",
         "2023-09-19 00:00:00-07:00",
         "2865.38",
         "46",
         "frequent"
        ],
        [
         "21",
         "22",
         "kevin_robbins",
         "2023-09-10 00:00:00-07:00",
         "1604.29",
         "6",
         "frequent"
        ],
        [
         "22",
         "23",
         "monica_johnson",
         "2024-08-12 00:00:00-07:00",
         "1787.39",
         "18",
         "occasional"
        ],
        [
         "23",
         "24",
         "cheryl_sanders",
         "2024-06-18 00:00:00-07:00",
         "287.98",
         "6",
         "high_value"
        ],
        [
         "24",
         "25",
         "cody_wallace_md",
         "2023-10-12 00:00:00-07:00",
         "3803.58",
         "33",
         "high_value"
        ],
        [
         "25",
         "26",
         "lisa_sanchez",
         "2023-09-05 00:00:00-07:00",
         "4329.15",
         "4",
         "high_value"
        ],
        [
         "26",
         "27",
         "ralph_li",
         "2024-07-06 00:00:00-07:00",
         "945.71",
         "21",
         "frequent"
        ],
        [
         "27",
         "28",
         "kevin_wells",
         "2024-11-23 00:00:00-08:00",
         "1102.38",
         "37",
         "occasional"
        ],
        [
         "28",
         "29",
         "ashley_briggs",
         "2023-07-08 00:00:00-07:00",
         "4375.77",
         "3",
         null
        ],
        [
         "29",
         "30",
         "adam_gregory",
         "2024-06-29 00:00:00-07:00",
         "215.55",
         "47",
         "occasional"
        ],
        [
         "30",
         "31",
         "yolanda_bennett",
         "2024-04-30 00:00:00-07:00",
         "1468.95",
         "41",
         "high_value"
        ],
        [
         "31",
         "32",
         "chris_bonilla",
         "2024-07-31 00:00:00-07:00",
         "2802.63",
         "49",
         "high_value"
        ],
        [
         "32",
         "33",
         "bonnie_martin",
         "2024-05-02 00:00:00-07:00",
         "4010.03",
         "12",
         "occasional"
        ],
        [
         "33",
         "34",
         "alexandra_hernandez",
         "2024-11-11 00:00:00-08:00",
         "3843.28",
         "13",
         "high_value"
        ],
        [
         "34",
         "35",
         "douglas_smith",
         "2024-05-07 00:00:00-07:00",
         "3976.83",
         "13",
         "frequent"
        ],
        [
         "35",
         "36",
         "caitlin_collins",
         "2025-05-20 00:00:00-07:00",
         "3696.33",
         "42",
         "frequent"
        ],
        [
         "36",
         "37",
         "christopher_simmons",
         "2024-03-20 00:00:00-07:00",
         "3415.21",
         "39",
         "high_value"
        ],
        [
         "37",
         "38",
         "angela_cook",
         "2024-01-08 00:00:00-08:00",
         "2887.93",
         "4",
         "frequent"
        ],
        [
         "38",
         "39",
         "krista_peters",
         "2023-10-31 00:00:00-07:00",
         "4560.03",
         "8",
         "frequent"
        ],
        [
         "39",
         "40",
         "emily_adams",
         "2024-05-12 00:00:00-07:00",
         "1151.73",
         "22",
         "high_value"
        ],
        [
         "40",
         "41",
         "david_pierce",
         "2025-04-18 00:00:00-07:00",
         "4861.94",
         "8",
         "high_value"
        ],
        [
         "41",
         "42",
         "christopher_anderson",
         "2024-01-25 00:00:00-08:00",
         "1517.52",
         "27",
         "high_value"
        ],
        [
         "42",
         "43",
         "ernest_palmer",
         "2024-01-18 00:00:00-08:00",
         "1784.81",
         "43",
         "occasional"
        ],
        [
         "43",
         "44",
         "todd_ruiz",
         "2025-03-26 00:00:00-07:00",
         "3548.35",
         "35",
         "high_value"
        ],
        [
         "44",
         "45",
         "cynthia_morgan",
         "2024-05-03 00:00:00-07:00",
         "3601.28",
         "20",
         "occasional"
        ],
        [
         "45",
         "46",
         "brandy_rogers",
         "2024-03-18 00:00:00-07:00",
         "3976.36",
         "27",
         "occasional"
        ],
        [
         "46",
         "47",
         "karen_warren",
         "2023-08-23 00:00:00-07:00",
         "4518.97",
         "19",
         "high_value"
        ],
        [
         "47",
         "48",
         "laura_rhodes",
         "2024-02-22 00:00:00-08:00",
         "3776.15",
         "18",
         "high_value"
        ],
        [
         "48",
         "49",
         "tonya_crawford",
         "2025-04-08 00:00:00-07:00",
         "2182.44",
         "15",
         "high_value"
        ],
        [
         "49",
         "50",
         "cindy_liu",
         "2025-04-02 00:00:00-07:00",
         "1226.24",
         "39",
         null
        ]
       ],
       "shape": {
        "columns": 6,
        "rows": 5000
       }
      },
      "text/html": [
       "<div>\n",
       "<style scoped>\n",
       "    .dataframe tbody tr th:only-of-type {\n",
       "        vertical-align: middle;\n",
       "    }\n",
       "\n",
       "    .dataframe tbody tr th {\n",
       "        vertical-align: top;\n",
       "    }\n",
       "\n",
       "    .dataframe thead th {\n",
       "        text-align: right;\n",
       "    }\n",
       "</style>\n",
       "<table border=\"1\" class=\"dataframe\">\n",
       "  <thead>\n",
       "    <tr style=\"text-align: right;\">\n",
       "      <th></th>\n",
       "      <th>customer_id</th>\n",
       "      <th>customer_name</th>\n",
       "      <th>join_date</th>\n",
       "      <th>total_spent</th>\n",
       "      <th>frequency</th>\n",
       "      <th>segment</th>\n",
       "    </tr>\n",
       "  </thead>\n",
       "  <tbody>\n",
       "    <tr>\n",
       "      <th>0</th>\n",
       "      <td>1</td>\n",
       "      <td>charles_miller</td>\n",
       "      <td>2024-08-13 00:00:00-07:00</td>\n",
       "      <td>294.24</td>\n",
       "      <td>12</td>\n",
       "      <td>occasional</td>\n",
       "    </tr>\n",
       "    <tr>\n",
       "      <th>1</th>\n",
       "      <td>2</td>\n",
       "      <td>michael_long</td>\n",
       "      <td>2024-09-03 00:00:00-07:00</td>\n",
       "      <td>4011.83</td>\n",
       "      <td>7</td>\n",
       "      <td>frequent</td>\n",
       "    </tr>\n",
       "    <tr>\n",
       "      <th>2</th>\n",
       "      <td>3</td>\n",
       "      <td>kimberly_green</td>\n",
       "      <td>2024-01-23 00:00:00-08:00</td>\n",
       "      <td>789.85</td>\n",
       "      <td>15</td>\n",
       "      <td>high_value</td>\n",
       "    </tr>\n",
       "    <tr>\n",
       "      <th>3</th>\n",
       "      <td>4</td>\n",
       "      <td>beverly_bowers</td>\n",
       "      <td>2024-11-03 00:00:00-07:00</td>\n",
       "      <td>1403.00</td>\n",
       "      <td>13</td>\n",
       "      <td>occasional</td>\n",
       "    </tr>\n",
       "    <tr>\n",
       "      <th>4</th>\n",
       "      <td>5</td>\n",
       "      <td>pamela_berg</td>\n",
       "      <td>2024-08-05 00:00:00-07:00</td>\n",
       "      <td>1354.18</td>\n",
       "      <td>18</td>\n",
       "      <td>high_value</td>\n",
       "    </tr>\n",
       "    <tr>\n",
       "      <th>...</th>\n",
       "      <td>...</td>\n",
       "      <td>...</td>\n",
       "      <td>...</td>\n",
       "      <td>...</td>\n",
       "      <td>...</td>\n",
       "      <td>...</td>\n",
       "    </tr>\n",
       "    <tr>\n",
       "      <th>4995</th>\n",
       "      <td>4996</td>\n",
       "      <td>bryan_jones</td>\n",
       "      <td>2024-08-06 00:00:00-07:00</td>\n",
       "      <td>3112.13</td>\n",
       "      <td>43</td>\n",
       "      <td>frequent</td>\n",
       "    </tr>\n",
       "    <tr>\n",
       "      <th>4996</th>\n",
       "      <td>4997</td>\n",
       "      <td>sharon_lee</td>\n",
       "      <td>2025-02-14 00:00:00-08:00</td>\n",
       "      <td>608.13</td>\n",
       "      <td>5</td>\n",
       "      <td>occasional</td>\n",
       "    </tr>\n",
       "    <tr>\n",
       "      <th>4997</th>\n",
       "      <td>4998</td>\n",
       "      <td>gabrielle_kelly</td>\n",
       "      <td>2025-01-16 00:00:00-08:00</td>\n",
       "      <td>1766.59</td>\n",
       "      <td>38</td>\n",
       "      <td>frequent</td>\n",
       "    </tr>\n",
       "    <tr>\n",
       "      <th>4998</th>\n",
       "      <td>4999</td>\n",
       "      <td>christina_larson</td>\n",
       "      <td>2023-12-17 00:00:00-08:00</td>\n",
       "      <td>1370.75</td>\n",
       "      <td>37</td>\n",
       "      <td>high_value</td>\n",
       "    </tr>\n",
       "    <tr>\n",
       "      <th>4999</th>\n",
       "      <td>5000</td>\n",
       "      <td>john_aguirre</td>\n",
       "      <td>2024-07-04 00:00:00-07:00</td>\n",
       "      <td>4573.70</td>\n",
       "      <td>43</td>\n",
       "      <td>high_value</td>\n",
       "    </tr>\n",
       "  </tbody>\n",
       "</table>\n",
       "<p>5000 rows × 6 columns</p>\n",
       "</div>"
      ],
      "text/plain": [
       "      customer_id     customer_name                 join_date  total_spent  frequency     segment\n",
       "0               1    charles_miller 2024-08-13 00:00:00-07:00       294.24         12  occasional\n",
       "1               2      michael_long 2024-09-03 00:00:00-07:00      4011.83          7    frequent\n",
       "2               3    kimberly_green 2024-01-23 00:00:00-08:00       789.85         15  high_value\n",
       "3               4    beverly_bowers 2024-11-03 00:00:00-07:00      1403.00         13  occasional\n",
       "4               5       pamela_berg 2024-08-05 00:00:00-07:00      1354.18         18  high_value\n",
       "...           ...               ...                       ...          ...        ...         ...\n",
       "4995         4996       bryan_jones 2024-08-06 00:00:00-07:00      3112.13         43    frequent\n",
       "4996         4997        sharon_lee 2025-02-14 00:00:00-08:00       608.13          5  occasional\n",
       "4997         4998   gabrielle_kelly 2025-01-16 00:00:00-08:00      1766.59         38    frequent\n",
       "4998         4999  christina_larson 2023-12-17 00:00:00-08:00      1370.75         37  high_value\n",
       "4999         5000      john_aguirre 2024-07-04 00:00:00-07:00      4573.70         43  high_value\n",
       "\n",
       "[5000 rows x 6 columns]"
      ]
     },
     "execution_count": 106,
     "metadata": {},
     "output_type": "execute_result"
    }
   ],
   "source": [
    "df_customers['total_spent'] = df_customers.apply(lambda row: row['sales_amount'] if pd.isna(row['total_spent']) else row['total_spent'], axis=1)\n",
    "df_customers = df_customers.drop(columns=['sales_amount'])\n",
    "df_customers"
   ]
  },
  {
   "cell_type": "code",
   "execution_count": 107,
   "id": "fc9e3219",
   "metadata": {},
   "outputs": [
    {
     "data": {
      "application/vnd.microsoft.datawrangler.viewer.v0+json": {
       "columns": [
        {
         "name": "index",
         "rawType": "int64",
         "type": "integer"
        },
        {
         "name": "customer_id",
         "rawType": "int64",
         "type": "integer"
        },
        {
         "name": "customer_name",
         "rawType": "string",
         "type": "string"
        },
        {
         "name": "join_date",
         "rawType": "datetime64[ns, US/Pacific]",
         "type": "unknown"
        },
        {
         "name": "total_spent",
         "rawType": "float64",
         "type": "float"
        },
        {
         "name": "frequency",
         "rawType": "int64",
         "type": "integer"
        },
        {
         "name": "segment",
         "rawType": "category",
         "type": "unknown"
        }
       ],
       "ref": "aa07ea81-6188-47e3-848e-3ff4b7a20f10",
       "rows": [
        [
         "1054",
         "1055",
         "gabriel_sanford",
         "2024-10-30 00:00:00-07:00",
         null,
         "17",
         "frequent"
        ],
        [
         "1191",
         "1192",
         "megan_garcia",
         "2023-09-17 00:00:00-07:00",
         null,
         "26",
         "frequent"
        ]
       ],
       "shape": {
        "columns": 6,
        "rows": 2
       }
      },
      "text/html": [
       "<div>\n",
       "<style scoped>\n",
       "    .dataframe tbody tr th:only-of-type {\n",
       "        vertical-align: middle;\n",
       "    }\n",
       "\n",
       "    .dataframe tbody tr th {\n",
       "        vertical-align: top;\n",
       "    }\n",
       "\n",
       "    .dataframe thead th {\n",
       "        text-align: right;\n",
       "    }\n",
       "</style>\n",
       "<table border=\"1\" class=\"dataframe\">\n",
       "  <thead>\n",
       "    <tr style=\"text-align: right;\">\n",
       "      <th></th>\n",
       "      <th>customer_id</th>\n",
       "      <th>customer_name</th>\n",
       "      <th>join_date</th>\n",
       "      <th>total_spent</th>\n",
       "      <th>frequency</th>\n",
       "      <th>segment</th>\n",
       "    </tr>\n",
       "  </thead>\n",
       "  <tbody>\n",
       "    <tr>\n",
       "      <th>1054</th>\n",
       "      <td>1055</td>\n",
       "      <td>gabriel_sanford</td>\n",
       "      <td>2024-10-30 00:00:00-07:00</td>\n",
       "      <td>NaN</td>\n",
       "      <td>17</td>\n",
       "      <td>frequent</td>\n",
       "    </tr>\n",
       "    <tr>\n",
       "      <th>1191</th>\n",
       "      <td>1192</td>\n",
       "      <td>megan_garcia</td>\n",
       "      <td>2023-09-17 00:00:00-07:00</td>\n",
       "      <td>NaN</td>\n",
       "      <td>26</td>\n",
       "      <td>frequent</td>\n",
       "    </tr>\n",
       "  </tbody>\n",
       "</table>\n",
       "</div>"
      ],
      "text/plain": [
       "      customer_id    customer_name                 join_date  total_spent  frequency   segment\n",
       "1054         1055  gabriel_sanford 2024-10-30 00:00:00-07:00          NaN         17  frequent\n",
       "1191         1192     megan_garcia 2023-09-17 00:00:00-07:00          NaN         26  frequent"
      ]
     },
     "execution_count": 107,
     "metadata": {},
     "output_type": "execute_result"
    }
   ],
   "source": [
    "df_customers.loc[(df_customers['total_spent'].isna()), :]"
   ]
  },
  {
   "cell_type": "code",
   "execution_count": 108,
   "id": "79d53ad6",
   "metadata": {},
   "outputs": [
    {
     "data": {
      "application/vnd.microsoft.datawrangler.viewer.v0+json": {
       "columns": [
        {
         "name": "index",
         "rawType": "int64",
         "type": "integer"
        },
        {
         "name": "customer_id",
         "rawType": "int64",
         "type": "integer"
        },
        {
         "name": "customer_name",
         "rawType": "string",
         "type": "string"
        },
        {
         "name": "join_date",
         "rawType": "datetime64[ns, US/Pacific]",
         "type": "unknown"
        },
        {
         "name": "total_spent",
         "rawType": "float64",
         "type": "float"
        },
        {
         "name": "frequency",
         "rawType": "int64",
         "type": "integer"
        },
        {
         "name": "segment",
         "rawType": "category",
         "type": "unknown"
        }
       ],
       "ref": "378c2812-21d4-4a1b-a91e-96b0e10b6e5d",
       "rows": [
        [
         "0",
         "1",
         "charles_miller",
         "2024-08-13 00:00:00-07:00",
         "294.24",
         "12",
         "occasional"
        ],
        [
         "1",
         "2",
         "michael_long",
         "2024-09-03 00:00:00-07:00",
         "4011.83",
         "7",
         "frequent"
        ],
        [
         "2",
         "3",
         "kimberly_green",
         "2024-01-23 00:00:00-08:00",
         "789.85",
         "15",
         "high_value"
        ],
        [
         "3",
         "4",
         "beverly_bowers",
         "2024-11-03 00:00:00-07:00",
         "1403.0",
         "13",
         "occasional"
        ],
        [
         "4",
         "5",
         "pamela_berg",
         "2024-08-05 00:00:00-07:00",
         "1354.18",
         "18",
         "high_value"
        ],
        [
         "5",
         "6",
         "tiffany_ryan",
         "2024-07-15 00:00:00-07:00",
         "1253.15",
         "1",
         "occasional"
        ],
        [
         "6",
         "7",
         "elizabeth_johnson",
         "2023-09-12 00:00:00-07:00",
         "914.91",
         "42",
         "occasional"
        ],
        [
         "7",
         "8",
         "joseph_thomas",
         "2024-10-21 00:00:00-07:00",
         "1995.77",
         "29",
         "frequent"
        ],
        [
         "8",
         "9",
         "victor_smith",
         "2023-10-12 00:00:00-07:00",
         "3802.82",
         "48",
         "frequent"
        ],
        [
         "9",
         "10",
         "justin_scott",
         "2024-05-29 00:00:00-07:00",
         "3161.12",
         "30",
         "occasional"
        ],
        [
         "10",
         "11",
         "heather_munoz",
         "2024-10-19 00:00:00-07:00",
         "1904.17",
         "26",
         "occasional"
        ],
        [
         "11",
         "12",
         "john_snow_dvm",
         "2023-08-11 00:00:00-07:00",
         "2319.36",
         "43",
         "high_value"
        ],
        [
         "12",
         "13",
         "david_gaines",
         "2024-11-14 00:00:00-08:00",
         "1417.41",
         "46",
         "occasional"
        ],
        [
         "13",
         "14",
         "angel_cameron",
         "2024-05-08 00:00:00-07:00",
         "2555.56",
         "40",
         "occasional"
        ],
        [
         "14",
         "15",
         "jonathan_nguyen_phd",
         "2024-08-13 00:00:00-07:00",
         "978.83",
         "46",
         "occasional"
        ],
        [
         "15",
         "16",
         "angela_smith",
         "2024-12-13 00:00:00-08:00",
         "3276.77",
         "4",
         "high_value"
        ],
        [
         "16",
         "17",
         "david_frazier",
         "2024-04-05 00:00:00-07:00",
         "4699.68",
         "21",
         "high_value"
        ],
        [
         "17",
         "18",
         "raymond_dawson",
         "2024-04-14 00:00:00-07:00",
         "4725.46",
         "24",
         "occasional"
        ],
        [
         "18",
         "19",
         "kristina_blair",
         "2025-04-07 00:00:00-07:00",
         "2467.08",
         "46",
         "high_value"
        ],
        [
         "19",
         "20",
         "alex_king",
         "2025-03-02 00:00:00-08:00",
         "3996.57",
         "27",
         "frequent"
        ],
        [
         "20",
         "21",
         "shane_andersen",
         "2023-09-19 00:00:00-07:00",
         "2865.38",
         "46",
         "frequent"
        ],
        [
         "21",
         "22",
         "kevin_robbins",
         "2023-09-10 00:00:00-07:00",
         "1604.29",
         "6",
         "frequent"
        ],
        [
         "22",
         "23",
         "monica_johnson",
         "2024-08-12 00:00:00-07:00",
         "1787.39",
         "18",
         "occasional"
        ],
        [
         "23",
         "24",
         "cheryl_sanders",
         "2024-06-18 00:00:00-07:00",
         "287.98",
         "6",
         "high_value"
        ],
        [
         "24",
         "25",
         "cody_wallace_md",
         "2023-10-12 00:00:00-07:00",
         "3803.58",
         "33",
         "high_value"
        ],
        [
         "25",
         "26",
         "lisa_sanchez",
         "2023-09-05 00:00:00-07:00",
         "4329.15",
         "4",
         "high_value"
        ],
        [
         "26",
         "27",
         "ralph_li",
         "2024-07-06 00:00:00-07:00",
         "945.71",
         "21",
         "frequent"
        ],
        [
         "27",
         "28",
         "kevin_wells",
         "2024-11-23 00:00:00-08:00",
         "1102.38",
         "37",
         "occasional"
        ],
        [
         "28",
         "29",
         "ashley_briggs",
         "2023-07-08 00:00:00-07:00",
         "4375.77",
         "3",
         null
        ],
        [
         "29",
         "30",
         "adam_gregory",
         "2024-06-29 00:00:00-07:00",
         "215.55",
         "47",
         "occasional"
        ],
        [
         "30",
         "31",
         "yolanda_bennett",
         "2024-04-30 00:00:00-07:00",
         "1468.95",
         "41",
         "high_value"
        ],
        [
         "31",
         "32",
         "chris_bonilla",
         "2024-07-31 00:00:00-07:00",
         "2802.63",
         "49",
         "high_value"
        ],
        [
         "32",
         "33",
         "bonnie_martin",
         "2024-05-02 00:00:00-07:00",
         "4010.03",
         "12",
         "occasional"
        ],
        [
         "33",
         "34",
         "alexandra_hernandez",
         "2024-11-11 00:00:00-08:00",
         "3843.28",
         "13",
         "high_value"
        ],
        [
         "34",
         "35",
         "douglas_smith",
         "2024-05-07 00:00:00-07:00",
         "3976.83",
         "13",
         "frequent"
        ],
        [
         "35",
         "36",
         "caitlin_collins",
         "2025-05-20 00:00:00-07:00",
         "3696.33",
         "42",
         "frequent"
        ],
        [
         "36",
         "37",
         "christopher_simmons",
         "2024-03-20 00:00:00-07:00",
         "3415.21",
         "39",
         "high_value"
        ],
        [
         "37",
         "38",
         "angela_cook",
         "2024-01-08 00:00:00-08:00",
         "2887.93",
         "4",
         "frequent"
        ],
        [
         "38",
         "39",
         "krista_peters",
         "2023-10-31 00:00:00-07:00",
         "4560.03",
         "8",
         "frequent"
        ],
        [
         "39",
         "40",
         "emily_adams",
         "2024-05-12 00:00:00-07:00",
         "1151.73",
         "22",
         "high_value"
        ],
        [
         "40",
         "41",
         "david_pierce",
         "2025-04-18 00:00:00-07:00",
         "4861.94",
         "8",
         "high_value"
        ],
        [
         "41",
         "42",
         "christopher_anderson",
         "2024-01-25 00:00:00-08:00",
         "1517.52",
         "27",
         "high_value"
        ],
        [
         "42",
         "43",
         "ernest_palmer",
         "2024-01-18 00:00:00-08:00",
         "1784.81",
         "43",
         "occasional"
        ],
        [
         "43",
         "44",
         "todd_ruiz",
         "2025-03-26 00:00:00-07:00",
         "3548.35",
         "35",
         "high_value"
        ],
        [
         "44",
         "45",
         "cynthia_morgan",
         "2024-05-03 00:00:00-07:00",
         "3601.28",
         "20",
         "occasional"
        ],
        [
         "45",
         "46",
         "brandy_rogers",
         "2024-03-18 00:00:00-07:00",
         "3976.36",
         "27",
         "occasional"
        ],
        [
         "46",
         "47",
         "karen_warren",
         "2023-08-23 00:00:00-07:00",
         "4518.97",
         "19",
         "high_value"
        ],
        [
         "47",
         "48",
         "laura_rhodes",
         "2024-02-22 00:00:00-08:00",
         "3776.15",
         "18",
         "high_value"
        ],
        [
         "48",
         "49",
         "tonya_crawford",
         "2025-04-08 00:00:00-07:00",
         "2182.44",
         "15",
         "high_value"
        ],
        [
         "49",
         "50",
         "cindy_liu",
         "2025-04-02 00:00:00-07:00",
         "1226.24",
         "39",
         null
        ]
       ],
       "shape": {
        "columns": 6,
        "rows": 5000
       }
      },
      "text/html": [
       "<div>\n",
       "<style scoped>\n",
       "    .dataframe tbody tr th:only-of-type {\n",
       "        vertical-align: middle;\n",
       "    }\n",
       "\n",
       "    .dataframe tbody tr th {\n",
       "        vertical-align: top;\n",
       "    }\n",
       "\n",
       "    .dataframe thead th {\n",
       "        text-align: right;\n",
       "    }\n",
       "</style>\n",
       "<table border=\"1\" class=\"dataframe\">\n",
       "  <thead>\n",
       "    <tr style=\"text-align: right;\">\n",
       "      <th></th>\n",
       "      <th>customer_id</th>\n",
       "      <th>customer_name</th>\n",
       "      <th>join_date</th>\n",
       "      <th>total_spent</th>\n",
       "      <th>frequency</th>\n",
       "      <th>segment</th>\n",
       "    </tr>\n",
       "  </thead>\n",
       "  <tbody>\n",
       "    <tr>\n",
       "      <th>0</th>\n",
       "      <td>1</td>\n",
       "      <td>charles_miller</td>\n",
       "      <td>2024-08-13 00:00:00-07:00</td>\n",
       "      <td>294.24</td>\n",
       "      <td>12</td>\n",
       "      <td>occasional</td>\n",
       "    </tr>\n",
       "    <tr>\n",
       "      <th>1</th>\n",
       "      <td>2</td>\n",
       "      <td>michael_long</td>\n",
       "      <td>2024-09-03 00:00:00-07:00</td>\n",
       "      <td>4011.83</td>\n",
       "      <td>7</td>\n",
       "      <td>frequent</td>\n",
       "    </tr>\n",
       "    <tr>\n",
       "      <th>2</th>\n",
       "      <td>3</td>\n",
       "      <td>kimberly_green</td>\n",
       "      <td>2024-01-23 00:00:00-08:00</td>\n",
       "      <td>789.85</td>\n",
       "      <td>15</td>\n",
       "      <td>high_value</td>\n",
       "    </tr>\n",
       "    <tr>\n",
       "      <th>3</th>\n",
       "      <td>4</td>\n",
       "      <td>beverly_bowers</td>\n",
       "      <td>2024-11-03 00:00:00-07:00</td>\n",
       "      <td>1403.00</td>\n",
       "      <td>13</td>\n",
       "      <td>occasional</td>\n",
       "    </tr>\n",
       "    <tr>\n",
       "      <th>4</th>\n",
       "      <td>5</td>\n",
       "      <td>pamela_berg</td>\n",
       "      <td>2024-08-05 00:00:00-07:00</td>\n",
       "      <td>1354.18</td>\n",
       "      <td>18</td>\n",
       "      <td>high_value</td>\n",
       "    </tr>\n",
       "    <tr>\n",
       "      <th>...</th>\n",
       "      <td>...</td>\n",
       "      <td>...</td>\n",
       "      <td>...</td>\n",
       "      <td>...</td>\n",
       "      <td>...</td>\n",
       "      <td>...</td>\n",
       "    </tr>\n",
       "    <tr>\n",
       "      <th>4995</th>\n",
       "      <td>4996</td>\n",
       "      <td>bryan_jones</td>\n",
       "      <td>2024-08-06 00:00:00-07:00</td>\n",
       "      <td>3112.13</td>\n",
       "      <td>43</td>\n",
       "      <td>frequent</td>\n",
       "    </tr>\n",
       "    <tr>\n",
       "      <th>4996</th>\n",
       "      <td>4997</td>\n",
       "      <td>sharon_lee</td>\n",
       "      <td>2025-02-14 00:00:00-08:00</td>\n",
       "      <td>608.13</td>\n",
       "      <td>5</td>\n",
       "      <td>occasional</td>\n",
       "    </tr>\n",
       "    <tr>\n",
       "      <th>4997</th>\n",
       "      <td>4998</td>\n",
       "      <td>gabrielle_kelly</td>\n",
       "      <td>2025-01-16 00:00:00-08:00</td>\n",
       "      <td>1766.59</td>\n",
       "      <td>38</td>\n",
       "      <td>frequent</td>\n",
       "    </tr>\n",
       "    <tr>\n",
       "      <th>4998</th>\n",
       "      <td>4999</td>\n",
       "      <td>christina_larson</td>\n",
       "      <td>2023-12-17 00:00:00-08:00</td>\n",
       "      <td>1370.75</td>\n",
       "      <td>37</td>\n",
       "      <td>high_value</td>\n",
       "    </tr>\n",
       "    <tr>\n",
       "      <th>4999</th>\n",
       "      <td>5000</td>\n",
       "      <td>john_aguirre</td>\n",
       "      <td>2024-07-04 00:00:00-07:00</td>\n",
       "      <td>4573.70</td>\n",
       "      <td>43</td>\n",
       "      <td>high_value</td>\n",
       "    </tr>\n",
       "  </tbody>\n",
       "</table>\n",
       "<p>5000 rows × 6 columns</p>\n",
       "</div>"
      ],
      "text/plain": [
       "      customer_id     customer_name                 join_date  total_spent  frequency     segment\n",
       "0               1    charles_miller 2024-08-13 00:00:00-07:00       294.24         12  occasional\n",
       "1               2      michael_long 2024-09-03 00:00:00-07:00      4011.83          7    frequent\n",
       "2               3    kimberly_green 2024-01-23 00:00:00-08:00       789.85         15  high_value\n",
       "3               4    beverly_bowers 2024-11-03 00:00:00-07:00      1403.00         13  occasional\n",
       "4               5       pamela_berg 2024-08-05 00:00:00-07:00      1354.18         18  high_value\n",
       "...           ...               ...                       ...          ...        ...         ...\n",
       "4995         4996       bryan_jones 2024-08-06 00:00:00-07:00      3112.13         43    frequent\n",
       "4996         4997        sharon_lee 2025-02-14 00:00:00-08:00       608.13          5  occasional\n",
       "4997         4998   gabrielle_kelly 2025-01-16 00:00:00-08:00      1766.59         38    frequent\n",
       "4998         4999  christina_larson 2023-12-17 00:00:00-08:00      1370.75         37  high_value\n",
       "4999         5000      john_aguirre 2024-07-04 00:00:00-07:00      4573.70         43  high_value\n",
       "\n",
       "[5000 rows x 6 columns]"
      ]
     },
     "execution_count": 108,
     "metadata": {},
     "output_type": "execute_result"
    }
   ],
   "source": [
    "# customer_id = [1055, 1192] do not appear in df_transactions,meaning that — within the scope of this dataset — they have no recorded purchases.\n",
    "# Therefore, their 'total_spent' will be imputed as 0. This approach preserves their records, as both are labeled as 'frequent' in the 'segment'\n",
    "# column, suggesting they are considered valuable customers despite the absence of transaction data.\n",
    "\n",
    "df_customers['total_spent'] = df_customers['total_spent'].fillna(0)\n",
    "df_customers"
   ]
  },
  {
   "cell_type": "markdown",
   "id": "d6117000",
   "metadata": {},
   "source": [
    "#### 3.5.5 Missing values data imputation for df_customers column 'segment'."
   ]
  },
  {
   "cell_type": "code",
   "execution_count": 109,
   "id": "b729ca44",
   "metadata": {},
   "outputs": [
    {
     "name": "stderr",
     "output_type": "stream",
     "text": [
      "C:\\Users\\luisp\\AppData\\Local\\Temp\\ipykernel_24808\\919447401.py:4: FutureWarning: The default of observed=False is deprecated and will be changed to True in a future version of pandas. Pass observed=False to retain current behavior or observed=True to adopt the future default and silence this warning.\n",
      "  df_frequency_segment = df_customers.groupby(['segment', 'frequency'])['frequency'].count()\n"
     ]
    },
    {
     "data": {
      "application/vnd.microsoft.datawrangler.viewer.v0+json": {
       "columns": [
        {
         "name": "('segment', 'frequency')",
         "rawType": "object",
         "type": "unknown"
        },
        {
         "name": "frequency",
         "rawType": "int64",
         "type": "integer"
        }
       ],
       "ref": "e1ccbaf3-b150-444d-85f1-488d263542c9",
       "rows": [
        [
         "('frequent', 1)",
         "24"
        ],
        [
         "('frequent', 2)",
         "30"
        ],
        [
         "('frequent', 3)",
         "32"
        ],
        [
         "('frequent', 4)",
         "27"
        ],
        [
         "('frequent', 5)",
         "28"
        ],
        [
         "('frequent', 6)",
         "41"
        ],
        [
         "('frequent', 7)",
         "32"
        ],
        [
         "('frequent', 8)",
         "29"
        ],
        [
         "('frequent', 9)",
         "29"
        ],
        [
         "('frequent', 10)",
         "33"
        ],
        [
         "('frequent', 11)",
         "38"
        ],
        [
         "('frequent', 12)",
         "45"
        ],
        [
         "('frequent', 13)",
         "34"
        ],
        [
         "('frequent', 14)",
         "27"
        ],
        [
         "('frequent', 15)",
         "31"
        ],
        [
         "('frequent', 16)",
         "34"
        ],
        [
         "('frequent', 17)",
         "28"
        ],
        [
         "('frequent', 18)",
         "38"
        ],
        [
         "('frequent', 19)",
         "39"
        ],
        [
         "('frequent', 20)",
         "31"
        ],
        [
         "('frequent', 21)",
         "42"
        ],
        [
         "('frequent', 22)",
         "23"
        ],
        [
         "('frequent', 23)",
         "35"
        ],
        [
         "('frequent', 24)",
         "42"
        ],
        [
         "('frequent', 25)",
         "31"
        ],
        [
         "('frequent', 26)",
         "32"
        ],
        [
         "('frequent', 27)",
         "38"
        ],
        [
         "('frequent', 28)",
         "35"
        ],
        [
         "('frequent', 29)",
         "43"
        ],
        [
         "('frequent', 30)",
         "32"
        ],
        [
         "('frequent', 31)",
         "36"
        ],
        [
         "('frequent', 32)",
         "30"
        ],
        [
         "('frequent', 33)",
         "21"
        ],
        [
         "('frequent', 34)",
         "34"
        ],
        [
         "('frequent', 35)",
         "36"
        ],
        [
         "('frequent', 36)",
         "23"
        ],
        [
         "('frequent', 37)",
         "32"
        ],
        [
         "('frequent', 38)",
         "27"
        ],
        [
         "('frequent', 39)",
         "38"
        ],
        [
         "('frequent', 40)",
         "36"
        ],
        [
         "('frequent', 41)",
         "35"
        ],
        [
         "('frequent', 42)",
         "32"
        ],
        [
         "('frequent', 43)",
         "33"
        ],
        [
         "('frequent', 44)",
         "28"
        ],
        [
         "('frequent', 45)",
         "34"
        ],
        [
         "('frequent', 46)",
         "27"
        ],
        [
         "('frequent', 47)",
         "36"
        ],
        [
         "('frequent', 48)",
         "33"
        ],
        [
         "('frequent', 49)",
         "27"
        ],
        [
         "('high_value', 1)",
         "34"
        ]
       ],
       "shape": {
        "columns": 1,
        "rows": 147
       }
      },
      "text/plain": [
       "segment     frequency\n",
       "frequent    1            24\n",
       "            2            30\n",
       "            3            32\n",
       "            4            27\n",
       "            5            28\n",
       "                         ..\n",
       "occasional  45           42\n",
       "            46           24\n",
       "            47           36\n",
       "            48           29\n",
       "            49           49\n",
       "Name: frequency, Length: 147, dtype: int64"
      ]
     },
     "execution_count": 109,
     "metadata": {},
     "output_type": "execute_result"
    }
   ],
   "source": [
    "# Missing values in the 'segment' column of df_customers will be imputed based on frequency ranges, using the relationship observed between\n",
    "# existing 'segment' labels and the 'frequency' column.\n",
    "\n",
    "df_frequency_segment = df_customers.groupby(['segment', 'frequency'])['frequency'].count()\n",
    "df_frequency_segment"
   ]
  },
  {
   "cell_type": "code",
   "execution_count": 110,
   "id": "12a7aa2d",
   "metadata": {},
   "outputs": [
    {
     "data": {
      "text/html": [
       "> Coefficient of variation for column <i>'total_spent'</i>: <b>58.74 %</b>"
      ],
      "text/plain": [
       "<IPython.core.display.HTML object>"
      ]
     },
     "metadata": {},
     "output_type": "display_data"
    },
    {
     "data": {
      "text/html": [
       "> High variability: <i>mean may be misleading</i>. Recommended central measure: <b>median</b>."
      ],
      "text/plain": [
       "<IPython.core.display.HTML object>"
      ]
     },
     "metadata": {},
     "output_type": "display_data"
    },
    {
     "name": "stdout",
     "output_type": "stream",
     "text": [
      "\n"
     ]
    }
   ],
   "source": [
    "# Missing values in the 'segment' column of df_customers will be imputed based on total_spent averages.\n",
    "evaluate_central_trend(df_customers, 'total_spent')"
   ]
  },
  {
   "cell_type": "code",
   "execution_count": 111,
   "id": "926db4fd",
   "metadata": {},
   "outputs": [
    {
     "name": "stdout",
     "output_type": "stream",
     "text": [
      "segment\n",
      "frequent      2575.810\n",
      "high_value    2310.865\n",
      "occasional    2424.670\n",
      "Name: total_spent, dtype: float64\n"
     ]
    }
   ],
   "source": [
    "df_customers_segment_tspent = df_customers.groupby('segment', observed=True)['total_spent'].median()\n",
    "print(df_customers_segment_tspent)"
   ]
  },
  {
   "cell_type": "markdown",
   "id": "20e36a3f",
   "metadata": {},
   "source": [
    "##### `LSPL`\n",
    "\n",
    "**Note:** \n",
    "\n",
    "Missing values in df_customers, 'segment' column\n",
    "\n",
    "Missing values in the `segment` column occur for a small subset of customers. An analysis was conducted to explore whether this column could be imputed using related variables such as `total_spent` and `frequency`.\n",
    "\n",
    "__Solution__: All missing values in segment will be preserved as pd.NA, since there is no strong correlation or meaningful separation between segments when grouped by `total_spent` or `frequency`. Attempting to impute based on these columns could introduce inaccurate classifications.\n",
    "\n",
    "__Impact__: Identifying customers with missing `segment` values helps maintain data integrity and analytical transparency, avoiding biased segment assignment and preserving the original structure for future refinement if better data becomes available.\n",
    "\n"
   ]
  },
  {
   "cell_type": "markdown",
   "id": "33af8b36",
   "metadata": {},
   "source": [
    "### 3.6 Implicit duplicates."
   ]
  },
  {
   "cell_type": "markdown",
   "id": "9db00f22",
   "metadata": {},
   "source": [
    "#### 3.6.1 Implicit duplicates check."
   ]
  },
  {
   "cell_type": "code",
   "execution_count": 112,
   "id": "a4aa4ca1",
   "metadata": {},
   "outputs": [
    {
     "name": "stderr",
     "output_type": "stream",
     "text": [
      "> Scanning for duplicates ...: 100%|██████████| 4839/4839 [01:54<00:00, 42.17it/s]\n"
     ]
    },
    {
     "data": {
      "text/html": [
       "> <i>Implicit duplicates</i> <b>detected</b>:"
      ],
      "text/plain": [
       "<IPython.core.display.HTML object>"
      ]
     },
     "metadata": {},
     "output_type": "display_data"
    },
    {
     "data": {
      "text/html": [
       "'<b>joseph_thomas</b>'  ⇨  <i>['thomas_thomas']</i>"
      ],
      "text/plain": [
       "<IPython.core.display.HTML object>"
      ]
     },
     "metadata": {},
     "output_type": "display_data"
    },
    {
     "data": {
      "text/html": [
       "'<b>shane_andersen</b>'  ⇨  <i>['shane_anderson']</i>"
      ],
      "text/plain": [
       "<IPython.core.display.HTML object>"
      ]
     },
     "metadata": {},
     "output_type": "display_data"
    },
    {
     "data": {
      "text/html": [
       "'<b>christopher_simmons</b>'  ⇨  <i>['kristopher_simmons']</i>"
      ],
      "text/plain": [
       "<IPython.core.display.HTML object>"
      ]
     },
     "metadata": {},
     "output_type": "display_data"
    },
    {
     "data": {
      "text/html": [
       "'<b>jennifer_andersen</b>'  ⇨  <i>['jennifer_anderson']</i>"
      ],
      "text/plain": [
       "<IPython.core.display.HTML object>"
      ]
     },
     "metadata": {},
     "output_type": "display_data"
    },
    {
     "data": {
      "text/html": [
       "'<b>donald_wood</b>'  ⇨  <i>['donald_hood']</i>"
      ],
      "text/plain": [
       "<IPython.core.display.HTML object>"
      ]
     },
     "metadata": {},
     "output_type": "display_data"
    },
    {
     "data": {
      "text/html": [
       "'<b>matthew_hernandez</b>'  ⇨  <i>['mathew_hernandez']</i>"
      ],
      "text/plain": [
       "<IPython.core.display.HTML object>"
      ]
     },
     "metadata": {},
     "output_type": "display_data"
    },
    {
     "data": {
      "text/html": [
       "'<b>kristi_smith</b>'  ⇨  <i>['kristin_smith']</i>"
      ],
      "text/plain": [
       "<IPython.core.display.HTML object>"
      ]
     },
     "metadata": {},
     "output_type": "display_data"
    },
    {
     "data": {
      "text/html": [
       "'<b>stephanie_brown</b>'  ⇨  <i>['stefanie_brown']</i>"
      ],
      "text/plain": [
       "<IPython.core.display.HTML object>"
      ]
     },
     "metadata": {},
     "output_type": "display_data"
    },
    {
     "data": {
      "text/html": [
       "'<b>jon_wright</b>'  ⇨  <i>['john_wright']</i>"
      ],
      "text/plain": [
       "<IPython.core.display.HTML object>"
      ]
     },
     "metadata": {},
     "output_type": "display_data"
    },
    {
     "data": {
      "text/html": [
       "'<b>jamie_perez_dvm</b>'  ⇨  <i>['jamie_perez']</i>"
      ],
      "text/plain": [
       "<IPython.core.display.HTML object>"
      ]
     },
     "metadata": {},
     "output_type": "display_data"
    },
    {
     "data": {
      "text/html": [
       "'<b>carla_miller</b>'  ⇨  <i>['carl_miller']</i>"
      ],
      "text/plain": [
       "<IPython.core.display.HTML object>"
      ]
     },
     "metadata": {},
     "output_type": "display_data"
    },
    {
     "data": {
      "text/html": [
       "'<b>heidi_williams</b>'  ⇨  <i>['heidi_williamson']</i>"
      ],
      "text/plain": [
       "<IPython.core.display.HTML object>"
      ]
     },
     "metadata": {},
     "output_type": "display_data"
    },
    {
     "data": {
      "text/html": [
       "'<b>bryan_johnston</b>'  ⇨  <i>['ryan_johnson']</i>"
      ],
      "text/plain": [
       "<IPython.core.display.HTML object>"
      ]
     },
     "metadata": {},
     "output_type": "display_data"
    },
    {
     "data": {
      "text/html": [
       "'<b>karen_rodriguez</b>'  ⇨  <i>['lauren_rodriguez']</i>"
      ],
      "text/plain": [
       "<IPython.core.display.HTML object>"
      ]
     },
     "metadata": {},
     "output_type": "display_data"
    },
    {
     "data": {
      "text/html": [
       "'<b>francisco_thomas</b>'  ⇨  <i>['thomas_thomas']</i>"
      ],
      "text/plain": [
       "<IPython.core.display.HTML object>"
      ]
     },
     "metadata": {},
     "output_type": "display_data"
    },
    {
     "data": {
      "text/html": [
       "'<b>mary_smith</b>'  ⇨  <i>['mark_smith']</i>"
      ],
      "text/plain": [
       "<IPython.core.display.HTML object>"
      ]
     },
     "metadata": {},
     "output_type": "display_data"
    },
    {
     "data": {
      "text/html": [
       "'<b>linda_wood</b>'  ⇨  <i>['lindsay_wood']</i>"
      ],
      "text/plain": [
       "<IPython.core.display.HTML object>"
      ]
     },
     "metadata": {},
     "output_type": "display_data"
    },
    {
     "data": {
      "text/html": [
       "'<b>christina_smith</b>'  ⇨  <i>['tina_smith']</i>"
      ],
      "text/plain": [
       "<IPython.core.display.HTML object>"
      ]
     },
     "metadata": {},
     "output_type": "display_data"
    },
    {
     "data": {
      "text/html": [
       "'<b>william_reed</b>'  ⇨  <i>['william_reid']</i>"
      ],
      "text/plain": [
       "<IPython.core.display.HTML object>"
      ]
     },
     "metadata": {},
     "output_type": "display_data"
    },
    {
     "data": {
      "text/html": [
       "'<b>denise_johnson</b>'  ⇨  <i>['dennis_johnson']</i>"
      ],
      "text/plain": [
       "<IPython.core.display.HTML object>"
      ]
     },
     "metadata": {},
     "output_type": "display_data"
    },
    {
     "data": {
      "text/html": [
       "'<b>thomas_nunez</b>'  ⇨  <i>['thomas_thomas']</i>"
      ],
      "text/plain": [
       "<IPython.core.display.HTML object>"
      ]
     },
     "metadata": {},
     "output_type": "display_data"
    },
    {
     "data": {
      "text/html": [
       "'<b>dennis_little</b>'  ⇨  <i>['denise_little']</i>"
      ],
      "text/plain": [
       "<IPython.core.display.HTML object>"
      ]
     },
     "metadata": {},
     "output_type": "display_data"
    },
    {
     "data": {
      "text/html": [
       "'<b>melissa_peterson</b>'  ⇨  <i>['melissa_petersen', 'lisa_peterson']</i>"
      ],
      "text/plain": [
       "<IPython.core.display.HTML object>"
      ]
     },
     "metadata": {},
     "output_type": "display_data"
    },
    {
     "data": {
      "text/html": [
       "'<b>lisa_willis</b>'  ⇨  <i>['lisa_williams']</i>"
      ],
      "text/plain": [
       "<IPython.core.display.HTML object>"
      ]
     },
     "metadata": {},
     "output_type": "display_data"
    },
    {
     "data": {
      "text/html": [
       "'<b>jessica_peterson</b>'  ⇨  <i>['jessica_patterson']</i>"
      ],
      "text/plain": [
       "<IPython.core.display.HTML object>"
      ]
     },
     "metadata": {},
     "output_type": "display_data"
    },
    {
     "data": {
      "text/html": [
       "'<b>andrea_long</b>'  ⇨  <i>['andrew_long']</i>"
      ],
      "text/plain": [
       "<IPython.core.display.HTML object>"
      ]
     },
     "metadata": {},
     "output_type": "display_data"
    },
    {
     "data": {
      "text/html": [
       "'<b>katherine_riley</b>'  ⇨  <i>['katherine_rice']</i>"
      ],
      "text/plain": [
       "<IPython.core.display.HTML object>"
      ]
     },
     "metadata": {},
     "output_type": "display_data"
    },
    {
     "data": {
      "text/html": [
       "'<b>james_hartman</b>'  ⇨  <i>['jamie_hartman']</i>"
      ],
      "text/plain": [
       "<IPython.core.display.HTML object>"
      ]
     },
     "metadata": {},
     "output_type": "display_data"
    },
    {
     "data": {
      "text/html": [
       "'<b>mark_johnson</b>'  ⇨  <i>['mary_johnson']</i>"
      ],
      "text/plain": [
       "<IPython.core.display.HTML object>"
      ]
     },
     "metadata": {},
     "output_type": "display_data"
    },
    {
     "data": {
      "text/html": [
       "'<b>erin_williams</b>'  ⇨  <i>['erin_williamson', 'eric_williams']</i>"
      ],
      "text/plain": [
       "<IPython.core.display.HTML object>"
      ]
     },
     "metadata": {},
     "output_type": "display_data"
    },
    {
     "data": {
      "text/html": [
       "'<b>carl_davis</b>'  ⇨  <i>['carol_davis', 'carlos_davis']</i>"
      ],
      "text/plain": [
       "<IPython.core.display.HTML object>"
      ]
     },
     "metadata": {},
     "output_type": "display_data"
    },
    {
     "data": {
      "text/html": [
       "'<b>jennifer_francis</b>'  ⇨  <i>['jennifer_franco']</i>"
      ],
      "text/plain": [
       "<IPython.core.display.HTML object>"
      ]
     },
     "metadata": {},
     "output_type": "display_data"
    },
    {
     "data": {
      "text/html": [
       "'<b>lindsay_brown</b>'  ⇨  <i>['linda_brown']</i>"
      ],
      "text/plain": [
       "<IPython.core.display.HTML object>"
      ]
     },
     "metadata": {},
     "output_type": "display_data"
    },
    {
     "data": {
      "text/html": [
       "'<b>shannon_thomas</b>'  ⇨  <i>['thomas_thomas']</i>"
      ],
      "text/plain": [
       "<IPython.core.display.HTML object>"
      ]
     },
     "metadata": {},
     "output_type": "display_data"
    },
    {
     "data": {
      "text/html": [
       "'<b>robert_clark</b>'  ⇨  <i>['roberta_clark']</i>"
      ],
      "text/plain": [
       "<IPython.core.display.HTML object>"
      ]
     },
     "metadata": {},
     "output_type": "display_data"
    },
    {
     "data": {
      "text/html": [
       "'<b>leroy_anderson</b>'  ⇨  <i>['roy_anderson']</i>"
      ],
      "text/plain": [
       "<IPython.core.display.HTML object>"
      ]
     },
     "metadata": {},
     "output_type": "display_data"
    },
    {
     "data": {
      "text/html": [
       "'<b>jonathan_thomas</b>'  ⇨  <i>['thomas_thomas']</i>"
      ],
      "text/plain": [
       "<IPython.core.display.HTML object>"
      ]
     },
     "metadata": {},
     "output_type": "display_data"
    },
    {
     "data": {
      "text/html": [
       "'<b>robert_davis</b>'  ⇨  <i>['robert_davis_md']</i>"
      ],
      "text/plain": [
       "<IPython.core.display.HTML object>"
      ]
     },
     "metadata": {},
     "output_type": "display_data"
    },
    {
     "data": {
      "text/html": [
       "'<b>amanda_peterson</b>'  ⇨  <i>['amanda_patterson']</i>"
      ],
      "text/plain": [
       "<IPython.core.display.HTML object>"
      ]
     },
     "metadata": {},
     "output_type": "display_data"
    },
    {
     "data": {
      "text/html": [
       "'<b>mark_jacobs</b>'  ⇨  <i>['mark_jacobson']</i>"
      ],
      "text/plain": [
       "<IPython.core.display.HTML object>"
      ]
     },
     "metadata": {},
     "output_type": "display_data"
    },
    {
     "data": {
      "text/html": [
       "'<b>angela_thomas</b>'  ⇨  <i>['thomas_thomas']</i>"
      ],
      "text/plain": [
       "<IPython.core.display.HTML object>"
      ]
     },
     "metadata": {},
     "output_type": "display_data"
    },
    {
     "data": {
      "text/html": [
       "'<b>maurice_murphy</b>'  ⇨  <i>['marie_murphy']</i>"
      ],
      "text/plain": [
       "<IPython.core.display.HTML object>"
      ]
     },
     "metadata": {},
     "output_type": "display_data"
    },
    {
     "data": {
      "text/html": [
       "'<b>michael_hall</b>'  ⇨  <i>['michael_hill', 'michael_ball']</i>"
      ],
      "text/plain": [
       "<IPython.core.display.HTML object>"
      ]
     },
     "metadata": {},
     "output_type": "display_data"
    },
    {
     "data": {
      "text/html": [
       "'<b>ryan_gardner</b>'  ⇨  <i>['bryan_gardner']</i>"
      ],
      "text/plain": [
       "<IPython.core.display.HTML object>"
      ]
     },
     "metadata": {},
     "output_type": "display_data"
    },
    {
     "data": {
      "text/html": [
       "'<b>melissa_mitchell</b>'  ⇨  <i>['lisa_mitchell']</i>"
      ],
      "text/plain": [
       "<IPython.core.display.HTML object>"
      ]
     },
     "metadata": {},
     "output_type": "display_data"
    },
    {
     "data": {
      "text/html": [
       "'<b>jonathan_lewis</b>'  ⇨  <i>['nathan_lewis']</i>"
      ],
      "text/plain": [
       "<IPython.core.display.HTML object>"
      ]
     },
     "metadata": {},
     "output_type": "display_data"
    },
    {
     "data": {
      "text/html": [
       "'<b>christopher_buchanan</b>'  ⇨  <i>['dr_christopher_buchanan']</i>"
      ],
      "text/plain": [
       "<IPython.core.display.HTML object>"
      ]
     },
     "metadata": {},
     "output_type": "display_data"
    },
    {
     "data": {
      "text/html": [
       "'<b>daniel_mitchell</b>'  ⇨  <i>['danielle_mitchell']</i>"
      ],
      "text/plain": [
       "<IPython.core.display.HTML object>"
      ]
     },
     "metadata": {},
     "output_type": "display_data"
    },
    {
     "data": {
      "text/html": [
       "'<b>lauren_reynolds</b>'  ⇨  <i>['laura_reynolds']</i>"
      ],
      "text/plain": [
       "<IPython.core.display.HTML object>"
      ]
     },
     "metadata": {},
     "output_type": "display_data"
    },
    {
     "data": {
      "text/html": [
       "'<b>stephanie_shannon</b>'  ⇨  <i>['stephanie_cannon']</i>"
      ],
      "text/plain": [
       "<IPython.core.display.HTML object>"
      ]
     },
     "metadata": {},
     "output_type": "display_data"
    },
    {
     "data": {
      "text/html": [
       "'<b>sandra_hernandez</b>'  ⇨  <i>['sarah_hernandez']</i>"
      ],
      "text/plain": [
       "<IPython.core.display.HTML object>"
      ]
     },
     "metadata": {},
     "output_type": "display_data"
    },
    {
     "data": {
      "text/html": [
       "'<b>michelle_rodriguez</b>'  ⇨  <i>['michael_rodriguez']</i>"
      ],
      "text/plain": [
       "<IPython.core.display.HTML object>"
      ]
     },
     "metadata": {},
     "output_type": "display_data"
    },
    {
     "data": {
      "text/html": [
       "'<b>keith_rodriguez</b>'  ⇨  <i>['beth_rodriguez']</i>"
      ],
      "text/plain": [
       "<IPython.core.display.HTML object>"
      ]
     },
     "metadata": {},
     "output_type": "display_data"
    },
    {
     "data": {
      "text/html": [
       "'<b>danielle_jones</b>'  ⇨  <i>['daniel_jones']</i>"
      ],
      "text/plain": [
       "<IPython.core.display.HTML object>"
      ]
     },
     "metadata": {},
     "output_type": "display_data"
    },
    {
     "data": {
      "text/html": [
       "'<b>david_carr</b>'  ⇨  <i>['david_carter']</i>"
      ],
      "text/plain": [
       "<IPython.core.display.HTML object>"
      ]
     },
     "metadata": {},
     "output_type": "display_data"
    },
    {
     "data": {
      "text/html": [
       "'<b>thomas_russell</b>'  ⇨  <i>['thomas_thomas']</i>"
      ],
      "text/plain": [
       "<IPython.core.display.HTML object>"
      ]
     },
     "metadata": {},
     "output_type": "display_data"
    },
    {
     "data": {
      "text/html": [
       "'<b>jennifer_hernandez</b>'  ⇨  <i>['jennifer_fernandez']</i>"
      ],
      "text/plain": [
       "<IPython.core.display.HTML object>"
      ]
     },
     "metadata": {},
     "output_type": "display_data"
    },
    {
     "data": {
      "text/html": [
       "'<b>jeffery_jacobs</b>'  ⇨  <i>['jeffrey_jacobs']</i>"
      ],
      "text/plain": [
       "<IPython.core.display.HTML object>"
      ]
     },
     "metadata": {},
     "output_type": "display_data"
    },
    {
     "data": {
      "text/html": [
       "'<b>james_johnson</b>'  ⇨  <i>['james_johnston']</i>"
      ],
      "text/plain": [
       "<IPython.core.display.HTML object>"
      ]
     },
     "metadata": {},
     "output_type": "display_data"
    },
    {
     "data": {
      "text/html": [
       "'<b>thomas_campbell</b>'  ⇨  <i>['thomas_thomas']</i>"
      ],
      "text/plain": [
       "<IPython.core.display.HTML object>"
      ]
     },
     "metadata": {},
     "output_type": "display_data"
    },
    {
     "data": {
      "text/html": [
       "'<b>james_reeves_phd</b>'  ⇨  <i>['james_reeves']</i>"
      ],
      "text/plain": [
       "<IPython.core.display.HTML object>"
      ]
     },
     "metadata": {},
     "output_type": "display_data"
    },
    {
     "data": {
      "text/html": [
       "'<b>gary_adams</b>'  ⇨  <i>['mary_adams']</i>"
      ],
      "text/plain": [
       "<IPython.core.display.HTML object>"
      ]
     },
     "metadata": {},
     "output_type": "display_data"
    },
    {
     "data": {
      "text/html": [
       "'<b>matthew_kelley</b>'  ⇨  <i>['matthew_kelly']</i>"
      ],
      "text/plain": [
       "<IPython.core.display.HTML object>"
      ]
     },
     "metadata": {},
     "output_type": "display_data"
    },
    {
     "data": {
      "text/html": [
       "'<b>eric_fuentes</b>'  ⇨  <i>['rick_fuentes']</i>"
      ],
      "text/plain": [
       "<IPython.core.display.HTML object>"
      ]
     },
     "metadata": {},
     "output_type": "display_data"
    },
    {
     "data": {
      "text/html": [
       "'<b>william_walker</b>'  ⇨  <i>['william_walters']</i>"
      ],
      "text/plain": [
       "<IPython.core.display.HTML object>"
      ]
     },
     "metadata": {},
     "output_type": "display_data"
    },
    {
     "data": {
      "text/html": [
       "'<b>christina_wright</b>'  ⇨  <i>['kristina_wright']</i>"
      ],
      "text/plain": [
       "<IPython.core.display.HTML object>"
      ]
     },
     "metadata": {},
     "output_type": "display_data"
    },
    {
     "data": {
      "text/html": [
       "'<b>cynthia_simon</b>'  ⇨  <i>['cynthia_simpson']</i>"
      ],
      "text/plain": [
       "<IPython.core.display.HTML object>"
      ]
     },
     "metadata": {},
     "output_type": "display_data"
    },
    {
     "data": {
      "text/html": [
       "'<b>christine_gonzalez</b>'  ⇨  <i>['christina_gonzalez']</i>"
      ],
      "text/plain": [
       "<IPython.core.display.HTML object>"
      ]
     },
     "metadata": {},
     "output_type": "display_data"
    },
    {
     "data": {
      "text/html": [
       "'<b>michael_brown</b>'  ⇨  <i>['micheal_brown']</i>"
      ],
      "text/plain": [
       "<IPython.core.display.HTML object>"
      ]
     },
     "metadata": {},
     "output_type": "display_data"
    },
    {
     "data": {
      "text/html": [
       "'<b>stephen_johnson</b>'  ⇨  <i>['steven_johnson']</i>"
      ],
      "text/plain": [
       "<IPython.core.display.HTML object>"
      ]
     },
     "metadata": {},
     "output_type": "display_data"
    },
    {
     "data": {
      "text/html": [
       "'<b>brian_thomas</b>'  ⇨  <i>['thomas_thomas']</i>"
      ],
      "text/plain": [
       "<IPython.core.display.HTML object>"
      ]
     },
     "metadata": {},
     "output_type": "display_data"
    },
    {
     "data": {
      "text/html": [
       "'<b>sara_schmidt</b>'  ⇨  <i>['sandra_schmidt']</i>"
      ],
      "text/plain": [
       "<IPython.core.display.HTML object>"
      ]
     },
     "metadata": {},
     "output_type": "display_data"
    },
    {
     "data": {
      "text/html": [
       "'<b>sandra_evans</b>'  ⇨  <i>['andrea_evans']</i>"
      ],
      "text/plain": [
       "<IPython.core.display.HTML object>"
      ]
     },
     "metadata": {},
     "output_type": "display_data"
    },
    {
     "data": {
      "text/html": [
       "'<b>mr_matthew_crosby</b>'  ⇨  <i>['matthew_crosby']</i>"
      ],
      "text/plain": [
       "<IPython.core.display.HTML object>"
      ]
     },
     "metadata": {},
     "output_type": "display_data"
    },
    {
     "data": {
      "text/html": [
       "'<b>thomas_porter</b>'  ⇨  <i>['thomas_thomas']</i>"
      ],
      "text/plain": [
       "<IPython.core.display.HTML object>"
      ]
     },
     "metadata": {},
     "output_type": "display_data"
    },
    {
     "data": {
      "text/html": [
       "'<b>richard_brown</b>'  ⇨  <i>['mr_richard_brown_md']</i>"
      ],
      "text/plain": [
       "<IPython.core.display.HTML object>"
      ]
     },
     "metadata": {},
     "output_type": "display_data"
    },
    {
     "data": {
      "text/html": [
       "'<b>christine_jones</b>'  ⇨  <i>['christina_jones']</i>"
      ],
      "text/plain": [
       "<IPython.core.display.HTML object>"
      ]
     },
     "metadata": {},
     "output_type": "display_data"
    },
    {
     "data": {
      "text/html": [
       "'<b>joshua_thomas</b>'  ⇨  <i>['thomas_thomas']</i>"
      ],
      "text/plain": [
       "<IPython.core.display.HTML object>"
      ]
     },
     "metadata": {},
     "output_type": "display_data"
    },
    {
     "data": {
      "text/html": [
       "'<b>ernest_thomas</b>'  ⇨  <i>['thomas_thomas']</i>"
      ],
      "text/plain": [
       "<IPython.core.display.HTML object>"
      ]
     },
     "metadata": {},
     "output_type": "display_data"
    },
    {
     "data": {
      "text/html": [
       "'<b>christine_wolfe</b>'  ⇨  <i>['christine_cole']</i>"
      ],
      "text/plain": [
       "<IPython.core.display.HTML object>"
      ]
     },
     "metadata": {},
     "output_type": "display_data"
    },
    {
     "data": {
      "text/html": [
       "'<b>brianna_smith</b>'  ⇨  <i>['brian_smith']</i>"
      ],
      "text/plain": [
       "<IPython.core.display.HTML object>"
      ]
     },
     "metadata": {},
     "output_type": "display_data"
    },
    {
     "data": {
      "text/html": [
       "'<b>jennifer_gray</b>'  ⇨  <i>['jennifer_ray']</i>"
      ],
      "text/plain": [
       "<IPython.core.display.HTML object>"
      ]
     },
     "metadata": {},
     "output_type": "display_data"
    },
    {
     "data": {
      "text/html": [
       "'<b>rachael_willis</b>'  ⇨  <i>['rachel_williams']</i>"
      ],
      "text/plain": [
       "<IPython.core.display.HTML object>"
      ]
     },
     "metadata": {},
     "output_type": "display_data"
    },
    {
     "data": {
      "text/html": [
       "'<b>thomas_wood</b>'  ⇨  <i>['thomas_thomas']</i>"
      ],
      "text/plain": [
       "<IPython.core.display.HTML object>"
      ]
     },
     "metadata": {},
     "output_type": "display_data"
    },
    {
     "data": {
      "text/html": [
       "'<b>robert_tran</b>'  ⇨  <i>['robert_ryan']</i>"
      ],
      "text/plain": [
       "<IPython.core.display.HTML object>"
      ]
     },
     "metadata": {},
     "output_type": "display_data"
    },
    {
     "data": {
      "text/html": [
       "'<b>stephanie_moses</b>'  ⇨  <i>['stephanie_montes', 'stephanie_ross']</i>"
      ],
      "text/plain": [
       "<IPython.core.display.HTML object>"
      ]
     },
     "metadata": {},
     "output_type": "display_data"
    },
    {
     "data": {
      "text/html": [
       "'<b>lisa_rodriguez</b>'  ⇨  <i>['linda_rodriguez']</i>"
      ],
      "text/plain": [
       "<IPython.core.display.HTML object>"
      ]
     },
     "metadata": {},
     "output_type": "display_data"
    },
    {
     "data": {
      "text/html": [
       "'<b>kristin_johnson</b>'  ⇨  <i>['krista_johnson']</i>"
      ],
      "text/plain": [
       "<IPython.core.display.HTML object>"
      ]
     },
     "metadata": {},
     "output_type": "display_data"
    },
    {
     "data": {
      "text/html": [
       "'<b>melinda_brown</b>'  ⇨  <i>['linda_brown', 'melinda_browning']</i>"
      ],
      "text/plain": [
       "<IPython.core.display.HTML object>"
      ]
     },
     "metadata": {},
     "output_type": "display_data"
    },
    {
     "data": {
      "text/html": [
       "'<b>michael_taylor</b>'  ⇨  <i>['michelle_taylor']</i>"
      ],
      "text/plain": [
       "<IPython.core.display.HTML object>"
      ]
     },
     "metadata": {},
     "output_type": "display_data"
    },
    {
     "data": {
      "text/html": [
       "'<b>antonio_thomas</b>'  ⇨  <i>['thomas_thomas']</i>"
      ],
      "text/plain": [
       "<IPython.core.display.HTML object>"
      ]
     },
     "metadata": {},
     "output_type": "display_data"
    },
    {
     "data": {
      "text/html": [
       "'<b>christopher_martin</b>'  ⇨  <i>['christopher_martinez']</i>"
      ],
      "text/plain": [
       "<IPython.core.display.HTML object>"
      ]
     },
     "metadata": {},
     "output_type": "display_data"
    },
    {
     "data": {
      "text/html": [
       "'<b>jamie_rice</b>'  ⇨  <i>['jamie_rich']</i>"
      ],
      "text/plain": [
       "<IPython.core.display.HTML object>"
      ]
     },
     "metadata": {},
     "output_type": "display_data"
    },
    {
     "data": {
      "text/html": [
       "'<b>daniel_cross</b>'  ⇨  <i>['daniel_ross']</i>"
      ],
      "text/plain": [
       "<IPython.core.display.HTML object>"
      ]
     },
     "metadata": {},
     "output_type": "display_data"
    },
    {
     "data": {
      "text/html": [
       "'<b>derek_thomas</b>'  ⇨  <i>['thomas_thomas']</i>"
      ],
      "text/plain": [
       "<IPython.core.display.HTML object>"
      ]
     },
     "metadata": {},
     "output_type": "display_data"
    },
    {
     "data": {
      "text/html": [
       "'<b>thomas_gonzalez</b>'  ⇨  <i>['thomas_thomas']</i>"
      ],
      "text/plain": [
       "<IPython.core.display.HTML object>"
      ]
     },
     "metadata": {},
     "output_type": "display_data"
    },
    {
     "data": {
      "text/html": [
       "'<b>brian_rose</b>'  ⇨  <i>['brian_ross']</i>"
      ],
      "text/plain": [
       "<IPython.core.display.HTML object>"
      ]
     },
     "metadata": {},
     "output_type": "display_data"
    },
    {
     "data": {
      "text/html": [
       "'<b>mr_james_smith</b>'  ⇨  <i>['james_smith']</i>"
      ],
      "text/plain": [
       "<IPython.core.display.HTML object>"
      ]
     },
     "metadata": {},
     "output_type": "display_data"
    },
    {
     "data": {
      "text/html": [
       "'<b>austin_cook</b>'  ⇨  <i>['justin_cook']</i>"
      ],
      "text/plain": [
       "<IPython.core.display.HTML object>"
      ]
     },
     "metadata": {},
     "output_type": "display_data"
    },
    {
     "data": {
      "text/html": [
       "'<b>john_prince</b>'  ⇨  <i>['john_price']</i>"
      ],
      "text/plain": [
       "<IPython.core.display.HTML object>"
      ]
     },
     "metadata": {},
     "output_type": "display_data"
    },
    {
     "data": {
      "text/html": [
       "'<b>jamie_smith</b>'  ⇨  <i>['james_smith']</i>"
      ],
      "text/plain": [
       "<IPython.core.display.HTML object>"
      ]
     },
     "metadata": {},
     "output_type": "display_data"
    },
    {
     "data": {
      "text/html": [
       "'<b>oscar_thomas</b>'  ⇨  <i>['thomas_thomas']</i>"
      ],
      "text/plain": [
       "<IPython.core.display.HTML object>"
      ]
     },
     "metadata": {},
     "output_type": "display_data"
    },
    {
     "data": {
      "text/html": [
       "'<b>michael_gonzalez</b>'  ⇨  <i>['michele_gonzalez']</i>"
      ],
      "text/plain": [
       "<IPython.core.display.HTML object>"
      ]
     },
     "metadata": {},
     "output_type": "display_data"
    },
    {
     "data": {
      "text/html": [
       "'<b>sarah_thomas</b>'  ⇨  <i>['thomas_thomas']</i>"
      ],
      "text/plain": [
       "<IPython.core.display.HTML object>"
      ]
     },
     "metadata": {},
     "output_type": "display_data"
    },
    {
     "data": {
      "text/html": [
       "'<b>thomas_brady</b>'  ⇨  <i>['thomas_thomas']</i>"
      ],
      "text/plain": [
       "<IPython.core.display.HTML object>"
      ]
     },
     "metadata": {},
     "output_type": "display_data"
    },
    {
     "data": {
      "text/html": [
       "'<b>thomas_miller_jr</b>'  ⇨  <i>['thomas_thomas']</i>"
      ],
      "text/plain": [
       "<IPython.core.display.HTML object>"
      ]
     },
     "metadata": {},
     "output_type": "display_data"
    },
    {
     "data": {
      "text/html": [
       "'<b>michael_smith</b>'  ⇨  <i>['micheal_smith']</i>"
      ],
      "text/plain": [
       "<IPython.core.display.HTML object>"
      ]
     },
     "metadata": {},
     "output_type": "display_data"
    },
    {
     "data": {
      "text/html": [
       "'<b>thomas_cooper</b>'  ⇨  <i>['thomas_thomas']</i>"
      ],
      "text/plain": [
       "<IPython.core.display.HTML object>"
      ]
     },
     "metadata": {},
     "output_type": "display_data"
    },
    {
     "data": {
      "text/html": [
       "'<b>stephanie_jones</b>'  ⇨  <i>['stephanie_montes']</i>"
      ],
      "text/plain": [
       "<IPython.core.display.HTML object>"
      ]
     },
     "metadata": {},
     "output_type": "display_data"
    },
    {
     "data": {
      "text/html": [
       "'<b>courtney_williams</b>'  ⇨  <i>['courtney_willis']</i>"
      ],
      "text/plain": [
       "<IPython.core.display.HTML object>"
      ]
     },
     "metadata": {},
     "output_type": "display_data"
    },
    {
     "data": {
      "text/html": [
       "'<b>lauren_williams</b>'  ⇨  <i>['laura_williams', 'karen_williams']</i>"
      ],
      "text/plain": [
       "<IPython.core.display.HTML object>"
      ]
     },
     "metadata": {},
     "output_type": "display_data"
    },
    {
     "data": {
      "text/html": [
       "'<b>austin_taylor</b>'  ⇨  <i>['dustin_taylor']</i>"
      ],
      "text/plain": [
       "<IPython.core.display.HTML object>"
      ]
     },
     "metadata": {},
     "output_type": "display_data"
    },
    {
     "data": {
      "text/html": [
       "'<b>jennifer_jenkins</b>'  ⇨  <i>['jennifer_jennings']</i>"
      ],
      "text/plain": [
       "<IPython.core.display.HTML object>"
      ]
     },
     "metadata": {},
     "output_type": "display_data"
    },
    {
     "data": {
      "text/html": [
       "'<b>christopher_moore</b>'  ⇨  <i>['christopher_moreno']</i>"
      ],
      "text/plain": [
       "<IPython.core.display.HTML object>"
      ]
     },
     "metadata": {},
     "output_type": "display_data"
    },
    {
     "data": {
      "text/html": [
       "'<b>mrs_stephanie_hunt_md</b>'  ⇨  <i>['stephanie_hunt']</i>"
      ],
      "text/plain": [
       "<IPython.core.display.HTML object>"
      ]
     },
     "metadata": {},
     "output_type": "display_data"
    },
    {
     "data": {
      "text/html": [
       "'<b>sarah_smith</b>'  ⇨  <i>['sara_smith']</i>"
      ],
      "text/plain": [
       "<IPython.core.display.HTML object>"
      ]
     },
     "metadata": {},
     "output_type": "display_data"
    },
    {
     "data": {
      "text/html": [
       "'<b>thomas_diaz</b>'  ⇨  <i>['thomas_thomas']</i>"
      ],
      "text/plain": [
       "<IPython.core.display.HTML object>"
      ]
     },
     "metadata": {},
     "output_type": "display_data"
    },
    {
     "data": {
      "text/html": [
       "'<b>jason_hernandez</b>'  ⇨  <i>['jean_hernandez']</i>"
      ],
      "text/plain": [
       "<IPython.core.display.HTML object>"
      ]
     },
     "metadata": {},
     "output_type": "display_data"
    },
    {
     "data": {
      "text/html": [
       "'<b>thomas_wilson</b>'  ⇨  <i>['thomas_thomas']</i>"
      ],
      "text/plain": [
       "<IPython.core.display.HTML object>"
      ]
     },
     "metadata": {},
     "output_type": "display_data"
    },
    {
     "data": {
      "text/html": [
       "'<b>brian_richards</b>'  ⇨  <i>['brian_richardson']</i>"
      ],
      "text/plain": [
       "<IPython.core.display.HTML object>"
      ]
     },
     "metadata": {},
     "output_type": "display_data"
    },
    {
     "data": {
      "text/html": [
       "'<b>ricky_baker</b>'  ⇨  <i>['ricky_blake']</i>"
      ],
      "text/plain": [
       "<IPython.core.display.HTML object>"
      ]
     },
     "metadata": {},
     "output_type": "display_data"
    },
    {
     "data": {
      "text/html": [
       "'<b>thomas_martin</b>'  ⇨  <i>['thomas_thomas']</i>"
      ],
      "text/plain": [
       "<IPython.core.display.HTML object>"
      ]
     },
     "metadata": {},
     "output_type": "display_data"
    },
    {
     "data": {
      "text/html": [
       "'<b>kristen_jackson</b>'  ⇨  <i>['kristin_jackson']</i>"
      ],
      "text/plain": [
       "<IPython.core.display.HTML object>"
      ]
     },
     "metadata": {},
     "output_type": "display_data"
    },
    {
     "data": {
      "text/html": [
       "'<b>gary_walters</b>'  ⇨  <i>['mary_walters']</i>"
      ],
      "text/plain": [
       "<IPython.core.display.HTML object>"
      ]
     },
     "metadata": {},
     "output_type": "display_data"
    },
    {
     "data": {
      "text/html": [
       "'<b>christopher_malone</b>'  ⇨  <i>['christopher_mason']</i>"
      ],
      "text/plain": [
       "<IPython.core.display.HTML object>"
      ]
     },
     "metadata": {},
     "output_type": "display_data"
    },
    {
     "data": {
      "text/html": [
       "'<b>brandon_thomas</b>'  ⇨  <i>['thomas_thomas']</i>"
      ],
      "text/plain": [
       "<IPython.core.display.HTML object>"
      ]
     },
     "metadata": {},
     "output_type": "display_data"
    },
    {
     "data": {
      "text/html": [
       "'<b>elizabeth_young</b>'  ⇨  <i>['beth_young']</i>"
      ],
      "text/plain": [
       "<IPython.core.display.HTML object>"
      ]
     },
     "metadata": {},
     "output_type": "display_data"
    },
    {
     "data": {
      "text/html": [
       "'<b>gina_smith</b>'  ⇨  <i>['tina_smith']</i>"
      ],
      "text/plain": [
       "<IPython.core.display.HTML object>"
      ]
     },
     "metadata": {},
     "output_type": "display_data"
    },
    {
     "data": {
      "text/html": [
       "'<b>victoria_francis</b>'  ⇨  <i>['victoria_franco']</i>"
      ],
      "text/plain": [
       "<IPython.core.display.HTML object>"
      ]
     },
     "metadata": {},
     "output_type": "display_data"
    },
    {
     "data": {
      "text/html": [
       "'<b>james_gross</b>'  ⇨  <i>['james_ross']</i>"
      ],
      "text/plain": [
       "<IPython.core.display.HTML object>"
      ]
     },
     "metadata": {},
     "output_type": "display_data"
    },
    {
     "data": {
      "text/html": [
       "'<b>maria_williams</b>'  ⇨  <i>['martin_williams']</i>"
      ],
      "text/plain": [
       "<IPython.core.display.HTML object>"
      ]
     },
     "metadata": {},
     "output_type": "display_data"
    },
    {
     "data": {
      "text/html": [
       "'<b>thomas_orr</b>'  ⇨  <i>['thomas_thomas']</i>"
      ],
      "text/plain": [
       "<IPython.core.display.HTML object>"
      ]
     },
     "metadata": {},
     "output_type": "display_data"
    },
    {
     "data": {
      "text/html": [
       "'<b>jason_berry</b>'  ⇨  <i>['jason_perry']</i>"
      ],
      "text/plain": [
       "<IPython.core.display.HTML object>"
      ]
     },
     "metadata": {},
     "output_type": "display_data"
    },
    {
     "data": {
      "text/html": [
       "'<b>jeremy_richardson</b>'  ⇨  <i>['jeffrey_richardson']</i>"
      ],
      "text/plain": [
       "<IPython.core.display.HTML object>"
      ]
     },
     "metadata": {},
     "output_type": "display_data"
    },
    {
     "data": {
      "text/html": [
       "'<b>laura_olsen</b>'  ⇨  <i>['laura_olson']</i>"
      ],
      "text/plain": [
       "<IPython.core.display.HTML object>"
      ]
     },
     "metadata": {},
     "output_type": "display_data"
    },
    {
     "data": {
      "text/html": [
       "'<b>melissa_williams</b>'  ⇨  <i>['lisa_williams']</i>"
      ],
      "text/plain": [
       "<IPython.core.display.HTML object>"
      ]
     },
     "metadata": {},
     "output_type": "display_data"
    },
    {
     "data": {
      "text/html": [
       "'<b>angel_miller</b>'  ⇨  <i>['angela_miller']</i>"
      ],
      "text/plain": [
       "<IPython.core.display.HTML object>"
      ]
     },
     "metadata": {},
     "output_type": "display_data"
    },
    {
     "data": {
      "text/html": [
       "'<b>christopher_thomas</b>'  ⇨  <i>['thomas_thomas']</i>"
      ],
      "text/plain": [
       "<IPython.core.display.HTML object>"
      ]
     },
     "metadata": {},
     "output_type": "display_data"
    },
    {
     "data": {
      "text/html": [
       "'<b>casey_jackson</b>'  ⇨  <i>['chase_jackson']</i>"
      ],
      "text/plain": [
       "<IPython.core.display.HTML object>"
      ]
     },
     "metadata": {},
     "output_type": "display_data"
    },
    {
     "data": {
      "text/html": [
       "'<b>mitchell_smith</b>'  ⇨  <i>['michelle_smith']</i>"
      ],
      "text/plain": [
       "<IPython.core.display.HTML object>"
      ]
     },
     "metadata": {},
     "output_type": "display_data"
    },
    {
     "data": {
      "text/html": [
       "'<b>michael_mora</b>'  ⇨  <i>['michael_moran']</i>"
      ],
      "text/plain": [
       "<IPython.core.display.HTML object>"
      ]
     },
     "metadata": {},
     "output_type": "display_data"
    },
    {
     "data": {
      "text/html": [
       "'<b>michaela_ellis</b>'  ⇨  <i>['michael_ellis']</i>"
      ],
      "text/plain": [
       "<IPython.core.display.HTML object>"
      ]
     },
     "metadata": {},
     "output_type": "display_data"
    },
    {
     "data": {
      "text/html": [
       "'<b>christina_parsons</b>'  ⇨  <i>['christina_larson']</i>"
      ],
      "text/plain": [
       "<IPython.core.display.HTML object>"
      ]
     },
     "metadata": {},
     "output_type": "display_data"
    },
    {
     "data": {
      "text/html": [
       "'<b>katherine_price</b>'  ⇨  <i>['katherine_rice']</i>"
      ],
      "text/plain": [
       "<IPython.core.display.HTML object>"
      ]
     },
     "metadata": {},
     "output_type": "display_data"
    },
    {
     "data": {
      "text/html": [
       "'<b>hannah_smith</b>'  ⇨  <i>['anna_smith']</i>"
      ],
      "text/plain": [
       "<IPython.core.display.HTML object>"
      ]
     },
     "metadata": {},
     "output_type": "display_data"
    },
    {
     "data": {
      "text/html": [
       "'<b>thomas_dominguez</b>'  ⇨  <i>['thomas_thomas']</i>"
      ],
      "text/plain": [
       "<IPython.core.display.HTML object>"
      ]
     },
     "metadata": {},
     "output_type": "display_data"
    },
    {
     "data": {
      "text/html": [
       "'<b>ann_davis</b>'  ⇨  <i>['anna_davis']</i>"
      ],
      "text/plain": [
       "<IPython.core.display.HTML object>"
      ]
     },
     "metadata": {},
     "output_type": "display_data"
    },
    {
     "data": {
      "text/html": [
       "'<b>joseph_bowen</b>'  ⇨  <i>['joseph_owen']</i>"
      ],
      "text/plain": [
       "<IPython.core.display.HTML object>"
      ]
     },
     "metadata": {},
     "output_type": "display_data"
    },
    {
     "data": {
      "text/html": [
       "'<b>jamie_stewart</b>'  ⇨  <i>['jasmine_stewart']</i>"
      ],
      "text/plain": [
       "<IPython.core.display.HTML object>"
      ]
     },
     "metadata": {},
     "output_type": "display_data"
    },
    {
     "data": {
      "text/html": [
       "'<b>cynthia_thomas</b>'  ⇨  <i>['thomas_thomas']</i>"
      ],
      "text/plain": [
       "<IPython.core.display.HTML object>"
      ]
     },
     "metadata": {},
     "output_type": "display_data"
    },
    {
     "data": {
      "text/html": [
       "'<b>lisa_casey</b>'  ⇨  <i>['lisa_case']</i>"
      ],
      "text/plain": [
       "<IPython.core.display.HTML object>"
      ]
     },
     "metadata": {},
     "output_type": "display_data"
    },
    {
     "data": {
      "text/html": [
       "'<b>mary_maldonado</b>'  ⇨  <i>['mark_maldonado']</i>"
      ],
      "text/plain": [
       "<IPython.core.display.HTML object>"
      ]
     },
     "metadata": {},
     "output_type": "display_data"
    },
    {
     "data": {
      "text/html": [
       "'<b>mark_lewis</b>'  ⇨  <i>['mary_lewis']</i>"
      ],
      "text/plain": [
       "<IPython.core.display.HTML object>"
      ]
     },
     "metadata": {},
     "output_type": "display_data"
    },
    {
     "data": {
      "text/html": [
       "'<b>lee_lewis</b>'  ⇨  <i>['lee_le']</i>"
      ],
      "text/plain": [
       "<IPython.core.display.HTML object>"
      ]
     },
     "metadata": {},
     "output_type": "display_data"
    },
    {
     "data": {
      "text/html": [
       "'<b>william_jones_md</b>'  ⇨  <i>['william_jones']</i>"
      ],
      "text/plain": [
       "<IPython.core.display.HTML object>"
      ]
     },
     "metadata": {},
     "output_type": "display_data"
    },
    {
     "data": {
      "text/html": [
       "'<b>mark_thomas</b>'  ⇨  <i>['thomas_thomas']</i>"
      ],
      "text/plain": [
       "<IPython.core.display.HTML object>"
      ]
     },
     "metadata": {},
     "output_type": "display_data"
    },
    {
     "data": {
      "text/html": [
       "'<b>benjamin_anderson</b>'  ⇨  <i>['benjamin_henderson']</i>"
      ],
      "text/plain": [
       "<IPython.core.display.HTML object>"
      ]
     },
     "metadata": {},
     "output_type": "display_data"
    },
    {
     "data": {
      "text/html": [
       "'<b>shawn_martinez</b>'  ⇨  <i>['shawn_martin']</i>"
      ],
      "text/plain": [
       "<IPython.core.display.HTML object>"
      ]
     },
     "metadata": {},
     "output_type": "display_data"
    },
    {
     "data": {
      "text/html": [
       "'<b>scott_thomas</b>'  ⇨  <i>['thomas_thomas']</i>"
      ],
      "text/plain": [
       "<IPython.core.display.HTML object>"
      ]
     },
     "metadata": {},
     "output_type": "display_data"
    },
    {
     "data": {
      "text/html": [
       "'<b>thomas_murray</b>'  ⇨  <i>['thomas_thomas']</i>"
      ],
      "text/plain": [
       "<IPython.core.display.HTML object>"
      ]
     },
     "metadata": {},
     "output_type": "display_data"
    },
    {
     "data": {
      "text/html": [
       "'<b>sarah_williamson</b>'  ⇨  <i>['sarah_williams']</i>"
      ],
      "text/plain": [
       "<IPython.core.display.HTML object>"
      ]
     },
     "metadata": {},
     "output_type": "display_data"
    },
    {
     "data": {
      "text/html": [
       "'<b>ashley_martin</b>'  ⇨  <i>['ashley_martinez']</i>"
      ],
      "text/plain": [
       "<IPython.core.display.HTML object>"
      ]
     },
     "metadata": {},
     "output_type": "display_data"
    },
    {
     "data": {
      "text/html": [
       "'<b>johnny_ortega</b>'  ⇨  <i>['john_ortega']</i>"
      ],
      "text/plain": [
       "<IPython.core.display.HTML object>"
      ]
     },
     "metadata": {},
     "output_type": "display_data"
    },
    {
     "data": {
      "text/html": [
       "'<b>denise_thomas</b>'  ⇨  <i>['thomas_thomas']</i>"
      ],
      "text/plain": [
       "<IPython.core.display.HTML object>"
      ]
     },
     "metadata": {},
     "output_type": "display_data"
    },
    {
     "data": {
      "text/html": [
       "'<b>victoria_lee</b>'  ⇨  <i>['victoria_le']</i>"
      ],
      "text/plain": [
       "<IPython.core.display.HTML object>"
      ]
     },
     "metadata": {},
     "output_type": "display_data"
    },
    {
     "data": {
      "text/html": [
       "'<b>jeffery_miller</b>'  ⇨  <i>['jeffrey_miller']</i>"
      ],
      "text/plain": [
       "<IPython.core.display.HTML object>"
      ]
     },
     "metadata": {},
     "output_type": "display_data"
    },
    {
     "data": {
      "text/html": [
       "'<b>amy_williams</b>'  ⇨  <i>['amy_williamson']</i>"
      ],
      "text/plain": [
       "<IPython.core.display.HTML object>"
      ]
     },
     "metadata": {},
     "output_type": "display_data"
    },
    {
     "data": {
      "text/html": [
       "'<b>brandi_bentley</b>'  ⇨  <i>['brad_bentley']</i>"
      ],
      "text/plain": [
       "<IPython.core.display.HTML object>"
      ]
     },
     "metadata": {},
     "output_type": "display_data"
    },
    {
     "data": {
      "text/html": [
       "'<b>jacqueline_thomas</b>'  ⇨  <i>['thomas_thomas']</i>"
      ],
      "text/plain": [
       "<IPython.core.display.HTML object>"
      ]
     },
     "metadata": {},
     "output_type": "display_data"
    },
    {
     "data": {
      "text/html": [
       "'<b>andre_williams</b>'  ⇨  <i>['andrea_williams']</i>"
      ],
      "text/plain": [
       "<IPython.core.display.HTML object>"
      ]
     },
     "metadata": {},
     "output_type": "display_data"
    },
    {
     "data": {
      "text/html": [
       "'<b>steve_johnston</b>'  ⇨  <i>['steven_johnson']</i>"
      ],
      "text/plain": [
       "<IPython.core.display.HTML object>"
      ]
     },
     "metadata": {},
     "output_type": "display_data"
    },
    {
     "data": {
      "text/html": [
       "'<b>laurie_miller</b>'  ⇨  <i>['lauren_miller']</i>"
      ],
      "text/plain": [
       "<IPython.core.display.HTML object>"
      ]
     },
     "metadata": {},
     "output_type": "display_data"
    },
    {
     "data": {
      "text/html": [
       "'<b>william_paul</b>'  ⇨  <i>['paul_williams']</i>"
      ],
      "text/plain": [
       "<IPython.core.display.HTML object>"
      ]
     },
     "metadata": {},
     "output_type": "display_data"
    },
    {
     "data": {
      "text/html": [
       "'<b>kristina_jones</b>'  ⇨  <i>['christina_jones']</i>"
      ],
      "text/plain": [
       "<IPython.core.display.HTML object>"
      ]
     },
     "metadata": {},
     "output_type": "display_data"
    },
    {
     "data": {
      "text/html": [
       "'<b>bryan_ryan</b>'  ⇨  <i>['bryan_tran']</i>"
      ],
      "text/plain": [
       "<IPython.core.display.HTML object>"
      ]
     },
     "metadata": {},
     "output_type": "display_data"
    },
    {
     "data": {
      "text/html": [
       "'<b>megan_williams</b>'  ⇨  <i>['meghan_williams']</i>"
      ],
      "text/plain": [
       "<IPython.core.display.HTML object>"
      ]
     },
     "metadata": {},
     "output_type": "display_data"
    },
    {
     "data": {
      "text/html": [
       "'<b>david_shah</b>'  ⇨  <i>['david_shaw']</i>"
      ],
      "text/plain": [
       "<IPython.core.display.HTML object>"
      ]
     },
     "metadata": {},
     "output_type": "display_data"
    },
    {
     "data": {
      "text/html": [
       "'<b>thomas_allen</b>'  ⇨  <i>['thomas_thomas']</i>"
      ],
      "text/plain": [
       "<IPython.core.display.HTML object>"
      ]
     },
     "metadata": {},
     "output_type": "display_data"
    },
    {
     "data": {
      "text/html": [
       "'<b>michael_stevenson</b>'  ⇨  <i>['michelle_stevenson']</i>"
      ],
      "text/plain": [
       "<IPython.core.display.HTML object>"
      ]
     },
     "metadata": {},
     "output_type": "display_data"
    },
    {
     "data": {
      "text/html": [
       "'<b>tamara_thomas</b>'  ⇨  <i>['thomas_thomas']</i>"
      ],
      "text/plain": [
       "<IPython.core.display.HTML object>"
      ]
     },
     "metadata": {},
     "output_type": "display_data"
    },
    {
     "data": {
      "text/html": [
       "'<b>thomas_wolfe</b>'  ⇨  <i>['thomas_thomas']</i>"
      ],
      "text/plain": [
       "<IPython.core.display.HTML object>"
      ]
     },
     "metadata": {},
     "output_type": "display_data"
    },
    {
     "data": {
      "text/html": [
       "'<b>debra_williams</b>'  ⇨  <i>['deborah_williams']</i>"
      ],
      "text/plain": [
       "<IPython.core.display.HTML object>"
      ]
     },
     "metadata": {},
     "output_type": "display_data"
    },
    {
     "data": {
      "text/html": [
       "'<b>john_bradley_dvm</b>'  ⇨  <i>['john_bradley']</i>"
      ],
      "text/plain": [
       "<IPython.core.display.HTML object>"
      ]
     },
     "metadata": {},
     "output_type": "display_data"
    },
    {
     "data": {
      "text/html": [
       "'<b>kathleen_chase</b>'  ⇨  <i>['kathleen_case']</i>"
      ],
      "text/plain": [
       "<IPython.core.display.HTML object>"
      ]
     },
     "metadata": {},
     "output_type": "display_data"
    },
    {
     "data": {
      "text/html": [
       "'<b>michael_martinez</b>'  ⇨  <i>['michaela_martinez']</i>"
      ],
      "text/plain": [
       "<IPython.core.display.HTML object>"
      ]
     },
     "metadata": {},
     "output_type": "display_data"
    },
    {
     "data": {
      "text/html": [
       "'<b>amanda_fitzgerald</b>'  ⇨  <i>['miranda_fitzgerald']</i>"
      ],
      "text/plain": [
       "<IPython.core.display.HTML object>"
      ]
     },
     "metadata": {},
     "output_type": "display_data"
    },
    {
     "data": {
      "text/html": [
       "'<b>michelle_williams</b>'  ⇨  <i>['michael_williams']</i>"
      ],
      "text/plain": [
       "<IPython.core.display.HTML object>"
      ]
     },
     "metadata": {},
     "output_type": "display_data"
    },
    {
     "data": {
      "text/html": [
       "'<b>alexandra_wood</b>'  ⇨  <i>['alexandra_moody']</i>"
      ],
      "text/plain": [
       "<IPython.core.display.HTML object>"
      ]
     },
     "metadata": {},
     "output_type": "display_data"
    },
    {
     "data": {
      "text/html": [
       "'<b>andrew_wong</b>'  ⇨  <i>['andrew_long']</i>"
      ],
      "text/plain": [
       "<IPython.core.display.HTML object>"
      ]
     },
     "metadata": {},
     "output_type": "display_data"
    },
    {
     "data": {
      "text/html": [
       "'<b>rickey_smith</b>'  ⇨  <i>['ricky_smith']</i>"
      ],
      "text/plain": [
       "<IPython.core.display.HTML object>"
      ]
     },
     "metadata": {},
     "output_type": "display_data"
    },
    {
     "data": {
      "text/html": [
       "'<b>alexandra_thomas</b>'  ⇨  <i>['thomas_thomas']</i>"
      ],
      "text/plain": [
       "<IPython.core.display.HTML object>"
      ]
     },
     "metadata": {},
     "output_type": "display_data"
    },
    {
     "data": {
      "text/html": [
       "'<b>melinda_carter</b>'  ⇨  <i>['melinda_cabrera']</i>"
      ],
      "text/plain": [
       "<IPython.core.display.HTML object>"
      ]
     },
     "metadata": {},
     "output_type": "display_data"
    },
    {
     "data": {
      "text/html": [
       "'<b>michelle_fisher</b>'  ⇨  <i>['michael_fisher']</i>"
      ],
      "text/plain": [
       "<IPython.core.display.HTML object>"
      ]
     },
     "metadata": {},
     "output_type": "display_data"
    },
    {
     "data": {
      "text/html": [
       "'<b>thomas_bullock</b>'  ⇨  <i>['thomas_thomas']</i>"
      ],
      "text/plain": [
       "<IPython.core.display.HTML object>"
      ]
     },
     "metadata": {},
     "output_type": "display_data"
    },
    {
     "data": {
      "text/html": [
       "'<b>matthew_carter</b>'  ⇨  <i>['matthew_carr']</i>"
      ],
      "text/plain": [
       "<IPython.core.display.HTML object>"
      ]
     },
     "metadata": {},
     "output_type": "display_data"
    },
    {
     "data": {
      "text/html": [
       "'<b>lori_walker</b>'  ⇨  <i>['lori_walter']</i>"
      ],
      "text/plain": [
       "<IPython.core.display.HTML object>"
      ]
     },
     "metadata": {},
     "output_type": "display_data"
    },
    {
     "data": {
      "text/html": [
       "'<b>daniel_jones_jr</b>'  ⇨  <i>['daniel_jones']</i>"
      ],
      "text/plain": [
       "<IPython.core.display.HTML object>"
      ]
     },
     "metadata": {},
     "output_type": "display_data"
    },
    {
     "data": {
      "text/html": [
       "'<b>thomas_reyes</b>'  ⇨  <i>['thomas_thomas']</i>"
      ],
      "text/plain": [
       "<IPython.core.display.HTML object>"
      ]
     },
     "metadata": {},
     "output_type": "display_data"
    },
    {
     "data": {
      "text/html": [
       "'<b>steven_campbell</b>'  ⇨  <i>['stephen_campbell']</i>"
      ],
      "text/plain": [
       "<IPython.core.display.HTML object>"
      ]
     },
     "metadata": {},
     "output_type": "display_data"
    },
    {
     "data": {
      "text/html": [
       "'<b>lisa_martin</b>'  ⇨  <i>['lisa_martinez']</i>"
      ],
      "text/plain": [
       "<IPython.core.display.HTML object>"
      ]
     },
     "metadata": {},
     "output_type": "display_data"
    },
    {
     "data": {
      "text/html": [
       "'<b>christopher_roberts</b>'  ⇨  <i>['christopher_robertson']</i>"
      ],
      "text/plain": [
       "<IPython.core.display.HTML object>"
      ]
     },
     "metadata": {},
     "output_type": "display_data"
    },
    {
     "data": {
      "text/html": [
       "'<b>cody_montgomery</b>'  ⇨  <i>['joy_montgomery']</i>"
      ],
      "text/plain": [
       "<IPython.core.display.HTML object>"
      ]
     },
     "metadata": {},
     "output_type": "display_data"
    },
    {
     "data": {
      "text/html": [
       "'<b>mark_white</b>'  ⇨  <i>['mark_whitney', 'mary_white']</i>"
      ],
      "text/plain": [
       "<IPython.core.display.HTML object>"
      ]
     },
     "metadata": {},
     "output_type": "display_data"
    },
    {
     "data": {
      "text/html": [
       "'<b>philip_williams</b>'  ⇨  <i>['phillip_williams']</i>"
      ],
      "text/plain": [
       "<IPython.core.display.HTML object>"
      ]
     },
     "metadata": {},
     "output_type": "display_data"
    },
    {
     "data": {
      "text/html": [
       "'<b>christopher_gonzalez</b>'  ⇨  <i>['christopher_gonzales']</i>"
      ],
      "text/plain": [
       "<IPython.core.display.HTML object>"
      ]
     },
     "metadata": {},
     "output_type": "display_data"
    },
    {
     "data": {
      "text/html": [
       "'<b>vicki_ray</b>'  ⇨  <i>['vicki_gray']</i>"
      ],
      "text/plain": [
       "<IPython.core.display.HTML object>"
      ]
     },
     "metadata": {},
     "output_type": "display_data"
    },
    {
     "data": {
      "text/html": [
       "'<b>christopher_love</b>'  ⇨  <i>['christopher_lopez']</i>"
      ],
      "text/plain": [
       "<IPython.core.display.HTML object>"
      ]
     },
     "metadata": {},
     "output_type": "display_data"
    },
    {
     "data": {
      "text/html": [
       "'<b>lisa_miller</b>'  ⇨  <i>['luis_miller']</i>"
      ],
      "text/plain": [
       "<IPython.core.display.HTML object>"
      ]
     },
     "metadata": {},
     "output_type": "display_data"
    },
    {
     "data": {
      "text/html": [
       "'<b>debra_thomas</b>'  ⇨  <i>['thomas_thomas']</i>"
      ],
      "text/plain": [
       "<IPython.core.display.HTML object>"
      ]
     },
     "metadata": {},
     "output_type": "display_data"
    },
    {
     "data": {
      "text/html": [
       "'<b>thomas_hill</b>'  ⇨  <i>['thomas_thomas']</i>"
      ],
      "text/plain": [
       "<IPython.core.display.HTML object>"
      ]
     },
     "metadata": {},
     "output_type": "display_data"
    },
    {
     "data": {
      "text/html": [
       "'<b>jonathan_henderson</b>'  ⇨  <i>['jonathan_henson']</i>"
      ],
      "text/plain": [
       "<IPython.core.display.HTML object>"
      ]
     },
     "metadata": {},
     "output_type": "display_data"
    },
    {
     "data": {
      "text/html": [
       "'<b>thomas_willis</b>'  ⇨  <i>['thomas_thomas']</i>"
      ],
      "text/plain": [
       "<IPython.core.display.HTML object>"
      ]
     },
     "metadata": {},
     "output_type": "display_data"
    },
    {
     "data": {
      "text/html": [
       "'<b>stacy_thomas</b>'  ⇨  <i>['thomas_thomas']</i>"
      ],
      "text/plain": [
       "<IPython.core.display.HTML object>"
      ]
     },
     "metadata": {},
     "output_type": "display_data"
    },
    {
     "data": {
      "text/html": [
       "'<b>james_ryan</b>'  ⇨  <i>['bryan_james']</i>"
      ],
      "text/plain": [
       "<IPython.core.display.HTML object>"
      ]
     },
     "metadata": {},
     "output_type": "display_data"
    },
    {
     "data": {
      "text/html": [
       "'<b>thomas_hernandez</b>'  ⇨  <i>['thomas_thomas']</i>"
      ],
      "text/plain": [
       "<IPython.core.display.HTML object>"
      ]
     },
     "metadata": {},
     "output_type": "display_data"
    },
    {
     "data": {
      "text/html": [
       "'<b>jessica_whitaker</b>'  ⇨  <i>['jessica_white']</i>"
      ],
      "text/plain": [
       "<IPython.core.display.HTML object>"
      ]
     },
     "metadata": {},
     "output_type": "display_data"
    },
    {
     "data": {
      "text/html": [
       "'<b>kara_campbell</b>'  ⇨  <i>['katrina_campbell']</i>"
      ],
      "text/plain": [
       "<IPython.core.display.HTML object>"
      ]
     },
     "metadata": {},
     "output_type": "display_data"
    },
    {
     "data": {
      "text/html": [
       "'<b>jamie_gomez</b>'  ⇨  <i>['james_gomez']</i>"
      ],
      "text/plain": [
       "<IPython.core.display.HTML object>"
      ]
     },
     "metadata": {},
     "output_type": "display_data"
    },
    {
     "data": {
      "text/html": [
       "'<b>michele_phillips</b>'  ⇨  <i>['michael_phillips']</i>"
      ],
      "text/plain": [
       "<IPython.core.display.HTML object>"
      ]
     },
     "metadata": {},
     "output_type": "display_data"
    },
    {
     "data": {
      "text/html": [
       "'<b>thomas_yang</b>'  ⇨  <i>['thomas_thomas']</i>"
      ],
      "text/plain": [
       "<IPython.core.display.HTML object>"
      ]
     },
     "metadata": {},
     "output_type": "display_data"
    },
    {
     "data": {
      "text/html": [
       "'<b>tammy_thomas</b>'  ⇨  <i>['thomas_thomas']</i>"
      ],
      "text/plain": [
       "<IPython.core.display.HTML object>"
      ]
     },
     "metadata": {},
     "output_type": "display_data"
    },
    {
     "data": {
      "text/html": [
       "'<b>evan_davis</b>'  ⇨  <i>['sean_davis']</i>"
      ],
      "text/plain": [
       "<IPython.core.display.HTML object>"
      ]
     },
     "metadata": {},
     "output_type": "display_data"
    },
    {
     "data": {
      "text/html": [
       "'<b>derrick_williams</b>'  ⇨  <i>['eric_williams']</i>"
      ],
      "text/plain": [
       "<IPython.core.display.HTML object>"
      ]
     },
     "metadata": {},
     "output_type": "display_data"
    },
    {
     "data": {
      "text/html": [
       "'<b>jessica_thomas</b>'  ⇨  <i>['thomas_thomas']</i>"
      ],
      "text/plain": [
       "<IPython.core.display.HTML object>"
      ]
     },
     "metadata": {},
     "output_type": "display_data"
    },
    {
     "data": {
      "text/html": [
       "'<b>clinton_thomas</b>'  ⇨  <i>['thomas_thomas']</i>"
      ],
      "text/plain": [
       "<IPython.core.display.HTML object>"
      ]
     },
     "metadata": {},
     "output_type": "display_data"
    },
    {
     "data": {
      "text/html": [
       "'<b>zoe_thomas</b>'  ⇨  <i>['thomas_thomas']</i>"
      ],
      "text/plain": [
       "<IPython.core.display.HTML object>"
      ]
     },
     "metadata": {},
     "output_type": "display_data"
    },
    {
     "data": {
      "text/html": [
       "'<b>thomas_knapp</b>'  ⇨  <i>['thomas_thomas']</i>"
      ],
      "text/plain": [
       "<IPython.core.display.HTML object>"
      ]
     },
     "metadata": {},
     "output_type": "display_data"
    },
    {
     "data": {
      "text/html": [
       "'<b>victoria_cole</b>'  ⇨  <i>['victoria_le']</i>"
      ],
      "text/plain": [
       "<IPython.core.display.HTML object>"
      ]
     },
     "metadata": {},
     "output_type": "display_data"
    },
    {
     "data": {
      "text/html": [
       "'<b>victoria_leon</b>'  ⇨  <i>['victoria_le']</i>"
      ],
      "text/plain": [
       "<IPython.core.display.HTML object>"
      ]
     },
     "metadata": {},
     "output_type": "display_data"
    },
    {
     "data": {
      "text/html": [
       "'<b>thomas_rhodes</b>'  ⇨  <i>['thomas_thomas']</i>"
      ],
      "text/plain": [
       "<IPython.core.display.HTML object>"
      ]
     },
     "metadata": {},
     "output_type": "display_data"
    },
    {
     "data": {
      "text/html": [
       "'<b>thomas_whitehead</b>'  ⇨  <i>['thomas_thomas']</i>"
      ],
      "text/plain": [
       "<IPython.core.display.HTML object>"
      ]
     },
     "metadata": {},
     "output_type": "display_data"
    },
    {
     "data": {
      "text/html": [
       "'<b>jennifer_williams</b>'  ⇨  <i>['jennifer_williamson']</i>"
      ],
      "text/plain": [
       "<IPython.core.display.HTML object>"
      ]
     },
     "metadata": {},
     "output_type": "display_data"
    },
    {
     "data": {
      "text/html": [
       "'<b>brent_thomas</b>'  ⇨  <i>['thomas_thomas']</i>"
      ],
      "text/plain": [
       "<IPython.core.display.HTML object>"
      ]
     },
     "metadata": {},
     "output_type": "display_data"
    },
    {
     "data": {
      "text/html": [
       "'<b>matthew_lin</b>'  ⇨  <i>['matthew_klein']</i>"
      ],
      "text/plain": [
       "<IPython.core.display.HTML object>"
      ]
     },
     "metadata": {},
     "output_type": "display_data"
    },
    {
     "data": {
      "text/html": [
       "'<b>thomas_adams</b>'  ⇨  <i>['thomas_thomas']</i>"
      ],
      "text/plain": [
       "<IPython.core.display.HTML object>"
      ]
     },
     "metadata": {},
     "output_type": "display_data"
    },
    {
     "data": {
      "text/html": [
       "'<b>janet_thomas</b>'  ⇨  <i>['thomas_thomas']</i>"
      ],
      "text/plain": [
       "<IPython.core.display.HTML object>"
      ]
     },
     "metadata": {},
     "output_type": "display_data"
    }
   ],
   "source": [
    "# Show implicit duplicates df_customers\n",
    "detect_implicit_duplicates_fuzzy(df_customers, 'customer_name')"
   ]
  },
  {
   "cell_type": "code",
   "execution_count": 113,
   "id": "315565a2",
   "metadata": {},
   "outputs": [
    {
     "name": "stderr",
     "output_type": "stream",
     "text": [
      "> Scanning for duplicates ...: 100%|██████████| 1972/1972 [00:18<00:00, 104.24it/s]\n"
     ]
    },
    {
     "data": {
      "text/html": [
       "> <i>Implicit duplicates</i> <b>detected</b>:"
      ],
      "text/plain": [
       "<IPython.core.display.HTML object>"
      ]
     },
     "metadata": {},
     "output_type": "display_data"
    },
    {
     "data": {
      "text/html": [
       "'<b>mark_miller</b>'  ⇨  <i>['mary_miller']</i>"
      ],
      "text/plain": [
       "<IPython.core.display.HTML object>"
      ]
     },
     "metadata": {},
     "output_type": "display_data"
    },
    {
     "data": {
      "text/html": [
       "'<b>mitchell_thomas</b>'  ⇨  <i>['michael_thomas']</i>"
      ],
      "text/plain": [
       "<IPython.core.display.HTML object>"
      ]
     },
     "metadata": {},
     "output_type": "display_data"
    },
    {
     "data": {
      "text/html": [
       "'<b>michelle_hernandez</b>'  ⇨  <i>['michael_hernandez']</i>"
      ],
      "text/plain": [
       "<IPython.core.display.HTML object>"
      ]
     },
     "metadata": {},
     "output_type": "display_data"
    },
    {
     "data": {
      "text/html": [
       "'<b>miranda_williams</b>'  ⇨  <i>['miranda_williamson']</i>"
      ],
      "text/plain": [
       "<IPython.core.display.HTML object>"
      ]
     },
     "metadata": {},
     "output_type": "display_data"
    },
    {
     "data": {
      "text/html": [
       "'<b>catherine_mills</b>'  ⇨  <i>['catherine_miller']</i>"
      ],
      "text/plain": [
       "<IPython.core.display.HTML object>"
      ]
     },
     "metadata": {},
     "output_type": "display_data"
    },
    {
     "data": {
      "text/html": [
       "'<b>juan_brown</b>'  ⇨  <i>['julian_brown']</i>"
      ],
      "text/plain": [
       "<IPython.core.display.HTML object>"
      ]
     },
     "metadata": {},
     "output_type": "display_data"
    },
    {
     "data": {
      "text/html": [
       "'<b>richard_williams</b>'  ⇨  <i>['chad_williams']</i>"
      ],
      "text/plain": [
       "<IPython.core.display.HTML object>"
      ]
     },
     "metadata": {},
     "output_type": "display_data"
    },
    {
     "data": {
      "text/html": [
       "'<b>james_park</b>'  ⇨  <i>['james_parker']</i>"
      ],
      "text/plain": [
       "<IPython.core.display.HTML object>"
      ]
     },
     "metadata": {},
     "output_type": "display_data"
    },
    {
     "data": {
      "text/html": [
       "'<b>roberto_fletcher</b>'  ⇨  <i>['robert_fletcher']</i>"
      ],
      "text/plain": [
       "<IPython.core.display.HTML object>"
      ]
     },
     "metadata": {},
     "output_type": "display_data"
    },
    {
     "data": {
      "text/html": [
       "'<b>richard_whitaker</b>'  ⇨  <i>['richard_white']</i>"
      ],
      "text/plain": [
       "<IPython.core.display.HTML object>"
      ]
     },
     "metadata": {},
     "output_type": "display_data"
    },
    {
     "data": {
      "text/html": [
       "'<b>christopher_jones</b>'  ⇨  <i>['mr_christopher_jones']</i>"
      ],
      "text/plain": [
       "<IPython.core.display.HTML object>"
      ]
     },
     "metadata": {},
     "output_type": "display_data"
    },
    {
     "data": {
      "text/html": [
       "'<b>samantha_knight</b>'  ⇨  <i>['samantha_mcknight']</i>"
      ],
      "text/plain": [
       "<IPython.core.display.HTML object>"
      ]
     },
     "metadata": {},
     "output_type": "display_data"
    },
    {
     "data": {
      "text/html": [
       "'<b>joshua_harrison</b>'  ⇨  <i>['joshua_harris']</i>"
      ],
      "text/plain": [
       "<IPython.core.display.HTML object>"
      ]
     },
     "metadata": {},
     "output_type": "display_data"
    },
    {
     "data": {
      "text/html": [
       "'<b>karl_clark</b>'  ⇨  <i>['carl_clark']</i>"
      ],
      "text/plain": [
       "<IPython.core.display.HTML object>"
      ]
     },
     "metadata": {},
     "output_type": "display_data"
    },
    {
     "data": {
      "text/html": [
       "'<b>patricia_martin</b>'  ⇨  <i>['patricia_martinez']</i>"
      ],
      "text/plain": [
       "<IPython.core.display.HTML object>"
      ]
     },
     "metadata": {},
     "output_type": "display_data"
    },
    {
     "data": {
      "text/html": [
       "'<b>brandi_baker</b>'  ⇨  <i>['brandy_baker']</i>"
      ],
      "text/plain": [
       "<IPython.core.display.HTML object>"
      ]
     },
     "metadata": {},
     "output_type": "display_data"
    },
    {
     "data": {
      "text/html": [
       "'<b>eric_harrison</b>'  ⇨  <i>['eric_harris']</i>"
      ],
      "text/plain": [
       "<IPython.core.display.HTML object>"
      ]
     },
     "metadata": {},
     "output_type": "display_data"
    },
    {
     "data": {
      "text/html": [
       "'<b>brian_king</b>'  ⇨  <i>['bryan_king']</i>"
      ],
      "text/plain": [
       "<IPython.core.display.HTML object>"
      ]
     },
     "metadata": {},
     "output_type": "display_data"
    },
    {
     "data": {
      "text/html": [
       "'<b>michael_williams</b>'  ⇨  <i>['michelle_williams']</i>"
      ],
      "text/plain": [
       "<IPython.core.display.HTML object>"
      ]
     },
     "metadata": {},
     "output_type": "display_data"
    },
    {
     "data": {
      "text/html": [
       "'<b>felicia_johnson</b>'  ⇨  <i>['alicia_johnson']</i>"
      ],
      "text/plain": [
       "<IPython.core.display.HTML object>"
      ]
     },
     "metadata": {},
     "output_type": "display_data"
    },
    {
     "data": {
      "text/html": [
       "'<b>matthew_anderson</b>'  ⇨  <i>['mathew_anderson']</i>"
      ],
      "text/plain": [
       "<IPython.core.display.HTML object>"
      ]
     },
     "metadata": {},
     "output_type": "display_data"
    },
    {
     "data": {
      "text/html": [
       "'<b>caitlin_cruz</b>'  ⇨  <i>['caitlin_ruiz']</i>"
      ],
      "text/plain": [
       "<IPython.core.display.HTML object>"
      ]
     },
     "metadata": {},
     "output_type": "display_data"
    },
    {
     "data": {
      "text/html": [
       "'<b>steven_gonzalez</b>'  ⇨  <i>['steven_gonzales']</i>"
      ],
      "text/plain": [
       "<IPython.core.display.HTML object>"
      ]
     },
     "metadata": {},
     "output_type": "display_data"
    },
    {
     "data": {
      "text/html": [
       "'<b>jay_miller</b>'  ⇨  <i>['amy_miller']</i>"
      ],
      "text/plain": [
       "<IPython.core.display.HTML object>"
      ]
     },
     "metadata": {},
     "output_type": "display_data"
    },
    {
     "data": {
      "text/html": [
       "'<b>kristen_wood</b>'  ⇨  <i>['kristen_good']</i>"
      ],
      "text/plain": [
       "<IPython.core.display.HTML object>"
      ]
     },
     "metadata": {},
     "output_type": "display_data"
    },
    {
     "data": {
      "text/html": [
       "'<b>mrs_tiffany_johnson</b>'  ⇨  <i>['tiffany_johnson']</i>"
      ],
      "text/plain": [
       "<IPython.core.display.HTML object>"
      ]
     },
     "metadata": {},
     "output_type": "display_data"
    },
    {
     "data": {
      "text/html": [
       "'<b>joseph_hood</b>'  ⇨  <i>['joseph_wood']</i>"
      ],
      "text/plain": [
       "<IPython.core.display.HTML object>"
      ]
     },
     "metadata": {},
     "output_type": "display_data"
    },
    {
     "data": {
      "text/html": [
       "'<b>danielle_lynch</b>'  ⇨  <i>['daniel_lynch']</i>"
      ],
      "text/plain": [
       "<IPython.core.display.HTML object>"
      ]
     },
     "metadata": {},
     "output_type": "display_data"
    },
    {
     "data": {
      "text/html": [
       "'<b>david_powell</b>'  ⇨  <i>['david_howell']</i>"
      ],
      "text/plain": [
       "<IPython.core.display.HTML object>"
      ]
     },
     "metadata": {},
     "output_type": "display_data"
    },
    {
     "data": {
      "text/html": [
       "'<b>gary_miller</b>'  ⇨  <i>['mary_miller']</i>"
      ],
      "text/plain": [
       "<IPython.core.display.HTML object>"
      ]
     },
     "metadata": {},
     "output_type": "display_data"
    },
    {
     "data": {
      "text/html": [
       "'<b>jason_campbell</b>'  ⇨  <i>['jon_campbell']</i>"
      ],
      "text/plain": [
       "<IPython.core.display.HTML object>"
      ]
     },
     "metadata": {},
     "output_type": "display_data"
    },
    {
     "data": {
      "text/html": [
       "'<b>heather_hill</b>'  ⇨  <i>['heather_hill_dds']</i>"
      ],
      "text/plain": [
       "<IPython.core.display.HTML object>"
      ]
     },
     "metadata": {},
     "output_type": "display_data"
    },
    {
     "data": {
      "text/html": [
       "'<b>anne_smith</b>'  ⇨  <i>['ann_smith']</i>"
      ],
      "text/plain": [
       "<IPython.core.display.HTML object>"
      ]
     },
     "metadata": {},
     "output_type": "display_data"
    },
    {
     "data": {
      "text/html": [
       "'<b>amy_johnson</b>'  ⇨  <i>['tammy_johnson']</i>"
      ],
      "text/plain": [
       "<IPython.core.display.HTML object>"
      ]
     },
     "metadata": {},
     "output_type": "display_data"
    },
    {
     "data": {
      "text/html": [
       "'<b>danielle_fox</b>'  ⇨  <i>['danielle_cox']</i>"
      ],
      "text/plain": [
       "<IPython.core.display.HTML object>"
      ]
     },
     "metadata": {},
     "output_type": "display_data"
    }
   ],
   "source": [
    "detect_implicit_duplicates_fuzzy(df_salesforce, 'employee_name')"
   ]
  },
  {
   "cell_type": "code",
   "execution_count": 114,
   "id": "62df35fb",
   "metadata": {},
   "outputs": [
    {
     "name": "stderr",
     "output_type": "stream",
     "text": [
      "> Scanning for duplicates ...: 100%|██████████| 1899/1899 [00:25<00:00, 75.94it/s]\n"
     ]
    },
    {
     "data": {
      "text/html": [
       "> <i>Implicit duplicates</i> <b>detected</b>:"
      ],
      "text/plain": [
       "<IPython.core.display.HTML object>"
      ]
     },
     "metadata": {},
     "output_type": "display_data"
    },
    {
     "data": {
      "text/html": [
       "'<b>harrison_ltd</b>'  ⇨  <i>['harris_ltd']</i>"
      ],
      "text/plain": [
       "<IPython.core.display.HTML object>"
      ]
     },
     "metadata": {},
     "output_type": "display_data"
    },
    {
     "data": {
      "text/html": [
       "'<b>pitts_and_sons</b>'  ⇨  <i>['pruitt_and_sons']</i>"
      ],
      "text/plain": [
       "<IPython.core.display.HTML object>"
      ]
     },
     "metadata": {},
     "output_type": "display_data"
    },
    {
     "data": {
      "text/html": [
       "'<b>hale_group</b>'  ⇨  <i>['hall_group']</i>"
      ],
      "text/plain": [
       "<IPython.core.display.HTML object>"
      ]
     },
     "metadata": {},
     "output_type": "display_data"
    },
    {
     "data": {
      "text/html": [
       "'<b>arias_and_sons</b>'  ⇨  <i>['garcia_and_sons']</i>"
      ],
      "text/plain": [
       "<IPython.core.display.HTML object>"
      ]
     },
     "metadata": {},
     "output_type": "display_data"
    },
    {
     "data": {
      "text/html": [
       "'<b>nelson_llc</b>'  ⇨  <i>['nelson_plc']</i>"
      ],
      "text/plain": [
       "<IPython.core.display.HTML object>"
      ]
     },
     "metadata": {},
     "output_type": "display_data"
    },
    {
     "data": {
      "text/html": [
       "'<b>walker_and_sons</b>'  ⇨  <i>['baker_and_sons']</i>"
      ],
      "text/plain": [
       "<IPython.core.display.HTML object>"
      ]
     },
     "metadata": {},
     "output_type": "display_data"
    },
    {
     "data": {
      "text/html": [
       "'<b>horton_group</b>'  ⇨  <i>['horn_group']</i>"
      ],
      "text/plain": [
       "<IPython.core.display.HTML object>"
      ]
     },
     "metadata": {},
     "output_type": "display_data"
    },
    {
     "data": {
      "text/html": [
       "'<b>foster_plc</b>'  ⇨  <i>['foster_llc']</i>"
      ],
      "text/plain": [
       "<IPython.core.display.HTML object>"
      ]
     },
     "metadata": {},
     "output_type": "display_data"
    },
    {
     "data": {
      "text/html": [
       "'<b>gray_inc</b>'  ⇨  <i>['ray_inc']</i>"
      ],
      "text/plain": [
       "<IPython.core.display.HTML object>"
      ]
     },
     "metadata": {},
     "output_type": "display_data"
    },
    {
     "data": {
      "text/html": [
       "'<b>johnson_moore</b>'  ⇨  <i>['moore_johnson']</i>"
      ],
      "text/plain": [
       "<IPython.core.display.HTML object>"
      ]
     },
     "metadata": {},
     "output_type": "display_data"
    },
    {
     "data": {
      "text/html": [
       "'<b>clark_miller</b>'  ⇨  <i>['miller_clark', 'clark_miller_and_gray']</i>"
      ],
      "text/plain": [
       "<IPython.core.display.HTML object>"
      ]
     },
     "metadata": {},
     "output_type": "display_data"
    },
    {
     "data": {
      "text/html": [
       "'<b>long_group</b>'  ⇨  <i>['leon_group']</i>"
      ],
      "text/plain": [
       "<IPython.core.display.HTML object>"
      ]
     },
     "metadata": {},
     "output_type": "display_data"
    },
    {
     "data": {
      "text/html": [
       "'<b>jackson_and_sons</b>'  ⇨  <i>['jacobson_and_sons']</i>"
      ],
      "text/plain": [
       "<IPython.core.display.HTML object>"
      ]
     },
     "metadata": {},
     "output_type": "display_data"
    },
    {
     "data": {
      "text/html": [
       "'<b>williams_plc</b>'  ⇨  <i>['williams_llc']</i>"
      ],
      "text/plain": [
       "<IPython.core.display.HTML object>"
      ]
     },
     "metadata": {},
     "output_type": "display_data"
    },
    {
     "data": {
      "text/html": [
       "'<b>perry_group</b>'  ⇨  <i>['berry_group']</i>"
      ],
      "text/plain": [
       "<IPython.core.display.HTML object>"
      ]
     },
     "metadata": {},
     "output_type": "display_data"
    },
    {
     "data": {
      "text/html": [
       "'<b>fernandez_ltd</b>'  ⇨  <i>['hernandez_ltd']</i>"
      ],
      "text/plain": [
       "<IPython.core.display.HTML object>"
      ]
     },
     "metadata": {},
     "output_type": "display_data"
    },
    {
     "data": {
      "text/html": [
       "'<b>johnson_plc</b>'  ⇨  <i>['johnson_llc']</i>"
      ],
      "text/plain": [
       "<IPython.core.display.HTML object>"
      ]
     },
     "metadata": {},
     "output_type": "display_data"
    },
    {
     "data": {
      "text/html": [
       "'<b>simpson_inc</b>'  ⇨  <i>['simon_inc']</i>"
      ],
      "text/plain": [
       "<IPython.core.display.HTML object>"
      ]
     },
     "metadata": {},
     "output_type": "display_data"
    },
    {
     "data": {
      "text/html": [
       "'<b>bryan_plc</b>'  ⇨  <i>['bryant_plc']</i>"
      ],
      "text/plain": [
       "<IPython.core.display.HTML object>"
      ]
     },
     "metadata": {},
     "output_type": "display_data"
    },
    {
     "data": {
      "text/html": [
       "'<b>crawford_plc</b>'  ⇨  <i>['ford_plc']</i>"
      ],
      "text/plain": [
       "<IPython.core.display.HTML object>"
      ]
     },
     "metadata": {},
     "output_type": "display_data"
    },
    {
     "data": {
      "text/html": [
       "'<b>myers_and_sons</b>'  ⇨  <i>['ayers_and_sons']</i>"
      ],
      "text/plain": [
       "<IPython.core.display.HTML object>"
      ]
     },
     "metadata": {},
     "output_type": "display_data"
    },
    {
     "data": {
      "text/html": [
       "'<b>walker_plc</b>'  ⇨  <i>['walker_llc']</i>"
      ],
      "text/plain": [
       "<IPython.core.display.HTML object>"
      ]
     },
     "metadata": {},
     "output_type": "display_data"
    },
    {
     "data": {
      "text/html": [
       "'<b>mclaughlin_llc</b>'  ⇨  <i>['lin_llc']</i>"
      ],
      "text/plain": [
       "<IPython.core.display.HTML object>"
      ]
     },
     "metadata": {},
     "output_type": "display_data"
    },
    {
     "data": {
      "text/html": [
       "'<b>bennett_martinez</b>'  ⇨  <i>['bennett_bennett']</i>"
      ],
      "text/plain": [
       "<IPython.core.display.HTML object>"
      ]
     },
     "metadata": {},
     "output_type": "display_data"
    },
    {
     "data": {
      "text/html": [
       "'<b>hernandez_lopez</b>'  ⇨  <i>['hernandez_lopez_and_jones']</i>"
      ],
      "text/plain": [
       "<IPython.core.display.HTML object>"
      ]
     },
     "metadata": {},
     "output_type": "display_data"
    },
    {
     "data": {
      "text/html": [
       "'<b>li_and_sons</b>'  ⇨  <i>['ali_and_sons']</i>"
      ],
      "text/plain": [
       "<IPython.core.display.HTML object>"
      ]
     },
     "metadata": {},
     "output_type": "display_data"
    },
    {
     "data": {
      "text/html": [
       "'<b>martin_inc</b>'  ⇨  <i>['martinez_inc']</i>"
      ],
      "text/plain": [
       "<IPython.core.display.HTML object>"
      ]
     },
     "metadata": {},
     "output_type": "display_data"
    },
    {
     "data": {
      "text/html": [
       "'<b>sanders_ltd</b>'  ⇨  <i>['saunders_ltd']</i>"
      ],
      "text/plain": [
       "<IPython.core.display.HTML object>"
      ]
     },
     "metadata": {},
     "output_type": "display_data"
    },
    {
     "data": {
      "text/html": [
       "'<b>scott_gonzalez</b>'  ⇨  <i>['scott_gonzalez_and_preston']</i>"
      ],
      "text/plain": [
       "<IPython.core.display.HTML object>"
      ]
     },
     "metadata": {},
     "output_type": "display_data"
    },
    {
     "data": {
      "text/html": [
       "'<b>rivera_plc</b>'  ⇨  <i>['rivera_llc']</i>"
      ],
      "text/plain": [
       "<IPython.core.display.HTML object>"
      ]
     },
     "metadata": {},
     "output_type": "display_data"
    },
    {
     "data": {
      "text/html": [
       "'<b>frank_hernandez_and_smith</b>'  ⇨  <i>['horn_hernandez_and_smith']</i>"
      ],
      "text/plain": [
       "<IPython.core.display.HTML object>"
      ]
     },
     "metadata": {},
     "output_type": "display_data"
    },
    {
     "data": {
      "text/html": [
       "'<b>cole_bennett_and_yoder</b>'  ⇨  <i>['bennett_bennett']</i>"
      ],
      "text/plain": [
       "<IPython.core.display.HTML object>"
      ]
     },
     "metadata": {},
     "output_type": "display_data"
    },
    {
     "data": {
      "text/html": [
       "'<b>bennett_llc</b>'  ⇨  <i>['bennett_bennett']</i>"
      ],
      "text/plain": [
       "<IPython.core.display.HTML object>"
      ]
     },
     "metadata": {},
     "output_type": "display_data"
    },
    {
     "data": {
      "text/html": [
       "'<b>bowen_hernandez</b>'  ⇨  <i>['howe_hernandez']</i>"
      ],
      "text/plain": [
       "<IPython.core.display.HTML object>"
      ]
     },
     "metadata": {},
     "output_type": "display_data"
    },
    {
     "data": {
      "text/html": [
       "'<b>bennett_inc</b>'  ⇨  <i>['bennett_bennett']</i>"
      ],
      "text/plain": [
       "<IPython.core.display.HTML object>"
      ]
     },
     "metadata": {},
     "output_type": "display_data"
    },
    {
     "data": {
      "text/html": [
       "'<b>hernandez_smith</b>'  ⇨  <i>['smith_hernandez']</i>"
      ],
      "text/plain": [
       "<IPython.core.display.HTML object>"
      ]
     },
     "metadata": {},
     "output_type": "display_data"
    },
    {
     "data": {
      "text/html": [
       "'<b>hayes_plc</b>'  ⇨  <i>['haynes_plc']</i>"
      ],
      "text/plain": [
       "<IPython.core.display.HTML object>"
      ]
     },
     "metadata": {},
     "output_type": "display_data"
    },
    {
     "data": {
      "text/html": [
       "'<b>chavez_llc</b>'  ⇨  <i>['chavez_plc']</i>"
      ],
      "text/plain": [
       "<IPython.core.display.HTML object>"
      ]
     },
     "metadata": {},
     "output_type": "display_data"
    },
    {
     "data": {
      "text/html": [
       "'<b>ochoa_robles</b>'  ⇨  <i>['robles_ochoa']</i>"
      ],
      "text/plain": [
       "<IPython.core.display.HTML object>"
      ]
     },
     "metadata": {},
     "output_type": "display_data"
    },
    {
     "data": {
      "text/html": [
       "'<b>woods_and_sons</b>'  ⇨  <i>['wood_and_sons']</i>"
      ],
      "text/plain": [
       "<IPython.core.display.HTML object>"
      ]
     },
     "metadata": {},
     "output_type": "display_data"
    },
    {
     "data": {
      "text/html": [
       "'<b>johnson_castillo_and_williams</b>'  ⇨  <i>['johnson_johnson_and_castillo']</i>"
      ],
      "text/plain": [
       "<IPython.core.display.HTML object>"
      ]
     },
     "metadata": {},
     "output_type": "display_data"
    },
    {
     "data": {
      "text/html": [
       "'<b>owen_plc</b>'  ⇨  <i>['bowen_plc']</i>"
      ],
      "text/plain": [
       "<IPython.core.display.HTML object>"
      ]
     },
     "metadata": {},
     "output_type": "display_data"
    },
    {
     "data": {
      "text/html": [
       "'<b>simon_plc</b>'  ⇨  <i>['simmons_plc']</i>"
      ],
      "text/plain": [
       "<IPython.core.display.HTML object>"
      ]
     },
     "metadata": {},
     "output_type": "display_data"
    },
    {
     "data": {
      "text/html": [
       "'<b>bennett_richardson</b>'  ⇨  <i>['bennett_bennett']</i>"
      ],
      "text/plain": [
       "<IPython.core.display.HTML object>"
      ]
     },
     "metadata": {},
     "output_type": "display_data"
    },
    {
     "data": {
      "text/html": [
       "'<b>bryant_llc</b>'  ⇨  <i>['bryant_plc']</i>"
      ],
      "text/plain": [
       "<IPython.core.display.HTML object>"
      ]
     },
     "metadata": {},
     "output_type": "display_data"
    },
    {
     "data": {
      "text/html": [
       "'<b>bennett_ltd</b>'  ⇨  <i>['bennett_bennett']</i>"
      ],
      "text/plain": [
       "<IPython.core.display.HTML object>"
      ]
     },
     "metadata": {},
     "output_type": "display_data"
    },
    {
     "data": {
      "text/html": [
       "'<b>walter_llc</b>'  ⇨  <i>['walker_llc']</i>"
      ],
      "text/plain": [
       "<IPython.core.display.HTML object>"
      ]
     },
     "metadata": {},
     "output_type": "display_data"
    }
   ],
   "source": [
    "detect_implicit_duplicates_fuzzy(df_suppliers, 'supplier_name')"
   ]
  },
  {
   "cell_type": "markdown",
   "id": "a82bd0b0",
   "metadata": {},
   "source": [
    "#### 3.6.2 Implicit duplicates data imputation."
   ]
  },
  {
   "cell_type": "code",
   "execution_count": 115,
   "id": "1797a4f8",
   "metadata": {},
   "outputs": [],
   "source": [
    "# After reviewing the DataFrames for df_customers, df_salesforce, df_suppliers, \"names\", no imputation or correction of implicit duplicates \n",
    "# will be performed. This decision is based on the fact that the dataset is part of a simulation, and there is no solid backup information \n",
    "# or customer feedback available to validate or confirm any potential corrections.\n",
    "# Making assumptions without reliable context could lead to inaccurate or biased results.\n"
   ]
  },
  {
   "cell_type": "markdown",
   "id": "2e05402a",
   "metadata": {},
   "source": [
    "## __4. Final cleaning dataframe review__."
   ]
  },
  {
   "cell_type": "code",
   "execution_count": 116,
   "id": "f65c3ff3",
   "metadata": {},
   "outputs": [
    {
     "name": "stdout",
     "output_type": "stream",
     "text": [
      "<class 'pandas.core.frame.DataFrame'>\n",
      "RangeIndex: 5000 entries, 0 to 4999\n",
      "Data columns (total 6 columns):\n",
      " #   Column         Non-Null Count  Dtype                     \n",
      "---  ------         --------------  -----                     \n",
      " 0   customer_id    5000 non-null   int64                     \n",
      " 1   customer_name  5000 non-null   string                    \n",
      " 2   join_date      5000 non-null   datetime64[ns, US/Pacific]\n",
      " 3   total_spent    5000 non-null   float64                   \n",
      " 4   frequency      5000 non-null   int64                     \n",
      " 5   segment        4850 non-null   category                  \n",
      "dtypes: category(1), datetime64[ns, US/Pacific](1), float64(1), int64(2), string(1)\n",
      "memory usage: 200.5 KB\n"
     ]
    }
   ],
   "source": [
    "df_customers.info()"
   ]
  },
  {
   "cell_type": "code",
   "execution_count": 117,
   "id": "f2664c56",
   "metadata": {},
   "outputs": [
    {
     "data": {
      "application/vnd.microsoft.datawrangler.viewer.v0+json": {
       "columns": [
        {
         "name": "index",
         "rawType": "int64",
         "type": "integer"
        },
        {
         "name": "customer_id",
         "rawType": "int64",
         "type": "integer"
        },
        {
         "name": "customer_name",
         "rawType": "string",
         "type": "string"
        },
        {
         "name": "join_date",
         "rawType": "datetime64[ns, US/Pacific]",
         "type": "unknown"
        },
        {
         "name": "total_spent",
         "rawType": "float64",
         "type": "float"
        },
        {
         "name": "frequency",
         "rawType": "int64",
         "type": "integer"
        },
        {
         "name": "segment",
         "rawType": "category",
         "type": "unknown"
        }
       ],
       "ref": "0c6e8a01-2dca-4ced-b447-5c74c88fccea",
       "rows": [
        [
         "0",
         "1",
         "charles_miller",
         "2024-08-13 00:00:00-07:00",
         "294.24",
         "12",
         "occasional"
        ],
        [
         "1",
         "2",
         "michael_long",
         "2024-09-03 00:00:00-07:00",
         "4011.83",
         "7",
         "frequent"
        ],
        [
         "2",
         "3",
         "kimberly_green",
         "2024-01-23 00:00:00-08:00",
         "789.85",
         "15",
         "high_value"
        ],
        [
         "3",
         "4",
         "beverly_bowers",
         "2024-11-03 00:00:00-07:00",
         "1403.0",
         "13",
         "occasional"
        ],
        [
         "4",
         "5",
         "pamela_berg",
         "2024-08-05 00:00:00-07:00",
         "1354.18",
         "18",
         "high_value"
        ],
        [
         "5",
         "6",
         "tiffany_ryan",
         "2024-07-15 00:00:00-07:00",
         "1253.15",
         "1",
         "occasional"
        ],
        [
         "6",
         "7",
         "elizabeth_johnson",
         "2023-09-12 00:00:00-07:00",
         "914.91",
         "42",
         "occasional"
        ],
        [
         "7",
         "8",
         "joseph_thomas",
         "2024-10-21 00:00:00-07:00",
         "1995.77",
         "29",
         "frequent"
        ],
        [
         "8",
         "9",
         "victor_smith",
         "2023-10-12 00:00:00-07:00",
         "3802.82",
         "48",
         "frequent"
        ],
        [
         "9",
         "10",
         "justin_scott",
         "2024-05-29 00:00:00-07:00",
         "3161.12",
         "30",
         "occasional"
        ],
        [
         "10",
         "11",
         "heather_munoz",
         "2024-10-19 00:00:00-07:00",
         "1904.17",
         "26",
         "occasional"
        ],
        [
         "11",
         "12",
         "john_snow_dvm",
         "2023-08-11 00:00:00-07:00",
         "2319.36",
         "43",
         "high_value"
        ],
        [
         "12",
         "13",
         "david_gaines",
         "2024-11-14 00:00:00-08:00",
         "1417.41",
         "46",
         "occasional"
        ],
        [
         "13",
         "14",
         "angel_cameron",
         "2024-05-08 00:00:00-07:00",
         "2555.56",
         "40",
         "occasional"
        ],
        [
         "14",
         "15",
         "jonathan_nguyen_phd",
         "2024-08-13 00:00:00-07:00",
         "978.83",
         "46",
         "occasional"
        ],
        [
         "15",
         "16",
         "angela_smith",
         "2024-12-13 00:00:00-08:00",
         "3276.77",
         "4",
         "high_value"
        ],
        [
         "16",
         "17",
         "david_frazier",
         "2024-04-05 00:00:00-07:00",
         "4699.68",
         "21",
         "high_value"
        ],
        [
         "17",
         "18",
         "raymond_dawson",
         "2024-04-14 00:00:00-07:00",
         "4725.46",
         "24",
         "occasional"
        ],
        [
         "18",
         "19",
         "kristina_blair",
         "2025-04-07 00:00:00-07:00",
         "2467.08",
         "46",
         "high_value"
        ],
        [
         "19",
         "20",
         "alex_king",
         "2025-03-02 00:00:00-08:00",
         "3996.57",
         "27",
         "frequent"
        ],
        [
         "20",
         "21",
         "shane_andersen",
         "2023-09-19 00:00:00-07:00",
         "2865.38",
         "46",
         "frequent"
        ],
        [
         "21",
         "22",
         "kevin_robbins",
         "2023-09-10 00:00:00-07:00",
         "1604.29",
         "6",
         "frequent"
        ],
        [
         "22",
         "23",
         "monica_johnson",
         "2024-08-12 00:00:00-07:00",
         "1787.39",
         "18",
         "occasional"
        ],
        [
         "23",
         "24",
         "cheryl_sanders",
         "2024-06-18 00:00:00-07:00",
         "287.98",
         "6",
         "high_value"
        ],
        [
         "24",
         "25",
         "cody_wallace_md",
         "2023-10-12 00:00:00-07:00",
         "3803.58",
         "33",
         "high_value"
        ],
        [
         "25",
         "26",
         "lisa_sanchez",
         "2023-09-05 00:00:00-07:00",
         "4329.15",
         "4",
         "high_value"
        ],
        [
         "26",
         "27",
         "ralph_li",
         "2024-07-06 00:00:00-07:00",
         "945.71",
         "21",
         "frequent"
        ],
        [
         "27",
         "28",
         "kevin_wells",
         "2024-11-23 00:00:00-08:00",
         "1102.38",
         "37",
         "occasional"
        ],
        [
         "28",
         "29",
         "ashley_briggs",
         "2023-07-08 00:00:00-07:00",
         "4375.77",
         "3",
         null
        ],
        [
         "29",
         "30",
         "adam_gregory",
         "2024-06-29 00:00:00-07:00",
         "215.55",
         "47",
         "occasional"
        ],
        [
         "30",
         "31",
         "yolanda_bennett",
         "2024-04-30 00:00:00-07:00",
         "1468.95",
         "41",
         "high_value"
        ],
        [
         "31",
         "32",
         "chris_bonilla",
         "2024-07-31 00:00:00-07:00",
         "2802.63",
         "49",
         "high_value"
        ],
        [
         "32",
         "33",
         "bonnie_martin",
         "2024-05-02 00:00:00-07:00",
         "4010.03",
         "12",
         "occasional"
        ],
        [
         "33",
         "34",
         "alexandra_hernandez",
         "2024-11-11 00:00:00-08:00",
         "3843.28",
         "13",
         "high_value"
        ],
        [
         "34",
         "35",
         "douglas_smith",
         "2024-05-07 00:00:00-07:00",
         "3976.83",
         "13",
         "frequent"
        ],
        [
         "35",
         "36",
         "caitlin_collins",
         "2025-05-20 00:00:00-07:00",
         "3696.33",
         "42",
         "frequent"
        ],
        [
         "36",
         "37",
         "christopher_simmons",
         "2024-03-20 00:00:00-07:00",
         "3415.21",
         "39",
         "high_value"
        ],
        [
         "37",
         "38",
         "angela_cook",
         "2024-01-08 00:00:00-08:00",
         "2887.93",
         "4",
         "frequent"
        ],
        [
         "38",
         "39",
         "krista_peters",
         "2023-10-31 00:00:00-07:00",
         "4560.03",
         "8",
         "frequent"
        ],
        [
         "39",
         "40",
         "emily_adams",
         "2024-05-12 00:00:00-07:00",
         "1151.73",
         "22",
         "high_value"
        ],
        [
         "40",
         "41",
         "david_pierce",
         "2025-04-18 00:00:00-07:00",
         "4861.94",
         "8",
         "high_value"
        ],
        [
         "41",
         "42",
         "christopher_anderson",
         "2024-01-25 00:00:00-08:00",
         "1517.52",
         "27",
         "high_value"
        ],
        [
         "42",
         "43",
         "ernest_palmer",
         "2024-01-18 00:00:00-08:00",
         "1784.81",
         "43",
         "occasional"
        ],
        [
         "43",
         "44",
         "todd_ruiz",
         "2025-03-26 00:00:00-07:00",
         "3548.35",
         "35",
         "high_value"
        ],
        [
         "44",
         "45",
         "cynthia_morgan",
         "2024-05-03 00:00:00-07:00",
         "3601.28",
         "20",
         "occasional"
        ],
        [
         "45",
         "46",
         "brandy_rogers",
         "2024-03-18 00:00:00-07:00",
         "3976.36",
         "27",
         "occasional"
        ],
        [
         "46",
         "47",
         "karen_warren",
         "2023-08-23 00:00:00-07:00",
         "4518.97",
         "19",
         "high_value"
        ],
        [
         "47",
         "48",
         "laura_rhodes",
         "2024-02-22 00:00:00-08:00",
         "3776.15",
         "18",
         "high_value"
        ],
        [
         "48",
         "49",
         "tonya_crawford",
         "2025-04-08 00:00:00-07:00",
         "2182.44",
         "15",
         "high_value"
        ],
        [
         "49",
         "50",
         "cindy_liu",
         "2025-04-02 00:00:00-07:00",
         "1226.24",
         "39",
         null
        ]
       ],
       "shape": {
        "columns": 6,
        "rows": 5000
       }
      },
      "text/html": [
       "<div>\n",
       "<style scoped>\n",
       "    .dataframe tbody tr th:only-of-type {\n",
       "        vertical-align: middle;\n",
       "    }\n",
       "\n",
       "    .dataframe tbody tr th {\n",
       "        vertical-align: top;\n",
       "    }\n",
       "\n",
       "    .dataframe thead th {\n",
       "        text-align: right;\n",
       "    }\n",
       "</style>\n",
       "<table border=\"1\" class=\"dataframe\">\n",
       "  <thead>\n",
       "    <tr style=\"text-align: right;\">\n",
       "      <th></th>\n",
       "      <th>customer_id</th>\n",
       "      <th>customer_name</th>\n",
       "      <th>join_date</th>\n",
       "      <th>total_spent</th>\n",
       "      <th>frequency</th>\n",
       "      <th>segment</th>\n",
       "    </tr>\n",
       "  </thead>\n",
       "  <tbody>\n",
       "    <tr>\n",
       "      <th>0</th>\n",
       "      <td>1</td>\n",
       "      <td>charles_miller</td>\n",
       "      <td>2024-08-13 00:00:00-07:00</td>\n",
       "      <td>294.24</td>\n",
       "      <td>12</td>\n",
       "      <td>occasional</td>\n",
       "    </tr>\n",
       "    <tr>\n",
       "      <th>1</th>\n",
       "      <td>2</td>\n",
       "      <td>michael_long</td>\n",
       "      <td>2024-09-03 00:00:00-07:00</td>\n",
       "      <td>4011.83</td>\n",
       "      <td>7</td>\n",
       "      <td>frequent</td>\n",
       "    </tr>\n",
       "    <tr>\n",
       "      <th>2</th>\n",
       "      <td>3</td>\n",
       "      <td>kimberly_green</td>\n",
       "      <td>2024-01-23 00:00:00-08:00</td>\n",
       "      <td>789.85</td>\n",
       "      <td>15</td>\n",
       "      <td>high_value</td>\n",
       "    </tr>\n",
       "    <tr>\n",
       "      <th>3</th>\n",
       "      <td>4</td>\n",
       "      <td>beverly_bowers</td>\n",
       "      <td>2024-11-03 00:00:00-07:00</td>\n",
       "      <td>1403.00</td>\n",
       "      <td>13</td>\n",
       "      <td>occasional</td>\n",
       "    </tr>\n",
       "    <tr>\n",
       "      <th>4</th>\n",
       "      <td>5</td>\n",
       "      <td>pamela_berg</td>\n",
       "      <td>2024-08-05 00:00:00-07:00</td>\n",
       "      <td>1354.18</td>\n",
       "      <td>18</td>\n",
       "      <td>high_value</td>\n",
       "    </tr>\n",
       "    <tr>\n",
       "      <th>...</th>\n",
       "      <td>...</td>\n",
       "      <td>...</td>\n",
       "      <td>...</td>\n",
       "      <td>...</td>\n",
       "      <td>...</td>\n",
       "      <td>...</td>\n",
       "    </tr>\n",
       "    <tr>\n",
       "      <th>4995</th>\n",
       "      <td>4996</td>\n",
       "      <td>bryan_jones</td>\n",
       "      <td>2024-08-06 00:00:00-07:00</td>\n",
       "      <td>3112.13</td>\n",
       "      <td>43</td>\n",
       "      <td>frequent</td>\n",
       "    </tr>\n",
       "    <tr>\n",
       "      <th>4996</th>\n",
       "      <td>4997</td>\n",
       "      <td>sharon_lee</td>\n",
       "      <td>2025-02-14 00:00:00-08:00</td>\n",
       "      <td>608.13</td>\n",
       "      <td>5</td>\n",
       "      <td>occasional</td>\n",
       "    </tr>\n",
       "    <tr>\n",
       "      <th>4997</th>\n",
       "      <td>4998</td>\n",
       "      <td>gabrielle_kelly</td>\n",
       "      <td>2025-01-16 00:00:00-08:00</td>\n",
       "      <td>1766.59</td>\n",
       "      <td>38</td>\n",
       "      <td>frequent</td>\n",
       "    </tr>\n",
       "    <tr>\n",
       "      <th>4998</th>\n",
       "      <td>4999</td>\n",
       "      <td>christina_larson</td>\n",
       "      <td>2023-12-17 00:00:00-08:00</td>\n",
       "      <td>1370.75</td>\n",
       "      <td>37</td>\n",
       "      <td>high_value</td>\n",
       "    </tr>\n",
       "    <tr>\n",
       "      <th>4999</th>\n",
       "      <td>5000</td>\n",
       "      <td>john_aguirre</td>\n",
       "      <td>2024-07-04 00:00:00-07:00</td>\n",
       "      <td>4573.70</td>\n",
       "      <td>43</td>\n",
       "      <td>high_value</td>\n",
       "    </tr>\n",
       "  </tbody>\n",
       "</table>\n",
       "<p>5000 rows × 6 columns</p>\n",
       "</div>"
      ],
      "text/plain": [
       "      customer_id     customer_name                 join_date  total_spent  frequency     segment\n",
       "0               1    charles_miller 2024-08-13 00:00:00-07:00       294.24         12  occasional\n",
       "1               2      michael_long 2024-09-03 00:00:00-07:00      4011.83          7    frequent\n",
       "2               3    kimberly_green 2024-01-23 00:00:00-08:00       789.85         15  high_value\n",
       "3               4    beverly_bowers 2024-11-03 00:00:00-07:00      1403.00         13  occasional\n",
       "4               5       pamela_berg 2024-08-05 00:00:00-07:00      1354.18         18  high_value\n",
       "...           ...               ...                       ...          ...        ...         ...\n",
       "4995         4996       bryan_jones 2024-08-06 00:00:00-07:00      3112.13         43    frequent\n",
       "4996         4997        sharon_lee 2025-02-14 00:00:00-08:00       608.13          5  occasional\n",
       "4997         4998   gabrielle_kelly 2025-01-16 00:00:00-08:00      1766.59         38    frequent\n",
       "4998         4999  christina_larson 2023-12-17 00:00:00-08:00      1370.75         37  high_value\n",
       "4999         5000      john_aguirre 2024-07-04 00:00:00-07:00      4573.70         43  high_value\n",
       "\n",
       "[5000 rows x 6 columns]"
      ]
     },
     "execution_count": 117,
     "metadata": {},
     "output_type": "execute_result"
    }
   ],
   "source": [
    "df_customers"
   ]
  },
  {
   "cell_type": "code",
   "execution_count": 118,
   "id": "f2ad3ffe",
   "metadata": {},
   "outputs": [
    {
     "name": "stdout",
     "output_type": "stream",
     "text": [
      "<class 'pandas.core.frame.DataFrame'>\n",
      "RangeIndex: 20000 entries, 0 to 19999\n",
      "Data columns (total 8 columns):\n",
      " #   Column              Non-Null Count  Dtype                     \n",
      "---  ------              --------------  -----                     \n",
      " 0   inventory_id        20000 non-null  int64                     \n",
      " 1   date                20000 non-null  datetime64[ns, US/Pacific]\n",
      " 2   product_id          20000 non-null  int64                     \n",
      " 3   beginning_stock     20000 non-null  int64                     \n",
      " 4   received            20000 non-null  int64                     \n",
      " 5   sold                20000 non-null  int64                     \n",
      " 6   warehouse_location  19703 non-null  category                  \n",
      " 7   ending_stock        20000 non-null  int64                     \n",
      "dtypes: category(1), datetime64[ns, US/Pacific](1), int64(6)\n",
      "memory usage: 1.1 MB\n"
     ]
    }
   ],
   "source": [
    "df_inventory.info()"
   ]
  },
  {
   "cell_type": "code",
   "execution_count": 119,
   "id": "03a579c4",
   "metadata": {},
   "outputs": [
    {
     "data": {
      "application/vnd.microsoft.datawrangler.viewer.v0+json": {
       "columns": [
        {
         "name": "index",
         "rawType": "int64",
         "type": "integer"
        },
        {
         "name": "inventory_id",
         "rawType": "int64",
         "type": "integer"
        },
        {
         "name": "date",
         "rawType": "datetime64[ns, US/Pacific]",
         "type": "unknown"
        },
        {
         "name": "product_id",
         "rawType": "int64",
         "type": "integer"
        },
        {
         "name": "beginning_stock",
         "rawType": "int64",
         "type": "integer"
        },
        {
         "name": "received",
         "rawType": "int64",
         "type": "integer"
        },
        {
         "name": "sold",
         "rawType": "int64",
         "type": "integer"
        },
        {
         "name": "warehouse_location",
         "rawType": "category",
         "type": "unknown"
        },
        {
         "name": "ending_stock",
         "rawType": "int64",
         "type": "integer"
        }
       ],
       "ref": "ee203580-33f2-4fb3-9e1f-e0e89fbd5eaa",
       "rows": [
        [
         "0",
         "1",
         "2025-06-20 00:00:00-07:00",
         "1505",
         "49",
         "12",
         "7",
         "East",
         "54"
        ],
        [
         "1",
         "2",
         "2025-05-13 00:00:00-07:00",
         "1611",
         "55",
         "2",
         "6",
         "South",
         "51"
        ],
        [
         "2",
         "3",
         "2025-07-02 00:00:00-07:00",
         "1310",
         "82",
         "5",
         "3",
         "North",
         "84"
        ],
        [
         "3",
         "4",
         "2025-05-14 00:00:00-07:00",
         "2355",
         "14",
         "11",
         "14",
         "West",
         "11"
        ],
        [
         "4",
         "5",
         "2025-06-13 00:00:00-07:00",
         "8382",
         "39",
         "17",
         "11",
         "East",
         "45"
        ],
        [
         "5",
         "6",
         "2025-05-27 00:00:00-07:00",
         "2194",
         "82",
         "3",
         "10",
         "South",
         "75"
        ],
        [
         "6",
         "7",
         "2025-06-04 00:00:00-07:00",
         "7562",
         "56",
         "10",
         "12",
         "East",
         "54"
        ],
        [
         "7",
         "8",
         "2025-06-16 00:00:00-07:00",
         "5646",
         "89",
         "17",
         "2",
         "East",
         "104"
        ],
        [
         "8",
         "9",
         "2025-05-21 00:00:00-07:00",
         "9131",
         "86",
         "15",
         "12",
         "East",
         "89"
        ],
        [
         "9",
         "10",
         "2025-06-06 00:00:00-07:00",
         "191",
         "31",
         "17",
         "13",
         "North",
         "35"
        ],
        [
         "10",
         "11",
         "2025-06-11 00:00:00-07:00",
         "3381",
         "52",
         "16",
         "6",
         "East",
         "62"
        ],
        [
         "11",
         "12",
         "2025-06-29 00:00:00-07:00",
         "8579",
         "98",
         "10",
         "4",
         "South",
         "104"
        ],
        [
         "12",
         "13",
         "2025-06-09 00:00:00-07:00",
         "9859",
         "13",
         "18",
         "4",
         "North",
         "27"
        ],
        [
         "13",
         "14",
         "2025-06-20 00:00:00-07:00",
         "3780",
         "29",
         "13",
         "7",
         "North",
         "35"
        ],
        [
         "14",
         "15",
         "2025-06-14 00:00:00-07:00",
         "489",
         "87",
         "9",
         "0",
         "West",
         "96"
        ],
        [
         "15",
         "16",
         "2025-05-08 00:00:00-07:00",
         "6319",
         "70",
         "8",
         "3",
         "East",
         "75"
        ],
        [
         "16",
         "17",
         "2025-06-27 00:00:00-07:00",
         "5032",
         "60",
         "9",
         "12",
         "South",
         "57"
        ],
        [
         "17",
         "18",
         "2025-06-08 00:00:00-07:00",
         "8127",
         "51",
         "10",
         "2",
         "North",
         "59"
        ],
        [
         "18",
         "19",
         "2025-06-30 00:00:00-07:00",
         "9870",
         "36",
         "11",
         "3",
         "North",
         "44"
        ],
        [
         "19",
         "20",
         "2025-05-09 00:00:00-07:00",
         "4827",
         "43",
         "0",
         "14",
         "East",
         "29"
        ],
        [
         "20",
         "21",
         "2025-06-28 00:00:00-07:00",
         "4187",
         "57",
         "3",
         "4",
         "North",
         "56"
        ],
        [
         "21",
         "22",
         "2025-06-15 00:00:00-07:00",
         "7359",
         "61",
         "18",
         "0",
         "East",
         "79"
        ],
        [
         "22",
         "23",
         "2025-05-13 00:00:00-07:00",
         "3870",
         "72",
         "4",
         "9",
         "West",
         "67"
        ],
        [
         "23",
         "24",
         "2025-06-06 00:00:00-07:00",
         "5395",
         "31",
         "6",
         "10",
         "South",
         "27"
        ],
        [
         "24",
         "25",
         "2025-06-12 00:00:00-07:00",
         "3344",
         "43",
         "12",
         "0",
         "East",
         "55"
        ],
        [
         "25",
         "26",
         "2025-05-17 00:00:00-07:00",
         "8208",
         "26",
         "4",
         "12",
         "South",
         "18"
        ],
        [
         "26",
         "27",
         "2025-06-21 00:00:00-07:00",
         "8918",
         "54",
         "3",
         "6",
         "West",
         "51"
        ],
        [
         "27",
         "28",
         "2025-05-19 00:00:00-07:00",
         "122",
         "49",
         "16",
         "8",
         "East",
         "57"
        ],
        [
         "28",
         "29",
         "2025-07-03 00:00:00-07:00",
         "5625",
         "18",
         "13",
         "3",
         "North",
         "28"
        ],
        [
         "29",
         "30",
         "2025-06-08 00:00:00-07:00",
         "7659",
         "62",
         "6",
         "0",
         "South",
         "68"
        ],
        [
         "30",
         "31",
         "2025-05-14 00:00:00-07:00",
         "6379",
         "31",
         "16",
         "6",
         "West",
         "41"
        ],
        [
         "31",
         "32",
         "2025-06-04 00:00:00-07:00",
         "7553",
         "10",
         "13",
         "14",
         "South",
         "9"
        ],
        [
         "32",
         "33",
         "2025-06-13 00:00:00-07:00",
         "1983",
         "89",
         "19",
         "5",
         "North",
         "103"
        ],
        [
         "33",
         "34",
         "2025-06-19 00:00:00-07:00",
         "6428",
         "26",
         "19",
         "4",
         "East",
         "41"
        ],
        [
         "34",
         "35",
         "2025-05-28 00:00:00-07:00",
         "9901",
         "11",
         "19",
         "14",
         "South",
         "16"
        ],
        [
         "35",
         "36",
         "2025-05-12 00:00:00-07:00",
         "4703",
         "22",
         "12",
         "14",
         null,
         "20"
        ],
        [
         "36",
         "37",
         "2025-06-28 00:00:00-07:00",
         "6804",
         "19",
         "3",
         "14",
         "West",
         "8"
        ],
        [
         "37",
         "38",
         "2025-06-18 00:00:00-07:00",
         "7394",
         "29",
         "1",
         "4",
         "West",
         "26"
        ],
        [
         "38",
         "39",
         "2025-05-26 00:00:00-07:00",
         "2796",
         "81",
         "12",
         "0",
         "West",
         "93"
        ],
        [
         "39",
         "40",
         "2025-06-25 00:00:00-07:00",
         "4954",
         "6",
         "13",
         "11",
         "North",
         "8"
        ],
        [
         "40",
         "41",
         "2025-05-20 00:00:00-07:00",
         "5971",
         "27",
         "13",
         "10",
         "South",
         "30"
        ],
        [
         "41",
         "42",
         "2025-05-27 00:00:00-07:00",
         "7247",
         "1",
         "4",
         "11",
         "East",
         "0"
        ],
        [
         "42",
         "43",
         "2025-06-29 00:00:00-07:00",
         "22",
         "17",
         "6",
         "12",
         "West",
         "11"
        ],
        [
         "43",
         "44",
         "2025-06-21 00:00:00-07:00",
         "2277",
         "1",
         "6",
         "11",
         "East",
         "0"
        ],
        [
         "44",
         "45",
         "2025-05-08 00:00:00-07:00",
         "393",
         "62",
         "6",
         "10",
         "East",
         "58"
        ],
        [
         "45",
         "46",
         "2025-06-02 00:00:00-07:00",
         "2471",
         "24",
         "4",
         "8",
         "South",
         "20"
        ],
        [
         "46",
         "47",
         "2025-06-01 00:00:00-07:00",
         "5250",
         "59",
         "4",
         "6",
         "North",
         "57"
        ],
        [
         "47",
         "48",
         "2025-06-23 00:00:00-07:00",
         "4406",
         "55",
         "7",
         "3",
         "West",
         "59"
        ],
        [
         "48",
         "49",
         "2025-06-27 00:00:00-07:00",
         "2101",
         "97",
         "7",
         "14",
         "North",
         "90"
        ],
        [
         "49",
         "50",
         "2025-06-03 00:00:00-07:00",
         "369",
         "1",
         "12",
         "10",
         "South",
         "3"
        ]
       ],
       "shape": {
        "columns": 8,
        "rows": 20000
       }
      },
      "text/html": [
       "<div>\n",
       "<style scoped>\n",
       "    .dataframe tbody tr th:only-of-type {\n",
       "        vertical-align: middle;\n",
       "    }\n",
       "\n",
       "    .dataframe tbody tr th {\n",
       "        vertical-align: top;\n",
       "    }\n",
       "\n",
       "    .dataframe thead th {\n",
       "        text-align: right;\n",
       "    }\n",
       "</style>\n",
       "<table border=\"1\" class=\"dataframe\">\n",
       "  <thead>\n",
       "    <tr style=\"text-align: right;\">\n",
       "      <th></th>\n",
       "      <th>inventory_id</th>\n",
       "      <th>date</th>\n",
       "      <th>product_id</th>\n",
       "      <th>beginning_stock</th>\n",
       "      <th>received</th>\n",
       "      <th>sold</th>\n",
       "      <th>warehouse_location</th>\n",
       "      <th>ending_stock</th>\n",
       "    </tr>\n",
       "  </thead>\n",
       "  <tbody>\n",
       "    <tr>\n",
       "      <th>0</th>\n",
       "      <td>1</td>\n",
       "      <td>2025-06-20 00:00:00-07:00</td>\n",
       "      <td>1505</td>\n",
       "      <td>49</td>\n",
       "      <td>12</td>\n",
       "      <td>7</td>\n",
       "      <td>East</td>\n",
       "      <td>54</td>\n",
       "    </tr>\n",
       "    <tr>\n",
       "      <th>1</th>\n",
       "      <td>2</td>\n",
       "      <td>2025-05-13 00:00:00-07:00</td>\n",
       "      <td>1611</td>\n",
       "      <td>55</td>\n",
       "      <td>2</td>\n",
       "      <td>6</td>\n",
       "      <td>South</td>\n",
       "      <td>51</td>\n",
       "    </tr>\n",
       "    <tr>\n",
       "      <th>2</th>\n",
       "      <td>3</td>\n",
       "      <td>2025-07-02 00:00:00-07:00</td>\n",
       "      <td>1310</td>\n",
       "      <td>82</td>\n",
       "      <td>5</td>\n",
       "      <td>3</td>\n",
       "      <td>North</td>\n",
       "      <td>84</td>\n",
       "    </tr>\n",
       "    <tr>\n",
       "      <th>3</th>\n",
       "      <td>4</td>\n",
       "      <td>2025-05-14 00:00:00-07:00</td>\n",
       "      <td>2355</td>\n",
       "      <td>14</td>\n",
       "      <td>11</td>\n",
       "      <td>14</td>\n",
       "      <td>West</td>\n",
       "      <td>11</td>\n",
       "    </tr>\n",
       "    <tr>\n",
       "      <th>4</th>\n",
       "      <td>5</td>\n",
       "      <td>2025-06-13 00:00:00-07:00</td>\n",
       "      <td>8382</td>\n",
       "      <td>39</td>\n",
       "      <td>17</td>\n",
       "      <td>11</td>\n",
       "      <td>East</td>\n",
       "      <td>45</td>\n",
       "    </tr>\n",
       "    <tr>\n",
       "      <th>...</th>\n",
       "      <td>...</td>\n",
       "      <td>...</td>\n",
       "      <td>...</td>\n",
       "      <td>...</td>\n",
       "      <td>...</td>\n",
       "      <td>...</td>\n",
       "      <td>...</td>\n",
       "      <td>...</td>\n",
       "    </tr>\n",
       "    <tr>\n",
       "      <th>19995</th>\n",
       "      <td>19996</td>\n",
       "      <td>2025-05-25 00:00:00-07:00</td>\n",
       "      <td>7842</td>\n",
       "      <td>71</td>\n",
       "      <td>4</td>\n",
       "      <td>2</td>\n",
       "      <td>South</td>\n",
       "      <td>73</td>\n",
       "    </tr>\n",
       "    <tr>\n",
       "      <th>19996</th>\n",
       "      <td>19997</td>\n",
       "      <td>2025-05-22 00:00:00-07:00</td>\n",
       "      <td>4965</td>\n",
       "      <td>84</td>\n",
       "      <td>12</td>\n",
       "      <td>2</td>\n",
       "      <td>East</td>\n",
       "      <td>94</td>\n",
       "    </tr>\n",
       "    <tr>\n",
       "      <th>19997</th>\n",
       "      <td>19998</td>\n",
       "      <td>2025-05-19 00:00:00-07:00</td>\n",
       "      <td>6455</td>\n",
       "      <td>24</td>\n",
       "      <td>4</td>\n",
       "      <td>5</td>\n",
       "      <td>East</td>\n",
       "      <td>23</td>\n",
       "    </tr>\n",
       "    <tr>\n",
       "      <th>19998</th>\n",
       "      <td>19999</td>\n",
       "      <td>2025-06-21 00:00:00-07:00</td>\n",
       "      <td>2555</td>\n",
       "      <td>97</td>\n",
       "      <td>0</td>\n",
       "      <td>6</td>\n",
       "      <td>West</td>\n",
       "      <td>91</td>\n",
       "    </tr>\n",
       "    <tr>\n",
       "      <th>19999</th>\n",
       "      <td>20000</td>\n",
       "      <td>2025-06-19 00:00:00-07:00</td>\n",
       "      <td>7179</td>\n",
       "      <td>40</td>\n",
       "      <td>0</td>\n",
       "      <td>7</td>\n",
       "      <td>East</td>\n",
       "      <td>33</td>\n",
       "    </tr>\n",
       "  </tbody>\n",
       "</table>\n",
       "<p>20000 rows × 8 columns</p>\n",
       "</div>"
      ],
      "text/plain": [
       "       inventory_id                      date  product_id  beginning_stock  received  sold warehouse_location  ending_stock\n",
       "0                 1 2025-06-20 00:00:00-07:00        1505               49        12     7               East            54\n",
       "1                 2 2025-05-13 00:00:00-07:00        1611               55         2     6              South            51\n",
       "2                 3 2025-07-02 00:00:00-07:00        1310               82         5     3              North            84\n",
       "3                 4 2025-05-14 00:00:00-07:00        2355               14        11    14               West            11\n",
       "4                 5 2025-06-13 00:00:00-07:00        8382               39        17    11               East            45\n",
       "...             ...                       ...         ...              ...       ...   ...                ...           ...\n",
       "19995         19996 2025-05-25 00:00:00-07:00        7842               71         4     2              South            73\n",
       "19996         19997 2025-05-22 00:00:00-07:00        4965               84        12     2               East            94\n",
       "19997         19998 2025-05-19 00:00:00-07:00        6455               24         4     5               East            23\n",
       "19998         19999 2025-06-21 00:00:00-07:00        2555               97         0     6               West            91\n",
       "19999         20000 2025-06-19 00:00:00-07:00        7179               40         0     7               East            33\n",
       "\n",
       "[20000 rows x 8 columns]"
      ]
     },
     "execution_count": 119,
     "metadata": {},
     "output_type": "execute_result"
    }
   ],
   "source": [
    "df_inventory"
   ]
  },
  {
   "cell_type": "code",
   "execution_count": 120,
   "id": "498e9aef",
   "metadata": {},
   "outputs": [
    {
     "name": "stdout",
     "output_type": "stream",
     "text": [
      "<class 'pandas.core.frame.DataFrame'>\n",
      "RangeIndex: 10000 entries, 0 to 9999\n",
      "Data columns (total 9 columns):\n",
      " #   Column            Non-Null Count  Dtype   \n",
      "---  ------            --------------  -----   \n",
      " 0   product_id        10000 non-null  int64   \n",
      " 1   product_name      10000 non-null  string  \n",
      " 2   category          10000 non-null  category\n",
      " 3   supplier_id       10000 non-null  int64   \n",
      " 4   unit_cost         10000 non-null  float64 \n",
      " 5   status            10000 non-null  category\n",
      " 6   brand             10000 non-null  string  \n",
      " 7   list_price        10000 non-null  float64 \n",
      " 8   median_unit_cost  10000 non-null  Float64 \n",
      "dtypes: Float64(1), category(2), float64(2), int64(2), string(2)\n",
      "memory usage: 576.6 KB\n"
     ]
    }
   ],
   "source": [
    "df_products.info()"
   ]
  },
  {
   "cell_type": "code",
   "execution_count": 121,
   "id": "d3fc9a4b",
   "metadata": {},
   "outputs": [
    {
     "data": {
      "application/vnd.microsoft.datawrangler.viewer.v0+json": {
       "columns": [
        {
         "name": "index",
         "rawType": "int64",
         "type": "integer"
        },
        {
         "name": "product_id",
         "rawType": "int64",
         "type": "integer"
        },
        {
         "name": "product_name",
         "rawType": "string",
         "type": "string"
        },
        {
         "name": "category",
         "rawType": "category",
         "type": "unknown"
        },
        {
         "name": "supplier_id",
         "rawType": "int64",
         "type": "integer"
        },
        {
         "name": "unit_cost",
         "rawType": "float64",
         "type": "float"
        },
        {
         "name": "status",
         "rawType": "category",
         "type": "unknown"
        },
        {
         "name": "brand",
         "rawType": "string",
         "type": "string"
        },
        {
         "name": "list_price",
         "rawType": "float64",
         "type": "float"
        },
        {
         "name": "median_unit_cost",
         "rawType": "Float64",
         "type": "float"
        }
       ],
       "ref": "d2045561-8b02-4766-8193-72d4e271436b",
       "rows": [
        [
         "0",
         "1",
         "use_bakery",
         "bakery",
         "1664",
         "4.58",
         "active",
         "warren_foster",
         "5.99",
         "10.3"
        ],
        [
         "1",
         "2",
         "thank_frozen_foods",
         "dairy",
         "1662",
         "5.43",
         "backordered",
         "evans_and_sons",
         "7.03",
         "10.28"
        ],
        [
         "2",
         "3",
         "customer_produce",
         "beverages",
         "917",
         "1.83",
         "backordered",
         "newman_and_sons",
         "2.73",
         "10.405000000000001"
        ],
        [
         "3",
         "4",
         "sign_dairy",
         "produce",
         "268",
         "8.99",
         "active",
         "mclaughlin_little",
         "14.17",
         "9.855"
        ],
        [
         "4",
         "5",
         "place_frozen_foods",
         "bakery",
         "964",
         "73.3",
         "backordered",
         "leblanc_james_and_thompson",
         "11.08",
         "10.3"
        ],
        [
         "5",
         "6",
         "voice_produce",
         "beverages",
         "169",
         "15.16",
         "backordered",
         "howard_jones_and_ashley",
         "18.28",
         "10.405000000000001"
        ],
        [
         "6",
         "7",
         "home_produce",
         "bakery",
         "911",
         "10.3",
         "backordered",
         "unknown",
         "2.98",
         "10.3"
        ],
        [
         "7",
         "8",
         "care_dairy",
         "beverages",
         "1628",
         "18.64",
         "active",
         "unknown",
         "26.67",
         "10.405000000000001"
        ],
        [
         "8",
         "9",
         "add_bakery",
         "snacks",
         "1115",
         "14.86",
         "backordered",
         "johnston_gross_and_ellis",
         "22.15",
         "10.47"
        ],
        [
         "9",
         "10",
         "tell_snacks",
         "snacks",
         "938",
         "12.9",
         "backordered",
         "edwards_horne_and_soto",
         "21.07",
         "10.47"
        ],
        [
         "10",
         "11",
         "mention_produce",
         "frozen_foods",
         "1701",
         "14.25",
         "discontinued",
         "fowler_llc",
         "20.19",
         "10.58"
        ],
        [
         "11",
         "12",
         "least_produce",
         "produce",
         "209",
         "7.91",
         "backordered",
         "garcia_williams",
         "12.59",
         "9.855"
        ],
        [
         "12",
         "13",
         "situation_dairy",
         "frozen_foods",
         "818",
         "6.5",
         "active",
         "washington_inc",
         "10.9",
         "10.58"
        ],
        [
         "13",
         "14",
         "parent_snacks",
         "beverages",
         "441",
         "13.88",
         "active",
         "villanueva_williams_and_green",
         "18.7",
         "10.405000000000001"
        ],
        [
         "14",
         "15",
         "party_dairy",
         "snacks",
         "1696",
         "13.16",
         "active",
         "ramos_inc",
         "19.24",
         "10.47"
        ],
        [
         "15",
         "16",
         "you_bakery",
         "snacks",
         "261",
         "9.42",
         "active",
         "king_lewis_and_edwards",
         "12.34",
         "10.47"
        ],
        [
         "16",
         "17",
         "reason_snacks",
         "frozen_foods",
         "942",
         "16.09",
         "discontinued",
         "kidd_oliver_and_williams",
         "22.9",
         "10.58"
        ],
        [
         "17",
         "18",
         "since_beverages",
         "frozen_foods",
         "396",
         "4.21",
         "active",
         "grant_franklin",
         "6.95",
         "10.58"
        ],
        [
         "18",
         "19",
         "mouth_produce",
         "beverages",
         "1810",
         "5.77",
         "discontinued",
         "garcia_goodman_and_weaver",
         "7.3",
         "10.405000000000001"
        ],
        [
         "19",
         "20",
         "movement_snacks",
         "snacks",
         "1098",
         "10.47",
         "backordered",
         "west_christensen",
         "13.46",
         "10.47"
        ],
        [
         "20",
         "21",
         "get_snacks",
         "beverages",
         "1150",
         "12.16",
         "backordered",
         "unknown",
         "15.5",
         "10.405000000000001"
        ],
        [
         "21",
         "22",
         "break_beverages",
         "dairy",
         "1204",
         "6.99",
         "discontinued",
         "collins_wells_and_christian",
         "8.92",
         "10.28"
        ],
        [
         "22",
         "23",
         "popular_produce",
         "bakery",
         "762",
         "6.15",
         "backordered",
         "unknown",
         "10.04",
         "10.3"
        ],
        [
         "23",
         "24",
         "idea_beverages",
         "dairy",
         "782",
         "7.82",
         "active",
         "smith_plc",
         "13.87",
         "10.28"
        ],
        [
         "24",
         "25",
         "add_frozen_foods",
         "bakery",
         "769",
         "10.3",
         "discontinued",
         "cooke_hayes_and_olson",
         "14.68",
         "10.3"
        ],
        [
         "25",
         "26",
         "finish_beverages",
         "produce",
         "1869",
         "8.69",
         "discontinued",
         "hernandez_and_sons",
         "10.78",
         "9.855"
        ],
        [
         "26",
         "27",
         "school_frozen_foods",
         "produce",
         "1913",
         "9.68",
         "backordered",
         "johnson_llc",
         "14.58",
         "9.855"
        ],
        [
         "27",
         "28",
         "time_frozen_foods",
         "snacks",
         "59",
         "18.75",
         "active",
         "unknown",
         "31.21",
         "10.47"
        ],
        [
         "28",
         "29",
         "yourself_beverages",
         "bakery",
         "163",
         "2.14",
         "backordered",
         "ortega_group",
         "3.47",
         "10.3"
        ],
        [
         "29",
         "30",
         "fast_snacks",
         "bakery",
         "1508",
         "17.15",
         "discontinued",
         "perez_wong_and_smith",
         "29.94",
         "10.3"
        ],
        [
         "30",
         "31",
         "maybe_snacks",
         "frozen_foods",
         "1050",
         "13.25",
         "backordered",
         "howell_mitchell",
         "19.58",
         "10.58"
        ],
        [
         "31",
         "32",
         "music_snacks",
         "bakery",
         "1141",
         "16.39",
         "active",
         "valdez_and_sons",
         "26.44",
         "10.3"
        ],
        [
         "32",
         "33",
         "police_bakery",
         "dairy",
         "1964",
         "17.39",
         "backordered",
         "saunders_ltd",
         "26.87",
         "10.28"
        ],
        [
         "33",
         "34",
         "use_beverages",
         "dairy",
         "1665",
         "12.89",
         "active",
         "dominguez_pena_and_osborne",
         "22.03",
         "10.28"
        ],
        [
         "34",
         "35",
         "color_dairy",
         "dairy",
         "229",
         "3.42",
         "backordered",
         "watts_schroeder",
         "4.13",
         "10.28"
        ],
        [
         "35",
         "36",
         "little_bakery",
         "bakery",
         "647",
         "15.82",
         "active",
         "taylor_thomas",
         "24.16",
         "10.3"
        ],
        [
         "36",
         "37",
         "minute_frozen_foods",
         "beverages",
         "630",
         "9.61",
         "active",
         "rivera_inc",
         "15.11",
         "10.405000000000001"
        ],
        [
         "37",
         "38",
         "certainly_beverages",
         "bakery",
         "1298",
         "3.43",
         "active",
         "garcia_plc",
         "4.33",
         "10.3"
        ],
        [
         "38",
         "39",
         "why_produce",
         "dairy",
         "1631",
         "7.08",
         "active",
         "jackson_cain_and_garcia",
         "9.1",
         "10.28"
        ],
        [
         "39",
         "40",
         "benefit_frozen_foods",
         "beverages",
         "23",
         "17.46",
         "active",
         "joyce_le_and_wallace",
         "31.28",
         "10.405000000000001"
        ],
        [
         "40",
         "41",
         "item_dairy",
         "dairy",
         "10",
         "2.87",
         "backordered",
         "carroll_aguilar_and_richardson",
         "4.62",
         "10.28"
        ],
        [
         "41",
         "42",
         "success_produce",
         "bakery",
         "975",
         "12.44",
         "backordered",
         "brown_duke",
         "16.39",
         "10.3"
        ],
        [
         "42",
         "43",
         "maintain_frozen_foods",
         "dairy",
         "357",
         "10.28",
         "backordered",
         "byrd_hayden_and_cunningham",
         "23.52",
         "10.28"
        ],
        [
         "43",
         "44",
         "top_produce",
         "bakery",
         "1464",
         "3.92",
         "backordered",
         "mills_llc",
         "6.94",
         "10.3"
        ],
        [
         "44",
         "45",
         "public_bakery",
         "snacks",
         "606",
         "8.35",
         "discontinued",
         "stone_boyd_and_wilson",
         "10.46",
         "10.47"
        ],
        [
         "45",
         "46",
         "fact_produce",
         "produce",
         "1857",
         "4.15",
         "backordered",
         "lopez_llc",
         "6.93",
         "9.855"
        ],
        [
         "46",
         "47",
         "into_bakery",
         "beverages",
         "1775",
         "10.1",
         "discontinued",
         "johnson_heath",
         "16.95",
         "10.405000000000001"
        ],
        [
         "47",
         "48",
         "director_snacks",
         "produce",
         "162",
         "5.2",
         "backordered",
         "ray_brown_and_lang",
         "6.29",
         "9.855"
        ],
        [
         "48",
         "49",
         "it_produce",
         "frozen_foods",
         "435",
         "19.18",
         "discontinued",
         "shelton_morales",
         "24.72",
         "10.58"
        ],
        [
         "49",
         "50",
         "away_dairy",
         "bakery",
         "196",
         "7.7",
         "active",
         "valencia_smith",
         "12.82",
         "10.3"
        ]
       ],
       "shape": {
        "columns": 9,
        "rows": 10000
       }
      },
      "text/html": [
       "<div>\n",
       "<style scoped>\n",
       "    .dataframe tbody tr th:only-of-type {\n",
       "        vertical-align: middle;\n",
       "    }\n",
       "\n",
       "    .dataframe tbody tr th {\n",
       "        vertical-align: top;\n",
       "    }\n",
       "\n",
       "    .dataframe thead th {\n",
       "        text-align: right;\n",
       "    }\n",
       "</style>\n",
       "<table border=\"1\" class=\"dataframe\">\n",
       "  <thead>\n",
       "    <tr style=\"text-align: right;\">\n",
       "      <th></th>\n",
       "      <th>product_id</th>\n",
       "      <th>product_name</th>\n",
       "      <th>category</th>\n",
       "      <th>supplier_id</th>\n",
       "      <th>unit_cost</th>\n",
       "      <th>status</th>\n",
       "      <th>brand</th>\n",
       "      <th>list_price</th>\n",
       "      <th>median_unit_cost</th>\n",
       "    </tr>\n",
       "  </thead>\n",
       "  <tbody>\n",
       "    <tr>\n",
       "      <th>0</th>\n",
       "      <td>1</td>\n",
       "      <td>use_bakery</td>\n",
       "      <td>bakery</td>\n",
       "      <td>1664</td>\n",
       "      <td>4.58</td>\n",
       "      <td>active</td>\n",
       "      <td>warren_foster</td>\n",
       "      <td>5.99</td>\n",
       "      <td>10.3</td>\n",
       "    </tr>\n",
       "    <tr>\n",
       "      <th>1</th>\n",
       "      <td>2</td>\n",
       "      <td>thank_frozen_foods</td>\n",
       "      <td>dairy</td>\n",
       "      <td>1662</td>\n",
       "      <td>5.43</td>\n",
       "      <td>backordered</td>\n",
       "      <td>evans_and_sons</td>\n",
       "      <td>7.03</td>\n",
       "      <td>10.28</td>\n",
       "    </tr>\n",
       "    <tr>\n",
       "      <th>2</th>\n",
       "      <td>3</td>\n",
       "      <td>customer_produce</td>\n",
       "      <td>beverages</td>\n",
       "      <td>917</td>\n",
       "      <td>1.83</td>\n",
       "      <td>backordered</td>\n",
       "      <td>newman_and_sons</td>\n",
       "      <td>2.73</td>\n",
       "      <td>10.405</td>\n",
       "    </tr>\n",
       "    <tr>\n",
       "      <th>3</th>\n",
       "      <td>4</td>\n",
       "      <td>sign_dairy</td>\n",
       "      <td>produce</td>\n",
       "      <td>268</td>\n",
       "      <td>8.99</td>\n",
       "      <td>active</td>\n",
       "      <td>mclaughlin_little</td>\n",
       "      <td>14.17</td>\n",
       "      <td>9.855</td>\n",
       "    </tr>\n",
       "    <tr>\n",
       "      <th>4</th>\n",
       "      <td>5</td>\n",
       "      <td>place_frozen_foods</td>\n",
       "      <td>bakery</td>\n",
       "      <td>964</td>\n",
       "      <td>73.30</td>\n",
       "      <td>backordered</td>\n",
       "      <td>leblanc_james_and_thompson</td>\n",
       "      <td>11.08</td>\n",
       "      <td>10.3</td>\n",
       "    </tr>\n",
       "    <tr>\n",
       "      <th>...</th>\n",
       "      <td>...</td>\n",
       "      <td>...</td>\n",
       "      <td>...</td>\n",
       "      <td>...</td>\n",
       "      <td>...</td>\n",
       "      <td>...</td>\n",
       "      <td>...</td>\n",
       "      <td>...</td>\n",
       "      <td>...</td>\n",
       "    </tr>\n",
       "    <tr>\n",
       "      <th>9995</th>\n",
       "      <td>9996</td>\n",
       "      <td>financial_bakery</td>\n",
       "      <td>snacks</td>\n",
       "      <td>1581</td>\n",
       "      <td>5.93</td>\n",
       "      <td>backordered</td>\n",
       "      <td>sparks_llc</td>\n",
       "      <td>7.40</td>\n",
       "      <td>10.47</td>\n",
       "    </tr>\n",
       "    <tr>\n",
       "      <th>9996</th>\n",
       "      <td>9997</td>\n",
       "      <td>hospital_bakery</td>\n",
       "      <td>produce</td>\n",
       "      <td>1426</td>\n",
       "      <td>15.42</td>\n",
       "      <td>discontinued</td>\n",
       "      <td>butler_inc</td>\n",
       "      <td>18.92</td>\n",
       "      <td>9.855</td>\n",
       "    </tr>\n",
       "    <tr>\n",
       "      <th>9997</th>\n",
       "      <td>9998</td>\n",
       "      <td>travel_bakery</td>\n",
       "      <td>produce</td>\n",
       "      <td>31</td>\n",
       "      <td>13.28</td>\n",
       "      <td>backordered</td>\n",
       "      <td>carr_larson</td>\n",
       "      <td>23.15</td>\n",
       "      <td>9.855</td>\n",
       "    </tr>\n",
       "    <tr>\n",
       "      <th>9998</th>\n",
       "      <td>9999</td>\n",
       "      <td>learn_bakery</td>\n",
       "      <td>bakery</td>\n",
       "      <td>987</td>\n",
       "      <td>18.32</td>\n",
       "      <td>active</td>\n",
       "      <td>turner_rodriguez</td>\n",
       "      <td>22.50</td>\n",
       "      <td>10.3</td>\n",
       "    </tr>\n",
       "    <tr>\n",
       "      <th>9999</th>\n",
       "      <td>10000</td>\n",
       "      <td>everything_bakery</td>\n",
       "      <td>snacks</td>\n",
       "      <td>1127</td>\n",
       "      <td>18.24</td>\n",
       "      <td>active</td>\n",
       "      <td>zimmerman_hoffman_and_burns</td>\n",
       "      <td>31.50</td>\n",
       "      <td>10.47</td>\n",
       "    </tr>\n",
       "  </tbody>\n",
       "</table>\n",
       "<p>10000 rows × 9 columns</p>\n",
       "</div>"
      ],
      "text/plain": [
       "      product_id        product_name   category  supplier_id  unit_cost        status                        brand  list_price  median_unit_cost\n",
       "0              1          use_bakery     bakery         1664       4.58        active                warren_foster        5.99              10.3\n",
       "1              2  thank_frozen_foods      dairy         1662       5.43   backordered               evans_and_sons        7.03             10.28\n",
       "2              3    customer_produce  beverages          917       1.83   backordered              newman_and_sons        2.73            10.405\n",
       "3              4          sign_dairy    produce          268       8.99        active            mclaughlin_little       14.17             9.855\n",
       "4              5  place_frozen_foods     bakery          964      73.30   backordered   leblanc_james_and_thompson       11.08              10.3\n",
       "...          ...                 ...        ...          ...        ...           ...                          ...         ...               ...\n",
       "9995        9996    financial_bakery     snacks         1581       5.93   backordered                   sparks_llc        7.40             10.47\n",
       "9996        9997     hospital_bakery    produce         1426      15.42  discontinued                   butler_inc       18.92             9.855\n",
       "9997        9998       travel_bakery    produce           31      13.28   backordered                  carr_larson       23.15             9.855\n",
       "9998        9999        learn_bakery     bakery          987      18.32        active             turner_rodriguez       22.50              10.3\n",
       "9999       10000   everything_bakery     snacks         1127      18.24        active  zimmerman_hoffman_and_burns       31.50             10.47\n",
       "\n",
       "[10000 rows x 9 columns]"
      ]
     },
     "execution_count": 121,
     "metadata": {},
     "output_type": "execute_result"
    }
   ],
   "source": [
    "df_products"
   ]
  },
  {
   "cell_type": "code",
   "execution_count": 122,
   "id": "204bbd45",
   "metadata": {},
   "outputs": [
    {
     "name": "stdout",
     "output_type": "stream",
     "text": [
      "<class 'pandas.core.frame.DataFrame'>\n",
      "Index: 2000 entries, 0 to 1999\n",
      "Data columns (total 5 columns):\n",
      " #   Column         Non-Null Count  Dtype   \n",
      "---  ------         --------------  -----   \n",
      " 0   employee_id    2000 non-null   int64   \n",
      " 1   employee_name  2000 non-null   string  \n",
      " 2   region         2000 non-null   category\n",
      " 3   total_sales    2000 non-null   float64 \n",
      " 4   effectiveness  2000 non-null   float64 \n",
      "dtypes: category(1), float64(2), int64(1), string(1)\n",
      "memory usage: 80.3 KB\n"
     ]
    }
   ],
   "source": [
    "df_salesforce.info()"
   ]
  },
  {
   "cell_type": "code",
   "execution_count": 123,
   "id": "23619304",
   "metadata": {},
   "outputs": [
    {
     "data": {
      "application/vnd.microsoft.datawrangler.viewer.v0+json": {
       "columns": [
        {
         "name": "index",
         "rawType": "int64",
         "type": "integer"
        },
        {
         "name": "employee_id",
         "rawType": "int64",
         "type": "integer"
        },
        {
         "name": "employee_name",
         "rawType": "string",
         "type": "string"
        },
        {
         "name": "region",
         "rawType": "category",
         "type": "unknown"
        },
        {
         "name": "total_sales",
         "rawType": "float64",
         "type": "float"
        },
        {
         "name": "effectiveness",
         "rawType": "float64",
         "type": "float"
        }
       ],
       "ref": "1a5e6d93-886b-4444-ae5c-35150e58ed9b",
       "rows": [
        [
         "0",
         "1",
         "angela_marks",
         "North",
         "75912.6",
         "0.73"
        ],
        [
         "1",
         "2",
         "richard_ayala",
         "South",
         "55019.09",
         "0.88"
        ],
        [
         "2",
         "3",
         "dr_mark_bailey",
         "South",
         "37066.43",
         "0.66"
        ],
        [
         "3",
         "4",
         "mark_miller",
         "South",
         "47485.74",
         "0.74"
        ],
        [
         "4",
         "5",
         "zachary_bond",
         "West",
         "74696.77",
         "0.65"
        ],
        [
         "5",
         "6",
         "joanna_roberts",
         "North",
         "28973.34",
         "0.69"
        ],
        [
         "6",
         "7",
         "jessica_williams",
         "East",
         "10295.13",
         "0.68"
        ],
        [
         "7",
         "8",
         "mitchell_thomas",
         "East",
         "71050.8",
         "0.9"
        ],
        [
         "8",
         "9",
         "calvin_nguyen",
         "South",
         "44159.28",
         "0.7"
        ],
        [
         "9",
         "10",
         "sarah_jones",
         "North",
         "44059.92",
         "0.77"
        ],
        [
         "10",
         "11",
         "michelle_roberts",
         "North",
         "30947.42",
         "0.92"
        ],
        [
         "11",
         "12",
         "connie_jenkins",
         "South",
         "40818.4",
         "0.85"
        ],
        [
         "12",
         "13",
         "james_drake",
         "West",
         "90471.63",
         "0.7"
        ],
        [
         "13",
         "14",
         "edward_cooper",
         "South",
         "65005.4",
         "0.66"
        ],
        [
         "14",
         "15",
         "grace_smith",
         "North",
         "14682.21",
         "0.82"
        ],
        [
         "15",
         "16",
         "ashlee_mcdaniel",
         "South",
         "68332.82",
         "0.66"
        ],
        [
         "16",
         "17",
         "gregory_gutierrez",
         "South",
         "37293.39",
         "0.87"
        ],
        [
         "17",
         "18",
         "michael_garza",
         "East",
         "70786.83",
         "0.6"
        ],
        [
         "18",
         "19",
         "mark_bentley",
         "East",
         "18645.14",
         "0.84"
        ],
        [
         "19",
         "20",
         "lisa_taylor",
         "West",
         "56554.73",
         "0.66"
        ],
        [
         "20",
         "21",
         "jill_mcdonald",
         "East",
         "19042.52",
         "0.77"
        ],
        [
         "21",
         "22",
         "samantha_wallace",
         "North",
         "54407.34",
         "0.93"
        ],
        [
         "22",
         "23",
         "michelle_hernandez",
         "South",
         "70666.37",
         "0.83"
        ],
        [
         "23",
         "24",
         "bridget_chapman",
         "North",
         "13438.87",
         "0.83"
        ],
        [
         "24",
         "25",
         "frank_walker",
         "North",
         "37720.77",
         "0.75"
        ],
        [
         "25",
         "26",
         "thomas_oliver",
         "West",
         "10783.09",
         "0.78"
        ],
        [
         "26",
         "27",
         "jason_gonzalez",
         "North",
         "22210.78",
         "0.91"
        ],
        [
         "27",
         "28",
         "jaime_chang",
         "South",
         "49647.12",
         "0.68"
        ],
        [
         "28",
         "29",
         "gabriel_scott",
         "West",
         "53952.69",
         "0.89"
        ],
        [
         "29",
         "30",
         "renee_howard",
         "West",
         "63906.86",
         "0.86"
        ],
        [
         "30",
         "31",
         "derrick_ross",
         "East",
         "81313.45",
         "0.77"
        ],
        [
         "31",
         "32",
         "lisa_potts",
         "East",
         "72684.68",
         "0.76"
        ],
        [
         "32",
         "33",
         "dr_scott_grant",
         "East",
         "24360.67",
         "0.79"
        ],
        [
         "33",
         "34",
         "thomas_vega",
         "North",
         "61649.49",
         "0.81"
        ],
        [
         "34",
         "35",
         "melissa_rogers",
         "North",
         "27109.95",
         "0.9"
        ],
        [
         "35",
         "36",
         "james_gibson",
         "North",
         "83111.15",
         "0.82"
        ],
        [
         "36",
         "37",
         "sonya_donaldson",
         "South",
         "76720.7",
         "0.7"
        ],
        [
         "37",
         "38",
         "bethany_white",
         "West",
         "96073.51",
         "0.62"
        ],
        [
         "38",
         "39",
         "james_johnson",
         "North",
         "56564.59",
         "0.83"
        ],
        [
         "39",
         "40",
         "robert_lucas",
         "South",
         "34962.55",
         "0.74"
        ],
        [
         "40",
         "41",
         "richard_cabrera",
         "West",
         "13386.25",
         "0.68"
        ],
        [
         "41",
         "42",
         "tracy_hutchinson",
         "South",
         "26233.94",
         "0.72"
        ],
        [
         "42",
         "43",
         "joseph_jennings",
         "East",
         "16822.62",
         "0.67"
        ],
        [
         "43",
         "44",
         "maria_hernandez",
         "South",
         "29464.58",
         "0.72"
        ],
        [
         "44",
         "45",
         "william_rios",
         "East",
         "30705.67",
         "0.91"
        ],
        [
         "45",
         "46",
         "sherry_williams",
         "South",
         "24719.14",
         "0.75"
        ],
        [
         "46",
         "47",
         "john_rodriguez",
         "East",
         "30607.63",
         "0.88"
        ],
        [
         "47",
         "48",
         "joseph_johnson",
         "North",
         "13011.85",
         "0.75"
        ],
        [
         "48",
         "49",
         "rebecca_evans",
         "South",
         "58340.14",
         "0.6"
        ],
        [
         "49",
         "50",
         "amy_hebert",
         "East",
         "45286.02",
         "0.71"
        ]
       ],
       "shape": {
        "columns": 5,
        "rows": 2000
       }
      },
      "text/html": [
       "<div>\n",
       "<style scoped>\n",
       "    .dataframe tbody tr th:only-of-type {\n",
       "        vertical-align: middle;\n",
       "    }\n",
       "\n",
       "    .dataframe tbody tr th {\n",
       "        vertical-align: top;\n",
       "    }\n",
       "\n",
       "    .dataframe thead th {\n",
       "        text-align: right;\n",
       "    }\n",
       "</style>\n",
       "<table border=\"1\" class=\"dataframe\">\n",
       "  <thead>\n",
       "    <tr style=\"text-align: right;\">\n",
       "      <th></th>\n",
       "      <th>employee_id</th>\n",
       "      <th>employee_name</th>\n",
       "      <th>region</th>\n",
       "      <th>total_sales</th>\n",
       "      <th>effectiveness</th>\n",
       "    </tr>\n",
       "  </thead>\n",
       "  <tbody>\n",
       "    <tr>\n",
       "      <th>0</th>\n",
       "      <td>1</td>\n",
       "      <td>angela_marks</td>\n",
       "      <td>North</td>\n",
       "      <td>75912.60</td>\n",
       "      <td>0.73</td>\n",
       "    </tr>\n",
       "    <tr>\n",
       "      <th>1</th>\n",
       "      <td>2</td>\n",
       "      <td>richard_ayala</td>\n",
       "      <td>South</td>\n",
       "      <td>55019.09</td>\n",
       "      <td>0.88</td>\n",
       "    </tr>\n",
       "    <tr>\n",
       "      <th>2</th>\n",
       "      <td>3</td>\n",
       "      <td>dr_mark_bailey</td>\n",
       "      <td>South</td>\n",
       "      <td>37066.43</td>\n",
       "      <td>0.66</td>\n",
       "    </tr>\n",
       "    <tr>\n",
       "      <th>3</th>\n",
       "      <td>4</td>\n",
       "      <td>mark_miller</td>\n",
       "      <td>South</td>\n",
       "      <td>47485.74</td>\n",
       "      <td>0.74</td>\n",
       "    </tr>\n",
       "    <tr>\n",
       "      <th>4</th>\n",
       "      <td>5</td>\n",
       "      <td>zachary_bond</td>\n",
       "      <td>West</td>\n",
       "      <td>74696.77</td>\n",
       "      <td>0.65</td>\n",
       "    </tr>\n",
       "    <tr>\n",
       "      <th>...</th>\n",
       "      <td>...</td>\n",
       "      <td>...</td>\n",
       "      <td>...</td>\n",
       "      <td>...</td>\n",
       "      <td>...</td>\n",
       "    </tr>\n",
       "    <tr>\n",
       "      <th>1995</th>\n",
       "      <td>1996</td>\n",
       "      <td>colton_hernandez</td>\n",
       "      <td>North</td>\n",
       "      <td>82006.53</td>\n",
       "      <td>0.61</td>\n",
       "    </tr>\n",
       "    <tr>\n",
       "      <th>1996</th>\n",
       "      <td>1997</td>\n",
       "      <td>amber_robbins</td>\n",
       "      <td>North</td>\n",
       "      <td>25098.12</td>\n",
       "      <td>0.64</td>\n",
       "    </tr>\n",
       "    <tr>\n",
       "      <th>1997</th>\n",
       "      <td>1998</td>\n",
       "      <td>william_rodriguez</td>\n",
       "      <td>East</td>\n",
       "      <td>49527.16</td>\n",
       "      <td>0.89</td>\n",
       "    </tr>\n",
       "    <tr>\n",
       "      <th>1998</th>\n",
       "      <td>1999</td>\n",
       "      <td>stephen_pham</td>\n",
       "      <td>East</td>\n",
       "      <td>52694.36</td>\n",
       "      <td>0.73</td>\n",
       "    </tr>\n",
       "    <tr>\n",
       "      <th>1999</th>\n",
       "      <td>2000</td>\n",
       "      <td>edward_beasley</td>\n",
       "      <td>North</td>\n",
       "      <td>80503.14</td>\n",
       "      <td>0.83</td>\n",
       "    </tr>\n",
       "  </tbody>\n",
       "</table>\n",
       "<p>2000 rows × 5 columns</p>\n",
       "</div>"
      ],
      "text/plain": [
       "      employee_id      employee_name region  total_sales  effectiveness\n",
       "0               1       angela_marks  North     75912.60           0.73\n",
       "1               2      richard_ayala  South     55019.09           0.88\n",
       "2               3     dr_mark_bailey  South     37066.43           0.66\n",
       "3               4        mark_miller  South     47485.74           0.74\n",
       "4               5       zachary_bond   West     74696.77           0.65\n",
       "...           ...                ...    ...          ...            ...\n",
       "1995         1996   colton_hernandez  North     82006.53           0.61\n",
       "1996         1997      amber_robbins  North     25098.12           0.64\n",
       "1997         1998  william_rodriguez   East     49527.16           0.89\n",
       "1998         1999       stephen_pham   East     52694.36           0.73\n",
       "1999         2000     edward_beasley  North     80503.14           0.83\n",
       "\n",
       "[2000 rows x 5 columns]"
      ]
     },
     "execution_count": 123,
     "metadata": {},
     "output_type": "execute_result"
    }
   ],
   "source": [
    "df_salesforce"
   ]
  },
  {
   "cell_type": "code",
   "execution_count": 124,
   "id": "9a7f7c3f",
   "metadata": {},
   "outputs": [
    {
     "name": "stdout",
     "output_type": "stream",
     "text": [
      "<class 'pandas.core.frame.DataFrame'>\n",
      "Index: 2000 entries, 0 to 1999\n",
      "Data columns (total 5 columns):\n",
      " #   Column          Non-Null Count  Dtype  \n",
      "---  ------          --------------  -----  \n",
      " 0   supplier_id     2000 non-null   int64  \n",
      " 1   supplier_name   2000 non-null   string \n",
      " 2   lead_time_days  2000 non-null   int64  \n",
      " 3   contact_info    2000 non-null   string \n",
      " 4   rating          2000 non-null   float64\n",
      "dtypes: float64(1), int64(2), string(2)\n",
      "memory usage: 93.8 KB\n"
     ]
    }
   ],
   "source": [
    "df_suppliers.info()"
   ]
  },
  {
   "cell_type": "code",
   "execution_count": 125,
   "id": "be1d405b",
   "metadata": {},
   "outputs": [
    {
     "data": {
      "application/vnd.microsoft.datawrangler.viewer.v0+json": {
       "columns": [
        {
         "name": "index",
         "rawType": "int64",
         "type": "integer"
        },
        {
         "name": "supplier_id",
         "rawType": "int64",
         "type": "integer"
        },
        {
         "name": "supplier_name",
         "rawType": "string",
         "type": "string"
        },
        {
         "name": "lead_time_days",
         "rawType": "int64",
         "type": "integer"
        },
        {
         "name": "contact_info",
         "rawType": "string",
         "type": "string"
        },
        {
         "name": "rating",
         "rawType": "float64",
         "type": "float"
        }
       ],
       "ref": "54be2f50-92a5-4646-85bc-954d39bfe9e4",
       "rows": [
        [
         "0",
         "1",
         "stevens_llc",
         "10",
         "365-261-6825",
         "4.69"
        ],
        [
         "1",
         "2",
         "simpson_pugh",
         "8",
         "001-322-445-9942",
         "3.85"
        ],
        [
         "2",
         "3",
         "harrison_ltd",
         "5",
         "(745)078-2755",
         "3.53"
        ],
        [
         "3",
         "4",
         "larson_orozco",
         "4",
         "347.918.3271x629",
         "4.18"
        ],
        [
         "4",
         "5",
         "gray_lopez",
         "6",
         "+1-453-092-4991",
         "3.85"
        ],
        [
         "5",
         "6",
         "reed_llc",
         "7",
         "620.531.2418x6334",
         "4.85"
        ],
        [
         "6",
         "7",
         "smith_plc",
         "7",
         "487-902-4688",
         "4.84"
        ],
        [
         "7",
         "8",
         "rivera_group",
         "12",
         "(270)908-8668x139",
         "4.31"
        ],
        [
         "8",
         "9",
         "pearson_llc",
         "5",
         "001-625-529-3600x53998",
         "3.76"
        ],
        [
         "9",
         "10",
         "smith_lewis",
         "9",
         "001-939-201-3906",
         "4.27"
        ],
        [
         "10",
         "11",
         "rocha_kelly",
         "12",
         "(631)582-0565",
         "4.91"
        ],
        [
         "11",
         "12",
         "harvey_llc",
         "8",
         "579-892-0476",
         "4.75"
        ],
        [
         "12",
         "13",
         "pitts_and_sons",
         "7",
         "(990)496-1000",
         "4.58"
        ],
        [
         "13",
         "14",
         "brown_stout_and_friedman",
         "13",
         "001-422-240-6260x2337",
         "3.24"
        ],
        [
         "14",
         "15",
         "johnson_reed_and_dunn",
         "8",
         "8499556641",
         "3.51"
        ],
        [
         "15",
         "16",
         "cobb_inc",
         "10",
         "1301718243",
         "4.4"
        ],
        [
         "16",
         "17",
         "ward_hicks_and_tucker",
         "2",
         "317-263-4726x7457",
         "3.5"
        ],
        [
         "17",
         "18",
         "smith_le",
         "2",
         "390-545-9539x289",
         "4.16"
        ],
        [
         "18",
         "19",
         "jordan_and_sons",
         "8",
         "+1-138-591-9229x81506",
         "3.12"
        ],
        [
         "19",
         "20",
         "ferguson_oliver",
         "4",
         "464-195-3318",
         "3.54"
        ],
        [
         "20",
         "21",
         "boyd_and_sons",
         "11",
         "8565180715",
         "3.46"
        ],
        [
         "21",
         "22",
         "brown_vang",
         "12",
         "001-461-562-4464x380",
         "4.93"
        ],
        [
         "22",
         "23",
         "long_vargas_and_marshall",
         "12",
         "866.248.6716",
         "3.31"
        ],
        [
         "23",
         "24",
         "adams_west_and_hanson",
         "4",
         "641.343.4809x64398",
         "4.55"
        ],
        [
         "24",
         "25",
         "macias_harrison_and_stewart",
         "11",
         "(607)580-6732",
         "4.72"
        ],
        [
         "25",
         "26",
         "riley_inc",
         "10",
         "181-194-2034x61240",
         "3.28"
        ],
        [
         "26",
         "27",
         "nunez_carroll_and_davidson",
         "4",
         "(089)124-9473x9418",
         "3.38"
        ],
        [
         "27",
         "28",
         "bell_meyer",
         "6",
         "0823499473",
         "3.01"
        ],
        [
         "28",
         "29",
         "hatfield_hardin_and_hernandez",
         "12",
         "173.641.2751x62059",
         "3.64"
        ],
        [
         "29",
         "30",
         "rivera_smith_and_murphy",
         "8",
         "2333264322",
         "4.06"
        ],
        [
         "30",
         "31",
         "hendricks_buckley",
         "14",
         "634.222.2249x296",
         "4.77"
        ],
        [
         "31",
         "32",
         "hall_bailey_and_simpson",
         "7",
         "(158)823-6173",
         "3.82"
        ],
        [
         "32",
         "33",
         "thomas_hansen_and_gilbert",
         "4",
         "089-238-2562x01262",
         "4.51"
        ],
        [
         "33",
         "34",
         "peterson_ford_and_perez",
         "7",
         "067-652-2120",
         "4.56"
        ],
        [
         "34",
         "35",
         "sanders_gonzalez",
         "3",
         "(055)084-9400x830",
         "4.23"
        ],
        [
         "35",
         "36",
         "newman_gibson_and_miles",
         "9",
         "001-630-693-1291",
         "3.27"
        ],
        [
         "36",
         "37",
         "thompson_phillips",
         "4",
         "039-180-7850x3507",
         "4.17"
        ],
        [
         "37",
         "38",
         "harrell_davis_and_gonzales",
         "13",
         "(283)369-5696x96711",
         "3.92"
        ],
        [
         "38",
         "39",
         "carter_hicks_and_garcia",
         "8",
         "170.711.4235x7126",
         "3.31"
        ],
        [
         "39",
         "40",
         "grant_ltd",
         "14",
         "(882)249-0684",
         "4.29"
        ],
        [
         "40",
         "41",
         "huff_garrett",
         "14",
         "619.093.7479",
         "4.17"
        ],
        [
         "41",
         "42",
         "byrd_roth",
         "10",
         "001-105-837-8386",
         "3.49"
        ],
        [
         "42",
         "43",
         "meyers_ltd",
         "4",
         "001-571-332-9886x9787",
         "4.82"
        ],
        [
         "43",
         "44",
         "lopez_smith_and_hunter",
         "6",
         "(817)778-5598x1287",
         "4.03"
        ],
        [
         "44",
         "45",
         "mccoy_inc",
         "8",
         "8719257056",
         "4.9"
        ],
        [
         "45",
         "46",
         "james_davenport",
         "11",
         "(140)880-3187x9390",
         "3.27"
        ],
        [
         "46",
         "47",
         "walsh_wolfe_and_holland",
         "10",
         "(704)811-0098x35143",
         "4.87"
        ],
        [
         "47",
         "48",
         "brooks_plc",
         "7",
         "001-894-952-4552x88265",
         "3.19"
        ],
        [
         "48",
         "49",
         "reyes_ltd",
         "2",
         "(425)025-7367x1389",
         "4.36"
        ],
        [
         "49",
         "50",
         "torres_giles",
         "14",
         "+1-220-343-8842",
         "3.09"
        ]
       ],
       "shape": {
        "columns": 5,
        "rows": 2000
       }
      },
      "text/html": [
       "<div>\n",
       "<style scoped>\n",
       "    .dataframe tbody tr th:only-of-type {\n",
       "        vertical-align: middle;\n",
       "    }\n",
       "\n",
       "    .dataframe tbody tr th {\n",
       "        vertical-align: top;\n",
       "    }\n",
       "\n",
       "    .dataframe thead th {\n",
       "        text-align: right;\n",
       "    }\n",
       "</style>\n",
       "<table border=\"1\" class=\"dataframe\">\n",
       "  <thead>\n",
       "    <tr style=\"text-align: right;\">\n",
       "      <th></th>\n",
       "      <th>supplier_id</th>\n",
       "      <th>supplier_name</th>\n",
       "      <th>lead_time_days</th>\n",
       "      <th>contact_info</th>\n",
       "      <th>rating</th>\n",
       "    </tr>\n",
       "  </thead>\n",
       "  <tbody>\n",
       "    <tr>\n",
       "      <th>0</th>\n",
       "      <td>1</td>\n",
       "      <td>stevens_llc</td>\n",
       "      <td>10</td>\n",
       "      <td>365-261-6825</td>\n",
       "      <td>4.69</td>\n",
       "    </tr>\n",
       "    <tr>\n",
       "      <th>1</th>\n",
       "      <td>2</td>\n",
       "      <td>simpson_pugh</td>\n",
       "      <td>8</td>\n",
       "      <td>001-322-445-9942</td>\n",
       "      <td>3.85</td>\n",
       "    </tr>\n",
       "    <tr>\n",
       "      <th>2</th>\n",
       "      <td>3</td>\n",
       "      <td>harrison_ltd</td>\n",
       "      <td>5</td>\n",
       "      <td>(745)078-2755</td>\n",
       "      <td>3.53</td>\n",
       "    </tr>\n",
       "    <tr>\n",
       "      <th>3</th>\n",
       "      <td>4</td>\n",
       "      <td>larson_orozco</td>\n",
       "      <td>4</td>\n",
       "      <td>347.918.3271x629</td>\n",
       "      <td>4.18</td>\n",
       "    </tr>\n",
       "    <tr>\n",
       "      <th>4</th>\n",
       "      <td>5</td>\n",
       "      <td>gray_lopez</td>\n",
       "      <td>6</td>\n",
       "      <td>+1-453-092-4991</td>\n",
       "      <td>3.85</td>\n",
       "    </tr>\n",
       "    <tr>\n",
       "      <th>...</th>\n",
       "      <td>...</td>\n",
       "      <td>...</td>\n",
       "      <td>...</td>\n",
       "      <td>...</td>\n",
       "      <td>...</td>\n",
       "    </tr>\n",
       "    <tr>\n",
       "      <th>1995</th>\n",
       "      <td>1996</td>\n",
       "      <td>santana_chang</td>\n",
       "      <td>12</td>\n",
       "      <td>001-359-810-0500x1001</td>\n",
       "      <td>3.73</td>\n",
       "    </tr>\n",
       "    <tr>\n",
       "      <th>1996</th>\n",
       "      <td>1997</td>\n",
       "      <td>romero_group</td>\n",
       "      <td>11</td>\n",
       "      <td>557-553-1159x819</td>\n",
       "      <td>3.03</td>\n",
       "    </tr>\n",
       "    <tr>\n",
       "      <th>1997</th>\n",
       "      <td>1998</td>\n",
       "      <td>jones_plc</td>\n",
       "      <td>10</td>\n",
       "      <td>779.173.9316x836</td>\n",
       "      <td>3.39</td>\n",
       "    </tr>\n",
       "    <tr>\n",
       "      <th>1998</th>\n",
       "      <td>1999</td>\n",
       "      <td>weber_gonzalez_and_mccullough</td>\n",
       "      <td>12</td>\n",
       "      <td>(927)346-5883</td>\n",
       "      <td>4.07</td>\n",
       "    </tr>\n",
       "    <tr>\n",
       "      <th>1999</th>\n",
       "      <td>2000</td>\n",
       "      <td>burton_wallace_and_rivera</td>\n",
       "      <td>14</td>\n",
       "      <td>702.380.2325</td>\n",
       "      <td>4.39</td>\n",
       "    </tr>\n",
       "  </tbody>\n",
       "</table>\n",
       "<p>2000 rows × 5 columns</p>\n",
       "</div>"
      ],
      "text/plain": [
       "      supplier_id                  supplier_name  lead_time_days           contact_info  rating\n",
       "0               1                    stevens_llc              10           365-261-6825    4.69\n",
       "1               2                   simpson_pugh               8       001-322-445-9942    3.85\n",
       "2               3                   harrison_ltd               5          (745)078-2755    3.53\n",
       "3               4                  larson_orozco               4       347.918.3271x629    4.18\n",
       "4               5                     gray_lopez               6        +1-453-092-4991    3.85\n",
       "...           ...                            ...             ...                    ...     ...\n",
       "1995         1996                  santana_chang              12  001-359-810-0500x1001    3.73\n",
       "1996         1997                   romero_group              11       557-553-1159x819    3.03\n",
       "1997         1998                      jones_plc              10       779.173.9316x836    3.39\n",
       "1998         1999  weber_gonzalez_and_mccullough              12          (927)346-5883    4.07\n",
       "1999         2000      burton_wallace_and_rivera              14           702.380.2325    4.39\n",
       "\n",
       "[2000 rows x 5 columns]"
      ]
     },
     "execution_count": 125,
     "metadata": {},
     "output_type": "execute_result"
    }
   ],
   "source": [
    "df_suppliers"
   ]
  },
  {
   "cell_type": "code",
   "execution_count": 126,
   "id": "3a3100a3",
   "metadata": {},
   "outputs": [
    {
     "name": "stdout",
     "output_type": "stream",
     "text": [
      "<class 'pandas.core.frame.DataFrame'>\n",
      "Index: 20000 entries, 0 to 19999\n",
      "Data columns (total 8 columns):\n",
      " #   Column          Non-Null Count  Dtype                     \n",
      "---  ------          --------------  -----                     \n",
      " 0   transaction_id  20000 non-null  int64                     \n",
      " 1   date            20000 non-null  datetime64[ns, US/Pacific]\n",
      " 2   product_id      20000 non-null  int64                     \n",
      " 3   units_sold      20000 non-null  int64                     \n",
      " 4   customer_id     20000 non-null  int64                     \n",
      " 5   employee_id     20000 non-null  int64                     \n",
      " 6   list_price      20000 non-null  float64                   \n",
      " 7   sales_amount    20000 non-null  float64                   \n",
      "dtypes: datetime64[ns, US/Pacific](1), float64(2), int64(5)\n",
      "memory usage: 1.4 MB\n"
     ]
    }
   ],
   "source": [
    "df_transactions.info()"
   ]
  },
  {
   "cell_type": "code",
   "execution_count": 127,
   "id": "0afc4d6d",
   "metadata": {},
   "outputs": [
    {
     "data": {
      "application/vnd.microsoft.datawrangler.viewer.v0+json": {
       "columns": [
        {
         "name": "index",
         "rawType": "int64",
         "type": "integer"
        },
        {
         "name": "transaction_id",
         "rawType": "int64",
         "type": "integer"
        },
        {
         "name": "date",
         "rawType": "datetime64[ns, US/Pacific]",
         "type": "unknown"
        },
        {
         "name": "product_id",
         "rawType": "int64",
         "type": "integer"
        },
        {
         "name": "units_sold",
         "rawType": "int64",
         "type": "integer"
        },
        {
         "name": "customer_id",
         "rawType": "int64",
         "type": "integer"
        },
        {
         "name": "employee_id",
         "rawType": "int64",
         "type": "integer"
        },
        {
         "name": "list_price",
         "rawType": "float64",
         "type": "float"
        },
        {
         "name": "sales_amount",
         "rawType": "float64",
         "type": "float"
        }
       ],
       "ref": "09dbe7a1-ca90-41ec-8ea0-44f9853f5d92",
       "rows": [
        [
         "0",
         "1",
         "2024-05-11 00:00:00-07:00",
         "68",
         "3",
         "3240",
         "748",
         "25.0",
         "75.0"
        ],
        [
         "1",
         "2",
         "2024-11-15 00:00:00-08:00",
         "5042",
         "6",
         "2246",
         "624",
         "2.45",
         "14.7"
        ],
        [
         "2",
         "3",
         "2024-03-19 00:00:00-07:00",
         "7165",
         "6",
         "4387",
         "139",
         "2.68",
         "16.08"
        ],
        [
         "3",
         "4",
         "2024-05-26 00:00:00-07:00",
         "8859",
         "7",
         "2163",
         "778",
         "9.15",
         "64.05"
        ],
        [
         "4",
         "5",
         "2024-01-24 00:00:00-08:00",
         "4700",
         "5",
         "4297",
         "1429",
         "3.56",
         "17.8"
        ],
        [
         "5",
         "6",
         "2024-09-22 00:00:00-07:00",
         "8428",
         "6",
         "2753",
         "1940",
         "0.94",
         "5.64"
        ],
        [
         "6",
         "7",
         "2025-02-27 00:00:00-08:00",
         "360",
         "2",
         "776",
         "310",
         "2.82",
         "5.64"
        ],
        [
         "7",
         "8",
         "2025-07-04 00:00:00-07:00",
         "9036",
         "9",
         "2794",
         "868",
         "6.05",
         "54.45"
        ],
        [
         "8",
         "9",
         "2024-06-21 00:00:00-07:00",
         "5833",
         "7",
         "3753",
         "1875",
         "32.86",
         "230.02"
        ],
        [
         "9",
         "10",
         "2025-06-29 00:00:00-07:00",
         "2426",
         "5",
         "2334",
         "1184",
         "15.69",
         "78.45"
        ],
        [
         "10",
         "11",
         "2024-09-30 00:00:00-07:00",
         "4752",
         "4",
         "2305",
         "939",
         "17.08",
         "1024.8"
        ],
        [
         "11",
         "12",
         "2024-06-30 00:00:00-07:00",
         "3756",
         "3",
         "4787",
         "1014",
         "1.39",
         "4.17"
        ],
        [
         "12",
         "13",
         "2023-11-13 00:00:00-08:00",
         "4366",
         "7",
         "433",
         "1775",
         "12.14",
         "84.98"
        ],
        [
         "13",
         "14",
         "2025-05-07 00:00:00-07:00",
         "7228",
         "9",
         "2147",
         "136",
         "7.13",
         "64.17"
        ],
        [
         "14",
         "15",
         "2023-08-02 00:00:00-07:00",
         "4795",
         "8",
         "190",
         "1454",
         "16.83",
         "134.64"
        ],
        [
         "15",
         "16",
         "2023-11-17 00:00:00-08:00",
         "4065",
         "9",
         "3910",
         "1577",
         "7.75",
         "69.75"
        ],
        [
         "16",
         "17",
         "2024-10-13 00:00:00-07:00",
         "2841",
         "7",
         "2471",
         "39",
         "33.39",
         "233.73"
        ],
        [
         "17",
         "18",
         "2023-09-15 00:00:00-07:00",
         "5737",
         "8",
         "2223",
         "1769",
         "21.77",
         "174.16"
        ],
        [
         "18",
         "19",
         "2024-04-17 00:00:00-07:00",
         "982",
         "7",
         "424",
         "724",
         "27.9",
         "195.3"
        ],
        [
         "19",
         "20",
         "2024-08-13 00:00:00-07:00",
         "5601",
         "3",
         "1541",
         "1657",
         "22.89",
         "68.67"
        ],
        [
         "20",
         "21",
         "2023-10-20 00:00:00-07:00",
         "5623",
         "6",
         "1869",
         "1934",
         "12.16",
         "72.96"
        ],
        [
         "21",
         "22",
         "2024-04-02 00:00:00-07:00",
         "682",
         "4",
         "1946",
         "582",
         "23.92",
         "95.68"
        ],
        [
         "22",
         "23",
         "2025-02-05 00:00:00-08:00",
         "813",
         "7",
         "4724",
         "1745",
         "15.73",
         "110.11"
        ],
        [
         "23",
         "24",
         "2024-04-11 00:00:00-07:00",
         "9461",
         "9",
         "1787",
         "873",
         "23.09",
         "207.81"
        ],
        [
         "24",
         "25",
         "2023-08-22 00:00:00-07:00",
         "2202",
         "2",
         "2264",
         "1521",
         "1.31",
         "2.62"
        ],
        [
         "25",
         "26",
         "2025-05-12 00:00:00-07:00",
         "9212",
         "1",
         "334",
         "1081",
         "18.56",
         "18.56"
        ],
        [
         "26",
         "27",
         "2024-05-20 00:00:00-07:00",
         "3861",
         "2",
         "4565",
         "1602",
         "19.17",
         "38.34"
        ],
        [
         "27",
         "28",
         "2024-10-03 00:00:00-07:00",
         "321",
         "5",
         "2088",
         "656",
         "3.72",
         "18.6"
        ],
        [
         "28",
         "29",
         "2024-11-17 00:00:00-08:00",
         "784",
         "6",
         "78",
         "714",
         "12.92",
         "77.52"
        ],
        [
         "29",
         "30",
         "2024-09-29 00:00:00-07:00",
         "8222",
         "7",
         "3137",
         "793",
         "6.63",
         "46.41"
        ],
        [
         "30",
         "31",
         "2023-07-30 00:00:00-07:00",
         "1932",
         "4",
         "3039",
         "1745",
         "4.82",
         "19.28"
        ],
        [
         "31",
         "32",
         "2024-12-13 00:00:00-08:00",
         "4569",
         "1",
         "1934",
         "966",
         "3.28",
         "3.28"
        ],
        [
         "32",
         "33",
         "2023-08-03 00:00:00-07:00",
         "7262",
         "7",
         "3946",
         "1591",
         "19.65",
         "137.55"
        ],
        [
         "33",
         "34",
         "2024-11-09 00:00:00-08:00",
         "6073",
         "9",
         "1270",
         "1083",
         "24.76",
         "222.84"
        ],
        [
         "34",
         "35",
         "2024-05-25 00:00:00-07:00",
         "4445",
         "9",
         "3252",
         "447",
         "24.97",
         "224.73"
        ],
        [
         "35",
         "36",
         "2023-12-16 00:00:00-08:00",
         "1842",
         "8",
         "883",
         "19",
         "2.11",
         "16.88"
        ],
        [
         "36",
         "37",
         "2024-07-11 00:00:00-07:00",
         "7395",
         "9",
         "62",
         "92",
         "22.44",
         "201.96"
        ],
        [
         "37",
         "38",
         "2024-09-30 00:00:00-07:00",
         "4539",
         "5",
         "1090",
         "1742",
         "22.23",
         "111.15"
        ],
        [
         "38",
         "39",
         "2024-07-29 00:00:00-07:00",
         "3353",
         "6",
         "297",
         "1616",
         "24.46",
         "146.76"
        ],
        [
         "39",
         "40",
         "2024-07-22 00:00:00-07:00",
         "6766",
         "1",
         "3361",
         "472",
         "6.64",
         "6.64"
        ],
        [
         "40",
         "41",
         "2024-10-14 00:00:00-07:00",
         "7302",
         "3",
         "2179",
         "741",
         "31.34",
         "94.02"
        ],
        [
         "41",
         "42",
         "2023-12-07 00:00:00-08:00",
         "3809",
         "4",
         "2501",
         "1531",
         "5.07",
         "20.28"
        ],
        [
         "42",
         "43",
         "2025-04-03 00:00:00-07:00",
         "1005",
         "7",
         "502",
         "376",
         "17.3",
         "121.1"
        ],
        [
         "43",
         "44",
         "2025-06-05 00:00:00-07:00",
         "7347",
         "8",
         "3771",
         "214",
         "24.18",
         "193.44"
        ],
        [
         "44",
         "45",
         "2024-11-15 00:00:00-08:00",
         "2713",
         "5",
         "227",
         "203",
         "10.14",
         "50.7"
        ],
        [
         "45",
         "46",
         "2025-05-12 00:00:00-07:00",
         "1462",
         "6",
         "1899",
         "152",
         "3.72",
         "22.32"
        ],
        [
         "46",
         "47",
         "2024-10-06 00:00:00-07:00",
         "1099",
         "7",
         "3544",
         "673",
         "6.33",
         "44.31"
        ],
        [
         "47",
         "48",
         "2024-12-26 00:00:00-08:00",
         "1472",
         "4",
         "3164",
         "794",
         "19.43",
         "77.72"
        ],
        [
         "48",
         "49",
         "2025-02-13 00:00:00-08:00",
         "2910",
         "6",
         "1901",
         "849",
         "24.09",
         "144.54"
        ],
        [
         "49",
         "50",
         "2024-11-09 00:00:00-08:00",
         "5917",
         "3",
         "2722",
         "636",
         "7.02",
         "21.06"
        ]
       ],
       "shape": {
        "columns": 8,
        "rows": 20000
       }
      },
      "text/html": [
       "<div>\n",
       "<style scoped>\n",
       "    .dataframe tbody tr th:only-of-type {\n",
       "        vertical-align: middle;\n",
       "    }\n",
       "\n",
       "    .dataframe tbody tr th {\n",
       "        vertical-align: top;\n",
       "    }\n",
       "\n",
       "    .dataframe thead th {\n",
       "        text-align: right;\n",
       "    }\n",
       "</style>\n",
       "<table border=\"1\" class=\"dataframe\">\n",
       "  <thead>\n",
       "    <tr style=\"text-align: right;\">\n",
       "      <th></th>\n",
       "      <th>transaction_id</th>\n",
       "      <th>date</th>\n",
       "      <th>product_id</th>\n",
       "      <th>units_sold</th>\n",
       "      <th>customer_id</th>\n",
       "      <th>employee_id</th>\n",
       "      <th>list_price</th>\n",
       "      <th>sales_amount</th>\n",
       "    </tr>\n",
       "  </thead>\n",
       "  <tbody>\n",
       "    <tr>\n",
       "      <th>0</th>\n",
       "      <td>1</td>\n",
       "      <td>2024-05-11 00:00:00-07:00</td>\n",
       "      <td>68</td>\n",
       "      <td>3</td>\n",
       "      <td>3240</td>\n",
       "      <td>748</td>\n",
       "      <td>25.00</td>\n",
       "      <td>75.00</td>\n",
       "    </tr>\n",
       "    <tr>\n",
       "      <th>1</th>\n",
       "      <td>2</td>\n",
       "      <td>2024-11-15 00:00:00-08:00</td>\n",
       "      <td>5042</td>\n",
       "      <td>6</td>\n",
       "      <td>2246</td>\n",
       "      <td>624</td>\n",
       "      <td>2.45</td>\n",
       "      <td>14.70</td>\n",
       "    </tr>\n",
       "    <tr>\n",
       "      <th>2</th>\n",
       "      <td>3</td>\n",
       "      <td>2024-03-19 00:00:00-07:00</td>\n",
       "      <td>7165</td>\n",
       "      <td>6</td>\n",
       "      <td>4387</td>\n",
       "      <td>139</td>\n",
       "      <td>2.68</td>\n",
       "      <td>16.08</td>\n",
       "    </tr>\n",
       "    <tr>\n",
       "      <th>3</th>\n",
       "      <td>4</td>\n",
       "      <td>2024-05-26 00:00:00-07:00</td>\n",
       "      <td>8859</td>\n",
       "      <td>7</td>\n",
       "      <td>2163</td>\n",
       "      <td>778</td>\n",
       "      <td>9.15</td>\n",
       "      <td>64.05</td>\n",
       "    </tr>\n",
       "    <tr>\n",
       "      <th>4</th>\n",
       "      <td>5</td>\n",
       "      <td>2024-01-24 00:00:00-08:00</td>\n",
       "      <td>4700</td>\n",
       "      <td>5</td>\n",
       "      <td>4297</td>\n",
       "      <td>1429</td>\n",
       "      <td>3.56</td>\n",
       "      <td>17.80</td>\n",
       "    </tr>\n",
       "    <tr>\n",
       "      <th>...</th>\n",
       "      <td>...</td>\n",
       "      <td>...</td>\n",
       "      <td>...</td>\n",
       "      <td>...</td>\n",
       "      <td>...</td>\n",
       "      <td>...</td>\n",
       "      <td>...</td>\n",
       "      <td>...</td>\n",
       "    </tr>\n",
       "    <tr>\n",
       "      <th>19995</th>\n",
       "      <td>19996</td>\n",
       "      <td>2025-03-08 00:00:00-08:00</td>\n",
       "      <td>4112</td>\n",
       "      <td>7</td>\n",
       "      <td>1464</td>\n",
       "      <td>1724</td>\n",
       "      <td>20.16</td>\n",
       "      <td>141.12</td>\n",
       "    </tr>\n",
       "    <tr>\n",
       "      <th>19996</th>\n",
       "      <td>19997</td>\n",
       "      <td>2024-03-29 00:00:00-07:00</td>\n",
       "      <td>4011</td>\n",
       "      <td>8</td>\n",
       "      <td>4450</td>\n",
       "      <td>717</td>\n",
       "      <td>1.83</td>\n",
       "      <td>14.64</td>\n",
       "    </tr>\n",
       "    <tr>\n",
       "      <th>19997</th>\n",
       "      <td>19998</td>\n",
       "      <td>2024-11-27 00:00:00-08:00</td>\n",
       "      <td>3824</td>\n",
       "      <td>8</td>\n",
       "      <td>4771</td>\n",
       "      <td>146</td>\n",
       "      <td>13.27</td>\n",
       "      <td>106.16</td>\n",
       "    </tr>\n",
       "    <tr>\n",
       "      <th>19998</th>\n",
       "      <td>19999</td>\n",
       "      <td>2024-06-26 00:00:00-07:00</td>\n",
       "      <td>7109</td>\n",
       "      <td>8</td>\n",
       "      <td>1096</td>\n",
       "      <td>8</td>\n",
       "      <td>28.17</td>\n",
       "      <td>225.36</td>\n",
       "    </tr>\n",
       "    <tr>\n",
       "      <th>19999</th>\n",
       "      <td>20000</td>\n",
       "      <td>2023-07-13 00:00:00-07:00</td>\n",
       "      <td>665</td>\n",
       "      <td>3</td>\n",
       "      <td>320</td>\n",
       "      <td>613</td>\n",
       "      <td>11.08</td>\n",
       "      <td>33.24</td>\n",
       "    </tr>\n",
       "  </tbody>\n",
       "</table>\n",
       "<p>20000 rows × 8 columns</p>\n",
       "</div>"
      ],
      "text/plain": [
       "       transaction_id                      date  product_id  units_sold  customer_id  employee_id  list_price  sales_amount\n",
       "0                   1 2024-05-11 00:00:00-07:00          68           3         3240          748       25.00         75.00\n",
       "1                   2 2024-11-15 00:00:00-08:00        5042           6         2246          624        2.45         14.70\n",
       "2                   3 2024-03-19 00:00:00-07:00        7165           6         4387          139        2.68         16.08\n",
       "3                   4 2024-05-26 00:00:00-07:00        8859           7         2163          778        9.15         64.05\n",
       "4                   5 2024-01-24 00:00:00-08:00        4700           5         4297         1429        3.56         17.80\n",
       "...               ...                       ...         ...         ...          ...          ...         ...           ...\n",
       "19995           19996 2025-03-08 00:00:00-08:00        4112           7         1464         1724       20.16        141.12\n",
       "19996           19997 2024-03-29 00:00:00-07:00        4011           8         4450          717        1.83         14.64\n",
       "19997           19998 2024-11-27 00:00:00-08:00        3824           8         4771          146       13.27        106.16\n",
       "19998           19999 2024-06-26 00:00:00-07:00        7109           8         1096            8       28.17        225.36\n",
       "19999           20000 2023-07-13 00:00:00-07:00         665           3          320          613       11.08         33.24\n",
       "\n",
       "[20000 rows x 8 columns]"
      ]
     },
     "execution_count": 127,
     "metadata": {},
     "output_type": "execute_result"
    }
   ],
   "source": [
    "df_transactions"
   ]
  },
  {
   "cell_type": "markdown",
   "id": "d1c7b3ee",
   "metadata": {},
   "source": [
    "## __5. Generate a new clean Data set .csv file__."
   ]
  },
  {
   "cell_type": "code",
   "execution_count": 128,
   "id": "594c9231",
   "metadata": {},
   "outputs": [],
   "source": [
    "project_root = Path.cwd().parent\n",
    "processed_path = project_root / \"data\" / \"processed\" / \"clean\" / \"customers_clean.csv\"\n",
    "df_customers.to_csv(processed_path, index=False)"
   ]
  },
  {
   "cell_type": "code",
   "execution_count": 129,
   "id": "9d885634",
   "metadata": {},
   "outputs": [],
   "source": [
    "project_root = Path.cwd().parent\n",
    "processed_path = project_root / \"data\" / \"processed\" / \"clean\" / \"inventory_clean.csv\"\n",
    "df_inventory.to_csv(processed_path, index=False)"
   ]
  },
  {
   "cell_type": "code",
   "execution_count": 130,
   "id": "3781fef0",
   "metadata": {},
   "outputs": [],
   "source": [
    "project_root = Path.cwd().parent\n",
    "processed_path = project_root / \"data\" / \"processed\" / \"clean\" / \"products_clean.csv\"\n",
    "df_products.to_csv(processed_path, index=False)"
   ]
  },
  {
   "cell_type": "code",
   "execution_count": 131,
   "id": "fc25b036",
   "metadata": {},
   "outputs": [],
   "source": [
    "project_root = Path.cwd().parent\n",
    "processed_path = project_root / \"data\" / \"processed\" / \"clean\" / \"suppliers_clean.csv\"\n",
    "df_suppliers.to_csv(processed_path, index=False)"
   ]
  },
  {
   "cell_type": "code",
   "execution_count": 132,
   "id": "674c1727",
   "metadata": {},
   "outputs": [],
   "source": [
    "project_root = Path.cwd().parent\n",
    "processed_path = project_root / \"data\" / \"processed\" / \"clean\" / \"transactions_clean.csv\"\n",
    "df_transactions.to_csv(processed_path, index=False)"
   ]
  }
 ],
 "metadata": {
  "kernelspec": {
   "display_name": "base",
   "language": "python",
   "name": "python3"
  },
  "language_info": {
   "codemirror_mode": {
    "name": "ipython",
    "version": 3
   },
   "file_extension": ".py",
   "mimetype": "text/x-python",
   "name": "python",
   "nbconvert_exporter": "python",
   "pygments_lexer": "ipython3",
   "version": "3.12.7"
  }
 },
 "nbformat": 4,
 "nbformat_minor": 5
}
