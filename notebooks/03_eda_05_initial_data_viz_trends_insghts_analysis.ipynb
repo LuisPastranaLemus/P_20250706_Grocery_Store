{
 "cells": [
  {
   "cell_type": "markdown",
   "id": "73808ee6",
   "metadata": {},
   "source": [
    "#### Exploratory Data Analysis (EDA) - Outliers' Analysis\n",
    "\n",
    "Dataset: \n",
    "- _customers_clean.csv_\n",
    "- _inventory_clean.csv_\n",
    "- _products_clean.csv_\n",
    "- _salesforce_clean.csv_\n",
    "- _suppliers_clean.csv_\n",
    "- _transactions_clean.csv_\n",
    "\n",
    "Author: Luis Sergio Pastrana Lemus  \n",
    "Date: 2025-07-06"
   ]
  },
  {
   "cell_type": "markdown",
   "id": "fc7176ac",
   "metadata": {},
   "source": [
    "# Exploratory Data Analysis – Grocery Store Dataset"
   ]
  },
  {
   "cell_type": "markdown",
   "id": "8f267836",
   "metadata": {},
   "source": [
    "## __1. Libraries__."
   ]
  },
  {
   "cell_type": "code",
   "execution_count": null,
   "id": "b3e25b67",
   "metadata": {},
   "outputs": [],
   "source": [
    "from pathlib import Path\n",
    "import sys\n",
    "\n",
    "# Define project root dynamically, gets the current directory from which the notebook belongs and moves one level upper\n",
    "project_root = Path.cwd().parent\n",
    "\n",
    "# Add src to sys.path if it is not already\n",
    "if str(project_root) not in sys.path:\n",
    "\n",
    "    sys.path.append(str(project_root))\n",
    "\n",
    "# Import function directly (more controlled than import *)\n",
    "from src import *\n",
    "\n",
    "\n",
    "from IPython.display import display, HTML\n",
    "import os\n",
    "import pandas as pd\n",
    "import numpy as np"
   ]
  },
  {
   "cell_type": "markdown",
   "id": "8e1c0c8f",
   "metadata": {},
   "source": [
    "## __2. Path to Data file__."
   ]
  },
  {
   "cell_type": "code",
   "execution_count": null,
   "id": "2dd4f2de",
   "metadata": {},
   "outputs": [],
   "source": [
    "# Build route to data file and upload\n",
    "data_file_path = project_root / \"data\" / \"processed\" / \"clean\"\n",
    "\n",
    "df_customers_clean = load_dataset_from_csv(data_file_path, \"customers_clean.csv\", header='infer', parse_dates=['join_date'])\n",
    "df_inventory_clean = load_dataset_from_csv(data_file_path, \"inventory_clean.csv\", header='infer', parse_dates=['date'])\n",
    "df_products_clean = load_dataset_from_csv(data_file_path, \"products_clean.csv\", header='infer')\n",
    "df_salesforce_clean = load_dataset_from_csv(data_file_path, \"salesforce_clean.csv\", header='infer')\n",
    "df_suppliers_clean = load_dataset_from_csv(data_file_path, \"suppliers_clean.csv\", header='infer')\n",
    "df_transactions_clean = load_dataset_from_csv(data_file_path, \"transactions_clean.csv\", header='infer', parse_dates=['date'])\n",
    "\n",
    "# data_file_path = project_root / \"data\" / \"processed\" / \"feature\"\n",
    "\n",
    "# df_xxx_feature = load_dataset_from_csv(data_file_path, \"xxx_feature.csv\", sep=',', header='infer')"
   ]
  },
  {
   "cell_type": "code",
   "execution_count": null,
   "id": "420d237b",
   "metadata": {},
   "outputs": [],
   "source": [
    "# Format notebook output\n",
    "format_notebook()"
   ]
  },
  {
   "cell_type": "markdown",
   "id": "c5df8231",
   "metadata": {},
   "source": [
    "## __3. Exploratory Data Analysis__."
   ]
  },
  {
   "cell_type": "markdown",
   "id": "c6da504b",
   "metadata": {},
   "source": [
    "### 3.0 Casting Data types."
   ]
  },
  {
   "cell_type": "code",
   "execution_count": null,
   "id": "576df1f3",
   "metadata": {},
   "outputs": [],
   "source": [
    "# Call casting dtypes function from features.py and Identifying correctly missing values qith pd.NA\n",
    "\n",
    "# missing values to pd.NA\n",
    "df_inventory_clean = replace_missing_values(df_inventory_clean, include=['warehouse_location'])\n",
    "df_customers_clean = replace_missing_values(df_customers_clean, include=['segment'])\n",
    "\n",
    "# object to string\n",
    "df_products_clean = cast_datatypes(df_products_clean, 'string', c_include=['product_name', 'brand'])\n",
    "df_suppliers_clean = cast_datatypes(df_suppliers_clean, 'string', c_include=['supplier_name', 'contact_info'])\n",
    "df_customers_clean = cast_datatypes(df_customers_clean, 'string', c_include=['customer_name'])\n",
    "df_salesforce_clean = cast_datatypes(df_salesforce_clean, 'string', c_include=['employee_name'])\n",
    "\n",
    "# object to numeric\n",
    "df_products_clean = cast_datatypes(df_products_clean, 'numeric', numeric_type='Float64', c_include=['unit_cost'])\n",
    "df_customers_clean = cast_datatypes(df_customers_clean, 'numeric', numeric_type=\"Float64\", c_include=['total_spent'])\n",
    "\n",
    "# object to category\n",
    "df_products_clean = cast_datatypes(df_products_clean, 'category', c_include=['category', 'status'])\n",
    "df_inventory_clean = cast_datatypes(df_inventory_clean, 'category', c_include=['warehouse_location'])\n",
    "df_customers_clean = cast_datatypes(df_customers_clean, 'category', c_include=['segment'])\n",
    "df_salesforce_clean = cast_datatypes(df_salesforce_clean, 'category', c_include=['region'])\n",
    "\n",
    "# object to datetime\n",
    "df_inventory_clean['date'] = pd.to_datetime(df_inventory_clean['date'], errors='coerce', utc=True)\n",
    "df_customers_clean['join_date'] = pd.to_datetime(df_customers_clean['join_date'], errors='coerce', utc=True)\n",
    "df_transactions_clean['date'] = pd.to_datetime(df_transactions_clean['date'], errors='coerce', utc=True)"
   ]
  },
  {
   "cell_type": "markdown",
   "id": "c5d3d1ac",
   "metadata": {},
   "source": [
    "### 3.5 Data Visualization: Trends and Insights."
   ]
  },
  {
   "cell_type": "markdown",
   "id": "b143e028",
   "metadata": {},
   "source": [
    "3.5.1 Data visalization for high and low performing products in terms of sales"
   ]
  },
  {
   "cell_type": "code",
   "execution_count": null,
   "id": "f69c3729",
   "metadata": {},
   "outputs": [],
   "source": [
    "# Plots for insights"
   ]
  },
  {
   "cell_type": "markdown",
   "id": "77ad02bc",
   "metadata": {},
   "source": [
    "## 4. Conclusions and key insights"
   ]
  },
  {
   "cell_type": "markdown",
   "id": "a0dc7bd8",
   "metadata": {},
   "source": [
    "### 🎯 Key Findings\n",
    "\n",
    "#### Behavioral Insights\n",
    "\n",
    "- **XXX**: xxx \n",
    "\n",
    "#### Other Insights\n",
    "\n",
    "- **XXX**: xxx \n",
    "\n",
    "### Final Takeaways\n",
    "\n",
    "- **XXX**: xxx \n",
    "\n"
   ]
  }
 ],
 "metadata": {
  "language_info": {
   "name": "python"
  }
 },
 "nbformat": 4,
 "nbformat_minor": 5
}
