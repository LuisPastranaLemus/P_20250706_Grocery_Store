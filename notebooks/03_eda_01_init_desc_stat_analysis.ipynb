{
 "cells": [
  {
   "cell_type": "markdown",
   "id": "5d5c2e85",
   "metadata": {},
   "source": [
    "#### Exploratory Data Analysis (EDA) - Initial Descriptive Statistics\n",
    "\n",
    "Dataset: \n",
    "- _customers_clean.csv_\n",
    "- _inventory_clean.csv_\n",
    "- _products_clean.csv_\n",
    "- _salesforce_clean.csv_\n",
    "- _suppliers_clean.csv_\n",
    "- _transactions_clean.csv_\n",
    "\n",
    "Author: Luis Sergio Pastrana Lemus  \n",
    "Date: 2025-07-06"
   ]
  },
  {
   "cell_type": "markdown",
   "id": "c881a345",
   "metadata": {},
   "source": [
    "# Exploratory Data Analysis – Grocery Store Dataset"
   ]
  },
  {
   "cell_type": "markdown",
   "id": "3a661c37",
   "metadata": {},
   "source": [
    "## __1. Libraries__."
   ]
  },
  {
   "cell_type": "code",
   "execution_count": null,
   "id": "5ad85dad",
   "metadata": {},
   "outputs": [],
   "source": [
    "from pathlib import Path\n",
    "import sys\n",
    "\n",
    "# Define project root dynamically, gets the current directory from which the notebook belongs and moves one level upper\n",
    "project_root = Path.cwd().parent\n",
    "\n",
    "# Add src to sys.path if it is not already\n",
    "if str(project_root) not in sys.path:\n",
    "\n",
    "    sys.path.append(str(project_root))\n",
    "\n",
    "# Import function directly (more controlled than import *)\n",
    "from src import *\n",
    "\n",
    "\n",
    "from IPython.display import display, HTML\n",
    "import os\n",
    "import pandas as pd\n",
    "import numpy as np"
   ]
  },
  {
   "cell_type": "markdown",
   "id": "543653c1",
   "metadata": {},
   "source": [
    "## __2. Path to Data file__."
   ]
  },
  {
   "cell_type": "code",
   "execution_count": null,
   "id": "f55d4a5a",
   "metadata": {},
   "outputs": [],
   "source": [
    "# Build route to data file and upload\n",
    "data_file_path = project_root / \"data\" / \"processed\" / \"clean\"\n",
    "\n",
    "df_customers_clean = load_dataset_from_csv(data_file_path, \"customers_clean.csv\", header='infer', parse_dates=['join_date'])\n",
    "df_inventory_clean = load_dataset_from_csv(data_file_path, \"inventory_clean.csv\", header='infer', parse_dates=['date'])\n",
    "df_products_clean = load_dataset_from_csv(data_file_path, \"products_clean.csv\", header='infer')\n",
    "df_salesforce_clean = load_dataset_from_csv(data_file_path, \"salesforce_clean.csv\", header='infer')\n",
    "df_suppliers_clean = load_dataset_from_csv(data_file_path, \"suppliers_clean.csv\", header='infer')\n",
    "df_transactions_clean = load_dataset_from_csv(data_file_path, \"transactions_clean.csv\", header='infer', parse_dates=['date'])\n",
    "\n",
    "# data_file_path = project_root / \"data\" / \"processed\" / \"feature\"\n",
    "\n",
    "# df_xxx_feature = load_dataset_from_csv(data_file_path, \"xxx_feature.csv\", sep=',', header='infer')"
   ]
  },
  {
   "cell_type": "code",
   "execution_count": null,
   "id": "40581125",
   "metadata": {},
   "outputs": [],
   "source": [
    "# Format notebook output\n",
    "format_notebook()"
   ]
  },
  {
   "cell_type": "markdown",
   "id": "1f86f807",
   "metadata": {},
   "source": [
    "## __3. Exploratory Data Analysis__."
   ]
  },
  {
   "cell_type": "markdown",
   "id": "dd54b9df",
   "metadata": {},
   "source": [
    "### 3.0 Casting Data types."
   ]
  },
  {
   "cell_type": "code",
   "execution_count": null,
   "id": "0821cec9",
   "metadata": {},
   "outputs": [],
   "source": [
    "# Call casting dtypes function from features.py and Identifying correctly missing values qith pd.NA\n",
    "\n",
    "# missing values to pd.NA\n",
    "df_inventory_clean = replace_missing_values(df_inventory_clean, include=['warehouse_location'])\n",
    "df_customers_clean = replace_missing_values(df_customers_clean, include=['segment'])\n",
    "\n",
    "# object to string\n",
    "df_products_clean = cast_datatypes(df_products_clean, 'string', c_include=['product_name', 'brand'])\n",
    "df_suppliers_clean = cast_datatypes(df_suppliers_clean, 'string', c_include=['supplier_name', 'contact_info'])\n",
    "df_customers_clean = cast_datatypes(df_customers_clean, 'string', c_include=['customer_name'])\n",
    "df_salesforce_clean = cast_datatypes(df_salesforce_clean, 'string', c_include=['employee_name'])\n",
    "\n",
    "# object to numeric\n",
    "df_products_clean = cast_datatypes(df_products_clean, 'numeric', numeric_type='Float64', c_include=['unit_cost'])\n",
    "df_customers_clean = cast_datatypes(df_customers_clean, 'numeric', numeric_type=\"Float64\", c_include=['total_spent'])\n",
    "\n",
    "# object to category\n",
    "df_products_clean = cast_datatypes(df_products_clean, 'category', c_include=['category', 'status'])\n",
    "df_inventory_clean = cast_datatypes(df_inventory_clean, 'category', c_include=['warehouse_location'])\n",
    "df_customers_clean = cast_datatypes(df_customers_clean, 'category', c_include=['segment'])\n",
    "df_salesforce_clean = cast_datatypes(df_salesforce_clean, 'category', c_include=['region'])\n",
    "\n",
    "# object to datetime\n",
    "df_inventory_clean['date'] = pd.to_datetime(df_inventory_clean['date'], errors='coerce', utc=True)\n",
    "df_customers_clean['join_date'] = pd.to_datetime(df_customers_clean['join_date'], errors='coerce', utc=True)\n",
    "df_transactions_clean['date'] = pd.to_datetime(df_transactions_clean['date'], errors='coerce', utc=True)"
   ]
  },
  {
   "cell_type": "code",
   "execution_count": null,
   "id": "8179ee95",
   "metadata": {},
   "outputs": [
    {
     "name": "stdout",
     "output_type": "stream",
     "text": [
      "<class 'pandas.core.frame.DataFrame'>\n",
      "RangeIndex: 5009 entries, 0 to 5008\n",
      "Data columns (total 6 columns):\n",
      " #   Column         Non-Null Count  Dtype              \n",
      "---  ------         --------------  -----              \n",
      " 0   customer_id    5009 non-null   int64              \n",
      " 1   customer_name  5009 non-null   string             \n",
      " 2   join_date      5009 non-null   datetime64[ns, UTC]\n",
      " 3   total_spent    5009 non-null   Float64            \n",
      " 4   frequency      5009 non-null   int64              \n",
      " 5   segment        4858 non-null   category           \n",
      "dtypes: Float64(1), category(1), datetime64[ns, UTC](1), int64(2), string(1)\n",
      "memory usage: 205.7 KB\n"
     ]
    }
   ],
   "source": [
    "df_customers_clean.info()"
   ]
  },
  {
   "cell_type": "code",
   "execution_count": null,
   "id": "0de51ea2",
   "metadata": {},
   "outputs": [
    {
     "name": "stdout",
     "output_type": "stream",
     "text": [
      "<class 'pandas.core.frame.DataFrame'>\n",
      "RangeIndex: 20056 entries, 0 to 20055\n",
      "Data columns (total 8 columns):\n",
      " #   Column              Non-Null Count  Dtype              \n",
      "---  ------              --------------  -----              \n",
      " 0   inventory_id        20056 non-null  int64              \n",
      " 1   date                20056 non-null  datetime64[ns, UTC]\n",
      " 2   product_id          20056 non-null  int64              \n",
      " 3   beginning_stock     20056 non-null  int64              \n",
      " 4   received            20056 non-null  int64              \n",
      " 5   sold                20056 non-null  int64              \n",
      " 6   warehouse_location  19759 non-null  category           \n",
      " 7   ending_stock        20056 non-null  int64              \n",
      "dtypes: category(1), datetime64[ns, UTC](1), int64(6)\n",
      "memory usage: 1.1 MB\n"
     ]
    }
   ],
   "source": [
    "df_inventory_clean.info()"
   ]
  },
  {
   "cell_type": "code",
   "execution_count": null,
   "id": "85a43e8d",
   "metadata": {},
   "outputs": [
    {
     "name": "stdout",
     "output_type": "stream",
     "text": [
      "<class 'pandas.core.frame.DataFrame'>\n",
      "RangeIndex: 10055 entries, 0 to 10054\n",
      "Data columns (total 8 columns):\n",
      " #   Column        Non-Null Count  Dtype   \n",
      "---  ------        --------------  -----   \n",
      " 0   product_id    10055 non-null  int64   \n",
      " 1   product_name  10055 non-null  string  \n",
      " 2   category      10055 non-null  category\n",
      " 3   supplier_id   10055 non-null  int64   \n",
      " 4   unit_cost     10055 non-null  Float64 \n",
      " 5   status        10055 non-null  category\n",
      " 6   brand         10055 non-null  string  \n",
      " 7   list_price    10055 non-null  float64 \n",
      "dtypes: Float64(1), category(2), float64(1), int64(2), string(2)\n",
      "memory usage: 501.3 KB\n"
     ]
    }
   ],
   "source": [
    "df_products_clean.info()"
   ]
  },
  {
   "cell_type": "code",
   "execution_count": null,
   "id": "23396fbe",
   "metadata": {},
   "outputs": [
    {
     "name": "stdout",
     "output_type": "stream",
     "text": [
      "<class 'pandas.core.frame.DataFrame'>\n",
      "RangeIndex: 2006 entries, 0 to 2005\n",
      "Data columns (total 5 columns):\n",
      " #   Column         Non-Null Count  Dtype   \n",
      "---  ------         --------------  -----   \n",
      " 0   employee_id    2006 non-null   int64   \n",
      " 1   employee_name  2006 non-null   string  \n",
      " 2   region         2006 non-null   category\n",
      " 3   total_sales    2006 non-null   float64 \n",
      " 4   effectiveness  2006 non-null   float64 \n",
      "dtypes: category(1), float64(2), int64(1), string(1)\n",
      "memory usage: 65.0 KB\n"
     ]
    }
   ],
   "source": [
    "df_salesforce_clean.info()"
   ]
  },
  {
   "cell_type": "code",
   "execution_count": null,
   "id": "f8736163",
   "metadata": {},
   "outputs": [
    {
     "name": "stdout",
     "output_type": "stream",
     "text": [
      "<class 'pandas.core.frame.DataFrame'>\n",
      "RangeIndex: 2000 entries, 0 to 1999\n",
      "Data columns (total 5 columns):\n",
      " #   Column          Non-Null Count  Dtype  \n",
      "---  ------          --------------  -----  \n",
      " 0   supplier_id     2000 non-null   int64  \n",
      " 1   supplier_name   2000 non-null   string \n",
      " 2   lead_time_days  2000 non-null   int64  \n",
      " 3   contact_info    2000 non-null   string \n",
      " 4   rating          2000 non-null   float64\n",
      "dtypes: float64(1), int64(2), string(2)\n",
      "memory usage: 78.3 KB\n"
     ]
    }
   ],
   "source": [
    "df_suppliers_clean.info()"
   ]
  },
  {
   "cell_type": "code",
   "execution_count": null,
   "id": "e14fad41",
   "metadata": {},
   "outputs": [
    {
     "name": "stdout",
     "output_type": "stream",
     "text": [
      "<class 'pandas.core.frame.DataFrame'>\n",
      "RangeIndex: 20078 entries, 0 to 20077\n",
      "Data columns (total 8 columns):\n",
      " #   Column          Non-Null Count  Dtype              \n",
      "---  ------          --------------  -----              \n",
      " 0   transaction_id  20078 non-null  int64              \n",
      " 1   date            20078 non-null  datetime64[ns, UTC]\n",
      " 2   product_id      20078 non-null  int64              \n",
      " 3   units_sold      20078 non-null  int64              \n",
      " 4   customer_id     20078 non-null  int64              \n",
      " 5   employee_id     20078 non-null  int64              \n",
      " 6   sales_amount    20078 non-null  float64            \n",
      " 7   list_price      20078 non-null  float64            \n",
      "dtypes: datetime64[ns, UTC](1), float64(2), int64(5)\n",
      "memory usage: 1.2 MB\n"
     ]
    }
   ],
   "source": [
    "df_transactions_clean.info()"
   ]
  },
  {
   "cell_type": "markdown",
   "id": "a02d2afe",
   "metadata": {},
   "source": [
    "### 3.1  Descriptive Statistics."
   ]
  },
  {
   "cell_type": "markdown",
   "id": "e795f8e6",
   "metadata": {},
   "source": [
    "#### 3.1.1 Descriptive statistics for Original datasets."
   ]
  },
  {
   "cell_type": "code",
   "execution_count": null,
   "id": "ab055b3c",
   "metadata": {},
   "outputs": [
    {
     "data": {
      "application/vnd.microsoft.datawrangler.viewer.v0+json": {
       "columns": [
        {
         "name": "index",
         "rawType": "object",
         "type": "string"
        },
        {
         "name": "customer_id",
         "rawType": "float64",
         "type": "float"
        },
        {
         "name": "customer_name",
         "rawType": "object",
         "type": "unknown"
        },
        {
         "name": "join_date",
         "rawType": "object",
         "type": "unknown"
        },
        {
         "name": "total_spent",
         "rawType": "Float64",
         "type": "float"
        },
        {
         "name": "frequency",
         "rawType": "float64",
         "type": "float"
        },
        {
         "name": "segment",
         "rawType": "object",
         "type": "unknown"
        }
       ],
       "ref": "ebb99959-e2b3-4c64-a974-d3bf8c7bee0d",
       "rows": [
        [
         "count",
         "5009.0",
         "5009",
         "5009",
         "5009.0",
         "5009.0",
         "4858"
        ],
        [
         "unique",
         null,
         "4839",
         null,
         null,
         null,
         "3"
        ],
        [
         "top",
         null,
         "stephanie_smith",
         null,
         null,
         null,
         "occasional"
        ],
        [
         "freq",
         null,
         "5",
         null,
         null,
         null,
         "1670"
        ],
        [
         "mean",
         "2501.349770413256",
         null,
         "2024-07-05 16:23:17.165102848+00:00",
         "2467.201088041525",
         "24.56578159313236",
         null
        ],
        [
         "min",
         "1.0",
         null,
         "2023-07-07 07:00:00+00:00",
         "0.0",
         "0.0",
         null
        ],
        [
         "25%",
         "1252.0",
         null,
         "2024-01-04 08:00:00+00:00",
         "1183.14",
         "12.0",
         null
        ],
        [
         "50%",
         "2502.0",
         null,
         "2024-07-07 07:00:00+00:00",
         "2452.65",
         "24.0",
         null
        ],
        [
         "75%",
         "3751.0",
         null,
         "2025-01-04 08:00:00+00:00",
         "3720.61",
         "37.0",
         null
        ],
        [
         "max",
         "5000.0",
         null,
         "2025-07-06 07:00:00+00:00",
         "4998.81",
         "49.0",
         null
        ],
        [
         "std",
         "1443.4713989383933",
         null,
         null,
         "1444.988577671945",
         "14.281868231318004",
         null
        ]
       ],
       "shape": {
        "columns": 6,
        "rows": 11
       }
      },
      "text/html": [
       "<div>\n",
       "<style scoped>\n",
       "    .dataframe tbody tr th:only-of-type {\n",
       "        vertical-align: middle;\n",
       "    }\n",
       "\n",
       "    .dataframe tbody tr th {\n",
       "        vertical-align: top;\n",
       "    }\n",
       "\n",
       "    .dataframe thead th {\n",
       "        text-align: right;\n",
       "    }\n",
       "</style>\n",
       "<table border=\"1\" class=\"dataframe\">\n",
       "  <thead>\n",
       "    <tr style=\"text-align: right;\">\n",
       "      <th></th>\n",
       "      <th>customer_id</th>\n",
       "      <th>customer_name</th>\n",
       "      <th>join_date</th>\n",
       "      <th>total_spent</th>\n",
       "      <th>frequency</th>\n",
       "      <th>segment</th>\n",
       "    </tr>\n",
       "  </thead>\n",
       "  <tbody>\n",
       "    <tr>\n",
       "      <th>count</th>\n",
       "      <td>5009.000000</td>\n",
       "      <td>5009</td>\n",
       "      <td>5009</td>\n",
       "      <td>5009.0</td>\n",
       "      <td>5009.000000</td>\n",
       "      <td>4858</td>\n",
       "    </tr>\n",
       "    <tr>\n",
       "      <th>unique</th>\n",
       "      <td>NaN</td>\n",
       "      <td>4839</td>\n",
       "      <td>NaN</td>\n",
       "      <td>&lt;NA&gt;</td>\n",
       "      <td>NaN</td>\n",
       "      <td>3</td>\n",
       "    </tr>\n",
       "    <tr>\n",
       "      <th>top</th>\n",
       "      <td>NaN</td>\n",
       "      <td>stephanie_smith</td>\n",
       "      <td>NaN</td>\n",
       "      <td>&lt;NA&gt;</td>\n",
       "      <td>NaN</td>\n",
       "      <td>occasional</td>\n",
       "    </tr>\n",
       "    <tr>\n",
       "      <th>freq</th>\n",
       "      <td>NaN</td>\n",
       "      <td>5</td>\n",
       "      <td>NaN</td>\n",
       "      <td>&lt;NA&gt;</td>\n",
       "      <td>NaN</td>\n",
       "      <td>1670</td>\n",
       "    </tr>\n",
       "    <tr>\n",
       "      <th>mean</th>\n",
       "      <td>2501.349770</td>\n",
       "      <td>NaN</td>\n",
       "      <td>2024-07-05 16:23:17.165102848+00:00</td>\n",
       "      <td>2467.201088</td>\n",
       "      <td>24.565782</td>\n",
       "      <td>NaN</td>\n",
       "    </tr>\n",
       "    <tr>\n",
       "      <th>min</th>\n",
       "      <td>1.000000</td>\n",
       "      <td>NaN</td>\n",
       "      <td>2023-07-07 07:00:00+00:00</td>\n",
       "      <td>0.0</td>\n",
       "      <td>0.000000</td>\n",
       "      <td>NaN</td>\n",
       "    </tr>\n",
       "    <tr>\n",
       "      <th>25%</th>\n",
       "      <td>1252.000000</td>\n",
       "      <td>NaN</td>\n",
       "      <td>2024-01-04 08:00:00+00:00</td>\n",
       "      <td>1183.14</td>\n",
       "      <td>12.000000</td>\n",
       "      <td>NaN</td>\n",
       "    </tr>\n",
       "    <tr>\n",
       "      <th>50%</th>\n",
       "      <td>2502.000000</td>\n",
       "      <td>NaN</td>\n",
       "      <td>2024-07-07 07:00:00+00:00</td>\n",
       "      <td>2452.65</td>\n",
       "      <td>24.000000</td>\n",
       "      <td>NaN</td>\n",
       "    </tr>\n",
       "    <tr>\n",
       "      <th>75%</th>\n",
       "      <td>3751.000000</td>\n",
       "      <td>NaN</td>\n",
       "      <td>2025-01-04 08:00:00+00:00</td>\n",
       "      <td>3720.61</td>\n",
       "      <td>37.000000</td>\n",
       "      <td>NaN</td>\n",
       "    </tr>\n",
       "    <tr>\n",
       "      <th>max</th>\n",
       "      <td>5000.000000</td>\n",
       "      <td>NaN</td>\n",
       "      <td>2025-07-06 07:00:00+00:00</td>\n",
       "      <td>4998.81</td>\n",
       "      <td>49.000000</td>\n",
       "      <td>NaN</td>\n",
       "    </tr>\n",
       "    <tr>\n",
       "      <th>std</th>\n",
       "      <td>1443.471399</td>\n",
       "      <td>NaN</td>\n",
       "      <td>NaN</td>\n",
       "      <td>1444.988578</td>\n",
       "      <td>14.281868</td>\n",
       "      <td>NaN</td>\n",
       "    </tr>\n",
       "  </tbody>\n",
       "</table>\n",
       "</div>"
      ],
      "text/plain": [
       "        customer_id    customer_name                            join_date  total_spent    frequency     segment\n",
       "count   5009.000000             5009                                 5009       5009.0  5009.000000        4858\n",
       "unique          NaN             4839                                  NaN         <NA>          NaN           3\n",
       "top             NaN  stephanie_smith                                  NaN         <NA>          NaN  occasional\n",
       "freq            NaN                5                                  NaN         <NA>          NaN        1670\n",
       "mean    2501.349770              NaN  2024-07-05 16:23:17.165102848+00:00  2467.201088    24.565782         NaN\n",
       "min        1.000000              NaN            2023-07-07 07:00:00+00:00          0.0     0.000000         NaN\n",
       "25%     1252.000000              NaN            2024-01-04 08:00:00+00:00      1183.14    12.000000         NaN\n",
       "50%     2502.000000              NaN            2024-07-07 07:00:00+00:00      2452.65    24.000000         NaN\n",
       "75%     3751.000000              NaN            2025-01-04 08:00:00+00:00      3720.61    37.000000         NaN\n",
       "max     5000.000000              NaN            2025-07-06 07:00:00+00:00      4998.81    49.000000         NaN\n",
       "std     1443.471399              NaN                                  NaN  1444.988578    14.281868         NaN"
      ]
     },
     "metadata": {},
     "output_type": "display_data"
    }
   ],
   "source": [
    "# Descriptive statistics for df_customers_clean dataset\n",
    "df_customers_clean.describe(include='all')"
   ]
  },
  {
   "cell_type": "code",
   "execution_count": null,
   "id": "59b161f2",
   "metadata": {},
   "outputs": [
    {
     "data": {
      "application/vnd.microsoft.datawrangler.viewer.v0+json": {
       "columns": [
        {
         "name": "index",
         "rawType": "object",
         "type": "string"
        },
        {
         "name": "inventory_id",
         "rawType": "float64",
         "type": "float"
        },
        {
         "name": "date",
         "rawType": "object",
         "type": "unknown"
        },
        {
         "name": "product_id",
         "rawType": "float64",
         "type": "float"
        },
        {
         "name": "beginning_stock",
         "rawType": "float64",
         "type": "float"
        },
        {
         "name": "received",
         "rawType": "float64",
         "type": "float"
        },
        {
         "name": "sold",
         "rawType": "float64",
         "type": "float"
        },
        {
         "name": "warehouse_location",
         "rawType": "object",
         "type": "unknown"
        },
        {
         "name": "ending_stock",
         "rawType": "float64",
         "type": "float"
        }
       ],
       "ref": "15aef1d6-7208-4d6d-9db7-cea0d7c42e7f",
       "rows": [
        [
         "count",
         "20056.0",
         "20056",
         "20056.0",
         "20056.0",
         "20056.0",
         "20056.0",
         "19759",
         "20056.0"
        ],
        [
         "unique",
         null,
         null,
         null,
         null,
         null,
         null,
         "4",
         null
        ],
        [
         "top",
         null,
         null,
         null,
         null,
         null,
         null,
         "east",
         null
        ],
        [
         "freq",
         null,
         null,
         null,
         null,
         null,
         null,
         "5029",
         null
        ],
        [
         "mean",
         "10000.669375747906",
         "2025-06-06 18:37:44.539290112+00:00",
         "4999.319355803749",
         "53.12804148384523",
         "9.45218388512166",
         "6.905265257279617",
         null,
         "55.67496011168728"
        ],
        [
         "min",
         "1.0",
         "2025-05-08 07:00:00+00:00",
         "2.0",
         "0.0",
         "0.0",
         "0.0",
         null,
         "0.0"
        ],
        [
         "25%",
         "4995.75",
         "2025-05-23 07:00:00+00:00",
         "2506.0",
         "25.0",
         "4.0",
         "3.0",
         null,
         "27.0"
        ],
        [
         "50%",
         "10001.5",
         "2025-06-07 07:00:00+00:00",
         "4992.5",
         "50.0",
         "9.0",
         "7.0",
         null,
         "53.0"
        ],
        [
         "75%",
         "15002.25",
         "2025-06-21 07:00:00+00:00",
         "7467.25",
         "76.0",
         "15.0",
         "11.0",
         null,
         "78.0"
        ],
        [
         "max",
         "20000.0",
         "2025-07-06 07:00:00+00:00",
         "10000.0",
         "891.0",
         "19.0",
         "14.0",
         null,
         "902.0"
        ],
        [
         "std",
         "5774.9077595961635",
         null,
         "2876.1479933337096",
         "48.56877713782427",
         "5.792954499411369",
         "4.294424812143936",
         null,
         "49.05324246783038"
        ]
       ],
       "shape": {
        "columns": 8,
        "rows": 11
       }
      },
      "text/html": [
       "<div>\n",
       "<style scoped>\n",
       "    .dataframe tbody tr th:only-of-type {\n",
       "        vertical-align: middle;\n",
       "    }\n",
       "\n",
       "    .dataframe tbody tr th {\n",
       "        vertical-align: top;\n",
       "    }\n",
       "\n",
       "    .dataframe thead th {\n",
       "        text-align: right;\n",
       "    }\n",
       "</style>\n",
       "<table border=\"1\" class=\"dataframe\">\n",
       "  <thead>\n",
       "    <tr style=\"text-align: right;\">\n",
       "      <th></th>\n",
       "      <th>inventory_id</th>\n",
       "      <th>date</th>\n",
       "      <th>product_id</th>\n",
       "      <th>beginning_stock</th>\n",
       "      <th>received</th>\n",
       "      <th>sold</th>\n",
       "      <th>warehouse_location</th>\n",
       "      <th>ending_stock</th>\n",
       "    </tr>\n",
       "  </thead>\n",
       "  <tbody>\n",
       "    <tr>\n",
       "      <th>count</th>\n",
       "      <td>20056.000000</td>\n",
       "      <td>20056</td>\n",
       "      <td>20056.000000</td>\n",
       "      <td>20056.000000</td>\n",
       "      <td>20056.000000</td>\n",
       "      <td>20056.000000</td>\n",
       "      <td>19759</td>\n",
       "      <td>20056.000000</td>\n",
       "    </tr>\n",
       "    <tr>\n",
       "      <th>unique</th>\n",
       "      <td>NaN</td>\n",
       "      <td>NaN</td>\n",
       "      <td>NaN</td>\n",
       "      <td>NaN</td>\n",
       "      <td>NaN</td>\n",
       "      <td>NaN</td>\n",
       "      <td>4</td>\n",
       "      <td>NaN</td>\n",
       "    </tr>\n",
       "    <tr>\n",
       "      <th>top</th>\n",
       "      <td>NaN</td>\n",
       "      <td>NaN</td>\n",
       "      <td>NaN</td>\n",
       "      <td>NaN</td>\n",
       "      <td>NaN</td>\n",
       "      <td>NaN</td>\n",
       "      <td>east</td>\n",
       "      <td>NaN</td>\n",
       "    </tr>\n",
       "    <tr>\n",
       "      <th>freq</th>\n",
       "      <td>NaN</td>\n",
       "      <td>NaN</td>\n",
       "      <td>NaN</td>\n",
       "      <td>NaN</td>\n",
       "      <td>NaN</td>\n",
       "      <td>NaN</td>\n",
       "      <td>5029</td>\n",
       "      <td>NaN</td>\n",
       "    </tr>\n",
       "    <tr>\n",
       "      <th>mean</th>\n",
       "      <td>10000.669376</td>\n",
       "      <td>2025-06-06 18:37:44.539290112+00:00</td>\n",
       "      <td>4999.319356</td>\n",
       "      <td>53.128041</td>\n",
       "      <td>9.452184</td>\n",
       "      <td>6.905265</td>\n",
       "      <td>NaN</td>\n",
       "      <td>55.674960</td>\n",
       "    </tr>\n",
       "    <tr>\n",
       "      <th>min</th>\n",
       "      <td>1.000000</td>\n",
       "      <td>2025-05-08 07:00:00+00:00</td>\n",
       "      <td>2.000000</td>\n",
       "      <td>0.000000</td>\n",
       "      <td>0.000000</td>\n",
       "      <td>0.000000</td>\n",
       "      <td>NaN</td>\n",
       "      <td>0.000000</td>\n",
       "    </tr>\n",
       "    <tr>\n",
       "      <th>25%</th>\n",
       "      <td>4995.750000</td>\n",
       "      <td>2025-05-23 07:00:00+00:00</td>\n",
       "      <td>2506.000000</td>\n",
       "      <td>25.000000</td>\n",
       "      <td>4.000000</td>\n",
       "      <td>3.000000</td>\n",
       "      <td>NaN</td>\n",
       "      <td>27.000000</td>\n",
       "    </tr>\n",
       "    <tr>\n",
       "      <th>50%</th>\n",
       "      <td>10001.500000</td>\n",
       "      <td>2025-06-07 07:00:00+00:00</td>\n",
       "      <td>4992.500000</td>\n",
       "      <td>50.000000</td>\n",
       "      <td>9.000000</td>\n",
       "      <td>7.000000</td>\n",
       "      <td>NaN</td>\n",
       "      <td>53.000000</td>\n",
       "    </tr>\n",
       "    <tr>\n",
       "      <th>75%</th>\n",
       "      <td>15002.250000</td>\n",
       "      <td>2025-06-21 07:00:00+00:00</td>\n",
       "      <td>7467.250000</td>\n",
       "      <td>76.000000</td>\n",
       "      <td>15.000000</td>\n",
       "      <td>11.000000</td>\n",
       "      <td>NaN</td>\n",
       "      <td>78.000000</td>\n",
       "    </tr>\n",
       "    <tr>\n",
       "      <th>max</th>\n",
       "      <td>20000.000000</td>\n",
       "      <td>2025-07-06 07:00:00+00:00</td>\n",
       "      <td>10000.000000</td>\n",
       "      <td>891.000000</td>\n",
       "      <td>19.000000</td>\n",
       "      <td>14.000000</td>\n",
       "      <td>NaN</td>\n",
       "      <td>902.000000</td>\n",
       "    </tr>\n",
       "    <tr>\n",
       "      <th>std</th>\n",
       "      <td>5774.907760</td>\n",
       "      <td>NaN</td>\n",
       "      <td>2876.147993</td>\n",
       "      <td>48.568777</td>\n",
       "      <td>5.792954</td>\n",
       "      <td>4.294425</td>\n",
       "      <td>NaN</td>\n",
       "      <td>49.053242</td>\n",
       "    </tr>\n",
       "  </tbody>\n",
       "</table>\n",
       "</div>"
      ],
      "text/plain": [
       "        inventory_id                                 date    product_id  beginning_stock      received          sold warehouse_location  \\\n",
       "count   20056.000000                                20056  20056.000000     20056.000000  20056.000000  20056.000000              19759   \n",
       "unique           NaN                                  NaN           NaN              NaN           NaN           NaN                  4   \n",
       "top              NaN                                  NaN           NaN              NaN           NaN           NaN               east   \n",
       "freq             NaN                                  NaN           NaN              NaN           NaN           NaN               5029   \n",
       "mean    10000.669376  2025-06-06 18:37:44.539290112+00:00   4999.319356        53.128041      9.452184      6.905265                NaN   \n",
       "min         1.000000            2025-05-08 07:00:00+00:00      2.000000         0.000000      0.000000      0.000000                NaN   \n",
       "25%      4995.750000            2025-05-23 07:00:00+00:00   2506.000000        25.000000      4.000000      3.000000                NaN   \n",
       "50%     10001.500000            2025-06-07 07:00:00+00:00   4992.500000        50.000000      9.000000      7.000000                NaN   \n",
       "75%     15002.250000            2025-06-21 07:00:00+00:00   7467.250000        76.000000     15.000000     11.000000                NaN   \n",
       "max     20000.000000            2025-07-06 07:00:00+00:00  10000.000000       891.000000     19.000000     14.000000                NaN   \n",
       "std      5774.907760                                  NaN   2876.147993        48.568777      5.792954      4.294425                NaN   \n",
       "\n",
       "        ending_stock  \n",
       "count   20056.000000  \n",
       "unique           NaN  \n",
       "top              NaN  \n",
       "freq             NaN  \n",
       "mean       55.674960  \n",
       "min         0.000000  \n",
       "25%        27.000000  \n",
       "50%        53.000000  \n",
       "75%        78.000000  \n",
       "max       902.000000  \n",
       "std        49.053242  "
      ]
     },
     "metadata": {},
     "output_type": "display_data"
    }
   ],
   "source": [
    "# Descriptive statistics for df_inventory_clean dataset\n",
    "df_inventory_clean.describe(include='all')"
   ]
  },
  {
   "cell_type": "code",
   "execution_count": null,
   "id": "70c616fe",
   "metadata": {},
   "outputs": [
    {
     "data": {
      "application/vnd.microsoft.datawrangler.viewer.v0+json": {
       "columns": [
        {
         "name": "index",
         "rawType": "object",
         "type": "string"
        },
        {
         "name": "product_id",
         "rawType": "float64",
         "type": "float"
        },
        {
         "name": "product_name",
         "rawType": "object",
         "type": "unknown"
        },
        {
         "name": "category",
         "rawType": "object",
         "type": "unknown"
        },
        {
         "name": "supplier_id",
         "rawType": "float64",
         "type": "float"
        },
        {
         "name": "unit_cost",
         "rawType": "Float64",
         "type": "float"
        },
        {
         "name": "status",
         "rawType": "object",
         "type": "unknown"
        },
        {
         "name": "brand",
         "rawType": "object",
         "type": "unknown"
        },
        {
         "name": "list_price",
         "rawType": "float64",
         "type": "float"
        }
       ],
       "ref": "719d8ccf-a4e8-4406-88f9-79bcf0c6c529",
       "rows": [
        [
         "count",
         "10055.0",
         "10055",
         "10055",
         "10055.0",
         "10055.0",
         "10055",
         "10055",
         "10055.0"
        ],
        [
         "unique",
         null,
         "4735",
         "6",
         null,
         null,
         "3",
         "8241",
         null
        ],
        [
         "top",
         null,
         "guess_frozen_foods",
         "snacks",
         null,
         null,
         "discontinued",
         "unknown",
         null
        ],
        [
         "freq",
         null,
         "8",
         "1742",
         null,
         null,
         "3371",
         "502",
         null
        ],
        [
         "mean",
         "5001.179015415216",
         null,
         null,
         "995.4088513177524",
         "12.160353710812881",
         null,
         null,
         "18.811385388390846"
        ],
        [
         "std",
         "2886.2184932446094",
         null,
         null,
         "576.6751004639866",
         "27.62312954381378",
         null,
         null,
         "36.71471669618083"
        ],
        [
         "min",
         "1.0",
         null,
         null,
         "1.0",
         "0.5",
         null,
         null,
         "0.62"
        ],
        [
         "25%",
         "2503.5",
         null,
         null,
         "497.0",
         "5.465",
         null,
         null,
         "7.95"
        ],
        [
         "50%",
         "5002.0",
         null,
         null,
         "993.0",
         "10.415",
         null,
         null,
         "15.48"
        ],
        [
         "75%",
         "7501.5",
         null,
         null,
         "1485.0",
         "15.17",
         null,
         null,
         "22.97"
        ],
        [
         "max",
         "10000.0",
         null,
         null,
         "2000.0",
         "1927.1449091140955",
         null,
         null,
         "2312.57"
        ]
       ],
       "shape": {
        "columns": 8,
        "rows": 11
       }
      },
      "text/html": [
       "<div>\n",
       "<style scoped>\n",
       "    .dataframe tbody tr th:only-of-type {\n",
       "        vertical-align: middle;\n",
       "    }\n",
       "\n",
       "    .dataframe tbody tr th {\n",
       "        vertical-align: top;\n",
       "    }\n",
       "\n",
       "    .dataframe thead th {\n",
       "        text-align: right;\n",
       "    }\n",
       "</style>\n",
       "<table border=\"1\" class=\"dataframe\">\n",
       "  <thead>\n",
       "    <tr style=\"text-align: right;\">\n",
       "      <th></th>\n",
       "      <th>product_id</th>\n",
       "      <th>product_name</th>\n",
       "      <th>category</th>\n",
       "      <th>supplier_id</th>\n",
       "      <th>unit_cost</th>\n",
       "      <th>status</th>\n",
       "      <th>brand</th>\n",
       "      <th>list_price</th>\n",
       "    </tr>\n",
       "  </thead>\n",
       "  <tbody>\n",
       "    <tr>\n",
       "      <th>count</th>\n",
       "      <td>10055.000000</td>\n",
       "      <td>10055</td>\n",
       "      <td>10055</td>\n",
       "      <td>10055.000000</td>\n",
       "      <td>10055.0</td>\n",
       "      <td>10055</td>\n",
       "      <td>10055</td>\n",
       "      <td>10055.000000</td>\n",
       "    </tr>\n",
       "    <tr>\n",
       "      <th>unique</th>\n",
       "      <td>NaN</td>\n",
       "      <td>4735</td>\n",
       "      <td>6</td>\n",
       "      <td>NaN</td>\n",
       "      <td>&lt;NA&gt;</td>\n",
       "      <td>3</td>\n",
       "      <td>8241</td>\n",
       "      <td>NaN</td>\n",
       "    </tr>\n",
       "    <tr>\n",
       "      <th>top</th>\n",
       "      <td>NaN</td>\n",
       "      <td>guess_frozen_foods</td>\n",
       "      <td>snacks</td>\n",
       "      <td>NaN</td>\n",
       "      <td>&lt;NA&gt;</td>\n",
       "      <td>discontinued</td>\n",
       "      <td>unknown</td>\n",
       "      <td>NaN</td>\n",
       "    </tr>\n",
       "    <tr>\n",
       "      <th>freq</th>\n",
       "      <td>NaN</td>\n",
       "      <td>8</td>\n",
       "      <td>1742</td>\n",
       "      <td>NaN</td>\n",
       "      <td>&lt;NA&gt;</td>\n",
       "      <td>3371</td>\n",
       "      <td>502</td>\n",
       "      <td>NaN</td>\n",
       "    </tr>\n",
       "    <tr>\n",
       "      <th>mean</th>\n",
       "      <td>5001.179015</td>\n",
       "      <td>NaN</td>\n",
       "      <td>NaN</td>\n",
       "      <td>995.408851</td>\n",
       "      <td>12.160354</td>\n",
       "      <td>NaN</td>\n",
       "      <td>NaN</td>\n",
       "      <td>18.811385</td>\n",
       "    </tr>\n",
       "    <tr>\n",
       "      <th>std</th>\n",
       "      <td>2886.218493</td>\n",
       "      <td>NaN</td>\n",
       "      <td>NaN</td>\n",
       "      <td>576.675100</td>\n",
       "      <td>27.62313</td>\n",
       "      <td>NaN</td>\n",
       "      <td>NaN</td>\n",
       "      <td>36.714717</td>\n",
       "    </tr>\n",
       "    <tr>\n",
       "      <th>min</th>\n",
       "      <td>1.000000</td>\n",
       "      <td>NaN</td>\n",
       "      <td>NaN</td>\n",
       "      <td>1.000000</td>\n",
       "      <td>0.5</td>\n",
       "      <td>NaN</td>\n",
       "      <td>NaN</td>\n",
       "      <td>0.620000</td>\n",
       "    </tr>\n",
       "    <tr>\n",
       "      <th>25%</th>\n",
       "      <td>2503.500000</td>\n",
       "      <td>NaN</td>\n",
       "      <td>NaN</td>\n",
       "      <td>497.000000</td>\n",
       "      <td>5.465</td>\n",
       "      <td>NaN</td>\n",
       "      <td>NaN</td>\n",
       "      <td>7.950000</td>\n",
       "    </tr>\n",
       "    <tr>\n",
       "      <th>50%</th>\n",
       "      <td>5002.000000</td>\n",
       "      <td>NaN</td>\n",
       "      <td>NaN</td>\n",
       "      <td>993.000000</td>\n",
       "      <td>10.415</td>\n",
       "      <td>NaN</td>\n",
       "      <td>NaN</td>\n",
       "      <td>15.480000</td>\n",
       "    </tr>\n",
       "    <tr>\n",
       "      <th>75%</th>\n",
       "      <td>7501.500000</td>\n",
       "      <td>NaN</td>\n",
       "      <td>NaN</td>\n",
       "      <td>1485.000000</td>\n",
       "      <td>15.17</td>\n",
       "      <td>NaN</td>\n",
       "      <td>NaN</td>\n",
       "      <td>22.970000</td>\n",
       "    </tr>\n",
       "    <tr>\n",
       "      <th>max</th>\n",
       "      <td>10000.000000</td>\n",
       "      <td>NaN</td>\n",
       "      <td>NaN</td>\n",
       "      <td>2000.000000</td>\n",
       "      <td>1927.144909</td>\n",
       "      <td>NaN</td>\n",
       "      <td>NaN</td>\n",
       "      <td>2312.570000</td>\n",
       "    </tr>\n",
       "  </tbody>\n",
       "</table>\n",
       "</div>"
      ],
      "text/plain": [
       "          product_id        product_name category   supplier_id    unit_cost        status    brand    list_price\n",
       "count   10055.000000               10055    10055  10055.000000      10055.0         10055    10055  10055.000000\n",
       "unique           NaN                4735        6           NaN         <NA>             3     8241           NaN\n",
       "top              NaN  guess_frozen_foods   snacks           NaN         <NA>  discontinued  unknown           NaN\n",
       "freq             NaN                   8     1742           NaN         <NA>          3371      502           NaN\n",
       "mean     5001.179015                 NaN      NaN    995.408851    12.160354           NaN      NaN     18.811385\n",
       "std      2886.218493                 NaN      NaN    576.675100     27.62313           NaN      NaN     36.714717\n",
       "min         1.000000                 NaN      NaN      1.000000          0.5           NaN      NaN      0.620000\n",
       "25%      2503.500000                 NaN      NaN    497.000000        5.465           NaN      NaN      7.950000\n",
       "50%      5002.000000                 NaN      NaN    993.000000       10.415           NaN      NaN     15.480000\n",
       "75%      7501.500000                 NaN      NaN   1485.000000        15.17           NaN      NaN     22.970000\n",
       "max     10000.000000                 NaN      NaN   2000.000000  1927.144909           NaN      NaN   2312.570000"
      ]
     },
     "metadata": {},
     "output_type": "display_data"
    }
   ],
   "source": [
    "# Descriptive statistics for df_products_clean dataset\n",
    "df_products_clean.describe(include='all')"
   ]
  },
  {
   "cell_type": "code",
   "execution_count": null,
   "id": "afa8c149",
   "metadata": {},
   "outputs": [
    {
     "data": {
      "application/vnd.microsoft.datawrangler.viewer.v0+json": {
       "columns": [
        {
         "name": "index",
         "rawType": "object",
         "type": "string"
        },
        {
         "name": "employee_id",
         "rawType": "float64",
         "type": "float"
        },
        {
         "name": "employee_name",
         "rawType": "object",
         "type": "unknown"
        },
        {
         "name": "region",
         "rawType": "object",
         "type": "unknown"
        },
        {
         "name": "total_sales",
         "rawType": "float64",
         "type": "float"
        },
        {
         "name": "effectiveness",
         "rawType": "float64",
         "type": "float"
        }
       ],
       "ref": "be4085d8-83bc-4f92-9504-c613340c2ea0",
       "rows": [
        [
         "count",
         "2006.0",
         "2006",
         "2006",
         "2006.0",
         "2006.0"
        ],
        [
         "unique",
         null,
         "1972",
         "4",
         null,
         null
        ],
        [
         "top",
         null,
         "michelle_brown",
         "south",
         null,
         null
        ],
        [
         "freq",
         null,
         "3",
         "537",
         null,
         null
        ],
        [
         "mean",
         "1000.5358923230309",
         null,
         null,
         "55732.06088733798",
         "0.767124725228787"
        ],
        [
         "std",
         "577.8596620161446",
         null,
         null,
         "29207.401709145408",
         "0.1249084017811793"
        ],
        [
         "min",
         "1.0",
         null,
         null,
         "10106.1",
         "0.0140671906057974"
        ],
        [
         "25%",
         "501.25",
         null,
         null,
         "32457.225000000002",
         "0.69"
        ],
        [
         "50%",
         "999.5",
         null,
         null,
         "54423.78",
         "0.77"
        ],
        [
         "75%",
         "1500.75",
         null,
         null,
         "77539.1275",
         "0.86"
        ],
        [
         "max",
         "2000.0",
         null,
         null,
         "304984.18",
         "0.95"
        ]
       ],
       "shape": {
        "columns": 5,
        "rows": 11
       }
      },
      "text/html": [
       "<div>\n",
       "<style scoped>\n",
       "    .dataframe tbody tr th:only-of-type {\n",
       "        vertical-align: middle;\n",
       "    }\n",
       "\n",
       "    .dataframe tbody tr th {\n",
       "        vertical-align: top;\n",
       "    }\n",
       "\n",
       "    .dataframe thead th {\n",
       "        text-align: right;\n",
       "    }\n",
       "</style>\n",
       "<table border=\"1\" class=\"dataframe\">\n",
       "  <thead>\n",
       "    <tr style=\"text-align: right;\">\n",
       "      <th></th>\n",
       "      <th>employee_id</th>\n",
       "      <th>employee_name</th>\n",
       "      <th>region</th>\n",
       "      <th>total_sales</th>\n",
       "      <th>effectiveness</th>\n",
       "    </tr>\n",
       "  </thead>\n",
       "  <tbody>\n",
       "    <tr>\n",
       "      <th>count</th>\n",
       "      <td>2006.000000</td>\n",
       "      <td>2006</td>\n",
       "      <td>2006</td>\n",
       "      <td>2006.000000</td>\n",
       "      <td>2006.000000</td>\n",
       "    </tr>\n",
       "    <tr>\n",
       "      <th>unique</th>\n",
       "      <td>NaN</td>\n",
       "      <td>1972</td>\n",
       "      <td>4</td>\n",
       "      <td>NaN</td>\n",
       "      <td>NaN</td>\n",
       "    </tr>\n",
       "    <tr>\n",
       "      <th>top</th>\n",
       "      <td>NaN</td>\n",
       "      <td>michelle_brown</td>\n",
       "      <td>south</td>\n",
       "      <td>NaN</td>\n",
       "      <td>NaN</td>\n",
       "    </tr>\n",
       "    <tr>\n",
       "      <th>freq</th>\n",
       "      <td>NaN</td>\n",
       "      <td>3</td>\n",
       "      <td>537</td>\n",
       "      <td>NaN</td>\n",
       "      <td>NaN</td>\n",
       "    </tr>\n",
       "    <tr>\n",
       "      <th>mean</th>\n",
       "      <td>1000.535892</td>\n",
       "      <td>NaN</td>\n",
       "      <td>NaN</td>\n",
       "      <td>55732.060887</td>\n",
       "      <td>0.767125</td>\n",
       "    </tr>\n",
       "    <tr>\n",
       "      <th>std</th>\n",
       "      <td>577.859662</td>\n",
       "      <td>NaN</td>\n",
       "      <td>NaN</td>\n",
       "      <td>29207.401709</td>\n",
       "      <td>0.124908</td>\n",
       "    </tr>\n",
       "    <tr>\n",
       "      <th>min</th>\n",
       "      <td>1.000000</td>\n",
       "      <td>NaN</td>\n",
       "      <td>NaN</td>\n",
       "      <td>10106.100000</td>\n",
       "      <td>0.014067</td>\n",
       "    </tr>\n",
       "    <tr>\n",
       "      <th>25%</th>\n",
       "      <td>501.250000</td>\n",
       "      <td>NaN</td>\n",
       "      <td>NaN</td>\n",
       "      <td>32457.225000</td>\n",
       "      <td>0.690000</td>\n",
       "    </tr>\n",
       "    <tr>\n",
       "      <th>50%</th>\n",
       "      <td>999.500000</td>\n",
       "      <td>NaN</td>\n",
       "      <td>NaN</td>\n",
       "      <td>54423.780000</td>\n",
       "      <td>0.770000</td>\n",
       "    </tr>\n",
       "    <tr>\n",
       "      <th>75%</th>\n",
       "      <td>1500.750000</td>\n",
       "      <td>NaN</td>\n",
       "      <td>NaN</td>\n",
       "      <td>77539.127500</td>\n",
       "      <td>0.860000</td>\n",
       "    </tr>\n",
       "    <tr>\n",
       "      <th>max</th>\n",
       "      <td>2000.000000</td>\n",
       "      <td>NaN</td>\n",
       "      <td>NaN</td>\n",
       "      <td>304984.180000</td>\n",
       "      <td>0.950000</td>\n",
       "    </tr>\n",
       "  </tbody>\n",
       "</table>\n",
       "</div>"
      ],
      "text/plain": [
       "        employee_id   employee_name region    total_sales  effectiveness\n",
       "count   2006.000000            2006   2006    2006.000000    2006.000000\n",
       "unique          NaN            1972      4            NaN            NaN\n",
       "top             NaN  michelle_brown  south            NaN            NaN\n",
       "freq            NaN               3    537            NaN            NaN\n",
       "mean    1000.535892             NaN    NaN   55732.060887       0.767125\n",
       "std      577.859662             NaN    NaN   29207.401709       0.124908\n",
       "min        1.000000             NaN    NaN   10106.100000       0.014067\n",
       "25%      501.250000             NaN    NaN   32457.225000       0.690000\n",
       "50%      999.500000             NaN    NaN   54423.780000       0.770000\n",
       "75%     1500.750000             NaN    NaN   77539.127500       0.860000\n",
       "max     2000.000000             NaN    NaN  304984.180000       0.950000"
      ]
     },
     "metadata": {},
     "output_type": "display_data"
    }
   ],
   "source": [
    "# Descriptive statistics for df_salesforce_clean dataset\n",
    "df_salesforce_clean.describe(include='all')"
   ]
  },
  {
   "cell_type": "code",
   "execution_count": null,
   "id": "687fb108",
   "metadata": {},
   "outputs": [
    {
     "data": {
      "application/vnd.microsoft.datawrangler.viewer.v0+json": {
       "columns": [
        {
         "name": "index",
         "rawType": "object",
         "type": "string"
        },
        {
         "name": "supplier_id",
         "rawType": "float64",
         "type": "float"
        },
        {
         "name": "supplier_name",
         "rawType": "object",
         "type": "unknown"
        },
        {
         "name": "lead_time_days",
         "rawType": "float64",
         "type": "float"
        },
        {
         "name": "contact_info",
         "rawType": "object",
         "type": "unknown"
        },
        {
         "name": "rating",
         "rawType": "float64",
         "type": "float"
        }
       ],
       "ref": "2c7c1102-11a2-467a-b917-e1d79a9d594d",
       "rows": [
        [
         "count",
         "2000.0",
         "2000",
         "2000.0",
         "2000",
         "2000.0"
        ],
        [
         "unique",
         null,
         "1899",
         null,
         "2000",
         null
        ],
        [
         "top",
         null,
         "smith_plc",
         null,
         "365-261-6825",
         null
        ],
        [
         "freq",
         null,
         "6",
         null,
         "1",
         null
        ],
        [
         "mean",
         "1000.5",
         null,
         "8.027",
         null,
         "3.989455"
        ],
        [
         "std",
         "577.4945887192364",
         null,
         "3.731652933594992",
         null,
         "0.5750573871138752"
        ],
        [
         "min",
         "1.0",
         null,
         "2.0",
         null,
         "3.0"
        ],
        [
         "25%",
         "500.75",
         null,
         "5.0",
         null,
         "3.48"
        ],
        [
         "50%",
         "1000.5",
         null,
         "8.0",
         null,
         "4.0"
        ],
        [
         "75%",
         "1500.25",
         null,
         "11.0",
         null,
         "4.47"
        ],
        [
         "max",
         "2000.0",
         null,
         "14.0",
         null,
         "5.0"
        ]
       ],
       "shape": {
        "columns": 5,
        "rows": 11
       }
      },
      "text/html": [
       "<div>\n",
       "<style scoped>\n",
       "    .dataframe tbody tr th:only-of-type {\n",
       "        vertical-align: middle;\n",
       "    }\n",
       "\n",
       "    .dataframe tbody tr th {\n",
       "        vertical-align: top;\n",
       "    }\n",
       "\n",
       "    .dataframe thead th {\n",
       "        text-align: right;\n",
       "    }\n",
       "</style>\n",
       "<table border=\"1\" class=\"dataframe\">\n",
       "  <thead>\n",
       "    <tr style=\"text-align: right;\">\n",
       "      <th></th>\n",
       "      <th>supplier_id</th>\n",
       "      <th>supplier_name</th>\n",
       "      <th>lead_time_days</th>\n",
       "      <th>contact_info</th>\n",
       "      <th>rating</th>\n",
       "    </tr>\n",
       "  </thead>\n",
       "  <tbody>\n",
       "    <tr>\n",
       "      <th>count</th>\n",
       "      <td>2000.000000</td>\n",
       "      <td>2000</td>\n",
       "      <td>2000.000000</td>\n",
       "      <td>2000</td>\n",
       "      <td>2000.000000</td>\n",
       "    </tr>\n",
       "    <tr>\n",
       "      <th>unique</th>\n",
       "      <td>NaN</td>\n",
       "      <td>1899</td>\n",
       "      <td>NaN</td>\n",
       "      <td>2000</td>\n",
       "      <td>NaN</td>\n",
       "    </tr>\n",
       "    <tr>\n",
       "      <th>top</th>\n",
       "      <td>NaN</td>\n",
       "      <td>smith_plc</td>\n",
       "      <td>NaN</td>\n",
       "      <td>365-261-6825</td>\n",
       "      <td>NaN</td>\n",
       "    </tr>\n",
       "    <tr>\n",
       "      <th>freq</th>\n",
       "      <td>NaN</td>\n",
       "      <td>6</td>\n",
       "      <td>NaN</td>\n",
       "      <td>1</td>\n",
       "      <td>NaN</td>\n",
       "    </tr>\n",
       "    <tr>\n",
       "      <th>mean</th>\n",
       "      <td>1000.500000</td>\n",
       "      <td>NaN</td>\n",
       "      <td>8.027000</td>\n",
       "      <td>NaN</td>\n",
       "      <td>3.989455</td>\n",
       "    </tr>\n",
       "    <tr>\n",
       "      <th>std</th>\n",
       "      <td>577.494589</td>\n",
       "      <td>NaN</td>\n",
       "      <td>3.731653</td>\n",
       "      <td>NaN</td>\n",
       "      <td>0.575057</td>\n",
       "    </tr>\n",
       "    <tr>\n",
       "      <th>min</th>\n",
       "      <td>1.000000</td>\n",
       "      <td>NaN</td>\n",
       "      <td>2.000000</td>\n",
       "      <td>NaN</td>\n",
       "      <td>3.000000</td>\n",
       "    </tr>\n",
       "    <tr>\n",
       "      <th>25%</th>\n",
       "      <td>500.750000</td>\n",
       "      <td>NaN</td>\n",
       "      <td>5.000000</td>\n",
       "      <td>NaN</td>\n",
       "      <td>3.480000</td>\n",
       "    </tr>\n",
       "    <tr>\n",
       "      <th>50%</th>\n",
       "      <td>1000.500000</td>\n",
       "      <td>NaN</td>\n",
       "      <td>8.000000</td>\n",
       "      <td>NaN</td>\n",
       "      <td>4.000000</td>\n",
       "    </tr>\n",
       "    <tr>\n",
       "      <th>75%</th>\n",
       "      <td>1500.250000</td>\n",
       "      <td>NaN</td>\n",
       "      <td>11.000000</td>\n",
       "      <td>NaN</td>\n",
       "      <td>4.470000</td>\n",
       "    </tr>\n",
       "    <tr>\n",
       "      <th>max</th>\n",
       "      <td>2000.000000</td>\n",
       "      <td>NaN</td>\n",
       "      <td>14.000000</td>\n",
       "      <td>NaN</td>\n",
       "      <td>5.000000</td>\n",
       "    </tr>\n",
       "  </tbody>\n",
       "</table>\n",
       "</div>"
      ],
      "text/plain": [
       "        supplier_id supplier_name  lead_time_days  contact_info       rating\n",
       "count   2000.000000          2000     2000.000000          2000  2000.000000\n",
       "unique          NaN          1899             NaN          2000          NaN\n",
       "top             NaN     smith_plc             NaN  365-261-6825          NaN\n",
       "freq            NaN             6             NaN             1          NaN\n",
       "mean    1000.500000           NaN        8.027000           NaN     3.989455\n",
       "std      577.494589           NaN        3.731653           NaN     0.575057\n",
       "min        1.000000           NaN        2.000000           NaN     3.000000\n",
       "25%      500.750000           NaN        5.000000           NaN     3.480000\n",
       "50%     1000.500000           NaN        8.000000           NaN     4.000000\n",
       "75%     1500.250000           NaN       11.000000           NaN     4.470000\n",
       "max     2000.000000           NaN       14.000000           NaN     5.000000"
      ]
     },
     "metadata": {},
     "output_type": "display_data"
    }
   ],
   "source": [
    "# Descriptive statistics for df_suppliers_clean dataset\n",
    "df_suppliers_clean.describe(include='all')"
   ]
  },
  {
   "cell_type": "code",
   "execution_count": null,
   "id": "16a5e276",
   "metadata": {},
   "outputs": [
    {
     "data": {
      "application/vnd.microsoft.datawrangler.viewer.v0+json": {
       "columns": [
        {
         "name": "index",
         "rawType": "object",
         "type": "string"
        },
        {
         "name": "transaction_id",
         "rawType": "float64",
         "type": "float"
        },
        {
         "name": "date",
         "rawType": "object",
         "type": "unknown"
        },
        {
         "name": "product_id",
         "rawType": "float64",
         "type": "float"
        },
        {
         "name": "units_sold",
         "rawType": "float64",
         "type": "float"
        },
        {
         "name": "customer_id",
         "rawType": "float64",
         "type": "float"
        },
        {
         "name": "employee_id",
         "rawType": "float64",
         "type": "float"
        },
        {
         "name": "sales_amount",
         "rawType": "float64",
         "type": "float"
        },
        {
         "name": "list_price",
         "rawType": "float64",
         "type": "float"
        }
       ],
       "ref": "28af091a-47ef-472a-9d5c-873467ea5107",
       "rows": [
        [
         "count",
         "20078.0",
         "20078",
         "20078.0",
         "20078.0",
         "20078.0",
         "20078.0",
         "20078.0",
         "20078.0"
        ],
        [
         "mean",
         "9993.35128000797",
         "2024-07-05 15:40:02.271142656+00:00",
         "4997.5374539296745",
         "5.13362884749477",
         "2501.9947205897",
         "1005.0729654348042",
         "84.1127497758741",
         "16.469316648660534"
        ],
        [
         "min",
         "1.0",
         "2023-07-07 07:00:00+00:00",
         "1.0",
         "1.0",
         "1.0",
         "1.0",
         "0.35",
         "0.2491442015463742"
        ],
        [
         "25%",
         "4993.25",
         "2024-01-06 08:00:00+00:00",
         "2499.25",
         "3.0",
         "1250.25",
         "510.25",
         "25.044999999999998",
         "7.69"
        ],
        [
         "50%",
         "9988.5",
         "2024-07-04 07:00:00+00:00",
         "5022.0",
         "5.0",
         "2503.5",
         "1006.0",
         "59.76",
         "15.27"
        ],
        [
         "75%",
         "14991.75",
         "2025-01-04 08:00:00+00:00",
         "7500.75",
         "7.0",
         "3737.0",
         "1505.0",
         "116.67250000000001",
         "22.55"
        ],
        [
         "max",
         "20000.0",
         "2025-07-06 07:00:00+00:00",
         "9999.0",
         "28.0",
         "5000.0",
         "2000.0",
         "2670.3",
         "347.70000000000005"
        ],
        [
         "std",
         "5773.112758669495",
         null,
         "2892.3795550426157",
         "3.001024827048387",
         "1446.4702385774553",
         "578.1532027678134",
         "105.50661381545144",
         "17.22511738976273"
        ]
       ],
       "shape": {
        "columns": 8,
        "rows": 8
       }
      },
      "text/html": [
       "<div>\n",
       "<style scoped>\n",
       "    .dataframe tbody tr th:only-of-type {\n",
       "        vertical-align: middle;\n",
       "    }\n",
       "\n",
       "    .dataframe tbody tr th {\n",
       "        vertical-align: top;\n",
       "    }\n",
       "\n",
       "    .dataframe thead th {\n",
       "        text-align: right;\n",
       "    }\n",
       "</style>\n",
       "<table border=\"1\" class=\"dataframe\">\n",
       "  <thead>\n",
       "    <tr style=\"text-align: right;\">\n",
       "      <th></th>\n",
       "      <th>transaction_id</th>\n",
       "      <th>date</th>\n",
       "      <th>product_id</th>\n",
       "      <th>units_sold</th>\n",
       "      <th>customer_id</th>\n",
       "      <th>employee_id</th>\n",
       "      <th>sales_amount</th>\n",
       "      <th>list_price</th>\n",
       "    </tr>\n",
       "  </thead>\n",
       "  <tbody>\n",
       "    <tr>\n",
       "      <th>count</th>\n",
       "      <td>20078.000000</td>\n",
       "      <td>20078</td>\n",
       "      <td>20078.000000</td>\n",
       "      <td>20078.000000</td>\n",
       "      <td>20078.000000</td>\n",
       "      <td>20078.000000</td>\n",
       "      <td>20078.000000</td>\n",
       "      <td>20078.000000</td>\n",
       "    </tr>\n",
       "    <tr>\n",
       "      <th>mean</th>\n",
       "      <td>9993.351280</td>\n",
       "      <td>2024-07-05 15:40:02.271142656+00:00</td>\n",
       "      <td>4997.537454</td>\n",
       "      <td>5.133629</td>\n",
       "      <td>2501.994721</td>\n",
       "      <td>1005.072965</td>\n",
       "      <td>84.112750</td>\n",
       "      <td>16.469317</td>\n",
       "    </tr>\n",
       "    <tr>\n",
       "      <th>min</th>\n",
       "      <td>1.000000</td>\n",
       "      <td>2023-07-07 07:00:00+00:00</td>\n",
       "      <td>1.000000</td>\n",
       "      <td>1.000000</td>\n",
       "      <td>1.000000</td>\n",
       "      <td>1.000000</td>\n",
       "      <td>0.350000</td>\n",
       "      <td>0.249144</td>\n",
       "    </tr>\n",
       "    <tr>\n",
       "      <th>25%</th>\n",
       "      <td>4993.250000</td>\n",
       "      <td>2024-01-06 08:00:00+00:00</td>\n",
       "      <td>2499.250000</td>\n",
       "      <td>3.000000</td>\n",
       "      <td>1250.250000</td>\n",
       "      <td>510.250000</td>\n",
       "      <td>25.045000</td>\n",
       "      <td>7.690000</td>\n",
       "    </tr>\n",
       "    <tr>\n",
       "      <th>50%</th>\n",
       "      <td>9988.500000</td>\n",
       "      <td>2024-07-04 07:00:00+00:00</td>\n",
       "      <td>5022.000000</td>\n",
       "      <td>5.000000</td>\n",
       "      <td>2503.500000</td>\n",
       "      <td>1006.000000</td>\n",
       "      <td>59.760000</td>\n",
       "      <td>15.270000</td>\n",
       "    </tr>\n",
       "    <tr>\n",
       "      <th>75%</th>\n",
       "      <td>14991.750000</td>\n",
       "      <td>2025-01-04 08:00:00+00:00</td>\n",
       "      <td>7500.750000</td>\n",
       "      <td>7.000000</td>\n",
       "      <td>3737.000000</td>\n",
       "      <td>1505.000000</td>\n",
       "      <td>116.672500</td>\n",
       "      <td>22.550000</td>\n",
       "    </tr>\n",
       "    <tr>\n",
       "      <th>max</th>\n",
       "      <td>20000.000000</td>\n",
       "      <td>2025-07-06 07:00:00+00:00</td>\n",
       "      <td>9999.000000</td>\n",
       "      <td>28.000000</td>\n",
       "      <td>5000.000000</td>\n",
       "      <td>2000.000000</td>\n",
       "      <td>2670.300000</td>\n",
       "      <td>347.700000</td>\n",
       "    </tr>\n",
       "    <tr>\n",
       "      <th>std</th>\n",
       "      <td>5773.112759</td>\n",
       "      <td>NaN</td>\n",
       "      <td>2892.379555</td>\n",
       "      <td>3.001025</td>\n",
       "      <td>1446.470239</td>\n",
       "      <td>578.153203</td>\n",
       "      <td>105.506614</td>\n",
       "      <td>17.225117</td>\n",
       "    </tr>\n",
       "  </tbody>\n",
       "</table>\n",
       "</div>"
      ],
      "text/plain": [
       "       transaction_id                                 date    product_id    units_sold   customer_id   employee_id  sales_amount    list_price\n",
       "count    20078.000000                                20078  20078.000000  20078.000000  20078.000000  20078.000000  20078.000000  20078.000000\n",
       "mean      9993.351280  2024-07-05 15:40:02.271142656+00:00   4997.537454      5.133629   2501.994721   1005.072965     84.112750     16.469317\n",
       "min          1.000000            2023-07-07 07:00:00+00:00      1.000000      1.000000      1.000000      1.000000      0.350000      0.249144\n",
       "25%       4993.250000            2024-01-06 08:00:00+00:00   2499.250000      3.000000   1250.250000    510.250000     25.045000      7.690000\n",
       "50%       9988.500000            2024-07-04 07:00:00+00:00   5022.000000      5.000000   2503.500000   1006.000000     59.760000     15.270000\n",
       "75%      14991.750000            2025-01-04 08:00:00+00:00   7500.750000      7.000000   3737.000000   1505.000000    116.672500     22.550000\n",
       "max      20000.000000            2025-07-06 07:00:00+00:00   9999.000000     28.000000   5000.000000   2000.000000   2670.300000    347.700000\n",
       "std       5773.112759                                  NaN   2892.379555      3.001025   1446.470239    578.153203    105.506614     17.225117"
      ]
     },
     "metadata": {},
     "output_type": "display_data"
    }
   ],
   "source": [
    "# Descriptive statistics for df_transactions_clean dataset\n",
    "df_transactions_clean.describe(include='all')"
   ]
  },
  {
   "cell_type": "markdown",
   "id": "ac77538d",
   "metadata": {},
   "source": [
    "#### 3.1.2 Descriptive statistics for customers_clean dataset, quantitive values."
   ]
  },
  {
   "cell_type": "markdown",
   "id": "5817ecbf",
   "metadata": {},
   "source": [
    "<table>\n",
    "  <thead>\n",
    "    <tr>\n",
    "      <th>CV (%)</th>\n",
    "      <th>Interpretation for Coefficient of Variation</th>\n",
    "    </tr>\n",
    "  </thead>\n",
    "  <tbody>\n",
    "    <tr>\n",
    "      <td><small><strong>0–10%</strong></small></td>\n",
    "      <td><small><strong>Very low</strong> variability → <strong>very reliable</strong> Mean</small></td>\n",
    "    </tr>\n",
    "    <tr>\n",
    "      <td><small><strong>10–20%</strong></small></td>\n",
    "      <td><small><strong>Moderate</strong> variability → <strong>reliable</strong> Mean</small></td>\n",
    "    </tr>\n",
    "    <tr>\n",
    "      <td><small><strong>20–30%</strong></small></td>\n",
    "      <td><small><strong>Considerable</strong> variability → <strong>some what skewed</strong> Mean</small></td>\n",
    "    </tr>\n",
    "    <tr>\n",
    "      <td><small><strong>>30%</strong></small></td>\n",
    "      <td><small>High<strong> variability</strong> → <strong>prefer</strong> Median</small></td>\n",
    "    </tr>\n",
    "  </tbody>\n",
    "</table>\n"
   ]
  },
  {
   "cell_type": "code",
   "execution_count": null,
   "id": "d6ac6860",
   "metadata": {},
   "outputs": [
    {
     "data": {
      "application/vnd.microsoft.datawrangler.viewer.v0+json": {
       "columns": [
        {
         "name": "index",
         "rawType": "object",
         "type": "string"
        },
        {
         "name": "total_spent",
         "rawType": "Float64",
         "type": "float"
        }
       ],
       "ref": "c76f3880-ce71-4e84-8e2c-8aad34133b3d",
       "rows": [
        [
         "count",
         "5009.0"
        ],
        [
         "mean",
         "2467.201088041525"
        ],
        [
         "std",
         "1444.988577671945"
        ],
        [
         "min",
         "0.0"
        ],
        [
         "25%",
         "1183.14"
        ],
        [
         "50%",
         "2452.65"
        ],
        [
         "75%",
         "3720.61"
        ],
        [
         "max",
         "4998.81"
        ]
       ],
       "shape": {
        "columns": 1,
        "rows": 8
       }
      },
      "text/plain": [
       "count         5009.0\n",
       "mean     2467.201088\n",
       "std      1444.988578\n",
       "min              0.0\n",
       "25%          1183.14\n",
       "50%          2452.65\n",
       "75%          3720.61\n",
       "max          4998.81\n",
       "Name: total_spent, dtype: Float64"
      ]
     },
     "metadata": {},
     "output_type": "display_data"
    }
   ],
   "source": [
    "df_customers_clean['total_spent'].describe()"
   ]
  },
  {
   "cell_type": "code",
   "execution_count": null,
   "id": "8984013e",
   "metadata": {},
   "outputs": [
    {
     "data": {
      "application/vnd.microsoft.datawrangler.viewer.v0+json": {
       "columns": [
        {
         "name": "index",
         "rawType": "object",
         "type": "string"
        },
        {
         "name": "frequency",
         "rawType": "float64",
         "type": "float"
        }
       ],
       "ref": "a9fad82a-1bca-48f7-b349-b6b064b859bd",
       "rows": [
        [
         "count",
         "5009.0"
        ],
        [
         "mean",
         "24.56578159313236"
        ],
        [
         "std",
         "14.281868231318004"
        ],
        [
         "min",
         "0.0"
        ],
        [
         "25%",
         "12.0"
        ],
        [
         "50%",
         "24.0"
        ],
        [
         "75%",
         "37.0"
        ],
        [
         "max",
         "49.0"
        ]
       ],
       "shape": {
        "columns": 1,
        "rows": 8
       }
      },
      "text/plain": [
       "count    5009.000000\n",
       "mean       24.565782\n",
       "std        14.281868\n",
       "min         0.000000\n",
       "25%        12.000000\n",
       "50%        24.000000\n",
       "75%        37.000000\n",
       "max        49.000000\n",
       "Name: frequency, dtype: float64"
      ]
     },
     "metadata": {},
     "output_type": "display_data"
    }
   ],
   "source": [
    "df_customers_clean['frequency'].describe()"
   ]
  },
  {
   "cell_type": "code",
   "execution_count": null,
   "id": "0c3f2990",
   "metadata": {},
   "outputs": [
    {
     "data": {
      "text/html": [
       "> Coefficient of variation for column <i>'total_spent'</i>: <b>58.57 %</b>"
      ],
      "text/plain": [
       "<IPython.core.display.HTML object>"
      ]
     },
     "metadata": {},
     "output_type": "display_data"
    },
    {
     "data": {
      "text/html": [
       "> Skewness of column <i>'total_spent'</i>: <b>0.04</b>"
      ],
      "text/plain": [
       "<IPython.core.display.HTML object>"
      ]
     },
     "metadata": {},
     "output_type": "display_data"
    },
    {
     "data": {
      "text/html": [
       "> High variability: mean may be misleading."
      ],
      "text/plain": [
       "<IPython.core.display.HTML object>"
      ]
     },
     "metadata": {},
     "output_type": "display_data"
    },
    {
     "data": {
      "text/html": [
       "> Low skewness: distribution is nearly symmetric."
      ],
      "text/plain": [
       "<IPython.core.display.HTML object>"
      ]
     },
     "metadata": {},
     "output_type": "display_data"
    },
    {
     "data": {
      "text/html": [
       "> Recommended central measure: <b>median</b> (due to high variability or strong skewness)"
      ],
      "text/plain": [
       "<IPython.core.display.HTML object>"
      ]
     },
     "metadata": {},
     "output_type": "display_data"
    }
   ],
   "source": [
    "# Evaluate the coefficient of variation to select the proper measure of central tendency\n",
    "evaluate_central_trend(df_customers_clean, 'total_spent')"
   ]
  },
  {
   "cell_type": "code",
   "execution_count": null,
   "id": "c8722345",
   "metadata": {},
   "outputs": [
    {
     "data": {
      "text/html": [
       "> Coefficient of variation for column <i>'frequency'</i>: <b>58.14 %</b>"
      ],
      "text/plain": [
       "<IPython.core.display.HTML object>"
      ]
     },
     "metadata": {},
     "output_type": "display_data"
    },
    {
     "data": {
      "text/html": [
       "> Skewness of column <i>'frequency'</i>: <b>0.05</b>"
      ],
      "text/plain": [
       "<IPython.core.display.HTML object>"
      ]
     },
     "metadata": {},
     "output_type": "display_data"
    },
    {
     "data": {
      "text/html": [
       "> High variability: mean may be misleading."
      ],
      "text/plain": [
       "<IPython.core.display.HTML object>"
      ]
     },
     "metadata": {},
     "output_type": "display_data"
    },
    {
     "data": {
      "text/html": [
       "> Low skewness: distribution is nearly symmetric."
      ],
      "text/plain": [
       "<IPython.core.display.HTML object>"
      ]
     },
     "metadata": {},
     "output_type": "display_data"
    },
    {
     "data": {
      "text/html": [
       "> Recommended central measure: <b>median</b> (due to high variability or strong skewness)"
      ],
      "text/plain": [
       "<IPython.core.display.HTML object>"
      ]
     },
     "metadata": {},
     "output_type": "display_data"
    }
   ],
   "source": [
    "evaluate_central_trend(df_customers_clean, 'frequency')"
   ]
  },
  {
   "cell_type": "code",
   "execution_count": null,
   "id": "a72c8412",
   "metadata": {},
   "outputs": [
    {
     "data": {
      "text/html": [
       "> Outlier thresholds for <i>'total_spent'</i>: \n",
       "> Lower = <b>0.000</b>, > Upper = <b>7526.815</b>"
      ],
      "text/plain": [
       "<IPython.core.display.HTML object>"
      ]
     },
     "metadata": {},
     "output_type": "display_data"
    },
    {
     "data": {
      "text/html": [
       "> <b>No</b> lower outliers found in column <i>'total_spent'</i>."
      ],
      "text/plain": [
       "<IPython.core.display.HTML object>"
      ]
     },
     "metadata": {},
     "output_type": "display_data"
    },
    {
     "data": {
      "text/html": [
       "> <b>No</b> upper outliers found in column <i>'total_spent'</i>."
      ],
      "text/plain": [
       "<IPython.core.display.HTML object>"
      ]
     },
     "metadata": {},
     "output_type": "display_data"
    },
    {
     "data": {
      "text/html": [
       "- - -"
      ],
      "text/plain": [
       "<IPython.core.display.HTML object>"
      ]
     },
     "metadata": {},
     "output_type": "display_data"
    },
    {
     "data": {
      "text/html": [
       "> Outliers:"
      ],
      "text/plain": [
       "<IPython.core.display.HTML object>"
      ]
     },
     "metadata": {},
     "output_type": "display_data"
    }
   ],
   "source": [
    "# Evaluate boundary thresholds and detect potential outliers\n",
    "outlier_limit_bounds(df_customers_clean, 'total_spent', bound='both', clamp_zero=True)"
   ]
  },
  {
   "cell_type": "code",
   "execution_count": null,
   "id": "c847e4b7",
   "metadata": {},
   "outputs": [
    {
     "data": {
      "text/html": [
       "> Outlier thresholds for <i>'frequency'</i>: \n",
       "> Lower = <b>0.000</b>, > Upper = <b>74.500</b>"
      ],
      "text/plain": [
       "<IPython.core.display.HTML object>"
      ]
     },
     "metadata": {},
     "output_type": "display_data"
    },
    {
     "data": {
      "text/html": [
       "> <b>No</b> lower outliers found in column <i>'frequency'</i>."
      ],
      "text/plain": [
       "<IPython.core.display.HTML object>"
      ]
     },
     "metadata": {},
     "output_type": "display_data"
    },
    {
     "data": {
      "text/html": [
       "> <b>No</b> upper outliers found in column <i>'frequency'</i>."
      ],
      "text/plain": [
       "<IPython.core.display.HTML object>"
      ]
     },
     "metadata": {},
     "output_type": "display_data"
    },
    {
     "data": {
      "text/html": [
       "- - -"
      ],
      "text/plain": [
       "<IPython.core.display.HTML object>"
      ]
     },
     "metadata": {},
     "output_type": "display_data"
    },
    {
     "data": {
      "text/html": [
       "> Outliers:"
      ],
      "text/plain": [
       "<IPython.core.display.HTML object>"
      ]
     },
     "metadata": {},
     "output_type": "display_data"
    }
   ],
   "source": [
    "outlier_limit_bounds(df_customers_clean, 'frequency', bound='both', clamp_zero=True)"
   ]
  },
  {
   "cell_type": "markdown",
   "id": "587e3db8",
   "metadata": {},
   "source": [
    "#### 3.1.3 Descriptive statistics for inventory_clean dataset, quantitive values."
   ]
  },
  {
   "cell_type": "markdown",
   "id": "ab47537f",
   "metadata": {},
   "source": [
    "<table>\n",
    "  <thead>\n",
    "    <tr>\n",
    "      <th>CV (%)</th>\n",
    "      <th>Interpretation for Coefficient of Variation</th>\n",
    "    </tr>\n",
    "  </thead>\n",
    "  <tbody>\n",
    "    <tr>\n",
    "      <td><small><strong>0–10%</strong></small></td>\n",
    "      <td><small><strong>Very low</strong> variability → <strong>very reliable</strong> Mean</small></td>\n",
    "    </tr>\n",
    "    <tr>\n",
    "      <td><small><strong>10–20%</strong></small></td>\n",
    "      <td><small><strong>Moderate</strong> variability → <strong>reliable</strong> Mean</small></td>\n",
    "    </tr>\n",
    "    <tr>\n",
    "      <td><small><strong>20–30%</strong></small></td>\n",
    "      <td><small><strong>Considerable</strong> variability → <strong>some what skewed</strong> Mean</small></td>\n",
    "    </tr>\n",
    "    <tr>\n",
    "      <td><small><strong>>30%</strong></small></td>\n",
    "      <td><small>High<strong> variability</strong> → <strong>prefer</strong> Median</small></td>\n",
    "    </tr>\n",
    "  </tbody>\n",
    "</table>\n"
   ]
  },
  {
   "cell_type": "code",
   "execution_count": null,
   "id": "935a3840",
   "metadata": {},
   "outputs": [
    {
     "data": {
      "application/vnd.microsoft.datawrangler.viewer.v0+json": {
       "columns": [
        {
         "name": "index",
         "rawType": "object",
         "type": "string"
        },
        {
         "name": "beginning_stock",
         "rawType": "float64",
         "type": "float"
        }
       ],
       "ref": "29a89360-a74f-4f54-b57a-4f7194b6754c",
       "rows": [
        [
         "count",
         "20056.0"
        ],
        [
         "mean",
         "53.12804148384523"
        ],
        [
         "std",
         "48.56877713782427"
        ],
        [
         "min",
         "0.0"
        ],
        [
         "25%",
         "25.0"
        ],
        [
         "50%",
         "50.0"
        ],
        [
         "75%",
         "76.0"
        ],
        [
         "max",
         "891.0"
        ]
       ],
       "shape": {
        "columns": 1,
        "rows": 8
       }
      },
      "text/plain": [
       "count    20056.000000\n",
       "mean        53.128041\n",
       "std         48.568777\n",
       "min          0.000000\n",
       "25%         25.000000\n",
       "50%         50.000000\n",
       "75%         76.000000\n",
       "max        891.000000\n",
       "Name: beginning_stock, dtype: float64"
      ]
     },
     "metadata": {},
     "output_type": "display_data"
    }
   ],
   "source": [
    "df_inventory_clean['beginning_stock'].describe()"
   ]
  },
  {
   "cell_type": "code",
   "execution_count": null,
   "id": "ff7680cb",
   "metadata": {},
   "outputs": [
    {
     "data": {
      "application/vnd.microsoft.datawrangler.viewer.v0+json": {
       "columns": [
        {
         "name": "index",
         "rawType": "object",
         "type": "string"
        },
        {
         "name": "received",
         "rawType": "float64",
         "type": "float"
        }
       ],
       "ref": "fd27d0df-ced4-4cb8-b1ba-5e289622d1b1",
       "rows": [
        [
         "count",
         "20056.0"
        ],
        [
         "mean",
         "9.45218388512166"
        ],
        [
         "std",
         "5.792954499411369"
        ],
        [
         "min",
         "0.0"
        ],
        [
         "25%",
         "4.0"
        ],
        [
         "50%",
         "9.0"
        ],
        [
         "75%",
         "15.0"
        ],
        [
         "max",
         "19.0"
        ]
       ],
       "shape": {
        "columns": 1,
        "rows": 8
       }
      },
      "text/plain": [
       "count    20056.000000\n",
       "mean         9.452184\n",
       "std          5.792954\n",
       "min          0.000000\n",
       "25%          4.000000\n",
       "50%          9.000000\n",
       "75%         15.000000\n",
       "max         19.000000\n",
       "Name: received, dtype: float64"
      ]
     },
     "metadata": {},
     "output_type": "display_data"
    }
   ],
   "source": [
    "df_inventory_clean['received'].describe()"
   ]
  },
  {
   "cell_type": "code",
   "execution_count": null,
   "id": "284ffadc",
   "metadata": {},
   "outputs": [
    {
     "data": {
      "application/vnd.microsoft.datawrangler.viewer.v0+json": {
       "columns": [
        {
         "name": "index",
         "rawType": "object",
         "type": "string"
        },
        {
         "name": "sold",
         "rawType": "float64",
         "type": "float"
        }
       ],
       "ref": "c802b3ca-2472-4d33-a008-7ae30b1cc988",
       "rows": [
        [
         "count",
         "20056.0"
        ],
        [
         "mean",
         "6.905265257279617"
        ],
        [
         "std",
         "4.294424812143936"
        ],
        [
         "min",
         "0.0"
        ],
        [
         "25%",
         "3.0"
        ],
        [
         "50%",
         "7.0"
        ],
        [
         "75%",
         "11.0"
        ],
        [
         "max",
         "14.0"
        ]
       ],
       "shape": {
        "columns": 1,
        "rows": 8
       }
      },
      "text/plain": [
       "count    20056.000000\n",
       "mean         6.905265\n",
       "std          4.294425\n",
       "min          0.000000\n",
       "25%          3.000000\n",
       "50%          7.000000\n",
       "75%         11.000000\n",
       "max         14.000000\n",
       "Name: sold, dtype: float64"
      ]
     },
     "metadata": {},
     "output_type": "display_data"
    }
   ],
   "source": [
    "df_inventory_clean['sold'].describe()"
   ]
  },
  {
   "cell_type": "code",
   "execution_count": null,
   "id": "fc6805d4",
   "metadata": {},
   "outputs": [
    {
     "data": {
      "application/vnd.microsoft.datawrangler.viewer.v0+json": {
       "columns": [
        {
         "name": "index",
         "rawType": "object",
         "type": "string"
        },
        {
         "name": "ending_stock",
         "rawType": "float64",
         "type": "float"
        }
       ],
       "ref": "14a38c0d-8a57-445b-bf8b-430739f45478",
       "rows": [
        [
         "count",
         "20056.0"
        ],
        [
         "mean",
         "55.67496011168728"
        ],
        [
         "std",
         "49.05324246783038"
        ],
        [
         "min",
         "0.0"
        ],
        [
         "25%",
         "27.0"
        ],
        [
         "50%",
         "53.0"
        ],
        [
         "75%",
         "78.0"
        ],
        [
         "max",
         "902.0"
        ]
       ],
       "shape": {
        "columns": 1,
        "rows": 8
       }
      },
      "text/plain": [
       "count    20056.000000\n",
       "mean        55.674960\n",
       "std         49.053242\n",
       "min          0.000000\n",
       "25%         27.000000\n",
       "50%         53.000000\n",
       "75%         78.000000\n",
       "max        902.000000\n",
       "Name: ending_stock, dtype: float64"
      ]
     },
     "metadata": {},
     "output_type": "display_data"
    }
   ],
   "source": [
    "df_inventory_clean['ending_stock'].describe()"
   ]
  },
  {
   "cell_type": "code",
   "execution_count": null,
   "id": "730aadfc",
   "metadata": {},
   "outputs": [
    {
     "data": {
      "text/html": [
       "> Coefficient of variation for column <i>'beginning_stock'</i>: <b>91.42 %</b>"
      ],
      "text/plain": [
       "<IPython.core.display.HTML object>"
      ]
     },
     "metadata": {},
     "output_type": "display_data"
    },
    {
     "data": {
      "text/html": [
       "> Skewness of column <i>'beginning_stock'</i>: <b>6.96</b>"
      ],
      "text/plain": [
       "<IPython.core.display.HTML object>"
      ]
     },
     "metadata": {},
     "output_type": "display_data"
    },
    {
     "data": {
      "text/html": [
       "> High variability: mean may be misleading."
      ],
      "text/plain": [
       "<IPython.core.display.HTML object>"
      ]
     },
     "metadata": {},
     "output_type": "display_data"
    },
    {
     "data": {
      "text/html": [
       "> Very high skewness: distribution is heavily distorted."
      ],
      "text/plain": [
       "<IPython.core.display.HTML object>"
      ]
     },
     "metadata": {},
     "output_type": "display_data"
    },
    {
     "data": {
      "text/html": [
       "> Recommended central measure: <b>median</b> (due to high variability or strong skewness)"
      ],
      "text/plain": [
       "<IPython.core.display.HTML object>"
      ]
     },
     "metadata": {},
     "output_type": "display_data"
    },
    {
     "data": {
      "text/html": [
       "> Suggested transformation: <i>To reduce right skew: [sqrt(x), reciprocal(x), Yeo-Johnson (handles zeros)]. For extreme skew or heavy-tailed distributions, consider quantile or normal score transforms instead of classical ones.</i>"
      ],
      "text/plain": [
       "<IPython.core.display.HTML object>"
      ]
     },
     "metadata": {},
     "output_type": "display_data"
    }
   ],
   "source": [
    "# Evaluate the coefficient of variation to select the proper measure of central tendency\n",
    "evaluate_central_trend(df_inventory_clean, 'beginning_stock')"
   ]
  },
  {
   "cell_type": "code",
   "execution_count": null,
   "id": "92129c0c",
   "metadata": {},
   "outputs": [
    {
     "data": {
      "text/html": [
       "> Coefficient of variation for column <i>'received'</i>: <b>61.29 %</b>"
      ],
      "text/plain": [
       "<IPython.core.display.HTML object>"
      ]
     },
     "metadata": {},
     "output_type": "display_data"
    },
    {
     "data": {
      "text/html": [
       "> Skewness of column <i>'received'</i>: <b>0.01</b>"
      ],
      "text/plain": [
       "<IPython.core.display.HTML object>"
      ]
     },
     "metadata": {},
     "output_type": "display_data"
    },
    {
     "data": {
      "text/html": [
       "> High variability: mean may be misleading."
      ],
      "text/plain": [
       "<IPython.core.display.HTML object>"
      ]
     },
     "metadata": {},
     "output_type": "display_data"
    },
    {
     "data": {
      "text/html": [
       "> Low skewness: distribution is nearly symmetric."
      ],
      "text/plain": [
       "<IPython.core.display.HTML object>"
      ]
     },
     "metadata": {},
     "output_type": "display_data"
    },
    {
     "data": {
      "text/html": [
       "> Recommended central measure: <b>median</b> (due to high variability or strong skewness)"
      ],
      "text/plain": [
       "<IPython.core.display.HTML object>"
      ]
     },
     "metadata": {},
     "output_type": "display_data"
    }
   ],
   "source": [
    "evaluate_central_trend(df_inventory_clean, 'received')"
   ]
  },
  {
   "cell_type": "code",
   "execution_count": null,
   "id": "f35d417c",
   "metadata": {},
   "outputs": [
    {
     "data": {
      "text/html": [
       "> Coefficient of variation for column <i>'sold'</i>: <b>62.19 %</b>"
      ],
      "text/plain": [
       "<IPython.core.display.HTML object>"
      ]
     },
     "metadata": {},
     "output_type": "display_data"
    },
    {
     "data": {
      "text/html": [
       "> Skewness of column <i>'sold'</i>: <b>0.03</b>"
      ],
      "text/plain": [
       "<IPython.core.display.HTML object>"
      ]
     },
     "metadata": {},
     "output_type": "display_data"
    },
    {
     "data": {
      "text/html": [
       "> High variability: mean may be misleading."
      ],
      "text/plain": [
       "<IPython.core.display.HTML object>"
      ]
     },
     "metadata": {},
     "output_type": "display_data"
    },
    {
     "data": {
      "text/html": [
       "> Low skewness: distribution is nearly symmetric."
      ],
      "text/plain": [
       "<IPython.core.display.HTML object>"
      ]
     },
     "metadata": {},
     "output_type": "display_data"
    },
    {
     "data": {
      "text/html": [
       "> Recommended central measure: <b>median</b> (due to high variability or strong skewness)"
      ],
      "text/plain": [
       "<IPython.core.display.HTML object>"
      ]
     },
     "metadata": {},
     "output_type": "display_data"
    }
   ],
   "source": [
    "evaluate_central_trend(df_inventory_clean, 'sold')"
   ]
  },
  {
   "cell_type": "code",
   "execution_count": null,
   "id": "046c1519",
   "metadata": {},
   "outputs": [
    {
     "data": {
      "text/html": [
       "> Coefficient of variation for column <i>'ending_stock'</i>: <b>88.11 %</b>"
      ],
      "text/plain": [
       "<IPython.core.display.HTML object>"
      ]
     },
     "metadata": {},
     "output_type": "display_data"
    },
    {
     "data": {
      "text/html": [
       "> Skewness of column <i>'ending_stock'</i>: <b>6.79</b>"
      ],
      "text/plain": [
       "<IPython.core.display.HTML object>"
      ]
     },
     "metadata": {},
     "output_type": "display_data"
    },
    {
     "data": {
      "text/html": [
       "> High variability: mean may be misleading."
      ],
      "text/plain": [
       "<IPython.core.display.HTML object>"
      ]
     },
     "metadata": {},
     "output_type": "display_data"
    },
    {
     "data": {
      "text/html": [
       "> Very high skewness: distribution is heavily distorted."
      ],
      "text/plain": [
       "<IPython.core.display.HTML object>"
      ]
     },
     "metadata": {},
     "output_type": "display_data"
    },
    {
     "data": {
      "text/html": [
       "> Recommended central measure: <b>median</b> (due to high variability or strong skewness)"
      ],
      "text/plain": [
       "<IPython.core.display.HTML object>"
      ]
     },
     "metadata": {},
     "output_type": "display_data"
    },
    {
     "data": {
      "text/html": [
       "> Suggested transformation: <i>To reduce right skew: [sqrt(x), reciprocal(x), Yeo-Johnson (handles zeros)]. For extreme skew or heavy-tailed distributions, consider quantile or normal score transforms instead of classical ones.</i>"
      ],
      "text/plain": [
       "<IPython.core.display.HTML object>"
      ]
     },
     "metadata": {},
     "output_type": "display_data"
    }
   ],
   "source": [
    "evaluate_central_trend(df_inventory_clean, 'ending_stock')"
   ]
  },
  {
   "cell_type": "code",
   "execution_count": null,
   "id": "7f951ca5",
   "metadata": {},
   "outputs": [
    {
     "data": {
      "text/html": [
       "> Outlier thresholds for <i>'beginning_stock'</i>: \n",
       "> Lower = <b>0.000</b>, > Upper = <b>152.500</b>"
      ],
      "text/plain": [
       "<IPython.core.display.HTML object>"
      ]
     },
     "metadata": {},
     "output_type": "display_data"
    },
    {
     "data": {
      "text/html": [
       "> <b>No</b> lower outliers found in column <i>'beginning_stock'</i>."
      ],
      "text/plain": [
       "<IPython.core.display.HTML object>"
      ]
     },
     "metadata": {},
     "output_type": "display_data"
    },
    {
     "data": {
      "text/html": [
       "- - -"
      ],
      "text/plain": [
       "<IPython.core.display.HTML object>"
      ]
     },
     "metadata": {},
     "output_type": "display_data"
    },
    {
     "data": {
      "text/html": [
       "> Outliers:"
      ],
      "text/plain": [
       "<IPython.core.display.HTML object>"
      ]
     },
     "metadata": {},
     "output_type": "display_data"
    },
    {
     "data": {
      "application/vnd.microsoft.datawrangler.viewer.v0+json": {
       "columns": [
        {
         "name": "index",
         "rawType": "int64",
         "type": "integer"
        },
        {
         "name": "inventory_id",
         "rawType": "int64",
         "type": "integer"
        },
        {
         "name": "date",
         "rawType": "datetime64[ns, UTC]",
         "type": "unknown"
        },
        {
         "name": "product_id",
         "rawType": "int64",
         "type": "integer"
        },
        {
         "name": "beginning_stock",
         "rawType": "int64",
         "type": "integer"
        },
        {
         "name": "received",
         "rawType": "int64",
         "type": "integer"
        },
        {
         "name": "sold",
         "rawType": "int64",
         "type": "integer"
        },
        {
         "name": "warehouse_location",
         "rawType": "category",
         "type": "unknown"
        },
        {
         "name": "ending_stock",
         "rawType": "int64",
         "type": "integer"
        }
       ],
       "ref": "86395da5-00d8-423e-b1d3-b38e05236a2a",
       "rows": [
        [
         "65",
         "66",
         "2025-05-26 07:00:00+00:00",
         "6690",
         "370",
         "2",
         "8",
         "south",
         "364"
        ],
        [
         "259",
         "260",
         "2025-07-05 07:00:00+00:00",
         "2066",
         "160",
         "19",
         "7",
         "east",
         "172"
        ],
        [
         "428",
         "429",
         "2025-05-26 07:00:00+00:00",
         "5948",
         "168",
         "4",
         "7",
         "west",
         "165"
        ],
        [
         "498",
         "499",
         "2025-06-25 07:00:00+00:00",
         "3688",
         "184",
         "15",
         "8",
         "east",
         "191"
        ],
        [
         "532",
         "533",
         "2025-06-28 07:00:00+00:00",
         "608",
         "470",
         "6",
         "6",
         "north",
         "470"
        ],
        [
         "552",
         "553",
         "2025-05-08 07:00:00+00:00",
         "7533",
         "495",
         "0",
         "10",
         "east",
         "485"
        ],
        [
         "572",
         "573",
         "2025-05-24 07:00:00+00:00",
         "4396",
         "297",
         "3",
         "3",
         "south",
         "297"
        ],
        [
         "1075",
         "1076",
         "2025-06-19 07:00:00+00:00",
         "8425",
         "305",
         "6",
         "1",
         "west",
         "310"
        ],
        [
         "1111",
         "1112",
         "2025-06-30 07:00:00+00:00",
         "5909",
         "567",
         "18",
         "8",
         "south",
         "577"
        ],
        [
         "1139",
         "1140",
         "2025-05-08 07:00:00+00:00",
         "7706",
         "630",
         "14",
         "8",
         "south",
         "636"
        ],
        [
         "1153",
         "1154",
         "2025-05-15 07:00:00+00:00",
         "3954",
         "161",
         "18",
         "10",
         "south",
         "169"
        ],
        [
         "1175",
         "1176",
         "2025-07-01 07:00:00+00:00",
         "2457",
         "408",
         "15",
         "5",
         "south",
         "418"
        ],
        [
         "1361",
         "1362",
         "2025-05-23 07:00:00+00:00",
         "9774",
         "210",
         "14",
         "13",
         "west",
         "211"
        ],
        [
         "1477",
         "1478",
         "2025-05-22 07:00:00+00:00",
         "1270",
         "330",
         "14",
         "8",
         "west",
         "336"
        ],
        [
         "1686",
         "1687",
         "2025-06-20 07:00:00+00:00",
         "1475",
         "308",
         "9",
         "4",
         "east",
         "313"
        ],
        [
         "1820",
         "1821",
         "2025-06-13 07:00:00+00:00",
         "3542",
         "259",
         "6",
         "5",
         "north",
         "260"
        ],
        [
         "1917",
         "1918",
         "2025-05-19 07:00:00+00:00",
         "5609",
         "405",
         "18",
         "3",
         "west",
         "420"
        ],
        [
         "2053",
         "2054",
         "2025-05-18 07:00:00+00:00",
         "4113",
         "621",
         "14",
         "5",
         "south",
         "630"
        ],
        [
         "2200",
         "2201",
         "2025-06-14 07:00:00+00:00",
         "2008",
         "736",
         "4",
         "1",
         "east",
         "739"
        ],
        [
         "2257",
         "2258",
         "2025-05-16 07:00:00+00:00",
         "5422",
         "776",
         "13",
         "11",
         "north",
         "778"
        ],
        [
         "2487",
         "2488",
         "2025-06-05 07:00:00+00:00",
         "8836",
         "198",
         "15",
         "13",
         "north",
         "200"
        ],
        [
         "2549",
         "2550",
         "2025-05-24 07:00:00+00:00",
         "3593",
         "156",
         "7",
         "11",
         "west",
         "152"
        ],
        [
         "2797",
         "2798",
         "2025-06-05 07:00:00+00:00",
         "549",
         "406",
         "13",
         "5",
         "west",
         "414"
        ],
        [
         "3042",
         "3043",
         "2025-05-12 07:00:00+00:00",
         "9454",
         "380",
         "17",
         "10",
         "west",
         "387"
        ],
        [
         "3191",
         "3192",
         "2025-06-22 07:00:00+00:00",
         "3933",
         "581",
         "14",
         "3",
         "north",
         "592"
        ],
        [
         "3249",
         "3250",
         "2025-05-15 07:00:00+00:00",
         "9927",
         "372",
         "10",
         "1",
         "north",
         "381"
        ],
        [
         "3531",
         "3532",
         "2025-06-24 07:00:00+00:00",
         "3967",
         "252",
         "13",
         "0",
         "south",
         "265"
        ],
        [
         "3545",
         "3546",
         "2025-05-20 07:00:00+00:00",
         "28",
         "448",
         "17",
         "4",
         "north",
         "461"
        ],
        [
         "3737",
         "3738",
         "2025-06-19 07:00:00+00:00",
         "917",
         "365",
         "7",
         "2",
         "south",
         "370"
        ],
        [
         "3892",
         "3893",
         "2025-05-31 07:00:00+00:00",
         "1491",
         "540",
         "11",
         "11",
         "east",
         "540"
        ],
        [
         "3942",
         "3943",
         "2025-05-23 07:00:00+00:00",
         "4189",
         "594",
         "15",
         "0",
         "east",
         "609"
        ],
        [
         "3986",
         "3987",
         "2025-06-05 07:00:00+00:00",
         "1523",
         "162",
         "16",
         "11",
         "east",
         "167"
        ],
        [
         "4310",
         "4311",
         "2025-05-13 07:00:00+00:00",
         "8581",
         "285",
         "9",
         "6",
         "east",
         "288"
        ],
        [
         "4327",
         "4328",
         "2025-06-03 07:00:00+00:00",
         "485",
         "205",
         "16",
         "5",
         "west",
         "216"
        ],
        [
         "4758",
         "4759",
         "2025-06-12 07:00:00+00:00",
         "8686",
         "427",
         "9",
         "5",
         "east",
         "431"
        ],
        [
         "4867",
         "4868",
         "2025-05-24 07:00:00+00:00",
         "9716",
         "496",
         "9",
         "1",
         "west",
         "504"
        ],
        [
         "4919",
         "4920",
         "2025-07-02 07:00:00+00:00",
         "9841",
         "245",
         "8",
         "9",
         "north",
         "244"
        ],
        [
         "4972",
         "4973",
         "2025-06-13 07:00:00+00:00",
         "2636",
         "516",
         "16",
         "10",
         "east",
         "522"
        ],
        [
         "5123",
         "5124",
         "2025-06-12 07:00:00+00:00",
         "4208",
         "792",
         "18",
         "5",
         "south",
         "805"
        ],
        [
         "5375",
         "5376",
         "2025-05-29 07:00:00+00:00",
         "4204",
         "546",
         "1",
         "10",
         "west",
         "537"
        ],
        [
         "5401",
         "5402",
         "2025-06-24 07:00:00+00:00",
         "7680",
         "756",
         "9",
         "11",
         "west",
         "754"
        ],
        [
         "5560",
         "5561",
         "2025-06-23 07:00:00+00:00",
         "4730",
         "234",
         "11",
         "10",
         "north",
         "235"
        ],
        [
         "5633",
         "5634",
         "2025-05-31 07:00:00+00:00",
         "6116",
         "287",
         "0",
         "8",
         "south",
         "279"
        ],
        [
         "5889",
         "5890",
         "2025-05-20 07:00:00+00:00",
         "9686",
         "891",
         "14",
         "3",
         "south",
         "902"
        ],
        [
         "6116",
         "6117",
         "2025-05-09 07:00:00+00:00",
         "6240",
         "154",
         "2",
         "11",
         "east",
         "145"
        ],
        [
         "6172",
         "6173",
         "2025-06-17 07:00:00+00:00",
         "3390",
         "666",
         "7",
         "0",
         "north",
         "673"
        ],
        [
         "6310",
         "6311",
         "2025-05-17 07:00:00+00:00",
         "1062",
         "330",
         "13",
         "12",
         "south",
         "331"
        ],
        [
         "6346",
         "6347",
         "2025-05-30 07:00:00+00:00",
         "9375",
         "760",
         "3",
         "2",
         "east",
         "761"
        ],
        [
         "6471",
         "6472",
         "2025-06-09 07:00:00+00:00",
         "7186",
         "450",
         "2",
         "8",
         "south",
         "444"
        ],
        [
         "6508",
         "6509",
         "2025-06-18 07:00:00+00:00",
         "4608",
         "261",
         "5",
         "7",
         "east",
         "259"
        ]
       ],
       "shape": {
        "columns": 8,
        "rows": 180
       }
      },
      "text/html": [
       "<div>\n",
       "<style scoped>\n",
       "    .dataframe tbody tr th:only-of-type {\n",
       "        vertical-align: middle;\n",
       "    }\n",
       "\n",
       "    .dataframe tbody tr th {\n",
       "        vertical-align: top;\n",
       "    }\n",
       "\n",
       "    .dataframe thead th {\n",
       "        text-align: right;\n",
       "    }\n",
       "</style>\n",
       "<table border=\"1\" class=\"dataframe\">\n",
       "  <thead>\n",
       "    <tr style=\"text-align: right;\">\n",
       "      <th></th>\n",
       "      <th>inventory_id</th>\n",
       "      <th>date</th>\n",
       "      <th>product_id</th>\n",
       "      <th>beginning_stock</th>\n",
       "      <th>received</th>\n",
       "      <th>sold</th>\n",
       "      <th>warehouse_location</th>\n",
       "      <th>ending_stock</th>\n",
       "    </tr>\n",
       "  </thead>\n",
       "  <tbody>\n",
       "    <tr>\n",
       "      <th>65</th>\n",
       "      <td>66</td>\n",
       "      <td>2025-05-26 07:00:00+00:00</td>\n",
       "      <td>6690</td>\n",
       "      <td>370</td>\n",
       "      <td>2</td>\n",
       "      <td>8</td>\n",
       "      <td>south</td>\n",
       "      <td>364</td>\n",
       "    </tr>\n",
       "    <tr>\n",
       "      <th>259</th>\n",
       "      <td>260</td>\n",
       "      <td>2025-07-05 07:00:00+00:00</td>\n",
       "      <td>2066</td>\n",
       "      <td>160</td>\n",
       "      <td>19</td>\n",
       "      <td>7</td>\n",
       "      <td>east</td>\n",
       "      <td>172</td>\n",
       "    </tr>\n",
       "    <tr>\n",
       "      <th>428</th>\n",
       "      <td>429</td>\n",
       "      <td>2025-05-26 07:00:00+00:00</td>\n",
       "      <td>5948</td>\n",
       "      <td>168</td>\n",
       "      <td>4</td>\n",
       "      <td>7</td>\n",
       "      <td>west</td>\n",
       "      <td>165</td>\n",
       "    </tr>\n",
       "    <tr>\n",
       "      <th>498</th>\n",
       "      <td>499</td>\n",
       "      <td>2025-06-25 07:00:00+00:00</td>\n",
       "      <td>3688</td>\n",
       "      <td>184</td>\n",
       "      <td>15</td>\n",
       "      <td>8</td>\n",
       "      <td>east</td>\n",
       "      <td>191</td>\n",
       "    </tr>\n",
       "    <tr>\n",
       "      <th>532</th>\n",
       "      <td>533</td>\n",
       "      <td>2025-06-28 07:00:00+00:00</td>\n",
       "      <td>608</td>\n",
       "      <td>470</td>\n",
       "      <td>6</td>\n",
       "      <td>6</td>\n",
       "      <td>north</td>\n",
       "      <td>470</td>\n",
       "    </tr>\n",
       "    <tr>\n",
       "      <th>...</th>\n",
       "      <td>...</td>\n",
       "      <td>...</td>\n",
       "      <td>...</td>\n",
       "      <td>...</td>\n",
       "      <td>...</td>\n",
       "      <td>...</td>\n",
       "      <td>...</td>\n",
       "      <td>...</td>\n",
       "    </tr>\n",
       "    <tr>\n",
       "      <th>20043</th>\n",
       "      <td>16666</td>\n",
       "      <td>2025-06-25 07:00:00+00:00</td>\n",
       "      <td>2493</td>\n",
       "      <td>480</td>\n",
       "      <td>12</td>\n",
       "      <td>0</td>\n",
       "      <td>south</td>\n",
       "      <td>492</td>\n",
       "    </tr>\n",
       "    <tr>\n",
       "      <th>20046</th>\n",
       "      <td>1666</td>\n",
       "      <td>2025-06-19 07:00:00+00:00</td>\n",
       "      <td>6538</td>\n",
       "      <td>280</td>\n",
       "      <td>0</td>\n",
       "      <td>10</td>\n",
       "      <td>south</td>\n",
       "      <td>270</td>\n",
       "    </tr>\n",
       "    <tr>\n",
       "      <th>20049</th>\n",
       "      <td>2215</td>\n",
       "      <td>2025-07-02 07:00:00+00:00</td>\n",
       "      <td>219</td>\n",
       "      <td>603</td>\n",
       "      <td>9</td>\n",
       "      <td>2</td>\n",
       "      <td>south</td>\n",
       "      <td>610</td>\n",
       "    </tr>\n",
       "    <tr>\n",
       "      <th>20051</th>\n",
       "      <td>16616</td>\n",
       "      <td>2025-05-17 07:00:00+00:00</td>\n",
       "      <td>6764</td>\n",
       "      <td>756</td>\n",
       "      <td>6</td>\n",
       "      <td>12</td>\n",
       "      <td>east</td>\n",
       "      <td>750</td>\n",
       "    </tr>\n",
       "    <tr>\n",
       "      <th>20052</th>\n",
       "      <td>9865</td>\n",
       "      <td>2025-05-16 07:00:00+00:00</td>\n",
       "      <td>4272</td>\n",
       "      <td>330</td>\n",
       "      <td>18</td>\n",
       "      <td>0</td>\n",
       "      <td>east</td>\n",
       "      <td>348</td>\n",
       "    </tr>\n",
       "  </tbody>\n",
       "</table>\n",
       "<p>180 rows × 8 columns</p>\n",
       "</div>"
      ],
      "text/plain": [
       "       inventory_id                      date  product_id  beginning_stock  received  sold warehouse_location  ending_stock\n",
       "65               66 2025-05-26 07:00:00+00:00        6690              370         2     8              south           364\n",
       "259             260 2025-07-05 07:00:00+00:00        2066              160        19     7               east           172\n",
       "428             429 2025-05-26 07:00:00+00:00        5948              168         4     7               west           165\n",
       "498             499 2025-06-25 07:00:00+00:00        3688              184        15     8               east           191\n",
       "532             533 2025-06-28 07:00:00+00:00         608              470         6     6              north           470\n",
       "...             ...                       ...         ...              ...       ...   ...                ...           ...\n",
       "20043         16666 2025-06-25 07:00:00+00:00        2493              480        12     0              south           492\n",
       "20046          1666 2025-06-19 07:00:00+00:00        6538              280         0    10              south           270\n",
       "20049          2215 2025-07-02 07:00:00+00:00         219              603         9     2              south           610\n",
       "20051         16616 2025-05-17 07:00:00+00:00        6764              756         6    12               east           750\n",
       "20052          9865 2025-05-16 07:00:00+00:00        4272              330        18     0               east           348\n",
       "\n",
       "[180 rows x 8 columns]"
      ]
     },
     "metadata": {},
     "output_type": "display_data"
    }
   ],
   "source": [
    "# Evaluate boundary thresholds and detect potential outliers\n",
    "outlier_limit_bounds(df_inventory_clean, 'beginning_stock', bound='both', clamp_zero=True)"
   ]
  },
  {
   "cell_type": "code",
   "execution_count": null,
   "id": "56ea3971",
   "metadata": {},
   "outputs": [
    {
     "data": {
      "text/html": [
       "> Outlier thresholds for <i>'received'</i>: \n",
       "> Lower = <b>0.000</b>, > Upper = <b>31.500</b>"
      ],
      "text/plain": [
       "<IPython.core.display.HTML object>"
      ]
     },
     "metadata": {},
     "output_type": "display_data"
    },
    {
     "data": {
      "text/html": [
       "> <b>No</b> lower outliers found in column <i>'received'</i>."
      ],
      "text/plain": [
       "<IPython.core.display.HTML object>"
      ]
     },
     "metadata": {},
     "output_type": "display_data"
    },
    {
     "data": {
      "text/html": [
       "> <b>No</b> upper outliers found in column <i>'received'</i>."
      ],
      "text/plain": [
       "<IPython.core.display.HTML object>"
      ]
     },
     "metadata": {},
     "output_type": "display_data"
    },
    {
     "data": {
      "text/html": [
       "- - -"
      ],
      "text/plain": [
       "<IPython.core.display.HTML object>"
      ]
     },
     "metadata": {},
     "output_type": "display_data"
    },
    {
     "data": {
      "text/html": [
       "> Outliers:"
      ],
      "text/plain": [
       "<IPython.core.display.HTML object>"
      ]
     },
     "metadata": {},
     "output_type": "display_data"
    }
   ],
   "source": [
    "outlier_limit_bounds(df_inventory_clean, 'received', bound='both', clamp_zero=True)"
   ]
  },
  {
   "cell_type": "code",
   "execution_count": null,
   "id": "67ce2ce8",
   "metadata": {},
   "outputs": [
    {
     "data": {
      "text/html": [
       "> Outlier thresholds for <i>'sold'</i>: \n",
       "> Lower = <b>0.000</b>, > Upper = <b>23.000</b>"
      ],
      "text/plain": [
       "<IPython.core.display.HTML object>"
      ]
     },
     "metadata": {},
     "output_type": "display_data"
    },
    {
     "data": {
      "text/html": [
       "> <b>No</b> lower outliers found in column <i>'sold'</i>."
      ],
      "text/plain": [
       "<IPython.core.display.HTML object>"
      ]
     },
     "metadata": {},
     "output_type": "display_data"
    },
    {
     "data": {
      "text/html": [
       "> <b>No</b> upper outliers found in column <i>'sold'</i>."
      ],
      "text/plain": [
       "<IPython.core.display.HTML object>"
      ]
     },
     "metadata": {},
     "output_type": "display_data"
    },
    {
     "data": {
      "text/html": [
       "- - -"
      ],
      "text/plain": [
       "<IPython.core.display.HTML object>"
      ]
     },
     "metadata": {},
     "output_type": "display_data"
    },
    {
     "data": {
      "text/html": [
       "> Outliers:"
      ],
      "text/plain": [
       "<IPython.core.display.HTML object>"
      ]
     },
     "metadata": {},
     "output_type": "display_data"
    }
   ],
   "source": [
    "outlier_limit_bounds(df_inventory_clean, 'sold', bound='both', clamp_zero=True)"
   ]
  },
  {
   "cell_type": "code",
   "execution_count": null,
   "id": "d56b564a",
   "metadata": {},
   "outputs": [
    {
     "data": {
      "text/html": [
       "> Outlier thresholds for <i>'ending_stock'</i>: \n",
       "> Lower = <b>0.000</b>, > Upper = <b>154.500</b>"
      ],
      "text/plain": [
       "<IPython.core.display.HTML object>"
      ]
     },
     "metadata": {},
     "output_type": "display_data"
    },
    {
     "data": {
      "text/html": [
       "> <b>No</b> lower outliers found in column <i>'ending_stock'</i>."
      ],
      "text/plain": [
       "<IPython.core.display.HTML object>"
      ]
     },
     "metadata": {},
     "output_type": "display_data"
    },
    {
     "data": {
      "text/html": [
       "- - -"
      ],
      "text/plain": [
       "<IPython.core.display.HTML object>"
      ]
     },
     "metadata": {},
     "output_type": "display_data"
    },
    {
     "data": {
      "text/html": [
       "> Outliers:"
      ],
      "text/plain": [
       "<IPython.core.display.HTML object>"
      ]
     },
     "metadata": {},
     "output_type": "display_data"
    },
    {
     "data": {
      "application/vnd.microsoft.datawrangler.viewer.v0+json": {
       "columns": [
        {
         "name": "index",
         "rawType": "int64",
         "type": "integer"
        },
        {
         "name": "inventory_id",
         "rawType": "int64",
         "type": "integer"
        },
        {
         "name": "date",
         "rawType": "datetime64[ns, UTC]",
         "type": "unknown"
        },
        {
         "name": "product_id",
         "rawType": "int64",
         "type": "integer"
        },
        {
         "name": "beginning_stock",
         "rawType": "int64",
         "type": "integer"
        },
        {
         "name": "received",
         "rawType": "int64",
         "type": "integer"
        },
        {
         "name": "sold",
         "rawType": "int64",
         "type": "integer"
        },
        {
         "name": "warehouse_location",
         "rawType": "category",
         "type": "unknown"
        },
        {
         "name": "ending_stock",
         "rawType": "int64",
         "type": "integer"
        }
       ],
       "ref": "483dace4-b862-4c52-8e98-397ec9629074",
       "rows": [
        [
         "65",
         "66",
         "2025-05-26 07:00:00+00:00",
         "6690",
         "370",
         "2",
         "8",
         "south",
         "364"
        ],
        [
         "259",
         "260",
         "2025-07-05 07:00:00+00:00",
         "2066",
         "160",
         "19",
         "7",
         "east",
         "172"
        ],
        [
         "428",
         "429",
         "2025-05-26 07:00:00+00:00",
         "5948",
         "168",
         "4",
         "7",
         "west",
         "165"
        ],
        [
         "498",
         "499",
         "2025-06-25 07:00:00+00:00",
         "3688",
         "184",
         "15",
         "8",
         "east",
         "191"
        ],
        [
         "532",
         "533",
         "2025-06-28 07:00:00+00:00",
         "608",
         "470",
         "6",
         "6",
         "north",
         "470"
        ],
        [
         "552",
         "553",
         "2025-05-08 07:00:00+00:00",
         "7533",
         "495",
         "0",
         "10",
         "east",
         "485"
        ],
        [
         "572",
         "573",
         "2025-05-24 07:00:00+00:00",
         "4396",
         "297",
         "3",
         "3",
         "south",
         "297"
        ],
        [
         "1075",
         "1076",
         "2025-06-19 07:00:00+00:00",
         "8425",
         "305",
         "6",
         "1",
         "west",
         "310"
        ],
        [
         "1111",
         "1112",
         "2025-06-30 07:00:00+00:00",
         "5909",
         "567",
         "18",
         "8",
         "south",
         "577"
        ],
        [
         "1139",
         "1140",
         "2025-05-08 07:00:00+00:00",
         "7706",
         "630",
         "14",
         "8",
         "south",
         "636"
        ],
        [
         "1153",
         "1154",
         "2025-05-15 07:00:00+00:00",
         "3954",
         "161",
         "18",
         "10",
         "south",
         "169"
        ],
        [
         "1175",
         "1176",
         "2025-07-01 07:00:00+00:00",
         "2457",
         "408",
         "15",
         "5",
         "south",
         "418"
        ],
        [
         "1361",
         "1362",
         "2025-05-23 07:00:00+00:00",
         "9774",
         "210",
         "14",
         "13",
         "west",
         "211"
        ],
        [
         "1477",
         "1478",
         "2025-05-22 07:00:00+00:00",
         "1270",
         "330",
         "14",
         "8",
         "west",
         "336"
        ],
        [
         "1686",
         "1687",
         "2025-06-20 07:00:00+00:00",
         "1475",
         "308",
         "9",
         "4",
         "east",
         "313"
        ],
        [
         "1820",
         "1821",
         "2025-06-13 07:00:00+00:00",
         "3542",
         "259",
         "6",
         "5",
         "north",
         "260"
        ],
        [
         "1917",
         "1918",
         "2025-05-19 07:00:00+00:00",
         "5609",
         "405",
         "18",
         "3",
         "west",
         "420"
        ],
        [
         "2053",
         "2054",
         "2025-05-18 07:00:00+00:00",
         "4113",
         "621",
         "14",
         "5",
         "south",
         "630"
        ],
        [
         "2200",
         "2201",
         "2025-06-14 07:00:00+00:00",
         "2008",
         "736",
         "4",
         "1",
         "east",
         "739"
        ],
        [
         "2257",
         "2258",
         "2025-05-16 07:00:00+00:00",
         "5422",
         "776",
         "13",
         "11",
         "north",
         "778"
        ],
        [
         "2487",
         "2488",
         "2025-06-05 07:00:00+00:00",
         "8836",
         "198",
         "15",
         "13",
         "north",
         "200"
        ],
        [
         "2797",
         "2798",
         "2025-06-05 07:00:00+00:00",
         "549",
         "406",
         "13",
         "5",
         "west",
         "414"
        ],
        [
         "3042",
         "3043",
         "2025-05-12 07:00:00+00:00",
         "9454",
         "380",
         "17",
         "10",
         "west",
         "387"
        ],
        [
         "3191",
         "3192",
         "2025-06-22 07:00:00+00:00",
         "3933",
         "581",
         "14",
         "3",
         "north",
         "592"
        ],
        [
         "3249",
         "3250",
         "2025-05-15 07:00:00+00:00",
         "9927",
         "372",
         "10",
         "1",
         "north",
         "381"
        ],
        [
         "3531",
         "3532",
         "2025-06-24 07:00:00+00:00",
         "3967",
         "252",
         "13",
         "0",
         "south",
         "265"
        ],
        [
         "3545",
         "3546",
         "2025-05-20 07:00:00+00:00",
         "28",
         "448",
         "17",
         "4",
         "north",
         "461"
        ],
        [
         "3737",
         "3738",
         "2025-06-19 07:00:00+00:00",
         "917",
         "365",
         "7",
         "2",
         "south",
         "370"
        ],
        [
         "3892",
         "3893",
         "2025-05-31 07:00:00+00:00",
         "1491",
         "540",
         "11",
         "11",
         "east",
         "540"
        ],
        [
         "3942",
         "3943",
         "2025-05-23 07:00:00+00:00",
         "4189",
         "594",
         "15",
         "0",
         "east",
         "609"
        ],
        [
         "3986",
         "3987",
         "2025-06-05 07:00:00+00:00",
         "1523",
         "162",
         "16",
         "11",
         "east",
         "167"
        ],
        [
         "4310",
         "4311",
         "2025-05-13 07:00:00+00:00",
         "8581",
         "285",
         "9",
         "6",
         "east",
         "288"
        ],
        [
         "4327",
         "4328",
         "2025-06-03 07:00:00+00:00",
         "485",
         "205",
         "16",
         "5",
         "west",
         "216"
        ],
        [
         "4758",
         "4759",
         "2025-06-12 07:00:00+00:00",
         "8686",
         "427",
         "9",
         "5",
         "east",
         "431"
        ],
        [
         "4867",
         "4868",
         "2025-05-24 07:00:00+00:00",
         "9716",
         "496",
         "9",
         "1",
         "west",
         "504"
        ],
        [
         "4919",
         "4920",
         "2025-07-02 07:00:00+00:00",
         "9841",
         "245",
         "8",
         "9",
         "north",
         "244"
        ],
        [
         "4972",
         "4973",
         "2025-06-13 07:00:00+00:00",
         "2636",
         "516",
         "16",
         "10",
         "east",
         "522"
        ],
        [
         "5123",
         "5124",
         "2025-06-12 07:00:00+00:00",
         "4208",
         "792",
         "18",
         "5",
         "south",
         "805"
        ],
        [
         "5375",
         "5376",
         "2025-05-29 07:00:00+00:00",
         "4204",
         "546",
         "1",
         "10",
         "west",
         "537"
        ],
        [
         "5401",
         "5402",
         "2025-06-24 07:00:00+00:00",
         "7680",
         "756",
         "9",
         "11",
         "west",
         "754"
        ],
        [
         "5560",
         "5561",
         "2025-06-23 07:00:00+00:00",
         "4730",
         "234",
         "11",
         "10",
         "north",
         "235"
        ],
        [
         "5633",
         "5634",
         "2025-05-31 07:00:00+00:00",
         "6116",
         "287",
         "0",
         "8",
         "south",
         "279"
        ],
        [
         "5889",
         "5890",
         "2025-05-20 07:00:00+00:00",
         "9686",
         "891",
         "14",
         "3",
         "south",
         "902"
        ],
        [
         "6172",
         "6173",
         "2025-06-17 07:00:00+00:00",
         "3390",
         "666",
         "7",
         "0",
         "north",
         "673"
        ],
        [
         "6310",
         "6311",
         "2025-05-17 07:00:00+00:00",
         "1062",
         "330",
         "13",
         "12",
         "south",
         "331"
        ],
        [
         "6346",
         "6347",
         "2025-05-30 07:00:00+00:00",
         "9375",
         "760",
         "3",
         "2",
         "east",
         "761"
        ],
        [
         "6471",
         "6472",
         "2025-06-09 07:00:00+00:00",
         "7186",
         "450",
         "2",
         "8",
         "south",
         "444"
        ],
        [
         "6508",
         "6509",
         "2025-06-18 07:00:00+00:00",
         "4608",
         "261",
         "5",
         "7",
         "east",
         "259"
        ],
        [
         "6656",
         "6657",
         "2025-06-19 07:00:00+00:00",
         "3189",
         "369",
         "13",
         "9",
         "south",
         "373"
        ],
        [
         "6943",
         "6944",
         "2025-06-22 07:00:00+00:00",
         "1405",
         "305",
         "8",
         "3",
         "west",
         "310"
        ]
       ],
       "shape": {
        "columns": 8,
        "rows": 178
       }
      },
      "text/html": [
       "<div>\n",
       "<style scoped>\n",
       "    .dataframe tbody tr th:only-of-type {\n",
       "        vertical-align: middle;\n",
       "    }\n",
       "\n",
       "    .dataframe tbody tr th {\n",
       "        vertical-align: top;\n",
       "    }\n",
       "\n",
       "    .dataframe thead th {\n",
       "        text-align: right;\n",
       "    }\n",
       "</style>\n",
       "<table border=\"1\" class=\"dataframe\">\n",
       "  <thead>\n",
       "    <tr style=\"text-align: right;\">\n",
       "      <th></th>\n",
       "      <th>inventory_id</th>\n",
       "      <th>date</th>\n",
       "      <th>product_id</th>\n",
       "      <th>beginning_stock</th>\n",
       "      <th>received</th>\n",
       "      <th>sold</th>\n",
       "      <th>warehouse_location</th>\n",
       "      <th>ending_stock</th>\n",
       "    </tr>\n",
       "  </thead>\n",
       "  <tbody>\n",
       "    <tr>\n",
       "      <th>65</th>\n",
       "      <td>66</td>\n",
       "      <td>2025-05-26 07:00:00+00:00</td>\n",
       "      <td>6690</td>\n",
       "      <td>370</td>\n",
       "      <td>2</td>\n",
       "      <td>8</td>\n",
       "      <td>south</td>\n",
       "      <td>364</td>\n",
       "    </tr>\n",
       "    <tr>\n",
       "      <th>259</th>\n",
       "      <td>260</td>\n",
       "      <td>2025-07-05 07:00:00+00:00</td>\n",
       "      <td>2066</td>\n",
       "      <td>160</td>\n",
       "      <td>19</td>\n",
       "      <td>7</td>\n",
       "      <td>east</td>\n",
       "      <td>172</td>\n",
       "    </tr>\n",
       "    <tr>\n",
       "      <th>428</th>\n",
       "      <td>429</td>\n",
       "      <td>2025-05-26 07:00:00+00:00</td>\n",
       "      <td>5948</td>\n",
       "      <td>168</td>\n",
       "      <td>4</td>\n",
       "      <td>7</td>\n",
       "      <td>west</td>\n",
       "      <td>165</td>\n",
       "    </tr>\n",
       "    <tr>\n",
       "      <th>498</th>\n",
       "      <td>499</td>\n",
       "      <td>2025-06-25 07:00:00+00:00</td>\n",
       "      <td>3688</td>\n",
       "      <td>184</td>\n",
       "      <td>15</td>\n",
       "      <td>8</td>\n",
       "      <td>east</td>\n",
       "      <td>191</td>\n",
       "    </tr>\n",
       "    <tr>\n",
       "      <th>532</th>\n",
       "      <td>533</td>\n",
       "      <td>2025-06-28 07:00:00+00:00</td>\n",
       "      <td>608</td>\n",
       "      <td>470</td>\n",
       "      <td>6</td>\n",
       "      <td>6</td>\n",
       "      <td>north</td>\n",
       "      <td>470</td>\n",
       "    </tr>\n",
       "    <tr>\n",
       "      <th>...</th>\n",
       "      <td>...</td>\n",
       "      <td>...</td>\n",
       "      <td>...</td>\n",
       "      <td>...</td>\n",
       "      <td>...</td>\n",
       "      <td>...</td>\n",
       "      <td>...</td>\n",
       "      <td>...</td>\n",
       "    </tr>\n",
       "    <tr>\n",
       "      <th>20043</th>\n",
       "      <td>16666</td>\n",
       "      <td>2025-06-25 07:00:00+00:00</td>\n",
       "      <td>2493</td>\n",
       "      <td>480</td>\n",
       "      <td>12</td>\n",
       "      <td>0</td>\n",
       "      <td>south</td>\n",
       "      <td>492</td>\n",
       "    </tr>\n",
       "    <tr>\n",
       "      <th>20046</th>\n",
       "      <td>1666</td>\n",
       "      <td>2025-06-19 07:00:00+00:00</td>\n",
       "      <td>6538</td>\n",
       "      <td>280</td>\n",
       "      <td>0</td>\n",
       "      <td>10</td>\n",
       "      <td>south</td>\n",
       "      <td>270</td>\n",
       "    </tr>\n",
       "    <tr>\n",
       "      <th>20049</th>\n",
       "      <td>2215</td>\n",
       "      <td>2025-07-02 07:00:00+00:00</td>\n",
       "      <td>219</td>\n",
       "      <td>603</td>\n",
       "      <td>9</td>\n",
       "      <td>2</td>\n",
       "      <td>south</td>\n",
       "      <td>610</td>\n",
       "    </tr>\n",
       "    <tr>\n",
       "      <th>20051</th>\n",
       "      <td>16616</td>\n",
       "      <td>2025-05-17 07:00:00+00:00</td>\n",
       "      <td>6764</td>\n",
       "      <td>756</td>\n",
       "      <td>6</td>\n",
       "      <td>12</td>\n",
       "      <td>east</td>\n",
       "      <td>750</td>\n",
       "    </tr>\n",
       "    <tr>\n",
       "      <th>20052</th>\n",
       "      <td>9865</td>\n",
       "      <td>2025-05-16 07:00:00+00:00</td>\n",
       "      <td>4272</td>\n",
       "      <td>330</td>\n",
       "      <td>18</td>\n",
       "      <td>0</td>\n",
       "      <td>east</td>\n",
       "      <td>348</td>\n",
       "    </tr>\n",
       "  </tbody>\n",
       "</table>\n",
       "<p>178 rows × 8 columns</p>\n",
       "</div>"
      ],
      "text/plain": [
       "       inventory_id                      date  product_id  beginning_stock  received  sold warehouse_location  ending_stock\n",
       "65               66 2025-05-26 07:00:00+00:00        6690              370         2     8              south           364\n",
       "259             260 2025-07-05 07:00:00+00:00        2066              160        19     7               east           172\n",
       "428             429 2025-05-26 07:00:00+00:00        5948              168         4     7               west           165\n",
       "498             499 2025-06-25 07:00:00+00:00        3688              184        15     8               east           191\n",
       "532             533 2025-06-28 07:00:00+00:00         608              470         6     6              north           470\n",
       "...             ...                       ...         ...              ...       ...   ...                ...           ...\n",
       "20043         16666 2025-06-25 07:00:00+00:00        2493              480        12     0              south           492\n",
       "20046          1666 2025-06-19 07:00:00+00:00        6538              280         0    10              south           270\n",
       "20049          2215 2025-07-02 07:00:00+00:00         219              603         9     2              south           610\n",
       "20051         16616 2025-05-17 07:00:00+00:00        6764              756         6    12               east           750\n",
       "20052          9865 2025-05-16 07:00:00+00:00        4272              330        18     0               east           348\n",
       "\n",
       "[178 rows x 8 columns]"
      ]
     },
     "metadata": {},
     "output_type": "display_data"
    }
   ],
   "source": [
    "outlier_limit_bounds(df_inventory_clean, 'ending_stock', bound='both', clamp_zero=True)"
   ]
  },
  {
   "cell_type": "markdown",
   "id": "6398c75c",
   "metadata": {},
   "source": [
    "#### 3.1.4 Descriptive statistics for products_clean dataset, quantitive values."
   ]
  },
  {
   "cell_type": "markdown",
   "id": "df26277c",
   "metadata": {},
   "source": [
    "<table>\n",
    "  <thead>\n",
    "    <tr>\n",
    "      <th>CV (%)</th>\n",
    "      <th>Interpretation for Coefficient of Variation</th>\n",
    "    </tr>\n",
    "  </thead>\n",
    "  <tbody>\n",
    "    <tr>\n",
    "      <td><small><strong>0–10%</strong></small></td>\n",
    "      <td><small><strong>Very low</strong> variability → <strong>very reliable</strong> Mean</small></td>\n",
    "    </tr>\n",
    "    <tr>\n",
    "      <td><small><strong>10–20%</strong></small></td>\n",
    "      <td><small><strong>Moderate</strong> variability → <strong>reliable</strong> Mean</small></td>\n",
    "    </tr>\n",
    "    <tr>\n",
    "      <td><small><strong>20–30%</strong></small></td>\n",
    "      <td><small><strong>Considerable</strong> variability → <strong>some what skewed</strong> Mean</small></td>\n",
    "    </tr>\n",
    "    <tr>\n",
    "      <td><small><strong>>30%</strong></small></td>\n",
    "      <td><small>High<strong> variability</strong> → <strong>prefer</strong> Median</small></td>\n",
    "    </tr>\n",
    "  </tbody>\n",
    "</table>\n"
   ]
  },
  {
   "cell_type": "code",
   "execution_count": null,
   "id": "1cdbba87",
   "metadata": {},
   "outputs": [
    {
     "data": {
      "application/vnd.microsoft.datawrangler.viewer.v0+json": {
       "columns": [
        {
         "name": "index",
         "rawType": "object",
         "type": "string"
        },
        {
         "name": "unit_cost",
         "rawType": "Float64",
         "type": "float"
        }
       ],
       "ref": "26375bea-6282-4377-9859-e33d51058b1c",
       "rows": [
        [
         "count",
         "10055.0"
        ],
        [
         "mean",
         "12.160353710812881"
        ],
        [
         "std",
         "27.62312954381378"
        ],
        [
         "min",
         "0.5"
        ],
        [
         "25%",
         "5.465"
        ],
        [
         "50%",
         "10.415"
        ],
        [
         "75%",
         "15.17"
        ],
        [
         "max",
         "1927.1449091140955"
        ]
       ],
       "shape": {
        "columns": 1,
        "rows": 8
       }
      },
      "text/plain": [
       "count        10055.0\n",
       "mean       12.160354\n",
       "std         27.62313\n",
       "min              0.5\n",
       "25%            5.465\n",
       "50%           10.415\n",
       "75%            15.17\n",
       "max      1927.144909\n",
       "Name: unit_cost, dtype: Float64"
      ]
     },
     "metadata": {},
     "output_type": "display_data"
    }
   ],
   "source": [
    "df_products_clean['unit_cost'].describe()"
   ]
  },
  {
   "cell_type": "code",
   "execution_count": null,
   "id": "e6eb27b8",
   "metadata": {},
   "outputs": [
    {
     "data": {
      "application/vnd.microsoft.datawrangler.viewer.v0+json": {
       "columns": [
        {
         "name": "index",
         "rawType": "object",
         "type": "string"
        },
        {
         "name": "list_price",
         "rawType": "float64",
         "type": "float"
        }
       ],
       "ref": "34709175-0d83-4062-b61e-cfdf6e01e211",
       "rows": [
        [
         "count",
         "10055.0"
        ],
        [
         "mean",
         "18.811385388390846"
        ],
        [
         "std",
         "36.71471669618083"
        ],
        [
         "min",
         "0.62"
        ],
        [
         "25%",
         "7.95"
        ],
        [
         "50%",
         "15.48"
        ],
        [
         "75%",
         "22.97"
        ],
        [
         "max",
         "2312.57"
        ]
       ],
       "shape": {
        "columns": 1,
        "rows": 8
       }
      },
      "text/plain": [
       "count    10055.000000\n",
       "mean        18.811385\n",
       "std         36.714717\n",
       "min          0.620000\n",
       "25%          7.950000\n",
       "50%         15.480000\n",
       "75%         22.970000\n",
       "max       2312.570000\n",
       "Name: list_price, dtype: float64"
      ]
     },
     "metadata": {},
     "output_type": "display_data"
    }
   ],
   "source": [
    "df_products_clean['list_price'].describe()"
   ]
  },
  {
   "cell_type": "code",
   "execution_count": null,
   "id": "58344041",
   "metadata": {},
   "outputs": [
    {
     "data": {
      "text/html": [
       "> Coefficient of variation for column <i>'unit_cost'</i>: <b>227.16 %</b>"
      ],
      "text/plain": [
       "<IPython.core.display.HTML object>"
      ]
     },
     "metadata": {},
     "output_type": "display_data"
    },
    {
     "data": {
      "text/html": [
       "> Skewness of column <i>'unit_cost'</i>: <b>46.39</b>"
      ],
      "text/plain": [
       "<IPython.core.display.HTML object>"
      ]
     },
     "metadata": {},
     "output_type": "display_data"
    },
    {
     "data": {
      "text/html": [
       "> High variability: mean may be misleading."
      ],
      "text/plain": [
       "<IPython.core.display.HTML object>"
      ]
     },
     "metadata": {},
     "output_type": "display_data"
    },
    {
     "data": {
      "text/html": [
       "> Very high skewness: distribution is heavily distorted."
      ],
      "text/plain": [
       "<IPython.core.display.HTML object>"
      ]
     },
     "metadata": {},
     "output_type": "display_data"
    },
    {
     "data": {
      "text/html": [
       "> Recommended central measure: <b>median</b> (due to high variability or strong skewness)"
      ],
      "text/plain": [
       "<IPython.core.display.HTML object>"
      ]
     },
     "metadata": {},
     "output_type": "display_data"
    },
    {
     "data": {
      "text/html": [
       "> Suggested transformation: <i>To reduce right skew: [log(x), sqrt(x), reciprocal(x), Box-Cox]. For extreme skew or heavy-tailed distributions, consider quantile or normal score transforms instead of classical ones.</i>"
      ],
      "text/plain": [
       "<IPython.core.display.HTML object>"
      ]
     },
     "metadata": {},
     "output_type": "display_data"
    }
   ],
   "source": [
    "# Evaluate the coefficient of variation to select the proper measure of central tendency\n",
    "evaluate_central_trend(df_products_clean, 'unit_cost')"
   ]
  },
  {
   "cell_type": "code",
   "execution_count": null,
   "id": "f156c633",
   "metadata": {},
   "outputs": [
    {
     "data": {
      "text/html": [
       "> Coefficient of variation for column <i>'list_price'</i>: <b>195.17 %</b>"
      ],
      "text/plain": [
       "<IPython.core.display.HTML object>"
      ]
     },
     "metadata": {},
     "output_type": "display_data"
    },
    {
     "data": {
      "text/html": [
       "> Skewness of column <i>'list_price'</i>: <b>34.88</b>"
      ],
      "text/plain": [
       "<IPython.core.display.HTML object>"
      ]
     },
     "metadata": {},
     "output_type": "display_data"
    },
    {
     "data": {
      "text/html": [
       "> High variability: mean may be misleading."
      ],
      "text/plain": [
       "<IPython.core.display.HTML object>"
      ]
     },
     "metadata": {},
     "output_type": "display_data"
    },
    {
     "data": {
      "text/html": [
       "> Very high skewness: distribution is heavily distorted."
      ],
      "text/plain": [
       "<IPython.core.display.HTML object>"
      ]
     },
     "metadata": {},
     "output_type": "display_data"
    },
    {
     "data": {
      "text/html": [
       "> Recommended central measure: <b>median</b> (due to high variability or strong skewness)"
      ],
      "text/plain": [
       "<IPython.core.display.HTML object>"
      ]
     },
     "metadata": {},
     "output_type": "display_data"
    },
    {
     "data": {
      "text/html": [
       "> Suggested transformation: <i>To reduce right skew: [log(x), sqrt(x), reciprocal(x), Box-Cox]. For extreme skew or heavy-tailed distributions, consider quantile or normal score transforms instead of classical ones.</i>"
      ],
      "text/plain": [
       "<IPython.core.display.HTML object>"
      ]
     },
     "metadata": {},
     "output_type": "display_data"
    }
   ],
   "source": [
    "evaluate_central_trend(df_products_clean, 'list_price')"
   ]
  },
  {
   "cell_type": "code",
   "execution_count": null,
   "id": "69979deb",
   "metadata": {},
   "outputs": [
    {
     "data": {
      "text/html": [
       "> Outlier thresholds for <i>'unit_cost'</i>: \n",
       "> Lower = <b>0.000</b>, > Upper = <b>29.727</b>"
      ],
      "text/plain": [
       "<IPython.core.display.HTML object>"
      ]
     },
     "metadata": {},
     "output_type": "display_data"
    },
    {
     "data": {
      "text/html": [
       "> <b>No</b> lower outliers found in column <i>'unit_cost'</i>."
      ],
      "text/plain": [
       "<IPython.core.display.HTML object>"
      ]
     },
     "metadata": {},
     "output_type": "display_data"
    },
    {
     "data": {
      "text/html": [
       "- - -"
      ],
      "text/plain": [
       "<IPython.core.display.HTML object>"
      ]
     },
     "metadata": {},
     "output_type": "display_data"
    },
    {
     "data": {
      "text/html": [
       "> Outliers:"
      ],
      "text/plain": [
       "<IPython.core.display.HTML object>"
      ]
     },
     "metadata": {},
     "output_type": "display_data"
    },
    {
     "data": {
      "application/vnd.microsoft.datawrangler.viewer.v0+json": {
       "columns": [
        {
         "name": "index",
         "rawType": "int64",
         "type": "integer"
        },
        {
         "name": "product_id",
         "rawType": "int64",
         "type": "integer"
        },
        {
         "name": "product_name",
         "rawType": "string",
         "type": "string"
        },
        {
         "name": "category",
         "rawType": "category",
         "type": "unknown"
        },
        {
         "name": "supplier_id",
         "rawType": "int64",
         "type": "integer"
        },
        {
         "name": "unit_cost",
         "rawType": "Float64",
         "type": "float"
        },
        {
         "name": "status",
         "rawType": "category",
         "type": "unknown"
        },
        {
         "name": "brand",
         "rawType": "string",
         "type": "string"
        },
        {
         "name": "list_price",
         "rawType": "float64",
         "type": "float"
        }
       ],
       "ref": "3d7e283f-305b-4b24-ba58-23deec6ab200",
       "rows": [
        [
         "4",
         "5",
         "place_frozen_foods",
         "bakery",
         "964",
         "73.3",
         "backordered",
         "leblanc_james_and_thompson",
         "87.96"
        ],
        [
         "135",
         "136",
         "sell_dairy",
         "dairy",
         "1145",
         "174.76866063928838",
         "backordered",
         "thomas_wilson",
         "209.72"
        ],
        [
         "138",
         "139",
         "free_frozen_foods",
         "snacks",
         "1941",
         "145.1",
         "backordered",
         "woodard_plc",
         "174.12"
        ],
        [
         "290",
         "291",
         "develop_bakery",
         "bakery",
         "1610",
         "53.5",
         "active",
         "cox_rich_and_perez",
         "64.2"
        ],
        [
         "351",
         "352",
         "away_frozen_foods",
         "frozen_foods",
         "766",
         "57.20663293371464",
         "active",
         "henderson_group",
         "68.65"
        ],
        [
         "372",
         "373",
         "challenge_dairy",
         "snacks",
         "1376",
         "96.76308698308324",
         "backordered",
         "brown_small_and_harrell",
         "116.12"
        ],
        [
         "375",
         "376",
         "control_produce",
         "dairy",
         "65",
         "42.3",
         "discontinued",
         "castro_garza",
         "50.76"
        ],
        [
         "428",
         "429",
         "young_frozen_foods",
         "beverages",
         "1199",
         "111.84812247184207",
         "active",
         "bush_ltd",
         "134.22"
        ],
        [
         "649",
         "650",
         "course_beverages",
         "snacks",
         "1852",
         "83.8312197719625",
         "discontinued",
         "brown_barnes",
         "100.6"
        ],
        [
         "714",
         "715",
         "side_beverages",
         "bakery",
         "1663",
         "83.0603407497853",
         "discontinued",
         "huber_porter",
         "99.67"
        ],
        [
         "813",
         "814",
         "meeting_bakery",
         "beverages",
         "1817",
         "142.18176309987376",
         "discontinued",
         "ortiz_watkins",
         "170.62"
        ],
        [
         "851",
         "852",
         "figure_dairy",
         "dairy",
         "1269",
         "74.20580076565952",
         "discontinued",
         "johnson_pitts",
         "89.05"
        ],
        [
         "870",
         "871",
         "smile_beverages",
         "beverages",
         "1421",
         "64.82442159383034",
         "discontinued",
         "mason_and_sons",
         "92.2"
        ],
        [
         "882",
         "883",
         "best_bakery",
         "frozen_foods",
         "1293",
         "76.49917309582531",
         "backordered",
         "morales_llc",
         "91.8"
        ],
        [
         "918",
         "919",
         "knowledge_frozen_foods",
         "dairy",
         "1461",
         "125.4",
         "backordered",
         "edwards_peters_and_hoffman",
         "150.48"
        ],
        [
         "1036",
         "1037",
         "down_snacks",
         "produce",
         "754",
         "85.7",
         "discontinued",
         "lopez_foley",
         "102.84"
        ],
        [
         "1056",
         "1057",
         "consider_frozen_foods",
         "bakery",
         "1325",
         "121.3",
         "discontinued",
         "york_perez_and_barnett",
         "145.56"
        ],
        [
         "1122",
         "1123",
         "cup_frozen_foods",
         "beverages",
         "927",
         "86.29443871493378",
         "active",
         "callahan_patterson",
         "103.55"
        ],
        [
         "1312",
         "1313",
         "return_frozen_foods",
         "frozen_foods",
         "380",
         "47.69574242973341",
         "backordered",
         "parker_thompson",
         "57.23"
        ],
        [
         "1326",
         "1327",
         "run_snacks",
         "snacks",
         "4",
         "152.88347335399277",
         "backordered",
         "thompson_crawford_and_lopez",
         "183.46"
        ],
        [
         "1330",
         "1331",
         "middle_produce",
         "dairy",
         "1292",
         "78.1",
         "discontinued",
         "wong_inc",
         "93.72"
        ],
        [
         "1428",
         "1429",
         "like_snacks",
         "dairy",
         "341",
         "158.0",
         "discontinued",
         "austin_harding",
         "189.6"
        ],
        [
         "1455",
         "1456",
         "everybody_bakery",
         "dairy",
         "1299",
         "49.8",
         "backordered",
         "alexander_harrison",
         "59.76"
        ],
        [
         "1488",
         "1489",
         "dog_snacks",
         "snacks",
         "795",
         "136.7626430804713",
         "backordered",
         "baker_king",
         "164.12"
        ],
        [
         "1552",
         "1553",
         "college_produce",
         "dairy",
         "1210",
         "51.3",
         "discontinued",
         "marshall_miller_and_perry",
         "61.56"
        ],
        [
         "1728",
         "1729",
         "firm_produce",
         "dairy",
         "995",
         "33.2",
         "discontinued",
         "lopez_franklin_and_roberts",
         "39.84"
        ],
        [
         "1778",
         "1779",
         "material_produce",
         "bakery",
         "1334",
         "33.6",
         "active",
         "bradford_hampton",
         "40.32"
        ],
        [
         "1808",
         "1809",
         "american_bakery",
         "bakery",
         "951",
         "60.1",
         "active",
         "smith_group",
         "72.12"
        ],
        [
         "1840",
         "1841",
         "role_snacks",
         "snacks",
         "1264",
         "124.88141377901114",
         "active",
         "park_and_sons",
         "149.86"
        ],
        [
         "1955",
         "1956",
         "quality_beverages",
         "snacks",
         "1129",
         "146.12712443611474",
         "discontinued",
         "cox_ellis_and_turner",
         "175.35"
        ],
        [
         "1987",
         "1988",
         "group_frozen_foods",
         "dairy",
         "1800",
         "143.05581505945312",
         "backordered",
         "davis_and_sons",
         "171.67"
        ],
        [
         "2052",
         "2053",
         "money_produce",
         "produce",
         "575",
         "91.9",
         "backordered",
         "hardy_plc",
         "110.28"
        ],
        [
         "2054",
         "2055",
         "daughter_frozen_foods",
         "beverages",
         "1510",
         "151.2743539098464",
         "active",
         "zimmerman_hunter_and_thomas",
         "181.53"
        ],
        [
         "2090",
         "2091",
         "glass_produce",
         "bakery",
         "485",
         "92.16631587962388",
         "backordered",
         "hicks_collins",
         "110.6"
        ],
        [
         "2127",
         "2128",
         "total_produce",
         "snacks",
         "551",
         "131.0",
         "discontinued",
         "donovan_inc",
         "157.2"
        ],
        [
         "2238",
         "2239",
         "two_frozen_foods",
         "beverages",
         "41",
         "176.20000000000002",
         "backordered",
         "guzman_smith",
         "211.44"
        ],
        [
         "2285",
         "2286",
         "decision_beverages",
         "snacks",
         "1395",
         "69.45812741064096",
         "backordered",
         "wilkerson_plc",
         "83.35"
        ],
        [
         "2385",
         "2386",
         "discussion_snacks",
         "produce",
         "1227",
         "86.8",
         "backordered",
         "sanders_and_sons",
         "104.16"
        ],
        [
         "2488",
         "2489",
         "life_frozen_foods",
         "bakery",
         "939",
         "80.17303224402986",
         "active",
         "campbell_richardson",
         "96.21"
        ],
        [
         "2490",
         "2491",
         "evidence_bakery",
         "snacks",
         "438",
         "45.257748905367386",
         "discontinued",
         "lopez_daniel",
         "54.31"
        ],
        [
         "2506",
         "2507",
         "use_dairy",
         "beverages",
         "618",
         "115.3",
         "backordered",
         "sims_davis",
         "138.36"
        ],
        [
         "2517",
         "2518",
         "own_beverages",
         "snacks",
         "859",
         "110.71111068180988",
         "backordered",
         "price_and_sons",
         "132.85"
        ],
        [
         "2657",
         "2658",
         "though_frozen_foods",
         "produce",
         "62",
         "81.19999999999999",
         "discontinued",
         "romero_inc",
         "97.44"
        ],
        [
         "2713",
         "2714",
         "measure_frozen_foods",
         "snacks",
         "63",
         "167.40793559516965",
         "backordered",
         "gilbert_ellis",
         "242.4"
        ],
        [
         "2811",
         "2812",
         "describe_snacks",
         "beverages",
         "1001",
         "58.21336005670848",
         "active",
         "perkins_ltd",
         "69.86"
        ],
        [
         "2814",
         "2815",
         "care_dairy",
         "bakery",
         "1917",
         "82.89999999999999",
         "backordered",
         "mcdonald_llc",
         "99.48"
        ],
        [
         "2887",
         "2888",
         "off_beverages",
         "beverages",
         "1658",
         "125.6",
         "backordered",
         "flores_inc",
         "150.72"
        ],
        [
         "2901",
         "2902",
         "tough_frozen_foods",
         "dairy",
         "547",
         "154.20096097270095",
         "backordered",
         "martinez_johnson",
         "185.04"
        ],
        [
         "2923",
         "2924",
         "attack_beverages",
         "dairy",
         "904",
         "186.9",
         "backordered",
         "mitchell_ltd",
         "224.28"
        ],
        [
         "2944",
         "2945",
         "fund_dairy",
         "beverages",
         "1512",
         "61.6",
         "backordered",
         "burke_group",
         "73.92"
        ]
       ],
       "shape": {
        "columns": 8,
        "rows": 173
       }
      },
      "text/html": [
       "<div>\n",
       "<style scoped>\n",
       "    .dataframe tbody tr th:only-of-type {\n",
       "        vertical-align: middle;\n",
       "    }\n",
       "\n",
       "    .dataframe tbody tr th {\n",
       "        vertical-align: top;\n",
       "    }\n",
       "\n",
       "    .dataframe thead th {\n",
       "        text-align: right;\n",
       "    }\n",
       "</style>\n",
       "<table border=\"1\" class=\"dataframe\">\n",
       "  <thead>\n",
       "    <tr style=\"text-align: right;\">\n",
       "      <th></th>\n",
       "      <th>product_id</th>\n",
       "      <th>product_name</th>\n",
       "      <th>category</th>\n",
       "      <th>supplier_id</th>\n",
       "      <th>unit_cost</th>\n",
       "      <th>status</th>\n",
       "      <th>brand</th>\n",
       "      <th>list_price</th>\n",
       "    </tr>\n",
       "  </thead>\n",
       "  <tbody>\n",
       "    <tr>\n",
       "      <th>4</th>\n",
       "      <td>5</td>\n",
       "      <td>place_frozen_foods</td>\n",
       "      <td>bakery</td>\n",
       "      <td>964</td>\n",
       "      <td>73.3</td>\n",
       "      <td>backordered</td>\n",
       "      <td>leblanc_james_and_thompson</td>\n",
       "      <td>87.96</td>\n",
       "    </tr>\n",
       "    <tr>\n",
       "      <th>135</th>\n",
       "      <td>136</td>\n",
       "      <td>sell_dairy</td>\n",
       "      <td>dairy</td>\n",
       "      <td>1145</td>\n",
       "      <td>174.768661</td>\n",
       "      <td>backordered</td>\n",
       "      <td>thomas_wilson</td>\n",
       "      <td>209.72</td>\n",
       "    </tr>\n",
       "    <tr>\n",
       "      <th>138</th>\n",
       "      <td>139</td>\n",
       "      <td>free_frozen_foods</td>\n",
       "      <td>snacks</td>\n",
       "      <td>1941</td>\n",
       "      <td>145.1</td>\n",
       "      <td>backordered</td>\n",
       "      <td>woodard_plc</td>\n",
       "      <td>174.12</td>\n",
       "    </tr>\n",
       "    <tr>\n",
       "      <th>290</th>\n",
       "      <td>291</td>\n",
       "      <td>develop_bakery</td>\n",
       "      <td>bakery</td>\n",
       "      <td>1610</td>\n",
       "      <td>53.5</td>\n",
       "      <td>active</td>\n",
       "      <td>cox_rich_and_perez</td>\n",
       "      <td>64.20</td>\n",
       "    </tr>\n",
       "    <tr>\n",
       "      <th>351</th>\n",
       "      <td>352</td>\n",
       "      <td>away_frozen_foods</td>\n",
       "      <td>frozen_foods</td>\n",
       "      <td>766</td>\n",
       "      <td>57.206633</td>\n",
       "      <td>active</td>\n",
       "      <td>henderson_group</td>\n",
       "      <td>68.65</td>\n",
       "    </tr>\n",
       "    <tr>\n",
       "      <th>...</th>\n",
       "      <td>...</td>\n",
       "      <td>...</td>\n",
       "      <td>...</td>\n",
       "      <td>...</td>\n",
       "      <td>...</td>\n",
       "      <td>...</td>\n",
       "      <td>...</td>\n",
       "      <td>...</td>\n",
       "    </tr>\n",
       "    <tr>\n",
       "      <th>10038</th>\n",
       "      <td>2398</td>\n",
       "      <td>type_beverages</td>\n",
       "      <td>beverages</td>\n",
       "      <td>333</td>\n",
       "      <td>36.573256</td>\n",
       "      <td>active</td>\n",
       "      <td>lucero_coleman_and_martinez</td>\n",
       "      <td>43.89</td>\n",
       "    </tr>\n",
       "    <tr>\n",
       "      <th>10041</th>\n",
       "      <td>6656</td>\n",
       "      <td>job_dairy</td>\n",
       "      <td>bakery</td>\n",
       "      <td>1290</td>\n",
       "      <td>107.374606</td>\n",
       "      <td>backordered</td>\n",
       "      <td>meyer_simmons</td>\n",
       "      <td>128.85</td>\n",
       "    </tr>\n",
       "    <tr>\n",
       "      <th>10045</th>\n",
       "      <td>8994</td>\n",
       "      <td>month_bakery</td>\n",
       "      <td>produce</td>\n",
       "      <td>917</td>\n",
       "      <td>99.368985</td>\n",
       "      <td>active</td>\n",
       "      <td>vazquez_miller_and_shannon</td>\n",
       "      <td>119.24</td>\n",
       "    </tr>\n",
       "    <tr>\n",
       "      <th>10049</th>\n",
       "      <td>7000</td>\n",
       "      <td>science_bakery</td>\n",
       "      <td>dairy</td>\n",
       "      <td>1993</td>\n",
       "      <td>105.965485</td>\n",
       "      <td>backordered</td>\n",
       "      <td>kelly_patterson_and_garza</td>\n",
       "      <td>127.16</td>\n",
       "    </tr>\n",
       "    <tr>\n",
       "      <th>10052</th>\n",
       "      <td>819</td>\n",
       "      <td>face_snacks</td>\n",
       "      <td>dairy</td>\n",
       "      <td>1367</td>\n",
       "      <td>176.127928</td>\n",
       "      <td>discontinued</td>\n",
       "      <td>hicks_english</td>\n",
       "      <td>211.35</td>\n",
       "    </tr>\n",
       "  </tbody>\n",
       "</table>\n",
       "<p>173 rows × 8 columns</p>\n",
       "</div>"
      ],
      "text/plain": [
       "       product_id        product_name      category  supplier_id   unit_cost        status                        brand  list_price\n",
       "4               5  place_frozen_foods        bakery          964        73.3   backordered   leblanc_james_and_thompson       87.96\n",
       "135           136          sell_dairy         dairy         1145  174.768661   backordered                thomas_wilson      209.72\n",
       "138           139   free_frozen_foods        snacks         1941       145.1   backordered                  woodard_plc      174.12\n",
       "290           291      develop_bakery        bakery         1610        53.5        active           cox_rich_and_perez       64.20\n",
       "351           352   away_frozen_foods  frozen_foods          766   57.206633        active              henderson_group       68.65\n",
       "...           ...                 ...           ...          ...         ...           ...                          ...         ...\n",
       "10038        2398      type_beverages     beverages          333   36.573256        active  lucero_coleman_and_martinez       43.89\n",
       "10041        6656           job_dairy        bakery         1290  107.374606   backordered                meyer_simmons      128.85\n",
       "10045        8994        month_bakery       produce          917   99.368985        active   vazquez_miller_and_shannon      119.24\n",
       "10049        7000      science_bakery         dairy         1993  105.965485   backordered    kelly_patterson_and_garza      127.16\n",
       "10052         819         face_snacks         dairy         1367  176.127928  discontinued                hicks_english      211.35\n",
       "\n",
       "[173 rows x 8 columns]"
      ]
     },
     "metadata": {},
     "output_type": "display_data"
    }
   ],
   "source": [
    "# Evaluate boundary thresholds and detect potential outliers\n",
    "outlier_limit_bounds(df_products_clean, 'unit_cost', bound='both', clamp_zero=True)"
   ]
  },
  {
   "cell_type": "code",
   "execution_count": null,
   "id": "aff8e324",
   "metadata": {},
   "outputs": [
    {
     "data": {
      "text/html": [
       "> Outlier thresholds for <i>'list_price'</i>: \n",
       "> Lower = <b>0.000</b>, > Upper = <b>45.500</b>"
      ],
      "text/plain": [
       "<IPython.core.display.HTML object>"
      ]
     },
     "metadata": {},
     "output_type": "display_data"
    },
    {
     "data": {
      "text/html": [
       "> <b>No</b> lower outliers found in column <i>'list_price'</i>."
      ],
      "text/plain": [
       "<IPython.core.display.HTML object>"
      ]
     },
     "metadata": {},
     "output_type": "display_data"
    },
    {
     "data": {
      "text/html": [
       "- - -"
      ],
      "text/plain": [
       "<IPython.core.display.HTML object>"
      ]
     },
     "metadata": {},
     "output_type": "display_data"
    },
    {
     "data": {
      "text/html": [
       "> Outliers:"
      ],
      "text/plain": [
       "<IPython.core.display.HTML object>"
      ]
     },
     "metadata": {},
     "output_type": "display_data"
    },
    {
     "data": {
      "application/vnd.microsoft.datawrangler.viewer.v0+json": {
       "columns": [
        {
         "name": "index",
         "rawType": "int64",
         "type": "integer"
        },
        {
         "name": "product_id",
         "rawType": "int64",
         "type": "integer"
        },
        {
         "name": "product_name",
         "rawType": "string",
         "type": "string"
        },
        {
         "name": "category",
         "rawType": "category",
         "type": "unknown"
        },
        {
         "name": "supplier_id",
         "rawType": "int64",
         "type": "integer"
        },
        {
         "name": "unit_cost",
         "rawType": "Float64",
         "type": "float"
        },
        {
         "name": "status",
         "rawType": "category",
         "type": "unknown"
        },
        {
         "name": "brand",
         "rawType": "string",
         "type": "string"
        },
        {
         "name": "list_price",
         "rawType": "float64",
         "type": "float"
        }
       ],
       "ref": "f4260263-7fbf-4479-b897-d42e627965e9",
       "rows": [
        [
         "4",
         "5",
         "place_frozen_foods",
         "bakery",
         "964",
         "73.3",
         "backordered",
         "leblanc_james_and_thompson",
         "87.96"
        ],
        [
         "135",
         "136",
         "sell_dairy",
         "dairy",
         "1145",
         "174.76866063928838",
         "backordered",
         "thomas_wilson",
         "209.72"
        ],
        [
         "138",
         "139",
         "free_frozen_foods",
         "snacks",
         "1941",
         "145.1",
         "backordered",
         "woodard_plc",
         "174.12"
        ],
        [
         "290",
         "291",
         "develop_bakery",
         "bakery",
         "1610",
         "53.5",
         "active",
         "cox_rich_and_perez",
         "64.2"
        ],
        [
         "327",
         "328",
         "century_frozen_foods",
         "dairy",
         "780",
         "6.35",
         "discontinued",
         "wood_perkins_and_rodriguez",
         "97.8"
        ],
        [
         "351",
         "352",
         "away_frozen_foods",
         "frozen_foods",
         "766",
         "57.20663293371464",
         "active",
         "henderson_group",
         "68.65"
        ],
        [
         "372",
         "373",
         "challenge_dairy",
         "snacks",
         "1376",
         "96.76308698308324",
         "backordered",
         "brown_small_and_harrell",
         "116.12"
        ],
        [
         "375",
         "376",
         "control_produce",
         "dairy",
         "65",
         "42.3",
         "discontinued",
         "castro_garza",
         "50.76"
        ],
        [
         "428",
         "429",
         "young_frozen_foods",
         "beverages",
         "1199",
         "111.84812247184207",
         "active",
         "bush_ltd",
         "134.22"
        ],
        [
         "461",
         "462",
         "attorney_snacks",
         "snacks",
         "1039",
         "7.98",
         "active",
         "gallagher_miller_and_lewis",
         "116.0"
        ],
        [
         "639",
         "640",
         "bring_beverages",
         "snacks",
         "1436",
         "10.41",
         "backordered",
         "gonzalez_hall",
         "140.9"
        ],
        [
         "645",
         "646",
         "situation_beverages",
         "bakery",
         "1961",
         "18.28",
         "discontinued",
         "novak_llc",
         "307.1"
        ],
        [
         "649",
         "650",
         "course_beverages",
         "snacks",
         "1852",
         "83.8312197719625",
         "discontinued",
         "brown_barnes",
         "100.6"
        ],
        [
         "714",
         "715",
         "side_beverages",
         "bakery",
         "1663",
         "83.0603407497853",
         "discontinued",
         "huber_porter",
         "99.67"
        ],
        [
         "758",
         "759",
         "appear_bakery",
         "frozen_foods",
         "824",
         "14.84",
         "discontinued",
         "smith_reid_and_waller",
         "208.6"
        ],
        [
         "813",
         "814",
         "meeting_bakery",
         "beverages",
         "1817",
         "142.18176309987376",
         "discontinued",
         "ortiz_watkins",
         "170.62"
        ],
        [
         "851",
         "852",
         "figure_dairy",
         "dairy",
         "1269",
         "74.20580076565952",
         "discontinued",
         "johnson_pitts",
         "89.05"
        ],
        [
         "858",
         "859",
         "with_bakery",
         "frozen_foods",
         "1867",
         "13.5",
         "active",
         "davis_group",
         "238.1"
        ],
        [
         "870",
         "871",
         "smile_beverages",
         "beverages",
         "1421",
         "64.82442159383034",
         "discontinued",
         "mason_and_sons",
         "92.2"
        ],
        [
         "882",
         "883",
         "best_bakery",
         "frozen_foods",
         "1293",
         "76.49917309582531",
         "backordered",
         "morales_llc",
         "91.8"
        ],
        [
         "918",
         "919",
         "knowledge_frozen_foods",
         "dairy",
         "1461",
         "125.4",
         "backordered",
         "edwards_peters_and_hoffman",
         "150.48"
        ],
        [
         "1036",
         "1037",
         "down_snacks",
         "produce",
         "754",
         "85.7",
         "discontinued",
         "lopez_foley",
         "102.84"
        ],
        [
         "1056",
         "1057",
         "consider_frozen_foods",
         "bakery",
         "1325",
         "121.3",
         "discontinued",
         "york_perez_and_barnett",
         "145.56"
        ],
        [
         "1122",
         "1123",
         "cup_frozen_foods",
         "beverages",
         "927",
         "86.29443871493378",
         "active",
         "callahan_patterson",
         "103.55"
        ],
        [
         "1126",
         "1127",
         "smile_dairy",
         "frozen_foods",
         "1814",
         "16.09",
         "active",
         "lee_parks",
         "221.4"
        ],
        [
         "1257",
         "1258",
         "college_beverages",
         "dairy",
         "1699",
         "3.61",
         "active",
         "obrien_ltd",
         "62.0"
        ],
        [
         "1312",
         "1313",
         "return_frozen_foods",
         "frozen_foods",
         "380",
         "47.69574242973341",
         "backordered",
         "parker_thompson",
         "57.23"
        ],
        [
         "1326",
         "1327",
         "run_snacks",
         "snacks",
         "4",
         "152.88347335399277",
         "backordered",
         "thompson_crawford_and_lopez",
         "183.46"
        ],
        [
         "1330",
         "1331",
         "middle_produce",
         "dairy",
         "1292",
         "78.1",
         "discontinued",
         "wong_inc",
         "93.72"
        ],
        [
         "1428",
         "1429",
         "like_snacks",
         "dairy",
         "341",
         "158.0",
         "discontinued",
         "austin_harding",
         "189.6"
        ],
        [
         "1431",
         "1432",
         "future_beverages",
         "beverages",
         "1342",
         "19.85",
         "discontinued",
         "ruiz_stone_and_williams",
         "347.70000000000005"
        ],
        [
         "1455",
         "1456",
         "everybody_bakery",
         "dairy",
         "1299",
         "49.8",
         "backordered",
         "alexander_harrison",
         "59.76"
        ],
        [
         "1488",
         "1489",
         "dog_snacks",
         "snacks",
         "795",
         "136.7626430804713",
         "backordered",
         "baker_king",
         "164.12"
        ],
        [
         "1532",
         "1533",
         "them_produce",
         "frozen_foods",
         "1018",
         "9.16",
         "discontinued",
         "byrd_jones",
         "134.5"
        ],
        [
         "1539",
         "1540",
         "dream_dairy",
         "snacks",
         "370",
         "11.37",
         "active",
         "ward_and_sons",
         "178.5"
        ],
        [
         "1542",
         "1543",
         "have_beverages",
         "beverages",
         "1255",
         "7.06",
         "active",
         "villegas_inc",
         "101.0"
        ],
        [
         "1552",
         "1553",
         "college_produce",
         "dairy",
         "1210",
         "51.3",
         "discontinued",
         "marshall_miller_and_perry",
         "61.56"
        ],
        [
         "1661",
         "1662",
         "often_bakery",
         "produce",
         "749",
         "7.34",
         "backordered",
         "fernandez_glover_and_clark",
         "122.9"
        ],
        [
         "1796",
         "1797",
         "program_bakery",
         "beverages",
         "473",
         "3.78",
         "active",
         "english_salinas_and_smith",
         "57.6"
        ],
        [
         "1808",
         "1809",
         "american_bakery",
         "bakery",
         "951",
         "60.1",
         "active",
         "smith_group",
         "72.12"
        ],
        [
         "1819",
         "1820",
         "day_frozen_foods",
         "dairy",
         "1572",
         "5.67",
         "backordered",
         "johnson_moore",
         "70.19999999999999"
        ],
        [
         "1840",
         "1841",
         "role_snacks",
         "snacks",
         "1264",
         "124.88141377901114",
         "active",
         "park_and_sons",
         "149.86"
        ],
        [
         "1955",
         "1956",
         "quality_beverages",
         "snacks",
         "1129",
         "146.12712443611474",
         "discontinued",
         "cox_ellis_and_turner",
         "175.35"
        ],
        [
         "1987",
         "1988",
         "group_frozen_foods",
         "dairy",
         "1800",
         "143.05581505945312",
         "backordered",
         "davis_and_sons",
         "171.67"
        ],
        [
         "2029",
         "2030",
         "social_frozen_foods",
         "frozen_foods",
         "59",
         "12.61",
         "backordered",
         "cooke_hess_and_berger",
         "220.6"
        ],
        [
         "2052",
         "2053",
         "money_produce",
         "produce",
         "575",
         "91.9",
         "backordered",
         "hardy_plc",
         "110.28"
        ],
        [
         "2054",
         "2055",
         "daughter_frozen_foods",
         "beverages",
         "1510",
         "151.2743539098464",
         "active",
         "zimmerman_hunter_and_thomas",
         "181.53"
        ],
        [
         "2055",
         "2056",
         "far_frozen_foods",
         "dairy",
         "1375",
         "11.99",
         "active",
         "tran_and_sons",
         "190.2"
        ],
        [
         "2085",
         "2086",
         "around_produce",
         "beverages",
         "138",
         "15.47",
         "discontinued",
         "ferguson_ltd",
         "222.4"
        ],
        [
         "2090",
         "2091",
         "glass_produce",
         "bakery",
         "485",
         "92.16631587962388",
         "backordered",
         "hicks_collins",
         "110.6"
        ]
       ],
       "shape": {
        "columns": 8,
        "rows": 248
       }
      },
      "text/html": [
       "<div>\n",
       "<style scoped>\n",
       "    .dataframe tbody tr th:only-of-type {\n",
       "        vertical-align: middle;\n",
       "    }\n",
       "\n",
       "    .dataframe tbody tr th {\n",
       "        vertical-align: top;\n",
       "    }\n",
       "\n",
       "    .dataframe thead th {\n",
       "        text-align: right;\n",
       "    }\n",
       "</style>\n",
       "<table border=\"1\" class=\"dataframe\">\n",
       "  <thead>\n",
       "    <tr style=\"text-align: right;\">\n",
       "      <th></th>\n",
       "      <th>product_id</th>\n",
       "      <th>product_name</th>\n",
       "      <th>category</th>\n",
       "      <th>supplier_id</th>\n",
       "      <th>unit_cost</th>\n",
       "      <th>status</th>\n",
       "      <th>brand</th>\n",
       "      <th>list_price</th>\n",
       "    </tr>\n",
       "  </thead>\n",
       "  <tbody>\n",
       "    <tr>\n",
       "      <th>4</th>\n",
       "      <td>5</td>\n",
       "      <td>place_frozen_foods</td>\n",
       "      <td>bakery</td>\n",
       "      <td>964</td>\n",
       "      <td>73.3</td>\n",
       "      <td>backordered</td>\n",
       "      <td>leblanc_james_and_thompson</td>\n",
       "      <td>87.96</td>\n",
       "    </tr>\n",
       "    <tr>\n",
       "      <th>135</th>\n",
       "      <td>136</td>\n",
       "      <td>sell_dairy</td>\n",
       "      <td>dairy</td>\n",
       "      <td>1145</td>\n",
       "      <td>174.768661</td>\n",
       "      <td>backordered</td>\n",
       "      <td>thomas_wilson</td>\n",
       "      <td>209.72</td>\n",
       "    </tr>\n",
       "    <tr>\n",
       "      <th>138</th>\n",
       "      <td>139</td>\n",
       "      <td>free_frozen_foods</td>\n",
       "      <td>snacks</td>\n",
       "      <td>1941</td>\n",
       "      <td>145.1</td>\n",
       "      <td>backordered</td>\n",
       "      <td>woodard_plc</td>\n",
       "      <td>174.12</td>\n",
       "    </tr>\n",
       "    <tr>\n",
       "      <th>290</th>\n",
       "      <td>291</td>\n",
       "      <td>develop_bakery</td>\n",
       "      <td>bakery</td>\n",
       "      <td>1610</td>\n",
       "      <td>53.5</td>\n",
       "      <td>active</td>\n",
       "      <td>cox_rich_and_perez</td>\n",
       "      <td>64.20</td>\n",
       "    </tr>\n",
       "    <tr>\n",
       "      <th>327</th>\n",
       "      <td>328</td>\n",
       "      <td>century_frozen_foods</td>\n",
       "      <td>dairy</td>\n",
       "      <td>780</td>\n",
       "      <td>6.35</td>\n",
       "      <td>discontinued</td>\n",
       "      <td>wood_perkins_and_rodriguez</td>\n",
       "      <td>97.80</td>\n",
       "    </tr>\n",
       "    <tr>\n",
       "      <th>...</th>\n",
       "      <td>...</td>\n",
       "      <td>...</td>\n",
       "      <td>...</td>\n",
       "      <td>...</td>\n",
       "      <td>...</td>\n",
       "      <td>...</td>\n",
       "      <td>...</td>\n",
       "      <td>...</td>\n",
       "    </tr>\n",
       "    <tr>\n",
       "      <th>10033</th>\n",
       "      <td>6961</td>\n",
       "      <td>himself_beverages</td>\n",
       "      <td>produce</td>\n",
       "      <td>182</td>\n",
       "      <td>80.418871</td>\n",
       "      <td>discontinued</td>\n",
       "      <td>cruz_inc</td>\n",
       "      <td>96.50</td>\n",
       "    </tr>\n",
       "    <tr>\n",
       "      <th>10041</th>\n",
       "      <td>6656</td>\n",
       "      <td>job_dairy</td>\n",
       "      <td>bakery</td>\n",
       "      <td>1290</td>\n",
       "      <td>107.374606</td>\n",
       "      <td>backordered</td>\n",
       "      <td>meyer_simmons</td>\n",
       "      <td>128.85</td>\n",
       "    </tr>\n",
       "    <tr>\n",
       "      <th>10045</th>\n",
       "      <td>8994</td>\n",
       "      <td>month_bakery</td>\n",
       "      <td>produce</td>\n",
       "      <td>917</td>\n",
       "      <td>99.368985</td>\n",
       "      <td>active</td>\n",
       "      <td>vazquez_miller_and_shannon</td>\n",
       "      <td>119.24</td>\n",
       "    </tr>\n",
       "    <tr>\n",
       "      <th>10049</th>\n",
       "      <td>7000</td>\n",
       "      <td>science_bakery</td>\n",
       "      <td>dairy</td>\n",
       "      <td>1993</td>\n",
       "      <td>105.965485</td>\n",
       "      <td>backordered</td>\n",
       "      <td>kelly_patterson_and_garza</td>\n",
       "      <td>127.16</td>\n",
       "    </tr>\n",
       "    <tr>\n",
       "      <th>10052</th>\n",
       "      <td>819</td>\n",
       "      <td>face_snacks</td>\n",
       "      <td>dairy</td>\n",
       "      <td>1367</td>\n",
       "      <td>176.127928</td>\n",
       "      <td>discontinued</td>\n",
       "      <td>hicks_english</td>\n",
       "      <td>211.35</td>\n",
       "    </tr>\n",
       "  </tbody>\n",
       "</table>\n",
       "<p>248 rows × 8 columns</p>\n",
       "</div>"
      ],
      "text/plain": [
       "       product_id          product_name category  supplier_id   unit_cost        status                       brand  list_price\n",
       "4               5    place_frozen_foods   bakery          964        73.3   backordered  leblanc_james_and_thompson       87.96\n",
       "135           136            sell_dairy    dairy         1145  174.768661   backordered               thomas_wilson      209.72\n",
       "138           139     free_frozen_foods   snacks         1941       145.1   backordered                 woodard_plc      174.12\n",
       "290           291        develop_bakery   bakery         1610        53.5        active          cox_rich_and_perez       64.20\n",
       "327           328  century_frozen_foods    dairy          780        6.35  discontinued  wood_perkins_and_rodriguez       97.80\n",
       "...           ...                   ...      ...          ...         ...           ...                         ...         ...\n",
       "10033        6961     himself_beverages  produce          182   80.418871  discontinued                    cruz_inc       96.50\n",
       "10041        6656             job_dairy   bakery         1290  107.374606   backordered               meyer_simmons      128.85\n",
       "10045        8994          month_bakery  produce          917   99.368985        active  vazquez_miller_and_shannon      119.24\n",
       "10049        7000        science_bakery    dairy         1993  105.965485   backordered   kelly_patterson_and_garza      127.16\n",
       "10052         819           face_snacks    dairy         1367  176.127928  discontinued               hicks_english      211.35\n",
       "\n",
       "[248 rows x 8 columns]"
      ]
     },
     "metadata": {},
     "output_type": "display_data"
    }
   ],
   "source": [
    "outlier_limit_bounds(df_products_clean, 'list_price', bound='both', clamp_zero=True)"
   ]
  },
  {
   "cell_type": "markdown",
   "id": "36f2f33d",
   "metadata": {},
   "source": [
    "#### 3.1.5 Descriptive statistics for salesforce_clean dataset, quantitive values."
   ]
  },
  {
   "cell_type": "markdown",
   "id": "28b84fe5",
   "metadata": {},
   "source": [
    "<table>\n",
    "  <thead>\n",
    "    <tr>\n",
    "      <th>CV (%)</th>\n",
    "      <th>Interpretation for Coefficient of Variation</th>\n",
    "    </tr>\n",
    "  </thead>\n",
    "  <tbody>\n",
    "    <tr>\n",
    "      <td><small><strong>0–10%</strong></small></td>\n",
    "      <td><small><strong>Very low</strong> variability → <strong>very reliable</strong> Mean</small></td>\n",
    "    </tr>\n",
    "    <tr>\n",
    "      <td><small><strong>10–20%</strong></small></td>\n",
    "      <td><small><strong>Moderate</strong> variability → <strong>reliable</strong> Mean</small></td>\n",
    "    </tr>\n",
    "    <tr>\n",
    "      <td><small><strong>20–30%</strong></small></td>\n",
    "      <td><small><strong>Considerable</strong> variability → <strong>some what skewed</strong> Mean</small></td>\n",
    "    </tr>\n",
    "    <tr>\n",
    "      <td><small><strong>>30%</strong></small></td>\n",
    "      <td><small>High<strong> variability</strong> → <strong>prefer</strong> Median</small></td>\n",
    "    </tr>\n",
    "  </tbody>\n",
    "</table>\n"
   ]
  },
  {
   "cell_type": "code",
   "execution_count": null,
   "id": "cce49370",
   "metadata": {},
   "outputs": [
    {
     "data": {
      "application/vnd.microsoft.datawrangler.viewer.v0+json": {
       "columns": [
        {
         "name": "index",
         "rawType": "object",
         "type": "string"
        },
        {
         "name": "total_sales",
         "rawType": "float64",
         "type": "float"
        }
       ],
       "ref": "e371a015-61a4-4f95-bae7-19c35a46a4d5",
       "rows": [
        [
         "count",
         "2006.0"
        ],
        [
         "mean",
         "55732.06088733798"
        ],
        [
         "std",
         "29207.401709145408"
        ],
        [
         "min",
         "10106.1"
        ],
        [
         "25%",
         "32457.225000000002"
        ],
        [
         "50%",
         "54423.78"
        ],
        [
         "75%",
         "77539.1275"
        ],
        [
         "max",
         "304984.18"
        ]
       ],
       "shape": {
        "columns": 1,
        "rows": 8
       }
      },
      "text/plain": [
       "count      2006.000000\n",
       "mean      55732.060887\n",
       "std       29207.401709\n",
       "min       10106.100000\n",
       "25%       32457.225000\n",
       "50%       54423.780000\n",
       "75%       77539.127500\n",
       "max      304984.180000\n",
       "Name: total_sales, dtype: float64"
      ]
     },
     "metadata": {},
     "output_type": "display_data"
    }
   ],
   "source": [
    "df_salesforce_clean['total_sales'].describe()"
   ]
  },
  {
   "cell_type": "code",
   "execution_count": null,
   "id": "efcd293a",
   "metadata": {},
   "outputs": [
    {
     "data": {
      "application/vnd.microsoft.datawrangler.viewer.v0+json": {
       "columns": [
        {
         "name": "index",
         "rawType": "object",
         "type": "string"
        },
        {
         "name": "effectiveness",
         "rawType": "float64",
         "type": "float"
        }
       ],
       "ref": "f1fc5a18-ca00-4b88-9f6a-966aa2401b4f",
       "rows": [
        [
         "count",
         "2006.0"
        ],
        [
         "mean",
         "0.767124725228787"
        ],
        [
         "std",
         "0.1249084017811793"
        ],
        [
         "min",
         "0.0140671906057974"
        ],
        [
         "25%",
         "0.69"
        ],
        [
         "50%",
         "0.77"
        ],
        [
         "75%",
         "0.86"
        ],
        [
         "max",
         "0.95"
        ]
       ],
       "shape": {
        "columns": 1,
        "rows": 8
       }
      },
      "text/plain": [
       "count    2006.000000\n",
       "mean        0.767125\n",
       "std         0.124908\n",
       "min         0.014067\n",
       "25%         0.690000\n",
       "50%         0.770000\n",
       "75%         0.860000\n",
       "max         0.950000\n",
       "Name: effectiveness, dtype: float64"
      ]
     },
     "metadata": {},
     "output_type": "display_data"
    }
   ],
   "source": [
    "df_salesforce_clean['effectiveness'].describe()"
   ]
  },
  {
   "cell_type": "code",
   "execution_count": null,
   "id": "1757f51d",
   "metadata": {},
   "outputs": [
    {
     "data": {
      "text/html": [
       "> Coefficient of variation for column <i>'total_sales'</i>: <b>52.41 %</b>"
      ],
      "text/plain": [
       "<IPython.core.display.HTML object>"
      ]
     },
     "metadata": {},
     "output_type": "display_data"
    },
    {
     "data": {
      "text/html": [
       "> Skewness of column <i>'total_sales'</i>: <b>1.26</b>"
      ],
      "text/plain": [
       "<IPython.core.display.HTML object>"
      ]
     },
     "metadata": {},
     "output_type": "display_data"
    },
    {
     "data": {
      "text/html": [
       "> High variability: mean may be misleading."
      ],
      "text/plain": [
       "<IPython.core.display.HTML object>"
      ]
     },
     "metadata": {},
     "output_type": "display_data"
    },
    {
     "data": {
      "text/html": [
       "> Very high skewness: distribution is heavily distorted."
      ],
      "text/plain": [
       "<IPython.core.display.HTML object>"
      ]
     },
     "metadata": {},
     "output_type": "display_data"
    },
    {
     "data": {
      "text/html": [
       "> Recommended central measure: <b>median</b> (due to high variability or strong skewness)"
      ],
      "text/plain": [
       "<IPython.core.display.HTML object>"
      ]
     },
     "metadata": {},
     "output_type": "display_data"
    },
    {
     "data": {
      "text/html": [
       "> Suggested transformation: <i>To reduce right skew: [log(x), sqrt(x), reciprocal(x), Box-Cox].</i>"
      ],
      "text/plain": [
       "<IPython.core.display.HTML object>"
      ]
     },
     "metadata": {},
     "output_type": "display_data"
    }
   ],
   "source": [
    "# Evaluate the coefficient of variation to select the proper measure of central tendency\n",
    "evaluate_central_trend(df_salesforce_clean, 'total_sales')"
   ]
  },
  {
   "cell_type": "code",
   "execution_count": null,
   "id": "81368b83",
   "metadata": {},
   "outputs": [
    {
     "data": {
      "text/html": [
       "> Coefficient of variation for column <i>'effectiveness'</i>: <b>16.28 %</b>"
      ],
      "text/plain": [
       "<IPython.core.display.HTML object>"
      ]
     },
     "metadata": {},
     "output_type": "display_data"
    },
    {
     "data": {
      "text/html": [
       "> Skewness of column <i>'effectiveness'</i>: <b>-1.88</b>"
      ],
      "text/plain": [
       "<IPython.core.display.HTML object>"
      ]
     },
     "metadata": {},
     "output_type": "display_data"
    },
    {
     "data": {
      "text/html": [
       "> Moderate variability: reasonably reliable mean."
      ],
      "text/plain": [
       "<IPython.core.display.HTML object>"
      ]
     },
     "metadata": {},
     "output_type": "display_data"
    },
    {
     "data": {
      "text/html": [
       "> Very high skewness: distribution is heavily distorted."
      ],
      "text/plain": [
       "<IPython.core.display.HTML object>"
      ]
     },
     "metadata": {},
     "output_type": "display_data"
    },
    {
     "data": {
      "text/html": [
       "> Recommended central measure: <b>median</b> (due to high variability or strong skewness)"
      ],
      "text/plain": [
       "<IPython.core.display.HTML object>"
      ]
     },
     "metadata": {},
     "output_type": "display_data"
    },
    {
     "data": {
      "text/html": [
       "> Suggested transformation: <i>To reduce left skew: [square(x), exp(x), reflect+log(x), Yeo-Johnson]. For extreme skew or heavy-tailed distributions, consider quantile or normal score transforms instead of classical ones.</i>"
      ],
      "text/plain": [
       "<IPython.core.display.HTML object>"
      ]
     },
     "metadata": {},
     "output_type": "display_data"
    }
   ],
   "source": [
    "evaluate_central_trend(df_salesforce_clean, 'effectiveness')"
   ]
  },
  {
   "cell_type": "code",
   "execution_count": null,
   "id": "d816f8a6",
   "metadata": {},
   "outputs": [
    {
     "data": {
      "text/html": [
       "> Outlier thresholds for <i>'total_sales'</i>: \n",
       "> Lower = <b>0.000</b>, > Upper = <b>145161.981</b>"
      ],
      "text/plain": [
       "<IPython.core.display.HTML object>"
      ]
     },
     "metadata": {},
     "output_type": "display_data"
    },
    {
     "data": {
      "text/html": [
       "- - -"
      ],
      "text/plain": [
       "<IPython.core.display.HTML object>"
      ]
     },
     "metadata": {},
     "output_type": "display_data"
    },
    {
     "data": {
      "text/html": [
       "> Outliers:"
      ],
      "text/plain": [
       "<IPython.core.display.HTML object>"
      ]
     },
     "metadata": {},
     "output_type": "display_data"
    },
    {
     "data": {
      "application/vnd.microsoft.datawrangler.viewer.v0+json": {
       "columns": [
        {
         "name": "index",
         "rawType": "int64",
         "type": "integer"
        },
        {
         "name": "employee_id",
         "rawType": "int64",
         "type": "integer"
        },
        {
         "name": "employee_name",
         "rawType": "string",
         "type": "string"
        },
        {
         "name": "region",
         "rawType": "category",
         "type": "unknown"
        },
        {
         "name": "total_sales",
         "rawType": "float64",
         "type": "float"
        },
        {
         "name": "effectiveness",
         "rawType": "float64",
         "type": "float"
        }
       ],
       "ref": "4aafdb67-9239-41e3-b9da-cfe18271fd64",
       "rows": [
        [
         "35",
         "36",
         "james_gibson",
         "north",
         "285711.59",
         "0.82"
        ],
        [
         "741",
         "742",
         "kenneth_nelson",
         "east",
         "244232.6",
         "0.71"
        ],
        [
         "811",
         "812",
         "briana_mcdonald",
         "east",
         "216686.32",
         "0.9"
        ],
        [
         "813",
         "814",
         "amanda_carroll",
         "south",
         "247344.63",
         "0.76"
        ],
        [
         "1179",
         "1180",
         "jenna_pittman",
         "south",
         "304984.18",
         "0.71"
        ],
        [
         "1693",
         "1694",
         "jennifer_ortiz",
         "east",
         "146798.72",
         "0.63"
        ],
        [
         "1795",
         "1796",
         "keith_roberts",
         "north",
         "154181.17",
         "0.87"
        ],
        [
         "1858",
         "1859",
         "rachel_morgan",
         "east",
         "254252.54",
         "0.81"
        ],
        [
         "1906",
         "1907",
         "katie_preston",
         "north",
         "212858.23",
         "0.83"
        ],
        [
         "1967",
         "1968",
         "robert_payne",
         "south",
         "187479.37",
         "0.63"
        ],
        [
         "2003",
         "632",
         "james_meadows",
         "east",
         "212357.61",
         "0.92"
        ]
       ],
       "shape": {
        "columns": 5,
        "rows": 11
       }
      },
      "text/html": [
       "<div>\n",
       "<style scoped>\n",
       "    .dataframe tbody tr th:only-of-type {\n",
       "        vertical-align: middle;\n",
       "    }\n",
       "\n",
       "    .dataframe tbody tr th {\n",
       "        vertical-align: top;\n",
       "    }\n",
       "\n",
       "    .dataframe thead th {\n",
       "        text-align: right;\n",
       "    }\n",
       "</style>\n",
       "<table border=\"1\" class=\"dataframe\">\n",
       "  <thead>\n",
       "    <tr style=\"text-align: right;\">\n",
       "      <th></th>\n",
       "      <th>employee_id</th>\n",
       "      <th>employee_name</th>\n",
       "      <th>region</th>\n",
       "      <th>total_sales</th>\n",
       "      <th>effectiveness</th>\n",
       "    </tr>\n",
       "  </thead>\n",
       "  <tbody>\n",
       "    <tr>\n",
       "      <th>35</th>\n",
       "      <td>36</td>\n",
       "      <td>james_gibson</td>\n",
       "      <td>north</td>\n",
       "      <td>285711.59</td>\n",
       "      <td>0.82</td>\n",
       "    </tr>\n",
       "    <tr>\n",
       "      <th>741</th>\n",
       "      <td>742</td>\n",
       "      <td>kenneth_nelson</td>\n",
       "      <td>east</td>\n",
       "      <td>244232.60</td>\n",
       "      <td>0.71</td>\n",
       "    </tr>\n",
       "    <tr>\n",
       "      <th>811</th>\n",
       "      <td>812</td>\n",
       "      <td>briana_mcdonald</td>\n",
       "      <td>east</td>\n",
       "      <td>216686.32</td>\n",
       "      <td>0.90</td>\n",
       "    </tr>\n",
       "    <tr>\n",
       "      <th>813</th>\n",
       "      <td>814</td>\n",
       "      <td>amanda_carroll</td>\n",
       "      <td>south</td>\n",
       "      <td>247344.63</td>\n",
       "      <td>0.76</td>\n",
       "    </tr>\n",
       "    <tr>\n",
       "      <th>1179</th>\n",
       "      <td>1180</td>\n",
       "      <td>jenna_pittman</td>\n",
       "      <td>south</td>\n",
       "      <td>304984.18</td>\n",
       "      <td>0.71</td>\n",
       "    </tr>\n",
       "    <tr>\n",
       "      <th>1693</th>\n",
       "      <td>1694</td>\n",
       "      <td>jennifer_ortiz</td>\n",
       "      <td>east</td>\n",
       "      <td>146798.72</td>\n",
       "      <td>0.63</td>\n",
       "    </tr>\n",
       "    <tr>\n",
       "      <th>1795</th>\n",
       "      <td>1796</td>\n",
       "      <td>keith_roberts</td>\n",
       "      <td>north</td>\n",
       "      <td>154181.17</td>\n",
       "      <td>0.87</td>\n",
       "    </tr>\n",
       "    <tr>\n",
       "      <th>1858</th>\n",
       "      <td>1859</td>\n",
       "      <td>rachel_morgan</td>\n",
       "      <td>east</td>\n",
       "      <td>254252.54</td>\n",
       "      <td>0.81</td>\n",
       "    </tr>\n",
       "    <tr>\n",
       "      <th>1906</th>\n",
       "      <td>1907</td>\n",
       "      <td>katie_preston</td>\n",
       "      <td>north</td>\n",
       "      <td>212858.23</td>\n",
       "      <td>0.83</td>\n",
       "    </tr>\n",
       "    <tr>\n",
       "      <th>1967</th>\n",
       "      <td>1968</td>\n",
       "      <td>robert_payne</td>\n",
       "      <td>south</td>\n",
       "      <td>187479.37</td>\n",
       "      <td>0.63</td>\n",
       "    </tr>\n",
       "    <tr>\n",
       "      <th>2003</th>\n",
       "      <td>632</td>\n",
       "      <td>james_meadows</td>\n",
       "      <td>east</td>\n",
       "      <td>212357.61</td>\n",
       "      <td>0.92</td>\n",
       "    </tr>\n",
       "  </tbody>\n",
       "</table>\n",
       "</div>"
      ],
      "text/plain": [
       "      employee_id    employee_name region  total_sales  effectiveness\n",
       "35             36     james_gibson  north    285711.59           0.82\n",
       "741           742   kenneth_nelson   east    244232.60           0.71\n",
       "811           812  briana_mcdonald   east    216686.32           0.90\n",
       "813           814   amanda_carroll  south    247344.63           0.76\n",
       "1179         1180    jenna_pittman  south    304984.18           0.71\n",
       "1693         1694   jennifer_ortiz   east    146798.72           0.63\n",
       "1795         1796    keith_roberts  north    154181.17           0.87\n",
       "1858         1859    rachel_morgan   east    254252.54           0.81\n",
       "1906         1907    katie_preston  north    212858.23           0.83\n",
       "1967         1968     robert_payne  south    187479.37           0.63\n",
       "2003          632    james_meadows   east    212357.61           0.92"
      ]
     },
     "metadata": {},
     "output_type": "display_data"
    }
   ],
   "source": [
    "# Evaluate boundary thresholds and detect potential outliers\n",
    "outlier_limit_bounds(df_salesforce_clean, 'total_sales', bound='upper', clamp_zero=True)"
   ]
  },
  {
   "cell_type": "code",
   "execution_count": null,
   "id": "d9a04ecd",
   "metadata": {},
   "outputs": [
    {
     "data": {
      "text/html": [
       "> Outlier thresholds for <i>'effectiveness'</i>: \n",
       "> Lower = <b>0.435</b>, > Upper = <b>1.115</b>"
      ],
      "text/plain": [
       "<IPython.core.display.HTML object>"
      ]
     },
     "metadata": {},
     "output_type": "display_data"
    },
    {
     "data": {
      "text/html": [
       "> <b>No</b> upper outliers found in column <i>'effectiveness'</i>."
      ],
      "text/plain": [
       "<IPython.core.display.HTML object>"
      ]
     },
     "metadata": {},
     "output_type": "display_data"
    },
    {
     "data": {
      "text/html": [
       "- - -"
      ],
      "text/plain": [
       "<IPython.core.display.HTML object>"
      ]
     },
     "metadata": {},
     "output_type": "display_data"
    },
    {
     "data": {
      "text/html": [
       "> Outliers:"
      ],
      "text/plain": [
       "<IPython.core.display.HTML object>"
      ]
     },
     "metadata": {},
     "output_type": "display_data"
    },
    {
     "data": {
      "application/vnd.microsoft.datawrangler.viewer.v0+json": {
       "columns": [
        {
         "name": "index",
         "rawType": "int64",
         "type": "integer"
        },
        {
         "name": "employee_id",
         "rawType": "int64",
         "type": "integer"
        },
        {
         "name": "employee_name",
         "rawType": "string",
         "type": "string"
        },
        {
         "name": "region",
         "rawType": "category",
         "type": "unknown"
        },
        {
         "name": "total_sales",
         "rawType": "float64",
         "type": "float"
        },
        {
         "name": "effectiveness",
         "rawType": "float64",
         "type": "float"
        }
       ],
       "ref": "ff5c4595-a045-4d21-bcdc-3eaf075afc87",
       "rows": [
        [
         "7",
         "8",
         "mitchell_thomas",
         "east",
         "71050.8",
         "0.0141066053741298"
        ],
        [
         "34",
         "35",
         "melissa_rogers",
         "north",
         "27109.95",
         "0.0962241674362765"
        ],
        [
         "217",
         "218",
         "ryan_hansen",
         "east",
         "38642.52",
         "0.0333137338889244"
        ],
        [
         "270",
         "271",
         "susan_perkins",
         "west",
         "23865.54",
         "0.0533497958727405"
        ],
        [
         "431",
         "432",
         "janet_hansen",
         "north",
         "25172.49",
         "0.0140671906057974"
        ],
        [
         "596",
         "597",
         "toni_hoffman",
         "south",
         "59507.21",
         "0.0645323780336069"
        ],
        [
         "640",
         "641",
         "alexandra_ho",
         "east",
         "64863.64",
         "0.0257189436157264"
        ],
        [
         "658",
         "659",
         "danielle_gill",
         "east",
         "46156.18",
         "0.0937923597488472"
        ],
        [
         "721",
         "722",
         "anthony_mcconnell_jr",
         "west",
         "95953.31",
         "0.0520510156070454"
        ],
        [
         "739",
         "740",
         "joshua_hines",
         "north",
         "82681.33",
         "0.0999667452521765"
        ],
        [
         "1058",
         "1059",
         "erin_velez",
         "west",
         "39154.33",
         "0.0949057621773685"
        ],
        [
         "1062",
         "1063",
         "jordan_clark",
         "north",
         "94899.63",
         "0.0704187943962515"
        ],
        [
         "1159",
         "1160",
         "heather_chan",
         "north",
         "76264.51",
         "0.0601211520917241"
        ],
        [
         "1276",
         "1277",
         "lucas_thompson",
         "south",
         "87030.88",
         "0.0475111638181204"
        ],
        [
         "1316",
         "1317",
         "lisa_scott",
         "east",
         "91114.45",
         "0.0351636245504193"
        ],
        [
         "1398",
         "1399",
         "tonya_brown",
         "south",
         "75158.48",
         "0.0397037695973527"
        ],
        [
         "1403",
         "1404",
         "marissa_webb",
         "south",
         "88638.72",
         "0.0343651160992891"
        ],
        [
         "1493",
         "1494",
         "alicia_johnson",
         "south",
         "78488.24",
         "0.0997228317234744"
        ],
        [
         "1559",
         "1560",
         "jon_campbell",
         "south",
         "37330.54",
         "0.0346055848872144"
        ],
        [
         "1571",
         "1572",
         "kathryn_ho",
         "south",
         "71502.48",
         "0.0756192787667513"
        ],
        [
         "1879",
         "1880",
         "kim_lewis",
         "east",
         "23385.42",
         "0.0913249458578501"
        ],
        [
         "1956",
         "1957",
         "jacqueline_brady",
         "north",
         "88821.72",
         "0.0716138495457864"
        ]
       ],
       "shape": {
        "columns": 5,
        "rows": 22
       }
      },
      "text/html": [
       "<div>\n",
       "<style scoped>\n",
       "    .dataframe tbody tr th:only-of-type {\n",
       "        vertical-align: middle;\n",
       "    }\n",
       "\n",
       "    .dataframe tbody tr th {\n",
       "        vertical-align: top;\n",
       "    }\n",
       "\n",
       "    .dataframe thead th {\n",
       "        text-align: right;\n",
       "    }\n",
       "</style>\n",
       "<table border=\"1\" class=\"dataframe\">\n",
       "  <thead>\n",
       "    <tr style=\"text-align: right;\">\n",
       "      <th></th>\n",
       "      <th>employee_id</th>\n",
       "      <th>employee_name</th>\n",
       "      <th>region</th>\n",
       "      <th>total_sales</th>\n",
       "      <th>effectiveness</th>\n",
       "    </tr>\n",
       "  </thead>\n",
       "  <tbody>\n",
       "    <tr>\n",
       "      <th>7</th>\n",
       "      <td>8</td>\n",
       "      <td>mitchell_thomas</td>\n",
       "      <td>east</td>\n",
       "      <td>71050.80</td>\n",
       "      <td>0.014107</td>\n",
       "    </tr>\n",
       "    <tr>\n",
       "      <th>34</th>\n",
       "      <td>35</td>\n",
       "      <td>melissa_rogers</td>\n",
       "      <td>north</td>\n",
       "      <td>27109.95</td>\n",
       "      <td>0.096224</td>\n",
       "    </tr>\n",
       "    <tr>\n",
       "      <th>217</th>\n",
       "      <td>218</td>\n",
       "      <td>ryan_hansen</td>\n",
       "      <td>east</td>\n",
       "      <td>38642.52</td>\n",
       "      <td>0.033314</td>\n",
       "    </tr>\n",
       "    <tr>\n",
       "      <th>270</th>\n",
       "      <td>271</td>\n",
       "      <td>susan_perkins</td>\n",
       "      <td>west</td>\n",
       "      <td>23865.54</td>\n",
       "      <td>0.053350</td>\n",
       "    </tr>\n",
       "    <tr>\n",
       "      <th>431</th>\n",
       "      <td>432</td>\n",
       "      <td>janet_hansen</td>\n",
       "      <td>north</td>\n",
       "      <td>25172.49</td>\n",
       "      <td>0.014067</td>\n",
       "    </tr>\n",
       "    <tr>\n",
       "      <th>596</th>\n",
       "      <td>597</td>\n",
       "      <td>toni_hoffman</td>\n",
       "      <td>south</td>\n",
       "      <td>59507.21</td>\n",
       "      <td>0.064532</td>\n",
       "    </tr>\n",
       "    <tr>\n",
       "      <th>640</th>\n",
       "      <td>641</td>\n",
       "      <td>alexandra_ho</td>\n",
       "      <td>east</td>\n",
       "      <td>64863.64</td>\n",
       "      <td>0.025719</td>\n",
       "    </tr>\n",
       "    <tr>\n",
       "      <th>658</th>\n",
       "      <td>659</td>\n",
       "      <td>danielle_gill</td>\n",
       "      <td>east</td>\n",
       "      <td>46156.18</td>\n",
       "      <td>0.093792</td>\n",
       "    </tr>\n",
       "    <tr>\n",
       "      <th>721</th>\n",
       "      <td>722</td>\n",
       "      <td>anthony_mcconnell_jr</td>\n",
       "      <td>west</td>\n",
       "      <td>95953.31</td>\n",
       "      <td>0.052051</td>\n",
       "    </tr>\n",
       "    <tr>\n",
       "      <th>739</th>\n",
       "      <td>740</td>\n",
       "      <td>joshua_hines</td>\n",
       "      <td>north</td>\n",
       "      <td>82681.33</td>\n",
       "      <td>0.099967</td>\n",
       "    </tr>\n",
       "    <tr>\n",
       "      <th>1058</th>\n",
       "      <td>1059</td>\n",
       "      <td>erin_velez</td>\n",
       "      <td>west</td>\n",
       "      <td>39154.33</td>\n",
       "      <td>0.094906</td>\n",
       "    </tr>\n",
       "    <tr>\n",
       "      <th>1062</th>\n",
       "      <td>1063</td>\n",
       "      <td>jordan_clark</td>\n",
       "      <td>north</td>\n",
       "      <td>94899.63</td>\n",
       "      <td>0.070419</td>\n",
       "    </tr>\n",
       "    <tr>\n",
       "      <th>1159</th>\n",
       "      <td>1160</td>\n",
       "      <td>heather_chan</td>\n",
       "      <td>north</td>\n",
       "      <td>76264.51</td>\n",
       "      <td>0.060121</td>\n",
       "    </tr>\n",
       "    <tr>\n",
       "      <th>1276</th>\n",
       "      <td>1277</td>\n",
       "      <td>lucas_thompson</td>\n",
       "      <td>south</td>\n",
       "      <td>87030.88</td>\n",
       "      <td>0.047511</td>\n",
       "    </tr>\n",
       "    <tr>\n",
       "      <th>1316</th>\n",
       "      <td>1317</td>\n",
       "      <td>lisa_scott</td>\n",
       "      <td>east</td>\n",
       "      <td>91114.45</td>\n",
       "      <td>0.035164</td>\n",
       "    </tr>\n",
       "    <tr>\n",
       "      <th>1398</th>\n",
       "      <td>1399</td>\n",
       "      <td>tonya_brown</td>\n",
       "      <td>south</td>\n",
       "      <td>75158.48</td>\n",
       "      <td>0.039704</td>\n",
       "    </tr>\n",
       "    <tr>\n",
       "      <th>1403</th>\n",
       "      <td>1404</td>\n",
       "      <td>marissa_webb</td>\n",
       "      <td>south</td>\n",
       "      <td>88638.72</td>\n",
       "      <td>0.034365</td>\n",
       "    </tr>\n",
       "    <tr>\n",
       "      <th>1493</th>\n",
       "      <td>1494</td>\n",
       "      <td>alicia_johnson</td>\n",
       "      <td>south</td>\n",
       "      <td>78488.24</td>\n",
       "      <td>0.099723</td>\n",
       "    </tr>\n",
       "    <tr>\n",
       "      <th>1559</th>\n",
       "      <td>1560</td>\n",
       "      <td>jon_campbell</td>\n",
       "      <td>south</td>\n",
       "      <td>37330.54</td>\n",
       "      <td>0.034606</td>\n",
       "    </tr>\n",
       "    <tr>\n",
       "      <th>1571</th>\n",
       "      <td>1572</td>\n",
       "      <td>kathryn_ho</td>\n",
       "      <td>south</td>\n",
       "      <td>71502.48</td>\n",
       "      <td>0.075619</td>\n",
       "    </tr>\n",
       "    <tr>\n",
       "      <th>1879</th>\n",
       "      <td>1880</td>\n",
       "      <td>kim_lewis</td>\n",
       "      <td>east</td>\n",
       "      <td>23385.42</td>\n",
       "      <td>0.091325</td>\n",
       "    </tr>\n",
       "    <tr>\n",
       "      <th>1956</th>\n",
       "      <td>1957</td>\n",
       "      <td>jacqueline_brady</td>\n",
       "      <td>north</td>\n",
       "      <td>88821.72</td>\n",
       "      <td>0.071614</td>\n",
       "    </tr>\n",
       "  </tbody>\n",
       "</table>\n",
       "</div>"
      ],
      "text/plain": [
       "      employee_id         employee_name region  total_sales  effectiveness\n",
       "7               8       mitchell_thomas   east     71050.80       0.014107\n",
       "34             35        melissa_rogers  north     27109.95       0.096224\n",
       "217           218           ryan_hansen   east     38642.52       0.033314\n",
       "270           271         susan_perkins   west     23865.54       0.053350\n",
       "431           432          janet_hansen  north     25172.49       0.014067\n",
       "596           597          toni_hoffman  south     59507.21       0.064532\n",
       "640           641          alexandra_ho   east     64863.64       0.025719\n",
       "658           659         danielle_gill   east     46156.18       0.093792\n",
       "721           722  anthony_mcconnell_jr   west     95953.31       0.052051\n",
       "739           740          joshua_hines  north     82681.33       0.099967\n",
       "1058         1059            erin_velez   west     39154.33       0.094906\n",
       "1062         1063          jordan_clark  north     94899.63       0.070419\n",
       "1159         1160          heather_chan  north     76264.51       0.060121\n",
       "1276         1277        lucas_thompson  south     87030.88       0.047511\n",
       "1316         1317            lisa_scott   east     91114.45       0.035164\n",
       "1398         1399           tonya_brown  south     75158.48       0.039704\n",
       "1403         1404          marissa_webb  south     88638.72       0.034365\n",
       "1493         1494        alicia_johnson  south     78488.24       0.099723\n",
       "1559         1560          jon_campbell  south     37330.54       0.034606\n",
       "1571         1572            kathryn_ho  south     71502.48       0.075619\n",
       "1879         1880             kim_lewis   east     23385.42       0.091325\n",
       "1956         1957      jacqueline_brady  north     88821.72       0.071614"
      ]
     },
     "metadata": {},
     "output_type": "display_data"
    }
   ],
   "source": [
    "outlier_limit_bounds(df_salesforce_clean, 'effectiveness', bound='both', clamp_zero=True)"
   ]
  },
  {
   "cell_type": "markdown",
   "id": "0f128ecd",
   "metadata": {},
   "source": [
    "#### 3.1.6 Descriptive statistics for suppliers_clean dataset, quantitive values."
   ]
  },
  {
   "cell_type": "markdown",
   "id": "a003e0e5",
   "metadata": {},
   "source": [
    "<table>\n",
    "  <thead>\n",
    "    <tr>\n",
    "      <th>CV (%)</th>\n",
    "      <th>Interpretation for Coefficient of Variation</th>\n",
    "    </tr>\n",
    "  </thead>\n",
    "  <tbody>\n",
    "    <tr>\n",
    "      <td><small><strong>0–10%</strong></small></td>\n",
    "      <td><small><strong>Very low</strong> variability → <strong>very reliable</strong> Mean</small></td>\n",
    "    </tr>\n",
    "    <tr>\n",
    "      <td><small><strong>10–20%</strong></small></td>\n",
    "      <td><small><strong>Moderate</strong> variability → <strong>reliable</strong> Mean</small></td>\n",
    "    </tr>\n",
    "    <tr>\n",
    "      <td><small><strong>20–30%</strong></small></td>\n",
    "      <td><small><strong>Considerable</strong> variability → <strong>some what skewed</strong> Mean</small></td>\n",
    "    </tr>\n",
    "    <tr>\n",
    "      <td><small><strong>>30%</strong></small></td>\n",
    "      <td><small>High<strong> variability</strong> → <strong>prefer</strong> Median</small></td>\n",
    "    </tr>\n",
    "  </tbody>\n",
    "</table>\n"
   ]
  },
  {
   "cell_type": "code",
   "execution_count": null,
   "id": "7802d7f1",
   "metadata": {},
   "outputs": [
    {
     "data": {
      "application/vnd.microsoft.datawrangler.viewer.v0+json": {
       "columns": [
        {
         "name": "index",
         "rawType": "object",
         "type": "string"
        },
        {
         "name": "lead_time_days",
         "rawType": "float64",
         "type": "float"
        }
       ],
       "ref": "d36d07f0-b637-44a5-b2fd-2317cabc0225",
       "rows": [
        [
         "count",
         "2000.0"
        ],
        [
         "mean",
         "8.027"
        ],
        [
         "std",
         "3.731652933594992"
        ],
        [
         "min",
         "2.0"
        ],
        [
         "25%",
         "5.0"
        ],
        [
         "50%",
         "8.0"
        ],
        [
         "75%",
         "11.0"
        ],
        [
         "max",
         "14.0"
        ]
       ],
       "shape": {
        "columns": 1,
        "rows": 8
       }
      },
      "text/plain": [
       "count    2000.000000\n",
       "mean        8.027000\n",
       "std         3.731653\n",
       "min         2.000000\n",
       "25%         5.000000\n",
       "50%         8.000000\n",
       "75%        11.000000\n",
       "max        14.000000\n",
       "Name: lead_time_days, dtype: float64"
      ]
     },
     "metadata": {},
     "output_type": "display_data"
    }
   ],
   "source": [
    "df_suppliers_clean['lead_time_days'].describe()"
   ]
  },
  {
   "cell_type": "code",
   "execution_count": null,
   "id": "5468d014",
   "metadata": {},
   "outputs": [
    {
     "data": {
      "application/vnd.microsoft.datawrangler.viewer.v0+json": {
       "columns": [
        {
         "name": "index",
         "rawType": "object",
         "type": "string"
        },
        {
         "name": "rating",
         "rawType": "float64",
         "type": "float"
        }
       ],
       "ref": "37e17aec-28a0-425a-ae23-7c762f34b858",
       "rows": [
        [
         "count",
         "2000.0"
        ],
        [
         "mean",
         "3.989455"
        ],
        [
         "std",
         "0.5750573871138752"
        ],
        [
         "min",
         "3.0"
        ],
        [
         "25%",
         "3.48"
        ],
        [
         "50%",
         "4.0"
        ],
        [
         "75%",
         "4.47"
        ],
        [
         "max",
         "5.0"
        ]
       ],
       "shape": {
        "columns": 1,
        "rows": 8
       }
      },
      "text/plain": [
       "count    2000.000000\n",
       "mean        3.989455\n",
       "std         0.575057\n",
       "min         3.000000\n",
       "25%         3.480000\n",
       "50%         4.000000\n",
       "75%         4.470000\n",
       "max         5.000000\n",
       "Name: rating, dtype: float64"
      ]
     },
     "metadata": {},
     "output_type": "display_data"
    }
   ],
   "source": [
    "df_suppliers_clean['rating'].describe()"
   ]
  },
  {
   "cell_type": "code",
   "execution_count": null,
   "id": "26008502",
   "metadata": {},
   "outputs": [
    {
     "data": {
      "text/html": [
       "> Coefficient of variation for column <i>'lead_time_days'</i>: <b>46.49 %</b>"
      ],
      "text/plain": [
       "<IPython.core.display.HTML object>"
      ]
     },
     "metadata": {},
     "output_type": "display_data"
    },
    {
     "data": {
      "text/html": [
       "> Skewness of column <i>'lead_time_days'</i>: <b>-0.01</b>"
      ],
      "text/plain": [
       "<IPython.core.display.HTML object>"
      ]
     },
     "metadata": {},
     "output_type": "display_data"
    },
    {
     "data": {
      "text/html": [
       "> High variability: mean may be misleading."
      ],
      "text/plain": [
       "<IPython.core.display.HTML object>"
      ]
     },
     "metadata": {},
     "output_type": "display_data"
    },
    {
     "data": {
      "text/html": [
       "> Low skewness: distribution is nearly symmetric."
      ],
      "text/plain": [
       "<IPython.core.display.HTML object>"
      ]
     },
     "metadata": {},
     "output_type": "display_data"
    },
    {
     "data": {
      "text/html": [
       "> Recommended central measure: <b>median</b> (due to high variability or strong skewness)"
      ],
      "text/plain": [
       "<IPython.core.display.HTML object>"
      ]
     },
     "metadata": {},
     "output_type": "display_data"
    }
   ],
   "source": [
    "# Evaluate the coefficient of variation to select the proper measure of central tendency\n",
    "evaluate_central_trend(df_suppliers_clean, 'lead_time_days')"
   ]
  },
  {
   "cell_type": "code",
   "execution_count": null,
   "id": "7ceb873d",
   "metadata": {},
   "outputs": [
    {
     "data": {
      "text/html": [
       "> Coefficient of variation for column <i>'rating'</i>: <b>14.41 %</b>"
      ],
      "text/plain": [
       "<IPython.core.display.HTML object>"
      ]
     },
     "metadata": {},
     "output_type": "display_data"
    },
    {
     "data": {
      "text/html": [
       "> Skewness of column <i>'rating'</i>: <b>0.02</b>"
      ],
      "text/plain": [
       "<IPython.core.display.HTML object>"
      ]
     },
     "metadata": {},
     "output_type": "display_data"
    },
    {
     "data": {
      "text/html": [
       "> Moderate variability: reasonably reliable mean."
      ],
      "text/plain": [
       "<IPython.core.display.HTML object>"
      ]
     },
     "metadata": {},
     "output_type": "display_data"
    },
    {
     "data": {
      "text/html": [
       "> Low skewness: distribution is nearly symmetric."
      ],
      "text/plain": [
       "<IPython.core.display.HTML object>"
      ]
     },
     "metadata": {},
     "output_type": "display_data"
    },
    {
     "data": {
      "text/html": [
       "> Recommended central measure: <b>mean</b> (distribution is stable and symmetric)"
      ],
      "text/plain": [
       "<IPython.core.display.HTML object>"
      ]
     },
     "metadata": {},
     "output_type": "display_data"
    }
   ],
   "source": [
    "evaluate_central_trend(df_suppliers_clean, 'rating')"
   ]
  },
  {
   "cell_type": "code",
   "execution_count": null,
   "id": "cba1a3fd",
   "metadata": {},
   "outputs": [
    {
     "data": {
      "text/html": [
       "> Outlier thresholds for <i>'lead_time_days'</i>: \n",
       "> Lower = <b>0.000</b>, > Upper = <b>20.000</b>"
      ],
      "text/plain": [
       "<IPython.core.display.HTML object>"
      ]
     },
     "metadata": {},
     "output_type": "display_data"
    },
    {
     "data": {
      "text/html": [
       "> <b>No</b> lower outliers found in column <i>'lead_time_days'</i>."
      ],
      "text/plain": [
       "<IPython.core.display.HTML object>"
      ]
     },
     "metadata": {},
     "output_type": "display_data"
    },
    {
     "data": {
      "text/html": [
       "> <b>No</b> upper outliers found in column <i>'lead_time_days'</i>."
      ],
      "text/plain": [
       "<IPython.core.display.HTML object>"
      ]
     },
     "metadata": {},
     "output_type": "display_data"
    },
    {
     "data": {
      "text/html": [
       "- - -"
      ],
      "text/plain": [
       "<IPython.core.display.HTML object>"
      ]
     },
     "metadata": {},
     "output_type": "display_data"
    },
    {
     "data": {
      "text/html": [
       "> Outliers:"
      ],
      "text/plain": [
       "<IPython.core.display.HTML object>"
      ]
     },
     "metadata": {},
     "output_type": "display_data"
    }
   ],
   "source": [
    "# Evaluate boundary thresholds and detect potential outliers\n",
    "outlier_limit_bounds(df_suppliers_clean, 'lead_time_days', bound='both', clamp_zero=True)"
   ]
  },
  {
   "cell_type": "code",
   "execution_count": null,
   "id": "70f0d12b",
   "metadata": {},
   "outputs": [
    {
     "data": {
      "text/html": [
       "> Outlier thresholds for <i>'rating'</i>: \n",
       "> Lower = <b>1.995</b>, > Upper = <b>5.955</b>"
      ],
      "text/plain": [
       "<IPython.core.display.HTML object>"
      ]
     },
     "metadata": {},
     "output_type": "display_data"
    },
    {
     "data": {
      "text/html": [
       "> <b>No</b> lower outliers found in column <i>'rating'</i>."
      ],
      "text/plain": [
       "<IPython.core.display.HTML object>"
      ]
     },
     "metadata": {},
     "output_type": "display_data"
    },
    {
     "data": {
      "text/html": [
       "> <b>No</b> upper outliers found in column <i>'rating'</i>."
      ],
      "text/plain": [
       "<IPython.core.display.HTML object>"
      ]
     },
     "metadata": {},
     "output_type": "display_data"
    },
    {
     "data": {
      "text/html": [
       "- - -"
      ],
      "text/plain": [
       "<IPython.core.display.HTML object>"
      ]
     },
     "metadata": {},
     "output_type": "display_data"
    },
    {
     "data": {
      "text/html": [
       "> Outliers:"
      ],
      "text/plain": [
       "<IPython.core.display.HTML object>"
      ]
     },
     "metadata": {},
     "output_type": "display_data"
    }
   ],
   "source": [
    "outlier_limit_bounds(df_suppliers_clean, 'rating', bound='both', clamp_zero=True)"
   ]
  },
  {
   "cell_type": "markdown",
   "id": "26c7033a",
   "metadata": {},
   "source": [
    "#### 3.1.7 Descriptive statistics for transactions_clean dataset, quantitive values."
   ]
  },
  {
   "cell_type": "markdown",
   "id": "5b2d558c",
   "metadata": {},
   "source": [
    "<table>\n",
    "  <thead>\n",
    "    <tr>\n",
    "      <th>CV (%)</th>\n",
    "      <th>Interpretation for Coefficient of Variation</th>\n",
    "    </tr>\n",
    "  </thead>\n",
    "  <tbody>\n",
    "    <tr>\n",
    "      <td><small><strong>0–10%</strong></small></td>\n",
    "      <td><small><strong>Very low</strong> variability → <strong>very reliable</strong> Mean</small></td>\n",
    "    </tr>\n",
    "    <tr>\n",
    "      <td><small><strong>10–20%</strong></small></td>\n",
    "      <td><small><strong>Moderate</strong> variability → <strong>reliable</strong> Mean</small></td>\n",
    "    </tr>\n",
    "    <tr>\n",
    "      <td><small><strong>20–30%</strong></small></td>\n",
    "      <td><small><strong>Considerable</strong> variability → <strong>some what skewed</strong> Mean</small></td>\n",
    "    </tr>\n",
    "    <tr>\n",
    "      <td><small><strong>>30%</strong></small></td>\n",
    "      <td><small>High<strong> variability</strong> → <strong>prefer</strong> Median</small></td>\n",
    "    </tr>\n",
    "  </tbody>\n",
    "</table>\n"
   ]
  },
  {
   "cell_type": "code",
   "execution_count": null,
   "id": "7be53036",
   "metadata": {},
   "outputs": [
    {
     "data": {
      "application/vnd.microsoft.datawrangler.viewer.v0+json": {
       "columns": [
        {
         "name": "index",
         "rawType": "object",
         "type": "string"
        },
        {
         "name": "units_sold",
         "rawType": "float64",
         "type": "float"
        }
       ],
       "ref": "c9c120b0-b1b7-44d4-b513-dfc47691d489",
       "rows": [
        [
         "count",
         "20078.0"
        ],
        [
         "mean",
         "5.13362884749477"
        ],
        [
         "std",
         "3.001024827048387"
        ],
        [
         "min",
         "1.0"
        ],
        [
         "25%",
         "3.0"
        ],
        [
         "50%",
         "5.0"
        ],
        [
         "75%",
         "7.0"
        ],
        [
         "max",
         "28.0"
        ]
       ],
       "shape": {
        "columns": 1,
        "rows": 8
       }
      },
      "text/plain": [
       "count    20078.000000\n",
       "mean         5.133629\n",
       "std          3.001025\n",
       "min          1.000000\n",
       "25%          3.000000\n",
       "50%          5.000000\n",
       "75%          7.000000\n",
       "max         28.000000\n",
       "Name: units_sold, dtype: float64"
      ]
     },
     "metadata": {},
     "output_type": "display_data"
    }
   ],
   "source": [
    "df_transactions_clean['units_sold'].describe()"
   ]
  },
  {
   "cell_type": "code",
   "execution_count": null,
   "id": "855838b7",
   "metadata": {},
   "outputs": [
    {
     "data": {
      "application/vnd.microsoft.datawrangler.viewer.v0+json": {
       "columns": [
        {
         "name": "index",
         "rawType": "object",
         "type": "string"
        },
        {
         "name": "list_price",
         "rawType": "float64",
         "type": "float"
        }
       ],
       "ref": "ab40e0b5-f540-4315-9218-e9eea2d8a410",
       "rows": [
        [
         "count",
         "20078.0"
        ],
        [
         "mean",
         "16.469316648660534"
        ],
        [
         "std",
         "17.22511738976273"
        ],
        [
         "min",
         "0.2491442015463742"
        ],
        [
         "25%",
         "7.69"
        ],
        [
         "50%",
         "15.27"
        ],
        [
         "75%",
         "22.55"
        ],
        [
         "max",
         "347.70000000000005"
        ]
       ],
       "shape": {
        "columns": 1,
        "rows": 8
       }
      },
      "text/plain": [
       "count    20078.000000\n",
       "mean        16.469317\n",
       "std         17.225117\n",
       "min          0.249144\n",
       "25%          7.690000\n",
       "50%         15.270000\n",
       "75%         22.550000\n",
       "max        347.700000\n",
       "Name: list_price, dtype: float64"
      ]
     },
     "metadata": {},
     "output_type": "display_data"
    }
   ],
   "source": [
    "df_transactions_clean['list_price'].describe()"
   ]
  },
  {
   "cell_type": "code",
   "execution_count": null,
   "id": "84e280c8",
   "metadata": {},
   "outputs": [
    {
     "data": {
      "application/vnd.microsoft.datawrangler.viewer.v0+json": {
       "columns": [
        {
         "name": "index",
         "rawType": "object",
         "type": "string"
        },
        {
         "name": "sales_amount",
         "rawType": "float64",
         "type": "float"
        }
       ],
       "ref": "e44a765c-006a-4468-a74b-c52fb527ecc9",
       "rows": [
        [
         "count",
         "20078.0"
        ],
        [
         "mean",
         "84.1127497758741"
        ],
        [
         "std",
         "105.50661381545144"
        ],
        [
         "min",
         "0.35"
        ],
        [
         "25%",
         "25.044999999999998"
        ],
        [
         "50%",
         "59.76"
        ],
        [
         "75%",
         "116.67250000000001"
        ],
        [
         "max",
         "2670.3"
        ]
       ],
       "shape": {
        "columns": 1,
        "rows": 8
       }
      },
      "text/plain": [
       "count    20078.000000\n",
       "mean        84.112750\n",
       "std        105.506614\n",
       "min          0.350000\n",
       "25%         25.045000\n",
       "50%         59.760000\n",
       "75%        116.672500\n",
       "max       2670.300000\n",
       "Name: sales_amount, dtype: float64"
      ]
     },
     "metadata": {},
     "output_type": "display_data"
    }
   ],
   "source": [
    "df_transactions_clean['sales_amount'].describe()"
   ]
  },
  {
   "cell_type": "code",
   "execution_count": null,
   "id": "47b7e871",
   "metadata": {},
   "outputs": [
    {
     "data": {
      "text/html": [
       "> Coefficient of variation for column <i>'units_sold'</i>: <b>58.46 %</b>"
      ],
      "text/plain": [
       "<IPython.core.display.HTML object>"
      ]
     },
     "metadata": {},
     "output_type": "display_data"
    },
    {
     "data": {
      "text/html": [
       "> Skewness of column <i>'units_sold'</i>: <b>1.31</b>"
      ],
      "text/plain": [
       "<IPython.core.display.HTML object>"
      ]
     },
     "metadata": {},
     "output_type": "display_data"
    },
    {
     "data": {
      "text/html": [
       "> High variability: mean may be misleading."
      ],
      "text/plain": [
       "<IPython.core.display.HTML object>"
      ]
     },
     "metadata": {},
     "output_type": "display_data"
    },
    {
     "data": {
      "text/html": [
       "> Very high skewness: distribution is heavily distorted."
      ],
      "text/plain": [
       "<IPython.core.display.HTML object>"
      ]
     },
     "metadata": {},
     "output_type": "display_data"
    },
    {
     "data": {
      "text/html": [
       "> Recommended central measure: <b>median</b> (due to high variability or strong skewness)"
      ],
      "text/plain": [
       "<IPython.core.display.HTML object>"
      ]
     },
     "metadata": {},
     "output_type": "display_data"
    },
    {
     "data": {
      "text/html": [
       "> Suggested transformation: <i>To reduce right skew: [log(x), sqrt(x), reciprocal(x), Box-Cox].</i>"
      ],
      "text/plain": [
       "<IPython.core.display.HTML object>"
      ]
     },
     "metadata": {},
     "output_type": "display_data"
    }
   ],
   "source": [
    "# Evaluate the coefficient of variation to select the proper measure of central tendency\n",
    "evaluate_central_trend(df_transactions_clean, 'units_sold')"
   ]
  },
  {
   "cell_type": "code",
   "execution_count": null,
   "id": "f42b5161",
   "metadata": {},
   "outputs": [
    {
     "data": {
      "text/html": [
       "> Coefficient of variation for column <i>'list_price'</i>: <b>104.59 %</b>"
      ],
      "text/plain": [
       "<IPython.core.display.HTML object>"
      ]
     },
     "metadata": {},
     "output_type": "display_data"
    },
    {
     "data": {
      "text/html": [
       "> Skewness of column <i>'list_price'</i>: <b>9.16</b>"
      ],
      "text/plain": [
       "<IPython.core.display.HTML object>"
      ]
     },
     "metadata": {},
     "output_type": "display_data"
    },
    {
     "data": {
      "text/html": [
       "> High variability: mean may be misleading."
      ],
      "text/plain": [
       "<IPython.core.display.HTML object>"
      ]
     },
     "metadata": {},
     "output_type": "display_data"
    },
    {
     "data": {
      "text/html": [
       "> Very high skewness: distribution is heavily distorted."
      ],
      "text/plain": [
       "<IPython.core.display.HTML object>"
      ]
     },
     "metadata": {},
     "output_type": "display_data"
    },
    {
     "data": {
      "text/html": [
       "> Recommended central measure: <b>median</b> (due to high variability or strong skewness)"
      ],
      "text/plain": [
       "<IPython.core.display.HTML object>"
      ]
     },
     "metadata": {},
     "output_type": "display_data"
    },
    {
     "data": {
      "text/html": [
       "> Suggested transformation: <i>To reduce right skew: [log(x), sqrt(x), reciprocal(x), Box-Cox]. For extreme skew or heavy-tailed distributions, consider quantile or normal score transforms instead of classical ones.</i>"
      ],
      "text/plain": [
       "<IPython.core.display.HTML object>"
      ]
     },
     "metadata": {},
     "output_type": "display_data"
    }
   ],
   "source": [
    "evaluate_central_trend(df_transactions_clean, 'list_price')"
   ]
  },
  {
   "cell_type": "code",
   "execution_count": null,
   "id": "9e0a39d0",
   "metadata": {},
   "outputs": [
    {
     "data": {
      "text/html": [
       "> Coefficient of variation for column <i>'sales_amount'</i>: <b>125.43 %</b>"
      ],
      "text/plain": [
       "<IPython.core.display.HTML object>"
      ]
     },
     "metadata": {},
     "output_type": "display_data"
    },
    {
     "data": {
      "text/html": [
       "> Skewness of column <i>'sales_amount'</i>: <b>8.26</b>"
      ],
      "text/plain": [
       "<IPython.core.display.HTML object>"
      ]
     },
     "metadata": {},
     "output_type": "display_data"
    },
    {
     "data": {
      "text/html": [
       "> High variability: mean may be misleading."
      ],
      "text/plain": [
       "<IPython.core.display.HTML object>"
      ]
     },
     "metadata": {},
     "output_type": "display_data"
    },
    {
     "data": {
      "text/html": [
       "> Very high skewness: distribution is heavily distorted."
      ],
      "text/plain": [
       "<IPython.core.display.HTML object>"
      ]
     },
     "metadata": {},
     "output_type": "display_data"
    },
    {
     "data": {
      "text/html": [
       "> Recommended central measure: <b>median</b> (due to high variability or strong skewness)"
      ],
      "text/plain": [
       "<IPython.core.display.HTML object>"
      ]
     },
     "metadata": {},
     "output_type": "display_data"
    },
    {
     "data": {
      "text/html": [
       "> Suggested transformation: <i>To reduce right skew: [log(x), sqrt(x), reciprocal(x), Box-Cox]. For extreme skew or heavy-tailed distributions, consider quantile or normal score transforms instead of classical ones.</i>"
      ],
      "text/plain": [
       "<IPython.core.display.HTML object>"
      ]
     },
     "metadata": {},
     "output_type": "display_data"
    }
   ],
   "source": [
    "evaluate_central_trend(df_transactions_clean, 'sales_amount')"
   ]
  },
  {
   "cell_type": "code",
   "execution_count": null,
   "id": "9df84ca7",
   "metadata": {},
   "outputs": [
    {
     "data": {
      "text/html": [
       "> Outlier thresholds for <i>'units_sold'</i>: \n",
       "> Lower = <b>0.000</b>, > Upper = <b>13.000</b>"
      ],
      "text/plain": [
       "<IPython.core.display.HTML object>"
      ]
     },
     "metadata": {},
     "output_type": "display_data"
    },
    {
     "data": {
      "text/html": [
       "> <b>No</b> lower outliers found in column <i>'units_sold'</i>."
      ],
      "text/plain": [
       "<IPython.core.display.HTML object>"
      ]
     },
     "metadata": {},
     "output_type": "display_data"
    },
    {
     "data": {
      "text/html": [
       "- - -"
      ],
      "text/plain": [
       "<IPython.core.display.HTML object>"
      ]
     },
     "metadata": {},
     "output_type": "display_data"
    },
    {
     "data": {
      "text/html": [
       "> Outliers:"
      ],
      "text/plain": [
       "<IPython.core.display.HTML object>"
      ]
     },
     "metadata": {},
     "output_type": "display_data"
    },
    {
     "data": {
      "application/vnd.microsoft.datawrangler.viewer.v0+json": {
       "columns": [
        {
         "name": "index",
         "rawType": "int64",
         "type": "integer"
        },
        {
         "name": "transaction_id",
         "rawType": "int64",
         "type": "integer"
        },
        {
         "name": "date",
         "rawType": "datetime64[ns, UTC]",
         "type": "unknown"
        },
        {
         "name": "product_id",
         "rawType": "int64",
         "type": "integer"
        },
        {
         "name": "units_sold",
         "rawType": "int64",
         "type": "integer"
        },
        {
         "name": "customer_id",
         "rawType": "int64",
         "type": "integer"
        },
        {
         "name": "employee_id",
         "rawType": "int64",
         "type": "integer"
        },
        {
         "name": "sales_amount",
         "rawType": "float64",
         "type": "float"
        },
        {
         "name": "list_price",
         "rawType": "float64",
         "type": "float"
        }
       ],
       "ref": "ecddf325-9efc-4810-b320-da364545ae49",
       "rows": [
        [
         "109",
         "110",
         "2025-02-19 08:00:00+00:00",
         "1785",
         "20",
         "563",
         "496",
         "101.0",
         "5.05"
        ],
        [
         "390",
         "389",
         "2024-03-13 07:00:00+00:00",
         "2107",
         "26",
         "3755",
         "1849",
         "339.04",
         "13.04"
        ],
        [
         "423",
         "422",
         "2024-04-20 07:00:00+00:00",
         "5452",
         "21",
         "763",
         "1685",
         "157.71",
         "7.51"
        ],
        [
         "481",
         "480",
         "2024-08-04 07:00:00+00:00",
         "8840",
         "18",
         "3205",
         "1036",
         "190.98",
         "10.61"
        ],
        [
         "504",
         "503",
         "2025-02-10 08:00:00+00:00",
         "9796",
         "18",
         "4681",
         "229",
         "416.16",
         "23.12"
        ],
        [
         "589",
         "588",
         "2024-11-09 08:00:00+00:00",
         "35",
         "20",
         "2214",
         "1300",
         "82.6",
         "4.13"
        ],
        [
         "599",
         "598",
         "2023-08-19 07:00:00+00:00",
         "3277",
         "17",
         "4119",
         "1633",
         "241.06",
         "14.18"
        ],
        [
         "722",
         "721",
         "2025-07-01 07:00:00+00:00",
         "2767",
         "19",
         "3244",
         "756",
         "463.98",
         "24.42"
        ],
        [
         "782",
         "781",
         "2024-06-29 07:00:00+00:00",
         "3615",
         "25",
         "995",
         "5",
         "230.25",
         "9.21"
        ],
        [
         "974",
         "972",
         "2023-10-26 07:00:00+00:00",
         "1979",
         "27",
         "1276",
         "1428",
         "586.98",
         "21.74"
        ],
        [
         "1061",
         "1059",
         "2024-05-28 07:00:00+00:00",
         "7413",
         "20",
         "2208",
         "793",
         "581.6",
         "29.08"
        ],
        [
         "1123",
         "1121",
         "2024-06-27 07:00:00+00:00",
         "4225",
         "16",
         "2342",
         "1135",
         "399.52",
         "24.97"
        ],
        [
         "1129",
         "1127",
         "2025-04-17 07:00:00+00:00",
         "9729",
         "19",
         "323",
         "1458",
         "501.98",
         "26.42"
        ],
        [
         "1176",
         "1173",
         "2024-03-17 07:00:00+00:00",
         "5191",
         "28",
         "1993",
         "1998",
         "165.76",
         "5.92"
        ],
        [
         "1212",
         "1209",
         "2023-09-14 07:00:00+00:00",
         "2991",
         "17",
         "707",
         "1327",
         "140.42",
         "8.26"
        ],
        [
         "1472",
         "1468",
         "2024-10-27 07:00:00+00:00",
         "3584",
         "24",
         "324",
         "846",
         "734.64",
         "30.61"
        ],
        [
         "1529",
         "1525",
         "2024-10-09 07:00:00+00:00",
         "635",
         "15",
         "3220",
         "768",
         "437.55",
         "29.17"
        ],
        [
         "1539",
         "1535",
         "2023-07-30 07:00:00+00:00",
         "8087",
         "21",
         "4263",
         "956",
         "324.87",
         "15.47"
        ],
        [
         "1542",
         "1538",
         "2024-08-14 07:00:00+00:00",
         "155",
         "18",
         "2021",
         "1381",
         "361.26",
         "20.07"
        ],
        [
         "1608",
         "1604",
         "2025-05-01 07:00:00+00:00",
         "4267",
         "20",
         "822",
         "152",
         "150.4",
         "7.52"
        ],
        [
         "1613",
         "1609",
         "2024-02-05 08:00:00+00:00",
         "9170",
         "24",
         "1262",
         "469",
         "630.96",
         "26.29"
        ],
        [
         "1689",
         "1685",
         "2024-12-22 08:00:00+00:00",
         "2892",
         "20",
         "2512",
         "1856",
         "124.2",
         "6.21"
        ],
        [
         "1759",
         "1755",
         "2023-08-09 07:00:00+00:00",
         "5308",
         "24",
         "2171",
         "1702",
         "290.4",
         "12.1"
        ],
        [
         "2237",
         "2229",
         "2023-08-30 07:00:00+00:00",
         "6948",
         "23",
         "3520",
         "252",
         "480.7",
         "20.9"
        ],
        [
         "2303",
         "2295",
         "2024-09-19 07:00:00+00:00",
         "9386",
         "21",
         "3462",
         "1290",
         "678.3",
         "32.3"
        ],
        [
         "2328",
         "2320",
         "2024-08-29 07:00:00+00:00",
         "4960",
         "24",
         "4932",
         "651",
         "405.12",
         "16.88"
        ],
        [
         "2344",
         "2336",
         "2024-11-04 08:00:00+00:00",
         "7612",
         "19",
         "4462",
         "1308",
         "480.51",
         "25.29"
        ],
        [
         "2356",
         "2348",
         "2024-06-14 07:00:00+00:00",
         "9171",
         "16",
         "2652",
         "1585",
         "141.76",
         "8.86"
        ],
        [
         "2374",
         "2366",
         "2024-06-08 07:00:00+00:00",
         "6902",
         "16",
         "4890",
         "85",
         "322.08",
         "20.13"
        ],
        [
         "2715",
         "2707",
         "2025-02-25 08:00:00+00:00",
         "4914",
         "26",
         "2926",
         "1833",
         "583.7",
         "22.45"
        ],
        [
         "2911",
         "2902",
         "2024-12-15 08:00:00+00:00",
         "9973",
         "15",
         "4092",
         "1828",
         "412.8",
         "27.52"
        ],
        [
         "3082",
         "3072",
         "2025-04-23 07:00:00+00:00",
         "5330",
         "15",
         "918",
         "1553",
         "42.15",
         "2.81"
        ],
        [
         "3186",
         "3175",
         "2024-11-23 08:00:00+00:00",
         "1698",
         "16",
         "1306",
         "473",
         "110.08",
         "6.88"
        ],
        [
         "3204",
         "3193",
         "2025-01-09 08:00:00+00:00",
         "8542",
         "21",
         "2813",
         "1962",
         "690.06",
         "32.86"
        ],
        [
         "3213",
         "3202",
         "2024-05-22 07:00:00+00:00",
         "6979",
         "18",
         "712",
         "487",
         "23.22",
         "1.29"
        ],
        [
         "3222",
         "3211",
         "2023-12-22 08:00:00+00:00",
         "6213",
         "15",
         "2873",
         "1040",
         "209.4",
         "13.96"
        ],
        [
         "3361",
         "3350",
         "2023-12-13 08:00:00+00:00",
         "1261",
         "25",
         "3239",
         "540",
         "669.5",
         "26.78"
        ],
        [
         "3503",
         "3492",
         "2025-04-06 07:00:00+00:00",
         "3595",
         "17",
         "2068",
         "600",
         "434.86",
         "25.58"
        ],
        [
         "3504",
         "3493",
         "2024-09-10 07:00:00+00:00",
         "4951",
         "17",
         "2768",
         "668",
         "194.65",
         "11.45"
        ],
        [
         "3521",
         "3510",
         "2023-08-05 07:00:00+00:00",
         "6905",
         "25",
         "4242",
         "411",
         "230.0",
         "9.2"
        ],
        [
         "3621",
         "3610",
         "2025-06-24 07:00:00+00:00",
         "7830",
         "21",
         "1387",
         "607",
         "79.59",
         "3.79"
        ],
        [
         "3740",
         "3729",
         "2024-11-09 08:00:00+00:00",
         "878",
         "24",
         "2258",
         "141",
         "23.52",
         "0.98"
        ],
        [
         "3748",
         "3737",
         "2024-03-15 07:00:00+00:00",
         "8040",
         "16",
         "4734",
         "1613",
         "375.2",
         "23.45"
        ],
        [
         "3755",
         "3744",
         "2024-09-08 07:00:00+00:00",
         "4355",
         "15",
         "3342",
         "1168",
         "283.8",
         "18.92"
        ],
        [
         "3758",
         "3747",
         "2024-10-08 07:00:00+00:00",
         "7826",
         "18",
         "2820",
         "1647",
         "497.52",
         "27.64"
        ],
        [
         "3902",
         "3891",
         "2024-09-24 07:00:00+00:00",
         "340",
         "18",
         "1292",
         "1871",
         "132.84",
         "7.38"
        ],
        [
         "3983",
         "3972",
         "2023-12-03 08:00:00+00:00",
         "8341",
         "24",
         "2749",
         "1321",
         "252.48",
         "10.52"
        ],
        [
         "4050",
         "4039",
         "2024-06-26 07:00:00+00:00",
         "7899",
         "19",
         "1613",
         "49",
         "51.3",
         "2.7"
        ],
        [
         "4361",
         "4350",
         "2023-12-16 08:00:00+00:00",
         "3196",
         "28",
         "831",
         "1710",
         "752.36",
         "26.87"
        ],
        [
         "4402",
         "4391",
         "2023-11-09 08:00:00+00:00",
         "6445",
         "14",
         "4736",
         "876",
         "305.9",
         "21.85"
        ]
       ],
       "shape": {
        "columns": 8,
        "rows": 202
       }
      },
      "text/html": [
       "<div>\n",
       "<style scoped>\n",
       "    .dataframe tbody tr th:only-of-type {\n",
       "        vertical-align: middle;\n",
       "    }\n",
       "\n",
       "    .dataframe tbody tr th {\n",
       "        vertical-align: top;\n",
       "    }\n",
       "\n",
       "    .dataframe thead th {\n",
       "        text-align: right;\n",
       "    }\n",
       "</style>\n",
       "<table border=\"1\" class=\"dataframe\">\n",
       "  <thead>\n",
       "    <tr style=\"text-align: right;\">\n",
       "      <th></th>\n",
       "      <th>transaction_id</th>\n",
       "      <th>date</th>\n",
       "      <th>product_id</th>\n",
       "      <th>units_sold</th>\n",
       "      <th>customer_id</th>\n",
       "      <th>employee_id</th>\n",
       "      <th>sales_amount</th>\n",
       "      <th>list_price</th>\n",
       "    </tr>\n",
       "  </thead>\n",
       "  <tbody>\n",
       "    <tr>\n",
       "      <th>109</th>\n",
       "      <td>110</td>\n",
       "      <td>2025-02-19 08:00:00+00:00</td>\n",
       "      <td>1785</td>\n",
       "      <td>20</td>\n",
       "      <td>563</td>\n",
       "      <td>496</td>\n",
       "      <td>101.00</td>\n",
       "      <td>5.05</td>\n",
       "    </tr>\n",
       "    <tr>\n",
       "      <th>390</th>\n",
       "      <td>389</td>\n",
       "      <td>2024-03-13 07:00:00+00:00</td>\n",
       "      <td>2107</td>\n",
       "      <td>26</td>\n",
       "      <td>3755</td>\n",
       "      <td>1849</td>\n",
       "      <td>339.04</td>\n",
       "      <td>13.04</td>\n",
       "    </tr>\n",
       "    <tr>\n",
       "      <th>423</th>\n",
       "      <td>422</td>\n",
       "      <td>2024-04-20 07:00:00+00:00</td>\n",
       "      <td>5452</td>\n",
       "      <td>21</td>\n",
       "      <td>763</td>\n",
       "      <td>1685</td>\n",
       "      <td>157.71</td>\n",
       "      <td>7.51</td>\n",
       "    </tr>\n",
       "    <tr>\n",
       "      <th>481</th>\n",
       "      <td>480</td>\n",
       "      <td>2024-08-04 07:00:00+00:00</td>\n",
       "      <td>8840</td>\n",
       "      <td>18</td>\n",
       "      <td>3205</td>\n",
       "      <td>1036</td>\n",
       "      <td>190.98</td>\n",
       "      <td>10.61</td>\n",
       "    </tr>\n",
       "    <tr>\n",
       "      <th>504</th>\n",
       "      <td>503</td>\n",
       "      <td>2025-02-10 08:00:00+00:00</td>\n",
       "      <td>9796</td>\n",
       "      <td>18</td>\n",
       "      <td>4681</td>\n",
       "      <td>229</td>\n",
       "      <td>416.16</td>\n",
       "      <td>23.12</td>\n",
       "    </tr>\n",
       "    <tr>\n",
       "      <th>...</th>\n",
       "      <td>...</td>\n",
       "      <td>...</td>\n",
       "      <td>...</td>\n",
       "      <td>...</td>\n",
       "      <td>...</td>\n",
       "      <td>...</td>\n",
       "      <td>...</td>\n",
       "      <td>...</td>\n",
       "    </tr>\n",
       "    <tr>\n",
       "      <th>20069</th>\n",
       "      <td>8201</td>\n",
       "      <td>2024-05-09 07:00:00+00:00</td>\n",
       "      <td>6940</td>\n",
       "      <td>16</td>\n",
       "      <td>4444</td>\n",
       "      <td>1318</td>\n",
       "      <td>32.32</td>\n",
       "      <td>2.02</td>\n",
       "    </tr>\n",
       "    <tr>\n",
       "      <th>20070</th>\n",
       "      <td>19179</td>\n",
       "      <td>2023-12-05 08:00:00+00:00</td>\n",
       "      <td>6442</td>\n",
       "      <td>19</td>\n",
       "      <td>1041</td>\n",
       "      <td>1617</td>\n",
       "      <td>251.37</td>\n",
       "      <td>13.23</td>\n",
       "    </tr>\n",
       "    <tr>\n",
       "      <th>20072</th>\n",
       "      <td>15354</td>\n",
       "      <td>2023-07-30 07:00:00+00:00</td>\n",
       "      <td>5227</td>\n",
       "      <td>21</td>\n",
       "      <td>178</td>\n",
       "      <td>1723</td>\n",
       "      <td>378.21</td>\n",
       "      <td>18.01</td>\n",
       "    </tr>\n",
       "    <tr>\n",
       "      <th>20074</th>\n",
       "      <td>6893</td>\n",
       "      <td>2025-01-28 08:00:00+00:00</td>\n",
       "      <td>8314</td>\n",
       "      <td>22</td>\n",
       "      <td>2800</td>\n",
       "      <td>1316</td>\n",
       "      <td>492.14</td>\n",
       "      <td>22.37</td>\n",
       "    </tr>\n",
       "    <tr>\n",
       "      <th>20077</th>\n",
       "      <td>6209</td>\n",
       "      <td>2025-01-01 08:00:00+00:00</td>\n",
       "      <td>9880</td>\n",
       "      <td>22</td>\n",
       "      <td>2586</td>\n",
       "      <td>553</td>\n",
       "      <td>236.06</td>\n",
       "      <td>10.73</td>\n",
       "    </tr>\n",
       "  </tbody>\n",
       "</table>\n",
       "<p>202 rows × 8 columns</p>\n",
       "</div>"
      ],
      "text/plain": [
       "       transaction_id                      date  product_id  units_sold  customer_id  employee_id  sales_amount  list_price\n",
       "109               110 2025-02-19 08:00:00+00:00        1785          20          563          496        101.00        5.05\n",
       "390               389 2024-03-13 07:00:00+00:00        2107          26         3755         1849        339.04       13.04\n",
       "423               422 2024-04-20 07:00:00+00:00        5452          21          763         1685        157.71        7.51\n",
       "481               480 2024-08-04 07:00:00+00:00        8840          18         3205         1036        190.98       10.61\n",
       "504               503 2025-02-10 08:00:00+00:00        9796          18         4681          229        416.16       23.12\n",
       "...               ...                       ...         ...         ...          ...          ...           ...         ...\n",
       "20069            8201 2024-05-09 07:00:00+00:00        6940          16         4444         1318         32.32        2.02\n",
       "20070           19179 2023-12-05 08:00:00+00:00        6442          19         1041         1617        251.37       13.23\n",
       "20072           15354 2023-07-30 07:00:00+00:00        5227          21          178         1723        378.21       18.01\n",
       "20074            6893 2025-01-28 08:00:00+00:00        8314          22         2800         1316        492.14       22.37\n",
       "20077            6209 2025-01-01 08:00:00+00:00        9880          22         2586          553        236.06       10.73\n",
       "\n",
       "[202 rows x 8 columns]"
      ]
     },
     "metadata": {},
     "output_type": "display_data"
    }
   ],
   "source": [
    "# Evaluate boundary thresholds and detect potential outliers\n",
    "outlier_limit_bounds(df_transactions_clean, 'units_sold', bound='both', clamp_zero=True)"
   ]
  },
  {
   "cell_type": "code",
   "execution_count": null,
   "id": "b52d3696",
   "metadata": {},
   "outputs": [
    {
     "data": {
      "text/html": [
       "> Outlier thresholds for <i>'list_price'</i>: \n",
       "> Lower = <b>0.000</b>, > Upper = <b>44.840</b>"
      ],
      "text/plain": [
       "<IPython.core.display.HTML object>"
      ]
     },
     "metadata": {},
     "output_type": "display_data"
    },
    {
     "data": {
      "text/html": [
       "> <b>No</b> lower outliers found in column <i>'list_price'</i>."
      ],
      "text/plain": [
       "<IPython.core.display.HTML object>"
      ]
     },
     "metadata": {},
     "output_type": "display_data"
    },
    {
     "data": {
      "text/html": [
       "- - -"
      ],
      "text/plain": [
       "<IPython.core.display.HTML object>"
      ]
     },
     "metadata": {},
     "output_type": "display_data"
    },
    {
     "data": {
      "text/html": [
       "> Outliers:"
      ],
      "text/plain": [
       "<IPython.core.display.HTML object>"
      ]
     },
     "metadata": {},
     "output_type": "display_data"
    },
    {
     "data": {
      "application/vnd.microsoft.datawrangler.viewer.v0+json": {
       "columns": [
        {
         "name": "index",
         "rawType": "int64",
         "type": "integer"
        },
        {
         "name": "transaction_id",
         "rawType": "int64",
         "type": "integer"
        },
        {
         "name": "date",
         "rawType": "datetime64[ns, UTC]",
         "type": "unknown"
        },
        {
         "name": "product_id",
         "rawType": "int64",
         "type": "integer"
        },
        {
         "name": "units_sold",
         "rawType": "int64",
         "type": "integer"
        },
        {
         "name": "customer_id",
         "rawType": "int64",
         "type": "integer"
        },
        {
         "name": "employee_id",
         "rawType": "int64",
         "type": "integer"
        },
        {
         "name": "sales_amount",
         "rawType": "float64",
         "type": "float"
        },
        {
         "name": "list_price",
         "rawType": "float64",
         "type": "float"
        }
       ],
       "ref": "e74db563-e7ab-4a39-84e2-4a18ffc53e50",
       "rows": [
        [
         "44",
         "45",
         "2024-11-15 08:00:00+00:00",
         "2713",
         "5",
         "227",
         "203",
         "507.0",
         "101.4"
        ],
        [
         "120",
         "121",
         "2024-11-03 07:00:00+00:00",
         "3134",
         "4",
         "4263",
         "1670",
         "832.4",
         "208.1"
        ],
        [
         "164",
         "165",
         "2025-05-14 07:00:00+00:00",
         "2086",
         "1",
         "1420",
         "464",
         "222.4",
         "222.4"
        ],
        [
         "296",
         "296",
         "2025-01-06 08:00:00+00:00",
         "8269",
         "3",
         "4429",
         "774",
         "317.1",
         "105.7"
        ],
        [
         "552",
         "551",
         "2025-04-13 07:00:00+00:00",
         "3134",
         "1",
         "3333",
         "1374",
         "208.1",
         "208.1"
        ],
        [
         "844",
         "842",
         "2023-09-09 07:00:00+00:00",
         "2887",
         "3",
         "2650",
         "1045",
         "318.3",
         "106.1"
        ],
        [
         "1114",
         "1112",
         "2024-10-17 07:00:00+00:00",
         "759",
         "5",
         "4805",
         "1995",
         "1043.0",
         "208.6"
        ],
        [
         "1317",
         "1314",
         "2025-05-02 07:00:00+00:00",
         "6071",
         "9",
         "3495",
         "367",
         "1714.5",
         "190.5"
        ],
        [
         "1319",
         "1316",
         "2024-08-05 07:00:00+00:00",
         "7637",
         "2",
         "1598",
         "233",
         "158.6",
         "79.3"
        ],
        [
         "1728",
         "1724",
         "2025-05-28 07:00:00+00:00",
         "3387",
         "1",
         "4286",
         "1",
         "151.2",
         "151.2"
        ],
        [
         "2015",
         "2008",
         "2025-02-05 08:00:00+00:00",
         "5782",
         "8",
         "4139",
         "72",
         "1914.4",
         "239.3"
        ],
        [
         "2120",
         "2113",
         "2024-12-31 08:00:00+00:00",
         "7959",
         "7",
         "2587",
         "1709",
         "1093.4",
         "156.2"
        ],
        [
         "2180",
         "2172",
         "2024-05-05 07:00:00+00:00",
         "8886",
         "9",
         "3520",
         "1516",
         "1457.1",
         "161.9"
        ],
        [
         "2341",
         "2333",
         "2025-03-30 07:00:00+00:00",
         "759",
         "4",
         "4976",
         "1546",
         "834.4",
         "208.6"
        ],
        [
         "2381",
         "2373",
         "2023-08-01 07:00:00+00:00",
         "6720",
         "6",
         "4006",
         "714",
         "787.8",
         "131.3"
        ],
        [
         "2573",
         "2565",
         "2024-12-30 08:00:00+00:00",
         "1543",
         "5",
         "683",
         "1672",
         "505.0",
         "101.0"
        ],
        [
         "2713",
         "2705",
         "2025-02-27 08:00:00+00:00",
         "4038",
         "4",
         "913",
         "1223",
         "879.2",
         "219.8"
        ],
        [
         "2746",
         "2738",
         "2025-04-26 07:00:00+00:00",
         "1258",
         "4",
         "4454",
         "301",
         "248.0",
         "62.0"
        ],
        [
         "2783",
         "2775",
         "2024-03-02 08:00:00+00:00",
         "859",
         "3",
         "2304",
         "780",
         "714.3",
         "238.1"
        ],
        [
         "2863",
         "2855",
         "2024-07-17 07:00:00+00:00",
         "6872",
         "6",
         "3293",
         "1328",
         "855.0",
         "142.5"
        ],
        [
         "3052",
         "3042",
         "2024-02-07 08:00:00+00:00",
         "8269",
         "2",
         "290",
         "1585",
         "211.4",
         "105.7"
        ],
        [
         "3513",
         "3502",
         "2024-05-22 07:00:00+00:00",
         "1540",
         "8",
         "4883",
         "1416",
         "1428.0",
         "178.5"
        ],
        [
         "3713",
         "3702",
         "2024-07-04 07:00:00+00:00",
         "3465",
         "3",
         "2715",
         "505",
         "727.5",
         "242.5"
        ],
        [
         "3736",
         "3725",
         "2025-04-23 07:00:00+00:00",
         "5048",
         "6",
         "4572",
         "563",
         "1967.4",
         "327.9"
        ],
        [
         "3753",
         "3742",
         "2023-11-16 08:00:00+00:00",
         "5362",
         "9",
         "1324",
         "1060",
         "426.6",
         "47.400000000000006"
        ],
        [
         "4345",
         "4334",
         "2024-12-12 08:00:00+00:00",
         "2330",
         "3",
         "3911",
         "612",
         "254.1",
         "84.7"
        ],
        [
         "4483",
         "4471",
         "2025-01-25 08:00:00+00:00",
         "1540",
         "9",
         "593",
         "1324",
         "1606.5",
         "178.5"
        ],
        [
         "4583",
         "4571",
         "2024-02-22 08:00:00+00:00",
         "2714",
         "9",
         "3167",
         "1384",
         "2181.6",
         "242.4"
        ],
        [
         "4585",
         "4573",
         "2025-01-24 08:00:00+00:00",
         "8269",
         "9",
         "1349",
         "1789",
         "951.3",
         "105.7"
        ],
        [
         "4712",
         "4700",
         "2024-11-14 08:00:00+00:00",
         "1432",
         "2",
         "303",
         "773",
         "695.4",
         "347.70000000000005"
        ],
        [
         "4877",
         "4864",
         "2023-10-18 07:00:00+00:00",
         "8134",
         "9",
         "3068",
         "1963",
         "1863.0",
         "207.0"
        ],
        [
         "4947",
         "4934",
         "2025-03-12 07:00:00+00:00",
         "2887",
         "6",
         "3283",
         "51",
         "636.6",
         "106.1"
        ],
        [
         "5229",
         "5215",
         "2023-11-25 08:00:00+00:00",
         "3438",
         "7",
         "4330",
         "879",
         "1052.8",
         "150.39999999999998"
        ],
        [
         "5437",
         "5420",
         "2023-07-21 07:00:00+00:00",
         "1540",
         "9",
         "1880",
         "239",
         "1606.5",
         "178.5"
        ],
        [
         "5921",
         "5903",
         "2023-08-28 07:00:00+00:00",
         "7637",
         "4",
         "68",
         "1460",
         "317.2",
         "79.3"
        ],
        [
         "6048",
         "6030",
         "2024-12-23 08:00:00+00:00",
         "1127",
         "6",
         "3090",
         "1809",
         "1328.4",
         "221.4"
        ],
        [
         "6105",
         "6087",
         "2024-08-21 07:00:00+00:00",
         "6862",
         "4",
         "3080",
         "513",
         "918.4",
         "229.6"
        ],
        [
         "6253",
         "6234",
         "2023-11-06 08:00:00+00:00",
         "328",
         "2",
         "487",
         "1872",
         "195.6",
         "97.8"
        ],
        [
         "6898",
         "6878",
         "2024-10-23 07:00:00+00:00",
         "7810",
         "1",
         "4581",
         "901",
         "161.0",
         "161.0"
        ],
        [
         "7108",
         "7088",
         "2024-07-06 07:00:00+00:00",
         "7742",
         "1",
         "1561",
         "1040",
         "171.5",
         "171.5"
        ],
        [
         "7109",
         "7089",
         "2024-09-02 07:00:00+00:00",
         "1258",
         "8",
         "2824",
         "1445",
         "496.0",
         "62.0"
        ],
        [
         "7150",
         "7130",
         "2024-01-11 08:00:00+00:00",
         "6071",
         "6",
         "1818",
         "1821",
         "1143.0",
         "190.5"
        ],
        [
         "7166",
         "7146",
         "2024-03-24 07:00:00+00:00",
         "7959",
         "2",
         "424",
         "1558",
         "312.4",
         "156.2"
        ],
        [
         "7268",
         "7247",
         "2025-05-28 07:00:00+00:00",
         "2503",
         "4",
         "4439",
         "1096",
         "530.0",
         "132.5"
        ],
        [
         "7323",
         "7302",
         "2023-11-01 07:00:00+00:00",
         "2330",
         "3",
         "4436",
         "465",
         "254.1",
         "84.7"
        ],
        [
         "7371",
         "7350",
         "2024-03-26 07:00:00+00:00",
         "5155",
         "6",
         "4716",
         "1160",
         "440.4",
         "73.4"
        ],
        [
         "7424",
         "7403",
         "2024-03-06 08:00:00+00:00",
         "2784",
         "4",
         "335",
         "1489",
         "1199.2",
         "299.8"
        ],
        [
         "7517",
         "7496",
         "2024-07-31 07:00:00+00:00",
         "6862",
         "1",
         "1480",
         "421",
         "229.6",
         "229.6"
        ],
        [
         "7523",
         "7502",
         "2025-06-18 07:00:00+00:00",
         "7804",
         "7",
         "1099",
         "778",
         "1969.1",
         "281.3"
        ],
        [
         "7701",
         "7680",
         "2023-12-24 08:00:00+00:00",
         "1662",
         "2",
         "2371",
         "1619",
         "245.8",
         "122.9"
        ]
       ],
       "shape": {
        "columns": 8,
        "rows": 156
       }
      },
      "text/html": [
       "<div>\n",
       "<style scoped>\n",
       "    .dataframe tbody tr th:only-of-type {\n",
       "        vertical-align: middle;\n",
       "    }\n",
       "\n",
       "    .dataframe tbody tr th {\n",
       "        vertical-align: top;\n",
       "    }\n",
       "\n",
       "    .dataframe thead th {\n",
       "        text-align: right;\n",
       "    }\n",
       "</style>\n",
       "<table border=\"1\" class=\"dataframe\">\n",
       "  <thead>\n",
       "    <tr style=\"text-align: right;\">\n",
       "      <th></th>\n",
       "      <th>transaction_id</th>\n",
       "      <th>date</th>\n",
       "      <th>product_id</th>\n",
       "      <th>units_sold</th>\n",
       "      <th>customer_id</th>\n",
       "      <th>employee_id</th>\n",
       "      <th>sales_amount</th>\n",
       "      <th>list_price</th>\n",
       "    </tr>\n",
       "  </thead>\n",
       "  <tbody>\n",
       "    <tr>\n",
       "      <th>44</th>\n",
       "      <td>45</td>\n",
       "      <td>2024-11-15 08:00:00+00:00</td>\n",
       "      <td>2713</td>\n",
       "      <td>5</td>\n",
       "      <td>227</td>\n",
       "      <td>203</td>\n",
       "      <td>507.0</td>\n",
       "      <td>101.4</td>\n",
       "    </tr>\n",
       "    <tr>\n",
       "      <th>120</th>\n",
       "      <td>121</td>\n",
       "      <td>2024-11-03 07:00:00+00:00</td>\n",
       "      <td>3134</td>\n",
       "      <td>4</td>\n",
       "      <td>4263</td>\n",
       "      <td>1670</td>\n",
       "      <td>832.4</td>\n",
       "      <td>208.1</td>\n",
       "    </tr>\n",
       "    <tr>\n",
       "      <th>164</th>\n",
       "      <td>165</td>\n",
       "      <td>2025-05-14 07:00:00+00:00</td>\n",
       "      <td>2086</td>\n",
       "      <td>1</td>\n",
       "      <td>1420</td>\n",
       "      <td>464</td>\n",
       "      <td>222.4</td>\n",
       "      <td>222.4</td>\n",
       "    </tr>\n",
       "    <tr>\n",
       "      <th>296</th>\n",
       "      <td>296</td>\n",
       "      <td>2025-01-06 08:00:00+00:00</td>\n",
       "      <td>8269</td>\n",
       "      <td>3</td>\n",
       "      <td>4429</td>\n",
       "      <td>774</td>\n",
       "      <td>317.1</td>\n",
       "      <td>105.7</td>\n",
       "    </tr>\n",
       "    <tr>\n",
       "      <th>552</th>\n",
       "      <td>551</td>\n",
       "      <td>2025-04-13 07:00:00+00:00</td>\n",
       "      <td>3134</td>\n",
       "      <td>1</td>\n",
       "      <td>3333</td>\n",
       "      <td>1374</td>\n",
       "      <td>208.1</td>\n",
       "      <td>208.1</td>\n",
       "    </tr>\n",
       "    <tr>\n",
       "      <th>...</th>\n",
       "      <td>...</td>\n",
       "      <td>...</td>\n",
       "      <td>...</td>\n",
       "      <td>...</td>\n",
       "      <td>...</td>\n",
       "      <td>...</td>\n",
       "      <td>...</td>\n",
       "      <td>...</td>\n",
       "    </tr>\n",
       "    <tr>\n",
       "      <th>19053</th>\n",
       "      <td>19007</td>\n",
       "      <td>2024-10-02 07:00:00+00:00</td>\n",
       "      <td>2218</td>\n",
       "      <td>2</td>\n",
       "      <td>1369</td>\n",
       "      <td>1354</td>\n",
       "      <td>224.8</td>\n",
       "      <td>112.4</td>\n",
       "    </tr>\n",
       "    <tr>\n",
       "      <th>19101</th>\n",
       "      <td>19055</td>\n",
       "      <td>2025-02-03 08:00:00+00:00</td>\n",
       "      <td>7085</td>\n",
       "      <td>3</td>\n",
       "      <td>4704</td>\n",
       "      <td>883</td>\n",
       "      <td>317.1</td>\n",
       "      <td>105.7</td>\n",
       "    </tr>\n",
       "    <tr>\n",
       "      <th>19419</th>\n",
       "      <td>19373</td>\n",
       "      <td>2023-10-28 07:00:00+00:00</td>\n",
       "      <td>1127</td>\n",
       "      <td>6</td>\n",
       "      <td>1165</td>\n",
       "      <td>905</td>\n",
       "      <td>1328.4</td>\n",
       "      <td>221.4</td>\n",
       "    </tr>\n",
       "    <tr>\n",
       "      <th>19494</th>\n",
       "      <td>19448</td>\n",
       "      <td>2024-06-12 07:00:00+00:00</td>\n",
       "      <td>759</td>\n",
       "      <td>4</td>\n",
       "      <td>3336</td>\n",
       "      <td>516</td>\n",
       "      <td>834.4</td>\n",
       "      <td>208.6</td>\n",
       "    </tr>\n",
       "    <tr>\n",
       "      <th>19959</th>\n",
       "      <td>19913</td>\n",
       "      <td>2023-12-17 08:00:00+00:00</td>\n",
       "      <td>5216</td>\n",
       "      <td>2</td>\n",
       "      <td>2812</td>\n",
       "      <td>199</td>\n",
       "      <td>139.4</td>\n",
       "      <td>69.7</td>\n",
       "    </tr>\n",
       "  </tbody>\n",
       "</table>\n",
       "<p>156 rows × 8 columns</p>\n",
       "</div>"
      ],
      "text/plain": [
       "       transaction_id                      date  product_id  units_sold  customer_id  employee_id  sales_amount  list_price\n",
       "44                 45 2024-11-15 08:00:00+00:00        2713           5          227          203         507.0       101.4\n",
       "120               121 2024-11-03 07:00:00+00:00        3134           4         4263         1670         832.4       208.1\n",
       "164               165 2025-05-14 07:00:00+00:00        2086           1         1420          464         222.4       222.4\n",
       "296               296 2025-01-06 08:00:00+00:00        8269           3         4429          774         317.1       105.7\n",
       "552               551 2025-04-13 07:00:00+00:00        3134           1         3333         1374         208.1       208.1\n",
       "...               ...                       ...         ...         ...          ...          ...           ...         ...\n",
       "19053           19007 2024-10-02 07:00:00+00:00        2218           2         1369         1354         224.8       112.4\n",
       "19101           19055 2025-02-03 08:00:00+00:00        7085           3         4704          883         317.1       105.7\n",
       "19419           19373 2023-10-28 07:00:00+00:00        1127           6         1165          905        1328.4       221.4\n",
       "19494           19448 2024-06-12 07:00:00+00:00         759           4         3336          516         834.4       208.6\n",
       "19959           19913 2023-12-17 08:00:00+00:00        5216           2         2812          199         139.4        69.7\n",
       "\n",
       "[156 rows x 8 columns]"
      ]
     },
     "metadata": {},
     "output_type": "display_data"
    }
   ],
   "source": [
    "outlier_limit_bounds(df_transactions_clean, 'list_price', bound='both', clamp_zero=True)"
   ]
  },
  {
   "cell_type": "code",
   "execution_count": null,
   "id": "6200370a",
   "metadata": {},
   "outputs": [
    {
     "data": {
      "text/html": [
       "> Outlier thresholds for <i>'sales_amount'</i>: \n",
       "> Lower = <b>0.000</b>, > Upper = <b>254.114</b>"
      ],
      "text/plain": [
       "<IPython.core.display.HTML object>"
      ]
     },
     "metadata": {},
     "output_type": "display_data"
    },
    {
     "data": {
      "text/html": [
       "> <b>No</b> lower outliers found in column <i>'sales_amount'</i>."
      ],
      "text/plain": [
       "<IPython.core.display.HTML object>"
      ]
     },
     "metadata": {},
     "output_type": "display_data"
    },
    {
     "data": {
      "text/html": [
       "- - -"
      ],
      "text/plain": [
       "<IPython.core.display.HTML object>"
      ]
     },
     "metadata": {},
     "output_type": "display_data"
    },
    {
     "data": {
      "text/html": [
       "> Outliers:"
      ],
      "text/plain": [
       "<IPython.core.display.HTML object>"
      ]
     },
     "metadata": {},
     "output_type": "display_data"
    },
    {
     "data": {
      "application/vnd.microsoft.datawrangler.viewer.v0+json": {
       "columns": [
        {
         "name": "index",
         "rawType": "int64",
         "type": "integer"
        },
        {
         "name": "transaction_id",
         "rawType": "int64",
         "type": "integer"
        },
        {
         "name": "date",
         "rawType": "datetime64[ns, UTC]",
         "type": "unknown"
        },
        {
         "name": "product_id",
         "rawType": "int64",
         "type": "integer"
        },
        {
         "name": "units_sold",
         "rawType": "int64",
         "type": "integer"
        },
        {
         "name": "customer_id",
         "rawType": "int64",
         "type": "integer"
        },
        {
         "name": "employee_id",
         "rawType": "int64",
         "type": "integer"
        },
        {
         "name": "sales_amount",
         "rawType": "float64",
         "type": "float"
        },
        {
         "name": "list_price",
         "rawType": "float64",
         "type": "float"
        }
       ],
       "ref": "22d832c7-afb2-4de4-8b59-27c71d13edd2",
       "rows": [
        [
         "44",
         "45",
         "2024-11-15 08:00:00+00:00",
         "2713",
         "5",
         "227",
         "203",
         "507.0",
         "101.4"
        ],
        [
         "54",
         "55",
         "2024-05-18 07:00:00+00:00",
         "1021",
         "9",
         "1697",
         "1330",
         "306.9",
         "34.1"
        ],
        [
         "120",
         "121",
         "2024-11-03 07:00:00+00:00",
         "3134",
         "4",
         "4263",
         "1670",
         "832.4",
         "208.1"
        ],
        [
         "166",
         "167",
         "2023-12-13 08:00:00+00:00",
         "6510",
         "9",
         "2230",
         "1191",
         "258.39",
         "28.71"
        ],
        [
         "201",
         "201",
         "2024-07-19 07:00:00+00:00",
         "788",
         "9",
         "2801",
         "606",
         "296.64",
         "32.96"
        ],
        [
         "250",
         "250",
         "2025-02-03 08:00:00+00:00",
         "1411",
         "9",
         "308",
         "458",
         "281.25",
         "31.25"
        ],
        [
         "296",
         "296",
         "2025-01-06 08:00:00+00:00",
         "8269",
         "3",
         "4429",
         "774",
         "317.1",
         "105.7"
        ],
        [
         "342",
         "342",
         "2025-05-12 07:00:00+00:00",
         "8156",
         "9",
         "1385",
         "1205",
         "297.9",
         "33.1"
        ],
        [
         "347",
         "347",
         "2024-04-04 07:00:00+00:00",
         "9558",
         "9",
         "1308",
         "900",
         "267.84",
         "29.76"
        ],
        [
         "374",
         "373",
         "2024-08-06 07:00:00+00:00",
         "8056",
         "8",
         "2904",
         "1748",
         "269.6",
         "33.7"
        ],
        [
         "390",
         "389",
         "2024-03-13 07:00:00+00:00",
         "2107",
         "26",
         "3755",
         "1849",
         "339.04",
         "13.04"
        ],
        [
         "460",
         "459",
         "2024-08-06 07:00:00+00:00",
         "4464",
         "9",
         "2290",
         "781",
         "259.83",
         "28.87"
        ],
        [
         "485",
         "484",
         "2024-11-26 08:00:00+00:00",
         "8411",
         "9",
         "3270",
         "582",
         "272.61",
         "30.29"
        ],
        [
         "504",
         "503",
         "2025-02-10 08:00:00+00:00",
         "9796",
         "18",
         "4681",
         "229",
         "416.16",
         "23.12"
        ],
        [
         "563",
         "562",
         "2025-01-20 08:00:00+00:00",
         "2120",
         "7",
         "505",
         "1810",
         "259.7",
         "37.1"
        ],
        [
         "603",
         "602",
         "2024-02-17 08:00:00+00:00",
         "9936",
         "9",
         "2930",
         "1750",
         "255.33",
         "28.37"
        ],
        [
         "613",
         "612",
         "2023-12-17 08:00:00+00:00",
         "6788",
         "7",
         "992",
         "1556",
         "286.3",
         "40.9"
        ],
        [
         "636",
         "635",
         "2024-06-12 07:00:00+00:00",
         "8466",
         "8",
         "305",
         "1541",
         "268.0",
         "33.5"
        ],
        [
         "722",
         "721",
         "2025-07-01 07:00:00+00:00",
         "2767",
         "19",
         "3244",
         "756",
         "463.98",
         "24.42"
        ],
        [
         "730",
         "729",
         "2023-12-24 08:00:00+00:00",
         "2810",
         "9",
         "409",
         "1231",
         "302.49",
         "33.61"
        ],
        [
         "783",
         "782",
         "2024-01-23 08:00:00+00:00",
         "3588",
         "8",
         "4556",
         "1120",
         "263.12",
         "32.89"
        ],
        [
         "793",
         "792",
         "2024-01-17 08:00:00+00:00",
         "5114",
         "8",
         "254",
         "1159",
         "278.4",
         "34.8"
        ],
        [
         "809",
         "808",
         "2024-05-02 07:00:00+00:00",
         "6814",
         "9",
         "3269",
         "8",
         "260.19",
         "28.91"
        ],
        [
         "844",
         "842",
         "2023-09-09 07:00:00+00:00",
         "2887",
         "3",
         "2650",
         "1045",
         "318.3",
         "106.1"
        ],
        [
         "864",
         "862",
         "2025-07-03 07:00:00+00:00",
         "1111",
         "9",
         "4603",
         "102",
         "279.99",
         "31.11"
        ],
        [
         "880",
         "878",
         "2024-02-03 08:00:00+00:00",
         "2752",
         "9",
         "2297",
         "419",
         "277.92",
         "30.88"
        ],
        [
         "919",
         "917",
         "2025-04-21 07:00:00+00:00",
         "5551",
         "9",
         "4439",
         "1631",
         "255.24",
         "28.36"
        ],
        [
         "926",
         "924",
         "2024-12-09 08:00:00+00:00",
         "1514",
         "8",
         "4892",
         "60",
         "256.08",
         "32.01"
        ],
        [
         "974",
         "972",
         "2023-10-26 07:00:00+00:00",
         "1979",
         "27",
         "1276",
         "1428",
         "586.98",
         "21.74"
        ],
        [
         "980",
         "978",
         "2023-08-19 07:00:00+00:00",
         "1885",
         "9",
         "1567",
         "1740",
         "315.81",
         "35.09"
        ],
        [
         "994",
         "992",
         "2024-01-25 08:00:00+00:00",
         "1889",
         "9",
         "3518",
         "1861",
         "299.61",
         "33.29"
        ],
        [
         "1019",
         "1017",
         "2025-01-25 08:00:00+00:00",
         "7541",
         "9",
         "3793",
         "1946",
         "284.04",
         "31.56"
        ],
        [
         "1031",
         "1029",
         "2023-12-01 08:00:00+00:00",
         "383",
         "9",
         "3327",
         "1889",
         "296.73",
         "32.97"
        ],
        [
         "1061",
         "1059",
         "2024-05-28 07:00:00+00:00",
         "7413",
         "20",
         "2208",
         "793",
         "581.6",
         "29.08"
        ],
        [
         "1114",
         "1112",
         "2024-10-17 07:00:00+00:00",
         "759",
         "5",
         "4805",
         "1995",
         "1043.0",
         "208.6"
        ],
        [
         "1123",
         "1121",
         "2024-06-27 07:00:00+00:00",
         "4225",
         "16",
         "2342",
         "1135",
         "399.52",
         "24.97"
        ],
        [
         "1129",
         "1127",
         "2025-04-17 07:00:00+00:00",
         "9729",
         "19",
         "323",
         "1458",
         "501.98",
         "26.42"
        ],
        [
         "1272",
         "1269",
         "2023-12-29 08:00:00+00:00",
         "1370",
         "9",
         "3307",
         "234",
         "306.27",
         "34.03"
        ],
        [
         "1305",
         "1302",
         "2024-04-24 07:00:00+00:00",
         "5185",
         "9",
         "3238",
         "1206",
         "296.55",
         "32.95"
        ],
        [
         "1317",
         "1314",
         "2025-05-02 07:00:00+00:00",
         "6071",
         "9",
         "3495",
         "367",
         "1714.5",
         "190.5"
        ],
        [
         "1417",
         "1413",
         "2024-01-14 08:00:00+00:00",
         "4480",
         "9",
         "2477",
         "543",
         "294.48",
         "32.72"
        ],
        [
         "1472",
         "1468",
         "2024-10-27 07:00:00+00:00",
         "3584",
         "24",
         "324",
         "846",
         "734.64",
         "30.61"
        ],
        [
         "1490",
         "1486",
         "2023-08-23 07:00:00+00:00",
         "8598",
         "8",
         "39",
         "1313",
         "256.56",
         "32.07"
        ],
        [
         "1529",
         "1525",
         "2024-10-09 07:00:00+00:00",
         "635",
         "15",
         "3220",
         "768",
         "437.55",
         "29.17"
        ],
        [
         "1535",
         "1531",
         "2024-05-05 07:00:00+00:00",
         "9737",
         "9",
         "246",
         "402",
         "284.13",
         "31.57"
        ],
        [
         "1539",
         "1535",
         "2023-07-30 07:00:00+00:00",
         "8087",
         "21",
         "4263",
         "956",
         "324.87",
         "15.47"
        ],
        [
         "1542",
         "1538",
         "2024-08-14 07:00:00+00:00",
         "155",
         "18",
         "2021",
         "1381",
         "361.26",
         "20.07"
        ],
        [
         "1576",
         "1572",
         "2024-01-11 08:00:00+00:00",
         "2434",
         "8",
         "340",
         "1442",
         "268.56",
         "33.57"
        ],
        [
         "1613",
         "1609",
         "2024-02-05 08:00:00+00:00",
         "9170",
         "24",
         "1262",
         "469",
         "630.96",
         "26.29"
        ],
        [
         "1677",
         "1673",
         "2023-08-03 07:00:00+00:00",
         "3571",
         "9",
         "3915",
         "1192",
         "254.88",
         "28.32"
        ]
       ],
       "shape": {
        "columns": 8,
        "rows": 471
       }
      },
      "text/html": [
       "<div>\n",
       "<style scoped>\n",
       "    .dataframe tbody tr th:only-of-type {\n",
       "        vertical-align: middle;\n",
       "    }\n",
       "\n",
       "    .dataframe tbody tr th {\n",
       "        vertical-align: top;\n",
       "    }\n",
       "\n",
       "    .dataframe thead th {\n",
       "        text-align: right;\n",
       "    }\n",
       "</style>\n",
       "<table border=\"1\" class=\"dataframe\">\n",
       "  <thead>\n",
       "    <tr style=\"text-align: right;\">\n",
       "      <th></th>\n",
       "      <th>transaction_id</th>\n",
       "      <th>date</th>\n",
       "      <th>product_id</th>\n",
       "      <th>units_sold</th>\n",
       "      <th>customer_id</th>\n",
       "      <th>employee_id</th>\n",
       "      <th>sales_amount</th>\n",
       "      <th>list_price</th>\n",
       "    </tr>\n",
       "  </thead>\n",
       "  <tbody>\n",
       "    <tr>\n",
       "      <th>44</th>\n",
       "      <td>45</td>\n",
       "      <td>2024-11-15 08:00:00+00:00</td>\n",
       "      <td>2713</td>\n",
       "      <td>5</td>\n",
       "      <td>227</td>\n",
       "      <td>203</td>\n",
       "      <td>507.00</td>\n",
       "      <td>101.40</td>\n",
       "    </tr>\n",
       "    <tr>\n",
       "      <th>54</th>\n",
       "      <td>55</td>\n",
       "      <td>2024-05-18 07:00:00+00:00</td>\n",
       "      <td>1021</td>\n",
       "      <td>9</td>\n",
       "      <td>1697</td>\n",
       "      <td>1330</td>\n",
       "      <td>306.90</td>\n",
       "      <td>34.10</td>\n",
       "    </tr>\n",
       "    <tr>\n",
       "      <th>120</th>\n",
       "      <td>121</td>\n",
       "      <td>2024-11-03 07:00:00+00:00</td>\n",
       "      <td>3134</td>\n",
       "      <td>4</td>\n",
       "      <td>4263</td>\n",
       "      <td>1670</td>\n",
       "      <td>832.40</td>\n",
       "      <td>208.10</td>\n",
       "    </tr>\n",
       "    <tr>\n",
       "      <th>166</th>\n",
       "      <td>167</td>\n",
       "      <td>2023-12-13 08:00:00+00:00</td>\n",
       "      <td>6510</td>\n",
       "      <td>9</td>\n",
       "      <td>2230</td>\n",
       "      <td>1191</td>\n",
       "      <td>258.39</td>\n",
       "      <td>28.71</td>\n",
       "    </tr>\n",
       "    <tr>\n",
       "      <th>201</th>\n",
       "      <td>201</td>\n",
       "      <td>2024-07-19 07:00:00+00:00</td>\n",
       "      <td>788</td>\n",
       "      <td>9</td>\n",
       "      <td>2801</td>\n",
       "      <td>606</td>\n",
       "      <td>296.64</td>\n",
       "      <td>32.96</td>\n",
       "    </tr>\n",
       "    <tr>\n",
       "      <th>...</th>\n",
       "      <td>...</td>\n",
       "      <td>...</td>\n",
       "      <td>...</td>\n",
       "      <td>...</td>\n",
       "      <td>...</td>\n",
       "      <td>...</td>\n",
       "      <td>...</td>\n",
       "      <td>...</td>\n",
       "    </tr>\n",
       "    <tr>\n",
       "      <th>20061</th>\n",
       "      <td>3765</td>\n",
       "      <td>2024-06-27 07:00:00+00:00</td>\n",
       "      <td>5319</td>\n",
       "      <td>21</td>\n",
       "      <td>4694</td>\n",
       "      <td>318</td>\n",
       "      <td>467.25</td>\n",
       "      <td>22.25</td>\n",
       "    </tr>\n",
       "    <tr>\n",
       "      <th>20067</th>\n",
       "      <td>3547</td>\n",
       "      <td>2025-03-14 07:00:00+00:00</td>\n",
       "      <td>3169</td>\n",
       "      <td>20</td>\n",
       "      <td>2778</td>\n",
       "      <td>565</td>\n",
       "      <td>534.40</td>\n",
       "      <td>26.72</td>\n",
       "    </tr>\n",
       "    <tr>\n",
       "      <th>20068</th>\n",
       "      <td>9621</td>\n",
       "      <td>2023-12-18 08:00:00+00:00</td>\n",
       "      <td>7824</td>\n",
       "      <td>16</td>\n",
       "      <td>1737</td>\n",
       "      <td>532</td>\n",
       "      <td>465.76</td>\n",
       "      <td>29.11</td>\n",
       "    </tr>\n",
       "    <tr>\n",
       "      <th>20072</th>\n",
       "      <td>15354</td>\n",
       "      <td>2023-07-30 07:00:00+00:00</td>\n",
       "      <td>5227</td>\n",
       "      <td>21</td>\n",
       "      <td>178</td>\n",
       "      <td>1723</td>\n",
       "      <td>378.21</td>\n",
       "      <td>18.01</td>\n",
       "    </tr>\n",
       "    <tr>\n",
       "      <th>20074</th>\n",
       "      <td>6893</td>\n",
       "      <td>2025-01-28 08:00:00+00:00</td>\n",
       "      <td>8314</td>\n",
       "      <td>22</td>\n",
       "      <td>2800</td>\n",
       "      <td>1316</td>\n",
       "      <td>492.14</td>\n",
       "      <td>22.37</td>\n",
       "    </tr>\n",
       "  </tbody>\n",
       "</table>\n",
       "<p>471 rows × 8 columns</p>\n",
       "</div>"
      ],
      "text/plain": [
       "       transaction_id                      date  product_id  units_sold  customer_id  employee_id  sales_amount  list_price\n",
       "44                 45 2024-11-15 08:00:00+00:00        2713           5          227          203        507.00      101.40\n",
       "54                 55 2024-05-18 07:00:00+00:00        1021           9         1697         1330        306.90       34.10\n",
       "120               121 2024-11-03 07:00:00+00:00        3134           4         4263         1670        832.40      208.10\n",
       "166               167 2023-12-13 08:00:00+00:00        6510           9         2230         1191        258.39       28.71\n",
       "201               201 2024-07-19 07:00:00+00:00         788           9         2801          606        296.64       32.96\n",
       "...               ...                       ...         ...         ...          ...          ...           ...         ...\n",
       "20061            3765 2024-06-27 07:00:00+00:00        5319          21         4694          318        467.25       22.25\n",
       "20067            3547 2025-03-14 07:00:00+00:00        3169          20         2778          565        534.40       26.72\n",
       "20068            9621 2023-12-18 08:00:00+00:00        7824          16         1737          532        465.76       29.11\n",
       "20072           15354 2023-07-30 07:00:00+00:00        5227          21          178         1723        378.21       18.01\n",
       "20074            6893 2025-01-28 08:00:00+00:00        8314          22         2800         1316        492.14       22.37\n",
       "\n",
       "[471 rows x 8 columns]"
      ]
     },
     "metadata": {},
     "output_type": "display_data"
    }
   ],
   "source": [
    "outlier_limit_bounds(df_transactions_clean, 'sales_amount', bound='both', clamp_zero=True)"
   ]
  }
 ],
 "metadata": {
  "kernelspec": {
   "display_name": "base",
   "language": "python",
   "name": "python3"
  },
  "language_info": {
   "name": "python",
   "version": "3.12.7"
  }
 },
 "nbformat": 4,
 "nbformat_minor": 5
}
