{
 "cells": [
  {
   "cell_type": "markdown",
   "id": "a1013021",
   "metadata": {},
   "source": [
    "#### Exploratory Data Analysis (EDA)\n",
    "\n",
    "Dataset: \n",
    "- _customers_clean.csv_\n",
    "- _inventory_clean.csv_\n",
    "- _products_clean.csv_\n",
    "- _salesforce_clean.csv_\n",
    "- _suppliers_clean.csv_\n",
    "- _transactions_clean.csv_\n",
    "\n",
    "Author: Luis Sergio Pastrana Lemus  \n",
    "Date: 2025-07-06"
   ]
  },
  {
   "cell_type": "markdown",
   "id": "ba47d374",
   "metadata": {},
   "source": [
    "# Exploratory Data Analysis – Grocery Store Dataset"
   ]
  },
  {
   "cell_type": "markdown",
   "id": "8f19462b",
   "metadata": {},
   "source": [
    "## __1. Libraries__."
   ]
  },
  {
   "cell_type": "code",
   "execution_count": 11,
   "id": "94199476",
   "metadata": {},
   "outputs": [],
   "source": [
    "from pathlib import Path\n",
    "import sys\n",
    "\n",
    "# Define project root dynamically, gets the current directory from which the notebook belongs and moves one level upper\n",
    "project_root = Path.cwd().parent\n",
    "\n",
    "# Add src to sys.path if it is not already\n",
    "if str(project_root) not in sys.path:\n",
    "\n",
    "    sys.path.append(str(project_root))\n",
    "\n",
    "# Import function directly (more controlled than import *)\n",
    "from src import *\n",
    "\n",
    "\n",
    "from IPython.display import display, HTML\n",
    "import os\n",
    "import pandas as pd"
   ]
  },
  {
   "cell_type": "markdown",
   "id": "cf3f11d4",
   "metadata": {},
   "source": [
    "## __2. Path to Data file__."
   ]
  },
  {
   "cell_type": "code",
   "execution_count": 12,
   "id": "1767a2de",
   "metadata": {},
   "outputs": [],
   "source": [
    "# Build route to data file and upload\n",
    "data_file_path = project_root / \"data\" / \"processed\" / \"clean\"\n",
    "\n",
    "df_customers_clean = load_dataset_from_csv(data_file_path, \"customers_clean.csv\", header='infer', parse_dates=['join_date'])\n",
    "df_inventory_clean = load_dataset_from_csv(data_file_path, \"inventory_clean.csv\", header='infer', parse_dates=['date'])\n",
    "df_products_clean = load_dataset_from_csv(data_file_path, \"products_clean.csv\", header='infer')\n",
    "df_salesforce_clean = load_dataset_from_csv(data_file_path, \"salesforce_clean.csv\", header='infer')\n",
    "df_suppliers_clean = load_dataset_from_csv(data_file_path, \"suppliers_clean.csv\", header='infer')\n",
    "df_transactions_clean = load_dataset_from_csv(data_file_path, \"transactions_clean.csv\", header='infer', parse_dates=['date'])\n",
    "\n",
    "# data_file_path = project_root / \"data\" / \"processed\" / \"feature\"\n",
    "\n",
    "# df_xxx_feature = load_dataset_from_csv(data_file_path, \"xxx_feature.csv\", sep=',', header='infer')"
   ]
  },
  {
   "cell_type": "code",
   "execution_count": null,
   "id": "03b9f101",
   "metadata": {},
   "outputs": [],
   "source": [
    "# Format notebook output\n",
    "format_notebook()"
   ]
  },
  {
   "cell_type": "markdown",
   "id": "da9ebca7",
   "metadata": {},
   "source": [
    "## __3. Exploratory Data Analysis__."
   ]
  },
  {
   "cell_type": "markdown",
   "id": "c7d9003f",
   "metadata": {},
   "source": [
    "### 3.0 Casting Data types."
   ]
  },
  {
   "cell_type": "code",
   "execution_count": 13,
   "id": "02d47f1e",
   "metadata": {},
   "outputs": [],
   "source": [
    "# Call casting dtypes function from features.py and Identifying correctly missing values qith pd.NA\n",
    "\n",
    "# missing values to pd.NA\n",
    "df_inventory_clean = replace_missing_values(df_inventory_clean, include=['warehouse_location'])\n",
    "df_customers_clean = replace_missing_values(df_customers_clean, include=['segment'])\n",
    "\n",
    "# object to string\n",
    "df_products_clean = cast_datatypes(df_products_clean, 'string', c_include=['product_name', 'brand'])\n",
    "df_suppliers_clean = cast_datatypes(df_suppliers_clean, 'string', c_include=['supplier_name', 'contact_info'])\n",
    "df_customers_clean = cast_datatypes(df_customers_clean, 'string', c_include=['customer_name'])\n",
    "df_salesforce_clean = cast_datatypes(df_salesforce_clean, 'string', c_include=['employee_name'])\n",
    "\n",
    "# object to numeric\n",
    "df_products_clean = cast_datatypes(df_products_clean, 'numeric', numeric_type='Float64', c_include=['unit_cost'])\n",
    "df_customers_clean = cast_datatypes(df_customers_clean, 'numeric', numeric_type=\"Float64\", c_include=['total_spent'])\n",
    "\n",
    "# object to category\n",
    "df_products_clean = cast_datatypes(df_products_clean, 'category', c_include=['category', 'status'])\n",
    "df_inventory_clean = cast_datatypes(df_inventory_clean, 'category', c_include=['warehouse_location'])\n",
    "df_customers_clean = cast_datatypes(df_customers_clean, 'category', c_include=['segment'])\n",
    "df_salesforce_clean = cast_datatypes(df_salesforce_clean, 'category', c_include=['region'])\n",
    "\n",
    "# object to datetime\n",
    "df_inventory_clean['date'] = pd.to_datetime(df_inventory_clean['date'], errors='coerce', utc=True)\n",
    "df_customers_clean['join_date'] = pd.to_datetime(df_customers_clean['join_date'], errors='coerce', utc=True)\n",
    "df_transactions_clean['date'] = pd.to_datetime(df_transactions_clean['date'], errors='coerce', utc=True)"
   ]
  },
  {
   "cell_type": "code",
   "execution_count": 14,
   "id": "f7ebe054",
   "metadata": {},
   "outputs": [
    {
     "name": "stdout",
     "output_type": "stream",
     "text": [
      "<class 'pandas.core.frame.DataFrame'>\n",
      "RangeIndex: 5000 entries, 0 to 4999\n",
      "Data columns (total 6 columns):\n",
      " #   Column         Non-Null Count  Dtype              \n",
      "---  ------         --------------  -----              \n",
      " 0   customer_id    5000 non-null   int64              \n",
      " 1   customer_name  5000 non-null   string             \n",
      " 2   join_date      5000 non-null   datetime64[ns, UTC]\n",
      " 3   total_spent    5000 non-null   Float64            \n",
      " 4   frequency      5000 non-null   int64              \n",
      " 5   segment        4850 non-null   category           \n",
      "dtypes: Float64(1), category(1), datetime64[ns, UTC](1), int64(2), string(1)\n",
      "memory usage: 205.3 KB\n"
     ]
    }
   ],
   "source": [
    "df_customers_clean.info()"
   ]
  },
  {
   "cell_type": "code",
   "execution_count": 15,
   "id": "c2f1437d",
   "metadata": {},
   "outputs": [
    {
     "name": "stdout",
     "output_type": "stream",
     "text": [
      "<class 'pandas.core.frame.DataFrame'>\n",
      "RangeIndex: 20000 entries, 0 to 19999\n",
      "Data columns (total 8 columns):\n",
      " #   Column              Non-Null Count  Dtype              \n",
      "---  ------              --------------  -----              \n",
      " 0   inventory_id        20000 non-null  int64              \n",
      " 1   date                20000 non-null  datetime64[ns, UTC]\n",
      " 2   product_id          20000 non-null  int64              \n",
      " 3   beginning_stock     20000 non-null  int64              \n",
      " 4   received            20000 non-null  int64              \n",
      " 5   sold                20000 non-null  int64              \n",
      " 6   warehouse_location  19703 non-null  category           \n",
      " 7   ending_stock        20000 non-null  int64              \n",
      "dtypes: category(1), datetime64[ns, UTC](1), int64(6)\n",
      "memory usage: 1.1 MB\n"
     ]
    }
   ],
   "source": [
    "df_inventory_clean.info()"
   ]
  },
  {
   "cell_type": "code",
   "execution_count": 16,
   "id": "3d9187a6",
   "metadata": {},
   "outputs": [
    {
     "name": "stdout",
     "output_type": "stream",
     "text": [
      "<class 'pandas.core.frame.DataFrame'>\n",
      "RangeIndex: 10000 entries, 0 to 9999\n",
      "Data columns (total 9 columns):\n",
      " #   Column            Non-Null Count  Dtype   \n",
      "---  ------            --------------  -----   \n",
      " 0   product_id        10000 non-null  int64   \n",
      " 1   product_name      10000 non-null  string  \n",
      " 2   category          10000 non-null  category\n",
      " 3   supplier_id       10000 non-null  int64   \n",
      " 4   unit_cost         10000 non-null  Float64 \n",
      " 5   status            10000 non-null  category\n",
      " 6   brand             10000 non-null  string  \n",
      " 7   list_price        10000 non-null  float64 \n",
      " 8   median_unit_cost  10000 non-null  float64 \n",
      "dtypes: Float64(1), category(2), float64(2), int64(2), string(2)\n",
      "memory usage: 576.6 KB\n"
     ]
    }
   ],
   "source": [
    "df_products_clean.info()"
   ]
  },
  {
   "cell_type": "code",
   "execution_count": 17,
   "id": "0fa6ba08",
   "metadata": {},
   "outputs": [
    {
     "name": "stdout",
     "output_type": "stream",
     "text": [
      "<class 'pandas.core.frame.DataFrame'>\n",
      "RangeIndex: 2000 entries, 0 to 1999\n",
      "Data columns (total 5 columns):\n",
      " #   Column         Non-Null Count  Dtype   \n",
      "---  ------         --------------  -----   \n",
      " 0   employee_id    2000 non-null   int64   \n",
      " 1   employee_name  2000 non-null   string  \n",
      " 2   region         2000 non-null   category\n",
      " 3   total_sales    2000 non-null   float64 \n",
      " 4   effectiveness  2000 non-null   float64 \n",
      "dtypes: category(1), float64(2), int64(1), string(1)\n",
      "memory usage: 64.8 KB\n"
     ]
    }
   ],
   "source": [
    "df_salesforce_clean.info()"
   ]
  },
  {
   "cell_type": "code",
   "execution_count": 18,
   "id": "4c23cffd",
   "metadata": {},
   "outputs": [
    {
     "name": "stdout",
     "output_type": "stream",
     "text": [
      "<class 'pandas.core.frame.DataFrame'>\n",
      "RangeIndex: 2000 entries, 0 to 1999\n",
      "Data columns (total 5 columns):\n",
      " #   Column          Non-Null Count  Dtype  \n",
      "---  ------          --------------  -----  \n",
      " 0   supplier_id     2000 non-null   int64  \n",
      " 1   supplier_name   2000 non-null   string \n",
      " 2   lead_time_days  2000 non-null   int64  \n",
      " 3   contact_info    2000 non-null   string \n",
      " 4   rating          2000 non-null   float64\n",
      "dtypes: float64(1), int64(2), string(2)\n",
      "memory usage: 78.3 KB\n"
     ]
    }
   ],
   "source": [
    "df_suppliers_clean.info()"
   ]
  },
  {
   "cell_type": "code",
   "execution_count": 19,
   "id": "8d519589",
   "metadata": {},
   "outputs": [
    {
     "name": "stdout",
     "output_type": "stream",
     "text": [
      "<class 'pandas.core.frame.DataFrame'>\n",
      "RangeIndex: 20000 entries, 0 to 19999\n",
      "Data columns (total 8 columns):\n",
      " #   Column          Non-Null Count  Dtype              \n",
      "---  ------          --------------  -----              \n",
      " 0   transaction_id  20000 non-null  int64              \n",
      " 1   date            20000 non-null  datetime64[ns, UTC]\n",
      " 2   product_id      20000 non-null  int64              \n",
      " 3   units_sold      20000 non-null  int64              \n",
      " 4   customer_id     20000 non-null  int64              \n",
      " 5   employee_id     20000 non-null  int64              \n",
      " 6   list_price      20000 non-null  float64            \n",
      " 7   sales_amount    20000 non-null  float64            \n",
      "dtypes: datetime64[ns, UTC](1), float64(2), int64(5)\n",
      "memory usage: 1.2 MB\n"
     ]
    }
   ],
   "source": [
    "df_transactions_clean.info()"
   ]
  },
  {
   "cell_type": "markdown",
   "id": "ccf94753",
   "metadata": {},
   "source": [
    "### 3.1  Descriptive Statistics."
   ]
  },
  {
   "cell_type": "markdown",
   "id": "845bbb12",
   "metadata": {},
   "source": [
    "#### 3.1.1 Descriptive statistics for Original datasets."
   ]
  },
  {
   "cell_type": "code",
   "execution_count": null,
   "id": "abea6d60",
   "metadata": {},
   "outputs": [],
   "source": [
    "# Descriptive statistics for xxx dataset\n",
    "df_xxx_feature.describe(include='all')"
   ]
  },
  {
   "cell_type": "markdown",
   "id": "7716c535",
   "metadata": {},
   "source": [
    "#### 3.1.2 Descriptive statistics for name dataset, quantitive values."
   ]
  },
  {
   "cell_type": "markdown",
   "id": "14db2021",
   "metadata": {},
   "source": [
    "<table>\n",
    "  <thead>\n",
    "    <tr>\n",
    "      <th>CV (%)</th>\n",
    "      <th>Interpretation for Coefficient of Variation</th>\n",
    "    </tr>\n",
    "  </thead>\n",
    "  <tbody>\n",
    "    <tr>\n",
    "      <td><small><strong>0–10%</strong></small></td>\n",
    "      <td><small><strong>Very low</strong> variability → <strong>very reliable</strong> Mean</small></td>\n",
    "    </tr>\n",
    "    <tr>\n",
    "      <td><small><strong>10–20%</strong></small></td>\n",
    "      <td><small><strong>Moderate</strong> variability → <strong>reliable</strong> Mean</small></td>\n",
    "    </tr>\n",
    "    <tr>\n",
    "      <td><small><strong>20–30%</strong></small></td>\n",
    "      <td><small><strong>Considerable</strong> variability → <strong>some what skewed</strong> Mean</small></td>\n",
    "    </tr>\n",
    "    <tr>\n",
    "      <td><small><strong>>30%</strong></small></td>\n",
    "      <td><small>High<strong> variability</strong> → <strong>prefer</strong> Median</small></td>\n",
    "    </tr>\n",
    "  </tbody>\n",
    "</table>\n"
   ]
  },
  {
   "cell_type": "code",
   "execution_count": null,
   "id": "add13c8a",
   "metadata": {},
   "outputs": [],
   "source": [
    "df_xxx_feature['column_name'].describe()"
   ]
  },
  {
   "cell_type": "code",
   "execution_count": null,
   "id": "9c29769e",
   "metadata": {},
   "outputs": [],
   "source": [
    "# Evaluate the coefficient of variation to select the proper measure of central tendency\n",
    "evaluate_central_trend(df_xxx_feature, 'column_name')"
   ]
  },
  {
   "cell_type": "code",
   "execution_count": null,
   "id": "61754cbb",
   "metadata": {},
   "outputs": [],
   "source": [
    "# Evaluate boundary thresholds and detect potential outliers\n",
    "outlier_limit_bounds(df_xxx_feature, 'column_name', bound='both', clamp_zero=True)"
   ]
  },
  {
   "cell_type": "code",
   "execution_count": null,
   "id": "4c834524",
   "metadata": {},
   "outputs": [],
   "source": [
    "# Show data distribution with detailed statistical info\n",
    "plot_distribution_dispersion(df_, 'column', bins=43)"
   ]
  },
  {
   "cell_type": "markdown",
   "id": "1fb0d3e0",
   "metadata": {},
   "source": [
    "### 3.2 Data Visualization: Distributions and Relationships."
   ]
  },
  {
   "cell_type": "markdown",
   "id": "8943a335",
   "metadata": {},
   "source": [
    "#### 3.2.1 Covariance and Correlation Analysis."
   ]
  },
  {
   "cell_type": "markdown",
   "id": "7806eb2d",
   "metadata": {},
   "source": [
    "##### 3.2.1.1 Covariance Matrix."
   ]
  },
  {
   "cell_type": "code",
   "execution_count": null,
   "id": "092e4f33",
   "metadata": {},
   "outputs": [],
   "source": [
    "# Covariance for services\n",
    "df_xxx_feature[['column_name', 'column_name']].cov()"
   ]
  },
  {
   "cell_type": "markdown",
   "id": "85307bc4",
   "metadata": {},
   "source": [
    "##### 3.2.1.2 Correlation Matrix."
   ]
  },
  {
   "cell_type": "markdown",
   "id": "6608f86b",
   "metadata": {},
   "source": [
    "| Correlation Value     | Interpretation                |\n",
    "| --------------------- | ----------------------------- |\n",
    "| `+0.7` to `+1.0`      | Strong positive correlation   |\n",
    "| `+0.3` to `+0.7`      | Moderate positive correlation |\n",
    "| `0.0` to `+0.3`       | Weak positive correlation     |\n",
    "| `0`                   | No correlation                |\n",
    "| `-0.3` to `0`         | Weak negative correlation     |\n",
    "| `-0.7` to `-0.3`      | Moderate negative correlation |\n",
    "| `-1.0` to `-0.7`      | Strong negative correlation   |\n"
   ]
  },
  {
   "cell_type": "code",
   "execution_count": null,
   "id": "cb1e56c8",
   "metadata": {},
   "outputs": [],
   "source": [
    "# Correlation for services\n",
    "df_xxx_feature[['column_name', 'columna_name']].corr()"
   ]
  },
  {
   "cell_type": "code",
   "execution_count": null,
   "id": "f9305906",
   "metadata": {},
   "outputs": [],
   "source": [
    "evaluate_correlation(df_xxx_feature)"
   ]
  },
  {
   "cell_type": "code",
   "execution_count": null,
   "id": "d085ab8f",
   "metadata": {},
   "outputs": [],
   "source": [
    "plot_scatter_matrix(df_xxx_feature[['column_name', 'column_name']])"
   ]
  },
  {
   "cell_type": "markdown",
   "id": "77a14736",
   "metadata": {},
   "source": [
    "### 3.3 Data Visualization: Data dispersion and outliers."
   ]
  },
  {
   "cell_type": "markdown",
   "id": "69e97fa4",
   "metadata": {},
   "source": [
    "3.3.1 Data dispersion and outliers for ..."
   ]
  },
  {
   "cell_type": "code",
   "execution_count": null,
   "id": "efde93fe",
   "metadata": {},
   "outputs": [],
   "source": [
    "# xxx Distribution Frequency and Frequency density\n",
    "plot_frequency_density(df_xxx_feature['column_name'], bins=np.arange(min, max, step), color='grey', title='Frequency Density of name', \n",
    "                       xlabel='Name (units)', ylabel='Density', xticks_range=(min, max, step), show_kde=True, rotation=0)"
   ]
  },
  {
   "cell_type": "code",
   "execution_count": null,
   "id": "4531dbd4",
   "metadata": {},
   "outputs": [],
   "source": [
    "# xxx data dispersion\n",
    "plot_boxplots(ds_list=[df_xxx_feature['column_name']], xlabels=['name'], ylabel='Values', title='Name Data dispersion', \n",
    "              yticks_range=(min, max, step), rotation=0, color=['grey'])"
   ]
  },
  {
   "cell_type": "markdown",
   "id": "7bc91fb5",
   "metadata": {},
   "source": [
    "#### 3.4 Data visualization for ..."
   ]
  },
  {
   "cell_type": "markdown",
   "id": "fb47c1e3",
   "metadata": {},
   "source": [
    "3.4.1 Data visalization for ..."
   ]
  },
  {
   "cell_type": "code",
   "execution_count": null,
   "id": "e9847fa8",
   "metadata": {},
   "outputs": [],
   "source": [
    "# Plots for insights"
   ]
  },
  {
   "cell_type": "markdown",
   "id": "9e82ace3",
   "metadata": {},
   "source": [
    "## 4. Conclusions and key insights"
   ]
  },
  {
   "cell_type": "markdown",
   "id": "3ae4b02d",
   "metadata": {},
   "source": [
    "### 🎯 Key Findings\n",
    "\n",
    "#### Behavioral Insights\n",
    "\n",
    "- **XXX**: xxx \n",
    "\n",
    "#### Other Insights\n",
    "\n",
    "- **XXX**: xxx \n",
    "\n",
    "### Final Takeaways\n",
    "\n",
    "- **XXX**: xxx \n",
    "\n"
   ]
  }
 ],
 "metadata": {
  "kernelspec": {
   "display_name": "base",
   "language": "python",
   "name": "python3"
  },
  "language_info": {
   "codemirror_mode": {
    "name": "ipython",
    "version": 3
   },
   "file_extension": ".py",
   "mimetype": "text/x-python",
   "name": "python",
   "nbconvert_exporter": "python",
   "pygments_lexer": "ipython3",
   "version": "3.12.7"
  }
 },
 "nbformat": 4,
 "nbformat_minor": 5
}
